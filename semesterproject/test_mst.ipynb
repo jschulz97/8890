{
 "cells": [
  {
   "cell_type": "code",
   "execution_count": 1,
   "id": "black-organization",
   "metadata": {},
   "outputs": [],
   "source": [
    "import numpy as np\n",
    "import mst_graph"
   ]
  },
  {
   "cell_type": "markdown",
   "id": "automated-undergraduate",
   "metadata": {},
   "source": [
    "# Proof of concept MST"
   ]
  },
  {
   "cell_type": "code",
   "execution_count": 5,
   "id": "superb-cause",
   "metadata": {},
   "outputs": [],
   "source": [
    "edges = [\n",
    "    [0,1,1,1,0,0],\n",
    "    [1,0,0,1,0,1],\n",
    "    [1,0,0,1,1,0],\n",
    "    [1,1,1,0,1,1],\n",
    "    [0,0,1,1,0,1],\n",
    "    [0,1,0,1,1,0],\n",
    "]\n",
    "edges_age = [\n",
    "    [0,1,4,2,0,0],\n",
    "    [1,0,0,3,0,5],\n",
    "    [4,0,0,2,5,0],\n",
    "    [2,3,2,0,3,4],\n",
    "    [0,0,5,3,0,2],\n",
    "    [0,5,0,4,2,0],\n",
    "]"
   ]
  },
  {
   "cell_type": "code",
   "execution_count": 6,
   "id": "independent-swimming",
   "metadata": {},
   "outputs": [],
   "source": [
    "graph = mst_graph.Graph(6)\n",
    "for i,vert in enumerate(edges):\n",
    "    for j,pair in enumerate(vert):\n",
    "        if(pair == 1):\n",
    "            graph.addEdge(i, j, edges_age[i][j])"
   ]
  },
  {
   "cell_type": "code",
   "execution_count": 7,
   "id": "suspended-composer",
   "metadata": {},
   "outputs": [
    {
     "name": "stdout",
     "output_type": "stream",
     "text": [
      "Edges in the constructed MST\n",
      "0 -- 1 == 1\n",
      "0 -- 3 == 2\n",
      "2 -- 3 == 2\n",
      "4 -- 5 == 2\n",
      "3 -- 4 == 3\n",
      "Minimum Spanning Tree 10\n"
     ]
    }
   ],
   "source": [
    "graph.KruskalMST()"
   ]
  },
  {
   "cell_type": "code",
   "execution_count": null,
   "id": "renewable-argument",
   "metadata": {},
   "outputs": [],
   "source": []
  }
 ],
 "metadata": {
  "kernelspec": {
   "display_name": "Python 3",
   "language": "python",
   "name": "python3"
  },
  "language_info": {
   "codemirror_mode": {
    "name": "ipython",
    "version": 3
   },
   "file_extension": ".py",
   "mimetype": "text/x-python",
   "name": "python",
   "nbconvert_exporter": "python",
   "pygments_lexer": "ipython3",
   "version": "3.9.2"
  }
 },
 "nbformat": 4,
 "nbformat_minor": 5
}
