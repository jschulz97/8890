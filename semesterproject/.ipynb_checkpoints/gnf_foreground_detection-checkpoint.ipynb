{
 "cells": [
  {
   "cell_type": "code",
   "execution_count": 1,
   "metadata": {},
   "outputs": [],
   "source": [
    "from importlib import reload\n",
    "import numpy as np\n",
    "import pickle\n",
    "import matplotlib\n",
    "import matplotlib.pyplot as plt\n",
    "from matplotlib import cm\n",
    "import sys\n",
    "import os\n",
    "import random\n",
    "from tqdm import tqdm\n",
    "import copy\n",
    "\n",
    "import time\n",
    "import torch\n",
    "from torchvision import models, transforms\n",
    "from autoencoder import Autoencoder as AE\n",
    "\n",
    "import gnf"
   ]
  },
  {
   "cell_type": "markdown",
   "metadata": {},
   "source": [
    "# Load data"
   ]
  },
  {
   "cell_type": "code",
   "execution_count": 3,
   "metadata": {},
   "outputs": [],
   "source": [
    "from PIL import Image"
   ]
  },
  {
   "cell_type": "code",
   "execution_count": 12,
   "metadata": {},
   "outputs": [],
   "source": [
    "image_stream = []\n",
    "root = './data/foreground_detection_train/'\n",
    "# Build median frame\n",
    "for file in os.listdir(root):\n",
    "    img = Image.open(os.path.join(root, file))\n",
    "    np_img = np.array(img)\n",
    "\n",
    "    features = []\n",
    "    for y, y_img in enumerate(np_img):\n",
    "        for x, x_img in enumerate(y_img):\n",
    "\n",
    "\n",
    "    image_stream.append(np_img)\n",
    "    \n",
    "# Extract features for median frame"
   ]
  },
  {
   "cell_type": "code",
   "execution_count": 13,
   "metadata": {},
   "outputs": [
    {
     "data": {
      "text/plain": [
       "(288, 384, 3)"
      ]
     },
     "execution_count": 13,
     "metadata": {},
     "output_type": "execute_result"
    }
   ],
   "source": [
    "image_stream[0].shape"
   ]
  },
  {
   "cell_type": "code",
   "execution_count": null,
   "metadata": {},
   "outputs": [],
   "source": [
    "# Train gnf on median frame features\n",
    "reload(gnf)\n",
    "gnf_model = gnf.GNF()\n",
    "neurons, error = gnf_model.train(data,\n",
    "                epochs=1000, \n",
    "                learning_b=.5, \n",
    "                learning_n=.01, \n",
    "                age_max=4, \n",
    "                gamma=5,\n",
    "                error_alpha=.1,\n",
    "                error_d=.98,\n",
    "                error_target=1)"
   ]
  }
 ],
 "metadata": {
  "kernelspec": {
   "display_name": "Python 3",
   "language": "python",
   "name": "python3"
  },
  "language_info": {
   "codemirror_mode": {
    "name": "ipython",
    "version": 3
   },
   "file_extension": ".py",
   "mimetype": "text/x-python",
   "name": "python",
   "nbconvert_exporter": "python",
   "pygments_lexer": "ipython3",
   "version": "3.7.9"
  }
 },
 "nbformat": 4,
 "nbformat_minor": 4
}
