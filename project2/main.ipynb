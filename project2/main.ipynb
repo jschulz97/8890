{
 "cells": [
  {
   "cell_type": "code",
   "execution_count": 11,
   "metadata": {},
   "outputs": [],
   "source": [
    "from importlib import reload\n",
    "import numpy as np\n",
    "import pickle\n",
    "import matplotlib\n",
    "import matplotlib.pyplot as plt\n",
    "from matplotlib import cm\n",
    "import sys\n",
    "import os\n",
    "import random\n",
    "from tqdm import tqdm\n",
    "import copy"
   ]
  },
  {
   "cell_type": "code",
   "execution_count": 14,
   "metadata": {},
   "outputs": [],
   "source": [
    "import gng"
   ]
  },
  {
   "cell_type": "code",
   "execution_count": 78,
   "metadata": {},
   "outputs": [],
   "source": [
    "import data_utils\n",
    "reload(data_utils)\n",
    "\n",
    "data_ranges = [\n",
    "    [ [-14.0, -2.0], [6.0, 16.0] ],\n",
    "    [ [2.0, 15.0],   [-8.0, 6.0] ],\n",
    "    [ [-12.0, -4.0], [-14.0, -6.0] ]\n",
    "]\n",
    "data, labels = data_utils.generate_data(data_ranges, length=100)"
   ]
  },
  {
   "cell_type": "code",
   "execution_count": 79,
   "metadata": {
    "scrolled": true
   },
   "outputs": [
    {
     "data": {
      "image/png": "[encoded data removed]",
      "text/plain": [
       "<Figure size 432x288 with 1 Axes>"
      ]
     },
     "metadata": {
      "needs_background": "light"
     },
     "output_type": "display_data"
    }
   ],
   "source": [
    "data_sep, uniq_labels = data_utils.split_data(data, labels)\n",
    "data_utils.plt_graph_sep_data(data_sep)"
   ]
  },
  {
   "cell_type": "code",
   "execution_count": 108,
   "metadata": {},
   "outputs": [],
   "source": [
    "reload(gng)\n",
    "gng_model = gng.GNG()"
   ]
  },
  {
   "cell_type": "code",
   "execution_count": 109,
   "metadata": {},
   "outputs": [
    {
     "name": "stderr",
     "output_type": "stream",
     "text": [
      " 32%|███████████████████████████████████▊                                                                            | 96/300 [00:00<00:00, 474.82it/s]"
     ]
    },
    {
     "name": "stdout",
     "output_type": "stream",
     "text": [
      "## DEBUG: 0. pick two neurons \n"
     ]
    },
    {
     "name": "stderr",
     "output_type": "stream",
     "text": [
      "100%|███████████████████████████████████████████████████████████████████████████████████████████████████████████████| 300/300 [00:00<00:00, 475.25it/s]\n",
      "  0%|                                                                                                                 | 1/1000 [00:00<01:41,  9.88it/s]"
     ]
    },
    {
     "name": "stdout",
     "output_type": "stream",
     "text": [
      "## DEBUG: GNG Loop \n",
      "## DEBUG: 1. Pick input signal P(B) \n",
      "## DEBUG: 2. Find two nearest units \n",
      "## DEBUG: Two nearest points: min_dist_1: 2.8149817855825243 min_dist_2: 33.22985461379865 \n",
      "## DEBUG: 3. Incremement Age of all edges from s_1 \n",
      "## DEBUG: 4. Add error to neuron \n",
      "## DEBUG: 5. Move s1 and neighbors towards B \n",
      "## DEBUG: 6. reset s1 and s2 age \n",
      "## DEBUG: 7. remove old edges \n",
      "## DEBUG: 8. Insert new neuron \n",
      "## DEBUG: 9. Decrease system error \n",
      "## DEBUG: \n",
      "## DEBUG: \n",
      "## DEBUG: Attemping to plot... \n",
      "## DEBUG: 1. Pick input signal P(B) \n",
      "## DEBUG: 2. Find two nearest units \n",
      "## DEBUG: Two nearest points: min_dist_1: 8.293441138958398 min_dist_2: 28.105221332393047 \n",
      "## DEBUG: 3. Incremement Age of all edges from s_1 \n",
      "## DEBUG: 4. Add error to neuron \n",
      "## DEBUG: 5. Move s1 and neighbors towards B \n",
      "## DEBUG: 6. reset s1 and s2 age \n",
      "## DEBUG: 7. remove old edges \n",
      "## DEBUG: 8. Insert new neuron \n",
      "## DEBUG: 9. Decrease system error \n",
      "## DEBUG: \n",
      "## DEBUG: \n",
      "## DEBUG: Attemping to plot... \n",
      "## DEBUG: 1. Pick input signal P(B) \n",
      "## DEBUG: 2. Find two nearest units \n",
      "## DEBUG: Two nearest points: min_dist_1: 24.966022274863256 min_dist_2: 28.58537874830572 \n",
      "## DEBUG: 3. Incremement Age of all edges from s_1 \n",
      "## DEBUG: 4. Add error to neuron \n",
      "## DEBUG: 5. Move s1 and neighbors towards B \n",
      "## DEBUG: 6. reset s1 and s2 age \n",
      "## DEBUG: 7. remove old edges \n",
      "## DEBUG: 8. Insert new neuron \n",
      "## DEBUG: 9. Decrease system error \n",
      "## DEBUG: \n",
      "## DEBUG: \n",
      "## DEBUG: Attemping to plot... \n"
     ]
    },
    {
     "name": "stderr",
     "output_type": "stream",
     "text": [
      "  0%|▌                                                                                                                | 5/1000 [00:00<01:11, 13.95it/s]"
     ]
    },
    {
     "name": "stdout",
     "output_type": "stream",
     "text": [
      "## DEBUG: 1. Pick input signal P(B) \n",
      "## DEBUG: 2. Find two nearest units \n",
      "## DEBUG: Two nearest points: min_dist_1: 7.950372480314295 min_dist_2: 25.529071942190786 \n",
      "## DEBUG: 3. Incremement Age of all edges from s_1 \n",
      "## DEBUG: 4. Add error to neuron \n",
      "## DEBUG: 5. Move s1 and neighbors towards B \n",
      "## DEBUG: 6. reset s1 and s2 age \n",
      "## DEBUG: 7. remove old edges \n",
      "## DEBUG: 8. Insert new neuron \n",
      "## DEBUG: 9. Decrease system error \n",
      "## DEBUG: \n",
      "## DEBUG: \n",
      "## DEBUG: Attemping to plot... \n",
      "## DEBUG: 1. Pick input signal P(B) \n",
      "## DEBUG: 2. Find two nearest units \n",
      "## DEBUG: Two nearest points: min_dist_1: 3.584521774882952 min_dist_2: 28.20761176102328 \n",
      "## DEBUG: 3. Incremement Age of all edges from s_1 \n",
      "## DEBUG: 4. Add error to neuron \n",
      "## DEBUG: 5. Move s1 and neighbors towards B \n",
      "## DEBUG: 6. reset s1 and s2 age \n",
      "## DEBUG: 7. remove old edges \n",
      "## DEBUG: 8. Insert new neuron \n",
      "## DEBUG: 9. Decrease system error \n",
      "## DEBUG: \n",
      "## DEBUG: \n",
      "## DEBUG: Attemping to plot... \n",
      "## DEBUG: 1. Pick input signal P(B) \n",
      "## DEBUG: 2. Find two nearest units \n",
      "## DEBUG: Two nearest points: min_dist_1: 16.229667792802147 min_dist_2: 22.531526391884032 \n",
      "## DEBUG: 3. Incremement Age of all edges from s_1 \n",
      "## DEBUG: 4. Add error to neuron \n",
      "## DEBUG: 5. Move s1 and neighbors towards B \n",
      "## DEBUG: 6. reset s1 and s2 age \n",
      "## DEBUG: 7. remove old edges \n",
      "## DEBUG: 8. Insert new neuron \n",
      "## DEBUG: 9. Decrease system error \n",
      "## DEBUG: \n",
      "## DEBUG: \n",
      "## DEBUG: Attemping to plot... \n",
      "## DEBUG: 1. Pick input signal P(B) \n",
      "## DEBUG: 2. Find two nearest units \n"
     ]
    },
    {
     "name": "stderr",
     "output_type": "stream",
     "text": [
      "  1%|█                                                                                                                | 9/1000 [00:00<01:08, 14.42it/s]"
     ]
    },
    {
     "name": "stdout",
     "output_type": "stream",
     "text": [
      "## DEBUG: Two nearest points: min_dist_1: 4.127486500692069 min_dist_2: 12.214928855137678 \n",
      "## DEBUG: 3. Incremement Age of all edges from s_1 \n",
      "## DEBUG: 4. Add error to neuron \n",
      "## DEBUG: 5. Move s1 and neighbors towards B \n",
      "## DEBUG: 6. reset s1 and s2 age \n",
      "## DEBUG: 7. remove old edges \n",
      "## DEBUG: 8. Insert new neuron \n",
      "## DEBUG: 9. Decrease system error \n",
      "## DEBUG: \n",
      "## DEBUG: \n",
      "## DEBUG: Attemping to plot... \n",
      "## DEBUG: 1. Pick input signal P(B) \n",
      "## DEBUG: 2. Find two nearest units \n",
      "## DEBUG: Two nearest points: min_dist_1: 4.990198262610727 min_dist_2: 10.966358319602353 \n",
      "## DEBUG: 3. Incremement Age of all edges from s_1 \n",
      "## DEBUG: 4. Add error to neuron \n",
      "## DEBUG: 5. Move s1 and neighbors towards B \n",
      "## DEBUG: 6. reset s1 and s2 age \n",
      "## DEBUG: 7. remove old edges \n",
      "## DEBUG: 8. Insert new neuron \n",
      "## DEBUG: 9. Decrease system error \n",
      "## DEBUG: \n",
      "## DEBUG: \n",
      "## DEBUG: Attemping to plot... \n",
      "## DEBUG: 1. Pick input signal P(B) \n",
      "## DEBUG: 2. Find two nearest units \n",
      "## DEBUG: Two nearest points: min_dist_1: 2.487769101470543 min_dist_2: 14.047008968977682 \n",
      "## DEBUG: 3. Incremement Age of all edges from s_1 \n",
      "## DEBUG: 4. Add error to neuron \n",
      "## DEBUG: 5. Move s1 and neighbors towards B \n",
      "## DEBUG: 6. reset s1 and s2 age \n",
      "## DEBUG: 7. remove old edges \n",
      "## DEBUG: 8. Insert new neuron \n",
      "## DEBUG: 9. Decrease system error \n",
      "## DEBUG: \n",
      "## DEBUG: \n",
      "## DEBUG: Attemping to plot... \n"
     ]
    },
    {
     "name": "stderr",
     "output_type": "stream",
     "text": [
      "\r",
      "  1%|█▏                                                                                                              | 11/1000 [00:00<01:08, 14.44it/s]"
     ]
    },
    {
     "name": "stdout",
     "output_type": "stream",
     "text": [
      "## DEBUG: 1. Pick input signal P(B) \n",
      "## DEBUG: 2. Find two nearest units \n",
      "## DEBUG: Two nearest points: min_dist_1: 5.009006408171968 min_dist_2: 10.191175329788214 \n",
      "## DEBUG: 3. Incremement Age of all edges from s_1 \n",
      "## DEBUG: 4. Add error to neuron \n",
      "## DEBUG: 5. Move s1 and neighbors towards B \n",
      "## DEBUG: 6. reset s1 and s2 age \n",
      "## DEBUG: 7. remove old edges \n",
      "## DEBUG: 8. Insert new neuron \n",
      "## DEBUG: 9. Decrease system error \n",
      "## DEBUG: \n",
      "## DEBUG: \n",
      "## DEBUG: Attemping to plot... \n",
      "## DEBUG: 1. Pick input signal P(B) \n",
      "## DEBUG: 2. Find two nearest units \n",
      "## DEBUG: Two nearest points: min_dist_1: 12.384103657899596 min_dist_2: 13.105219118759877 \n",
      "## DEBUG: 3. Incremement Age of all edges from s_1 \n",
      "## DEBUG: 4. Add error to neuron \n",
      "## DEBUG: 5. Move s1 and neighbors towards B \n",
      "## DEBUG: 6. reset s1 and s2 age \n",
      "## DEBUG: 7. remove old edges \n",
      "## DEBUG: 8. Insert new neuron \n",
      "## DEBUG: 9. Decrease system error \n",
      "## DEBUG: \n",
      "## DEBUG: \n",
      "## DEBUG: Attemping to plot... \n",
      "## DEBUG: 1. Pick input signal P(B) \n",
      "## DEBUG: 2. Find two nearest units \n",
      "## DEBUG: Two nearest points: min_dist_1: 12.780759705980365 min_dist_2: 12.839783315532816 \n",
      "## DEBUG: 3. Incremement Age of all edges from s_1 \n",
      "## DEBUG: 4. Add error to neuron \n",
      "## DEBUG: 5. Move s1 and neighbors towards B \n",
      "## DEBUG: 6. reset s1 and s2 age \n",
      "## DEBUG: 7. remove old edges \n",
      "## DEBUG: 8. Insert new neuron \n",
      "## DEBUG: 9. Decrease system error \n",
      "## DEBUG: \n",
      "## DEBUG: \n",
      "## DEBUG: Attemping to plot... \n"
     ]
    },
    {
     "name": "stderr",
     "output_type": "stream",
     "text": [
      "  2%|█▋                                                                                                              | 15/1000 [00:01<01:10, 14.06it/s]"
     ]
    },
    {
     "name": "stdout",
     "output_type": "stream",
     "text": [
      "## DEBUG: 1. Pick input signal P(B) \n",
      "## DEBUG: 2. Find two nearest units \n",
      "## DEBUG: Two nearest points: min_dist_1: 7.908835176858481 min_dist_2: 13.0081277846258 \n",
      "## DEBUG: 3. Incremement Age of all edges from s_1 \n",
      "## DEBUG: 4. Add error to neuron \n",
      "## DEBUG: 5. Move s1 and neighbors towards B \n",
      "## DEBUG: 6. reset s1 and s2 age \n",
      "## DEBUG: 7. remove old edges \n",
      "## DEBUG: 8. Insert new neuron \n",
      "## DEBUG: 9. Decrease system error \n",
      "## DEBUG: \n",
      "## DEBUG: \n",
      "## DEBUG: Attemping to plot... \n",
      "## DEBUG: 1. Pick input signal P(B) \n",
      "## DEBUG: 2. Find two nearest units \n",
      "## DEBUG: Two nearest points: min_dist_1: 3.5008646749843666 min_dist_2: 12.432028720793861 \n",
      "## DEBUG: 3. Incremement Age of all edges from s_1 \n",
      "## DEBUG: 4. Add error to neuron \n",
      "## DEBUG: 5. Move s1 and neighbors towards B \n",
      "## DEBUG: 6. reset s1 and s2 age \n",
      "## DEBUG: 7. remove old edges \n",
      "## DEBUG: 8. Insert new neuron \n",
      "## DEBUG: 9. Decrease system error \n",
      "## DEBUG: \n",
      "## DEBUG: \n",
      "## DEBUG: Attemping to plot... \n",
      "## DEBUG: 1. Pick input signal P(B) \n",
      "## DEBUG: 2. Find two nearest units \n",
      "## DEBUG: Two nearest points: min_dist_1: 8.413860584996382 min_dist_2: 11.409754033795995 \n",
      "## DEBUG: 3. Incremement Age of all edges from s_1 \n",
      "## DEBUG: 4. Add error to neuron \n",
      "## DEBUG: 5. Move s1 and neighbors towards B \n",
      "## DEBUG: 6. reset s1 and s2 age \n",
      "## DEBUG: 7. remove old edges \n",
      "## DEBUG: 8. Insert new neuron \n",
      "## DEBUG: 9. Decrease system error \n",
      "## DEBUG: \n",
      "## DEBUG: \n",
      "## DEBUG: Attemping to plot... \n"
     ]
    },
    {
     "name": "stderr",
     "output_type": "stream",
     "text": [
      "\r",
      "  2%|█▉                                                                                                              | 17/1000 [00:01<01:10, 14.03it/s]"
     ]
    },
    {
     "name": "stdout",
     "output_type": "stream",
     "text": [
      "## DEBUG: 1. Pick input signal P(B) \n",
      "## DEBUG: 2. Find two nearest units \n",
      "## DEBUG: Two nearest points: min_dist_1: 3.659137656665953 min_dist_2: 3.8730151264082955 \n",
      "## DEBUG: 3. Incremement Age of all edges from s_1 \n",
      "## DEBUG: 4. Add error to neuron \n",
      "## DEBUG: 5. Move s1 and neighbors towards B \n",
      "## DEBUG: 6. reset s1 and s2 age \n",
      "## DEBUG: 7. remove old edges \n",
      "## DEBUG: 8. Insert new neuron \n",
      "## DEBUG: 9. Decrease system error \n",
      "## DEBUG: \n",
      "## DEBUG: \n",
      "## DEBUG: Attemping to plot... \n",
      "## DEBUG: 1. Pick input signal P(B) \n",
      "## DEBUG: 2. Find two nearest units \n",
      "## DEBUG: Two nearest points: min_dist_1: 12.564078884937011 min_dist_2: 13.719300869713267 \n",
      "## DEBUG: 3. Incremement Age of all edges from s_1 \n",
      "## DEBUG: 4. Add error to neuron \n",
      "## DEBUG: 5. Move s1 and neighbors towards B \n",
      "## DEBUG: 6. reset s1 and s2 age \n",
      "## DEBUG: 7. remove old edges \n",
      "## DEBUG: 8. Insert new neuron \n",
      "## DEBUG: 9. Decrease system error \n",
      "## DEBUG: \n",
      "## DEBUG: \n",
      "## DEBUG: Attemping to plot... \n",
      "## DEBUG: 1. Pick input signal P(B) \n",
      "## DEBUG: 2. Find two nearest units \n",
      "## DEBUG: Two nearest points: min_dist_1: 3.1790422157054747 min_dist_2: 4.174626266294079 \n",
      "## DEBUG: 3. Incremement Age of all edges from s_1 \n",
      "## DEBUG: 4. Add error to neuron \n",
      "## DEBUG: 5. Move s1 and neighbors towards B \n",
      "## DEBUG: 6. reset s1 and s2 age \n",
      "## DEBUG: 7. remove old edges \n",
      "## DEBUG: 8. Insert new neuron \n",
      "## DEBUG: 9. Decrease system error \n",
      "## DEBUG: \n",
      "## DEBUG: \n",
      "## DEBUG: Attemping to plot... \n"
     ]
    },
    {
     "name": "stderr",
     "output_type": "stream",
     "text": [
      "  2%|██▎                                                                                                             | 21/1000 [00:01<01:10, 13.91it/s]"
     ]
    },
    {
     "name": "stdout",
     "output_type": "stream",
     "text": [
      "## DEBUG: 1. Pick input signal P(B) \n",
      "## DEBUG: 2. Find two nearest units \n",
      "## DEBUG: Two nearest points: min_dist_1: 12.241174681368049 min_dist_2: 13.76190089697635 \n",
      "## DEBUG: 3. Incremement Age of all edges from s_1 \n",
      "## DEBUG: 4. Add error to neuron \n",
      "## DEBUG: 5. Move s1 and neighbors towards B \n",
      "## DEBUG: 6. reset s1 and s2 age \n",
      "## DEBUG: 7. remove old edges \n",
      "## DEBUG: 8. Insert new neuron \n",
      "## DEBUG: 9. Decrease system error \n",
      "## DEBUG: \n",
      "## DEBUG: \n",
      "## DEBUG: Attemping to plot... \n",
      "## DEBUG: 1. Pick input signal P(B) \n",
      "## DEBUG: 2. Find two nearest units \n",
      "## DEBUG: Two nearest points: min_dist_1: 4.307811293019982 min_dist_2: 4.950303452682699 \n",
      "## DEBUG: 3. Incremement Age of all edges from s_1 \n",
      "## DEBUG: 4. Add error to neuron \n",
      "## DEBUG: 5. Move s1 and neighbors towards B \n",
      "## DEBUG: 6. reset s1 and s2 age \n",
      "## DEBUG: 7. remove old edges \n",
      "## DEBUG: 8. Insert new neuron \n",
      "## DEBUG: 9. Decrease system error \n",
      "## DEBUG: \n",
      "## DEBUG: \n",
      "## DEBUG: Attemping to plot... \n",
      "## DEBUG: 1. Pick input signal P(B) \n",
      "## DEBUG: 2. Find two nearest units \n",
      "## DEBUG: Two nearest points: min_dist_1: 6.748352310889885 min_dist_2: 9.484953224913783 \n",
      "## DEBUG: 3. Incremement Age of all edges from s_1 \n",
      "## DEBUG: 4. Add error to neuron \n",
      "## DEBUG: 5. Move s1 and neighbors towards B \n",
      "## DEBUG: 6. reset s1 and s2 age \n",
      "## DEBUG: 7. remove old edges \n",
      "## DEBUG: 8. Insert new neuron \n",
      "## DEBUG: 9. Decrease system error \n",
      "## DEBUG: \n",
      "## DEBUG: \n",
      "## DEBUG: Attemping to plot... \n"
     ]
    },
    {
     "name": "stderr",
     "output_type": "stream",
     "text": [
      "\r",
      "  2%|██▌                                                                                                             | 23/1000 [00:01<01:11, 13.72it/s]"
     ]
    },
    {
     "name": "stdout",
     "output_type": "stream",
     "text": [
      "## DEBUG: 1. Pick input signal P(B) \n",
      "## DEBUG: 2. Find two nearest units \n",
      "## DEBUG: Two nearest points: min_dist_1: 11.666810621071628 min_dist_2: 13.649072234943207 \n",
      "## DEBUG: 3. Incremement Age of all edges from s_1 \n",
      "## DEBUG: 4. Add error to neuron \n",
      "## DEBUG: 5. Move s1 and neighbors towards B \n",
      "## DEBUG: 6. reset s1 and s2 age \n",
      "## DEBUG: 7. remove old edges \n",
      "## DEBUG: 8. Insert new neuron \n",
      "## DEBUG: 9. Decrease system error \n",
      "## DEBUG: \n",
      "## DEBUG: \n",
      "## DEBUG: Attemping to plot... \n",
      "## DEBUG: 1. Pick input signal P(B) \n",
      "## DEBUG: 2. Find two nearest units \n",
      "## DEBUG: Two nearest points: min_dist_1: 4.471283900828203 min_dist_2: 7.6625190753000245 \n",
      "## DEBUG: 3. Incremement Age of all edges from s_1 \n",
      "## DEBUG: 4. Add error to neuron \n",
      "## DEBUG: 5. Move s1 and neighbors towards B \n",
      "## DEBUG: 6. reset s1 and s2 age \n",
      "## DEBUG: 7. remove old edges \n",
      "## DEBUG: 8. Insert new neuron \n",
      "## DEBUG: 9. Decrease system error \n",
      "## DEBUG: \n",
      "## DEBUG: \n",
      "## DEBUG: Attemping to plot... \n",
      "## DEBUG: 1. Pick input signal P(B) \n",
      "## DEBUG: 2. Find two nearest units \n",
      "## DEBUG: Two nearest points: min_dist_1: 4.68554577024363 min_dist_2: 7.841470511757634 \n",
      "## DEBUG: 3. Incremement Age of all edges from s_1 \n",
      "## DEBUG: 4. Add error to neuron \n",
      "## DEBUG: 5. Move s1 and neighbors towards B \n",
      "## DEBUG: 6. reset s1 and s2 age \n",
      "## DEBUG: 7. remove old edges \n",
      "## DEBUG: 8. Insert new neuron \n",
      "## DEBUG: 9. Decrease system error \n",
      "## DEBUG: \n",
      "## DEBUG: \n",
      "## DEBUG: Attemping to plot... \n"
     ]
    },
    {
     "name": "stderr",
     "output_type": "stream",
     "text": [
      "\r",
      "  2%|██▊                                                                                                             | 25/1000 [00:01<01:14, 13.13it/s]"
     ]
    },
    {
     "name": "stdout",
     "output_type": "stream",
     "text": [
      "## DEBUG: 1. Pick input signal P(B) \n",
      "## DEBUG: 2. Find two nearest units \n",
      "## DEBUG: Two nearest points: min_dist_1: 3.7803615266209336 min_dist_2: 5.179720912743645 \n",
      "## DEBUG: 3. Incremement Age of all edges from s_1 \n",
      "## DEBUG: 4. Add error to neuron \n",
      "## DEBUG: 5. Move s1 and neighbors towards B \n",
      "## DEBUG: 6. reset s1 and s2 age \n",
      "## DEBUG: 7. remove old edges \n",
      "## DEBUG: 8. Insert new neuron \n",
      "## DEBUG: 9. Decrease system error \n",
      "## DEBUG: \n",
      "## DEBUG: \n",
      "## DEBUG: Attemping to plot... \n",
      "## DEBUG: 1. Pick input signal P(B) \n",
      "## DEBUG: 2. Find two nearest units \n",
      "## DEBUG: Two nearest points: min_dist_1: 4.5337206927250415 min_dist_2: 8.816335791337629 \n",
      "## DEBUG: 3. Incremement Age of all edges from s_1 \n",
      "## DEBUG: 4. Add error to neuron \n",
      "## DEBUG: 5. Move s1 and neighbors towards B \n",
      "## DEBUG: 6. reset s1 and s2 age \n",
      "## DEBUG: 7. remove old edges \n",
      "## DEBUG: 8. Insert new neuron \n",
      "## DEBUG: 9. Decrease system error \n",
      "## DEBUG: \n",
      "## DEBUG: \n",
      "## DEBUG: Attemping to plot... \n",
      "## DEBUG: 1. Pick input signal P(B) \n",
      "## DEBUG: 2. Find two nearest units \n",
      "## DEBUG: Two nearest points: min_dist_1: 6.3722902990326284 min_dist_2: 10.21335051960616 \n",
      "## DEBUG: 3. Incremement Age of all edges from s_1 \n",
      "## DEBUG: 4. Add error to neuron \n",
      "## DEBUG: 5. Move s1 and neighbors towards B \n",
      "## DEBUG: 6. reset s1 and s2 age \n",
      "## DEBUG: 7. remove old edges \n",
      "## DEBUG: 8. Insert new neuron \n",
      "## DEBUG: 9. Decrease system error \n",
      "## DEBUG: \n",
      "## DEBUG: \n",
      "## DEBUG: Attemping to plot... \n"
     ]
    },
    {
     "name": "stderr",
     "output_type": "stream",
     "text": [
      "  3%|███▏                                                                                                            | 29/1000 [00:02<02:01,  7.97it/s]"
     ]
    },
    {
     "name": "stdout",
     "output_type": "stream",
     "text": [
      "## DEBUG: 1. Pick input signal P(B) \n",
      "## DEBUG: 2. Find two nearest units \n",
      "## DEBUG: Two nearest points: min_dist_1: 8.600784482028743 min_dist_2: 11.892905929693828 \n",
      "## DEBUG: 3. Incremement Age of all edges from s_1 \n",
      "## DEBUG: 4. Add error to neuron \n",
      "## DEBUG: 5. Move s1 and neighbors towards B \n",
      "## DEBUG: 6. reset s1 and s2 age \n",
      "## DEBUG: 7. remove old edges \n",
      "## DEBUG: 8. Insert new neuron \n",
      "## DEBUG: 9. Decrease system error \n",
      "## DEBUG: \n",
      "## DEBUG: \n",
      "## DEBUG: Attemping to plot... \n",
      "## DEBUG: 1. Pick input signal P(B) \n",
      "## DEBUG: 2. Find two nearest units \n",
      "## DEBUG: Two nearest points: min_dist_1: 7.009589077924264 min_dist_2: 10.796039759293661 \n",
      "## DEBUG: 3. Incremement Age of all edges from s_1 \n",
      "## DEBUG: 4. Add error to neuron \n",
      "## DEBUG: 5. Move s1 and neighbors towards B \n",
      "## DEBUG: 6. reset s1 and s2 age \n",
      "## DEBUG: 7. remove old edges \n",
      "## DEBUG: 8. Insert new neuron \n",
      "## DEBUG: 9. Decrease system error \n",
      "## DEBUG: \n",
      "## DEBUG: \n",
      "## DEBUG: Attemping to plot... \n",
      "## DEBUG: 1. Pick input signal P(B) \n",
      "## DEBUG: 2. Find two nearest units \n",
      "## DEBUG: Two nearest points: min_dist_1: 3.841072130607052 min_dist_2: 14.660265301540425 \n",
      "## DEBUG: 3. Incremement Age of all edges from s_1 \n",
      "## DEBUG: 4. Add error to neuron \n",
      "## DEBUG: 5. Move s1 and neighbors towards B \n",
      "## DEBUG: 6. reset s1 and s2 age \n",
      "## DEBUG: 7. remove old edges \n",
      "## DEBUG: 8. Insert new neuron \n",
      "## DEBUG: 9. Decrease system error \n",
      "## DEBUG: \n",
      "## DEBUG: \n",
      "## DEBUG: Attemping to plot... \n"
     ]
    },
    {
     "name": "stderr",
     "output_type": "stream",
     "text": [
      "\r",
      "  3%|███▍                                                                                                            | 31/1000 [00:02<01:46,  9.11it/s]"
     ]
    },
    {
     "name": "stdout",
     "output_type": "stream",
     "text": [
      "## DEBUG: 1. Pick input signal P(B) \n",
      "## DEBUG: 2. Find two nearest units \n",
      "## DEBUG: Two nearest points: min_dist_1: 7.311059102250593 min_dist_2: 12.466731876418537 \n",
      "## DEBUG: 3. Incremement Age of all edges from s_1 \n",
      "## DEBUG: 4. Add error to neuron \n",
      "## DEBUG: 5. Move s1 and neighbors towards B \n",
      "## DEBUG: 6. reset s1 and s2 age \n",
      "## DEBUG: 7. remove old edges \n",
      "## DEBUG: 8. Insert new neuron \n",
      "## DEBUG: 9. Decrease system error \n",
      "## DEBUG: \n",
      "## DEBUG: \n",
      "## DEBUG: Attemping to plot... \n",
      "## DEBUG: 1. Pick input signal P(B) \n",
      "## DEBUG: 2. Find two nearest units \n",
      "## DEBUG: Two nearest points: min_dist_1: 7.976462992041083 min_dist_2: 7.986693560771942 \n",
      "## DEBUG: 3. Incremement Age of all edges from s_1 \n",
      "## DEBUG: 4. Add error to neuron \n",
      "## DEBUG: 5. Move s1 and neighbors towards B \n",
      "## DEBUG: 6. reset s1 and s2 age \n",
      "## DEBUG: 7. remove old edges \n",
      "## DEBUG: 8. Insert new neuron \n",
      "## DEBUG: 9. Decrease system error \n",
      "## DEBUG: \n",
      "## DEBUG: \n",
      "## DEBUG: Attemping to plot... \n",
      "## DEBUG: 1. Pick input signal P(B) \n",
      "## DEBUG: 2. Find two nearest units \n",
      "## DEBUG: Two nearest points: min_dist_1: 10.611784067538146 min_dist_2: 15.146198028901427 \n",
      "## DEBUG: 3. Incremement Age of all edges from s_1 \n",
      "## DEBUG: 4. Add error to neuron \n",
      "## DEBUG: 5. Move s1 and neighbors towards B \n",
      "## DEBUG: 6. reset s1 and s2 age \n",
      "## DEBUG: 7. remove old edges \n",
      "## DEBUG: 8. Insert new neuron \n",
      "## DEBUG: 9. Decrease system error \n",
      "## DEBUG: \n",
      "## DEBUG: \n",
      "## DEBUG: Attemping to plot... \n"
     ]
    },
    {
     "name": "stderr",
     "output_type": "stream",
     "text": [
      "  4%|███▉                                                                                                            | 35/1000 [00:02<01:28, 10.96it/s]"
     ]
    },
    {
     "name": "stdout",
     "output_type": "stream",
     "text": [
      "## DEBUG: 1. Pick input signal P(B) \n",
      "## DEBUG: 2. Find two nearest units \n",
      "## DEBUG: Two nearest points: min_dist_1: 12.440077128897537 min_dist_2: 12.949383140682984 \n",
      "## DEBUG: 3. Incremement Age of all edges from s_1 \n",
      "## DEBUG: 4. Add error to neuron \n",
      "## DEBUG: 5. Move s1 and neighbors towards B \n",
      "## DEBUG: 6. reset s1 and s2 age \n",
      "## DEBUG: 7. remove old edges \n",
      "## DEBUG: 8. Insert new neuron \n",
      "## DEBUG: 9. Decrease system error \n",
      "## DEBUG: \n",
      "## DEBUG: \n",
      "## DEBUG: Attemping to plot... \n",
      "## DEBUG: 1. Pick input signal P(B) \n",
      "## DEBUG: 2. Find two nearest units \n",
      "## DEBUG: Two nearest points: min_dist_1: 4.513268428082507 min_dist_2: 10.13559326606146 \n",
      "## DEBUG: 3. Incremement Age of all edges from s_1 \n",
      "## DEBUG: 4. Add error to neuron \n",
      "## DEBUG: 5. Move s1 and neighbors towards B \n",
      "## DEBUG: 6. reset s1 and s2 age \n",
      "## DEBUG: 7. remove old edges \n",
      "## DEBUG: 8. Insert new neuron \n",
      "## DEBUG: 9. Decrease system error \n",
      "## DEBUG: \n",
      "## DEBUG: \n",
      "## DEBUG: Attemping to plot... \n",
      "## DEBUG: 1. Pick input signal P(B) \n",
      "## DEBUG: 2. Find two nearest units \n",
      "## DEBUG: Two nearest points: min_dist_1: 2.4336744639796115 min_dist_2: 6.609025068464187 \n",
      "## DEBUG: 3. Incremement Age of all edges from s_1 \n",
      "## DEBUG: 4. Add error to neuron \n",
      "## DEBUG: 5. Move s1 and neighbors towards B \n",
      "## DEBUG: 6. reset s1 and s2 age \n",
      "## DEBUG: 7. remove old edges \n",
      "## DEBUG: 8. Insert new neuron \n",
      "## DEBUG: 9. Decrease system error \n",
      "## DEBUG: \n",
      "## DEBUG: \n",
      "## DEBUG: Attemping to plot... \n"
     ]
    },
    {
     "name": "stderr",
     "output_type": "stream",
     "text": [
      "\r",
      "  4%|████▏                                                                                                           | 37/1000 [00:03<01:23, 11.59it/s]"
     ]
    },
    {
     "name": "stdout",
     "output_type": "stream",
     "text": [
      "## DEBUG: 1. Pick input signal P(B) \n",
      "## DEBUG: 2. Find two nearest units \n",
      "## DEBUG: Two nearest points: min_dist_1: 5.620584231675566 min_dist_2: 10.83963449958416 \n",
      "## DEBUG: 3. Incremement Age of all edges from s_1 \n",
      "## DEBUG: 4. Add error to neuron \n",
      "## DEBUG: 5. Move s1 and neighbors towards B \n",
      "## DEBUG: 6. reset s1 and s2 age \n",
      "## DEBUG: 7. remove old edges \n",
      "## DEBUG: 8. Insert new neuron \n",
      "## DEBUG: 9. Decrease system error \n",
      "## DEBUG: \n",
      "## DEBUG: \n",
      "## DEBUG: Attemping to plot... \n",
      "## DEBUG: 1. Pick input signal P(B) \n",
      "## DEBUG: 2. Find two nearest units \n",
      "## DEBUG: Two nearest points: min_dist_1: 6.52620829077402 min_dist_2: 11.049012918504173 \n",
      "## DEBUG: 3. Incremement Age of all edges from s_1 \n",
      "## DEBUG: 4. Add error to neuron \n",
      "## DEBUG: 5. Move s1 and neighbors towards B \n",
      "## DEBUG: 6. reset s1 and s2 age \n",
      "## DEBUG: 7. remove old edges \n",
      "## DEBUG: 8. Insert new neuron \n",
      "## DEBUG: 9. Decrease system error \n",
      "## DEBUG: \n",
      "## DEBUG: \n",
      "## DEBUG: Attemping to plot... \n",
      "## DEBUG: 1. Pick input signal P(B) \n",
      "## DEBUG: 2. Find two nearest units \n",
      "## DEBUG: Two nearest points: min_dist_1: 2.4561139079380503 min_dist_2: 5.028550882169387 \n",
      "## DEBUG: 3. Incremement Age of all edges from s_1 \n",
      "## DEBUG: 4. Add error to neuron \n",
      "## DEBUG: 5. Move s1 and neighbors towards B \n",
      "## DEBUG: 6. reset s1 and s2 age \n",
      "## DEBUG: 7. remove old edges \n",
      "## DEBUG: 8. Insert new neuron \n",
      "## DEBUG: 9. Decrease system error \n",
      "## DEBUG: \n",
      "## DEBUG: \n",
      "## DEBUG: Attemping to plot... \n"
     ]
    },
    {
     "name": "stderr",
     "output_type": "stream",
     "text": [
      "  4%|████▌                                                                                                           | 41/1000 [00:03<01:23, 11.45it/s]"
     ]
    },
    {
     "name": "stdout",
     "output_type": "stream",
     "text": [
      "## DEBUG: 1. Pick input signal P(B) \n",
      "## DEBUG: 2. Find two nearest units \n",
      "## DEBUG: Two nearest points: min_dist_1: 0.7188892985366742 min_dist_2: 6.081354079840678 \n",
      "## DEBUG: 3. Incremement Age of all edges from s_1 \n",
      "## DEBUG: 4. Add error to neuron \n",
      "## DEBUG: 5. Move s1 and neighbors towards B \n",
      "## DEBUG: 6. reset s1 and s2 age \n",
      "## DEBUG: 7. remove old edges \n",
      "## DEBUG: 8. Insert new neuron \n",
      "## DEBUG: 9. Decrease system error \n",
      "## DEBUG: \n",
      "## DEBUG: \n",
      "## DEBUG: Attemping to plot... \n",
      "## DEBUG: 1. Pick input signal P(B) \n",
      "## DEBUG: 2. Find two nearest units \n",
      "## DEBUG: Two nearest points: min_dist_1: 3.635291497725281 min_dist_2: 9.978083063863453 \n",
      "## DEBUG: 3. Incremement Age of all edges from s_1 \n",
      "## DEBUG: 4. Add error to neuron \n",
      "## DEBUG: 5. Move s1 and neighbors towards B \n",
      "## DEBUG: 6. reset s1 and s2 age \n",
      "## DEBUG: 7. remove old edges \n",
      "## DEBUG: 8. Insert new neuron \n",
      "## DEBUG: 9. Decrease system error \n",
      "## DEBUG: \n",
      "## DEBUG: \n",
      "## DEBUG: Attemping to plot... \n",
      "## DEBUG: 1. Pick input signal P(B) \n",
      "## DEBUG: 2. Find two nearest units \n",
      "## DEBUG: Two nearest points: min_dist_1: 3.5412442830329196 min_dist_2: 5.986836896483209 \n",
      "## DEBUG: 3. Incremement Age of all edges from s_1 \n",
      "## DEBUG: 4. Add error to neuron \n",
      "## DEBUG: 5. Move s1 and neighbors towards B \n",
      "## DEBUG: 6. reset s1 and s2 age \n",
      "## DEBUG: 7. remove old edges \n",
      "## DEBUG: 8. Insert new neuron \n",
      "## DEBUG: 9. Decrease system error \n",
      "## DEBUG: \n",
      "## DEBUG: \n",
      "## DEBUG: Attemping to plot... \n"
     ]
    },
    {
     "name": "stderr",
     "output_type": "stream",
     "text": [
      "\r",
      "  4%|████▊                                                                                                           | 43/1000 [00:03<01:20, 11.91it/s]"
     ]
    },
    {
     "name": "stdout",
     "output_type": "stream",
     "text": [
      "## DEBUG: 1. Pick input signal P(B) \n",
      "## DEBUG: 2. Find two nearest units \n",
      "## DEBUG: Two nearest points: min_dist_1: 5.939411428089457 min_dist_2: 9.245729244656104 \n",
      "## DEBUG: 3. Incremement Age of all edges from s_1 \n",
      "## DEBUG: 4. Add error to neuron \n",
      "## DEBUG: 5. Move s1 and neighbors towards B \n",
      "## DEBUG: 6. reset s1 and s2 age \n",
      "## DEBUG: 7. remove old edges \n",
      "## DEBUG: 8. Insert new neuron \n",
      "## DEBUG: 9. Decrease system error \n",
      "## DEBUG: \n",
      "## DEBUG: \n",
      "## DEBUG: Attemping to plot... \n",
      "## DEBUG: 1. Pick input signal P(B) \n",
      "## DEBUG: 2. Find two nearest units \n",
      "## DEBUG: Two nearest points: min_dist_1: 0.8938146779297049 min_dist_2: 5.873016791318451 \n",
      "## DEBUG: 3. Incremement Age of all edges from s_1 \n",
      "## DEBUG: 4. Add error to neuron \n",
      "## DEBUG: 5. Move s1 and neighbors towards B \n",
      "## DEBUG: 6. reset s1 and s2 age \n",
      "## DEBUG: 7. remove old edges \n",
      "## DEBUG: 8. Insert new neuron \n",
      "## DEBUG: 9. Decrease system error \n",
      "## DEBUG: \n",
      "## DEBUG: \n",
      "## DEBUG: Attemping to plot... \n",
      "## DEBUG: 1. Pick input signal P(B) \n",
      "## DEBUG: 2. Find two nearest units \n",
      "## DEBUG: Two nearest points: min_dist_1: 6.093575334317967 min_dist_2: 8.91149734862134 \n",
      "## DEBUG: 3. Incremement Age of all edges from s_1 \n",
      "## DEBUG: 4. Add error to neuron \n",
      "## DEBUG: 5. Move s1 and neighbors towards B \n",
      "## DEBUG: 6. reset s1 and s2 age \n",
      "## DEBUG: 7. remove old edges \n",
      "## DEBUG: 8. Insert new neuron \n",
      "## DEBUG: 9. Decrease system error \n",
      "## DEBUG: \n",
      "## DEBUG: \n",
      "## DEBUG: Attemping to plot... \n"
     ]
    },
    {
     "name": "stderr",
     "output_type": "stream",
     "text": [
      "  5%|█████▎                                                                                                          | 47/1000 [00:03<01:15, 12.64it/s]"
     ]
    },
    {
     "name": "stdout",
     "output_type": "stream",
     "text": [
      "## DEBUG: 1. Pick input signal P(B) \n",
      "## DEBUG: 2. Find two nearest units \n",
      "## DEBUG: Two nearest points: min_dist_1: 3.479642971074499 min_dist_2: 6.561468868442328 \n",
      "## DEBUG: 3. Incremement Age of all edges from s_1 \n",
      "## DEBUG: 4. Add error to neuron \n",
      "## DEBUG: 5. Move s1 and neighbors towards B \n",
      "## DEBUG: 6. reset s1 and s2 age \n",
      "## DEBUG: 7. remove old edges \n",
      "## DEBUG: 8. Insert new neuron \n",
      "## DEBUG: 9. Decrease system error \n",
      "## DEBUG: \n",
      "## DEBUG: \n",
      "## DEBUG: Attemping to plot... \n",
      "## DEBUG: 1. Pick input signal P(B) \n",
      "## DEBUG: 2. Find two nearest units \n",
      "## DEBUG: Two nearest points: min_dist_1: 4.656159517219594 min_dist_2: 6.547492203336478 \n",
      "## DEBUG: 3. Incremement Age of all edges from s_1 \n",
      "## DEBUG: 4. Add error to neuron \n",
      "## DEBUG: 5. Move s1 and neighbors towards B \n",
      "## DEBUG: 6. reset s1 and s2 age \n",
      "## DEBUG: 7. remove old edges \n",
      "## DEBUG: 8. Insert new neuron \n",
      "## DEBUG: 9. Decrease system error \n",
      "## DEBUG: \n",
      "## DEBUG: \n",
      "## DEBUG: Attemping to plot... \n",
      "## DEBUG: 1. Pick input signal P(B) \n",
      "## DEBUG: 2. Find two nearest units \n",
      "## DEBUG: Two nearest points: min_dist_1: 1.4569747081903914 min_dist_2: 3.9987719888084103 \n",
      "## DEBUG: 3. Incremement Age of all edges from s_1 \n",
      "## DEBUG: 4. Add error to neuron \n",
      "## DEBUG: 5. Move s1 and neighbors towards B \n",
      "## DEBUG: 6. reset s1 and s2 age \n",
      "## DEBUG: 7. remove old edges \n",
      "## DEBUG: 8. Insert new neuron \n",
      "## DEBUG: 9. Decrease system error \n",
      "## DEBUG: \n",
      "## DEBUG: \n",
      "## DEBUG: Attemping to plot... \n"
     ]
    },
    {
     "name": "stderr",
     "output_type": "stream",
     "text": [
      "\r",
      "  5%|█████▍                                                                                                          | 49/1000 [00:04<01:14, 12.70it/s]"
     ]
    },
    {
     "name": "stdout",
     "output_type": "stream",
     "text": [
      "## DEBUG: 1. Pick input signal P(B) \n",
      "## DEBUG: 2. Find two nearest units \n",
      "## DEBUG: Two nearest points: min_dist_1: 3.39766319441072 min_dist_2: 4.8454067093076 \n",
      "## DEBUG: 3. Incremement Age of all edges from s_1 \n",
      "## DEBUG: 4. Add error to neuron \n",
      "## DEBUG: 5. Move s1 and neighbors towards B \n",
      "## DEBUG: 6. reset s1 and s2 age \n",
      "## DEBUG: 7. remove old edges \n",
      "## DEBUG: 8. Insert new neuron \n",
      "## DEBUG: 9. Decrease system error \n",
      "## DEBUG: \n",
      "## DEBUG: \n",
      "## DEBUG: Attemping to plot... \n",
      "## DEBUG: 1. Pick input signal P(B) \n",
      "## DEBUG: 2. Find two nearest units \n",
      "## DEBUG: Two nearest points: min_dist_1: 4.455191904631659 min_dist_2: 6.68871122896732 \n",
      "## DEBUG: 3. Incremement Age of all edges from s_1 \n",
      "## DEBUG: 4. Add error to neuron \n",
      "## DEBUG: 5. Move s1 and neighbors towards B \n",
      "## DEBUG: 6. reset s1 and s2 age \n",
      "## DEBUG: 7. remove old edges \n",
      "## DEBUG: 8. Insert new neuron \n",
      "## DEBUG: 9. Decrease system error \n",
      "## DEBUG: \n",
      "## DEBUG: \n",
      "## DEBUG: Attemping to plot... \n",
      "## DEBUG: 1. Pick input signal P(B) \n",
      "## DEBUG: 2. Find two nearest units \n",
      "## DEBUG: Two nearest points: min_dist_1: 3.2239118032913336 min_dist_2: 5.686457698918407 \n",
      "## DEBUG: 3. Incremement Age of all edges from s_1 \n",
      "## DEBUG: 4. Add error to neuron \n",
      "## DEBUG: 5. Move s1 and neighbors towards B \n",
      "## DEBUG: 6. reset s1 and s2 age \n",
      "## DEBUG: 7. remove old edges \n",
      "## DEBUG: 8. Insert new neuron \n",
      "## DEBUG: 9. Decrease system error \n",
      "## DEBUG: \n",
      "## DEBUG: \n",
      "## DEBUG: Attemping to plot... \n"
     ]
    },
    {
     "name": "stderr",
     "output_type": "stream",
     "text": [
      "\r",
      "  5%|█████▋                                                                                                          | 51/1000 [00:04<01:14, 12.69it/s]"
     ]
    },
    {
     "name": "stdout",
     "output_type": "stream",
     "text": [
      "## DEBUG: 1. Pick input signal P(B) \n",
      "## DEBUG: 2. Find two nearest units \n",
      "## DEBUG: Two nearest points: min_dist_1: 1.7016046320707017 min_dist_2: 3.055408490521555 \n",
      "## DEBUG: 3. Incremement Age of all edges from s_1 \n",
      "## DEBUG: 4. Add error to neuron \n",
      "## DEBUG: 5. Move s1 and neighbors towards B \n",
      "## DEBUG: 6. reset s1 and s2 age \n",
      "## DEBUG: 7. remove old edges \n",
      "## DEBUG: 8. Insert new neuron \n",
      "## DEBUG: 9. Decrease system error \n",
      "## DEBUG: \n",
      "## DEBUG: \n",
      "## DEBUG: Attemping to plot... \n",
      "## DEBUG: 1. Pick input signal P(B) \n",
      "## DEBUG: 2. Find two nearest units \n",
      "## DEBUG: Two nearest points: min_dist_1: 2.7744162233609506 min_dist_2: 3.055877612689989 \n",
      "## DEBUG: 3. Incremement Age of all edges from s_1 \n",
      "## DEBUG: 4. Add error to neuron \n",
      "## DEBUG: 5. Move s1 and neighbors towards B \n",
      "## DEBUG: 6. reset s1 and s2 age \n",
      "## DEBUG: 7. remove old edges \n",
      "## DEBUG: 8. Insert new neuron \n",
      "## DEBUG: 9. Decrease system error \n",
      "## DEBUG: \n",
      "## DEBUG: \n",
      "## DEBUG: Attemping to plot... \n"
     ]
    },
    {
     "name": "stderr",
     "output_type": "stream",
     "text": [
      "  6%|██████▏                                                                                                         | 55/1000 [00:04<01:19, 11.82it/s]"
     ]
    },
    {
     "name": "stdout",
     "output_type": "stream",
     "text": [
      "## DEBUG: 1. Pick input signal P(B) \n",
      "## DEBUG: 2. Find two nearest units \n",
      "## DEBUG: Two nearest points: min_dist_1: 4.810134160307695 min_dist_2: 6.538723652559446 \n",
      "## DEBUG: 3. Incremement Age of all edges from s_1 \n",
      "## DEBUG: 4. Add error to neuron \n",
      "## DEBUG: 5. Move s1 and neighbors towards B \n",
      "## DEBUG: 6. reset s1 and s2 age \n",
      "## DEBUG: 7. remove old edges \n",
      "## DEBUG: 8. Insert new neuron \n",
      "## DEBUG: 9. Decrease system error \n",
      "## DEBUG: \n",
      "## DEBUG: \n",
      "## DEBUG: Attemping to plot... \n",
      "## DEBUG: 1. Pick input signal P(B) \n",
      "## DEBUG: 2. Find two nearest units \n",
      "## DEBUG: Two nearest points: min_dist_1: 1.4762451573702393 min_dist_2: 2.862536937269206 \n",
      "## DEBUG: 3. Incremement Age of all edges from s_1 \n",
      "## DEBUG: 4. Add error to neuron \n",
      "## DEBUG: 5. Move s1 and neighbors towards B \n",
      "## DEBUG: 6. reset s1 and s2 age \n",
      "## DEBUG: 7. remove old edges \n",
      "## DEBUG: 8. Insert new neuron \n",
      "## DEBUG: 9. Decrease system error \n",
      "## DEBUG: \n",
      "## DEBUG: \n",
      "## DEBUG: Attemping to plot... \n",
      "## DEBUG: 1. Pick input signal P(B) \n",
      "## DEBUG: 2. Find two nearest units \n",
      "## DEBUG: Two nearest points: min_dist_1: 4.0942833024236585 min_dist_2: 6.7543913910961475 \n",
      "## DEBUG: 3. Incremement Age of all edges from s_1 \n",
      "## DEBUG: 4. Add error to neuron \n",
      "## DEBUG: 5. Move s1 and neighbors towards B \n",
      "## DEBUG: 6. reset s1 and s2 age \n",
      "## DEBUG: 7. remove old edges \n",
      "## DEBUG: 8. Insert new neuron \n",
      "## DEBUG: 9. Decrease system error \n",
      "## DEBUG: \n",
      "## DEBUG: \n",
      "## DEBUG: Attemping to plot... \n",
      "## DEBUG: 1. Pick input signal P(B) \n",
      "## DEBUG: 2. Find two nearest units \n",
      "## DEBUG: Two nearest points: min_dist_1: 2.7729648914388116 min_dist_2: 2.9202822695580464 \n",
      "## DEBUG: 3. Incremement Age of all edges from s_1 \n",
      "## DEBUG: 4. Add error to neuron \n",
      "## DEBUG: 5. Move s1 and neighbors towards B \n",
      "## DEBUG: 6. reset s1 and s2 age "
     ]
    },
    {
     "name": "stderr",
     "output_type": "stream",
     "text": [
      "\r",
      "  6%|██████▍                                                                                                         | 57/1000 [00:04<01:17, 12.22it/s]"
     ]
    },
    {
     "name": "stdout",
     "output_type": "stream",
     "text": [
      "\n",
      "## DEBUG: 7. remove old edges \n",
      "## DEBUG: 8. Insert new neuron \n",
      "## DEBUG: 9. Decrease system error \n",
      "## DEBUG: \n",
      "## DEBUG: \n",
      "## DEBUG: Attemping to plot... \n",
      "## DEBUG: 1. Pick input signal P(B) \n",
      "## DEBUG: 2. Find two nearest units \n",
      "## DEBUG: Two nearest points: min_dist_1: 2.5518514167706314 min_dist_2: 4.055774281324913 \n",
      "## DEBUG: 3. Incremement Age of all edges from s_1 \n",
      "## DEBUG: 4. Add error to neuron \n",
      "## DEBUG: 5. Move s1 and neighbors towards B \n",
      "## DEBUG: 6. reset s1 and s2 age \n",
      "## DEBUG: 7. remove old edges \n",
      "## DEBUG: 8. Insert new neuron \n",
      "## DEBUG: 9. Decrease system error \n",
      "## DEBUG: \n",
      "## DEBUG: \n",
      "## DEBUG: Attemping to plot... \n",
      "## DEBUG: 1. Pick input signal P(B) \n",
      "## DEBUG: 2. Find two nearest units \n",
      "## DEBUG: Two nearest points: min_dist_1: 8.923956502833796 min_dist_2: 9.532795544533528 \n",
      "## DEBUG: 3. Incremement Age of all edges from s_1 \n",
      "## DEBUG: 4. Add error to neuron \n",
      "## DEBUG: 5. Move s1 and neighbors towards B \n",
      "## DEBUG: 6. reset s1 and s2 age \n",
      "## DEBUG: 7. remove old edges \n",
      "## DEBUG: 8. Insert new neuron \n",
      "## DEBUG: 9. Decrease system error \n",
      "## DEBUG: \n",
      "## DEBUG: \n",
      "## DEBUG: Attemping to plot... \n"
     ]
    },
    {
     "name": "stderr",
     "output_type": "stream",
     "text": [
      "  6%|██████▊                                                                                                         | 61/1000 [00:05<01:14, 12.59it/s]"
     ]
    },
    {
     "name": "stdout",
     "output_type": "stream",
     "text": [
      "## DEBUG: 1. Pick input signal P(B) \n",
      "## DEBUG: 2. Find two nearest units \n",
      "## DEBUG: Two nearest points: min_dist_1: 4.0336910709103515 min_dist_2: 5.590612512377328 \n",
      "## DEBUG: 3. Incremement Age of all edges from s_1 \n",
      "## DEBUG: 4. Add error to neuron \n",
      "## DEBUG: 5. Move s1 and neighbors towards B \n",
      "## DEBUG: 6. reset s1 and s2 age \n",
      "## DEBUG: 7. remove old edges \n",
      "## DEBUG: 8. Insert new neuron \n",
      "## DEBUG: 9. Decrease system error \n",
      "## DEBUG: \n",
      "## DEBUG: \n",
      "## DEBUG: Attemping to plot... \n",
      "## DEBUG: 1. Pick input signal P(B) \n",
      "## DEBUG: 2. Find two nearest units \n",
      "## DEBUG: Two nearest points: min_dist_1: 3.654109128316422 min_dist_2: 4.781664022062574 \n",
      "## DEBUG: 3. Incremement Age of all edges from s_1 \n",
      "## DEBUG: 4. Add error to neuron \n",
      "## DEBUG: 5. Move s1 and neighbors towards B \n",
      "## DEBUG: 6. reset s1 and s2 age \n",
      "## DEBUG: 7. remove old edges \n",
      "## DEBUG: 8. Insert new neuron \n",
      "## DEBUG: 9. Decrease system error \n",
      "## DEBUG: \n",
      "## DEBUG: \n",
      "## DEBUG: Attemping to plot... \n",
      "## DEBUG: 1. Pick input signal P(B) \n",
      "## DEBUG: 2. Find two nearest units \n",
      "## DEBUG: Two nearest points: min_dist_1: 2.996386438850836 min_dist_2: 3.106048929652962 \n",
      "## DEBUG: 3. Incremement Age of all edges from s_1 \n",
      "## DEBUG: 4. Add error to neuron \n",
      "## DEBUG: 5. Move s1 and neighbors towards B \n",
      "## DEBUG: 6. reset s1 and s2 age \n",
      "## DEBUG: 7. remove old edges \n",
      "## DEBUG: 8. Insert new neuron \n",
      "## DEBUG: 9. Decrease system error \n",
      "## DEBUG: \n",
      "## DEBUG: \n",
      "## DEBUG: Attemping to plot... \n"
     ]
    },
    {
     "name": "stderr",
     "output_type": "stream",
     "text": [
      "\r",
      "  6%|███████                                                                                                         | 63/1000 [00:05<01:13, 12.68it/s]"
     ]
    },
    {
     "name": "stdout",
     "output_type": "stream",
     "text": [
      "## DEBUG: 1. Pick input signal P(B) \n",
      "## DEBUG: 2. Find two nearest units \n",
      "## DEBUG: Two nearest points: min_dist_1: 2.9426840466721775 min_dist_2: 5.843154296684551 \n",
      "## DEBUG: 3. Incremement Age of all edges from s_1 \n",
      "## DEBUG: 4. Add error to neuron \n",
      "## DEBUG: 5. Move s1 and neighbors towards B \n",
      "## DEBUG: 6. reset s1 and s2 age \n",
      "## DEBUG: 7. remove old edges \n",
      "## DEBUG: 8. Insert new neuron \n",
      "## DEBUG: 9. Decrease system error \n",
      "## DEBUG: \n",
      "## DEBUG: \n",
      "## DEBUG: Attemping to plot... \n",
      "## DEBUG: 1. Pick input signal P(B) \n",
      "## DEBUG: 2. Find two nearest units \n",
      "## DEBUG: Two nearest points: min_dist_1: 2.561434287723387 min_dist_2: 4.6075625985249085 \n",
      "## DEBUG: 3. Incremement Age of all edges from s_1 \n",
      "## DEBUG: 4. Add error to neuron \n",
      "## DEBUG: 5. Move s1 and neighbors towards B \n",
      "## DEBUG: 6. reset s1 and s2 age \n",
      "## DEBUG: 7. remove old edges \n",
      "## DEBUG: 8. Insert new neuron \n",
      "## DEBUG: 9. Decrease system error \n",
      "## DEBUG: \n",
      "## DEBUG: \n",
      "## DEBUG: Attemping to plot... \n",
      "## DEBUG: 1. Pick input signal P(B) \n",
      "## DEBUG: 2. Find two nearest units \n",
      "## DEBUG: Two nearest points: min_dist_1: 2.571134059044261 min_dist_2: 3.368237546579811 \n",
      "## DEBUG: 3. Incremement Age of all edges from s_1 \n",
      "## DEBUG: 4. Add error to neuron \n",
      "## DEBUG: 5. Move s1 and neighbors towards B \n",
      "## DEBUG: 6. reset s1 and s2 age \n",
      "## DEBUG: 7. remove old edges \n",
      "## DEBUG: 8. Insert new neuron \n",
      "## DEBUG: 9. Decrease system error \n",
      "## DEBUG: \n",
      "## DEBUG: \n",
      "## DEBUG: Attemping to plot... \n"
     ]
    },
    {
     "name": "stderr",
     "output_type": "stream",
     "text": [
      "\r",
      "  6%|███████▎                                                                                                        | 65/1000 [00:05<01:14, 12.60it/s]"
     ]
    },
    {
     "name": "stdout",
     "output_type": "stream",
     "text": [
      "## DEBUG: 1. Pick input signal P(B) \n",
      "## DEBUG: 2. Find two nearest units \n",
      "## DEBUG: Two nearest points: min_dist_1: 2.509958538908128 min_dist_2: 2.7066733877393667 \n",
      "## DEBUG: 3. Incremement Age of all edges from s_1 \n",
      "## DEBUG: 4. Add error to neuron \n",
      "## DEBUG: 5. Move s1 and neighbors towards B \n",
      "## DEBUG: 6. reset s1 and s2 age \n",
      "## DEBUG: 7. remove old edges \n",
      "## DEBUG: 8. Insert new neuron \n",
      "## DEBUG: 9. Decrease system error \n",
      "## DEBUG: \n",
      "## DEBUG: \n",
      "## DEBUG: Attemping to plot... \n",
      "## DEBUG: 1. Pick input signal P(B) \n",
      "## DEBUG: 2. Find two nearest units \n",
      "## DEBUG: Two nearest points: min_dist_1: 1.9929859044002258 min_dist_2: 2.005218766016109 \n",
      "## DEBUG: 3. Incremement Age of all edges from s_1 \n",
      "## DEBUG: 4. Add error to neuron \n",
      "## DEBUG: 5. Move s1 and neighbors towards B \n",
      "## DEBUG: 6. reset s1 and s2 age \n",
      "## DEBUG: 7. remove old edges \n",
      "## DEBUG: 8. Insert new neuron \n",
      "## DEBUG: 9. Decrease system error \n",
      "## DEBUG: \n",
      "## DEBUG: \n",
      "## DEBUG: Attemping to plot... \n"
     ]
    },
    {
     "name": "stderr",
     "output_type": "stream",
     "text": [
      "  7%|███████▋                                                                                                        | 69/1000 [00:05<01:21, 11.40it/s]"
     ]
    },
    {
     "name": "stdout",
     "output_type": "stream",
     "text": [
      "## DEBUG: 1. Pick input signal P(B) \n",
      "## DEBUG: 2. Find two nearest units \n",
      "## DEBUG: Two nearest points: min_dist_1: 1.7890390819629605 min_dist_2: 3.6292922386135733 \n",
      "## DEBUG: 3. Incremement Age of all edges from s_1 \n",
      "## DEBUG: 4. Add error to neuron \n",
      "## DEBUG: 5. Move s1 and neighbors towards B \n",
      "## DEBUG: 6. reset s1 and s2 age \n",
      "## DEBUG: 7. remove old edges \n",
      "## DEBUG: 8. Insert new neuron \n",
      "## DEBUG: 9. Decrease system error \n",
      "## DEBUG: \n",
      "## DEBUG: \n",
      "## DEBUG: Attemping to plot... \n",
      "## DEBUG: 1. Pick input signal P(B) \n",
      "## DEBUG: 2. Find two nearest units \n",
      "## DEBUG: Two nearest points: min_dist_1: 3.943487508586349 min_dist_2: 5.8362854228417325 \n",
      "## DEBUG: 3. Incremement Age of all edges from s_1 \n",
      "## DEBUG: 4. Add error to neuron \n",
      "## DEBUG: 5. Move s1 and neighbors towards B \n",
      "## DEBUG: 6. reset s1 and s2 age \n",
      "## DEBUG: 7. remove old edges \n",
      "## DEBUG: 8. Insert new neuron \n",
      "## DEBUG: 9. Decrease system error \n",
      "## DEBUG: \n",
      "## DEBUG: \n",
      "## DEBUG: Attemping to plot... \n",
      "## DEBUG: 1. Pick input signal P(B) \n",
      "## DEBUG: 2. Find two nearest units \n",
      "## DEBUG: Two nearest points: min_dist_1: 3.6565427416734972 min_dist_2: 4.546216942185573 \n",
      "## DEBUG: 3. Incremement Age of all edges from s_1 \n",
      "## DEBUG: 4. Add error to neuron \n",
      "## DEBUG: 5. Move s1 and neighbors towards B \n",
      "## DEBUG: 6. reset s1 and s2 age \n",
      "## DEBUG: 7. remove old edges \n",
      "## DEBUG: 8. Insert new neuron \n",
      "## DEBUG: 9. Decrease system error \n",
      "## DEBUG: \n",
      "## DEBUG: \n",
      "## DEBUG: Attemping to plot... \n"
     ]
    },
    {
     "name": "stderr",
     "output_type": "stream",
     "text": [
      "\r",
      "  7%|███████▉                                                                                                        | 71/1000 [00:05<01:18, 11.85it/s]"
     ]
    },
    {
     "name": "stdout",
     "output_type": "stream",
     "text": [
      "## DEBUG: 1. Pick input signal P(B) \n",
      "## DEBUG: 2. Find two nearest units \n",
      "## DEBUG: Two nearest points: min_dist_1: 2.6626789879952755 min_dist_2: 3.059423332395183 \n",
      "## DEBUG: 3. Incremement Age of all edges from s_1 \n",
      "## DEBUG: 4. Add error to neuron \n",
      "## DEBUG: 5. Move s1 and neighbors towards B \n",
      "## DEBUG: 6. reset s1 and s2 age \n",
      "## DEBUG: 7. remove old edges \n",
      "## DEBUG: 8. Insert new neuron \n",
      "## DEBUG: 9. Decrease system error \n",
      "## DEBUG: \n",
      "## DEBUG: \n",
      "## DEBUG: Attemping to plot... \n",
      "## DEBUG: 1. Pick input signal P(B) \n",
      "## DEBUG: 2. Find two nearest units \n",
      "## DEBUG: Two nearest points: min_dist_1: 5.6957421988287225 min_dist_2: 7.293814735648747 \n",
      "## DEBUG: 3. Incremement Age of all edges from s_1 \n",
      "## DEBUG: 4. Add error to neuron \n",
      "## DEBUG: 5. Move s1 and neighbors towards B \n",
      "## DEBUG: 6. reset s1 and s2 age \n",
      "## DEBUG: 7. remove old edges \n",
      "## DEBUG: 8. Insert new neuron \n",
      "## DEBUG: 9. Decrease system error \n",
      "## DEBUG: \n",
      "## DEBUG: \n",
      "## DEBUG: Attemping to plot... \n",
      "## DEBUG: 1. Pick input signal P(B) \n",
      "## DEBUG: 2. Find two nearest units \n",
      "## DEBUG: Two nearest points: min_dist_1: 2.317976928220812 min_dist_2: 2.5197405762513814 \n",
      "## DEBUG: 3. Incremement Age of all edges from s_1 \n",
      "## DEBUG: 4. Add error to neuron \n",
      "## DEBUG: 5. Move s1 and neighbors towards B \n",
      "## DEBUG: 6. reset s1 and s2 age \n",
      "## DEBUG: 7. remove old edges \n",
      "## DEBUG: 8. Insert new neuron \n",
      "## DEBUG: 9. Decrease system error \n",
      "## DEBUG: \n",
      "## DEBUG: \n",
      "## DEBUG: Attemping to plot... \n"
     ]
    },
    {
     "name": "stderr",
     "output_type": "stream",
     "text": [
      "  8%|████████▍                                                                                                       | 75/1000 [00:06<01:15, 12.31it/s]"
     ]
    },
    {
     "name": "stdout",
     "output_type": "stream",
     "text": [
      "## DEBUG: 1. Pick input signal P(B) \n",
      "## DEBUG: 2. Find two nearest units \n",
      "## DEBUG: Two nearest points: min_dist_1: 2.17603289147221 min_dist_2: 4.855867032249989 \n",
      "## DEBUG: 3. Incremement Age of all edges from s_1 \n",
      "## DEBUG: 4. Add error to neuron \n",
      "## DEBUG: 5. Move s1 and neighbors towards B \n",
      "## DEBUG: 6. reset s1 and s2 age \n",
      "## DEBUG: 7. remove old edges \n",
      "## DEBUG: 8. Insert new neuron \n",
      "## DEBUG: 9. Decrease system error \n",
      "## DEBUG: \n",
      "## DEBUG: \n",
      "## DEBUG: Attemping to plot... \n",
      "## DEBUG: 1. Pick input signal P(B) \n",
      "## DEBUG: 2. Find two nearest units \n",
      "## DEBUG: Two nearest points: min_dist_1: 2.2883716377117413 min_dist_2: 2.7073589436857515 \n",
      "## DEBUG: 3. Incremement Age of all edges from s_1 \n",
      "## DEBUG: 4. Add error to neuron \n",
      "## DEBUG: 5. Move s1 and neighbors towards B \n",
      "## DEBUG: 6. reset s1 and s2 age \n",
      "## DEBUG: 7. remove old edges \n",
      "## DEBUG: 8. Insert new neuron \n",
      "## DEBUG: 9. Decrease system error \n",
      "## DEBUG: \n",
      "## DEBUG: \n",
      "## DEBUG: Attemping to plot... \n",
      "## DEBUG: 1. Pick input signal P(B) \n",
      "## DEBUG: 2. Find two nearest units \n",
      "## DEBUG: Two nearest points: min_dist_1: 2.0322780269068645 min_dist_2: 2.5529852253666863 \n",
      "## DEBUG: 3. Incremement Age of all edges from s_1 \n",
      "## DEBUG: 4. Add error to neuron \n",
      "## DEBUG: 5. Move s1 and neighbors towards B \n",
      "## DEBUG: 6. reset s1 and s2 age \n",
      "## DEBUG: 7. remove old edges \n",
      "## DEBUG: 8. Insert new neuron \n",
      "## DEBUG: 9. Decrease system error \n",
      "## DEBUG: \n",
      "## DEBUG: \n",
      "## DEBUG: Attemping to plot... \n"
     ]
    },
    {
     "name": "stderr",
     "output_type": "stream",
     "text": [
      "\r",
      "  8%|████████▌                                                                                                       | 77/1000 [00:06<01:16, 12.12it/s]"
     ]
    },
    {
     "name": "stdout",
     "output_type": "stream",
     "text": [
      "## DEBUG: 1. Pick input signal P(B) \n",
      "## DEBUG: 2. Find two nearest units \n",
      "## DEBUG: Two nearest points: min_dist_1: 2.0368163869721716 min_dist_2: 2.288515142966085 \n",
      "## DEBUG: 3. Incremement Age of all edges from s_1 \n",
      "## DEBUG: 4. Add error to neuron \n",
      "## DEBUG: 5. Move s1 and neighbors towards B \n",
      "## DEBUG: 6. reset s1 and s2 age \n",
      "## DEBUG: 7. remove old edges \n",
      "## DEBUG: 8. Insert new neuron \n",
      "## DEBUG: 9. Decrease system error \n",
      "## DEBUG: \n",
      "## DEBUG: \n",
      "## DEBUG: Attemping to plot... \n",
      "## DEBUG: 1. Pick input signal P(B) \n",
      "## DEBUG: 2. Find two nearest units \n",
      "## DEBUG: Two nearest points: min_dist_1: 3.593252795131714 min_dist_2: 4.763645202434094 \n",
      "## DEBUG: 3. Incremement Age of all edges from s_1 \n",
      "## DEBUG: 4. Add error to neuron \n",
      "## DEBUG: 5. Move s1 and neighbors towards B \n",
      "## DEBUG: 6. reset s1 and s2 age \n",
      "## DEBUG: 7. remove old edges \n",
      "## DEBUG: 8. Insert new neuron \n",
      "## DEBUG: 9. Decrease system error \n",
      "## DEBUG: \n",
      "## DEBUG: \n",
      "## DEBUG: Attemping to plot... \n",
      "## DEBUG: 1. Pick input signal P(B) \n",
      "## DEBUG: 2. Find two nearest units \n",
      "## DEBUG: Two nearest points: min_dist_1: 0.5589080700796527 min_dist_2: 0.7688861793509886 \n",
      "## DEBUG: 3. Incremement Age of all edges from s_1 \n",
      "## DEBUG: 4. Add error to neuron \n",
      "## DEBUG: 5. Move s1 and neighbors towards B \n",
      "## DEBUG: 6. reset s1 and s2 age \n",
      "## DEBUG: 7. remove old edges \n",
      "## DEBUG: 8. Insert new neuron \n",
      "## DEBUG: 9. Decrease system error \n",
      "## DEBUG: \n",
      "## DEBUG: \n",
      "## DEBUG: Attemping to plot... \n"
     ]
    },
    {
     "name": "stderr",
     "output_type": "stream",
     "text": [
      "  8%|█████████                                                                                                       | 81/1000 [00:06<01:13, 12.46it/s]"
     ]
    },
    {
     "name": "stdout",
     "output_type": "stream",
     "text": [
      "## DEBUG: 1. Pick input signal P(B) \n",
      "## DEBUG: 2. Find two nearest units \n",
      "## DEBUG: Two nearest points: min_dist_1: 1.3827374077931405 min_dist_2: 2.164637771729085 \n",
      "## DEBUG: 3. Incremement Age of all edges from s_1 \n",
      "## DEBUG: 4. Add error to neuron \n",
      "## DEBUG: 5. Move s1 and neighbors towards B \n",
      "## DEBUG: 6. reset s1 and s2 age \n",
      "## DEBUG: 7. remove old edges \n",
      "## DEBUG: 8. Insert new neuron \n",
      "## DEBUG: 9. Decrease system error \n",
      "## DEBUG: \n",
      "## DEBUG: \n",
      "## DEBUG: Attemping to plot... \n",
      "## DEBUG: 1. Pick input signal P(B) \n",
      "## DEBUG: 2. Find two nearest units \n",
      "## DEBUG: Two nearest points: min_dist_1: 2.3156100921822813 min_dist_2: 4.368410096115861 \n",
      "## DEBUG: 3. Incremement Age of all edges from s_1 \n",
      "## DEBUG: 4. Add error to neuron \n",
      "## DEBUG: 5. Move s1 and neighbors towards B \n",
      "## DEBUG: 6. reset s1 and s2 age \n",
      "## DEBUG: 7. remove old edges \n",
      "## DEBUG: 8. Insert new neuron \n",
      "## DEBUG: 9. Decrease system error \n",
      "## DEBUG: \n",
      "## DEBUG: \n",
      "## DEBUG: Attemping to plot... \n",
      "## DEBUG: 1. Pick input signal P(B) \n",
      "## DEBUG: 2. Find two nearest units \n",
      "## DEBUG: Two nearest points: min_dist_1: 9.39420778154336 min_dist_2: 10.4715671189973 \n",
      "## DEBUG: 3. Incremement Age of all edges from s_1 \n",
      "## DEBUG: 4. Add error to neuron \n",
      "## DEBUG: 5. Move s1 and neighbors towards B \n",
      "## DEBUG: 6. reset s1 and s2 age \n",
      "## DEBUG: 7. remove old edges \n",
      "## DEBUG: 8. Insert new neuron \n",
      "## DEBUG: 9. Decrease system error \n",
      "## DEBUG: \n",
      "## DEBUG: \n",
      "## DEBUG: Attemping to plot... \n"
     ]
    },
    {
     "name": "stderr",
     "output_type": "stream",
     "text": [
      "\r",
      "  8%|█████████▎                                                                                                      | 83/1000 [00:06<01:13, 12.55it/s]"
     ]
    },
    {
     "name": "stdout",
     "output_type": "stream",
     "text": [
      "## DEBUG: 1. Pick input signal P(B) \n",
      "## DEBUG: 2. Find two nearest units \n",
      "## DEBUG: Two nearest points: min_dist_1: 1.0155580230739925 min_dist_2: 2.2286933076171462 \n",
      "## DEBUG: 3. Incremement Age of all edges from s_1 \n",
      "## DEBUG: 4. Add error to neuron \n",
      "## DEBUG: 5. Move s1 and neighbors towards B \n",
      "## DEBUG: 6. reset s1 and s2 age \n",
      "## DEBUG: 7. remove old edges \n",
      "## DEBUG: 8. Insert new neuron \n",
      "## DEBUG: 9. Decrease system error \n",
      "## DEBUG: \n",
      "## DEBUG: \n",
      "## DEBUG: Attemping to plot... \n",
      "## DEBUG: 1. Pick input signal P(B) \n",
      "## DEBUG: 2. Find two nearest units \n",
      "## DEBUG: Two nearest points: min_dist_1: 6.406350820698631 min_dist_2: 6.669159481676386 \n",
      "## DEBUG: 3. Incremement Age of all edges from s_1 \n",
      "## DEBUG: 4. Add error to neuron \n",
      "## DEBUG: 5. Move s1 and neighbors towards B \n",
      "## DEBUG: 6. reset s1 and s2 age \n",
      "## DEBUG: 7. remove old edges \n",
      "## DEBUG: 8. Insert new neuron \n",
      "## DEBUG: 9. Decrease system error \n",
      "## DEBUG: \n",
      "## DEBUG: \n",
      "## DEBUG: Attemping to plot... \n",
      "## DEBUG: 1. Pick input signal P(B) \n",
      "## DEBUG: 2. Find two nearest units \n",
      "## DEBUG: Two nearest points: min_dist_1: 2.583928664879114 min_dist_2: 2.9810150402486637 \n",
      "## DEBUG: 3. Incremement Age of all edges from s_1 \n",
      "## DEBUG: 4. Add error to neuron \n",
      "## DEBUG: 5. Move s1 and neighbors towards B \n",
      "## DEBUG: 6. reset s1 and s2 age \n",
      "## DEBUG: 7. remove old edges \n",
      "## DEBUG: 8. Insert new neuron \n",
      "## DEBUG: 9. Decrease system error \n",
      "## DEBUG: \n",
      "## DEBUG: \n",
      "## DEBUG: Attemping to plot... \n"
     ]
    },
    {
     "name": "stderr",
     "output_type": "stream",
     "text": [
      "  9%|█████████▋                                                                                                      | 87/1000 [00:07<01:29, 10.25it/s]"
     ]
    },
    {
     "name": "stdout",
     "output_type": "stream",
     "text": [
      "## DEBUG: 1. Pick input signal P(B) \n",
      "## DEBUG: 2. Find two nearest units \n",
      "## DEBUG: Two nearest points: min_dist_1: 3.514802748846484 min_dist_2: 3.8425685018161704 \n",
      "## DEBUG: 3. Incremement Age of all edges from s_1 \n",
      "## DEBUG: 4. Add error to neuron \n",
      "## DEBUG: 5. Move s1 and neighbors towards B \n",
      "## DEBUG: 6. reset s1 and s2 age \n",
      "## DEBUG: 7. remove old edges \n",
      "## DEBUG: 8. Insert new neuron \n",
      "## DEBUG: 9. Decrease system error \n",
      "## DEBUG: \n",
      "## DEBUG: \n",
      "## DEBUG: Attemping to plot... \n",
      "## DEBUG: 1. Pick input signal P(B) \n",
      "## DEBUG: 2. Find two nearest units \n",
      "## DEBUG: Two nearest points: min_dist_1: 1.1634612335767804 min_dist_2: 2.713818966270063 \n",
      "## DEBUG: 3. Incremement Age of all edges from s_1 \n",
      "## DEBUG: 4. Add error to neuron \n",
      "## DEBUG: 5. Move s1 and neighbors towards B \n",
      "## DEBUG: 6. reset s1 and s2 age \n",
      "## DEBUG: 7. remove old edges \n",
      "## DEBUG: 8. Insert new neuron \n",
      "## DEBUG: 9. Decrease system error \n",
      "## DEBUG: \n",
      "## DEBUG: \n",
      "## DEBUG: Attemping to plot... \n",
      "## DEBUG: 1. Pick input signal P(B) \n",
      "## DEBUG: 2. Find two nearest units \n",
      "## DEBUG: Two nearest points: min_dist_1: 1.3419275412536458 min_dist_2: 1.4312408856694612 \n",
      "## DEBUG: 3. Incremement Age of all edges from s_1 \n",
      "## DEBUG: 4. Add error to neuron \n",
      "## DEBUG: 5. Move s1 and neighbors towards B \n",
      "## DEBUG: 6. reset s1 and s2 age \n",
      "## DEBUG: 7. remove old edges \n",
      "## DEBUG: 8. Insert new neuron \n",
      "## DEBUG: 9. Decrease system error \n",
      "## DEBUG: \n",
      "## DEBUG: \n",
      "## DEBUG: Attemping to plot... \n"
     ]
    },
    {
     "name": "stderr",
     "output_type": "stream",
     "text": [
      "\r",
      "  9%|█████████▉                                                                                                      | 89/1000 [00:07<01:25, 10.69it/s]"
     ]
    },
    {
     "name": "stdout",
     "output_type": "stream",
     "text": [
      "## DEBUG: 1. Pick input signal P(B) \n",
      "## DEBUG: 2. Find two nearest units \n",
      "## DEBUG: Two nearest points: min_dist_1: 0.4121986065867098 min_dist_2: 0.8280535568302144 \n",
      "## DEBUG: 3. Incremement Age of all edges from s_1 \n",
      "## DEBUG: 4. Add error to neuron \n",
      "## DEBUG: 5. Move s1 and neighbors towards B \n",
      "## DEBUG: 6. reset s1 and s2 age \n",
      "## DEBUG: 7. remove old edges \n",
      "## DEBUG: 8. Insert new neuron \n",
      "## DEBUG: 9. Decrease system error \n",
      "## DEBUG: \n",
      "## DEBUG: \n",
      "## DEBUG: Attemping to plot... \n",
      "## DEBUG: 1. Pick input signal P(B) \n",
      "## DEBUG: 2. Find two nearest units \n",
      "## DEBUG: Two nearest points: min_dist_1: 2.6466800804956065 min_dist_2: 3.3468718979264724 \n",
      "## DEBUG: 3. Incremement Age of all edges from s_1 \n",
      "## DEBUG: 4. Add error to neuron \n",
      "## DEBUG: 5. Move s1 and neighbors towards B \n",
      "## DEBUG: 6. reset s1 and s2 age \n",
      "## DEBUG: 7. remove old edges \n",
      "## DEBUG: 8. Insert new neuron \n",
      "## DEBUG: 9. Decrease system error \n",
      "## DEBUG: \n",
      "## DEBUG: \n",
      "## DEBUG: Attemping to plot... \n",
      "## DEBUG: 1. Pick input signal P(B) \n",
      "## DEBUG: 2. Find two nearest units \n",
      "## DEBUG: Two nearest points: min_dist_1: 2.6270117997872187 min_dist_2: 2.686267451170879 \n",
      "## DEBUG: 3. Incremement Age of all edges from s_1 \n",
      "## DEBUG: 4. Add error to neuron \n",
      "## DEBUG: 5. Move s1 and neighbors towards B \n",
      "## DEBUG: 6. reset s1 and s2 age \n",
      "## DEBUG: 7. remove old edges \n",
      "## DEBUG: 8. Insert new neuron \n",
      "## DEBUG: 9. Decrease system error \n",
      "## DEBUG: \n",
      "## DEBUG: \n",
      "## DEBUG: Attemping to plot... \n"
     ]
    },
    {
     "name": "stderr",
     "output_type": "stream",
     "text": [
      "  9%|██████████▍                                                                                                     | 93/1000 [00:07<01:19, 11.44it/s]"
     ]
    },
    {
     "name": "stdout",
     "output_type": "stream",
     "text": [
      "## DEBUG: 1. Pick input signal P(B) \n",
      "## DEBUG: 2. Find two nearest units \n",
      "## DEBUG: Two nearest points: min_dist_1: 1.8575153406386182 min_dist_2: 2.8142338069419837 \n",
      "## DEBUG: 3. Incremement Age of all edges from s_1 \n",
      "## DEBUG: 4. Add error to neuron \n",
      "## DEBUG: 5. Move s1 and neighbors towards B \n",
      "## DEBUG: 6. reset s1 and s2 age \n",
      "## DEBUG: 7. remove old edges \n",
      "## DEBUG: 8. Insert new neuron \n",
      "## DEBUG: 9. Decrease system error \n",
      "## DEBUG: \n",
      "## DEBUG: \n",
      "## DEBUG: Attemping to plot... \n",
      "## DEBUG: 1. Pick input signal P(B) \n",
      "## DEBUG: 2. Find two nearest units \n",
      "## DEBUG: Two nearest points: min_dist_1: 1.3225702798625214 min_dist_2: 3.129105614583467 \n",
      "## DEBUG: 3. Incremement Age of all edges from s_1 \n",
      "## DEBUG: 4. Add error to neuron \n",
      "## DEBUG: 5. Move s1 and neighbors towards B \n",
      "## DEBUG: 6. reset s1 and s2 age \n",
      "## DEBUG: 7. remove old edges \n",
      "## DEBUG: 8. Insert new neuron \n",
      "## DEBUG: 9. Decrease system error \n",
      "## DEBUG: \n",
      "## DEBUG: \n",
      "## DEBUG: Attemping to plot... \n",
      "## DEBUG: 1. Pick input signal P(B) \n",
      "## DEBUG: 2. Find two nearest units \n",
      "## DEBUG: Two nearest points: min_dist_1: 2.082172591530592 min_dist_2: 2.185613008625442 \n",
      "## DEBUG: 3. Incremement Age of all edges from s_1 \n",
      "## DEBUG: 4. Add error to neuron \n",
      "## DEBUG: 5. Move s1 and neighbors towards B \n",
      "## DEBUG: 6. reset s1 and s2 age \n",
      "## DEBUG: 7. remove old edges \n",
      "## DEBUG: 8. Insert new neuron \n",
      "## DEBUG: 9. Decrease system error \n",
      "## DEBUG: \n",
      "## DEBUG: \n",
      "## DEBUG: Attemping to plot... \n"
     ]
    },
    {
     "name": "stderr",
     "output_type": "stream",
     "text": [
      "\r",
      " 10%|██████████▋                                                                                                     | 95/1000 [00:07<01:18, 11.56it/s]"
     ]
    },
    {
     "name": "stdout",
     "output_type": "stream",
     "text": [
      "## DEBUG: 1. Pick input signal P(B) \n",
      "## DEBUG: 2. Find two nearest units \n",
      "## DEBUG: Two nearest points: min_dist_1: 3.004081173297624 min_dist_2: 3.9163917117309026 \n",
      "## DEBUG: 3. Incremement Age of all edges from s_1 \n",
      "## DEBUG: 4. Add error to neuron \n",
      "## DEBUG: 5. Move s1 and neighbors towards B \n",
      "## DEBUG: 6. reset s1 and s2 age \n",
      "## DEBUG: 7. remove old edges \n",
      "## DEBUG: 8. Insert new neuron \n",
      "## DEBUG: 9. Decrease system error \n",
      "## DEBUG: \n",
      "## DEBUG: \n",
      "## DEBUG: Attemping to plot... \n",
      "## DEBUG: 1. Pick input signal P(B) \n",
      "## DEBUG: 2. Find two nearest units \n",
      "## DEBUG: Two nearest points: min_dist_1: 6.503658712584636 min_dist_2: 6.870541898350356 \n",
      "## DEBUG: 3. Incremement Age of all edges from s_1 \n",
      "## DEBUG: 4. Add error to neuron \n",
      "## DEBUG: 5. Move s1 and neighbors towards B \n",
      "## DEBUG: 6. reset s1 and s2 age \n",
      "## DEBUG: 7. remove old edges \n",
      "## DEBUG: 8. Insert new neuron \n",
      "## DEBUG: 9. Decrease system error \n",
      "## DEBUG: \n",
      "## DEBUG: \n",
      "## DEBUG: Attemping to plot... \n",
      "## DEBUG: 1. Pick input signal P(B) \n",
      "## DEBUG: 2. Find two nearest units \n",
      "## DEBUG: Two nearest points: min_dist_1: 2.0287618782458225 min_dist_2: 2.677939131101483 \n",
      "## DEBUG: 3. Incremement Age of all edges from s_1 \n",
      "## DEBUG: 4. Add error to neuron \n",
      "## DEBUG: 5. Move s1 and neighbors towards B \n",
      "## DEBUG: 6. reset s1 and s2 age \n",
      "## DEBUG: 7. remove old edges \n",
      "## DEBUG: 8. Insert new neuron \n",
      "## DEBUG: 9. Decrease system error \n",
      "## DEBUG: \n",
      "## DEBUG: \n",
      "## DEBUG: Attemping to plot... \n"
     ]
    },
    {
     "name": "stderr",
     "output_type": "stream",
     "text": [
      " 10%|███████████                                                                                                     | 99/1000 [00:08<01:17, 11.59it/s]"
     ]
    },
    {
     "name": "stdout",
     "output_type": "stream",
     "text": [
      "## DEBUG: 1. Pick input signal P(B) \n",
      "## DEBUG: 2. Find two nearest units \n",
      "## DEBUG: Two nearest points: min_dist_1: 5.853292841326174 min_dist_2: 6.315301657232962 \n",
      "## DEBUG: 3. Incremement Age of all edges from s_1 \n",
      "## DEBUG: 4. Add error to neuron \n",
      "## DEBUG: 5. Move s1 and neighbors towards B \n",
      "## DEBUG: 6. reset s1 and s2 age \n",
      "## DEBUG: 7. remove old edges \n",
      "## DEBUG: 8. Insert new neuron \n",
      "## DEBUG: 9. Decrease system error \n",
      "## DEBUG: \n",
      "## DEBUG: \n",
      "## DEBUG: Attemping to plot... \n",
      "## DEBUG: 1. Pick input signal P(B) \n",
      "## DEBUG: 2. Find two nearest units \n",
      "## DEBUG: Two nearest points: min_dist_1: 5.814823480394961 min_dist_2: 6.186991766198769 \n",
      "## DEBUG: 3. Incremement Age of all edges from s_1 \n",
      "## DEBUG: 4. Add error to neuron \n",
      "## DEBUG: 5. Move s1 and neighbors towards B \n",
      "## DEBUG: 6. reset s1 and s2 age \n",
      "## DEBUG: 7. remove old edges \n",
      "## DEBUG: 8. Insert new neuron \n",
      "## DEBUG: 9. Decrease system error \n",
      "## DEBUG: \n",
      "## DEBUG: \n",
      "## DEBUG: Attemping to plot... \n",
      "## DEBUG: 1. Pick input signal P(B) \n",
      "## DEBUG: 2. Find two nearest units \n",
      "## DEBUG: Two nearest points: min_dist_1: 2.0989595030252595 min_dist_2: 3.2194928893817663 \n",
      "## DEBUG: 3. Incremement Age of all edges from s_1 \n",
      "## DEBUG: 4. Add error to neuron \n",
      "## DEBUG: 5. Move s1 and neighbors towards B \n",
      "## DEBUG: 6. reset s1 and s2 age \n",
      "## DEBUG: 7. remove old edges \n",
      "## DEBUG: 8. Insert new neuron \n",
      "## DEBUG: 9. Decrease system error \n",
      "## DEBUG: \n",
      "## DEBUG: \n",
      "## DEBUG: Attemping to plot... \n"
     ]
    },
    {
     "name": "stderr",
     "output_type": "stream",
     "text": [
      "\r",
      " 10%|███████████▏                                                                                                   | 101/1000 [00:08<01:17, 11.58it/s]"
     ]
    },
    {
     "name": "stdout",
     "output_type": "stream",
     "text": [
      "## DEBUG: 1. Pick input signal P(B) \n",
      "## DEBUG: 2. Find two nearest units \n",
      "## DEBUG: Two nearest points: min_dist_1: 3.55419901016522 min_dist_2: 4.50052021896933 \n",
      "## DEBUG: 3. Incremement Age of all edges from s_1 \n",
      "## DEBUG: 4. Add error to neuron \n",
      "## DEBUG: 5. Move s1 and neighbors towards B \n",
      "## DEBUG: 6. reset s1 and s2 age \n",
      "## DEBUG: 7. remove old edges \n",
      "## DEBUG: 8. Insert new neuron \n",
      "## DEBUG: 9. Decrease system error \n",
      "## DEBUG: \n",
      "## DEBUG: \n",
      "## DEBUG: Attemping to plot... \n",
      "## DEBUG: 1. Pick input signal P(B) \n",
      "## DEBUG: 2. Find two nearest units \n",
      "## DEBUG: Two nearest points: min_dist_1: 1.3210845815171903 min_dist_2: 1.6971566639522584 \n",
      "## DEBUG: 3. Incremement Age of all edges from s_1 \n",
      "## DEBUG: 4. Add error to neuron \n",
      "## DEBUG: 5. Move s1 and neighbors towards B \n",
      "## DEBUG: 6. reset s1 and s2 age \n",
      "## DEBUG: 7. remove old edges \n",
      "## DEBUG: 8. Insert new neuron \n",
      "## DEBUG: 9. Decrease system error \n",
      "## DEBUG: \n",
      "## DEBUG: \n",
      "## DEBUG: Attemping to plot... \n",
      "## DEBUG: 1. Pick input signal P(B) \n",
      "## DEBUG: 2. Find two nearest units \n",
      "## DEBUG: Two nearest points: min_dist_1: 1.0404725495467426 min_dist_2: 1.4173602971527173 \n",
      "## DEBUG: 3. Incremement Age of all edges from s_1 \n",
      "## DEBUG: 4. Add error to neuron \n",
      "## DEBUG: 5. Move s1 and neighbors towards B \n",
      "## DEBUG: 6. reset s1 and s2 age \n",
      "## DEBUG: 7. remove old edges \n",
      "## DEBUG: 8. Insert new neuron \n",
      "## DEBUG: 9. Decrease system error \n",
      "## DEBUG: \n",
      "## DEBUG: \n",
      "## DEBUG: Attemping to plot... \n"
     ]
    },
    {
     "name": "stderr",
     "output_type": "stream",
     "text": [
      "\r",
      " 10%|███████████▍                                                                                                   | 103/1000 [00:08<01:16, 11.65it/s]"
     ]
    },
    {
     "name": "stdout",
     "output_type": "stream",
     "text": [
      "## DEBUG: 1. Pick input signal P(B) \n",
      "## DEBUG: 2. Find two nearest units \n",
      "## DEBUG: Two nearest points: min_dist_1: 3.950399986273996 min_dist_2: 4.574979088688702 \n",
      "## DEBUG: 3. Incremement Age of all edges from s_1 \n",
      "## DEBUG: 4. Add error to neuron \n",
      "## DEBUG: 5. Move s1 and neighbors towards B \n",
      "## DEBUG: 6. reset s1 and s2 age \n",
      "## DEBUG: 7. remove old edges \n",
      "## DEBUG: 8. Insert new neuron \n",
      "## DEBUG: 9. Decrease system error \n",
      "## DEBUG: \n",
      "## DEBUG: \n",
      "## DEBUG: Attemping to plot... \n"
     ]
    },
    {
     "name": "stderr",
     "output_type": "stream",
     "text": [
      "\r",
      " 10%|███████████▋                                                                                                   | 105/1000 [00:08<01:38,  9.11it/s]"
     ]
    },
    {
     "name": "stdout",
     "output_type": "stream",
     "text": [
      "## DEBUG: 1. Pick input signal P(B) \n",
      "## DEBUG: 2. Find two nearest units \n",
      "## DEBUG: Two nearest points: min_dist_1: 0.1264025591593007 min_dist_2: 0.9487250189787109 \n",
      "## DEBUG: 3. Incremement Age of all edges from s_1 \n",
      "## DEBUG: 4. Add error to neuron \n",
      "## DEBUG: 5. Move s1 and neighbors towards B \n",
      "## DEBUG: 6. reset s1 and s2 age \n",
      "## DEBUG: 7. remove old edges \n",
      "## DEBUG: 8. Insert new neuron \n",
      "## DEBUG: 9. Decrease system error \n",
      "## DEBUG: \n",
      "## DEBUG: \n",
      "## DEBUG: Attemping to plot... \n",
      "## DEBUG: 1. Pick input signal P(B) \n",
      "## DEBUG: 2. Find two nearest units \n",
      "## DEBUG: Two nearest points: min_dist_1: 2.017140053068816 min_dist_2: 4.708904666408623 \n",
      "## DEBUG: 3. Incremement Age of all edges from s_1 \n",
      "## DEBUG: 4. Add error to neuron \n",
      "## DEBUG: 5. Move s1 and neighbors towards B \n",
      "## DEBUG: 6. reset s1 and s2 age \n",
      "## DEBUG: 7. remove old edges \n",
      "## DEBUG: 8. Insert new neuron \n",
      "## DEBUG: 9. Decrease system error \n",
      "## DEBUG: \n",
      "## DEBUG: \n",
      "## DEBUG: Attemping to plot... \n",
      "## DEBUG: 1. Pick input signal P(B) \n",
      "## DEBUG: 2. Find two nearest units \n"
     ]
    },
    {
     "name": "stderr",
     "output_type": "stream",
     "text": [
      "\r",
      " 11%|███████████▉                                                                                                   | 107/1000 [00:09<01:33,  9.56it/s]"
     ]
    },
    {
     "name": "stdout",
     "output_type": "stream",
     "text": [
      "## DEBUG: Two nearest points: min_dist_1: 5.273036879838346 min_dist_2: 6.309325420207232 \n",
      "## DEBUG: 3. Incremement Age of all edges from s_1 \n",
      "## DEBUG: 4. Add error to neuron \n",
      "## DEBUG: 5. Move s1 and neighbors towards B \n",
      "## DEBUG: 6. reset s1 and s2 age \n",
      "## DEBUG: 7. remove old edges \n",
      "## DEBUG: 8. Insert new neuron \n",
      "## DEBUG: 9. Decrease system error \n",
      "## DEBUG: \n",
      "## DEBUG: \n",
      "## DEBUG: Attemping to plot... \n",
      "## DEBUG: 1. Pick input signal P(B) \n",
      "## DEBUG: 2. Find two nearest units \n",
      "## DEBUG: Two nearest points: min_dist_1: 1.2615836277834165 min_dist_2: 1.8159678140789792 \n",
      "## DEBUG: 3. Incremement Age of all edges from s_1 \n",
      "## DEBUG: 4. Add error to neuron \n",
      "## DEBUG: 5. Move s1 and neighbors towards B \n",
      "## DEBUG: 6. reset s1 and s2 age \n",
      "## DEBUG: 7. remove old edges \n",
      "## DEBUG: 8. Insert new neuron \n",
      "## DEBUG: 9. Decrease system error \n",
      "## DEBUG: \n",
      "## DEBUG: \n",
      "## DEBUG: Attemping to plot... \n",
      "## DEBUG: 1. Pick input signal P(B) \n",
      "## DEBUG: 2. Find two nearest units \n",
      "## DEBUG: Two nearest points: min_dist_1: 2.6462951175052143 min_dist_2: 2.807007153675354 \n",
      "## DEBUG: 3. Incremement Age of all edges from s_1 \n",
      "## DEBUG: 4. Add error to neuron \n",
      "## DEBUG: 5. Move s1 and neighbors towards B \n",
      "## DEBUG: 6. reset s1 and s2 age \n",
      "## DEBUG: 7. remove old edges \n",
      "## DEBUG: 8. Insert new neuron \n",
      "## DEBUG: 9. Decrease system error \n",
      "## DEBUG: \n",
      "## DEBUG: \n",
      "## DEBUG: Attemping to plot... \n"
     ]
    },
    {
     "name": "stderr",
     "output_type": "stream",
     "text": [
      " 11%|████████████▎                                                                                                  | 111/1000 [00:09<01:24, 10.49it/s]"
     ]
    },
    {
     "name": "stdout",
     "output_type": "stream",
     "text": [
      "## DEBUG: 1. Pick input signal P(B) \n",
      "## DEBUG: 2. Find two nearest units \n",
      "## DEBUG: Two nearest points: min_dist_1: 1.2636972799915953 min_dist_2: 2.2568438210653325 \n",
      "## DEBUG: 3. Incremement Age of all edges from s_1 \n",
      "## DEBUG: 4. Add error to neuron \n",
      "## DEBUG: 5. Move s1 and neighbors towards B \n",
      "## DEBUG: 6. reset s1 and s2 age \n",
      "## DEBUG: 7. remove old edges \n",
      "## DEBUG: 8. Insert new neuron \n",
      "## DEBUG: 9. Decrease system error \n",
      "## DEBUG: \n",
      "## DEBUG: \n",
      "## DEBUG: Attemping to plot... \n",
      "## DEBUG: 1. Pick input signal P(B) \n",
      "## DEBUG: 2. Find two nearest units \n",
      "## DEBUG: Two nearest points: min_dist_1: 2.381665605754693 min_dist_2: 2.8042001465216786 \n",
      "## DEBUG: 3. Incremement Age of all edges from s_1 \n",
      "## DEBUG: 4. Add error to neuron \n",
      "## DEBUG: 5. Move s1 and neighbors towards B \n",
      "## DEBUG: 6. reset s1 and s2 age \n",
      "## DEBUG: 7. remove old edges \n",
      "## DEBUG: 8. Insert new neuron \n",
      "## DEBUG: 9. Decrease system error \n",
      "## DEBUG: \n",
      "## DEBUG: \n",
      "## DEBUG: Attemping to plot... \n",
      "## DEBUG: 1. Pick input signal P(B) \n",
      "## DEBUG: 2. Find two nearest units \n",
      "## DEBUG: Two nearest points: min_dist_1: 6.504308003466692 min_dist_2: 6.765112518356113 \n",
      "## DEBUG: 3. Incremement Age of all edges from s_1 \n",
      "## DEBUG: 4. Add error to neuron \n",
      "## DEBUG: 5. Move s1 and neighbors towards B \n",
      "## DEBUG: 6. reset s1 and s2 age \n",
      "## DEBUG: 7. remove old edges \n",
      "## DEBUG: 8. Insert new neuron \n",
      "## DEBUG: 9. Decrease system error \n",
      "## DEBUG: \n",
      "## DEBUG: \n",
      "## DEBUG: Attemping to plot... \n"
     ]
    },
    {
     "name": "stderr",
     "output_type": "stream",
     "text": [
      "\r",
      " 11%|████████████▌                                                                                                  | 113/1000 [00:09<01:22, 10.77it/s]"
     ]
    },
    {
     "name": "stdout",
     "output_type": "stream",
     "text": [
      "## DEBUG: 1. Pick input signal P(B) \n",
      "## DEBUG: 2. Find two nearest units \n",
      "## DEBUG: Two nearest points: min_dist_1: 3.055027386555188 min_dist_2: 3.434976557694958 \n",
      "## DEBUG: 3. Incremement Age of all edges from s_1 \n",
      "## DEBUG: 4. Add error to neuron \n",
      "## DEBUG: 5. Move s1 and neighbors towards B \n",
      "## DEBUG: 6. reset s1 and s2 age \n",
      "## DEBUG: 7. remove old edges \n",
      "## DEBUG: 8. Insert new neuron \n",
      "## DEBUG: 9. Decrease system error \n",
      "## DEBUG: \n",
      "## DEBUG: \n",
      "## DEBUG: Attemping to plot... \n",
      "## DEBUG: 1. Pick input signal P(B) \n",
      "## DEBUG: 2. Find two nearest units \n",
      "## DEBUG: Two nearest points: min_dist_1: 3.940390281216896 min_dist_2: 5.002722965332782 \n",
      "## DEBUG: 3. Incremement Age of all edges from s_1 \n",
      "## DEBUG: 4. Add error to neuron \n",
      "## DEBUG: 5. Move s1 and neighbors towards B \n",
      "## DEBUG: 6. reset s1 and s2 age \n",
      "## DEBUG: 7. remove old edges \n",
      "## DEBUG: 8. Insert new neuron \n",
      "## DEBUG: 9. Decrease system error \n",
      "## DEBUG: \n",
      "## DEBUG: \n",
      "## DEBUG: Attemping to plot... \n",
      "## DEBUG: 1. Pick input signal P(B) \n",
      "## DEBUG: 2. Find two nearest units \n",
      "## DEBUG: Two nearest points: min_dist_1: 2.238640579959234 min_dist_2: 2.5886435359327757 \n",
      "## DEBUG: 3. Incremement Age of all edges from s_1 \n",
      "## DEBUG: 4. Add error to neuron \n",
      "## DEBUG: 5. Move s1 and neighbors towards B \n",
      "## DEBUG: 6. reset s1 and s2 age \n",
      "## DEBUG: 7. remove old edges \n",
      "## DEBUG: 8. Insert new neuron \n",
      "## DEBUG: 9. Decrease system error \n",
      "## DEBUG: \n",
      "## DEBUG: \n",
      "## DEBUG: Attemping to plot... \n"
     ]
    },
    {
     "name": "stderr",
     "output_type": "stream",
     "text": [
      " 12%|████████████▉                                                                                                  | 117/1000 [00:10<01:18, 11.18it/s]"
     ]
    },
    {
     "name": "stdout",
     "output_type": "stream",
     "text": [
      "## DEBUG: 1. Pick input signal P(B) \n",
      "## DEBUG: 2. Find two nearest units \n",
      "## DEBUG: Two nearest points: min_dist_1: 3.390215960906729 min_dist_2: 4.0399636571439625 \n",
      "## DEBUG: 3. Incremement Age of all edges from s_1 \n",
      "## DEBUG: 4. Add error to neuron \n",
      "## DEBUG: 5. Move s1 and neighbors towards B \n",
      "## DEBUG: 6. reset s1 and s2 age \n",
      "## DEBUG: 7. remove old edges \n",
      "## DEBUG: 8. Insert new neuron \n",
      "## DEBUG: 9. Decrease system error \n",
      "## DEBUG: \n",
      "## DEBUG: \n",
      "## DEBUG: Attemping to plot... \n",
      "## DEBUG: 1. Pick input signal P(B) \n",
      "## DEBUG: 2. Find two nearest units \n",
      "## DEBUG: Two nearest points: min_dist_1: 0.6848189108357594 min_dist_2: 1.0429220885071295 \n",
      "## DEBUG: 3. Incremement Age of all edges from s_1 \n",
      "## DEBUG: 4. Add error to neuron \n",
      "## DEBUG: 5. Move s1 and neighbors towards B \n",
      "## DEBUG: 6. reset s1 and s2 age \n",
      "## DEBUG: 7. remove old edges \n",
      "## DEBUG: 8. Insert new neuron \n",
      "## DEBUG: 9. Decrease system error \n",
      "## DEBUG: \n",
      "## DEBUG: \n",
      "## DEBUG: Attemping to plot... \n",
      "## DEBUG: 1. Pick input signal P(B) \n",
      "## DEBUG: 2. Find two nearest units \n",
      "## DEBUG: Two nearest points: min_dist_1: 1.3233349258689153 min_dist_2: 2.8259144574110895 \n",
      "## DEBUG: 3. Incremement Age of all edges from s_1 \n",
      "## DEBUG: 4. Add error to neuron \n",
      "## DEBUG: 5. Move s1 and neighbors towards B \n",
      "## DEBUG: 6. reset s1 and s2 age \n",
      "## DEBUG: 7. remove old edges \n",
      "## DEBUG: 8. Insert new neuron \n",
      "## DEBUG: 9. Decrease system error \n",
      "## DEBUG: \n",
      "## DEBUG: \n",
      "## DEBUG: Attemping to plot... \n"
     ]
    },
    {
     "name": "stderr",
     "output_type": "stream",
     "text": [
      "\r",
      " 12%|█████████████▏                                                                                                 | 119/1000 [00:10<01:18, 11.20it/s]"
     ]
    },
    {
     "name": "stdout",
     "output_type": "stream",
     "text": [
      "## DEBUG: 1. Pick input signal P(B) \n",
      "## DEBUG: 2. Find two nearest units \n",
      "## DEBUG: Two nearest points: min_dist_1: 1.4184222909789466 min_dist_2: 1.7857519432705566 \n",
      "## DEBUG: 3. Incremement Age of all edges from s_1 \n",
      "## DEBUG: 4. Add error to neuron \n",
      "## DEBUG: 5. Move s1 and neighbors towards B \n",
      "## DEBUG: 6. reset s1 and s2 age \n",
      "## DEBUG: 7. remove old edges \n",
      "## DEBUG: 8. Insert new neuron \n",
      "## DEBUG: 9. Decrease system error \n",
      "## DEBUG: \n",
      "## DEBUG: \n",
      "## DEBUG: Attemping to plot... \n",
      "## DEBUG: 1. Pick input signal P(B) \n",
      "## DEBUG: 2. Find two nearest units \n",
      "## DEBUG: Two nearest points: min_dist_1: 0.5915611522717514 min_dist_2: 1.4773707359220771 \n",
      "## DEBUG: 3. Incremement Age of all edges from s_1 \n",
      "## DEBUG: 4. Add error to neuron \n",
      "## DEBUG: 5. Move s1 and neighbors towards B \n",
      "## DEBUG: 6. reset s1 and s2 age \n",
      "## DEBUG: 7. remove old edges \n",
      "## DEBUG: 8. Insert new neuron \n",
      "## DEBUG: 9. Decrease system error \n",
      "## DEBUG: \n",
      "## DEBUG: \n",
      "## DEBUG: Attemping to plot... \n",
      "## DEBUG: 1. Pick input signal P(B) \n",
      "## DEBUG: 2. Find two nearest units \n",
      "## DEBUG: Two nearest points: min_dist_1: 0.6229352335390469 min_dist_2: 1.0708006863000983 \n",
      "## DEBUG: 3. Incremement Age of all edges from s_1 \n",
      "## DEBUG: 4. Add error to neuron \n",
      "## DEBUG: 5. Move s1 and neighbors towards B \n",
      "## DEBUG: 6. reset s1 and s2 age \n",
      "## DEBUG: 7. remove old edges \n",
      "## DEBUG: 8. Insert new neuron \n",
      "## DEBUG: 9. Decrease system error \n",
      "## DEBUG: \n",
      "## DEBUG: \n",
      "## DEBUG: Attemping to plot... \n"
     ]
    },
    {
     "name": "stderr",
     "output_type": "stream",
     "text": [
      " 12%|█████████████▋                                                                                                 | 123/1000 [00:10<01:16, 11.43it/s]"
     ]
    },
    {
     "name": "stdout",
     "output_type": "stream",
     "text": [
      "## DEBUG: 1. Pick input signal P(B) \n",
      "## DEBUG: 2. Find two nearest units \n",
      "## DEBUG: Two nearest points: min_dist_1: 2.297167507946976 min_dist_2: 5.330537215548423 \n",
      "## DEBUG: 3. Incremement Age of all edges from s_1 \n",
      "## DEBUG: 4. Add error to neuron \n",
      "## DEBUG: 5. Move s1 and neighbors towards B \n",
      "## DEBUG: 6. reset s1 and s2 age \n",
      "## DEBUG: 7. remove old edges \n",
      "## DEBUG: 8. Insert new neuron \n",
      "## DEBUG: 9. Decrease system error \n",
      "## DEBUG: \n",
      "## DEBUG: \n",
      "## DEBUG: Attemping to plot... \n",
      "## DEBUG: 1. Pick input signal P(B) \n",
      "## DEBUG: 2. Find two nearest units \n",
      "## DEBUG: Two nearest points: min_dist_1: 3.8743113343642706 min_dist_2: 4.776925094449117 \n",
      "## DEBUG: 3. Incremement Age of all edges from s_1 \n",
      "## DEBUG: 4. Add error to neuron \n",
      "## DEBUG: 5. Move s1 and neighbors towards B \n",
      "## DEBUG: 6. reset s1 and s2 age \n",
      "## DEBUG: 7. remove old edges \n",
      "## DEBUG: 8. Insert new neuron \n",
      "## DEBUG: 9. Decrease system error \n",
      "## DEBUG: \n",
      "## DEBUG: \n",
      "## DEBUG: Attemping to plot... \n",
      "## DEBUG: 1. Pick input signal P(B) \n",
      "## DEBUG: 2. Find two nearest units \n",
      "## DEBUG: Two nearest points: min_dist_1: 2.9909494053101495 min_dist_2: 5.151888770487058 \n",
      "## DEBUG: 3. Incremement Age of all edges from s_1 \n",
      "## DEBUG: 4. Add error to neuron \n",
      "## DEBUG: 5. Move s1 and neighbors towards B \n",
      "## DEBUG: 6. reset s1 and s2 age \n",
      "## DEBUG: 7. remove old edges \n",
      "## DEBUG: 8. Insert new neuron \n",
      "## DEBUG: 9. Decrease system error \n",
      "## DEBUG: \n",
      "## DEBUG: \n",
      "## DEBUG: Attemping to plot... \n",
      "## DEBUG: 1. Pick input signal P(B) \n",
      "## DEBUG: 2. Find two nearest units \n",
      "## DEBUG: Two nearest points: min_dist_1: 3.4191826244452224 min_dist_2: 4.339498191149678 \n",
      "## DEBUG: 3. Incremement Age of all edges from s_1 \n",
      "## DEBUG: 4. Add error to neuron \n",
      "## DEBUG: 5. Move s1 and neighbors towards B \n",
      "## DEBUG: 6. reset s1 and s2 age \n",
      "## DEBUG: 7. remove old edges \n",
      "## DEBUG: 8. Insert new neuron \n",
      "## DEBUG: 9. Decrease system error \n",
      "## DEBUG: \n",
      "## DEBUG: \n",
      "## DEBUG: Attemping to plot... \n"
     ]
    },
    {
     "name": "stderr",
     "output_type": "stream",
     "text": [
      " 13%|██████████████                                                                                                 | 127/1000 [00:11<01:34,  9.28it/s]"
     ]
    },
    {
     "name": "stdout",
     "output_type": "stream",
     "text": [
      "## DEBUG: 1. Pick input signal P(B) \n",
      "## DEBUG: 2. Find two nearest units \n",
      "## DEBUG: Two nearest points: min_dist_1: 4.975965660399964 min_dist_2: 5.60142357581243 \n",
      "## DEBUG: 3. Incremement Age of all edges from s_1 \n",
      "## DEBUG: 4. Add error to neuron \n",
      "## DEBUG: 5. Move s1 and neighbors towards B \n",
      "## DEBUG: 6. reset s1 and s2 age \n",
      "## DEBUG: 7. remove old edges \n",
      "## DEBUG: 8. Insert new neuron \n",
      "## DEBUG: 9. Decrease system error \n",
      "## DEBUG: \n",
      "## DEBUG: \n",
      "## DEBUG: Attemping to plot... \n",
      "## DEBUG: 1. Pick input signal P(B) \n",
      "## DEBUG: 2. Find two nearest units \n",
      "## DEBUG: Two nearest points: min_dist_1: 0.11376230324337028 min_dist_2: 0.9500498697266425 \n",
      "## DEBUG: 3. Incremement Age of all edges from s_1 \n",
      "## DEBUG: 4. Add error to neuron \n",
      "## DEBUG: 5. Move s1 and neighbors towards B \n",
      "## DEBUG: 6. reset s1 and s2 age \n",
      "## DEBUG: 7. remove old edges \n",
      "## DEBUG: 8. Insert new neuron \n",
      "## DEBUG: 9. Decrease system error \n",
      "## DEBUG: \n",
      "## DEBUG: \n",
      "## DEBUG: Attemping to plot... \n",
      "## DEBUG: 1. Pick input signal P(B) \n",
      "## DEBUG: 2. Find two nearest units \n",
      "## DEBUG: Two nearest points: min_dist_1: 2.194490946693466 min_dist_2: 2.3692352745622514 \n",
      "## DEBUG: 3. Incremement Age of all edges from s_1 \n",
      "## DEBUG: 4. Add error to neuron \n",
      "## DEBUG: 5. Move s1 and neighbors towards B \n",
      "## DEBUG: 6. reset s1 and s2 age \n",
      "## DEBUG: 7. remove old edges \n",
      "## DEBUG: 8. Insert new neuron \n",
      "## DEBUG: 9. Decrease system error \n",
      "## DEBUG: \n",
      "## DEBUG: \n",
      "## DEBUG: Attemping to plot... \n"
     ]
    },
    {
     "name": "stderr",
     "output_type": "stream",
     "text": [
      "\r",
      " 13%|██████████████▎                                                                                                | 129/1000 [00:11<01:28,  9.87it/s]"
     ]
    },
    {
     "name": "stdout",
     "output_type": "stream",
     "text": [
      "## DEBUG: 1. Pick input signal P(B) \n",
      "## DEBUG: 2. Find two nearest units \n",
      "## DEBUG: Two nearest points: min_dist_1: 1.8235002152330155 min_dist_2: 3.773403832501424 \n",
      "## DEBUG: 3. Incremement Age of all edges from s_1 \n",
      "## DEBUG: 4. Add error to neuron \n",
      "## DEBUG: 5. Move s1 and neighbors towards B \n",
      "## DEBUG: 6. reset s1 and s2 age \n",
      "## DEBUG: 7. remove old edges \n",
      "## DEBUG: 8. Insert new neuron \n",
      "## DEBUG: 9. Decrease system error \n",
      "## DEBUG: \n",
      "## DEBUG: \n",
      "## DEBUG: Attemping to plot... \n",
      "## DEBUG: 1. Pick input signal P(B) \n",
      "## DEBUG: 2. Find two nearest units \n",
      "## DEBUG: Two nearest points: min_dist_1: 0.935355838851733 min_dist_2: 1.9460987860759147 \n",
      "## DEBUG: 3. Incremement Age of all edges from s_1 \n",
      "## DEBUG: 4. Add error to neuron \n",
      "## DEBUG: 5. Move s1 and neighbors towards B \n",
      "## DEBUG: 6. reset s1 and s2 age \n",
      "## DEBUG: 7. remove old edges \n",
      "## DEBUG: 8. Insert new neuron \n",
      "## DEBUG: 9. Decrease system error \n",
      "## DEBUG: \n",
      "## DEBUG: \n",
      "## DEBUG: Attemping to plot... \n",
      "## DEBUG: 1. Pick input signal P(B) \n",
      "## DEBUG: 2. Find two nearest units \n",
      "## DEBUG: Two nearest points: min_dist_1: 0.5327145206761247 min_dist_2: 0.6960324683739121 \n",
      "## DEBUG: 3. Incremement Age of all edges from s_1 \n",
      "## DEBUG: 4. Add error to neuron \n",
      "## DEBUG: 5. Move s1 and neighbors towards B \n",
      "## DEBUG: 6. reset s1 and s2 age \n",
      "## DEBUG: 7. remove old edges \n",
      "## DEBUG: 8. Insert new neuron \n",
      "## DEBUG: 9. Decrease system error \n",
      "## DEBUG: \n",
      "## DEBUG: \n",
      "## DEBUG: Attemping to plot... \n"
     ]
    },
    {
     "name": "stderr",
     "output_type": "stream",
     "text": [
      " 13%|██████████████▊                                                                                                | 133/1000 [00:11<01:22, 10.56it/s]"
     ]
    },
    {
     "name": "stdout",
     "output_type": "stream",
     "text": [
      "## DEBUG: 1. Pick input signal P(B) \n",
      "## DEBUG: 2. Find two nearest units \n",
      "## DEBUG: Two nearest points: min_dist_1: 1.1770109308697698 min_dist_2: 1.8866045084630179 \n",
      "## DEBUG: 3. Incremement Age of all edges from s_1 \n",
      "## DEBUG: 4. Add error to neuron \n",
      "## DEBUG: 5. Move s1 and neighbors towards B \n",
      "## DEBUG: 6. reset s1 and s2 age \n",
      "## DEBUG: 7. remove old edges \n",
      "## DEBUG: 8. Insert new neuron \n",
      "## DEBUG: 9. Decrease system error \n",
      "## DEBUG: \n",
      "## DEBUG: \n",
      "## DEBUG: Attemping to plot... \n",
      "## DEBUG: 1. Pick input signal P(B) \n",
      "## DEBUG: 2. Find two nearest units \n",
      "## DEBUG: Two nearest points: min_dist_1: 0.9537788161813096 min_dist_2: 1.2529443518468475 \n",
      "## DEBUG: 3. Incremement Age of all edges from s_1 \n",
      "## DEBUG: 4. Add error to neuron \n",
      "## DEBUG: 5. Move s1 and neighbors towards B \n",
      "## DEBUG: 6. reset s1 and s2 age \n",
      "## DEBUG: 7. remove old edges \n",
      "## DEBUG: 8. Insert new neuron \n",
      "## DEBUG: 9. Decrease system error \n",
      "## DEBUG: \n",
      "## DEBUG: \n",
      "## DEBUG: Attemping to plot... \n",
      "## DEBUG: 1. Pick input signal P(B) \n",
      "## DEBUG: 2. Find two nearest units \n",
      "## DEBUG: Two nearest points: min_dist_1: 1.8210603212119754 min_dist_2: 1.978256998533157 \n",
      "## DEBUG: 3. Incremement Age of all edges from s_1 \n",
      "## DEBUG: 4. Add error to neuron \n",
      "## DEBUG: 5. Move s1 and neighbors towards B \n",
      "## DEBUG: 6. reset s1 and s2 age \n",
      "## DEBUG: 7. remove old edges \n",
      "## DEBUG: 8. Insert new neuron \n",
      "## DEBUG: 9. Decrease system error \n",
      "## DEBUG: \n",
      "## DEBUG: \n",
      "## DEBUG: Attemping to plot... \n"
     ]
    },
    {
     "name": "stderr",
     "output_type": "stream",
     "text": [
      "\r",
      " 14%|██████████████▉                                                                                                | 135/1000 [00:11<01:20, 10.79it/s]"
     ]
    },
    {
     "name": "stdout",
     "output_type": "stream",
     "text": [
      "## DEBUG: 1. Pick input signal P(B) \n",
      "## DEBUG: 2. Find two nearest units \n",
      "## DEBUG: Two nearest points: min_dist_1: 3.120565716438691 min_dist_2: 3.7776639765939097 \n",
      "## DEBUG: 3. Incremement Age of all edges from s_1 \n",
      "## DEBUG: 4. Add error to neuron \n",
      "## DEBUG: 5. Move s1 and neighbors towards B \n",
      "## DEBUG: 6. reset s1 and s2 age \n",
      "## DEBUG: 7. remove old edges \n",
      "## DEBUG: 8. Insert new neuron \n",
      "## DEBUG: 9. Decrease system error \n",
      "## DEBUG: \n",
      "## DEBUG: \n",
      "## DEBUG: Attemping to plot... \n",
      "## DEBUG: 1. Pick input signal P(B) \n",
      "## DEBUG: 2. Find two nearest units \n",
      "## DEBUG: Two nearest points: min_dist_1: 1.598042331099519 min_dist_2: 3.2239431306314916 \n",
      "## DEBUG: 3. Incremement Age of all edges from s_1 \n",
      "## DEBUG: 4. Add error to neuron \n",
      "## DEBUG: 5. Move s1 and neighbors towards B \n",
      "## DEBUG: 6. reset s1 and s2 age \n",
      "## DEBUG: 7. remove old edges \n",
      "## DEBUG: 8. Insert new neuron \n",
      "## DEBUG: 9. Decrease system error \n",
      "## DEBUG: \n",
      "## DEBUG: \n",
      "## DEBUG: Attemping to plot... \n",
      "## DEBUG: 1. Pick input signal P(B) \n",
      "## DEBUG: 2. Find two nearest units \n",
      "## DEBUG: Two nearest points: min_dist_1: 2.176144748135106 min_dist_2: 3.5101937457587367 \n",
      "## DEBUG: 3. Incremement Age of all edges from s_1 \n",
      "## DEBUG: 4. Add error to neuron \n",
      "## DEBUG: 5. Move s1 and neighbors towards B \n",
      "## DEBUG: 6. reset s1 and s2 age \n",
      "## DEBUG: 7. remove old edges \n",
      "## DEBUG: 8. Insert new neuron \n",
      "## DEBUG: 9. Decrease system error \n",
      "## DEBUG: \n",
      "## DEBUG: \n",
      "## DEBUG: Attemping to plot... \n"
     ]
    },
    {
     "name": "stderr",
     "output_type": "stream",
     "text": [
      " 14%|███████████████▍                                                                                               | 139/1000 [00:12<01:18, 11.00it/s]"
     ]
    },
    {
     "name": "stdout",
     "output_type": "stream",
     "text": [
      "## DEBUG: 1. Pick input signal P(B) \n",
      "## DEBUG: 2. Find two nearest units \n",
      "## DEBUG: Two nearest points: min_dist_1: 1.2281026403851145 min_dist_2: 1.8361026572792662 \n",
      "## DEBUG: 3. Incremement Age of all edges from s_1 \n",
      "## DEBUG: 4. Add error to neuron \n",
      "## DEBUG: 5. Move s1 and neighbors towards B \n",
      "## DEBUG: 6. reset s1 and s2 age \n",
      "## DEBUG: 7. remove old edges \n",
      "## DEBUG: 8. Insert new neuron \n",
      "## DEBUG: 9. Decrease system error \n",
      "## DEBUG: \n",
      "## DEBUG: \n",
      "## DEBUG: Attemping to plot... \n",
      "## DEBUG: 1. Pick input signal P(B) \n",
      "## DEBUG: 2. Find two nearest units \n",
      "## DEBUG: Two nearest points: min_dist_1: 1.2982846595588537 min_dist_2: 1.310046258555328 \n",
      "## DEBUG: 3. Incremement Age of all edges from s_1 \n",
      "## DEBUG: 4. Add error to neuron \n",
      "## DEBUG: 5. Move s1 and neighbors towards B \n",
      "## DEBUG: 6. reset s1 and s2 age \n",
      "## DEBUG: 7. remove old edges \n",
      "## DEBUG: 8. Insert new neuron \n",
      "## DEBUG: 9. Decrease system error \n",
      "## DEBUG: \n",
      "## DEBUG: \n",
      "## DEBUG: Attemping to plot... \n",
      "## DEBUG: 1. Pick input signal P(B) \n",
      "## DEBUG: 2. Find two nearest units \n",
      "## DEBUG: Two nearest points: min_dist_1: 1.9241782842304616 min_dist_2: 2.4862786777540853 \n",
      "## DEBUG: 3. Incremement Age of all edges from s_1 \n",
      "## DEBUG: 4. Add error to neuron \n",
      "## DEBUG: 5. Move s1 and neighbors towards B \n",
      "## DEBUG: 6. reset s1 and s2 age \n",
      "## DEBUG: 7. remove old edges \n",
      "## DEBUG: 8. Insert new neuron \n",
      "## DEBUG: 9. Decrease system error \n",
      "## DEBUG: \n",
      "## DEBUG: \n",
      "## DEBUG: Attemping to plot... \n"
     ]
    },
    {
     "name": "stderr",
     "output_type": "stream",
     "text": [
      "\r",
      " 14%|███████████████▋                                                                                               | 141/1000 [00:12<01:17, 11.12it/s]"
     ]
    },
    {
     "name": "stdout",
     "output_type": "stream",
     "text": [
      "## DEBUG: 1. Pick input signal P(B) \n",
      "## DEBUG: 2. Find two nearest units \n",
      "## DEBUG: Two nearest points: min_dist_1: 1.114237632899702 min_dist_2: 1.3649070732032775 \n",
      "## DEBUG: 3. Incremement Age of all edges from s_1 \n",
      "## DEBUG: 4. Add error to neuron \n",
      "## DEBUG: 5. Move s1 and neighbors towards B \n",
      "## DEBUG: 6. reset s1 and s2 age \n",
      "## DEBUG: 7. remove old edges \n",
      "## DEBUG: 8. Insert new neuron \n",
      "## DEBUG: 9. Decrease system error \n",
      "## DEBUG: \n",
      "## DEBUG: \n",
      "## DEBUG: Attemping to plot... \n",
      "## DEBUG: 1. Pick input signal P(B) \n",
      "## DEBUG: 2. Find two nearest units \n",
      "## DEBUG: Two nearest points: min_dist_1: 4.876704471379827 min_dist_2: 4.970569453951111 \n",
      "## DEBUG: 3. Incremement Age of all edges from s_1 \n",
      "## DEBUG: 4. Add error to neuron \n",
      "## DEBUG: 5. Move s1 and neighbors towards B \n",
      "## DEBUG: 6. reset s1 and s2 age \n",
      "## DEBUG: 7. remove old edges \n",
      "## DEBUG: 8. Insert new neuron \n",
      "## DEBUG: 9. Decrease system error \n",
      "## DEBUG: \n",
      "## DEBUG: \n",
      "## DEBUG: Attemping to plot... \n",
      "## DEBUG: 1. Pick input signal P(B) \n",
      "## DEBUG: 2. Find two nearest units \n",
      "## DEBUG: Two nearest points: min_dist_1: 3.6659104347864564 min_dist_2: 4.205928550309776 \n",
      "## DEBUG: 3. Incremement Age of all edges from s_1 \n",
      "## DEBUG: 4. Add error to neuron \n",
      "## DEBUG: 5. Move s1 and neighbors towards B \n",
      "## DEBUG: 6. reset s1 and s2 age \n",
      "## DEBUG: 7. remove old edges \n",
      "## DEBUG:"
     ]
    },
    {
     "name": "stderr",
     "output_type": "stream",
     "text": [
      "\r",
      " 14%|███████████████▊                                                                                               | 143/1000 [00:12<01:18, 10.88it/s]"
     ]
    },
    {
     "name": "stdout",
     "output_type": "stream",
     "text": [
      " 8. Insert new neuron \n",
      "## DEBUG: 9. Decrease system error \n",
      "## DEBUG: \n",
      "## DEBUG: \n",
      "## DEBUG: Attemping to plot... \n",
      "## DEBUG: 1. Pick input signal P(B) \n",
      "## DEBUG: 2. Find two nearest units \n",
      "## DEBUG: Two nearest points: min_dist_1: 6.9048569962708415 min_dist_2: 7.964240621700945 \n",
      "## DEBUG: 3. Incremement Age of all edges from s_1 \n",
      "## DEBUG: 4. Add error to neuron \n",
      "## DEBUG: 5. Move s1 and neighbors towards B \n",
      "## DEBUG: 6. reset s1 and s2 age \n",
      "## DEBUG: 7. remove old edges \n",
      "## DEBUG: 8. Insert new neuron \n",
      "## DEBUG: 9. Decrease system error \n",
      "## DEBUG: \n",
      "## DEBUG: \n",
      "## DEBUG: Attemping to plot... \n",
      "## DEBUG: 1. Pick input signal P(B) \n",
      "## DEBUG: 2. Find two nearest units \n"
     ]
    },
    {
     "name": "stderr",
     "output_type": "stream",
     "text": [
      "\r",
      " 14%|████████████████                                                                                               | 145/1000 [00:12<01:19, 10.72it/s]"
     ]
    },
    {
     "name": "stdout",
     "output_type": "stream",
     "text": [
      "## DEBUG: Two nearest points: min_dist_1: 2.817624706850858 min_dist_2: 2.953317333143943 \n",
      "## DEBUG: 3. Incremement Age of all edges from s_1 \n",
      "## DEBUG: 4. Add error to neuron \n",
      "## DEBUG: 5. Move s1 and neighbors towards B \n",
      "## DEBUG: 6. reset s1 and s2 age \n",
      "## DEBUG: 7. remove old edges \n",
      "## DEBUG: 8. Insert new neuron \n",
      "## DEBUG: 9. Decrease system error \n",
      "## DEBUG: \n",
      "## DEBUG: \n",
      "## DEBUG: Attemping to plot... \n",
      "## DEBUG: 1. Pick input signal P(B) \n",
      "## DEBUG: 2. Find two nearest units \n",
      "## DEBUG: Two nearest points: min_dist_1: 1.5294279406123836 min_dist_2: 3.4373035326587615 \n",
      "## DEBUG: 3. Incremement Age of all edges from s_1 \n",
      "## DEBUG: 4. Add error to neuron \n",
      "## DEBUG: 5. Move s1 and neighbors towards B \n",
      "## DEBUG: 6. reset s1 and s2 age \n",
      "## DEBUG: 7. remove old edges \n",
      "## DEBUG: 8. Insert new neuron \n",
      "## DEBUG: 9. Decrease system error \n",
      "## DEBUG: \n",
      "## DEBUG: \n",
      "## DEBUG: Attemping to plot... \n",
      "## DEBUG: 1. Pick input signal P(B) \n",
      "## DEBUG: 2. Find two nearest units \n",
      "## DEBUG: Two nearest points: min_dist_1: 2.8132351009360486 min_dist_2: 3.5298855405718847 \n",
      "## DEBUG: 3. Incremement Age of all edges from s_1 \n",
      "## DEBUG: 4. Add error to neuron \n",
      "## DEBUG: 5. Move s1 and neighbors towards B \n",
      "## DEBUG: 6. reset s1 and s2 age \n",
      "## DEBUG: 7. remove old edges \n",
      "## DEBUG: 8. Insert new neuron \n",
      "## DEBUG: 9. Decrease system error \n",
      "## DEBUG: \n",
      "## DEBUG: \n",
      "## DEBUG: Attemping to plot... \n"
     ]
    },
    {
     "name": "stderr",
     "output_type": "stream",
     "text": [
      " 15%|████████████████▌                                                                                              | 149/1000 [00:13<01:18, 10.78it/s]"
     ]
    },
    {
     "name": "stdout",
     "output_type": "stream",
     "text": [
      "## DEBUG: 1. Pick input signal P(B) \n",
      "## DEBUG: 2. Find two nearest units \n",
      "## DEBUG: Two nearest points: min_dist_1: 1.1373383685045926 min_dist_2: 3.1795749105393822 \n",
      "## DEBUG: 3. Incremement Age of all edges from s_1 \n",
      "## DEBUG: 4. Add error to neuron \n",
      "## DEBUG: 5. Move s1 and neighbors towards B \n",
      "## DEBUG: 6. reset s1 and s2 age \n",
      "## DEBUG: 7. remove old edges \n",
      "## DEBUG: 8. Insert new neuron \n",
      "## DEBUG: 9. Decrease system error \n",
      "## DEBUG: \n",
      "## DEBUG: \n",
      "## DEBUG: Attemping to plot... \n",
      "## DEBUG: 1. Pick input signal P(B) \n",
      "## DEBUG: 2. Find two nearest units \n",
      "## DEBUG: Two nearest points: min_dist_1: 4.895462451160946 min_dist_2: 5.829660607172121 \n",
      "## DEBUG: 3. Incremement Age of all edges from s_1 \n",
      "## DEBUG: 4. Add error to neuron \n",
      "## DEBUG: 5. Move s1 and neighbors towards B \n",
      "## DEBUG: 6. reset s1 and s2 age \n",
      "## DEBUG: 7. remove old edges \n",
      "## DEBUG: 8. Insert new neuron \n",
      "## DEBUG: 9. Decrease system error \n",
      "## DEBUG: \n",
      "## DEBUG: \n",
      "## DEBUG: Attemping to plot... \n"
     ]
    },
    {
     "name": "stderr",
     "output_type": "stream",
     "text": [
      "\r",
      " 15%|████████████████▊                                                                                              | 151/1000 [00:13<01:51,  7.61it/s]"
     ]
    },
    {
     "name": "stdout",
     "output_type": "stream",
     "text": [
      "## DEBUG: 1. Pick input signal P(B) \n",
      "## DEBUG: 2. Find two nearest units \n",
      "## DEBUG: Two nearest points: min_dist_1: 0.47619156652138045 min_dist_2: 0.9806781975064931 \n",
      "## DEBUG: 3. Incremement Age of all edges from s_1 \n",
      "## DEBUG: 4. Add error to neuron \n",
      "## DEBUG: 5. Move s1 and neighbors towards B \n",
      "## DEBUG: 6. reset s1 and s2 age \n",
      "## DEBUG: 7. remove old edges \n",
      "## DEBUG: 8. Insert new neuron \n",
      "## DEBUG: 9. Decrease system error \n",
      "## DEBUG: \n",
      "## DEBUG: \n",
      "## DEBUG: Attemping to plot... \n",
      "## DEBUG: 1. Pick input signal P(B) \n",
      "## DEBUG: 2. Find two nearest units \n",
      "## DEBUG: Two nearest points: min_dist_1: 2.134492503839893 min_dist_2: 2.9993422661005718 \n",
      "## DEBUG: 3. Incremement Age of all edges from s_1 \n",
      "## DEBUG: 4. Add error to neuron \n",
      "## DEBUG: 5. Move s1 and neighbors towards B \n",
      "## DEBUG: 6. reset s1 and s2 age \n",
      "## DEBUG: 7. remove old edges \n",
      "## DEBUG: 8. Insert new neuron \n",
      "## DEBUG: 9. Decrease system error \n",
      "## DEBUG: \n",
      "## DEBUG: \n",
      "## DEBUG: Attemping to plot... \n",
      "## DEBUG: 1. Pick input signal P(B) \n",
      "## DEBUG: 2. Find two nearest units \n",
      "## DEBUG: Two nearest points: min_dist_1: 4.474061886619777 min_dist_2: 5.148293526856515 \n",
      "## DEBUG: 3. Incremement Age of all edges from s_1 \n",
      "## DEBUG: 4. Add error to neuron \n",
      "## DEBUG: 5. Move s1 and neighbors towards B \n",
      "## DEBUG: 6. reset s1 and s2 age \n",
      "## DEBUG: 7. remove old edges \n",
      "## DEBUG: 8. Insert new neuron \n",
      "## DEBUG: 9. Decrease system error \n",
      "## DEBUG: \n",
      "## DEBUG: \n",
      "## DEBUG: Attemping to plot... \n"
     ]
    },
    {
     "name": "stderr",
     "output_type": "stream",
     "text": [
      "\r",
      " 15%|████████████████▉                                                                                              | 153/1000 [00:13<01:42,  8.26it/s]"
     ]
    },
    {
     "name": "stdout",
     "output_type": "stream",
     "text": [
      "## DEBUG: 1. Pick input signal P(B) \n",
      "## DEBUG: 2. Find two nearest units \n",
      "## DEBUG: Two nearest points: min_dist_1: 0.3722602614799898 min_dist_2: 0.48538288358344633 \n",
      "## DEBUG: 3. Incremement Age of all edges from s_1 \n",
      "## DEBUG: 4. Add error to neuron \n",
      "## DEBUG: 5. Move s1 and neighbors towards B \n",
      "## DEBUG: 6. reset s1 and s2 age \n",
      "## DEBUG: 7. remove old edges \n",
      "## DEBUG: 8. Insert new neuron \n",
      "## DEBUG: 9. Decrease system error \n",
      "## DEBUG: \n",
      "## DEBUG: \n",
      "## DEBUG: Attemping to plot... \n",
      "## DEBUG: 1. Pick input signal P(B) \n",
      "## DEBUG: 2. Find two nearest units \n",
      "## DEBUG: Two nearest points: min_dist_1: 4.488112104141439 min_dist_2: 5.13642404310636 \n",
      "## DEBUG: 3. Incremement Age of all edges from s_1 \n",
      "## DEBUG: 4. Add error to neuron \n",
      "## DEBUG: 5. Move s1 and neighbors towards B \n",
      "## DEBUG: 6. reset s1 and s2 age \n",
      "## DEBUG: 7. remove old edges \n",
      "## DEBUG: 8. Insert new neuron \n",
      "## DEBUG: 9. Decrease system error \n",
      "## DEBUG: \n",
      "## DEBUG: \n",
      "## DEBUG: Attemping to plot... \n",
      "## DEBUG: 1. Pick input signal P(B) \n"
     ]
    },
    {
     "name": "stderr",
     "output_type": "stream",
     "text": [
      "\r",
      " 16%|█████████████████▏                                                                                             | 155/1000 [00:13<01:34,  8.92it/s]"
     ]
    },
    {
     "name": "stdout",
     "output_type": "stream",
     "text": [
      "## DEBUG: 2. Find two nearest units \n",
      "## DEBUG: Two nearest points: min_dist_1: 3.92617616280369 min_dist_2: 4.197232440615687 \n",
      "## DEBUG: 3. Incremement Age of all edges from s_1 \n",
      "## DEBUG: 4. Add error to neuron \n",
      "## DEBUG: 5. Move s1 and neighbors towards B \n",
      "## DEBUG: 6. reset s1 and s2 age \n",
      "## DEBUG: 7. remove old edges \n",
      "## DEBUG: 8. Insert new neuron \n",
      "## DEBUG: 9. Decrease system error \n",
      "## DEBUG: \n",
      "## DEBUG: \n",
      "## DEBUG: Attemping to plot... \n",
      "## DEBUG: 1. Pick input signal P(B) \n",
      "## DEBUG: 2. Find two nearest units \n",
      "## DEBUG: Two nearest points: min_dist_1: 3.6128545632878235 min_dist_2: 4.431030118134912 \n",
      "## DEBUG: 3. Incremement Age of all edges from s_1 \n",
      "## DEBUG: 4. Add error to neuron \n",
      "## DEBUG: 5. Move s1 and neighbors towards B \n",
      "## DEBUG: 6. reset s1 and s2 age \n",
      "## DEBUG: 7. remove old edges \n",
      "## DEBUG: 8. Insert new neuron \n",
      "## DEBUG: 9. Decrease system error \n",
      "## DEBUG: \n",
      "## DEBUG: \n",
      "## DEBUG: Attemping to plot... \n",
      "## DEBUG: 1. Pick input signal P(B) \n",
      "## DEBUG: 2. Find two nearest units \n",
      "## DEBUG: Two nearest points: min_dist_1: 1.7790684739072398 min_dist_2: 2.042220983825256 \n",
      "## DEBUG: 3. Incremement Age of all edges from s_1 \n",
      "## DEBUG: 4. Add error to neuron \n",
      "## DEBUG: 5. Move s1 and neighbors towards B \n",
      "## DEBUG: 6. reset s1 and s2 age \n",
      "## DEBUG: 7. remove old edges \n",
      "## DEBUG: 8. Insert new neuron \n",
      "## DEBUG: 9. Decrease system error \n",
      "## DEBUG: \n",
      "## DEBUG: \n",
      "## DEBUG: Attemping to plot... \n"
     ]
    },
    {
     "name": "stderr",
     "output_type": "stream",
     "text": [
      " 16%|█████████████████▋                                                                                             | 159/1000 [00:14<01:28,  9.48it/s]"
     ]
    },
    {
     "name": "stdout",
     "output_type": "stream",
     "text": [
      "## DEBUG: 1. Pick input signal P(B) \n",
      "## DEBUG: 2. Find two nearest units \n",
      "## DEBUG: Two nearest points: min_dist_1: 3.6359569316381553 min_dist_2: 3.96827478369909 \n",
      "## DEBUG: 3. Incremement Age of all edges from s_1 \n",
      "## DEBUG: 4. Add error to neuron \n",
      "## DEBUG: 5. Move s1 and neighbors towards B \n",
      "## DEBUG: 6. reset s1 and s2 age \n",
      "## DEBUG: 7. remove old edges \n",
      "## DEBUG: 8. Insert new neuron \n",
      "## DEBUG: 9. Decrease system error \n",
      "## DEBUG: \n",
      "## DEBUG: \n",
      "## DEBUG: Attemping to plot... \n",
      "## DEBUG: 1. Pick input signal P(B) \n",
      "## DEBUG: 2. Find two nearest units \n",
      "## DEBUG: Two nearest points: min_dist_1: 2.5550115575678043 min_dist_2: 2.5951775341499994 \n",
      "## DEBUG: 3. Incremement Age of all edges from s_1 \n",
      "## DEBUG: 4. Add error to neuron \n",
      "## DEBUG: 5. Move s1 and neighbors towards B \n",
      "## DEBUG: 6. reset s1 and s2 age \n",
      "## DEBUG: 7. remove old edges \n",
      "## DEBUG: 8. Insert new neuron \n",
      "## DEBUG: 9. Decrease system error \n",
      "## DEBUG: \n",
      "## DEBUG: \n",
      "## DEBUG: Attemping to plot... \n",
      "## DEBUG: 1. Pick input signal P(B) \n",
      "## DEBUG: 2. Find two nearest units \n",
      "## DEBUG: Two nearest points: min_dist_1: 5.711021493186703 min_dist_2: 6.3246226985365706 \n",
      "## DEBUG: 3. Incremement Age of all edges from s_1 \n",
      "## DEBUG: 4. Add error to neuron \n",
      "## DEBUG: 5. Move s1 and neighbors towards B \n",
      "## DEBUG: 6. reset s1 and s2 age \n",
      "## DEBUG: 7. remove old edges \n",
      "## DEBUG: 8. Insert new neuron \n",
      "## DEBUG: 9. Decrease system error \n",
      "## DEBUG: \n",
      "## DEBUG: \n",
      "## DEBUG: Attemping to plot... \n"
     ]
    },
    {
     "name": "stderr",
     "output_type": "stream",
     "text": [
      "\r",
      " 16%|█████████████████▊                                                                                             | 161/1000 [00:14<01:24,  9.88it/s]"
     ]
    },
    {
     "name": "stdout",
     "output_type": "stream",
     "text": [
      "## DEBUG: 1. Pick input signal P(B) \n",
      "## DEBUG: 2. Find two nearest units \n",
      "## DEBUG: Two nearest points: min_dist_1: 1.829261667597428 min_dist_2: 2.521510758026484 \n",
      "## DEBUG: 3. Incremement Age of all edges from s_1 \n",
      "## DEBUG: 4. Add error to neuron \n",
      "## DEBUG: 5. Move s1 and neighbors towards B \n",
      "## DEBUG: 6. reset s1 and s2 age \n",
      "## DEBUG: 7. remove old edges \n",
      "## DEBUG: 8. Insert new neuron \n",
      "## DEBUG: 9. Decrease system error \n",
      "## DEBUG: \n",
      "## DEBUG: \n",
      "## DEBUG: Attemping to plot... \n",
      "## DEBUG: 1. Pick input signal P(B) \n",
      "## DEBUG: 2. Find two nearest units \n",
      "## DEBUG: Two nearest points: min_dist_1: 4.83905389377377 min_dist_2: 5.196490644002975 \n",
      "## DEBUG: 3. Incremement Age of all edges from s_1 \n",
      "## DEBUG: 4. Add error to neuron \n",
      "## DEBUG: 5. Move s1 and neighbors towards B \n",
      "## DEBUG: 6. reset s1 and s2 age \n",
      "## DEBUG: 7. remove old edges \n",
      "## DEBUG: 8. Insert new neuron \n",
      "## DEBUG: 9. Decrease system error \n",
      "## DEBUG: \n",
      "## DEBUG: \n",
      "## DEBUG: Attemping to plot... \n",
      "## DEBUG: 1. Pick input signal P(B) \n",
      "## DEBUG: 2. Find two nearest units \n",
      "## DEBUG: Two nearest points: min_dist_1: 2.366003765838428 min_dist_2: 2.563281976623538 \n",
      "## DEBUG: 3. Incremement Age of all edges from s_1 \n",
      "## DEBUG: 4. Add error to neuron \n",
      "## DEBUG: 5. Move s1 and neighbors towards B \n",
      "## DEBUG: 6. reset s1 and s2 age \n",
      "## DEBUG: 7. remove old edges \n",
      "## DEBUG:"
     ]
    },
    {
     "name": "stderr",
     "output_type": "stream",
     "text": [
      "\r",
      " 16%|██████████████████                                                                                             | 163/1000 [00:14<01:22, 10.16it/s]"
     ]
    },
    {
     "name": "stdout",
     "output_type": "stream",
     "text": [
      " 8. Insert new neuron \n",
      "## DEBUG: 9. Decrease system error \n",
      "## DEBUG: \n",
      "## DEBUG: \n",
      "## DEBUG: Attemping to plot... \n",
      "## DEBUG: 1. Pick input signal P(B) \n",
      "## DEBUG: 2. Find two nearest units \n",
      "## DEBUG: Two nearest points: min_dist_1: 0.7607701165920299 min_dist_2: 0.7956432834309294 \n",
      "## DEBUG: 3. Incremement Age of all edges from s_1 \n",
      "## DEBUG: 4. Add error to neuron \n",
      "## DEBUG: 5. Move s1 and neighbors towards B \n",
      "## DEBUG: 6. reset s1 and s2 age \n",
      "## DEBUG: 7. remove old edges \n",
      "## DEBUG: 8. Insert new neuron \n",
      "## DEBUG: 9. Decrease system error \n",
      "## DEBUG: \n",
      "## DEBUG: \n",
      "## DEBUG: Attemping to plot... \n",
      "## DEBUG: 1. Pick input signal P(B) \n",
      "## DEBUG: 2. Find two nearest units \n",
      "## DEBUG: Two nearest points: min_dist_1: 3.781005198291171 min_dist_2: 4.367826912067316 \n",
      "## DEBUG: 3. Incremement Age of all edges from s_1 \n",
      "## DEBUG: 4. Add error to neuron \n",
      "## DEBUG: 5. Move s1 and neighbors towards B \n",
      "## DEBUG: 6. reset s1 and s2 age \n",
      "## DEBUG: 7. remove old edges \n",
      "## DEBUG: 8. Insert new neuron \n",
      "## DEBUG: 9. Decrease system error \n",
      "## DEBUG: \n",
      "## DEBUG: \n",
      "## DEBUG: Attemping to plot... \n"
     ]
    },
    {
     "name": "stderr",
     "output_type": "stream",
     "text": [
      " 17%|██████████████████▌                                                                                            | 167/1000 [00:15<01:19, 10.53it/s]"
     ]
    },
    {
     "name": "stdout",
     "output_type": "stream",
     "text": [
      "## DEBUG: 1. Pick input signal P(B) \n",
      "## DEBUG: 2. Find two nearest units \n",
      "## DEBUG: Two nearest points: min_dist_1: 1.5864774754265445 min_dist_2: 1.900480964537224 \n",
      "## DEBUG: 3. Incremement Age of all edges from s_1 \n",
      "## DEBUG: 4. Add error to neuron \n",
      "## DEBUG: 5. Move s1 and neighbors towards B \n",
      "## DEBUG: 6. reset s1 and s2 age \n",
      "## DEBUG: 7. remove old edges \n",
      "## DEBUG: 8. Insert new neuron \n",
      "## DEBUG: 9. Decrease system error \n",
      "## DEBUG: \n",
      "## DEBUG: \n",
      "## DEBUG: Attemping to plot... \n",
      "## DEBUG: 1. Pick input signal P(B) \n",
      "## DEBUG: 2. Find two nearest units \n",
      "## DEBUG: Two nearest points: min_dist_1: 0.8202804854152953 min_dist_2: 1.0303096532758989 \n",
      "## DEBUG: 3. Incremement Age of all edges from s_1 \n",
      "## DEBUG: 4. Add error to neuron \n",
      "## DEBUG: 5. Move s1 and neighbors towards B \n",
      "## DEBUG: 6. reset s1 and s2 age \n",
      "## DEBUG: 7. remove old edges \n",
      "## DEBUG: 8. Insert new neuron \n",
      "## DEBUG: 9. Decrease system error \n",
      "## DEBUG: \n",
      "## DEBUG: \n",
      "## DEBUG: Attemping to plot... \n"
     ]
    },
    {
     "name": "stderr",
     "output_type": "stream",
     "text": [
      "\r",
      " 17%|██████████████████▊                                                                                            | 169/1000 [00:15<01:18, 10.56it/s]"
     ]
    },
    {
     "name": "stdout",
     "output_type": "stream",
     "text": [
      "## DEBUG: 1. Pick input signal P(B) \n",
      "## DEBUG: 2. Find two nearest units \n",
      "## DEBUG: Two nearest points: min_dist_1: 1.2131750307589682 min_dist_2: 1.4062022632233402 \n",
      "## DEBUG: 3. Incremement Age of all edges from s_1 \n",
      "## DEBUG: 4. Add error to neuron \n",
      "## DEBUG: 5. Move s1 and neighbors towards B \n",
      "## DEBUG: 6. reset s1 and s2 age \n",
      "## DEBUG: 7. remove old edges \n",
      "## DEBUG: 8. Insert new neuron \n",
      "## DEBUG: 9. Decrease system error \n",
      "## DEBUG: \n",
      "## DEBUG: \n",
      "## DEBUG: Attemping to plot... \n",
      "## DEBUG: 1. Pick input signal P(B) \n",
      "## DEBUG: 2. Find two nearest units \n",
      "## DEBUG: Two nearest points: min_dist_1: 2.315623831455194 min_dist_2: 2.681745361124667 \n",
      "## DEBUG: 3. Incremement Age of all edges from s_1 \n",
      "## DEBUG: 4. Add error to neuron \n",
      "## DEBUG: 5. Move s1 and neighbors towards B \n",
      "## DEBUG: 6. reset s1 and s2 age \n",
      "## DEBUG: 7. remove old edges \n",
      "## DEBUG: 8. Insert new neuron \n",
      "## DEBUG: 9. Decrease system error \n",
      "## DEBUG: \n",
      "## DEBUG: \n",
      "## DEBUG: Attemping to plot... \n",
      "## DEBUG: 1. Pick input signal P(B) \n",
      "## DEBUG: 2. Find two nearest units \n",
      "## DEBUG: Two nearest points: min_dist_1: 0.7382524368737654 min_dist_2: 1.0292793436226226 \n",
      "## DEBUG: 3. Incremement Age of all edges from s_1 \n",
      "## DEBUG: 4. Add error to neuron \n",
      "## DEBUG: 5. Move s1 and neighbors towards B \n",
      "## DEBUG: 6. reset s1 and s2 age \n",
      "## DEBUG: 7. remove old edges \n",
      "## DEBUG: 8. Insert new neuron \n",
      "## DEBUG: 9. Decrease system error \n",
      "## DEBUG: \n",
      "## DEBUG: \n",
      "## DEBUG: Attemping to plot... \n"
     ]
    },
    {
     "name": "stderr",
     "output_type": "stream",
     "text": [
      "\r",
      " 17%|██████████████████▉                                                                                            | 171/1000 [00:15<01:17, 10.65it/s]"
     ]
    },
    {
     "name": "stdout",
     "output_type": "stream",
     "text": [
      "## DEBUG: 1. Pick input signal P(B) \n",
      "## DEBUG: 2. Find two nearest units \n",
      "## DEBUG: Two nearest points: min_dist_1: 0.9705802373739797 min_dist_2: 1.3020496080946549 \n",
      "## DEBUG: 3. Incremement Age of all edges from s_1 \n",
      "## DEBUG: 4. Add error to neuron \n",
      "## DEBUG: 5. Move s1 and neighbors towards B \n",
      "## DEBUG: 6. reset s1 and s2 age \n",
      "## DEBUG: 7. remove old edges \n",
      "## DEBUG: 8. Insert new neuron \n",
      "## DEBUG: 9. Decrease system error \n",
      "## DEBUG: \n",
      "## DEBUG: \n",
      "## DEBUG: Attemping to plot... \n",
      "## DEBUG: 1. Pick input signal P(B) \n",
      "## DEBUG: 2. Find two nearest units \n",
      "## DEBUG: Two nearest points: min_dist_1: 0.4642862427726385 min_dist_2: 0.6984133548550744 \n",
      "## DEBUG: 3. Incremement Age of all edges from s_1 \n",
      "## DEBUG: 4. Add error to neuron \n",
      "## DEBUG: 5. Move s1 and neighbors towards B \n",
      "## DEBUG: 6. reset s1 and s2 age \n",
      "## DEBUG: 7. remove old edges \n",
      "## DEBUG: 8. Insert new neuron \n",
      "## DEBUG: 9. Decrease system error \n",
      "## DEBUG: \n",
      "## DEBUG: \n",
      "## DEBUG: Attemping to plot... \n",
      "## DEBUG: 1. Pick input signal P(B) \n",
      "## DEBUG: 2. Find two nearest units \n",
      "## DEBUG: Two nearest points: min_dist_1: 0.6358222474387907 min_dist_2: 1.5261165631187021 \n",
      "## DEBUG: 3. Incremement Age of all edges from s_1 \n",
      "## DEBUG: 4. Add error to neuron \n",
      "## DEBUG: 5. Move s1 and neighbors towards B \n",
      "## DEBUG: 6. reset s1 and s2 age \n",
      "## DEBUG: 7. remove old edges \n",
      "## DEBUG:"
     ]
    },
    {
     "name": "stderr",
     "output_type": "stream",
     "text": [
      "\r",
      " 17%|███████████████████▏                                                                                           | 173/1000 [00:15<01:17, 10.65it/s]"
     ]
    },
    {
     "name": "stdout",
     "output_type": "stream",
     "text": [
      " 8. Insert new neuron \n",
      "## DEBUG: 9. Decrease system error \n",
      "## DEBUG: \n",
      "## DEBUG: \n",
      "## DEBUG: Attemping to plot... \n",
      "## DEBUG: 1. Pick input signal P(B) \n",
      "## DEBUG: 2. Find two nearest units \n",
      "## DEBUG: Two nearest points: min_dist_1: 0.9277912150022621 min_dist_2: 1.8544622445843135 \n",
      "## DEBUG: 3. Incremement Age of all edges from s_1 \n",
      "## DEBUG: 4. Add error to neuron \n",
      "## DEBUG: 5. Move s1 and neighbors towards B \n",
      "## DEBUG: 6. reset s1 and s2 age \n",
      "## DEBUG: 7. remove old edges \n",
      "## DEBUG: 8. Insert new neuron \n",
      "## DEBUG: 9. Decrease system error \n",
      "## DEBUG: \n",
      "## DEBUG: \n",
      "## DEBUG: Attemping to plot... \n",
      "## DEBUG: 1. Pick input signal P(B) \n",
      "## DEBUG: 2. Find two nearest units \n",
      "## DEBUG: Two nearest points: min_dist_1: 2.2925451066804845 min_dist_2: 2.3382955671968677 \n",
      "## DEBUG: 3. Incremement Age of all edges from s_1 \n",
      "## DEBUG: 4. Add error to neuron \n",
      "## DEBUG: 5. Move s1 and neighbors towards B \n",
      "## DEBUG: 6. reset s1 and s2 age \n",
      "## DEBUG: 7. remove old edges \n",
      "## DEBUG:"
     ]
    },
    {
     "name": "stderr",
     "output_type": "stream",
     "text": [
      "\r",
      " 18%|███████████████████▍                                                                                           | 175/1000 [00:15<01:17, 10.63it/s]"
     ]
    },
    {
     "name": "stdout",
     "output_type": "stream",
     "text": [
      " 8. Insert new neuron \n",
      "## DEBUG: 9. Decrease system error \n",
      "## DEBUG: \n",
      "## DEBUG: \n",
      "## DEBUG: Attemping to plot... \n",
      "## DEBUG: 1. Pick input signal P(B) \n",
      "## DEBUG: 2. Find two nearest units \n",
      "## DEBUG: Two nearest points: min_dist_1: 4.398458850251163 min_dist_2: 4.90745808137868 \n",
      "## DEBUG: 3. Incremement Age of all edges from s_1 \n",
      "## DEBUG: 4. Add error to neuron \n",
      "## DEBUG: 5. Move s1 and neighbors towards B \n",
      "## DEBUG: 6. reset s1 and s2 age \n",
      "## DEBUG: 7. remove old edges \n",
      "## DEBUG: 8. Insert new neuron \n",
      "## DEBUG: 9. Decrease system error \n",
      "## DEBUG: \n",
      "## DEBUG: \n",
      "## DEBUG: Attemping to plot... \n",
      "## DEBUG: 1. Pick input signal P(B) \n",
      "## DEBUG: 2. Find two nearest units \n",
      "## DEBUG: Two nearest points: min_dist_1: 4.255316561491961 min_dist_2: 5.198602491406285 \n",
      "## DEBUG: 3. Incremement Age of all edges from s_1 \n",
      "## DEBUG: 4. Add error to neuron \n",
      "## DEBUG: 5. Move s1 and neighbors towards B \n",
      "## DEBUG: 6. reset s1 and s2 age \n",
      "## DEBUG: 7. remove old edges \n",
      "## DEBUG:"
     ]
    },
    {
     "name": "stderr",
     "output_type": "stream",
     "text": [
      "\r",
      " 18%|███████████████████▋                                                                                           | 177/1000 [00:15<01:17, 10.66it/s]"
     ]
    },
    {
     "name": "stdout",
     "output_type": "stream",
     "text": [
      " 8. Insert new neuron \n",
      "## DEBUG: 9. Decrease system error \n",
      "## DEBUG: \n",
      "## DEBUG: \n",
      "## DEBUG: Attemping to plot... \n",
      "## DEBUG: 1. Pick input signal P(B) \n",
      "## DEBUG: 2. Find two nearest units \n",
      "## DEBUG: Two nearest points: min_dist_1: 2.3828365894647567 min_dist_2: 2.688991194151353 \n",
      "## DEBUG: 3. Incremement Age of all edges from s_1 \n",
      "## DEBUG: 4. Add error to neuron \n",
      "## DEBUG: 5. Move s1 and neighbors towards B \n",
      "## DEBUG: 6. reset s1 and s2 age \n",
      "## DEBUG: 7. remove old edges \n",
      "## DEBUG: 8. Insert new neuron \n",
      "## DEBUG: 9. Decrease system error \n",
      "## DEBUG: \n",
      "## DEBUG: \n",
      "## DEBUG: Attemping to plot... \n"
     ]
    },
    {
     "name": "stderr",
     "output_type": "stream",
     "text": [
      "\r",
      " 18%|███████████████████▊                                                                                           | 179/1000 [00:16<01:59,  6.86it/s]"
     ]
    },
    {
     "name": "stdout",
     "output_type": "stream",
     "text": [
      "## DEBUG: 1. Pick input signal P(B) \n",
      "## DEBUG: 2. Find two nearest units \n",
      "## DEBUG: Two nearest points: min_dist_1: 2.7060058773480837 min_dist_2: 3.6475143127337892 \n",
      "## DEBUG: 3. Incremement Age of all edges from s_1 \n",
      "## DEBUG: 4. Add error to neuron \n",
      "## DEBUG: 5. Move s1 and neighbors towards B \n",
      "## DEBUG: 6. reset s1 and s2 age \n",
      "## DEBUG: 7. remove old edges \n",
      "## DEBUG: 8. Insert new neuron \n",
      "## DEBUG: 9. Decrease system error \n",
      "## DEBUG: \n",
      "## DEBUG: \n",
      "## DEBUG: Attemping to plot... \n",
      "## DEBUG: 1. Pick input signal P(B) \n",
      "## DEBUG: 2. Find two nearest units \n",
      "## DEBUG: Two nearest points: min_dist_1: 3.178559216731944 min_dist_2: 3.7032352270155453 \n",
      "## DEBUG: 3. Incremement Age of all edges from s_1 \n",
      "## DEBUG: 4. Add error to neuron \n",
      "## DEBUG: 5. Move s1 and neighbors towards B \n",
      "## DEBUG: 6. reset s1 and s2 age \n",
      "## DEBUG: 7. remove old edges \n",
      "## DEBUG: 8. Insert new neuron \n",
      "## DEBUG: 9. Decrease system error \n",
      "## DEBUG: \n",
      "## DEBUG: \n",
      "## DEBUG: Attemping to plot... \n",
      "## DEBUG: 1. Pick input signal P(B) \n",
      "## DEBUG: 2. Find two nearest units \n"
     ]
    },
    {
     "name": "stderr",
     "output_type": "stream",
     "text": [
      "\r",
      " 18%|████████████████████                                                                                           | 181/1000 [00:16<01:48,  7.56it/s]"
     ]
    },
    {
     "name": "stdout",
     "output_type": "stream",
     "text": [
      "## DEBUG: Two nearest points: min_dist_1: 3.716210427679991 min_dist_2: 3.7794363730905847 \n",
      "## DEBUG: 3. Incremement Age of all edges from s_1 \n",
      "## DEBUG: 4. Add error to neuron \n",
      "## DEBUG: 5. Move s1 and neighbors towards B \n",
      "## DEBUG: 6. reset s1 and s2 age \n",
      "## DEBUG: 7. remove old edges \n",
      "## DEBUG: 8. Insert new neuron \n",
      "## DEBUG: 9. Decrease system error \n",
      "## DEBUG: \n",
      "## DEBUG: \n",
      "## DEBUG: Attemping to plot... \n",
      "## DEBUG: 1. Pick input signal P(B) \n",
      "## DEBUG: 2. Find two nearest units \n",
      "## DEBUG: Two nearest points: min_dist_1: 2.848260020741846 min_dist_2: 3.1332986976912034 \n",
      "## DEBUG: 3. Incremement Age of all edges from s_1 \n",
      "## DEBUG: 4. Add error to neuron \n",
      "## DEBUG: 5. Move s1 and neighbors towards B \n",
      "## DEBUG: 6. reset s1 and s2 age \n",
      "## DEBUG: 7. remove old edges \n",
      "## DEBUG: 8. Insert new neuron \n",
      "## DEBUG: 9. Decrease system error \n",
      "## DEBUG: \n",
      "## DEBUG: \n",
      "## DEBUG: Attemping to plot... \n",
      "## DEBUG: 1. Pick input signal P(B) \n",
      "## DEBUG: 2. Find two nearest units \n",
      "## DEBUG: Two nearest points: min_dist_1: 1.3799064176915659 min_dist_2: 3.527453627110998 \n",
      "## DEBUG: 3. Incremement Age of all edges from s_1 \n",
      "## DEBUG: 4. Add error to neuron \n",
      "## DEBUG: 5. Move s1 and neighbors towards B \n",
      "## DEBUG: 6. reset s1 and s2 age \n",
      "## DEBUG: 7. remove old edges \n",
      "## DEBUG:"
     ]
    },
    {
     "name": "stderr",
     "output_type": "stream",
     "text": [
      "\r",
      " 18%|████████████████████▎                                                                                          | 183/1000 [00:16<01:38,  8.32it/s]"
     ]
    },
    {
     "name": "stdout",
     "output_type": "stream",
     "text": [
      " 8. Insert new neuron \n",
      "## DEBUG: 9. Decrease system error \n",
      "## DEBUG: \n",
      "## DEBUG: \n",
      "## DEBUG: Attemping to plot... \n",
      "## DEBUG: 1. Pick input signal P(B) \n",
      "## DEBUG: 2. Find two nearest units \n",
      "## DEBUG: Two nearest points: min_dist_1: 0.1307019404518713 min_dist_2: 0.9474534170622402 \n",
      "## DEBUG: 3. Incremement Age of all edges from s_1 \n",
      "## DEBUG: 4. Add error to neuron \n",
      "## DEBUG: 5. Move s1 and neighbors towards B \n",
      "## DEBUG: 6. reset s1 and s2 age \n",
      "## DEBUG: 7. remove old edges \n",
      "## DEBUG: 8. Insert new neuron \n",
      "## DEBUG: 9. Decrease system error \n",
      "## DEBUG: \n",
      "## DEBUG: \n",
      "## DEBUG: Attemping to plot... \n",
      "## DEBUG: 1. Pick input signal P(B) \n",
      "## DEBUG: 2. Find two nearest units \n",
      "## DEBUG: Two nearest points: min_dist_1: 0.20816358165250848 min_dist_2: 0.9820619678784981 \n",
      "## DEBUG: 3. Incremement Age of all edges from s_1 \n",
      "## DEBUG: 4. Add error to neuron \n",
      "## DEBUG: 5. Move s1 and neighbors towards B \n",
      "## DEBUG: 6. reset s1 and s2 age \n",
      "## DEBUG: 7. remove old edges \n",
      "## DEBUG: 8. Insert new neuron \n",
      "## DEBUG: 9. Decrease system error \n",
      "## DEBUG: \n",
      "## DEBUG: \n",
      "## DEBUG: Attemping to plot... \n"
     ]
    },
    {
     "name": "stderr",
     "output_type": "stream",
     "text": [
      " 19%|████████████████████▊                                                                                          | 187/1000 [00:17<01:26,  9.35it/s]"
     ]
    },
    {
     "name": "stdout",
     "output_type": "stream",
     "text": [
      "## DEBUG: 1. Pick input signal P(B) \n",
      "## DEBUG: 2. Find two nearest units \n",
      "## DEBUG: Two nearest points: min_dist_1: 1.4219603708828281 min_dist_2: 1.912899838824058 \n",
      "## DEBUG: 3. Incremement Age of all edges from s_1 \n",
      "## DEBUG: 4. Add error to neuron \n",
      "## DEBUG: 5. Move s1 and neighbors towards B \n",
      "## DEBUG: 6. reset s1 and s2 age \n",
      "## DEBUG: 7. remove old edges \n",
      "## DEBUG: 8. Insert new neuron \n",
      "## DEBUG: 9. Decrease system error \n",
      "## DEBUG: \n",
      "## DEBUG: \n",
      "## DEBUG: Attemping to plot... \n",
      "## DEBUG: 1. Pick input signal P(B) \n",
      "## DEBUG: 2. Find two nearest units \n",
      "## DEBUG: Two nearest points: min_dist_1: 1.9230687491640241 min_dist_2: 2.701639574523377 \n",
      "## DEBUG: 3. Incremement Age of all edges from s_1 \n",
      "## DEBUG: 4. Add error to neuron \n",
      "## DEBUG: 5. Move s1 and neighbors towards B \n",
      "## DEBUG: 6. reset s1 and s2 age \n",
      "## DEBUG: 7. remove old edges \n",
      "## DEBUG: 8. Insert new neuron \n",
      "## DEBUG: 9. Decrease system error \n",
      "## DEBUG: \n",
      "## DEBUG: \n",
      "## DEBUG: Attemping to plot... \n"
     ]
    },
    {
     "name": "stderr",
     "output_type": "stream",
     "text": [
      "\r",
      " 19%|████████████████████▉                                                                                          | 189/1000 [00:17<01:23,  9.70it/s]"
     ]
    },
    {
     "name": "stdout",
     "output_type": "stream",
     "text": [
      "## DEBUG: 1. Pick input signal P(B) \n",
      "## DEBUG: 2. Find two nearest units \n",
      "## DEBUG: Two nearest points: min_dist_1: 0.38217990058354845 min_dist_2: 0.8712821913850894 \n",
      "## DEBUG: 3. Incremement Age of all edges from s_1 \n",
      "## DEBUG: 4. Add error to neuron \n",
      "## DEBUG: 5. Move s1 and neighbors towards B \n",
      "## DEBUG: 6. reset s1 and s2 age \n",
      "## DEBUG: 7. remove old edges \n",
      "## DEBUG: 8. Insert new neuron \n",
      "## DEBUG: 9. Decrease system error \n",
      "## DEBUG: \n",
      "## DEBUG: \n",
      "## DEBUG: Attemping to plot... \n",
      "## DEBUG: 1. Pick input signal P(B) \n",
      "## DEBUG: 2. Find two nearest units \n",
      "## DEBUG: Two nearest points: min_dist_1: 2.8498671557504496 min_dist_2: 4.004181277274168 \n",
      "## DEBUG: 3. Incremement Age of all edges from s_1 \n",
      "## DEBUG: 4. Add error to neuron \n",
      "## DEBUG: 5. Move s1 and neighbors towards B \n",
      "## DEBUG: 6. reset s1 and s2 age \n",
      "## DEBUG: 7. remove old edges \n",
      "## DEBUG: 8. Insert new neuron \n",
      "## DEBUG: 9. Decrease system error \n",
      "## DEBUG: \n",
      "## DEBUG: \n",
      "## DEBUG: Attemping to plot... \n",
      "## DEBUG: 1. Pick input signal P(B) \n",
      "## DEBUG: 2. Find two nearest units \n",
      "## DEBUG: Two nearest points: min_dist_1: 0.46713253357298284 min_dist_2: 0.7608616436048296 \n",
      "## DEBUG: 3. Incremement Age of all edges from s_1 \n",
      "## DEBUG: 4. Add error to neuron \n",
      "## DEBUG: 5. Move s1 and neighbors towards B \n",
      "## DEBUG: 6. reset s1 and s2 age \n",
      "## DEBUG: 7. remove old edges \n",
      "## DEBUG: 8. Insert new neuron \n",
      "## DEBUG: 9. Decrease system error \n",
      "## DEBUG: \n",
      "## DEBUG: \n",
      "## DEBUG: Attemping to plot... \n"
     ]
    },
    {
     "name": "stderr",
     "output_type": "stream",
     "text": [
      "\r",
      " 19%|█████████████████████▏                                                                                         | 191/1000 [00:17<01:20,  9.99it/s]"
     ]
    },
    {
     "name": "stdout",
     "output_type": "stream",
     "text": [
      "## DEBUG: 1. Pick input signal P(B) \n",
      "## DEBUG: 2. Find two nearest units \n",
      "## DEBUG: Two nearest points: min_dist_1: 3.9586129652260467 min_dist_2: 4.722692326689205 \n",
      "## DEBUG: 3. Incremement Age of all edges from s_1 \n",
      "## DEBUG: 4. Add error to neuron \n",
      "## DEBUG: 5. Move s1 and neighbors towards B \n",
      "## DEBUG: 6. reset s1 and s2 age \n",
      "## DEBUG: 7. remove old edges \n",
      "## DEBUG: 8. Insert new neuron \n",
      "## DEBUG: 9. Decrease system error \n",
      "## DEBUG: \n",
      "## DEBUG: \n",
      "## DEBUG: Attemping to plot... \n",
      "## DEBUG: 1. Pick input signal P(B) \n",
      "## DEBUG: 2. Find two nearest units \n",
      "## DEBUG: Two nearest points: min_dist_1: 0.7253479650829002 min_dist_2: 1.0270693086450038 \n",
      "## DEBUG: 3. Incremement Age of all edges from s_1 \n",
      "## DEBUG: 4. Add error to neuron \n",
      "## DEBUG: 5. Move s1 and neighbors towards B \n",
      "## DEBUG: 6. reset s1 and s2 age \n",
      "## DEBUG: 7. remove old edges \n",
      "## DEBUG: 8. Insert new neuron \n",
      "## DEBUG: 9. Decrease system error \n",
      "## DEBUG: \n",
      "## DEBUG: \n",
      "## DEBUG: Attemping to plot... \n",
      "## DEBUG: 1. Pick input signal P(B) \n",
      "## DEBUG: 2. Find two nearest units \n",
      "## DEBUG: Two nearest points: min_dist_1: 3.32587938223754 min_dist_2: 3.6892377336836346 \n",
      "## DEBUG: 3. Incremement Age of all edges from s_1 \n",
      "## DEBUG: 4. Add error to neuron \n",
      "## DEBUG: 5. Move s1 and neighbors towards B \n",
      "## DEBUG: 6. reset s1 and s2 age \n",
      "## DEBUG: 7. remove old edges \n",
      "## DEBUG:"
     ]
    },
    {
     "name": "stderr",
     "output_type": "stream",
     "text": [
      "\r",
      " 19%|█████████████████████▍                                                                                         | 193/1000 [00:17<01:19, 10.18it/s]"
     ]
    },
    {
     "name": "stdout",
     "output_type": "stream",
     "text": [
      " 8. Insert new neuron \n",
      "## DEBUG: 9. Decrease system error \n",
      "## DEBUG: \n",
      "## DEBUG: \n",
      "## DEBUG: Attemping to plot... \n",
      "## DEBUG: 1. Pick input signal P(B) \n",
      "## DEBUG: 2. Find two nearest units \n",
      "## DEBUG: Two nearest points: min_dist_1: 1.7294314492920393 min_dist_2: 2.2843711020053465 \n",
      "## DEBUG: 3. Incremement Age of all edges from s_1 \n",
      "## DEBUG: 4. Add error to neuron \n",
      "## DEBUG: 5. Move s1 and neighbors towards B \n",
      "## DEBUG: 6. reset s1 and s2 age \n",
      "## DEBUG: 7. remove old edges \n",
      "## DEBUG: 8. Insert new neuron \n",
      "## DEBUG: 9. Decrease system error \n",
      "## DEBUG: \n",
      "## DEBUG: \n",
      "## DEBUG: Attemping to plot... \n",
      "## DEBUG: 1. Pick input signal P(B) \n",
      "## DEBUG: 2. Find two nearest units \n",
      "## DEBUG: Two nearest points: min_dist_1: 3.6799174011105267 min_dist_2: 4.492375205462494 \n",
      "## DEBUG: 3. Incremement Age of all edges from s_1 \n",
      "## DEBUG: 4. Add error to neuron \n",
      "## DEBUG: 5. Move s1 and neighbors towards B \n",
      "## DEBUG: 6. reset s1 and s2 age \n",
      "## DEBUG: 7. remove old edges \n",
      "## DEBUG: 8. Insert new neuron \n",
      "## DEBUG: 9. Decrease system error \n",
      "## DEBUG: \n",
      "## DEBUG: \n",
      "## DEBUG: Attemping to plot... \n"
     ]
    },
    {
     "name": "stderr",
     "output_type": "stream",
     "text": [
      " 20%|█████████████████████▊                                                                                         | 197/1000 [00:18<01:18, 10.25it/s]"
     ]
    },
    {
     "name": "stdout",
     "output_type": "stream",
     "text": [
      "## DEBUG: 1. Pick input signal P(B) \n",
      "## DEBUG: 2. Find two nearest units \n",
      "## DEBUG: Two nearest points: min_dist_1: 0.48060871249739595 min_dist_2: 0.5756329558515288 \n",
      "## DEBUG: 3. Incremement Age of all edges from s_1 \n",
      "## DEBUG: 4. Add error to neuron \n",
      "## DEBUG: 5. Move s1 and neighbors towards B \n",
      "## DEBUG: 6. reset s1 and s2 age \n",
      "## DEBUG: 7. remove old edges \n",
      "## DEBUG: 8. Insert new neuron \n",
      "## DEBUG: 9. Decrease system error \n",
      "## DEBUG: \n",
      "## DEBUG: \n",
      "## DEBUG: Attemping to plot... \n",
      "## DEBUG: 1. Pick input signal P(B) \n",
      "## DEBUG: 2. Find two nearest units \n",
      "## DEBUG: Two nearest points: min_dist_1: 1.2035219726158135 min_dist_2: 1.525394563491884 \n",
      "## DEBUG: 3. Incremement Age of all edges from s_1 \n",
      "## DEBUG: 4. Add error to neuron \n",
      "## DEBUG: 5. Move s1 and neighbors towards B \n",
      "## DEBUG: 6. reset s1 and s2 age \n",
      "## DEBUG: 7. remove old edges \n",
      "## DEBUG: 8. Insert new neuron \n",
      "## DEBUG: 9. Decrease system error \n",
      "## DEBUG: \n",
      "## DEBUG: \n",
      "## DEBUG: Attemping to plot... \n"
     ]
    },
    {
     "name": "stderr",
     "output_type": "stream",
     "text": [
      "\r",
      " 20%|██████████████████████                                                                                         | 199/1000 [00:18<01:18, 10.23it/s]"
     ]
    },
    {
     "name": "stdout",
     "output_type": "stream",
     "text": [
      "## DEBUG: 1. Pick input signal P(B) \n",
      "## DEBUG: 2. Find two nearest units \n",
      "## DEBUG: Two nearest points: min_dist_1: 5.72184330823957 min_dist_2: 5.812920683359293 \n",
      "## DEBUG: 3. Incremement Age of all edges from s_1 \n",
      "## DEBUG: 4. Add error to neuron \n",
      "## DEBUG: 5. Move s1 and neighbors towards B \n",
      "## DEBUG: 6. reset s1 and s2 age \n",
      "## DEBUG: 7. remove old edges \n",
      "## DEBUG: 8. Insert new neuron \n",
      "## DEBUG: 9. Decrease system error \n",
      "## DEBUG: \n",
      "## DEBUG: \n",
      "## DEBUG: Attemping to plot... \n",
      "## DEBUG: 1. Pick input signal P(B) \n",
      "## DEBUG: 2. Find two nearest units \n",
      "## DEBUG: Two nearest points: min_dist_1: 4.605363309796065 min_dist_2: 5.34658439417619 \n",
      "## DEBUG: 3. Incremement Age of all edges from s_1 \n",
      "## DEBUG: 4. Add error to neuron \n",
      "## DEBUG: 5. Move s1 and neighbors towards B \n",
      "## DEBUG: 6. reset s1 and s2 age \n",
      "## DEBUG: 7. remove old edges \n",
      "## DEBUG: 8. Insert new neuron \n",
      "## DEBUG: 9. Decrease system error \n",
      "## DEBUG: \n",
      "## DEBUG: \n",
      "## DEBUG: Attemping to plot... \n"
     ]
    },
    {
     "name": "stderr",
     "output_type": "stream",
     "text": [
      "\r",
      " 20%|██████████████████████▎                                                                                        | 201/1000 [00:18<01:17, 10.30it/s]"
     ]
    },
    {
     "name": "stdout",
     "output_type": "stream",
     "text": [
      "## DEBUG: 1. Pick input signal P(B) \n",
      "## DEBUG: 2. Find two nearest units \n",
      "## DEBUG: Two nearest points: min_dist_1: 0.6534865122878344 min_dist_2: 2.000126674832832 \n",
      "## DEBUG: 3. Incremement Age of all edges from s_1 \n",
      "## DEBUG: 4. Add error to neuron \n",
      "## DEBUG: 5. Move s1 and neighbors towards B \n",
      "## DEBUG: 6. reset s1 and s2 age \n",
      "## DEBUG: 7. remove old edges \n",
      "## DEBUG: 8. Insert new neuron \n",
      "## DEBUG: 9. Decrease system error \n",
      "## DEBUG: \n",
      "## DEBUG: \n",
      "## DEBUG: Attemping to plot... \n",
      "## DEBUG: 1. Pick input signal P(B) \n",
      "## DEBUG: 2. Find two nearest units \n",
      "## DEBUG: Two nearest points: min_dist_1: 3.2057786441462106 min_dist_2: 4.4580396080676366 \n",
      "## DEBUG: 3. Incremement Age of all edges from s_1 \n",
      "## DEBUG: 4. Add error to neuron \n",
      "## DEBUG: 5. Move s1 and neighbors towards B \n",
      "## DEBUG: 6. reset s1 and s2 age \n",
      "## DEBUG: 7. remove old edges \n",
      "## DEBUG: 8. Insert new neuron \n",
      "## DEBUG: 9. Decrease system error \n",
      "## DEBUG: \n",
      "## DEBUG: \n",
      "## DEBUG: Attemping to plot... \n",
      "## DEBUG: 1. Pick input signal P(B) \n",
      "## DEBUG: 2. Find two nearest units \n",
      "## DEBUG: Two nearest points: min_dist_1: 2.137438612505448 min_dist_2: 2.792192015714619 \n",
      "## DEBUG: 3. Incremement Age of all edges from s_1 \n",
      "## DEBUG: 4. Add error to neuron \n",
      "## DEBUG: 5. Move s1 and neighbors towards B \n",
      "## DEBUG: 6. reset s1 and s2 age \n",
      "## DEBUG: 7. remove old edges \n",
      "## DEBUG: 8. Insert new neuron \n",
      "## DEBUG: 9. Decrease system error \n",
      "## DEBUG: \n",
      "## DEBUG: \n",
      "## DEBUG: Attemping to plot... \n"
     ]
    },
    {
     "name": "stderr",
     "output_type": "stream",
     "text": [
      "\r",
      " 20%|██████████████████████▌                                                                                        | 203/1000 [00:18<01:17, 10.32it/s]"
     ]
    },
    {
     "name": "stdout",
     "output_type": "stream",
     "text": [
      "## DEBUG: 1. Pick input signal P(B) \n",
      "## DEBUG: 2. Find two nearest units \n",
      "## DEBUG: Two nearest points: min_dist_1: 0.5112965390754786 min_dist_2: 1.1819247399402097 \n",
      "## DEBUG: 3. Incremement Age of all edges from s_1 \n",
      "## DEBUG: 4. Add error to neuron \n",
      "## DEBUG: 5. Move s1 and neighbors towards B \n",
      "## DEBUG: 6. reset s1 and s2 age \n",
      "## DEBUG: 7. remove old edges \n",
      "## DEBUG: 8. Insert new neuron \n",
      "## DEBUG: 9. Decrease system error \n",
      "## DEBUG: \n",
      "## DEBUG: \n",
      "## DEBUG: Attemping to plot... \n",
      "## DEBUG: 1. Pick input signal P(B) \n",
      "## DEBUG: 2. Find two nearest units \n",
      "## DEBUG: Two nearest points: min_dist_1: 4.0010745010864515 min_dist_2: 4.559174310349155 \n",
      "## DEBUG: 3. Incremement Age of all edges from s_1 \n",
      "## DEBUG: 4. Add error to neuron \n",
      "## DEBUG: 5. Move s1 and neighbors towards B \n",
      "## DEBUG: 6. reset s1 and s2 age \n",
      "## DEBUG: 7. remove old edges \n",
      "## DEBUG: 8. Insert new neuron \n",
      "## DEBUG: 9. Decrease system error \n",
      "## DEBUG: \n",
      "## DEBUG: \n",
      "## DEBUG: Attemping to plot... \n",
      "## DEBUG: 1. Pick input signal P(B) \n",
      "## DEBUG: 2. Find two nearest units \n",
      "## DEBUG: Two nearest points: min_dist_1: 1.209820037484875 min_dist_2: 2.363805946539566 \n",
      "## DEBUG: 3. Incremement Age of all edges from s_1 \n",
      "## DEBUG: 4. Add error to neuron \n",
      "## DEBUG: 5. Move s1 and neighbors towards B \n",
      "## DEBUG: 6. reset s1 and s2 age \n",
      "## DEBUG: 7. remove old edges \n",
      "## DEBUG:"
     ]
    },
    {
     "name": "stderr",
     "output_type": "stream",
     "text": [
      "\r",
      " 20%|██████████████████████▊                                                                                        | 205/1000 [00:19<01:16, 10.38it/s]"
     ]
    },
    {
     "name": "stdout",
     "output_type": "stream",
     "text": [
      " 8. Insert new neuron \n",
      "## DEBUG: 9. Decrease system error \n",
      "## DEBUG: \n",
      "## DEBUG: \n",
      "## DEBUG: Attemping to plot... \n",
      "## DEBUG: 1. Pick input signal P(B) \n",
      "## DEBUG: 2. Find two nearest units \n",
      "## DEBUG: Two nearest points: min_dist_1: 2.4925493651677955 min_dist_2: 3.1653142241255754 \n",
      "## DEBUG: 3. Incremement Age of all edges from s_1 \n",
      "## DEBUG: 4. Add error to neuron \n",
      "## DEBUG: 5. Move s1 and neighbors towards B \n",
      "## DEBUG: 6. reset s1 and s2 age \n",
      "## DEBUG: 7. remove old edges \n",
      "## DEBUG: 8. Insert new neuron \n",
      "## DEBUG: 9. Decrease system error \n",
      "## DEBUG: \n",
      "## DEBUG: \n",
      "## DEBUG: Attemping to plot... \n",
      "## DEBUG: 1. Pick input signal P(B) \n",
      "## DEBUG: 2. Find two nearest units \n"
     ]
    },
    {
     "name": "stderr",
     "output_type": "stream",
     "text": [
      "\r",
      " 21%|██████████████████████▉                                                                                        | 207/1000 [00:19<01:17, 10.20it/s]"
     ]
    },
    {
     "name": "stdout",
     "output_type": "stream",
     "text": [
      "## DEBUG: Two nearest points: min_dist_1: 2.2432944286510166 min_dist_2: 2.682415397515827 \n",
      "## DEBUG: 3. Incremement Age of all edges from s_1 \n",
      "## DEBUG: 4. Add error to neuron \n",
      "## DEBUG: 5. Move s1 and neighbors towards B \n",
      "## DEBUG: 6. reset s1 and s2 age \n",
      "## DEBUG: 7. remove old edges \n",
      "## DEBUG: 8. Insert new neuron \n",
      "## DEBUG: 9. Decrease system error \n",
      "## DEBUG: \n",
      "## DEBUG: \n",
      "## DEBUG: Attemping to plot... \n",
      "## DEBUG: 1. Pick input signal P(B) \n",
      "## DEBUG: 2. Find two nearest units \n",
      "## DEBUG: Two nearest points: min_dist_1: 3.505589718592433 min_dist_2: 4.115204829205882 \n",
      "## DEBUG: 3. Incremement Age of all edges from s_1 \n",
      "## DEBUG: 4. Add error to neuron \n",
      "## DEBUG: 5. Move s1 and neighbors towards B \n",
      "## DEBUG: 6. reset s1 and s2 age \n",
      "## DEBUG: 7. remove old edges \n",
      "## DEBUG: 8. Insert new neuron \n",
      "## DEBUG: 9. Decrease system error \n",
      "## DEBUG: \n",
      "## DEBUG: \n",
      "## DEBUG: Attemping to plot... \n",
      "## DEBUG: 1. Pick input signal P(B) \n",
      "## DEBUG: 2. Find two nearest units \n",
      "## DEBUG: Two nearest points: min_dist_1: 0.40310210769311516 min_dist_2: 0.7961375631521226 \n",
      "## DEBUG: 3. Incremement Age of all edges from s_1 \n",
      "## DEBUG: 4. Add error to neuron \n",
      "## DEBUG: 5. Move s1 and neighbors towards B \n",
      "## DEBUG: 6. reset s1 and s2 age \n",
      "## DEBUG: 7. remove old edges \n",
      "## DEBUG: 8. Insert new neuron \n",
      "## DEBUG: 9. Decrease system error \n",
      "## DEBUG: \n",
      "## DEBUG: \n",
      "## DEBUG: Attemping to plot... \n"
     ]
    },
    {
     "name": "stderr",
     "output_type": "stream",
     "text": [
      " 21%|███████████████████████▍                                                                                       | 211/1000 [00:20<01:52,  7.03it/s]"
     ]
    },
    {
     "name": "stdout",
     "output_type": "stream",
     "text": [
      "## DEBUG: 1. Pick input signal P(B) \n",
      "## DEBUG: 2. Find two nearest units \n",
      "## DEBUG: Two nearest points: min_dist_1: 0.6908834471158002 min_dist_2: 2.3805813771672706 \n",
      "## DEBUG: 3. Incremement Age of all edges from s_1 \n",
      "## DEBUG: 4. Add error to neuron \n",
      "## DEBUG: 5. Move s1 and neighbors towards B \n",
      "## DEBUG: 6. reset s1 and s2 age \n",
      "## DEBUG: 7. remove old edges \n",
      "## DEBUG: 8. Insert new neuron \n",
      "## DEBUG: 9. Decrease system error \n",
      "## DEBUG: \n",
      "## DEBUG: \n",
      "## DEBUG: Attemping to plot... \n",
      "## DEBUG: 1. Pick input signal P(B) \n",
      "## DEBUG: 2. Find two nearest units \n",
      "## DEBUG: Two nearest points: min_dist_1: 1.0670802864262046 min_dist_2: 1.5630154208862592 \n",
      "## DEBUG: 3. Incremement Age of all edges from s_1 \n",
      "## DEBUG: 4. Add error to neuron \n",
      "## DEBUG: 5. Move s1 and neighbors towards B \n",
      "## DEBUG: 6. reset s1 and s2 age \n",
      "## DEBUG: 7. remove old edges \n",
      "## DEBUG: 8. Insert new neuron \n",
      "## DEBUG: 9. Decrease system error \n",
      "## DEBUG: \n",
      "## DEBUG: \n",
      "## DEBUG: Attemping to plot... \n"
     ]
    },
    {
     "name": "stderr",
     "output_type": "stream",
     "text": [
      "\r",
      " 21%|███████████████████████▌                                                                                       | 212/1000 [00:20<01:46,  7.37it/s]"
     ]
    },
    {
     "name": "stdout",
     "output_type": "stream",
     "text": [
      "## DEBUG: 1. Pick input signal P(B) \n",
      "## DEBUG: 2. Find two nearest units \n",
      "## DEBUG: Two nearest points: min_dist_1: 2.474121827972079 min_dist_2: 3.21568932991455 \n",
      "## DEBUG: 3. Incremement Age of all edges from s_1 \n",
      "## DEBUG: 4. Add error to neuron \n",
      "## DEBUG: 5. Move s1 and neighbors towards B \n",
      "## DEBUG: 6. reset s1 and s2 age \n",
      "## DEBUG: 7. remove old edges \n",
      "## DEBUG: 8. Insert new neuron \n",
      "## DEBUG: 9. Decrease system error \n",
      "## DEBUG: \n",
      "## DEBUG: \n",
      "## DEBUG: Attemping to plot... \n",
      "## DEBUG: 1. Pick input signal P(B) \n",
      "## DEBUG: 2. Find two nearest units \n",
      "## DEBUG: Two nearest points: min_dist_1: 2.065965780282648 min_dist_2: 2.3118467881465783 \n",
      "## DEBUG: 3. Incremement Age of all edges from s_1 \n",
      "## DEBUG: 4. Add error to neuron \n",
      "## DEBUG: 5. Move s1 and neighbors towards B \n",
      "## DEBUG: 6. reset s1 and s2 age \n",
      "## DEBUG: 7. remove old edges \n",
      "## DEBUG: 8. Insert new neuron \n",
      "## DEBUG: 9. Decrease system error \n",
      "## DEBUG: \n",
      "## DEBUG: \n",
      "## DEBUG: Attemping to plot... \n",
      "## DEBUG: 1. Pick input signal P(B) \n",
      "## DEBUG: 2. Find two nearest units \n"
     ]
    },
    {
     "name": "stderr",
     "output_type": "stream",
     "text": [
      "\r",
      " 21%|███████████████████████▊                                                                                       | 214/1000 [00:20<01:37,  8.10it/s]"
     ]
    },
    {
     "name": "stdout",
     "output_type": "stream",
     "text": [
      "## DEBUG: Two nearest points: min_dist_1: 3.994411943793386 min_dist_2: 4.704881925812943 \n",
      "## DEBUG: 3. Incremement Age of all edges from s_1 \n",
      "## DEBUG: 4. Add error to neuron \n",
      "## DEBUG: 5. Move s1 and neighbors towards B \n",
      "## DEBUG: 6. reset s1 and s2 age \n",
      "## DEBUG: 7. remove old edges \n",
      "## DEBUG: 8. Insert new neuron \n",
      "## DEBUG: 9. Decrease system error \n",
      "## DEBUG: \n",
      "## DEBUG: \n",
      "## DEBUG: Attemping to plot... \n",
      "## DEBUG: 1. Pick input signal P(B) \n",
      "## DEBUG: 2. Find two nearest units \n",
      "## DEBUG: Two nearest points: min_dist_1: 0.5457533828967887 min_dist_2: 2.6485296387406625 \n",
      "## DEBUG: 3. Incremement Age of all edges from s_1 \n",
      "## DEBUG: 4. Add error to neuron \n",
      "## DEBUG: 5. Move s1 and neighbors towards B \n",
      "## DEBUG: 6. reset s1 and s2 age \n",
      "## DEBUG: 7. remove old edges \n",
      "## DEBUG: 8. Insert new neuron \n",
      "## DEBUG: 9. Decrease system error \n",
      "## DEBUG: \n",
      "## DEBUG: \n",
      "## DEBUG: Attemping to plot... \n",
      "## DEBUG: 1. Pick input signal P(B) \n",
      "## DEBUG: 2. Find two nearest units \n",
      "## DEBUG: Two nearest points: min_dist_1: 2.0916937479907545 min_dist_2: 2.2350675346942013 \n",
      "## DEBUG: 3. Incremement Age of all edges from s_1 \n",
      "## DEBUG: 4. Add error to neuron \n",
      "## DEBUG: 5. Move s1 and neighbors towards B \n",
      "## DEBUG: 6. reset s1 and s2 age \n",
      "## DEBUG: 7. remove old edges \n",
      "## DEBUG:"
     ]
    },
    {
     "name": "stderr",
     "output_type": "stream",
     "text": [
      " 22%|████████████████████████                                                                                       | 217/1000 [00:20<01:28,  8.89it/s]"
     ]
    },
    {
     "name": "stdout",
     "output_type": "stream",
     "text": [
      " 8. Insert new neuron \n",
      "## DEBUG: 9. Decrease system error \n",
      "## DEBUG: \n",
      "## DEBUG: \n",
      "## DEBUG: Attemping to plot... \n",
      "## DEBUG: 1. Pick input signal P(B) \n",
      "## DEBUG: 2. Find two nearest units \n",
      "## DEBUG: Two nearest points: min_dist_1: 2.205135525874509 min_dist_2: 2.2897738129943197 \n",
      "## DEBUG: 3. Incremement Age of all edges from s_1 \n",
      "## DEBUG: 4. Add error to neuron \n",
      "## DEBUG: 5. Move s1 and neighbors towards B \n",
      "## DEBUG: 6. reset s1 and s2 age \n",
      "## DEBUG: 7. remove old edges \n",
      "## DEBUG: 8. Insert new neuron \n",
      "## DEBUG: 9. Decrease system error \n",
      "## DEBUG: \n",
      "## DEBUG: \n",
      "## DEBUG: Attemping to plot... \n",
      "## DEBUG: 1. Pick input signal P(B) \n",
      "## DEBUG: 2. Find two nearest units \n"
     ]
    },
    {
     "name": "stderr",
     "output_type": "stream",
     "text": [
      "\r",
      " 22%|████████████████████████▎                                                                                      | 219/1000 [00:20<01:23,  9.33it/s]"
     ]
    },
    {
     "name": "stdout",
     "output_type": "stream",
     "text": [
      "## DEBUG: Two nearest points: min_dist_1: 2.201099467974233 min_dist_2: 3.6765055035006364 \n",
      "## DEBUG: 3. Incremement Age of all edges from s_1 \n",
      "## DEBUG: 4. Add error to neuron \n",
      "## DEBUG: 5. Move s1 and neighbors towards B \n",
      "## DEBUG: 6. reset s1 and s2 age \n",
      "## DEBUG: 7. remove old edges \n",
      "## DEBUG: 8. Insert new neuron \n",
      "## DEBUG: 9. Decrease system error \n",
      "## DEBUG: \n",
      "## DEBUG: \n",
      "## DEBUG: Attemping to plot... \n",
      "## DEBUG: 1. Pick input signal P(B) \n",
      "## DEBUG: 2. Find two nearest units \n",
      "## DEBUG: Two nearest points: min_dist_1: 2.648124941335496 min_dist_2: 3.117766163574234 \n",
      "## DEBUG: 3. Incremement Age of all edges from s_1 \n",
      "## DEBUG: 4. Add error to neuron \n",
      "## DEBUG: 5. Move s1 and neighbors towards B \n",
      "## DEBUG: 6. reset s1 and s2 age \n",
      "## DEBUG: 7. remove old edges \n",
      "## DEBUG: 8. Insert new neuron \n",
      "## DEBUG: 9. Decrease system error \n",
      "## DEBUG: \n",
      "## DEBUG: \n",
      "## DEBUG: Attemping to plot... \n"
     ]
    },
    {
     "name": "stderr",
     "output_type": "stream",
     "text": [
      "\r",
      " 22%|████████████████████████▌                                                                                      | 221/1000 [00:21<01:21,  9.59it/s]"
     ]
    },
    {
     "name": "stdout",
     "output_type": "stream",
     "text": [
      "## DEBUG: 1. Pick input signal P(B) \n",
      "## DEBUG: 2. Find two nearest units \n",
      "## DEBUG: Two nearest points: min_dist_1: 0.6217951024042194 min_dist_2: 2.1959449234666275 \n",
      "## DEBUG: 3. Incremement Age of all edges from s_1 \n",
      "## DEBUG: 4. Add error to neuron \n",
      "## DEBUG: 5. Move s1 and neighbors towards B \n",
      "## DEBUG: 6. reset s1 and s2 age \n",
      "## DEBUG: 7. remove old edges \n",
      "## DEBUG: 8. Insert new neuron \n",
      "## DEBUG: 9. Decrease system error \n",
      "## DEBUG: \n",
      "## DEBUG: \n",
      "## DEBUG: Attemping to plot... \n",
      "## DEBUG: 1. Pick input signal P(B) \n",
      "## DEBUG: 2. Find two nearest units \n",
      "## DEBUG: Two nearest points: min_dist_1: 2.876864024403668 min_dist_2: 3.4485377475495462 \n",
      "## DEBUG: 3. Incremement Age of all edges from s_1 \n",
      "## DEBUG: 4. Add error to neuron \n",
      "## DEBUG: 5. Move s1 and neighbors towards B \n",
      "## DEBUG: 6. reset s1 and s2 age \n",
      "## DEBUG: 7. remove old edges \n",
      "## DEBUG: 8. Insert new neuron \n",
      "## DEBUG: 9. Decrease system error \n",
      "## DEBUG: \n",
      "## DEBUG: \n",
      "## DEBUG: Attemping to plot... \n"
     ]
    },
    {
     "name": "stderr",
     "output_type": "stream",
     "text": [
      "\r",
      " 22%|████████████████████████▋                                                                                      | 222/1000 [00:21<01:20,  9.66it/s]"
     ]
    },
    {
     "name": "stdout",
     "output_type": "stream",
     "text": [
      "## DEBUG: 1. Pick input signal P(B) \n",
      "## DEBUG: 2. Find two nearest units \n",
      "## DEBUG: Two nearest points: min_dist_1: 1.7458074153298075 min_dist_2: 3.0698177566222116 \n",
      "## DEBUG: 3. Incremement Age of all edges from s_1 \n",
      "## DEBUG: 4. Add error to neuron \n",
      "## DEBUG: 5. Move s1 and neighbors towards B \n",
      "## DEBUG: 6. reset s1 and s2 age \n",
      "## DEBUG: 7. remove old edges \n",
      "## DEBUG: 8. Insert new neuron \n",
      "## DEBUG: 9. Decrease system error \n",
      "## DEBUG: \n",
      "## DEBUG: \n",
      "## DEBUG: Attemping to plot... \n",
      "## DEBUG: 1. Pick input signal P(B) \n",
      "## DEBUG: 2. Find two nearest units \n",
      "## DEBUG: Two nearest points: min_dist_1: 0.46826565948413595 min_dist_2: 1.3195896380977228 \n",
      "## DEBUG: 3. Incremement Age of all edges from s_1 \n",
      "## DEBUG: 4. Add error to neuron \n",
      "## DEBUG: 5. Move s1 and neighbors towards B \n",
      "## DEBUG: 6. reset s1 and s2 age \n",
      "## DEBUG: 7. remove old edges \n",
      "## DEBUG: 8. Insert new neuron \n",
      "## DEBUG: 9. Decrease system error \n",
      "## DEBUG: \n",
      "## DEBUG: \n",
      "## DEBUG: Attemping to plot... \n",
      "## DEBUG: 1. Pick input signal P(B) \n",
      "## DEBUG: 2. Find two nearest units \n"
     ]
    },
    {
     "name": "stderr",
     "output_type": "stream",
     "text": [
      " 22%|████████████████████████▉                                                                                      | 225/1000 [00:21<01:18,  9.81it/s]"
     ]
    },
    {
     "name": "stdout",
     "output_type": "stream",
     "text": [
      "## DEBUG: Two nearest points: min_dist_1: 0.6570710524377494 min_dist_2: 0.9093600125349806 \n",
      "## DEBUG: 3. Incremement Age of all edges from s_1 \n",
      "## DEBUG: 4. Add error to neuron \n",
      "## DEBUG: 5. Move s1 and neighbors towards B \n",
      "## DEBUG: 6. reset s1 and s2 age \n",
      "## DEBUG: 7. remove old edges \n",
      "## DEBUG: 8. Insert new neuron \n",
      "## DEBUG: 9. Decrease system error \n",
      "## DEBUG: \n",
      "## DEBUG: \n",
      "## DEBUG: Attemping to plot... \n",
      "## DEBUG: 1. Pick input signal P(B) \n",
      "## DEBUG: 2. Find two nearest units \n",
      "## DEBUG: Two nearest points: min_dist_1: 1.7309312922851288 min_dist_2: 1.8877714034634767 \n",
      "## DEBUG: 3. Incremement Age of all edges from s_1 \n",
      "## DEBUG: 4. Add error to neuron \n",
      "## DEBUG: 5. Move s1 and neighbors towards B \n",
      "## DEBUG: 6. reset s1 and s2 age \n",
      "## DEBUG: 7. remove old edges \n",
      "## DEBUG: 8. Insert new neuron \n",
      "## DEBUG: 9. Decrease system error \n",
      "## DEBUG: \n",
      "## DEBUG: \n",
      "## DEBUG: Attemping to plot... \n"
     ]
    },
    {
     "name": "stderr",
     "output_type": "stream",
     "text": [
      "\r",
      " 23%|█████████████████████████                                                                                      | 226/1000 [00:21<01:18,  9.82it/s]"
     ]
    },
    {
     "name": "stdout",
     "output_type": "stream",
     "text": [
      "## DEBUG: 1. Pick input signal P(B) \n",
      "## DEBUG: 2. Find two nearest units \n",
      "## DEBUG: Two nearest points: min_dist_1: 1.899853745535817 min_dist_2: 2.506359356120622 \n",
      "## DEBUG: 3. Incremement Age of all edges from s_1 \n",
      "## DEBUG: 4. Add error to neuron \n",
      "## DEBUG: 5. Move s1 and neighbors towards B \n",
      "## DEBUG: 6. reset s1 and s2 age \n",
      "## DEBUG: 7. remove old edges \n",
      "## DEBUG: 8. Insert new neuron \n",
      "## DEBUG: 9. Decrease system error \n",
      "## DEBUG: \n",
      "## DEBUG: \n",
      "## DEBUG: Attemping to plot... \n",
      "## DEBUG: 1. Pick input signal P(B) \n",
      "## DEBUG: 2. Find two nearest units \n",
      "## DEBUG: Two nearest points: min_dist_1: 1.199616141511651 min_dist_2: 1.7884542289899554 \n",
      "## DEBUG: 3. Incremement Age of all edges from s_1 \n",
      "## DEBUG: 4. Add error to neuron \n",
      "## DEBUG: 5. Move s1 and neighbors towards B \n",
      "## DEBUG: 6. reset s1 and s2 age \n",
      "## DEBUG: 7. remove old edges \n",
      "## DEBUG: 8. Insert new neuron \n",
      "## DEBUG: 9. Decrease system error \n",
      "## DEBUG: \n",
      "## DEBUG: \n",
      "## DEBUG: Attemping to plot... \n",
      "## DEBUG: 1. Pick input signal P(B) \n",
      "## DEBUG: 2. Find two nearest units \n",
      "## DEBUG: Two nearest points: min_dist_1: 0.6599083412188979 min_dist_2: 2.646624928424772 \n",
      "## DEBUG: 3. Incremement Age of all edges from s_1 \n",
      "## DEBUG: 4. Add error to neuron \n",
      "## DEBUG: 5. Move s1 and neighbors towards B \n",
      "## DEBUG: 6. reset s1 and s2 age \n",
      "## DEBUG: 7. remove old edges \n",
      "## DEBUG:"
     ]
    },
    {
     "name": "stderr",
     "output_type": "stream",
     "text": [
      "\r",
      " 23%|█████████████████████████▎                                                                                     | 228/1000 [00:21<01:19,  9.77it/s]"
     ]
    },
    {
     "name": "stdout",
     "output_type": "stream",
     "text": [
      " 8. Insert new neuron \n",
      "## DEBUG: 9. Decrease system error \n",
      "## DEBUG: \n",
      "## DEBUG: \n",
      "## DEBUG: Attemping to plot... \n",
      "## DEBUG: 1. Pick input signal P(B) \n",
      "## DEBUG: 2. Find two nearest units \n",
      "## DEBUG: Two nearest points: min_dist_1: 3.023102141981756 min_dist_2: 3.593307929682156 \n",
      "## DEBUG: 3. Incremement Age of all edges from s_1 \n",
      "## DEBUG: 4. Add error to neuron \n",
      "## DEBUG: 5. Move s1 and neighbors towards B \n",
      "## DEBUG: 6. reset s1 and s2 age \n",
      "## DEBUG: 7. remove old edges \n",
      "## DEBUG: 8. Insert new neuron \n",
      "## DEBUG: 9. Decrease system error \n",
      "## DEBUG: \n",
      "## DEBUG: \n",
      "## DEBUG: Attemping to plot... \n"
     ]
    },
    {
     "name": "stderr",
     "output_type": "stream",
     "text": [
      " 23%|█████████████████████████▋                                                                                     | 231/1000 [00:22<01:19,  9.73it/s]"
     ]
    },
    {
     "name": "stdout",
     "output_type": "stream",
     "text": [
      "## DEBUG: 1. Pick input signal P(B) \n",
      "## DEBUG: 2. Find two nearest units \n",
      "## DEBUG: Two nearest points: min_dist_1: 0.8938936368350061 min_dist_2: 1.4692386081586604 \n",
      "## DEBUG: 3. Incremement Age of all edges from s_1 \n",
      "## DEBUG: 4. Add error to neuron \n",
      "## DEBUG: 5. Move s1 and neighbors towards B \n",
      "## DEBUG: 6. reset s1 and s2 age \n",
      "## DEBUG: 7. remove old edges \n",
      "## DEBUG: 8. Insert new neuron \n",
      "## DEBUG: 9. Decrease system error \n",
      "## DEBUG: \n",
      "## DEBUG: \n",
      "## DEBUG: Attemping to plot... \n",
      "## DEBUG: 1. Pick input signal P(B) \n",
      "## DEBUG: 2. Find two nearest units \n",
      "## DEBUG: Two nearest points: min_dist_1: 0.559490238870571 min_dist_2: 2.0210066337290127 \n",
      "## DEBUG: 3. Incremement Age of all edges from s_1 \n",
      "## DEBUG: 4. Add error to neuron \n",
      "## DEBUG: 5. Move s1 and neighbors towards B \n",
      "## DEBUG: 6. reset s1 and s2 age \n",
      "## DEBUG: 7. remove old edges \n",
      "## DEBUG: 8. Insert new neuron \n",
      "## DEBUG: 9. Decrease system error \n",
      "## DEBUG: \n",
      "## DEBUG: \n",
      "## DEBUG: Attemping to plot... \n"
     ]
    },
    {
     "name": "stderr",
     "output_type": "stream",
     "text": [
      "\r",
      " 23%|█████████████████████████▊                                                                                     | 232/1000 [00:22<01:23,  9.20it/s]"
     ]
    },
    {
     "name": "stdout",
     "output_type": "stream",
     "text": [
      "## DEBUG: 1. Pick input signal P(B) \n",
      "## DEBUG: 2. Find two nearest units \n",
      "## DEBUG: Two nearest points: min_dist_1: 1.5697684154881286 min_dist_2: 3.046047987089287 \n",
      "## DEBUG: 3. Incremement Age of all edges from s_1 \n",
      "## DEBUG: 4. Add error to neuron \n",
      "## DEBUG: 5. Move s1 and neighbors towards B \n",
      "## DEBUG: 6. reset s1 and s2 age \n",
      "## DEBUG: 7. remove old edges \n",
      "## DEBUG: 8. Insert new neuron \n",
      "## DEBUG: 9. Decrease system error \n",
      "## DEBUG: \n",
      "## DEBUG: \n",
      "## DEBUG: Attemping to plot... \n",
      "## DEBUG: 1. Pick input signal P(B) \n",
      "## DEBUG: 2. Find two nearest units \n",
      "## DEBUG: Two nearest points: min_dist_1: 2.1292203791265836 min_dist_2: 3.01271261811843 \n",
      "## DEBUG: 3. Incremement Age of all edges from s_1 \n",
      "## DEBUG: 4. Add error to neuron \n",
      "## DEBUG: 5. Move s1 and neighbors towards B \n",
      "## DEBUG: 6. reset s1 and s2 age \n",
      "## DEBUG: 7. remove old edges \n",
      "## DEBUG: 8. Insert new neuron \n",
      "## DEBUG: 9. Decrease system error \n",
      "## DEBUG: \n",
      "## DEBUG: \n",
      "## DEBUG: Attemping to plot... \n"
     ]
    },
    {
     "name": "stderr",
     "output_type": "stream",
     "text": [
      " 23%|█████████████████████████▉                                                                                     | 234/1000 [00:22<01:22,  9.26it/s]"
     ]
    },
    {
     "name": "stdout",
     "output_type": "stream",
     "text": [
      "## DEBUG: 1. Pick input signal P(B) \n",
      "## DEBUG: 2. Find two nearest units \n",
      "## DEBUG: Two nearest points: min_dist_1: 1.2755791007246273 min_dist_2: 1.4701561776906136 \n",
      "## DEBUG: 3. Incremement Age of all edges from s_1 \n",
      "## DEBUG: 4. Add error to neuron \n",
      "## DEBUG: 5. Move s1 and neighbors towards B \n",
      "## DEBUG: 6. reset s1 and s2 age \n",
      "## DEBUG: 7. remove old edges \n",
      "## DEBUG: 8. Insert new neuron \n",
      "## DEBUG: 9. Decrease system error \n",
      "## DEBUG: \n",
      "## DEBUG: \n",
      "## DEBUG: Attemping to plot... \n",
      "## DEBUG: 1. Pick input signal P(B) \n",
      "## DEBUG: 2. Find two nearest units \n",
      "## DEBUG: Two nearest points: min_dist_1: 1.3381720389313123 min_dist_2: 1.739532832009166 \n",
      "## DEBUG: 3. Incremement Age of all edges from s_1 \n",
      "## DEBUG: 4. Add error to neuron \n",
      "## DEBUG: 5. Move s1 and neighbors towards B \n",
      "## DEBUG: 6. reset s1 and s2 age \n",
      "## DEBUG: 7. remove old edges \n",
      "## DEBUG: 8. Insert new neuron \n",
      "## DEBUG: 9. Decrease system error \n",
      "## DEBUG: \n",
      "## DEBUG: \n",
      "## DEBUG: Attemping to plot... \n"
     ]
    },
    {
     "name": "stderr",
     "output_type": "stream",
     "text": [
      " 24%|██████████████████████████▎                                                                                    | 237/1000 [00:22<01:20,  9.45it/s]"
     ]
    },
    {
     "name": "stdout",
     "output_type": "stream",
     "text": [
      "## DEBUG: 1. Pick input signal P(B) \n",
      "## DEBUG: 2. Find two nearest units \n",
      "## DEBUG: Two nearest points: min_dist_1: 3.3509088070171553 min_dist_2: 3.364617726539873 \n",
      "## DEBUG: 3. Incremement Age of all edges from s_1 \n",
      "## DEBUG: 4. Add error to neuron \n",
      "## DEBUG: 5. Move s1 and neighbors towards B \n",
      "## DEBUG: 6. reset s1 and s2 age \n",
      "## DEBUG: 7. remove old edges \n",
      "## DEBUG: 8. Insert new neuron \n",
      "## DEBUG: 9. Decrease system error \n",
      "## DEBUG: \n",
      "## DEBUG: \n",
      "## DEBUG: Attemping to plot... \n",
      "## DEBUG: 1. Pick input signal P(B) \n",
      "## DEBUG: 2. Find two nearest units \n",
      "## DEBUG: Two nearest points: min_dist_1: 1.3138413017005492 min_dist_2: 1.4692397288042685 \n",
      "## DEBUG: 3. Incremement Age of all edges from s_1 \n",
      "## DEBUG: 4. Add error to neuron \n",
      "## DEBUG: 5. Move s1 and neighbors towards B \n",
      "## DEBUG: 6. reset s1 and s2 age \n",
      "## DEBUG: 7. remove old edges \n",
      "## DEBUG: 8. Insert new neuron \n",
      "## DEBUG: 9. Decrease system error \n",
      "## DEBUG: \n",
      "## DEBUG: \n",
      "## DEBUG: Attemping to plot... \n"
     ]
    },
    {
     "name": "stderr",
     "output_type": "stream",
     "text": [
      "\r",
      " 24%|██████████████████████████▍                                                                                    | 238/1000 [00:22<01:20,  9.49it/s]"
     ]
    },
    {
     "name": "stdout",
     "output_type": "stream",
     "text": [
      "## DEBUG: 1. Pick input signal P(B) \n",
      "## DEBUG: 2. Find two nearest units \n",
      "## DEBUG: Two nearest points: min_dist_1: 1.396449776831735 min_dist_2: 1.6146213704517363 \n",
      "## DEBUG: 3. Incremement Age of all edges from s_1 \n",
      "## DEBUG: 4. Add error to neuron \n",
      "## DEBUG: 5. Move s1 and neighbors towards B \n",
      "## DEBUG: 6. reset s1 and s2 age \n",
      "## DEBUG: 7. remove old edges \n",
      "## DEBUG: 8. Insert new neuron \n",
      "## DEBUG: 9. Decrease system error \n",
      "## DEBUG: \n",
      "## DEBUG: \n",
      "## DEBUG: Attemping to plot... \n",
      "## DEBUG: 1. Pick input signal P(B) \n",
      "## DEBUG: 2. Find two nearest units \n",
      "## DEBUG: Two nearest points: min_dist_1: 2.0885994394736485 min_dist_2: 2.124587083386586 \n",
      "## DEBUG: 3. Incremement Age of all edges from s_1 \n",
      "## DEBUG: 4. Add error to neuron \n",
      "## DEBUG: 5. Move s1 and neighbors towards B \n",
      "## DEBUG: 6. reset s1 and s2 age \n",
      "## DEBUG: 7. remove old edges \n",
      "## DEBUG: 8. Insert new neuron \n",
      "## DEBUG: 9. Decrease system error \n",
      "## DEBUG: \n",
      "## DEBUG: \n",
      "## DEBUG: Attemping to plot... \n"
     ]
    },
    {
     "name": "stderr",
     "output_type": "stream",
     "text": [
      " 24%|██████████████████████████▋                                                                                    | 240/1000 [00:23<01:19,  9.50it/s]"
     ]
    },
    {
     "name": "stdout",
     "output_type": "stream",
     "text": [
      "## DEBUG: 1. Pick input signal P(B) \n",
      "## DEBUG: 2. Find two nearest units \n",
      "## DEBUG: Two nearest points: min_dist_1: 1.3302139057970224 min_dist_2: 2.3357181022484035 \n",
      "## DEBUG: 3. Incremement Age of all edges from s_1 \n",
      "## DEBUG: 4. Add error to neuron \n",
      "## DEBUG: 5. Move s1 and neighbors towards B \n",
      "## DEBUG: 6. reset s1 and s2 age \n",
      "## DEBUG: 7. remove old edges \n",
      "## DEBUG: 8. Insert new neuron \n",
      "## DEBUG: 9. Decrease system error \n",
      "## DEBUG: \n",
      "## DEBUG: \n",
      "## DEBUG: Attemping to plot... \n",
      "## DEBUG: 1. Pick input signal P(B) \n",
      "## DEBUG: 2. Find two nearest units \n",
      "## DEBUG: Two nearest points: min_dist_1: 1.711495701873619 min_dist_2: 2.0311037032127457 \n",
      "## DEBUG: 3. Incremement Age of all edges from s_1 \n",
      "## DEBUG: 4. Add error to neuron \n",
      "## DEBUG: 5. Move s1 and neighbors towards B \n",
      "## DEBUG: 6. reset s1 and s2 age \n",
      "## DEBUG: 7. remove old edges \n",
      "## DEBUG: 8. Insert new neuron \n",
      "## DEBUG: 9. Decrease system error \n",
      "## DEBUG: \n",
      "## DEBUG: \n",
      "## DEBUG: Attemping to plot... \n"
     ]
    },
    {
     "name": "stderr",
     "output_type": "stream",
     "text": [
      " 24%|██████████████████████████▊                                                                                    | 242/1000 [00:23<01:19,  9.52it/s]"
     ]
    },
    {
     "name": "stdout",
     "output_type": "stream",
     "text": [
      "## DEBUG: 1. Pick input signal P(B) \n",
      "## DEBUG: 2. Find two nearest units \n",
      "## DEBUG: Two nearest points: min_dist_1: 2.7554561842763627 min_dist_2: 2.9949687139384693 \n",
      "## DEBUG: 3. Incremement Age of all edges from s_1 \n",
      "## DEBUG: 4. Add error to neuron \n",
      "## DEBUG: 5. Move s1 and neighbors towards B \n",
      "## DEBUG: 6. reset s1 and s2 age \n",
      "## DEBUG: 7. remove old edges \n",
      "## DEBUG: 8. Insert new neuron \n",
      "## DEBUG: 9. Decrease system error \n",
      "## DEBUG: \n",
      "## DEBUG: \n",
      "## DEBUG: Attemping to plot... \n",
      "## DEBUG: 1. Pick input signal P(B) \n",
      "## DEBUG: 2. Find two nearest units \n",
      "## DEBUG: Two nearest points: min_dist_1: 0.9898223249195941 min_dist_2: 1.2616715687679 \n",
      "## DEBUG: 3. Incremement Age of all edges from s_1 \n",
      "## DEBUG: 4. Add error to neuron \n",
      "## DEBUG: 5. Move s1 and neighbors towards B \n",
      "## DEBUG: 6. reset s1 and s2 age \n",
      "## DEBUG: 7. remove old edges \n",
      "## DEBUG: 8. Insert new neuron \n",
      "## DEBUG: 9. Decrease system error \n",
      "## DEBUG: \n",
      "## DEBUG: \n",
      "## DEBUG: Attemping to plot... \n"
     ]
    },
    {
     "name": "stderr",
     "output_type": "stream",
     "text": [
      " 24%|███████████████████████████                                                                                    | 244/1000 [00:23<01:19,  9.52it/s]"
     ]
    },
    {
     "name": "stdout",
     "output_type": "stream",
     "text": [
      "## DEBUG: 1. Pick input signal P(B) \n",
      "## DEBUG: 2. Find two nearest units \n",
      "## DEBUG: Two nearest points: min_dist_1: 2.8796005324529266 min_dist_2: 3.4259317252686623 \n",
      "## DEBUG: 3. Incremement Age of all edges from s_1 \n",
      "## DEBUG: 4. Add error to neuron \n",
      "## DEBUG: 5. Move s1 and neighbors towards B \n",
      "## DEBUG: 6. reset s1 and s2 age \n",
      "## DEBUG: 7. remove old edges \n",
      "## DEBUG: 8. Insert new neuron \n",
      "## DEBUG: 9. Decrease system error \n",
      "## DEBUG: \n",
      "## DEBUG: \n",
      "## DEBUG: Attemping to plot... \n",
      "## DEBUG: 1. Pick input signal P(B) \n",
      "## DEBUG: 2. Find two nearest units \n",
      "## DEBUG: Two nearest points: min_dist_1: 0.9510136723551333 min_dist_2: 1.9229150625158484 \n",
      "## DEBUG: 3. Incremement Age of all edges from s_1 \n",
      "## DEBUG: 4. Add error to neuron \n",
      "## DEBUG: 5. Move s1 and neighbors towards B \n",
      "## DEBUG: 6. reset s1 and s2 age \n",
      "## DEBUG: 7. remove old edges \n",
      "## DEBUG: 8. Insert new neuron \n",
      "## DEBUG: 9. Decrease system error \n",
      "## DEBUG: \n",
      "## DEBUG: \n",
      "## DEBUG: Attemping to plot... \n"
     ]
    },
    {
     "name": "stderr",
     "output_type": "stream",
     "text": [
      " 25%|███████████████████████████▎                                                                                   | 246/1000 [00:24<02:51,  4.39it/s]"
     ]
    },
    {
     "name": "stdout",
     "output_type": "stream",
     "text": [
      "## DEBUG: 1. Pick input signal P(B) \n",
      "## DEBUG: 2. Find two nearest units \n",
      "## DEBUG: Two nearest points: min_dist_1: 0.783395668008072 min_dist_2: 1.9664020417818555 \n",
      "## DEBUG: 3. Incremement Age of all edges from s_1 \n",
      "## DEBUG: 4. Add error to neuron \n",
      "## DEBUG: 5. Move s1 and neighbors towards B \n",
      "## DEBUG: 6. reset s1 and s2 age \n",
      "## DEBUG: 7. remove old edges \n",
      "## DEBUG: 8. Insert new neuron \n",
      "## DEBUG: 9. Decrease system error \n",
      "## DEBUG: \n",
      "## DEBUG: \n",
      "## DEBUG: Attemping to plot... \n",
      "## DEBUG: 1. Pick input signal P(B) \n",
      "## DEBUG: 2. Find two nearest units \n",
      "## DEBUG: Two nearest points: min_dist_1: 1.5726658436543177 min_dist_2: 2.099855451961212 \n",
      "## DEBUG: 3. Incremement Age of all edges from s_1 \n",
      "## DEBUG: 4. Add error to neuron \n",
      "## DEBUG: 5. Move s1 and neighbors towards B \n",
      "## DEBUG: 6. reset s1 and s2 age \n",
      "## DEBUG: 7. remove old edges \n",
      "## DEBUG: 8. Insert new neuron \n",
      "## DEBUG: 9. Decrease system error \n",
      "## DEBUG: \n",
      "## DEBUG: \n",
      "## DEBUG: Attemping to plot... \n"
     ]
    },
    {
     "name": "stderr",
     "output_type": "stream",
     "text": [
      " 25%|███████████████████████████▌                                                                                   | 248/1000 [00:24<02:05,  6.01it/s]"
     ]
    },
    {
     "name": "stdout",
     "output_type": "stream",
     "text": [
      "## DEBUG: 1. Pick input signal P(B) \n",
      "## DEBUG: 2. Find two nearest units \n",
      "## DEBUG: Two nearest points: min_dist_1: 1.743456070040455 min_dist_2: 1.7909910589537499 \n",
      "## DEBUG: 3. Incremement Age of all edges from s_1 \n",
      "## DEBUG: 4. Add error to neuron \n",
      "## DEBUG: 5. Move s1 and neighbors towards B \n",
      "## DEBUG: 6. reset s1 and s2 age \n",
      "## DEBUG: 7. remove old edges \n",
      "## DEBUG: 8. Insert new neuron \n",
      "## DEBUG: 9. Decrease system error \n",
      "## DEBUG: \n",
      "## DEBUG: \n",
      "## DEBUG: Attemping to plot... \n",
      "## DEBUG: 1. Pick input signal P(B) \n",
      "## DEBUG: 2. Find two nearest units \n",
      "## DEBUG: Two nearest points: min_dist_1: 0.8407715129482105 min_dist_2: 0.9759592454962815 \n",
      "## DEBUG: 3. Incremement Age of all edges from s_1 \n",
      "## DEBUG: 4. Add error to neuron \n",
      "## DEBUG: 5. Move s1 and neighbors towards B \n",
      "## DEBUG: 6. reset s1 and s2 age \n",
      "## DEBUG: 7. remove old edges \n",
      "## DEBUG: 8. Insert new neuron \n",
      "## DEBUG: 9. Decrease system error \n",
      "## DEBUG: \n",
      "## DEBUG: \n",
      "## DEBUG: Attemping to plot... \n"
     ]
    },
    {
     "name": "stderr",
     "output_type": "stream",
     "text": [
      " 25%|███████████████████████████▊                                                                                   | 250/1000 [00:24<01:42,  7.35it/s]"
     ]
    },
    {
     "name": "stdout",
     "output_type": "stream",
     "text": [
      "## DEBUG: 1. Pick input signal P(B) \n",
      "## DEBUG: 2. Find two nearest units \n",
      "## DEBUG: Two nearest points: min_dist_1: 2.834112592147072 min_dist_2: 3.2678621453630634 \n",
      "## DEBUG: 3. Incremement Age of all edges from s_1 \n",
      "## DEBUG: 4. Add error to neuron \n",
      "## DEBUG: 5. Move s1 and neighbors towards B \n",
      "## DEBUG: 6. reset s1 and s2 age \n",
      "## DEBUG: 7. remove old edges \n",
      "## DEBUG: 8. Insert new neuron \n",
      "## DEBUG: 9. Decrease system error \n",
      "## DEBUG: \n",
      "## DEBUG: \n",
      "## DEBUG: Attemping to plot... \n",
      "## DEBUG: 1. Pick input signal P(B) \n",
      "## DEBUG: 2. Find two nearest units \n",
      "## DEBUG: Two nearest points: min_dist_1: 0.43511512624027693 min_dist_2: 0.6795572516609945 \n",
      "## DEBUG: 3. Incremement Age of all edges from s_1 \n",
      "## DEBUG: 4. Add error to neuron \n",
      "## DEBUG: 5. Move s1 and neighbors towards B \n",
      "## DEBUG: 6. reset s1 and s2 age \n",
      "## DEBUG: 7. remove old edges \n",
      "## DEBUG: 8. Insert new neuron \n",
      "## DEBUG: 9. Decrease system error \n",
      "## DEBUG: \n",
      "## DEBUG: \n",
      "## DEBUG: Attemping to plot... \n"
     ]
    },
    {
     "name": "stderr",
     "output_type": "stream",
     "text": [
      " 25%|███████████████████████████▉                                                                                   | 252/1000 [00:24<01:30,  8.29it/s]"
     ]
    },
    {
     "name": "stdout",
     "output_type": "stream",
     "text": [
      "## DEBUG: 1. Pick input signal P(B) \n",
      "## DEBUG: 2. Find two nearest units \n",
      "## DEBUG: Two nearest points: min_dist_1: 1.7173826852547498 min_dist_2: 2.0019244835350927 \n",
      "## DEBUG: 3. Incremement Age of all edges from s_1 \n",
      "## DEBUG: 4. Add error to neuron \n",
      "## DEBUG: 5. Move s1 and neighbors towards B \n",
      "## DEBUG: 6. reset s1 and s2 age \n",
      "## DEBUG: 7. remove old edges \n",
      "## DEBUG: 8. Insert new neuron \n",
      "## DEBUG: 9. Decrease system error \n",
      "## DEBUG: \n",
      "## DEBUG: \n",
      "## DEBUG: Attemping to plot... \n",
      "## DEBUG: 1. Pick input signal P(B) \n",
      "## DEBUG: 2. Find two nearest units \n",
      "## DEBUG: Two nearest points: min_dist_1: 2.4209380764392074 min_dist_2: 3.663887573835583 \n",
      "## DEBUG: 3. Incremement Age of all edges from s_1 \n",
      "## DEBUG: 4. Add error to neuron \n",
      "## DEBUG: 5. Move s1 and neighbors towards B \n",
      "## DEBUG: 6. reset s1 and s2 age \n",
      "## DEBUG: 7. remove old edges \n",
      "## DEBUG: 8. Insert new neuron \n",
      "## DEBUG: 9. Decrease system error \n",
      "## DEBUG: \n",
      "## DEBUG: \n",
      "## DEBUG: Attemping to plot... \n"
     ]
    },
    {
     "name": "stderr",
     "output_type": "stream",
     "text": [
      " 25%|████████████████████████████▏                                                                                  | 254/1000 [00:25<01:24,  8.84it/s]"
     ]
    },
    {
     "name": "stdout",
     "output_type": "stream",
     "text": [
      "## DEBUG: 1. Pick input signal P(B) \n",
      "## DEBUG: 2. Find two nearest units \n",
      "## DEBUG: Two nearest points: min_dist_1: 0.9974168778510031 min_dist_2: 1.6159948784022273 \n",
      "## DEBUG: 3. Incremement Age of all edges from s_1 \n",
      "## DEBUG: 4. Add error to neuron \n",
      "## DEBUG: 5. Move s1 and neighbors towards B \n",
      "## DEBUG: 6. reset s1 and s2 age \n",
      "## DEBUG: 7. remove old edges \n",
      "## DEBUG: 8. Insert new neuron \n",
      "## DEBUG: 9. Decrease system error \n",
      "## DEBUG: \n",
      "## DEBUG: \n",
      "## DEBUG: Attemping to plot... \n",
      "## DEBUG: 1. Pick input signal P(B) \n",
      "## DEBUG: 2. Find two nearest units \n",
      "## DEBUG: Two nearest points: min_dist_1: 0.23272505945149533 min_dist_2: 0.4728645680713564 \n",
      "## DEBUG: 3. Incremement Age of all edges from s_1 \n",
      "## DEBUG: 4. Add error to neuron \n",
      "## DEBUG: 5. Move s1 and neighbors towards B \n",
      "## DEBUG: 6. reset s1 and s2 age \n",
      "## DEBUG: 7. remove old edges \n",
      "## DEBUG: 8. Insert new neuron \n",
      "## DEBUG: 9. Decrease system error \n",
      "## DEBUG: \n",
      "## DEBUG: \n",
      "## DEBUG: Attemping to plot... \n"
     ]
    },
    {
     "name": "stderr",
     "output_type": "stream",
     "text": [
      " 26%|████████████████████████████▍                                                                                  | 256/1000 [00:25<01:25,  8.69it/s]"
     ]
    },
    {
     "name": "stdout",
     "output_type": "stream",
     "text": [
      "## DEBUG: 1. Pick input signal P(B) \n",
      "## DEBUG: 2. Find two nearest units \n",
      "## DEBUG: Two nearest points: min_dist_1: 1.69285861048208 min_dist_2: 1.8891633141255633 \n",
      "## DEBUG: 3. Incremement Age of all edges from s_1 \n",
      "## DEBUG: 4. Add error to neuron \n",
      "## DEBUG: 5. Move s1 and neighbors towards B \n",
      "## DEBUG: 6. reset s1 and s2 age \n",
      "## DEBUG: 7. remove old edges \n",
      "## DEBUG: 8. Insert new neuron \n",
      "## DEBUG: 9. Decrease system error \n",
      "## DEBUG: \n",
      "## DEBUG: \n",
      "## DEBUG: Attemping to plot... \n",
      "## DEBUG: 1. Pick input signal P(B) \n",
      "## DEBUG: 2. Find two nearest units \n",
      "## DEBUG: Two nearest points: min_dist_1: 2.348167923573331 min_dist_2: 2.417166611765457 \n",
      "## DEBUG: 3. Incremement Age of all edges from s_1 \n",
      "## DEBUG: 4. Add error to neuron \n",
      "## DEBUG: 5. Move s1 and neighbors towards B \n",
      "## DEBUG: 6. reset s1 and s2 age \n",
      "## DEBUG: 7. remove old edges \n",
      "## DEBUG: 8. Insert new neuron \n",
      "## DEBUG: 9. Decrease system error \n",
      "## DEBUG: \n",
      "## DEBUG: \n",
      "## DEBUG: Attemping to plot... \n"
     ]
    },
    {
     "name": "stderr",
     "output_type": "stream",
     "text": [
      " 26%|████████████████████████████▋                                                                                  | 258/1000 [00:25<01:23,  8.84it/s]"
     ]
    },
    {
     "name": "stdout",
     "output_type": "stream",
     "text": [
      "## DEBUG: 1. Pick input signal P(B) \n",
      "## DEBUG: 2. Find two nearest units \n",
      "## DEBUG: Two nearest points: min_dist_1: 1.1321766193538727 min_dist_2: 1.2904872849505256 \n",
      "## DEBUG: 3. Incremement Age of all edges from s_1 \n",
      "## DEBUG: 4. Add error to neuron \n",
      "## DEBUG: 5. Move s1 and neighbors towards B \n",
      "## DEBUG: 6. reset s1 and s2 age \n",
      "## DEBUG: 7. remove old edges \n",
      "## DEBUG: 8. Insert new neuron \n",
      "## DEBUG: 9. Decrease system error \n",
      "## DEBUG: \n",
      "## DEBUG: \n",
      "## DEBUG: Attemping to plot... \n",
      "## DEBUG: 1. Pick input signal P(B) \n",
      "## DEBUG: 2. Find two nearest units \n",
      "## DEBUG: Two nearest points: min_dist_1: 0.6557544907888231 min_dist_2: 1.1114703821023746 \n",
      "## DEBUG: 3. Incremement Age of all edges from s_1 \n",
      "## DEBUG: 4. Add error to neuron \n",
      "## DEBUG: 5. Move s1 and neighbors towards B \n",
      "## DEBUG: 6. reset s1 and s2 age \n",
      "## DEBUG: 7. remove old edges \n",
      "## DEBUG: 8. Insert new neuron \n",
      "## DEBUG: 9. Decrease system error \n",
      "## DEBUG: \n",
      "## DEBUG: \n",
      "## DEBUG: Attemping to plot... \n"
     ]
    },
    {
     "name": "stderr",
     "output_type": "stream",
     "text": [
      " 26%|████████████████████████████▊                                                                                  | 260/1000 [00:25<01:25,  8.62it/s]"
     ]
    },
    {
     "name": "stdout",
     "output_type": "stream",
     "text": [
      "## DEBUG: 1. Pick input signal P(B) \n",
      "## DEBUG: 2. Find two nearest units \n",
      "## DEBUG: Two nearest points: min_dist_1: 1.998986425750336 min_dist_2: 2.0180050763106805 \n",
      "## DEBUG: 3. Incremement Age of all edges from s_1 \n",
      "## DEBUG: 4. Add error to neuron \n",
      "## DEBUG: 5. Move s1 and neighbors towards B \n",
      "## DEBUG: 6. reset s1 and s2 age \n",
      "## DEBUG: 7. remove old edges \n",
      "## DEBUG: 8. Insert new neuron \n",
      "## DEBUG: 9. Decrease system error \n",
      "## DEBUG: \n",
      "## DEBUG: \n",
      "## DEBUG: Attemping to plot... \n",
      "## DEBUG: 1. Pick input signal P(B) \n",
      "## DEBUG: 2. Find two nearest units \n",
      "## DEBUG: Two nearest points: min_dist_1: 0.19095849820659033 min_dist_2: 0.6235888317854162 \n",
      "## DEBUG: 3. Incremement Age of all edges from s_1 \n",
      "## DEBUG: 4. Add error to neuron \n",
      "## DEBUG: 5. Move s1 and neighbors towards B \n",
      "## DEBUG: 6. reset s1 and s2 age \n",
      "## DEBUG: 7. remove old edges \n",
      "## DEBUG: 8. Insert new neuron \n",
      "## DEBUG: 9. Decrease system error \n",
      "## DEBUG: \n",
      "## DEBUG: \n",
      "## DEBUG: Attemping to plot... \n"
     ]
    },
    {
     "name": "stderr",
     "output_type": "stream",
     "text": [
      " 26%|█████████████████████████████                                                                                  | 262/1000 [00:25<01:24,  8.77it/s]"
     ]
    },
    {
     "name": "stdout",
     "output_type": "stream",
     "text": [
      "## DEBUG: 1. Pick input signal P(B) \n",
      "## DEBUG: 2. Find two nearest units \n",
      "## DEBUG: Two nearest points: min_dist_1: 2.618979660051399 min_dist_2: 3.170215188596019 \n",
      "## DEBUG: 3. Incremement Age of all edges from s_1 \n",
      "## DEBUG: 4. Add error to neuron \n",
      "## DEBUG: 5. Move s1 and neighbors towards B \n",
      "## DEBUG: 6. reset s1 and s2 age \n",
      "## DEBUG: 7. remove old edges \n",
      "## DEBUG: 8. Insert new neuron \n",
      "## DEBUG: 9. Decrease system error \n",
      "## DEBUG: \n",
      "## DEBUG: \n",
      "## DEBUG: Attemping to plot... \n",
      "## DEBUG: 1. Pick input signal P(B) \n",
      "## DEBUG: 2. Find two nearest units \n",
      "## DEBUG: Two nearest points: min_dist_1: 2.8473422753726805 min_dist_2: 3.522995142802282 \n",
      "## DEBUG: 3. Incremement Age of all edges from s_1 \n",
      "## DEBUG: 4. Add error to neuron \n",
      "## DEBUG: 5. Move s1 and neighbors towards B \n",
      "## DEBUG: 6. reset s1 and s2 age \n",
      "## DEBUG: 7. remove old edges \n",
      "## DEBUG: 8. Insert new neuron \n",
      "## DEBUG: 9. Decrease system error \n",
      "## DEBUG: \n",
      "## DEBUG: \n",
      "## DEBUG: Attemping to plot... \n"
     ]
    },
    {
     "name": "stderr",
     "output_type": "stream",
     "text": [
      " 26%|█████████████████████████████▎                                                                                 | 264/1000 [00:26<01:23,  8.80it/s]"
     ]
    },
    {
     "name": "stdout",
     "output_type": "stream",
     "text": [
      "## DEBUG: 1. Pick input signal P(B) \n",
      "## DEBUG: 2. Find two nearest units \n",
      "## DEBUG: Two nearest points: min_dist_1: 2.3756200938727248 min_dist_2: 2.495442563099252 \n",
      "## DEBUG: 3. Incremement Age of all edges from s_1 \n",
      "## DEBUG: 4. Add error to neuron \n",
      "## DEBUG: 5. Move s1 and neighbors towards B \n",
      "## DEBUG: 6. reset s1 and s2 age \n",
      "## DEBUG: 7. remove old edges \n",
      "## DEBUG: 8. Insert new neuron \n",
      "## DEBUG: 9. Decrease system error \n",
      "## DEBUG: \n",
      "## DEBUG: \n",
      "## DEBUG: Attemping to plot... \n",
      "## DEBUG: 1. Pick input signal P(B) \n",
      "## DEBUG: 2. Find two nearest units \n",
      "## DEBUG: Two nearest points: min_dist_1: 2.527319894393225 min_dist_2: 3.4000335651985107 \n",
      "## DEBUG: 3. Incremement Age of all edges from s_1 \n",
      "## DEBUG: 4. Add error to neuron \n",
      "## DEBUG: 5. Move s1 and neighbors towards B \n",
      "## DEBUG: 6. reset s1 and s2 age \n",
      "## DEBUG: 7. remove old edges \n",
      "## DEBUG: 8. Insert new neuron \n",
      "## DEBUG: 9. Decrease system error \n",
      "## DEBUG: \n",
      "## DEBUG: \n",
      "## DEBUG: Attemping to plot... \n"
     ]
    },
    {
     "name": "stderr",
     "output_type": "stream",
     "text": [
      " 27%|█████████████████████████████▌                                                                                 | 266/1000 [00:26<01:22,  8.90it/s]"
     ]
    },
    {
     "name": "stdout",
     "output_type": "stream",
     "text": [
      "## DEBUG: 1. Pick input signal P(B) \n",
      "## DEBUG: 2. Find two nearest units \n",
      "## DEBUG: Two nearest points: min_dist_1: 4.97265630311826 min_dist_2: 5.337964830521441 \n",
      "## DEBUG: 3. Incremement Age of all edges from s_1 \n",
      "## DEBUG: 4. Add error to neuron \n",
      "## DEBUG: 5. Move s1 and neighbors towards B \n",
      "## DEBUG: 6. reset s1 and s2 age \n",
      "## DEBUG: 7. remove old edges \n",
      "## DEBUG: 8. Insert new neuron \n",
      "## DEBUG: 9. Decrease system error \n",
      "## DEBUG: \n",
      "## DEBUG: \n",
      "## DEBUG: Attemping to plot... \n",
      "## DEBUG: 1. Pick input signal P(B) \n",
      "## DEBUG: 2. Find two nearest units \n",
      "## DEBUG: Two nearest points: min_dist_1: 1.5493744926948725 min_dist_2: 2.1989662087135216 \n",
      "## DEBUG: 3. Incremement Age of all edges from s_1 \n",
      "## DEBUG: 4. Add error to neuron \n",
      "## DEBUG: 5. Move s1 and neighbors towards B \n",
      "## DEBUG: 6. reset s1 and s2 age \n",
      "## DEBUG: 7. remove old edges \n",
      "## DEBUG: 8. Insert new neuron \n",
      "## DEBUG: 9. Decrease system error \n",
      "## DEBUG: \n",
      "## DEBUG: \n",
      "## DEBUG: Attemping to plot... \n"
     ]
    },
    {
     "name": "stderr",
     "output_type": "stream",
     "text": [
      " 27%|█████████████████████████████▋                                                                                 | 268/1000 [00:26<01:22,  8.93it/s]"
     ]
    },
    {
     "name": "stdout",
     "output_type": "stream",
     "text": [
      "## DEBUG: 1. Pick input signal P(B) \n",
      "## DEBUG: 2. Find two nearest units \n",
      "## DEBUG: Two nearest points: min_dist_1: 1.5526202556259507 min_dist_2: 2.010302592437223 \n",
      "## DEBUG: 3. Incremement Age of all edges from s_1 \n",
      "## DEBUG: 4. Add error to neuron \n",
      "## DEBUG: 5. Move s1 and neighbors towards B \n",
      "## DEBUG: 6. reset s1 and s2 age \n",
      "## DEBUG: 7. remove old edges \n",
      "## DEBUG: 8. Insert new neuron \n",
      "## DEBUG: 9. Decrease system error \n",
      "## DEBUG: \n",
      "## DEBUG: \n",
      "## DEBUG: Attemping to plot... \n",
      "## DEBUG: 1. Pick input signal P(B) \n",
      "## DEBUG: 2. Find two nearest units \n",
      "## DEBUG: Two nearest points: min_dist_1: 0.7566943616533893 min_dist_2: 0.9749832862507856 \n",
      "## DEBUG: 3. Incremement Age of all edges from s_1 \n",
      "## DEBUG: 4. Add error to neuron \n",
      "## DEBUG: 5. Move s1 and neighbors towards B \n",
      "## DEBUG: 6. reset s1 and s2 age \n",
      "## DEBUG: 7. remove old edges \n",
      "## DEBUG: 8. Insert new neuron \n",
      "## DEBUG: 9. Decrease system error \n",
      "## DEBUG: \n",
      "## DEBUG: \n",
      "## DEBUG: Attemping to plot... \n"
     ]
    },
    {
     "name": "stderr",
     "output_type": "stream",
     "text": [
      " 27%|█████████████████████████████▉                                                                                 | 270/1000 [00:26<01:22,  8.85it/s]"
     ]
    },
    {
     "name": "stdout",
     "output_type": "stream",
     "text": [
      "## DEBUG: 1. Pick input signal P(B) \n",
      "## DEBUG: 2. Find two nearest units \n",
      "## DEBUG: Two nearest points: min_dist_1: 2.453759204534344 min_dist_2: 3.1084740192253695 \n",
      "## DEBUG: 3. Incremement Age of all edges from s_1 \n",
      "## DEBUG: 4. Add error to neuron \n",
      "## DEBUG: 5. Move s1 and neighbors towards B \n",
      "## DEBUG: 6. reset s1 and s2 age \n",
      "## DEBUG: 7. remove old edges \n",
      "## DEBUG: 8. Insert new neuron \n",
      "## DEBUG: 9. Decrease system error \n",
      "## DEBUG: \n",
      "## DEBUG: \n",
      "## DEBUG: Attemping to plot... \n",
      "## DEBUG: 1. Pick input signal P(B) \n",
      "## DEBUG: 2. Find two nearest units \n",
      "## DEBUG: Two nearest points: min_dist_1: 0.6831770744885522 min_dist_2: 0.8710761711543752 \n",
      "## DEBUG: 3. Incremement Age of all edges from s_1 \n",
      "## DEBUG: 4. Add error to neuron \n",
      "## DEBUG: 5. Move s1 and neighbors towards B \n",
      "## DEBUG: 6. reset s1 and s2 age \n",
      "## DEBUG: 7. remove old edges \n",
      "## DEBUG: 8. Insert new neuron \n",
      "## DEBUG: 9. Decrease system error \n",
      "## DEBUG: \n",
      "## DEBUG: \n",
      "## DEBUG: Attemping to plot... \n"
     ]
    },
    {
     "name": "stderr",
     "output_type": "stream",
     "text": [
      " 27%|██████████████████████████████▏                                                                                | 272/1000 [00:27<01:22,  8.78it/s]"
     ]
    },
    {
     "name": "stdout",
     "output_type": "stream",
     "text": [
      "## DEBUG: 1. Pick input signal P(B) \n",
      "## DEBUG: 2. Find two nearest units \n",
      "## DEBUG: Two nearest points: min_dist_1: 0.3500342828434104 min_dist_2: 0.7877861410330401 \n",
      "## DEBUG: 3. Incremement Age of all edges from s_1 \n",
      "## DEBUG: 4. Add error to neuron \n",
      "## DEBUG: 5. Move s1 and neighbors towards B \n",
      "## DEBUG: 6. reset s1 and s2 age \n",
      "## DEBUG: 7. remove old edges \n",
      "## DEBUG: 8. Insert new neuron \n",
      "## DEBUG: 9. Decrease system error \n",
      "## DEBUG: \n",
      "## DEBUG: \n",
      "## DEBUG: Attemping to plot... \n",
      "## DEBUG: 1. Pick input signal P(B) \n",
      "## DEBUG: 2. Find two nearest units \n",
      "## DEBUG: Two nearest points: min_dist_1: 0.6077024479744094 min_dist_2: 0.8334970307269743 \n",
      "## DEBUG: 3. Incremement Age of all edges from s_1 \n",
      "## DEBUG: 4. Add error to neuron \n",
      "## DEBUG: 5. Move s1 and neighbors towards B \n",
      "## DEBUG: 6. reset s1 and s2 age \n",
      "## DEBUG: 7. remove old edges \n",
      "## DEBUG: 8. Insert new neuron \n",
      "## DEBUG: 9. Decrease system error \n",
      "## DEBUG: \n",
      "## DEBUG: \n",
      "## DEBUG: Attemping to plot... \n"
     ]
    },
    {
     "name": "stderr",
     "output_type": "stream",
     "text": [
      " 27%|██████████████████████████████▍                                                                                | 274/1000 [00:27<01:23,  8.73it/s]"
     ]
    },
    {
     "name": "stdout",
     "output_type": "stream",
     "text": [
      "## DEBUG: 1. Pick input signal P(B) \n",
      "## DEBUG: 2. Find two nearest units \n",
      "## DEBUG: Two nearest points: min_dist_1: 2.542492451681024 min_dist_2: 3.97087451842313 \n",
      "## DEBUG: 3. Incremement Age of all edges from s_1 \n",
      "## DEBUG: 4. Add error to neuron \n",
      "## DEBUG: 5. Move s1 and neighbors towards B \n",
      "## DEBUG: 6. reset s1 and s2 age \n",
      "## DEBUG: 7. remove old edges \n",
      "## DEBUG: 8. Insert new neuron \n",
      "## DEBUG: 9. Decrease system error \n",
      "## DEBUG: \n",
      "## DEBUG: \n",
      "## DEBUG: Attemping to plot... \n",
      "## DEBUG: 1. Pick input signal P(B) \n",
      "## DEBUG: 2. Find two nearest units \n",
      "## DEBUG: Two nearest points: min_dist_1: 2.1788442687952863 min_dist_2: 3.137532491955334 \n",
      "## DEBUG: 3. Incremement Age of all edges from s_1 \n",
      "## DEBUG: 4. Add error to neuron \n",
      "## DEBUG: 5. Move s1 and neighbors towards B \n",
      "## DEBUG: 6. reset s1 and s2 age \n",
      "## DEBUG: 7. remove old edges \n",
      "## DEBUG: 8. Insert new neuron \n",
      "## DEBUG: 9. Decrease system error \n",
      "## DEBUG: \n",
      "## DEBUG: \n",
      "## DEBUG: Attemping to plot... \n"
     ]
    },
    {
     "name": "stderr",
     "output_type": "stream",
     "text": [
      " 28%|██████████████████████████████▋                                                                                | 276/1000 [00:27<01:21,  8.88it/s]"
     ]
    },
    {
     "name": "stdout",
     "output_type": "stream",
     "text": [
      "## DEBUG: 1. Pick input signal P(B) \n",
      "## DEBUG: 2. Find two nearest units \n",
      "## DEBUG: Two nearest points: min_dist_1: 0.840188128223027 min_dist_2: 0.8944274858390436 \n",
      "## DEBUG: 3. Incremement Age of all edges from s_1 \n",
      "## DEBUG: 4. Add error to neuron \n",
      "## DEBUG: 5. Move s1 and neighbors towards B \n",
      "## DEBUG: 6. reset s1 and s2 age \n",
      "## DEBUG: 7. remove old edges \n",
      "## DEBUG: 8. Insert new neuron \n",
      "## DEBUG: 9. Decrease system error \n",
      "## DEBUG: \n",
      "## DEBUG: \n",
      "## DEBUG: Attemping to plot... \n",
      "## DEBUG: 1. Pick input signal P(B) \n",
      "## DEBUG: 2. Find two nearest units \n",
      "## DEBUG: Two nearest points: min_dist_1: 1.447156686638152 min_dist_2: 1.8053979476303101 \n",
      "## DEBUG: 3. Incremement Age of all edges from s_1 \n",
      "## DEBUG: 4. Add error to neuron \n",
      "## DEBUG: 5. Move s1 and neighbors towards B \n",
      "## DEBUG: 6. reset s1 and s2 age \n",
      "## DEBUG: 7. remove old edges \n",
      "## DEBUG: 8. Insert new neuron \n",
      "## DEBUG: 9. Decrease system error \n",
      "## DEBUG: \n",
      "## DEBUG: \n",
      "## DEBUG: Attemping to plot... \n"
     ]
    },
    {
     "name": "stderr",
     "output_type": "stream",
     "text": [
      " 28%|██████████████████████████████▊                                                                                | 278/1000 [00:27<01:21,  8.89it/s]"
     ]
    },
    {
     "name": "stdout",
     "output_type": "stream",
     "text": [
      "## DEBUG: 1. Pick input signal P(B) \n",
      "## DEBUG: 2. Find two nearest units \n",
      "## DEBUG: Two nearest points: min_dist_1: 3.7732539127395888 min_dist_2: 4.436096758514108 \n",
      "## DEBUG: 3. Incremement Age of all edges from s_1 \n",
      "## DEBUG: 4. Add error to neuron \n",
      "## DEBUG: 5. Move s1 and neighbors towards B \n",
      "## DEBUG: 6. reset s1 and s2 age \n",
      "## DEBUG: 7. remove old edges \n",
      "## DEBUG: 8. Insert new neuron \n",
      "## DEBUG: 9. Decrease system error \n",
      "## DEBUG: \n",
      "## DEBUG: \n",
      "## DEBUG: Attemping to plot... \n",
      "## DEBUG: 1. Pick input signal P(B) \n",
      "## DEBUG: 2. Find two nearest units \n",
      "## DEBUG: Two nearest points: min_dist_1: 1.007453615080489 min_dist_2: 1.1945560945546276 \n",
      "## DEBUG: 3. Incremement Age of all edges from s_1 \n",
      "## DEBUG: 4. Add error to neuron \n",
      "## DEBUG: 5. Move s1 and neighbors towards B \n",
      "## DEBUG: 6. reset s1 and s2 age \n",
      "## DEBUG: 7. remove old edges \n",
      "## DEBUG: 8. Insert new neuron \n",
      "## DEBUG: 9. Decrease system error \n",
      "## DEBUG: \n",
      "## DEBUG: \n",
      "## DEBUG: Attemping to plot... \n"
     ]
    },
    {
     "name": "stderr",
     "output_type": "stream",
     "text": [
      " 28%|███████████████████████████████                                                                                | 280/1000 [00:28<01:20,  8.90it/s]"
     ]
    },
    {
     "name": "stdout",
     "output_type": "stream",
     "text": [
      "## DEBUG: 1. Pick input signal P(B) \n",
      "## DEBUG: 2. Find two nearest units \n",
      "## DEBUG: Two nearest points: min_dist_1: 0.2056322854292786 min_dist_2: 0.7273820954058148 \n",
      "## DEBUG: 3. Incremement Age of all edges from s_1 \n",
      "## DEBUG: 4. Add error to neuron \n",
      "## DEBUG: 5. Move s1 and neighbors towards B \n",
      "## DEBUG: 6. reset s1 and s2 age \n",
      "## DEBUG: 7. remove old edges \n",
      "## DEBUG: 8. Insert new neuron \n",
      "## DEBUG: 9. Decrease system error \n",
      "## DEBUG: \n",
      "## DEBUG: \n",
      "## DEBUG: Attemping to plot... \n",
      "## DEBUG: 1. Pick input signal P(B) \n",
      "## DEBUG: 2. Find two nearest units \n",
      "## DEBUG: Two nearest points: min_dist_1: 1.0320173476163994 min_dist_2: 1.6904172587723771 \n",
      "## DEBUG: 3. Incremement Age of all edges from s_1 \n",
      "## DEBUG: 4. Add error to neuron \n",
      "## DEBUG: 5. Move s1 and neighbors towards B \n",
      "## DEBUG: 6. reset s1 and s2 age \n",
      "## DEBUG: 7. remove old edges \n",
      "## DEBUG: 8. Insert new neuron \n",
      "## DEBUG: 9. Decrease system error \n",
      "## DEBUG: \n",
      "## DEBUG: \n",
      "## DEBUG: Attemping to plot... \n"
     ]
    },
    {
     "name": "stderr",
     "output_type": "stream",
     "text": [
      " 28%|███████████████████████████████▎                                                                               | 282/1000 [00:28<01:22,  8.75it/s]"
     ]
    },
    {
     "name": "stdout",
     "output_type": "stream",
     "text": [
      "## DEBUG: 1. Pick input signal P(B) \n",
      "## DEBUG: 2. Find two nearest units \n",
      "## DEBUG: Two nearest points: min_dist_1: 3.317710801617534 min_dist_2: 4.200435183073556 \n",
      "## DEBUG: 3. Incremement Age of all edges from s_1 \n",
      "## DEBUG: 4. Add error to neuron \n",
      "## DEBUG: 5. Move s1 and neighbors towards B \n",
      "## DEBUG: 6. reset s1 and s2 age \n",
      "## DEBUG: 7. remove old edges \n",
      "## DEBUG: 8. Insert new neuron \n",
      "## DEBUG: 9. Decrease system error \n",
      "## DEBUG: \n",
      "## DEBUG: \n",
      "## DEBUG: Attemping to plot... \n",
      "## DEBUG: 1. Pick input signal P(B) \n",
      "## DEBUG: 2. Find two nearest units \n",
      "## DEBUG: Two nearest points: min_dist_1: 0.6166417510394846 min_dist_2: 0.7344740433379588 \n",
      "## DEBUG: 3. Incremement Age of all edges from s_1 \n",
      "## DEBUG: 4. Add error to neuron \n",
      "## DEBUG: 5. Move s1 and neighbors towards B \n",
      "## DEBUG: 6. reset s1 and s2 age \n",
      "## DEBUG: 7. remove old edges \n",
      "## DEBUG: 8. Insert new neuron \n",
      "## DEBUG: 9. Decrease system error \n",
      "## DEBUG: \n",
      "## DEBUG: \n",
      "## DEBUG: Attemping to plot... \n"
     ]
    },
    {
     "name": "stderr",
     "output_type": "stream",
     "text": [
      "\r",
      " 28%|███████████████████████████████▍                                                                               | 283/1000 [00:28<01:21,  8.80it/s]"
     ]
    },
    {
     "name": "stdout",
     "output_type": "stream",
     "text": [
      "## DEBUG: 1. Pick input signal P(B) \n",
      "## DEBUG: 2. Find two nearest units \n",
      "## DEBUG: Two nearest points: min_dist_1: 0.9998924188211227 min_dist_2: 1.8421407061189783 \n",
      "## DEBUG: 3. Incremement Age of all edges from s_1 \n",
      "## DEBUG: 4. Add error to neuron \n",
      "## DEBUG: 5. Move s1 and neighbors towards B \n",
      "## DEBUG: 6. reset s1 and s2 age \n",
      "## DEBUG: 7. remove old edges \n",
      "## DEBUG: 8. Insert new neuron \n",
      "## DEBUG: 9. Decrease system error \n",
      "## DEBUG: \n",
      "## DEBUG: \n",
      "## DEBUG: Attemping to plot... \n"
     ]
    },
    {
     "name": "stderr",
     "output_type": "stream",
     "text": [
      " 28%|███████████████████████████████▋                                                                               | 285/1000 [00:29<03:16,  3.64it/s]"
     ]
    },
    {
     "name": "stdout",
     "output_type": "stream",
     "text": [
      "## DEBUG: 1. Pick input signal P(B) \n",
      "## DEBUG: 2. Find two nearest units \n",
      "## DEBUG: Two nearest points: min_dist_1: 0.5383957552691078 min_dist_2: 1.355943217875415 \n",
      "## DEBUG: 3. Incremement Age of all edges from s_1 \n",
      "## DEBUG: 4. Add error to neuron \n",
      "## DEBUG: 5. Move s1 and neighbors towards B \n",
      "## DEBUG: 6. reset s1 and s2 age \n",
      "## DEBUG: 7. remove old edges \n",
      "## DEBUG: 8. Insert new neuron \n",
      "## DEBUG: 9. Decrease system error \n",
      "## DEBUG: \n",
      "## DEBUG: \n",
      "## DEBUG: Attemping to plot... \n",
      "## DEBUG: 1. Pick input signal P(B) \n",
      "## DEBUG: 2. Find two nearest units \n",
      "## DEBUG: Two nearest points: min_dist_1: 1.926721650518989 min_dist_2: 2.831533713275923 \n",
      "## DEBUG: 3. Incremement Age of all edges from s_1 \n",
      "## DEBUG: 4. Add error to neuron \n",
      "## DEBUG: 5. Move s1 and neighbors towards B \n",
      "## DEBUG: 6. reset s1 and s2 age \n",
      "## DEBUG: 7. remove old edges \n",
      "## DEBUG: 8. Insert new neuron \n",
      "## DEBUG: 9. Decrease system error \n",
      "## DEBUG: \n",
      "## DEBUG: \n",
      "## DEBUG: Attemping to plot... \n"
     ]
    },
    {
     "name": "stderr",
     "output_type": "stream",
     "text": [
      " 29%|███████████████████████████████▊                                                                               | 287/1000 [00:29<02:16,  5.22it/s]"
     ]
    },
    {
     "name": "stdout",
     "output_type": "stream",
     "text": [
      "## DEBUG: 1. Pick input signal P(B) \n",
      "## DEBUG: 2. Find two nearest units \n",
      "## DEBUG: Two nearest points: min_dist_1: 0.5919798772853928 min_dist_2: 1.0789060080583914 \n",
      "## DEBUG: 3. Incremement Age of all edges from s_1 \n",
      "## DEBUG: 4. Add error to neuron \n",
      "## DEBUG: 5. Move s1 and neighbors towards B \n",
      "## DEBUG: 6. reset s1 and s2 age \n",
      "## DEBUG: 7. remove old edges \n",
      "## DEBUG: 8. Insert new neuron \n",
      "## DEBUG: 9. Decrease system error \n",
      "## DEBUG: \n",
      "## DEBUG: \n",
      "## DEBUG: Attemping to plot... \n",
      "## DEBUG: 1. Pick input signal P(B) \n",
      "## DEBUG: 2. Find two nearest units \n",
      "## DEBUG: Two nearest points: min_dist_1: 2.6886862062400243 min_dist_2: 2.9129098344047617 \n",
      "## DEBUG: 3. Incremement Age of all edges from s_1 \n",
      "## DEBUG: 4. Add error to neuron \n",
      "## DEBUG: 5. Move s1 and neighbors towards B \n",
      "## DEBUG: 6. reset s1 and s2 age \n",
      "## DEBUG: 7. remove old edges \n",
      "## DEBUG: 8. Insert new neuron \n",
      "## DEBUG: 9. Decrease system error \n",
      "## DEBUG: \n",
      "## DEBUG: \n",
      "## DEBUG: Attemping to plot... \n"
     ]
    },
    {
     "name": "stderr",
     "output_type": "stream",
     "text": [
      " 29%|████████████████████████████████                                                                               | 289/1000 [00:29<01:47,  6.62it/s]"
     ]
    },
    {
     "name": "stdout",
     "output_type": "stream",
     "text": [
      "## DEBUG: 1. Pick input signal P(B) \n",
      "## DEBUG: 2. Find two nearest units \n",
      "## DEBUG: Two nearest points: min_dist_1: 1.4908993416716447 min_dist_2: 2.720504837555926 \n",
      "## DEBUG: 3. Incremement Age of all edges from s_1 \n",
      "## DEBUG: 4. Add error to neuron \n",
      "## DEBUG: 5. Move s1 and neighbors towards B \n",
      "## DEBUG: 6. reset s1 and s2 age \n",
      "## DEBUG: 7. remove old edges \n",
      "## DEBUG: 8. Insert new neuron \n",
      "## DEBUG: 9. Decrease system error \n",
      "## DEBUG: \n",
      "## DEBUG: \n",
      "## DEBUG: Attemping to plot... \n",
      "## DEBUG: 1. Pick input signal P(B) \n",
      "## DEBUG: 2. Find two nearest units \n",
      "## DEBUG: Two nearest points: min_dist_1: 0.30692823993430596 min_dist_2: 0.7276136234745098 \n",
      "## DEBUG: 3. Incremement Age of all edges from s_1 \n",
      "## DEBUG: 4. Add error to neuron \n",
      "## DEBUG: 5. Move s1 and neighbors towards B \n",
      "## DEBUG: 6. reset s1 and s2 age \n",
      "## DEBUG: 7. remove old edges \n",
      "## DEBUG: 8. Insert new neuron \n",
      "## DEBUG: 9. Decrease system error \n",
      "## DEBUG: \n",
      "## DEBUG: \n",
      "## DEBUG: Attemping to plot... \n"
     ]
    },
    {
     "name": "stderr",
     "output_type": "stream",
     "text": [
      " 29%|████████████████████████████████▎                                                                              | 291/1000 [00:30<01:33,  7.61it/s]"
     ]
    },
    {
     "name": "stdout",
     "output_type": "stream",
     "text": [
      "## DEBUG: 1. Pick input signal P(B) \n",
      "## DEBUG: 2. Find two nearest units \n",
      "## DEBUG: Two nearest points: min_dist_1: 0.9450191717460698 min_dist_2: 1.2550282848751706 \n",
      "## DEBUG: 3. Incremement Age of all edges from s_1 \n",
      "## DEBUG: 4. Add error to neuron \n",
      "## DEBUG: 5. Move s1 and neighbors towards B \n",
      "## DEBUG: 6. reset s1 and s2 age \n",
      "## DEBUG: 7. remove old edges \n",
      "## DEBUG: 8. Insert new neuron \n",
      "## DEBUG: 9. Decrease system error \n",
      "## DEBUG: \n",
      "## DEBUG: \n",
      "## DEBUG: Attemping to plot... \n",
      "## DEBUG: 1. Pick input signal P(B) \n",
      "## DEBUG: 2. Find two nearest units \n",
      "## DEBUG: Two nearest points: min_dist_1: 0.2827049670349913 min_dist_2: 0.6974415901196835 \n",
      "## DEBUG: 3. Incremement Age of all edges from s_1 \n",
      "## DEBUG: 4. Add error to neuron \n",
      "## DEBUG: 5. Move s1 and neighbors towards B \n",
      "## DEBUG: 6. reset s1 and s2 age \n",
      "## DEBUG: 7. remove old edges \n",
      "## DEBUG: 8. Insert new neuron \n",
      "## DEBUG: 9. Decrease system error \n",
      "## DEBUG: \n",
      "## DEBUG: \n",
      "## DEBUG: Attemping to plot... \n"
     ]
    },
    {
     "name": "stderr",
     "output_type": "stream",
     "text": [
      " 29%|████████████████████████████████▌                                                                              | 293/1000 [00:30<01:27,  8.12it/s]"
     ]
    },
    {
     "name": "stdout",
     "output_type": "stream",
     "text": [
      "## DEBUG: 1. Pick input signal P(B) \n",
      "## DEBUG: 2. Find two nearest units \n",
      "## DEBUG: Two nearest points: min_dist_1: 0.294643248217342 min_dist_2: 1.3990981890643008 \n",
      "## DEBUG: 3. Incremement Age of all edges from s_1 \n",
      "## DEBUG: 4. Add error to neuron \n",
      "## DEBUG: 5. Move s1 and neighbors towards B \n",
      "## DEBUG: 6. reset s1 and s2 age \n",
      "## DEBUG: 7. remove old edges \n",
      "## DEBUG: 8. Insert new neuron \n",
      "## DEBUG: 9. Decrease system error \n",
      "## DEBUG: \n",
      "## DEBUG: \n",
      "## DEBUG: Attemping to plot... \n",
      "## DEBUG: 1. Pick input signal P(B) \n",
      "## DEBUG: 2. Find two nearest units \n",
      "## DEBUG: Two nearest points: min_dist_1: 1.9645535123476907 min_dist_2: 3.0822583840904096 \n",
      "## DEBUG: 3. Incremement Age of all edges from s_1 \n",
      "## DEBUG: 4. Add error to neuron \n",
      "## DEBUG: 5. Move s1 and neighbors towards B \n",
      "## DEBUG: 6. reset s1 and s2 age \n",
      "## DEBUG: 7. remove old edges \n",
      "## DEBUG: 8. Insert new neuron \n",
      "## DEBUG: 9. Decrease system error \n",
      "## DEBUG: \n",
      "## DEBUG: \n",
      "## DEBUG: Attemping to plot... \n"
     ]
    },
    {
     "name": "stderr",
     "output_type": "stream",
     "text": [
      " 30%|████████████████████████████████▋                                                                              | 295/1000 [00:30<01:23,  8.46it/s]"
     ]
    },
    {
     "name": "stdout",
     "output_type": "stream",
     "text": [
      "## DEBUG: 1. Pick input signal P(B) \n",
      "## DEBUG: 2. Find two nearest units \n",
      "## DEBUG: Two nearest points: min_dist_1: 4.0982709140757985 min_dist_2: 4.707265307287642 \n",
      "## DEBUG: 3. Incremement Age of all edges from s_1 \n",
      "## DEBUG: 4. Add error to neuron \n",
      "## DEBUG: 5. Move s1 and neighbors towards B \n",
      "## DEBUG: 6. reset s1 and s2 age \n",
      "## DEBUG: 7. remove old edges \n",
      "## DEBUG: 8. Insert new neuron \n",
      "## DEBUG: 9. Decrease system error \n",
      "## DEBUG: \n",
      "## DEBUG: \n",
      "## DEBUG: Attemping to plot... \n",
      "## DEBUG: 1. Pick input signal P(B) \n",
      "## DEBUG: 2. Find two nearest units \n",
      "## DEBUG: Two nearest points: min_dist_1: 0.9785796802768304 min_dist_2: 1.2719058274805553 \n",
      "## DEBUG: 3. Incremement Age of all edges from s_1 \n",
      "## DEBUG: 4. Add error to neuron \n",
      "## DEBUG: 5. Move s1 and neighbors towards B \n",
      "## DEBUG: 6. reset s1 and s2 age \n",
      "## DEBUG: 7. remove old edges \n",
      "## DEBUG: 8. Insert new neuron \n",
      "## DEBUG: 9. Decrease system error \n",
      "## DEBUG: \n",
      "## DEBUG: \n",
      "## DEBUG: Attemping to plot... \n"
     ]
    },
    {
     "name": "stderr",
     "output_type": "stream",
     "text": [
      " 30%|████████████████████████████████▉                                                                              | 297/1000 [00:30<01:22,  8.53it/s]"
     ]
    },
    {
     "name": "stdout",
     "output_type": "stream",
     "text": [
      "## DEBUG: 1. Pick input signal P(B) \n",
      "## DEBUG: 2. Find two nearest units \n",
      "## DEBUG: Two nearest points: min_dist_1: 1.1926968049208193 min_dist_2: 1.4687043104468889 \n",
      "## DEBUG: 3. Incremement Age of all edges from s_1 \n",
      "## DEBUG: 4. Add error to neuron \n",
      "## DEBUG: 5. Move s1 and neighbors towards B \n",
      "## DEBUG: 6. reset s1 and s2 age \n",
      "## DEBUG: 7. remove old edges \n",
      "## DEBUG: 8. Insert new neuron \n",
      "## DEBUG: 9. Decrease system error \n",
      "## DEBUG: \n",
      "## DEBUG: \n",
      "## DEBUG: Attemping to plot... \n",
      "## DEBUG: 1. Pick input signal P(B) \n",
      "## DEBUG: 2. Find two nearest units \n",
      "## DEBUG: Two nearest points: min_dist_1: 3.653545875280612 min_dist_2: 3.976534608646886 \n",
      "## DEBUG: 3. Incremement Age of all edges from s_1 \n",
      "## DEBUG: 4. Add error to neuron \n",
      "## DEBUG: 5. Move s1 and neighbors towards B \n",
      "## DEBUG: 6. reset s1 and s2 age \n",
      "## DEBUG: 7. remove old edges \n",
      "## DEBUG: 8. Insert new neuron \n",
      "## DEBUG: 9. Decrease system error \n",
      "## DEBUG: \n",
      "## DEBUG: \n",
      "## DEBUG: Attemping to plot... \n"
     ]
    },
    {
     "name": "stderr",
     "output_type": "stream",
     "text": [
      " 30%|█████████████████████████████████▏                                                                             | 299/1000 [00:30<01:21,  8.61it/s]"
     ]
    },
    {
     "name": "stdout",
     "output_type": "stream",
     "text": [
      "## DEBUG: 1. Pick input signal P(B) \n",
      "## DEBUG: 2. Find two nearest units \n",
      "## DEBUG: Two nearest points: min_dist_1: 1.3218292826108322 min_dist_2: 1.3556752232705818 \n",
      "## DEBUG: 3. Incremement Age of all edges from s_1 \n",
      "## DEBUG: 4. Add error to neuron \n",
      "## DEBUG: 5. Move s1 and neighbors towards B \n",
      "## DEBUG: 6. reset s1 and s2 age \n",
      "## DEBUG: 7. remove old edges \n",
      "## DEBUG: 8. Insert new neuron \n",
      "## DEBUG: 9. Decrease system error \n",
      "## DEBUG: \n",
      "## DEBUG: \n",
      "## DEBUG: Attemping to plot... \n",
      "## DEBUG: 1. Pick input signal P(B) \n",
      "## DEBUG: 2. Find two nearest units \n",
      "## DEBUG: Two nearest points: min_dist_1: 0.3076895284101876 min_dist_2: 1.0379142669763504 \n",
      "## DEBUG: 3. Incremement Age of all edges from s_1 \n",
      "## DEBUG: 4. Add error to neuron \n",
      "## DEBUG: 5. Move s1 and neighbors towards B \n",
      "## DEBUG: 6. reset s1 and s2 age \n",
      "## DEBUG: 7. remove old edges \n",
      "## DEBUG: 8. Insert new neuron \n",
      "## DEBUG: 9. Decrease system error \n",
      "## DEBUG: \n",
      "## DEBUG: \n",
      "## DEBUG: Attemping to plot... \n"
     ]
    },
    {
     "name": "stderr",
     "output_type": "stream",
     "text": [
      " 30%|█████████████████████████████████▍                                                                             | 301/1000 [00:31<01:21,  8.57it/s]"
     ]
    },
    {
     "name": "stdout",
     "output_type": "stream",
     "text": [
      "## DEBUG: 1. Pick input signal P(B) \n",
      "## DEBUG: 2. Find two nearest units \n",
      "## DEBUG: Two nearest points: min_dist_1: 2.0466692193651093 min_dist_2: 2.6809039782689807 \n",
      "## DEBUG: 3. Incremement Age of all edges from s_1 \n",
      "## DEBUG: 4. Add error to neuron \n",
      "## DEBUG: 5. Move s1 and neighbors towards B \n",
      "## DEBUG: 6. reset s1 and s2 age \n",
      "## DEBUG: 7. remove old edges \n",
      "## DEBUG: 8. Insert new neuron \n",
      "## DEBUG: 9. Decrease system error \n",
      "## DEBUG: \n",
      "## DEBUG: \n",
      "## DEBUG: Attemping to plot... \n",
      "## DEBUG: 1. Pick input signal P(B) \n",
      "## DEBUG: 2. Find two nearest units \n",
      "## DEBUG: Two nearest points: min_dist_1: 0.9947960393387335 min_dist_2: 1.6379649764951225 \n",
      "## DEBUG: 3. Incremement Age of all edges from s_1 \n",
      "## DEBUG: 4. Add error to neuron \n",
      "## DEBUG: 5. Move s1 and neighbors towards B \n",
      "## DEBUG: 6. reset s1 and s2 age \n",
      "## DEBUG: 7. remove old edges \n",
      "## DEBUG: 8. Insert new neuron \n",
      "## DEBUG: 9. Decrease system error \n",
      "## DEBUG: \n",
      "## DEBUG: \n",
      "## DEBUG: Attemping to plot... \n"
     ]
    },
    {
     "name": "stderr",
     "output_type": "stream",
     "text": [
      " 30%|█████████████████████████████████▋                                                                             | 303/1000 [00:31<01:21,  8.60it/s]"
     ]
    },
    {
     "name": "stdout",
     "output_type": "stream",
     "text": [
      "## DEBUG: 1. Pick input signal P(B) \n",
      "## DEBUG: 2. Find two nearest units \n",
      "## DEBUG: Two nearest points: min_dist_1: 2.5906908561246254 min_dist_2: 3.3899685509776356 \n",
      "## DEBUG: 3. Incremement Age of all edges from s_1 \n",
      "## DEBUG: 4. Add error to neuron \n",
      "## DEBUG: 5. Move s1 and neighbors towards B \n",
      "## DEBUG: 6. reset s1 and s2 age \n",
      "## DEBUG: 7. remove old edges \n",
      "## DEBUG: 8. Insert new neuron \n",
      "## DEBUG: 9. Decrease system error \n",
      "## DEBUG: \n",
      "## DEBUG: \n",
      "## DEBUG: Attemping to plot... \n",
      "## DEBUG: 1. Pick input signal P(B) \n",
      "## DEBUG: 2. Find two nearest units \n",
      "## DEBUG: Two nearest points: min_dist_1: 1.2711119591821465 min_dist_2: 1.9030164862997638 \n",
      "## DEBUG: 3. Incremement Age of all edges from s_1 \n",
      "## DEBUG: 4. Add error to neuron \n",
      "## DEBUG: 5. Move s1 and neighbors towards B \n",
      "## DEBUG: 6. reset s1 and s2 age \n",
      "## DEBUG: 7. remove old edges \n",
      "## DEBUG: 8. Insert new neuron \n",
      "## DEBUG: 9. Decrease system error \n",
      "## DEBUG: \n",
      "## DEBUG: \n",
      "## DEBUG: Attemping to plot... \n"
     ]
    },
    {
     "name": "stderr",
     "output_type": "stream",
     "text": [
      " 30%|█████████████████████████████████▊                                                                             | 305/1000 [00:31<01:20,  8.67it/s]"
     ]
    },
    {
     "name": "stdout",
     "output_type": "stream",
     "text": [
      "## DEBUG: 1. Pick input signal P(B) \n",
      "## DEBUG: 2. Find two nearest units \n",
      "## DEBUG: Two nearest points: min_dist_1: 3.040332273372429 min_dist_2: 3.688718349732442 \n",
      "## DEBUG: 3. Incremement Age of all edges from s_1 \n",
      "## DEBUG: 4. Add error to neuron \n",
      "## DEBUG: 5. Move s1 and neighbors towards B \n",
      "## DEBUG: 6. reset s1 and s2 age \n",
      "## DEBUG: 7. remove old edges \n",
      "## DEBUG: 8. Insert new neuron \n",
      "## DEBUG: 9. Decrease system error \n",
      "## DEBUG: \n",
      "## DEBUG: \n",
      "## DEBUG: Attemping to plot... \n",
      "## DEBUG: 1. Pick input signal P(B) \n",
      "## DEBUG: 2. Find two nearest units \n",
      "## DEBUG: Two nearest points: min_dist_1: 1.481568678285505 min_dist_2: 2.5321611200593908 \n",
      "## DEBUG: 3. Incremement Age of all edges from s_1 \n",
      "## DEBUG: 4. Add error to neuron \n",
      "## DEBUG: 5. Move s1 and neighbors towards B \n",
      "## DEBUG: 6. reset s1 and s2 age \n",
      "## DEBUG: 7. remove old edges \n",
      "## DEBUG: 8. Insert new neuron \n",
      "## DEBUG: 9. Decrease system error \n",
      "## DEBUG: \n",
      "## DEBUG: \n",
      "## DEBUG: Attemping to plot... \n"
     ]
    },
    {
     "name": "stderr",
     "output_type": "stream",
     "text": [
      " 31%|██████████████████████████████████                                                                             | 307/1000 [00:31<01:19,  8.67it/s]"
     ]
    },
    {
     "name": "stdout",
     "output_type": "stream",
     "text": [
      "## DEBUG: 1. Pick input signal P(B) \n",
      "## DEBUG: 2. Find two nearest units \n",
      "## DEBUG: Two nearest points: min_dist_1: 0.49724249212212485 min_dist_2: 1.3172974539509055 \n",
      "## DEBUG: 3. Incremement Age of all edges from s_1 \n",
      "## DEBUG: 4. Add error to neuron \n",
      "## DEBUG: 5. Move s1 and neighbors towards B \n",
      "## DEBUG: 6. reset s1 and s2 age \n",
      "## DEBUG: 7. remove old edges \n",
      "## DEBUG: 8. Insert new neuron \n",
      "## DEBUG: 9. Decrease system error \n",
      "## DEBUG: \n",
      "## DEBUG: \n",
      "## DEBUG: Attemping to plot... \n",
      "## DEBUG: 1. Pick input signal P(B) \n",
      "## DEBUG: 2. Find two nearest units \n",
      "## DEBUG: Two nearest points: min_dist_1: 0.3370705872848215 min_dist_2: 0.9980146195761357 \n",
      "## DEBUG: 3. Incremement Age of all edges from s_1 \n",
      "## DEBUG: 4. Add error to neuron \n",
      "## DEBUG: 5. Move s1 and neighbors towards B \n",
      "## DEBUG: 6. reset s1 and s2 age \n",
      "## DEBUG: 7. remove old edges \n",
      "## DEBUG: 8. Insert new neuron \n",
      "## DEBUG: 9. Decrease system error \n",
      "## DEBUG: \n",
      "## DEBUG: \n",
      "## DEBUG: Attemping to plot... \n"
     ]
    },
    {
     "name": "stderr",
     "output_type": "stream",
     "text": [
      " 31%|██████████████████████████████████▎                                                                            | 309/1000 [00:32<01:19,  8.66it/s]"
     ]
    },
    {
     "name": "stdout",
     "output_type": "stream",
     "text": [
      "## DEBUG: 1. Pick input signal P(B) \n",
      "## DEBUG: 2. Find two nearest units \n",
      "## DEBUG: Two nearest points: min_dist_1: 0.9599109920753118 min_dist_2: 1.6378058631737542 \n",
      "## DEBUG: 3. Incremement Age of all edges from s_1 \n",
      "## DEBUG: 4. Add error to neuron \n",
      "## DEBUG: 5. Move s1 and neighbors towards B \n",
      "## DEBUG: 6. reset s1 and s2 age \n",
      "## DEBUG: 7. remove old edges \n",
      "## DEBUG: 8. Insert new neuron \n",
      "## DEBUG: 9. Decrease system error \n",
      "## DEBUG: \n",
      "## DEBUG: \n",
      "## DEBUG: Attemping to plot... \n",
      "## DEBUG: 1. Pick input signal P(B) \n",
      "## DEBUG: 2. Find two nearest units \n",
      "## DEBUG: Two nearest points: min_dist_1: 3.9153869003363417 min_dist_2: 4.342143950289187 \n",
      "## DEBUG: 3. Incremement Age of all edges from s_1 \n",
      "## DEBUG: 4. Add error to neuron \n",
      "## DEBUG: 5. Move s1 and neighbors towards B \n",
      "## DEBUG: 6. reset s1 and s2 age \n",
      "## DEBUG: 7. remove old edges \n",
      "## DEBUG: 8. Insert new neuron \n",
      "## DEBUG: 9. Decrease system error \n",
      "## DEBUG: \n",
      "## DEBUG: \n",
      "## DEBUG: Attemping to plot... \n"
     ]
    },
    {
     "name": "stderr",
     "output_type": "stream",
     "text": [
      " 31%|██████████████████████████████████▌                                                                            | 311/1000 [00:32<01:19,  8.67it/s]"
     ]
    },
    {
     "name": "stdout",
     "output_type": "stream",
     "text": [
      "## DEBUG: 1. Pick input signal P(B) \n",
      "## DEBUG: 2. Find two nearest units \n",
      "## DEBUG: Two nearest points: min_dist_1: 2.908697775462948 min_dist_2: 3.914384825983983 \n",
      "## DEBUG: 3. Incremement Age of all edges from s_1 \n",
      "## DEBUG: 4. Add error to neuron \n",
      "## DEBUG: 5. Move s1 and neighbors towards B \n",
      "## DEBUG: 6. reset s1 and s2 age \n",
      "## DEBUG: 7. remove old edges \n",
      "## DEBUG: 8. Insert new neuron \n",
      "## DEBUG: 9. Decrease system error \n",
      "## DEBUG: \n",
      "## DEBUG: \n",
      "## DEBUG: Attemping to plot... \n",
      "## DEBUG: 1. Pick input signal P(B) \n",
      "## DEBUG: 2. Find two nearest units \n",
      "## DEBUG: Two nearest points: min_dist_1: 1.1159458066441943 min_dist_2: 2.1195819038243893 \n",
      "## DEBUG: 3. Incremement Age of all edges from s_1 \n",
      "## DEBUG: 4. Add error to neuron \n",
      "## DEBUG: 5. Move s1 and neighbors towards B \n",
      "## DEBUG: 6. reset s1 and s2 age \n",
      "## DEBUG: 7. remove old edges \n",
      "## DEBUG: 8. Insert new neuron \n",
      "## DEBUG: 9. Decrease system error \n",
      "## DEBUG: \n",
      "## DEBUG: \n",
      "## DEBUG: Attemping to plot... \n"
     ]
    },
    {
     "name": "stderr",
     "output_type": "stream",
     "text": [
      " 31%|██████████████████████████████████▋                                                                            | 313/1000 [00:32<01:19,  8.65it/s]"
     ]
    },
    {
     "name": "stdout",
     "output_type": "stream",
     "text": [
      "## DEBUG: 1. Pick input signal P(B) \n",
      "## DEBUG: 2. Find two nearest units \n",
      "## DEBUG: Two nearest points: min_dist_1: 1.8040246859410511 min_dist_2: 1.8615388156537014 \n",
      "## DEBUG: 3. Incremement Age of all edges from s_1 \n",
      "## DEBUG: 4. Add error to neuron \n",
      "## DEBUG: 5. Move s1 and neighbors towards B \n",
      "## DEBUG: 6. reset s1 and s2 age \n",
      "## DEBUG: 7. remove old edges \n",
      "## DEBUG: 8. Insert new neuron \n",
      "## DEBUG: 9. Decrease system error \n",
      "## DEBUG: \n",
      "## DEBUG: \n",
      "## DEBUG: Attemping to plot... \n",
      "## DEBUG: 1. Pick input signal P(B) \n",
      "## DEBUG: 2. Find two nearest units \n",
      "## DEBUG: Two nearest points: min_dist_1: 1.8737697249124 min_dist_2: 3.0923296501027604 \n",
      "## DEBUG: 3. Incremement Age of all edges from s_1 \n",
      "## DEBUG: 4. Add error to neuron \n",
      "## DEBUG: 5. Move s1 and neighbors towards B \n",
      "## DEBUG: 6. reset s1 and s2 age \n",
      "## DEBUG: 7. remove old edges \n",
      "## DEBUG: 8. Insert new neuron \n",
      "## DEBUG: 9. Decrease system error \n",
      "## DEBUG: \n",
      "## DEBUG: \n",
      "## DEBUG: Attemping to plot... \n"
     ]
    },
    {
     "name": "stderr",
     "output_type": "stream",
     "text": [
      " 32%|██████████████████████████████████▉                                                                            | 315/1000 [00:32<01:19,  8.58it/s]"
     ]
    },
    {
     "name": "stdout",
     "output_type": "stream",
     "text": [
      "## DEBUG: 1. Pick input signal P(B) \n",
      "## DEBUG: 2. Find two nearest units \n",
      "## DEBUG: Two nearest points: min_dist_1: 2.6200807867410383 min_dist_2: 4.001316741233242 \n",
      "## DEBUG: 3. Incremement Age of all edges from s_1 \n",
      "## DEBUG: 4. Add error to neuron \n",
      "## DEBUG: 5. Move s1 and neighbors towards B \n",
      "## DEBUG: 6. reset s1 and s2 age \n",
      "## DEBUG: 7. remove old edges \n",
      "## DEBUG: 8. Insert new neuron \n",
      "## DEBUG: 9. Decrease system error \n",
      "## DEBUG: \n",
      "## DEBUG: \n",
      "## DEBUG: Attemping to plot... \n",
      "## DEBUG: 1. Pick input signal P(B) \n",
      "## DEBUG: 2. Find two nearest units \n",
      "## DEBUG: Two nearest points: min_dist_1: 2.5585022473608343 min_dist_2: 2.583291996496557 \n",
      "## DEBUG: 3. Incremement Age of all edges from s_1 \n",
      "## DEBUG: 4. Add error to neuron \n",
      "## DEBUG: 5. Move s1 and neighbors towards B \n",
      "## DEBUG: 6. reset s1 and s2 age \n",
      "## DEBUG: 7. remove old edges \n",
      "## DEBUG: 8. Insert new neuron \n",
      "## DEBUG: 9. Decrease system error \n",
      "## DEBUG: \n",
      "## DEBUG: \n",
      "## DEBUG: Attemping to plot... \n"
     ]
    },
    {
     "name": "stderr",
     "output_type": "stream",
     "text": [
      " 32%|███████████████████████████████████▏                                                                           | 317/1000 [00:33<01:19,  8.55it/s]"
     ]
    },
    {
     "name": "stdout",
     "output_type": "stream",
     "text": [
      "## DEBUG: 1. Pick input signal P(B) \n",
      "## DEBUG: 2. Find two nearest units \n",
      "## DEBUG: Two nearest points: min_dist_1: 1.9826745201566232 min_dist_2: 2.282821666427241 \n",
      "## DEBUG: 3. Incremement Age of all edges from s_1 \n",
      "## DEBUG: 4. Add error to neuron \n",
      "## DEBUG: 5. Move s1 and neighbors towards B \n",
      "## DEBUG: 6. reset s1 and s2 age \n",
      "## DEBUG: 7. remove old edges \n",
      "## DEBUG: 8. Insert new neuron \n",
      "## DEBUG: 9. Decrease system error \n",
      "## DEBUG: \n",
      "## DEBUG: \n",
      "## DEBUG: Attemping to plot... \n",
      "## DEBUG: 1. Pick input signal P(B) \n",
      "## DEBUG: 2. Find two nearest units \n",
      "## DEBUG: Two nearest points: min_dist_1: 0.8415921566200975 min_dist_2: 1.4438687577606766 \n",
      "## DEBUG: 3. Incremement Age of all edges from s_1 \n",
      "## DEBUG: 4. Add error to neuron \n",
      "## DEBUG: 5. Move s1 and neighbors towards B \n",
      "## DEBUG: 6. reset s1 and s2 age \n",
      "## DEBUG: 7. remove old edges \n",
      "## DEBUG: 8. Insert new neuron \n",
      "## DEBUG: 9. Decrease system error \n",
      "## DEBUG: \n",
      "## DEBUG: \n",
      "## DEBUG: Attemping to plot... \n"
     ]
    },
    {
     "name": "stderr",
     "output_type": "stream",
     "text": [
      " 32%|███████████████████████████████████▍                                                                           | 319/1000 [00:33<01:19,  8.57it/s]"
     ]
    },
    {
     "name": "stdout",
     "output_type": "stream",
     "text": [
      "## DEBUG: 1. Pick input signal P(B) \n",
      "## DEBUG: 2. Find two nearest units \n",
      "## DEBUG: Two nearest points: min_dist_1: 0.8531909032611976 min_dist_2: 2.642083696671815 \n",
      "## DEBUG: 3. Incremement Age of all edges from s_1 \n",
      "## DEBUG: 4. Add error to neuron \n",
      "## DEBUG: 5. Move s1 and neighbors towards B \n",
      "## DEBUG: 6. reset s1 and s2 age \n",
      "## DEBUG: 7. remove old edges \n",
      "## DEBUG: 8. Insert new neuron \n",
      "## DEBUG: 9. Decrease system error \n",
      "## DEBUG: \n",
      "## DEBUG: \n",
      "## DEBUG: Attemping to plot... \n",
      "## DEBUG: 1. Pick input signal P(B) \n",
      "## DEBUG: 2. Find two nearest units \n",
      "## DEBUG: Two nearest points: min_dist_1: 0.3520875583103641 min_dist_2: 0.5816086749933602 \n",
      "## DEBUG: 3. Incremement Age of all edges from s_1 \n",
      "## DEBUG: 4. Add error to neuron \n",
      "## DEBUG: 5. Move s1 and neighbors towards B \n",
      "## DEBUG: 6. reset s1 and s2 age \n",
      "## DEBUG: 7. remove old edges \n",
      "## DEBUG: 8. Insert new neuron \n",
      "## DEBUG: 9. Decrease system error \n",
      "## DEBUG: \n",
      "## DEBUG: \n",
      "## DEBUG: Attemping to plot... \n"
     ]
    },
    {
     "name": "stderr",
     "output_type": "stream",
     "text": [
      " 32%|███████████████████████████████████▋                                                                           | 321/1000 [00:33<01:19,  8.51it/s]"
     ]
    },
    {
     "name": "stdout",
     "output_type": "stream",
     "text": [
      "## DEBUG: 1. Pick input signal P(B) \n",
      "## DEBUG: 2. Find two nearest units \n",
      "## DEBUG: Two nearest points: min_dist_1: 0.8193464708898075 min_dist_2: 2.2475001903098395 \n",
      "## DEBUG: 3. Incremement Age of all edges from s_1 \n",
      "## DEBUG: 4. Add error to neuron \n",
      "## DEBUG: 5. Move s1 and neighbors towards B \n",
      "## DEBUG: 6. reset s1 and s2 age \n",
      "## DEBUG: 7. remove old edges \n",
      "## DEBUG: 8. Insert new neuron \n",
      "## DEBUG: 9. Decrease system error \n",
      "## DEBUG: \n",
      "## DEBUG: \n",
      "## DEBUG: Attemping to plot... \n",
      "## DEBUG: 1. Pick input signal P(B) \n",
      "## DEBUG: 2. Find two nearest units \n",
      "## DEBUG: Two nearest points: min_dist_1: 0.9491618058524285 min_dist_2: 1.1144104041111043 \n",
      "## DEBUG: 3. Incremement Age of all edges from s_1 \n",
      "## DEBUG: 4. Add error to neuron \n",
      "## DEBUG: 5. Move s1 and neighbors towards B \n",
      "## DEBUG: 6. reset s1 and s2 age \n",
      "## DEBUG: 7. remove old edges \n",
      "## DEBUG: 8. Insert new neuron \n",
      "## DEBUG: 9. Decrease system error \n",
      "## DEBUG: \n",
      "## DEBUG: \n",
      "## DEBUG: Attemping to plot... \n"
     ]
    },
    {
     "name": "stderr",
     "output_type": "stream",
     "text": [
      " 32%|███████████████████████████████████▊                                                                           | 323/1000 [00:33<01:20,  8.45it/s]"
     ]
    },
    {
     "name": "stdout",
     "output_type": "stream",
     "text": [
      "## DEBUG: 1. Pick input signal P(B) \n",
      "## DEBUG: 2. Find two nearest units \n",
      "## DEBUG: Two nearest points: min_dist_1: 0.6044823804663241 min_dist_2: 1.1345371715767896 \n",
      "## DEBUG: 3. Incremement Age of all edges from s_1 \n",
      "## DEBUG: 4. Add error to neuron \n",
      "## DEBUG: 5. Move s1 and neighbors towards B \n",
      "## DEBUG: 6. reset s1 and s2 age \n",
      "## DEBUG: 7. remove old edges \n",
      "## DEBUG: 8. Insert new neuron \n",
      "## DEBUG: 9. Decrease system error \n",
      "## DEBUG: \n",
      "## DEBUG: \n",
      "## DEBUG: Attemping to plot... \n",
      "## DEBUG: 1. Pick input signal P(B) \n",
      "## DEBUG: 2. Find two nearest units \n",
      "## DEBUG: Two nearest points: min_dist_1: 4.197055721884613 min_dist_2: 4.794085824050482 \n",
      "## DEBUG: 3. Incremement Age of all edges from s_1 \n",
      "## DEBUG: 4. Add error to neuron \n",
      "## DEBUG: 5. Move s1 and neighbors towards B \n",
      "## DEBUG: 6. reset s1 and s2 age \n",
      "## DEBUG: 7. remove old edges \n",
      "## DEBUG: 8. Insert new neuron \n",
      "## DEBUG: 9. Decrease system error \n",
      "## DEBUG: \n",
      "## DEBUG: \n",
      "## DEBUG: Attemping to plot... \n"
     ]
    },
    {
     "name": "stderr",
     "output_type": "stream",
     "text": [
      " 32%|████████████████████████████████████                                                                           | 325/1000 [00:33<01:20,  8.35it/s]"
     ]
    },
    {
     "name": "stdout",
     "output_type": "stream",
     "text": [
      "## DEBUG: 1. Pick input signal P(B) \n",
      "## DEBUG: 2. Find two nearest units \n",
      "## DEBUG: Two nearest points: min_dist_1: 0.4475182429099121 min_dist_2: 1.3159801564969542 \n",
      "## DEBUG: 3. Incremement Age of all edges from s_1 \n",
      "## DEBUG: 4. Add error to neuron \n",
      "## DEBUG: 5. Move s1 and neighbors towards B \n",
      "## DEBUG: 6. reset s1 and s2 age \n",
      "## DEBUG: 7. remove old edges \n",
      "## DEBUG: 8. Insert new neuron \n",
      "## DEBUG: 9. Decrease system error \n",
      "## DEBUG: \n",
      "## DEBUG: \n",
      "## DEBUG: Attemping to plot... \n",
      "## DEBUG: 1. Pick input signal P(B) \n",
      "## DEBUG: 2. Find two nearest units \n",
      "## DEBUG: Two nearest points: min_dist_1: 0.967397549482647 min_dist_2: 1.1729969457717908 \n",
      "## DEBUG: 3. Incremement Age of all edges from s_1 \n",
      "## DEBUG: 4. Add error to neuron \n",
      "## DEBUG: 5. Move s1 and neighbors towards B \n",
      "## DEBUG: 6. reset s1 and s2 age \n",
      "## DEBUG: 7. remove old edges \n",
      "## DEBUG: 8. Insert new neuron \n",
      "## DEBUG: 9. Decrease system error \n",
      "## DEBUG: \n",
      "## DEBUG: \n",
      "## DEBUG: Attemping to plot... \n"
     ]
    },
    {
     "name": "stderr",
     "output_type": "stream",
     "text": [
      " 33%|████████████████████████████████████▎                                                                          | 327/1000 [00:34<01:26,  7.75it/s]"
     ]
    },
    {
     "name": "stdout",
     "output_type": "stream",
     "text": [
      "## DEBUG: 1. Pick input signal P(B) \n",
      "## DEBUG: 2. Find two nearest units \n",
      "## DEBUG: Two nearest points: min_dist_1: 1.0567526382885766 min_dist_2: 1.3171366609770019 \n",
      "## DEBUG: 3. Incremement Age of all edges from s_1 \n",
      "## DEBUG: 4. Add error to neuron \n",
      "## DEBUG: 5. Move s1 and neighbors towards B \n",
      "## DEBUG: 6. reset s1 and s2 age \n",
      "## DEBUG: 7. remove old edges \n",
      "## DEBUG: 8. Insert new neuron \n",
      "## DEBUG: 9. Decrease system error \n",
      "## DEBUG: \n",
      "## DEBUG: \n",
      "## DEBUG: Attemping to plot... \n",
      "## DEBUG: 1. Pick input signal P(B) \n",
      "## DEBUG: 2. Find two nearest units \n",
      "## DEBUG: Two nearest points: min_dist_1: 1.012818730933044 min_dist_2: 1.8158744882495843 \n",
      "## DEBUG: 3. Incremement Age of all edges from s_1 \n",
      "## DEBUG: 4. Add error to neuron \n",
      "## DEBUG: 5. Move s1 and neighbors towards B \n",
      "## DEBUG: 6. reset s1 and s2 age \n",
      "## DEBUG: 7. remove old edges \n",
      "## DEBUG: 8. Insert new neuron \n",
      "## DEBUG: 9. Decrease system error \n",
      "## DEBUG: \n",
      "## DEBUG: \n",
      "## DEBUG: Attemping to plot... \n"
     ]
    },
    {
     "name": "stderr",
     "output_type": "stream",
     "text": [
      " 33%|████████████████████████████████████▌                                                                          | 329/1000 [00:35<03:37,  3.08it/s]"
     ]
    },
    {
     "name": "stdout",
     "output_type": "stream",
     "text": [
      "## DEBUG: 1. Pick input signal P(B) \n",
      "## DEBUG: 2. Find two nearest units \n",
      "## DEBUG: Two nearest points: min_dist_1: 0.4440476129861967 min_dist_2: 0.97600532972578 \n",
      "## DEBUG: 3. Incremement Age of all edges from s_1 \n",
      "## DEBUG: 4. Add error to neuron \n",
      "## DEBUG: 5. Move s1 and neighbors towards B \n",
      "## DEBUG: 6. reset s1 and s2 age \n",
      "## DEBUG: 7. remove old edges \n",
      "## DEBUG: 8. Insert new neuron \n",
      "## DEBUG: 9. Decrease system error \n",
      "## DEBUG: \n",
      "## DEBUG: \n",
      "## DEBUG: Attemping to plot... \n",
      "## DEBUG: 1. Pick input signal P(B) \n",
      "## DEBUG: 2. Find two nearest units \n",
      "## DEBUG: Two nearest points: min_dist_1: 2.9760197692652266 min_dist_2: 3.043186793427807 \n",
      "## DEBUG: 3. Incremement Age of all edges from s_1 \n",
      "## DEBUG: 4. Add error to neuron \n",
      "## DEBUG: 5. Move s1 and neighbors towards B \n",
      "## DEBUG: 6. reset s1 and s2 age \n",
      "## DEBUG: 7. remove old edges \n",
      "## DEBUG: 8. Insert new neuron \n",
      "## DEBUG: 9. Decrease system error \n",
      "## DEBUG: \n",
      "## DEBUG: \n",
      "## DEBUG: Attemping to plot... \n"
     ]
    },
    {
     "name": "stderr",
     "output_type": "stream",
     "text": [
      " 33%|████████████████████████████████████▋                                                                          | 331/1000 [00:35<02:26,  4.57it/s]"
     ]
    },
    {
     "name": "stdout",
     "output_type": "stream",
     "text": [
      "## DEBUG: 1. Pick input signal P(B) \n",
      "## DEBUG: 2. Find two nearest units \n",
      "## DEBUG: Two nearest points: min_dist_1: 2.7552807570072866 min_dist_2: 3.024143898394397 \n",
      "## DEBUG: 3. Incremement Age of all edges from s_1 \n",
      "## DEBUG: 4. Add error to neuron \n",
      "## DEBUG: 5. Move s1 and neighbors towards B \n",
      "## DEBUG: 6. reset s1 and s2 age \n",
      "## DEBUG: 7. remove old edges \n",
      "## DEBUG: 8. Insert new neuron \n",
      "## DEBUG: 9. Decrease system error \n",
      "## DEBUG: \n",
      "## DEBUG: \n",
      "## DEBUG: Attemping to plot... \n",
      "## DEBUG: 1. Pick input signal P(B) \n",
      "## DEBUG: 2. Find two nearest units \n",
      "## DEBUG: Two nearest points: min_dist_1: 0.49451111351955873 min_dist_2: 0.8928667946611627 \n",
      "## DEBUG: 3. Incremement Age of all edges from s_1 \n",
      "## DEBUG: 4. Add error to neuron \n",
      "## DEBUG: 5. Move s1 and neighbors towards B \n",
      "## DEBUG: 6. reset s1 and s2 age \n",
      "## DEBUG: 7. remove old edges \n",
      "## DEBUG: 8. Insert new neuron \n",
      "## DEBUG: 9. Decrease system error \n",
      "## DEBUG: \n",
      "## DEBUG: \n",
      "## DEBUG: Attemping to plot... \n"
     ]
    },
    {
     "name": "stderr",
     "output_type": "stream",
     "text": [
      " 33%|████████████████████████████████████▉                                                                          | 333/1000 [00:35<01:52,  5.95it/s]"
     ]
    },
    {
     "name": "stdout",
     "output_type": "stream",
     "text": [
      "## DEBUG: 1. Pick input signal P(B) \n",
      "## DEBUG: 2. Find two nearest units \n",
      "## DEBUG: Two nearest points: min_dist_1: 1.7673842575011387 min_dist_2: 3.0683181033449034 \n",
      "## DEBUG: 3. Incremement Age of all edges from s_1 \n",
      "## DEBUG: 4. Add error to neuron \n",
      "## DEBUG: 5. Move s1 and neighbors towards B \n",
      "## DEBUG: 6. reset s1 and s2 age \n",
      "## DEBUG: 7. remove old edges \n",
      "## DEBUG: 8. Insert new neuron \n",
      "## DEBUG: 9. Decrease system error \n",
      "## DEBUG: \n",
      "## DEBUG: \n",
      "## DEBUG: Attemping to plot... \n",
      "## DEBUG: 1. Pick input signal P(B) \n",
      "## DEBUG: 2. Find two nearest units \n",
      "## DEBUG: Two nearest points: min_dist_1: 0.939801190964274 min_dist_2: 1.311957728412755 \n",
      "## DEBUG: 3. Incremement Age of all edges from s_1 \n",
      "## DEBUG: 4. Add error to neuron \n",
      "## DEBUG: 5. Move s1 and neighbors towards B \n",
      "## DEBUG: 6. reset s1 and s2 age \n",
      "## DEBUG: 7. remove old edges \n",
      "## DEBUG: 8. Insert new neuron \n",
      "## DEBUG: 9. Decrease system error \n",
      "## DEBUG: \n",
      "## DEBUG: \n",
      "## DEBUG: Attemping to plot... \n"
     ]
    },
    {
     "name": "stderr",
     "output_type": "stream",
     "text": [
      " 34%|█████████████████████████████████████▏                                                                         | 335/1000 [00:36<01:35,  6.95it/s]"
     ]
    },
    {
     "name": "stdout",
     "output_type": "stream",
     "text": [
      "## DEBUG: 1. Pick input signal P(B) \n",
      "## DEBUG: 2. Find two nearest units \n",
      "## DEBUG: Two nearest points: min_dist_1: 2.187021459424473 min_dist_2: 2.9100854906497156 \n",
      "## DEBUG: 3. Incremement Age of all edges from s_1 \n",
      "## DEBUG: 4. Add error to neuron \n",
      "## DEBUG: 5. Move s1 and neighbors towards B \n",
      "## DEBUG: 6. reset s1 and s2 age \n",
      "## DEBUG: 7. remove old edges \n",
      "## DEBUG: 8. Insert new neuron \n",
      "## DEBUG: 9. Decrease system error \n",
      "## DEBUG: \n",
      "## DEBUG: \n",
      "## DEBUG: Attemping to plot... \n",
      "## DEBUG: 1. Pick input signal P(B) \n",
      "## DEBUG: 2. Find two nearest units \n",
      "## DEBUG: Two nearest points: min_dist_1: 0.4204530666600802 min_dist_2: 0.5445667572002224 \n",
      "## DEBUG: 3. Incremement Age of all edges from s_1 \n",
      "## DEBUG: 4. Add error to neuron \n",
      "## DEBUG: 5. Move s1 and neighbors towards B \n",
      "## DEBUG: 6. reset s1 and s2 age \n",
      "## DEBUG: 7. remove old edges \n",
      "## DEBUG: 8. Insert new neuron \n",
      "## DEBUG: 9. Decrease system error \n",
      "## DEBUG: \n",
      "## DEBUG: \n",
      "## DEBUG: Attemping to plot... \n"
     ]
    },
    {
     "name": "stderr",
     "output_type": "stream",
     "text": [
      " 34%|█████████████████████████████████████▍                                                                         | 337/1000 [00:36<01:27,  7.54it/s]"
     ]
    },
    {
     "name": "stdout",
     "output_type": "stream",
     "text": [
      "## DEBUG: 1. Pick input signal P(B) \n",
      "## DEBUG: 2. Find two nearest units \n",
      "## DEBUG: Two nearest points: min_dist_1: 2.9838544359705175 min_dist_2: 3.505636424100317 \n",
      "## DEBUG: 3. Incremement Age of all edges from s_1 \n",
      "## DEBUG: 4. Add error to neuron \n",
      "## DEBUG: 5. Move s1 and neighbors towards B \n",
      "## DEBUG: 6. reset s1 and s2 age \n",
      "## DEBUG: 7. remove old edges \n",
      "## DEBUG: 8. Insert new neuron \n",
      "## DEBUG: 9. Decrease system error \n",
      "## DEBUG: \n",
      "## DEBUG: \n",
      "## DEBUG: Attemping to plot... \n",
      "## DEBUG: 1. Pick input signal P(B) \n",
      "## DEBUG: 2. Find two nearest units \n",
      "## DEBUG: Two nearest points: min_dist_1: 1.3105787540622367 min_dist_2: 1.4447520218503969 \n",
      "## DEBUG: 3. Incremement Age of all edges from s_1 \n",
      "## DEBUG: 4. Add error to neuron \n",
      "## DEBUG: 5. Move s1 and neighbors towards B \n",
      "## DEBUG: 6. reset s1 and s2 age \n",
      "## DEBUG: 7. remove old edges \n",
      "## DEBUG: 8. Insert new neuron \n",
      "## DEBUG: 9. Decrease system error \n",
      "## DEBUG: \n",
      "## DEBUG: \n",
      "## DEBUG: Attemping to plot... \n"
     ]
    },
    {
     "name": "stderr",
     "output_type": "stream",
     "text": [
      " 34%|█████████████████████████████████████▋                                                                         | 339/1000 [00:36<01:22,  7.98it/s]"
     ]
    },
    {
     "name": "stdout",
     "output_type": "stream",
     "text": [
      "## DEBUG: 1. Pick input signal P(B) \n",
      "## DEBUG: 2. Find two nearest units \n",
      "## DEBUG: Two nearest points: min_dist_1: 0.4773038844861695 min_dist_2: 1.0409095910099087 \n",
      "## DEBUG: 3. Incremement Age of all edges from s_1 \n",
      "## DEBUG: 4. Add error to neuron \n",
      "## DEBUG: 5. Move s1 and neighbors towards B \n",
      "## DEBUG: 6. reset s1 and s2 age \n",
      "## DEBUG: 7. remove old edges \n",
      "## DEBUG: 8. Insert new neuron \n",
      "## DEBUG: 9. Decrease system error \n",
      "## DEBUG: \n",
      "## DEBUG: \n",
      "## DEBUG: Attemping to plot... \n",
      "## DEBUG: 1. Pick input signal P(B) \n",
      "## DEBUG: 2. Find two nearest units \n",
      "## DEBUG: Two nearest points: min_dist_1: 1.6327539278168532 min_dist_2: 2.726798230308017 \n",
      "## DEBUG: 3. Incremement Age of all edges from s_1 \n",
      "## DEBUG: 4. Add error to neuron \n",
      "## DEBUG: 5. Move s1 and neighbors towards B \n",
      "## DEBUG: 6. reset s1 and s2 age \n",
      "## DEBUG: 7. remove old edges \n",
      "## DEBUG: 8. Insert new neuron \n",
      "## DEBUG: 9. Decrease system error \n",
      "## DEBUG: \n",
      "## DEBUG: \n",
      "## DEBUG: Attemping to plot... \n"
     ]
    },
    {
     "name": "stderr",
     "output_type": "stream",
     "text": [
      " 34%|█████████████████████████████████████▊                                                                         | 341/1000 [00:36<01:21,  8.08it/s]"
     ]
    },
    {
     "name": "stdout",
     "output_type": "stream",
     "text": [
      "## DEBUG: 1. Pick input signal P(B) \n",
      "## DEBUG: 2. Find two nearest units \n",
      "## DEBUG: Two nearest points: min_dist_1: 0.45088780216076046 min_dist_2: 0.8650942677177238 \n",
      "## DEBUG: 3. Incremement Age of all edges from s_1 \n",
      "## DEBUG: 4. Add error to neuron \n",
      "## DEBUG: 5. Move s1 and neighbors towards B \n",
      "## DEBUG: 6. reset s1 and s2 age \n",
      "## DEBUG: 7. remove old edges \n",
      "## DEBUG: 8. Insert new neuron \n",
      "## DEBUG: 9. Decrease system error \n",
      "## DEBUG: \n",
      "## DEBUG: \n",
      "## DEBUG: Attemping to plot... \n",
      "## DEBUG: 1. Pick input signal P(B) \n",
      "## DEBUG: 2. Find two nearest units \n",
      "## DEBUG: Two nearest points: min_dist_1: 0.4483620486514016 min_dist_2: 0.8606033170310439 \n",
      "## DEBUG: 3. Incremement Age of all edges from s_1 \n",
      "## DEBUG: 4. Add error to neuron \n",
      "## DEBUG: 5. Move s1 and neighbors towards B \n",
      "## DEBUG: 6. reset s1 and s2 age \n",
      "## DEBUG: 7. remove old edges \n",
      "## DEBUG: 8. Insert new neuron \n",
      "## DEBUG: 9. Decrease system error \n",
      "## DEBUG: \n",
      "## DEBUG: \n",
      "## DEBUG: Attemping to plot... \n"
     ]
    },
    {
     "name": "stderr",
     "output_type": "stream",
     "text": [
      " 34%|██████████████████████████████████████                                                                         | 343/1000 [00:37<01:20,  8.18it/s]"
     ]
    },
    {
     "name": "stdout",
     "output_type": "stream",
     "text": [
      "## DEBUG: 1. Pick input signal P(B) \n",
      "## DEBUG: 2. Find two nearest units \n",
      "## DEBUG: Two nearest points: min_dist_1: 2.575356757472382 min_dist_2: 3.1921644931324744 \n",
      "## DEBUG: 3. Incremement Age of all edges from s_1 \n",
      "## DEBUG: 4. Add error to neuron \n",
      "## DEBUG: 5. Move s1 and neighbors towards B \n",
      "## DEBUG: 6. reset s1 and s2 age \n",
      "## DEBUG: 7. remove old edges \n",
      "## DEBUG: 8. Insert new neuron \n",
      "## DEBUG: 9. Decrease system error \n",
      "## DEBUG: \n",
      "## DEBUG: \n",
      "## DEBUG: Attemping to plot... \n",
      "## DEBUG: 1. Pick input signal P(B) \n",
      "## DEBUG: 2. Find two nearest units \n",
      "## DEBUG: Two nearest points: min_dist_1: 1.9879105832859054 min_dist_2: 2.21717872352249 \n",
      "## DEBUG: 3. Incremement Age of all edges from s_1 \n",
      "## DEBUG: 4. Add error to neuron \n",
      "## DEBUG: 5. Move s1 and neighbors towards B \n",
      "## DEBUG: 6. reset s1 and s2 age \n",
      "## DEBUG: 7. remove old edges \n",
      "## DEBUG: 8. Insert new neuron \n",
      "## DEBUG: 9. Decrease system error \n",
      "## DEBUG: \n",
      "## DEBUG: \n",
      "## DEBUG: Attemping to plot... \n"
     ]
    },
    {
     "name": "stderr",
     "output_type": "stream",
     "text": [
      " 34%|██████████████████████████████████████▎                                                                        | 345/1000 [00:37<01:20,  8.11it/s]"
     ]
    },
    {
     "name": "stdout",
     "output_type": "stream",
     "text": [
      "## DEBUG: 1. Pick input signal P(B) \n",
      "## DEBUG: 2. Find two nearest units \n",
      "## DEBUG: Two nearest points: min_dist_1: 1.352220126070139 min_dist_2: 1.9572558222880563 \n",
      "## DEBUG: 3. Incremement Age of all edges from s_1 \n",
      "## DEBUG: 4. Add error to neuron \n",
      "## DEBUG: 5. Move s1 and neighbors towards B \n",
      "## DEBUG: 6. reset s1 and s2 age \n",
      "## DEBUG: 7. remove old edges \n",
      "## DEBUG: 8. Insert new neuron \n",
      "## DEBUG: 9. Decrease system error \n",
      "## DEBUG: \n",
      "## DEBUG: \n",
      "## DEBUG: Attemping to plot... \n",
      "## DEBUG: 1. Pick input signal P(B) \n",
      "## DEBUG: 2. Find two nearest units \n",
      "## DEBUG: Two nearest points: min_dist_1: 0.770968862550945 min_dist_2: 1.5084847728643849 \n",
      "## DEBUG: 3. Incremement Age of all edges from s_1 \n",
      "## DEBUG: 4. Add error to neuron \n",
      "## DEBUG: 5. Move s1 and neighbors towards B \n",
      "## DEBUG: 6. reset s1 and s2 age \n",
      "## DEBUG: 7. remove old edges \n",
      "## DEBUG: 8. Insert new neuron \n",
      "## DEBUG: 9. Decrease system error \n",
      "## DEBUG: \n",
      "## DEBUG: \n",
      "## DEBUG: Attemping to plot... \n"
     ]
    },
    {
     "name": "stderr",
     "output_type": "stream",
     "text": [
      " 35%|██████████████████████████████████████▌                                                                        | 347/1000 [00:37<01:20,  8.11it/s]"
     ]
    },
    {
     "name": "stdout",
     "output_type": "stream",
     "text": [
      "## DEBUG: 1. Pick input signal P(B) \n",
      "## DEBUG: 2. Find two nearest units \n",
      "## DEBUG: Two nearest points: min_dist_1: 1.3041111868511088 min_dist_2: 2.3541452606468742 \n",
      "## DEBUG: 3. Incremement Age of all edges from s_1 \n",
      "## DEBUG: 4. Add error to neuron \n",
      "## DEBUG: 5. Move s1 and neighbors towards B \n",
      "## DEBUG: 6. reset s1 and s2 age \n",
      "## DEBUG: 7. remove old edges \n",
      "## DEBUG: 8. Insert new neuron \n",
      "## DEBUG: 9. Decrease system error \n",
      "## DEBUG: \n",
      "## DEBUG: \n",
      "## DEBUG: Attemping to plot... \n",
      "## DEBUG: 1. Pick input signal P(B) \n",
      "## DEBUG: 2. Find two nearest units \n",
      "## DEBUG: Two nearest points: min_dist_1: 3.1644162025389746 min_dist_2: 3.5022554176653258 \n",
      "## DEBUG: 3. Incremement Age of all edges from s_1 \n",
      "## DEBUG: 4. Add error to neuron \n",
      "## DEBUG: 5. Move s1 and neighbors towards B \n",
      "## DEBUG: 6. reset s1 and s2 age \n",
      "## DEBUG: 7. remove old edges \n",
      "## DEBUG: 8. Insert new neuron \n",
      "## DEBUG: 9. Decrease system error \n",
      "## DEBUG: \n",
      "## DEBUG: \n",
      "## DEBUG: Attemping to plot... \n"
     ]
    },
    {
     "name": "stderr",
     "output_type": "stream",
     "text": [
      " 35%|██████████████████████████████████████▋                                                                        | 349/1000 [00:37<01:20,  8.11it/s]"
     ]
    },
    {
     "name": "stdout",
     "output_type": "stream",
     "text": [
      "## DEBUG: 1. Pick input signal P(B) \n",
      "## DEBUG: 2. Find two nearest units \n",
      "## DEBUG: Two nearest points: min_dist_1: 2.773479132786359 min_dist_2: 3.3988500726175164 \n",
      "## DEBUG: 3. Incremement Age of all edges from s_1 \n",
      "## DEBUG: 4. Add error to neuron \n",
      "## DEBUG: 5. Move s1 and neighbors towards B \n",
      "## DEBUG: 6. reset s1 and s2 age \n",
      "## DEBUG: 7. remove old edges \n",
      "## DEBUG: 8. Insert new neuron \n",
      "## DEBUG: 9. Decrease system error \n",
      "## DEBUG: \n",
      "## DEBUG: \n",
      "## DEBUG: Attemping to plot... \n",
      "## DEBUG: 1. Pick input signal P(B) \n",
      "## DEBUG: 2. Find two nearest units \n",
      "## DEBUG: Two nearest points: min_dist_1: 0.6099311549202204 min_dist_2: 1.1384807144186104 \n",
      "## DEBUG: 3. Incremement Age of all edges from s_1 \n",
      "## DEBUG: 4. Add error to neuron \n",
      "## DEBUG: 5. Move s1 and neighbors towards B \n",
      "## DEBUG: 6. reset s1 and s2 age \n",
      "## DEBUG: 7. remove old edges \n",
      "## DEBUG: 8. Insert new neuron \n",
      "## DEBUG: 9. Decrease system error \n",
      "## DEBUG: \n",
      "## DEBUG: \n",
      "## DEBUG: Attemping to plot... \n"
     ]
    },
    {
     "name": "stderr",
     "output_type": "stream",
     "text": [
      " 35%|██████████████████████████████████████▉                                                                        | 351/1000 [00:38<01:23,  7.73it/s]"
     ]
    },
    {
     "name": "stdout",
     "output_type": "stream",
     "text": [
      "## DEBUG: 1. Pick input signal P(B) \n",
      "## DEBUG: 2. Find two nearest units \n",
      "## DEBUG: Two nearest points: min_dist_1: 0.693871976295851 min_dist_2: 1.1972804097448122 \n",
      "## DEBUG: 3. Incremement Age of all edges from s_1 \n",
      "## DEBUG: 4. Add error to neuron \n",
      "## DEBUG: 5. Move s1 and neighbors towards B \n",
      "## DEBUG: 6. reset s1 and s2 age \n",
      "## DEBUG: 7. remove old edges \n",
      "## DEBUG: 8. Insert new neuron \n",
      "## DEBUG: 9. Decrease system error \n",
      "## DEBUG: \n",
      "## DEBUG: \n",
      "## DEBUG: Attemping to plot... \n",
      "## DEBUG: 1. Pick input signal P(B) \n",
      "## DEBUG: 2. Find two nearest units \n",
      "## DEBUG: Two nearest points: min_dist_1: 1.0934969161709789 min_dist_2: 1.4591433194392003 \n",
      "## DEBUG: 3. Incremement Age of all edges from s_1 \n",
      "## DEBUG: 4. Add error to neuron \n",
      "## DEBUG: 5. Move s1 and neighbors towards B \n",
      "## DEBUG: 6. reset s1 and s2 age \n",
      "## DEBUG: 7. remove old edges \n",
      "## DEBUG: 8. Insert new neuron \n",
      "## DEBUG: 9. Decrease system error \n",
      "## DEBUG: \n",
      "## DEBUG: \n",
      "## DEBUG: Attemping to plot... \n"
     ]
    },
    {
     "name": "stderr",
     "output_type": "stream",
     "text": [
      " 35%|███████████████████████████████████████▏                                                                       | 353/1000 [00:38<01:23,  7.75it/s]"
     ]
    },
    {
     "name": "stdout",
     "output_type": "stream",
     "text": [
      "## DEBUG: 1. Pick input signal P(B) \n",
      "## DEBUG: 2. Find two nearest units \n",
      "## DEBUG: Two nearest points: min_dist_1: 1.5449259690593444 min_dist_2: 1.9189598848275164 \n",
      "## DEBUG: 3. Incremement Age of all edges from s_1 \n",
      "## DEBUG: 4. Add error to neuron \n",
      "## DEBUG: 5. Move s1 and neighbors towards B \n",
      "## DEBUG: 6. reset s1 and s2 age \n",
      "## DEBUG: 7. remove old edges \n",
      "## DEBUG: 8. Insert new neuron \n",
      "## DEBUG: 9. Decrease system error \n",
      "## DEBUG: \n",
      "## DEBUG: \n",
      "## DEBUG: Attemping to plot... \n",
      "## DEBUG: 1. Pick input signal P(B) \n",
      "## DEBUG: 2. Find two nearest units \n",
      "## DEBUG: Two nearest points: min_dist_1: 2.3706225625960355 min_dist_2: 3.6899159051740695 \n",
      "## DEBUG: 3. Incremement Age of all edges from s_1 \n",
      "## DEBUG: 4. Add error to neuron \n",
      "## DEBUG: 5. Move s1 and neighbors towards B \n",
      "## DEBUG: 6. reset s1 and s2 age \n",
      "## DEBUG: 7. remove old edges \n",
      "## DEBUG: 8. Insert new neuron \n",
      "## DEBUG: 9. Decrease system error \n",
      "## DEBUG: \n",
      "## DEBUG: \n",
      "## DEBUG: Attemping to plot... \n"
     ]
    },
    {
     "name": "stderr",
     "output_type": "stream",
     "text": [
      " 36%|███████████████████████████████████████▍                                                                       | 355/1000 [00:38<01:21,  7.88it/s]"
     ]
    },
    {
     "name": "stdout",
     "output_type": "stream",
     "text": [
      "## DEBUG: 1. Pick input signal P(B) \n",
      "## DEBUG: 2. Find two nearest units \n",
      "## DEBUG: Two nearest points: min_dist_1: 1.9739888639498795 min_dist_2: 2.0830340342905975 \n",
      "## DEBUG: 3. Incremement Age of all edges from s_1 \n",
      "## DEBUG: 4. Add error to neuron \n",
      "## DEBUG: 5. Move s1 and neighbors towards B \n",
      "## DEBUG: 6. reset s1 and s2 age \n",
      "## DEBUG: 7. remove old edges \n",
      "## DEBUG: 8. Insert new neuron \n",
      "## DEBUG: 9. Decrease system error \n",
      "## DEBUG: \n",
      "## DEBUG: \n",
      "## DEBUG: Attemping to plot... \n",
      "## DEBUG: 1. Pick input signal P(B) \n",
      "## DEBUG: 2. Find two nearest units \n",
      "## DEBUG: Two nearest points: min_dist_1: 2.350755333790258 min_dist_2: 2.984702887561172 \n",
      "## DEBUG: 3. Incremement Age of all edges from s_1 \n",
      "## DEBUG: 4. Add error to neuron \n",
      "## DEBUG: 5. Move s1 and neighbors towards B \n",
      "## DEBUG: 6. reset s1 and s2 age \n",
      "## DEBUG: 7. remove old edges \n",
      "## DEBUG: 8. Insert new neuron \n",
      "## DEBUG: 9. Decrease system error \n",
      "## DEBUG: \n",
      "## DEBUG: \n",
      "## DEBUG: Attemping to plot... \n"
     ]
    },
    {
     "name": "stderr",
     "output_type": "stream",
     "text": [
      " 36%|███████████████████████████████████████▋                                                                       | 357/1000 [00:38<01:20,  8.00it/s]"
     ]
    },
    {
     "name": "stdout",
     "output_type": "stream",
     "text": [
      "## DEBUG: 1. Pick input signal P(B) \n",
      "## DEBUG: 2. Find two nearest units \n",
      "## DEBUG: Two nearest points: min_dist_1: 0.5580267477555153 min_dist_2: 1.1331121820177068 \n",
      "## DEBUG: 3. Incremement Age of all edges from s_1 \n",
      "## DEBUG: 4. Add error to neuron \n",
      "## DEBUG: 5. Move s1 and neighbors towards B \n",
      "## DEBUG: 6. reset s1 and s2 age \n",
      "## DEBUG: 7. remove old edges \n",
      "## DEBUG: 8. Insert new neuron \n",
      "## DEBUG: 9. Decrease system error \n",
      "## DEBUG: \n",
      "## DEBUG: \n",
      "## DEBUG: Attemping to plot... \n",
      "## DEBUG: 1. Pick input signal P(B) \n",
      "## DEBUG: 2. Find two nearest units \n",
      "## DEBUG: Two nearest points: min_dist_1: 2.97824789792073 min_dist_2: 3.8088515081230536 \n",
      "## DEBUG: 3. Incremement Age of all edges from s_1 \n",
      "## DEBUG: 4. Add error to neuron \n",
      "## DEBUG: 5. Move s1 and neighbors towards B \n",
      "## DEBUG: 6. reset s1 and s2 age \n",
      "## DEBUG: 7. remove old edges \n",
      "## DEBUG: 8. Insert new neuron \n",
      "## DEBUG: 9. Decrease system error \n",
      "## DEBUG: \n",
      "## DEBUG: \n",
      "## DEBUG: Attemping to plot... \n"
     ]
    },
    {
     "name": "stderr",
     "output_type": "stream",
     "text": [
      " 36%|███████████████████████████████████████▊                                                                       | 359/1000 [00:39<01:19,  8.07it/s]"
     ]
    },
    {
     "name": "stdout",
     "output_type": "stream",
     "text": [
      "## DEBUG: 1. Pick input signal P(B) \n",
      "## DEBUG: 2. Find two nearest units \n",
      "## DEBUG: Two nearest points: min_dist_1: 2.4207686648770004 min_dist_2: 2.696651681416229 \n",
      "## DEBUG: 3. Incremement Age of all edges from s_1 \n",
      "## DEBUG: 4. Add error to neuron \n",
      "## DEBUG: 5. Move s1 and neighbors towards B \n",
      "## DEBUG: 6. reset s1 and s2 age \n",
      "## DEBUG: 7. remove old edges \n",
      "## DEBUG: 8. Insert new neuron \n",
      "## DEBUG: 9. Decrease system error \n",
      "## DEBUG: \n",
      "## DEBUG: \n",
      "## DEBUG: Attemping to plot... \n",
      "## DEBUG: 1. Pick input signal P(B) \n",
      "## DEBUG: 2. Find two nearest units \n",
      "## DEBUG: Two nearest points: min_dist_1: 1.3665353060842143 min_dist_2: 2.98972214026602 \n",
      "## DEBUG: 3. Incremement Age of all edges from s_1 \n",
      "## DEBUG: 4. Add error to neuron \n",
      "## DEBUG: 5. Move s1 and neighbors towards B \n",
      "## DEBUG: 6. reset s1 and s2 age \n",
      "## DEBUG: 7. remove old edges \n",
      "## DEBUG: 8. Insert new neuron \n",
      "## DEBUG: 9. Decrease system error \n",
      "## DEBUG: \n",
      "## DEBUG: \n",
      "## DEBUG: Attemping to plot... \n"
     ]
    },
    {
     "name": "stderr",
     "output_type": "stream",
     "text": [
      " 36%|████████████████████████████████████████                                                                       | 361/1000 [00:39<01:23,  7.69it/s]"
     ]
    },
    {
     "name": "stdout",
     "output_type": "stream",
     "text": [
      "## DEBUG: 1. Pick input signal P(B) \n",
      "## DEBUG: 2. Find two nearest units \n",
      "## DEBUG: Two nearest points: min_dist_1: 1.3564227623667924 min_dist_2: 2.8196009773548663 \n",
      "## DEBUG: 3. Incremement Age of all edges from s_1 \n",
      "## DEBUG: 4. Add error to neuron \n",
      "## DEBUG: 5. Move s1 and neighbors towards B \n",
      "## DEBUG: 6. reset s1 and s2 age \n",
      "## DEBUG: 7. remove old edges \n",
      "## DEBUG: 8. Insert new neuron \n",
      "## DEBUG: 9. Decrease system error \n",
      "## DEBUG: \n",
      "## DEBUG: \n",
      "## DEBUG: Attemping to plot... \n",
      "## DEBUG: 1. Pick input signal P(B) \n",
      "## DEBUG: 2. Find two nearest units \n",
      "## DEBUG: Two nearest points: min_dist_1: 2.4391476115488784 min_dist_2: 2.8669245185137284 \n",
      "## DEBUG: 3. Incremement Age of all edges from s_1 \n",
      "## DEBUG: 4. Add error to neuron \n",
      "## DEBUG: 5. Move s1 and neighbors towards B \n",
      "## DEBUG: 6. reset s1 and s2 age \n",
      "## DEBUG: 7. remove old edges \n",
      "## DEBUG: 8. Insert new neuron \n",
      "## DEBUG: 9. Decrease system error \n",
      "## DEBUG: \n",
      "## DEBUG: \n",
      "## DEBUG: Attemping to plot... \n"
     ]
    },
    {
     "name": "stderr",
     "output_type": "stream",
     "text": [
      " 36%|████████████████████████████████████████▎                                                                      | 363/1000 [00:39<01:21,  7.85it/s]"
     ]
    },
    {
     "name": "stdout",
     "output_type": "stream",
     "text": [
      "## DEBUG: 1. Pick input signal P(B) \n",
      "## DEBUG: 2. Find two nearest units \n",
      "## DEBUG: Two nearest points: min_dist_1: 1.8830384330581618 min_dist_2: 2.0961610989296227 \n",
      "## DEBUG: 3. Incremement Age of all edges from s_1 \n",
      "## DEBUG: 4. Add error to neuron \n",
      "## DEBUG: 5. Move s1 and neighbors towards B \n",
      "## DEBUG: 6. reset s1 and s2 age \n",
      "## DEBUG: 7. remove old edges \n",
      "## DEBUG: 8. Insert new neuron \n",
      "## DEBUG: 9. Decrease system error \n",
      "## DEBUG: \n",
      "## DEBUG: \n",
      "## DEBUG: Attemping to plot... \n",
      "## DEBUG: 1. Pick input signal P(B) \n",
      "## DEBUG: 2. Find two nearest units \n",
      "## DEBUG: Two nearest points: min_dist_1: 1.0559590022827727 min_dist_2: 1.127246934867469 \n",
      "## DEBUG: 3. Incremement Age of all edges from s_1 \n",
      "## DEBUG: 4. Add error to neuron \n",
      "## DEBUG: 5. Move s1 and neighbors towards B \n",
      "## DEBUG: 6. reset s1 and s2 age \n",
      "## DEBUG: 7. remove old edges \n",
      "## DEBUG: 8. Insert new neuron \n",
      "## DEBUG: 9. Decrease system error \n",
      "## DEBUG: \n",
      "## DEBUG: \n",
      "## DEBUG: Attemping to plot... \n"
     ]
    },
    {
     "name": "stderr",
     "output_type": "stream",
     "text": [
      " 36%|████████████████████████████████████████▌                                                                      | 365/1000 [00:39<01:20,  7.90it/s]"
     ]
    },
    {
     "name": "stdout",
     "output_type": "stream",
     "text": [
      "## DEBUG: 1. Pick input signal P(B) \n",
      "## DEBUG: 2. Find two nearest units \n",
      "## DEBUG: Two nearest points: min_dist_1: 0.8681521705809433 min_dist_2: 1.0841390668170403 \n",
      "## DEBUG: 3. Incremement Age of all edges from s_1 \n",
      "## DEBUG: 4. Add error to neuron \n",
      "## DEBUG: 5. Move s1 and neighbors towards B \n",
      "## DEBUG: 6. reset s1 and s2 age \n",
      "## DEBUG: 7. remove old edges \n",
      "## DEBUG: 8. Insert new neuron \n",
      "## DEBUG: 9. Decrease system error \n",
      "## DEBUG: \n",
      "## DEBUG: \n",
      "## DEBUG: Attemping to plot... \n",
      "## DEBUG: 1. Pick input signal P(B) \n",
      "## DEBUG: 2. Find two nearest units \n",
      "## DEBUG: Two nearest points: min_dist_1: 0.5631880534092697 min_dist_2: 0.6692587650811026 \n",
      "## DEBUG: 3. Incremement Age of all edges from s_1 \n",
      "## DEBUG: 4. Add error to neuron \n",
      "## DEBUG: 5. Move s1 and neighbors towards B \n",
      "## DEBUG: 6. reset s1 and s2 age \n",
      "## DEBUG: 7. remove old edges \n",
      "## DEBUG: 8. Insert new neuron \n",
      "## DEBUG: 9. Decrease system error \n",
      "## DEBUG: \n",
      "## DEBUG: \n",
      "## DEBUG: Attemping to plot... \n"
     ]
    },
    {
     "name": "stderr",
     "output_type": "stream",
     "text": [
      " 37%|████████████████████████████████████████▋                                                                      | 367/1000 [00:40<01:19,  7.92it/s]"
     ]
    },
    {
     "name": "stdout",
     "output_type": "stream",
     "text": [
      "## DEBUG: 1. Pick input signal P(B) \n",
      "## DEBUG: 2. Find two nearest units \n",
      "## DEBUG: Two nearest points: min_dist_1: 1.1779091888944717 min_dist_2: 1.5417018642531068 \n",
      "## DEBUG: 3. Incremement Age of all edges from s_1 \n",
      "## DEBUG: 4. Add error to neuron \n",
      "## DEBUG: 5. Move s1 and neighbors towards B \n",
      "## DEBUG: 6. reset s1 and s2 age \n",
      "## DEBUG: 7. remove old edges \n",
      "## DEBUG: 8. Insert new neuron \n",
      "## DEBUG: 9. Decrease system error \n",
      "## DEBUG: \n",
      "## DEBUG: \n",
      "## DEBUG: Attemping to plot... \n",
      "## DEBUG: 1. Pick input signal P(B) \n",
      "## DEBUG: 2. Find two nearest units \n",
      "## DEBUG: Two nearest points: min_dist_1: 0.5431345730169714 min_dist_2: 1.1254987703621353 \n",
      "## DEBUG: 3. Incremement Age of all edges from s_1 \n",
      "## DEBUG: 4. Add error to neuron \n",
      "## DEBUG: 5. Move s1 and neighbors towards B \n",
      "## DEBUG: 6. reset s1 and s2 age \n",
      "## DEBUG: 7. remove old edges \n",
      "## DEBUG: 8. Insert new neuron \n",
      "## DEBUG: 9. Decrease system error \n",
      "## DEBUG: \n",
      "## DEBUG: \n",
      "## DEBUG: Attemping to plot... \n"
     ]
    },
    {
     "name": "stderr",
     "output_type": "stream",
     "text": [
      " 37%|████████████████████████████████████████▉                                                                      | 369/1000 [00:40<01:20,  7.79it/s]"
     ]
    },
    {
     "name": "stdout",
     "output_type": "stream",
     "text": [
      "## DEBUG: 1. Pick input signal P(B) \n",
      "## DEBUG: 2. Find two nearest units \n",
      "## DEBUG: Two nearest points: min_dist_1: 0.8608523669915997 min_dist_2: 1.0785170181482402 \n",
      "## DEBUG: 3. Incremement Age of all edges from s_1 \n",
      "## DEBUG: 4. Add error to neuron \n",
      "## DEBUG: 5. Move s1 and neighbors towards B \n",
      "## DEBUG: 6. reset s1 and s2 age \n",
      "## DEBUG: 7. remove old edges \n",
      "## DEBUG: 8. Insert new neuron \n",
      "## DEBUG: 9. Decrease system error \n",
      "## DEBUG: \n",
      "## DEBUG: \n",
      "## DEBUG: Attemping to plot... \n",
      "## DEBUG: 1. Pick input signal P(B) \n",
      "## DEBUG: 2. Find two nearest units \n",
      "## DEBUG: Two nearest points: min_dist_1: 4.061677428158984 min_dist_2: 4.410591251298107 \n",
      "## DEBUG: 3. Incremement Age of all edges from s_1 \n",
      "## DEBUG: 4. Add error to neuron \n",
      "## DEBUG: 5. Move s1 and neighbors towards B \n",
      "## DEBUG: 6. reset s1 and s2 age \n",
      "## DEBUG: 7. remove old edges \n",
      "## DEBUG: 8. Insert new neuron \n",
      "## DEBUG: 9. Decrease system error \n",
      "## DEBUG: \n",
      "## DEBUG: \n",
      "## DEBUG: Attemping to plot... \n"
     ]
    },
    {
     "name": "stderr",
     "output_type": "stream",
     "text": [
      " 37%|█████████████████████████████████████████▏                                                                     | 371/1000 [00:40<01:20,  7.80it/s]"
     ]
    },
    {
     "name": "stdout",
     "output_type": "stream",
     "text": [
      "## DEBUG: 1. Pick input signal P(B) \n",
      "## DEBUG: 2. Find two nearest units \n",
      "## DEBUG: Two nearest points: min_dist_1: 1.8960502420015382 min_dist_2: 2.381607149361241 \n",
      "## DEBUG: 3. Incremement Age of all edges from s_1 \n",
      "## DEBUG: 4. Add error to neuron \n",
      "## DEBUG: 5. Move s1 and neighbors towards B \n",
      "## DEBUG: 6. reset s1 and s2 age \n",
      "## DEBUG: 7. remove old edges \n",
      "## DEBUG: 8. Insert new neuron \n",
      "## DEBUG: 9. Decrease system error \n",
      "## DEBUG: \n",
      "## DEBUG: \n",
      "## DEBUG: Attemping to plot... \n",
      "## DEBUG: 1. Pick input signal P(B) \n",
      "## DEBUG: 2. Find two nearest units \n",
      "## DEBUG: Two nearest points: min_dist_1: 1.7220983368808225 min_dist_2: 2.1643809668661103 \n",
      "## DEBUG: 3. Incremement Age of all edges from s_1 \n",
      "## DEBUG: 4. Add error to neuron \n",
      "## DEBUG: 5. Move s1 and neighbors towards B \n",
      "## DEBUG: 6. reset s1 and s2 age \n",
      "## DEBUG: 7. remove old edges \n",
      "## DEBUG: 8. Insert new neuron \n",
      "## DEBUG: 9. Decrease system error \n",
      "## DEBUG: \n",
      "## DEBUG: \n",
      "## DEBUG: Attemping to plot... \n"
     ]
    },
    {
     "name": "stderr",
     "output_type": "stream",
     "text": [
      " 37%|█████████████████████████████████████████▍                                                                     | 373/1000 [00:40<01:19,  7.86it/s]"
     ]
    },
    {
     "name": "stdout",
     "output_type": "stream",
     "text": [
      "## DEBUG: 1. Pick input signal P(B) \n",
      "## DEBUG: 2. Find two nearest units \n",
      "## DEBUG: Two nearest points: min_dist_1: 1.5512052871043784 min_dist_2: 2.8279974075431262 \n",
      "## DEBUG: 3. Incremement Age of all edges from s_1 \n",
      "## DEBUG: 4. Add error to neuron \n",
      "## DEBUG: 5. Move s1 and neighbors towards B \n",
      "## DEBUG: 6. reset s1 and s2 age \n",
      "## DEBUG: 7. remove old edges \n",
      "## DEBUG: 8. Insert new neuron \n",
      "## DEBUG: 9. Decrease system error \n",
      "## DEBUG: \n",
      "## DEBUG: \n",
      "## DEBUG: Attemping to plot... \n",
      "## DEBUG: 1. Pick input signal P(B) \n",
      "## DEBUG: 2. Find two nearest units \n",
      "## DEBUG: Two nearest points: min_dist_1: 0.9128880244843668 min_dist_2: 1.3999328138430975 \n",
      "## DEBUG: 3. Incremement Age of all edges from s_1 \n",
      "## DEBUG: 4. Add error to neuron \n",
      "## DEBUG: 5. Move s1 and neighbors towards B \n",
      "## DEBUG: 6. reset s1 and s2 age \n",
      "## DEBUG: 7. remove old edges \n",
      "## DEBUG: 8. Insert new neuron \n",
      "## DEBUG: 9. Decrease system error \n",
      "## DEBUG: \n",
      "## DEBUG: \n",
      "## DEBUG: Attemping to plot... \n"
     ]
    },
    {
     "name": "stderr",
     "output_type": "stream",
     "text": [
      " 38%|█████████████████████████████████████████▋                                                                     | 375/1000 [00:41<01:19,  7.84it/s]"
     ]
    },
    {
     "name": "stdout",
     "output_type": "stream",
     "text": [
      "## DEBUG: 1. Pick input signal P(B) \n",
      "## DEBUG: 2. Find two nearest units \n",
      "## DEBUG: Two nearest points: min_dist_1: 1.2593437034767399 min_dist_2: 1.8175307757599108 \n",
      "## DEBUG: 3. Incremement Age of all edges from s_1 \n",
      "## DEBUG: 4. Add error to neuron \n",
      "## DEBUG: 5. Move s1 and neighbors towards B \n",
      "## DEBUG: 6. reset s1 and s2 age \n",
      "## DEBUG: 7. remove old edges \n",
      "## DEBUG: 8. Insert new neuron \n",
      "## DEBUG: 9. Decrease system error \n",
      "## DEBUG: \n",
      "## DEBUG: \n",
      "## DEBUG: Attemping to plot... \n",
      "## DEBUG: 1. Pick input signal P(B) \n",
      "## DEBUG: 2. Find two nearest units \n",
      "## DEBUG: Two nearest points: min_dist_1: 0.15078109866642286 min_dist_2: 0.9413400270025087 \n",
      "## DEBUG: 3. Incremement Age of all edges from s_1 \n",
      "## DEBUG: 4. Add error to neuron \n",
      "## DEBUG: 5. Move s1 and neighbors towards B \n",
      "## DEBUG: 6. reset s1 and s2 age \n",
      "## DEBUG: 7. remove old edges \n",
      "## DEBUG: 8. Insert new neuron \n",
      "## DEBUG: 9. Decrease system error \n",
      "## DEBUG: \n",
      "## DEBUG: \n",
      "## DEBUG: Attemping to plot... \n"
     ]
    },
    {
     "name": "stderr",
     "output_type": "stream",
     "text": [
      " 38%|█████████████████████████████████████████▊                                                                     | 377/1000 [00:41<01:19,  7.87it/s]"
     ]
    },
    {
     "name": "stdout",
     "output_type": "stream",
     "text": [
      "## DEBUG: 1. Pick input signal P(B) \n",
      "## DEBUG: 2. Find two nearest units \n",
      "## DEBUG: Two nearest points: min_dist_1: 0.3453064509515773 min_dist_2: 1.3460186822528577 \n",
      "## DEBUG: 3. Incremement Age of all edges from s_1 \n",
      "## DEBUG: 4. Add error to neuron \n",
      "## DEBUG: 5. Move s1 and neighbors towards B \n",
      "## DEBUG: 6. reset s1 and s2 age \n",
      "## DEBUG: 7. remove old edges \n",
      "## DEBUG: 8. Insert new neuron \n",
      "## DEBUG: 9. Decrease system error \n",
      "## DEBUG: \n",
      "## DEBUG: \n",
      "## DEBUG: Attemping to plot... \n",
      "## DEBUG: 1. Pick input signal P(B) \n",
      "## DEBUG: 2. Find two nearest units \n",
      "## DEBUG: Two nearest points: min_dist_1: 1.5702133027891585 min_dist_2: 2.2129245590760975 \n",
      "## DEBUG: 3. Incremement Age of all edges from s_1 \n",
      "## DEBUG: 4. Add error to neuron \n",
      "## DEBUG: 5. Move s1 and neighbors towards B \n",
      "## DEBUG: 6. reset s1 and s2 age \n",
      "## DEBUG: 7. remove old edges \n",
      "## DEBUG: 8. Insert new neuron \n",
      "## DEBUG: 9. Decrease system error \n",
      "## DEBUG: \n",
      "## DEBUG: \n",
      "## DEBUG: Attemping to plot... \n"
     ]
    },
    {
     "name": "stderr",
     "output_type": "stream",
     "text": [
      " 38%|██████████████████████████████████████████                                                                     | 379/1000 [00:42<04:00,  2.59it/s]"
     ]
    },
    {
     "name": "stdout",
     "output_type": "stream",
     "text": [
      "## DEBUG: 1. Pick input signal P(B) \n",
      "## DEBUG: 2. Find two nearest units \n",
      "## DEBUG: Two nearest points: min_dist_1: 1.602886136703285 min_dist_2: 1.63112289484293 \n",
      "## DEBUG: 3. Incremement Age of all edges from s_1 \n",
      "## DEBUG: 4. Add error to neuron \n",
      "## DEBUG: 5. Move s1 and neighbors towards B \n",
      "## DEBUG: 6. reset s1 and s2 age \n",
      "## DEBUG: 7. remove old edges \n",
      "## DEBUG: 8. Insert new neuron \n",
      "## DEBUG: 9. Decrease system error \n",
      "## DEBUG: \n",
      "## DEBUG: \n",
      "## DEBUG: Attemping to plot... \n",
      "## DEBUG: 1. Pick input signal P(B) \n",
      "## DEBUG: 2. Find two nearest units \n",
      "## DEBUG: Two nearest points: min_dist_1: 1.276834562507815 min_dist_2: 1.742277075997245 \n",
      "## DEBUG: 3. Incremement Age of all edges from s_1 \n",
      "## DEBUG: 4. Add error to neuron \n",
      "## DEBUG: 5. Move s1 and neighbors towards B \n",
      "## DEBUG: 6. reset s1 and s2 age \n",
      "## DEBUG: 7. remove old edges \n",
      "## DEBUG: 8. Insert new neuron \n",
      "## DEBUG: 9. Decrease system error \n",
      "## DEBUG: \n",
      "## DEBUG: \n",
      "## DEBUG: Attemping to plot... \n"
     ]
    },
    {
     "name": "stderr",
     "output_type": "stream",
     "text": [
      " 38%|██████████████████████████████████████████▎                                                                    | 381/1000 [00:43<02:36,  3.95it/s]"
     ]
    },
    {
     "name": "stdout",
     "output_type": "stream",
     "text": [
      "## DEBUG: 1. Pick input signal P(B) \n",
      "## DEBUG: 2. Find two nearest units \n",
      "## DEBUG: Two nearest points: min_dist_1: 2.127170064029403 min_dist_2: 2.4585448883635452 \n",
      "## DEBUG: 3. Incremement Age of all edges from s_1 \n",
      "## DEBUG: 4. Add error to neuron \n",
      "## DEBUG: 5. Move s1 and neighbors towards B \n",
      "## DEBUG: 6. reset s1 and s2 age \n",
      "## DEBUG: 7. remove old edges \n",
      "## DEBUG: 8. Insert new neuron \n",
      "## DEBUG: 9. Decrease system error \n",
      "## DEBUG: \n",
      "## DEBUG: \n",
      "## DEBUG: Attemping to plot... \n",
      "## DEBUG: 1. Pick input signal P(B) \n",
      "## DEBUG: 2. Find two nearest units \n",
      "## DEBUG: Two nearest points: min_dist_1: 0.27848195394059766 min_dist_2: 0.3463851496219242 \n",
      "## DEBUG: 3. Incremement Age of all edges from s_1 \n",
      "## DEBUG: 4. Add error to neuron \n",
      "## DEBUG: 5. Move s1 and neighbors towards B \n",
      "## DEBUG: 6. reset s1 and s2 age \n",
      "## DEBUG: 7. remove old edges \n",
      "## DEBUG: 8. Insert new neuron \n",
      "## DEBUG: 9. Decrease system error \n",
      "## DEBUG: \n",
      "## DEBUG: \n",
      "## DEBUG: Attemping to plot... \n"
     ]
    },
    {
     "name": "stderr",
     "output_type": "stream",
     "text": [
      " 38%|██████████████████████████████████████████▌                                                                    | 383/1000 [00:43<01:56,  5.29it/s]"
     ]
    },
    {
     "name": "stdout",
     "output_type": "stream",
     "text": [
      "## DEBUG: 1. Pick input signal P(B) \n",
      "## DEBUG: 2. Find two nearest units \n",
      "## DEBUG: Two nearest points: min_dist_1: 0.8306957024133579 min_dist_2: 1.1885189256894078 \n",
      "## DEBUG: 3. Incremement Age of all edges from s_1 \n",
      "## DEBUG: 4. Add error to neuron \n",
      "## DEBUG: 5. Move s1 and neighbors towards B \n",
      "## DEBUG: 6. reset s1 and s2 age \n",
      "## DEBUG: 7. remove old edges \n",
      "## DEBUG: 8. Insert new neuron \n",
      "## DEBUG: 9. Decrease system error \n",
      "## DEBUG: \n",
      "## DEBUG: \n",
      "## DEBUG: Attemping to plot... \n",
      "## DEBUG: 1. Pick input signal P(B) \n",
      "## DEBUG: 2. Find two nearest units \n",
      "## DEBUG: Two nearest points: min_dist_1: 0.5824062829785802 min_dist_2: 1.122205606159551 \n",
      "## DEBUG: 3. Incremement Age of all edges from s_1 \n",
      "## DEBUG: 4. Add error to neuron \n",
      "## DEBUG: 5. Move s1 and neighbors towards B \n",
      "## DEBUG: 6. reset s1 and s2 age \n",
      "## DEBUG: 7. remove old edges \n",
      "## DEBUG: 8. Insert new neuron \n",
      "## DEBUG: 9. Decrease system error \n",
      "## DEBUG: \n",
      "## DEBUG: \n",
      "## DEBUG: Attemping to plot... \n"
     ]
    },
    {
     "name": "stderr",
     "output_type": "stream",
     "text": [
      " 38%|██████████████████████████████████████████▋                                                                    | 385/1000 [00:43<01:37,  6.31it/s]"
     ]
    },
    {
     "name": "stdout",
     "output_type": "stream",
     "text": [
      "## DEBUG: 1. Pick input signal P(B) \n",
      "## DEBUG: 2. Find two nearest units \n",
      "## DEBUG: Two nearest points: min_dist_1: 0.5262056140832377 min_dist_2: 0.6495503280208516 \n",
      "## DEBUG: 3. Incremement Age of all edges from s_1 \n",
      "## DEBUG: 4. Add error to neuron \n",
      "## DEBUG: 5. Move s1 and neighbors towards B \n",
      "## DEBUG: 6. reset s1 and s2 age \n",
      "## DEBUG: 7. remove old edges \n",
      "## DEBUG: 8. Insert new neuron \n",
      "## DEBUG: 9. Decrease system error \n",
      "## DEBUG: \n",
      "## DEBUG: \n",
      "## DEBUG: Attemping to plot... \n",
      "## DEBUG: 1. Pick input signal P(B) \n",
      "## DEBUG: 2. Find two nearest units \n",
      "## DEBUG: Two nearest points: min_dist_1: 0.05945946333113585 min_dist_2: 1.0077336133166466 \n",
      "## DEBUG: 3. Incremement Age of all edges from s_1 \n",
      "## DEBUG: 4. Add error to neuron \n",
      "## DEBUG: 5. Move s1 and neighbors towards B \n",
      "## DEBUG: 6. reset s1 and s2 age \n",
      "## DEBUG: 7. remove old edges \n",
      "## DEBUG: 8. Insert new neuron \n",
      "## DEBUG: 9. Decrease system error \n",
      "## DEBUG: \n",
      "## DEBUG: \n",
      "## DEBUG: Attemping to plot... \n"
     ]
    },
    {
     "name": "stderr",
     "output_type": "stream",
     "text": [
      " 39%|██████████████████████████████████████████▉                                                                    | 387/1000 [00:43<01:28,  6.97it/s]"
     ]
    },
    {
     "name": "stdout",
     "output_type": "stream",
     "text": [
      "## DEBUG: 1. Pick input signal P(B) \n",
      "## DEBUG: 2. Find two nearest units \n",
      "## DEBUG: Two nearest points: min_dist_1: 0.18082423787938426 min_dist_2: 0.8394949513135072 \n",
      "## DEBUG: 3. Incremement Age of all edges from s_1 \n",
      "## DEBUG: 4. Add error to neuron \n",
      "## DEBUG: 5. Move s1 and neighbors towards B \n",
      "## DEBUG: 6. reset s1 and s2 age \n",
      "## DEBUG: 7. remove old edges \n",
      "## DEBUG: 8. Insert new neuron \n",
      "## DEBUG: 9. Decrease system error \n",
      "## DEBUG: \n",
      "## DEBUG: \n",
      "## DEBUG: Attemping to plot... \n",
      "## DEBUG: 1. Pick input signal P(B) \n",
      "## DEBUG: 2. Find two nearest units \n",
      "## DEBUG: Two nearest points: min_dist_1: 1.8425673701815688 min_dist_2: 2.2630863462166677 \n",
      "## DEBUG: 3. Incremement Age of all edges from s_1 \n",
      "## DEBUG: 4. Add error to neuron \n",
      "## DEBUG: 5. Move s1 and neighbors towards B \n",
      "## DEBUG: 6. reset s1 and s2 age \n",
      "## DEBUG: 7. remove old edges \n",
      "## DEBUG: 8. Insert new neuron \n",
      "## DEBUG: 9. Decrease system error \n",
      "## DEBUG: \n",
      "## DEBUG: \n",
      "## DEBUG: Attemping to plot... \n"
     ]
    },
    {
     "name": "stderr",
     "output_type": "stream",
     "text": [
      " 39%|███████████████████████████████████████████▏                                                                   | 389/1000 [00:44<01:23,  7.34it/s]"
     ]
    },
    {
     "name": "stdout",
     "output_type": "stream",
     "text": [
      "## DEBUG: 1. Pick input signal P(B) \n",
      "## DEBUG: 2. Find two nearest units \n",
      "## DEBUG: Two nearest points: min_dist_1: 1.3429655012706219 min_dist_2: 1.9531743943873687 \n",
      "## DEBUG: 3. Incremement Age of all edges from s_1 \n",
      "## DEBUG: 4. Add error to neuron \n",
      "## DEBUG: 5. Move s1 and neighbors towards B \n",
      "## DEBUG: 6. reset s1 and s2 age \n",
      "## DEBUG: 7. remove old edges \n",
      "## DEBUG: 8. Insert new neuron \n",
      "## DEBUG: 9. Decrease system error \n",
      "## DEBUG: \n",
      "## DEBUG: \n",
      "## DEBUG: Attemping to plot... \n",
      "## DEBUG: 1. Pick input signal P(B) \n",
      "## DEBUG: 2. Find two nearest units \n",
      "## DEBUG: Two nearest points: min_dist_1: 0.32058435266100493 min_dist_2: 1.142138200097071 \n",
      "## DEBUG: 3. Incremement Age of all edges from s_1 \n",
      "## DEBUG: 4. Add error to neuron \n",
      "## DEBUG: 5. Move s1 and neighbors towards B \n",
      "## DEBUG: 6. reset s1 and s2 age \n",
      "## DEBUG: 7. remove old edges \n",
      "## DEBUG: 8. Insert new neuron \n",
      "## DEBUG: 9. Decrease system error \n",
      "## DEBUG: \n",
      "## DEBUG: \n",
      "## DEBUG: Attemping to plot... \n"
     ]
    },
    {
     "name": "stderr",
     "output_type": "stream",
     "text": [
      " 39%|███████████████████████████████████████████▍                                                                   | 391/1000 [00:44<01:24,  7.21it/s]"
     ]
    },
    {
     "name": "stdout",
     "output_type": "stream",
     "text": [
      "## DEBUG: 1. Pick input signal P(B) \n",
      "## DEBUG: 2. Find two nearest units \n",
      "## DEBUG: Two nearest points: min_dist_1: 0.39800890287667556 min_dist_2: 1.55510472205387 \n",
      "## DEBUG: 3. Incremement Age of all edges from s_1 \n",
      "## DEBUG: 4. Add error to neuron \n",
      "## DEBUG: 5. Move s1 and neighbors towards B \n",
      "## DEBUG: 6. reset s1 and s2 age \n",
      "## DEBUG: 7. remove old edges \n",
      "## DEBUG: 8. Insert new neuron \n",
      "## DEBUG: 9. Decrease system error \n",
      "## DEBUG: \n",
      "## DEBUG: \n",
      "## DEBUG: Attemping to plot... \n",
      "## DEBUG: 1. Pick input signal P(B) \n",
      "## DEBUG: 2. Find two nearest units \n",
      "## DEBUG: Two nearest points: min_dist_1: 2.1227933746115304 min_dist_2: 3.5089735256883716 \n",
      "## DEBUG: 3. Incremement Age of all edges from s_1 \n",
      "## DEBUG: 4. Add error to neuron \n",
      "## DEBUG: 5. Move s1 and neighbors towards B \n",
      "## DEBUG: 6. reset s1 and s2 age \n",
      "## DEBUG: 7. remove old edges \n",
      "## DEBUG: 8. Insert new neuron \n",
      "## DEBUG: 9. Decrease system error \n",
      "## DEBUG: \n",
      "## DEBUG: \n",
      "## DEBUG: Attemping to plot... \n"
     ]
    },
    {
     "name": "stderr",
     "output_type": "stream",
     "text": [
      " 39%|███████████████████████████████████████████▌                                                                   | 393/1000 [00:44<01:20,  7.51it/s]"
     ]
    },
    {
     "name": "stdout",
     "output_type": "stream",
     "text": [
      "## DEBUG: 1. Pick input signal P(B) \n",
      "## DEBUG: 2. Find two nearest units \n",
      "## DEBUG: Two nearest points: min_dist_1: 0.3916036136162491 min_dist_2: 0.6795572516609945 \n",
      "## DEBUG: 3. Incremement Age of all edges from s_1 \n",
      "## DEBUG: 4. Add error to neuron \n",
      "## DEBUG: 5. Move s1 and neighbors towards B \n",
      "## DEBUG: 6. reset s1 and s2 age \n",
      "## DEBUG: 7. remove old edges \n",
      "## DEBUG: 8. Insert new neuron \n",
      "## DEBUG: 9. Decrease system error \n",
      "## DEBUG: \n",
      "## DEBUG: \n",
      "## DEBUG: Attemping to plot... \n",
      "## DEBUG: 1. Pick input signal P(B) \n",
      "## DEBUG: 2. Find two nearest units \n",
      "## DEBUG: Two nearest points: min_dist_1: 0.4598370731128301 min_dist_2: 1.1640561894383836 \n",
      "## DEBUG: 3. Incremement Age of all edges from s_1 \n",
      "## DEBUG: 4. Add error to neuron \n",
      "## DEBUG: 5. Move s1 and neighbors towards B \n",
      "## DEBUG: 6. reset s1 and s2 age \n",
      "## DEBUG: 7. remove old edges \n",
      "## DEBUG: 8. Insert new neuron \n",
      "## DEBUG: 9. Decrease system error \n",
      "## DEBUG: \n",
      "## DEBUG: \n",
      "## DEBUG: Attemping to plot... \n"
     ]
    },
    {
     "name": "stderr",
     "output_type": "stream",
     "text": [
      " 40%|███████████████████████████████████████████▊                                                                   | 395/1000 [00:45<01:18,  7.67it/s]"
     ]
    },
    {
     "name": "stdout",
     "output_type": "stream",
     "text": [
      "## DEBUG: 1. Pick input signal P(B) \n",
      "## DEBUG: 2. Find two nearest units \n",
      "## DEBUG: Two nearest points: min_dist_1: 0.9296810401054946 min_dist_2: 0.9475698824347728 \n",
      "## DEBUG: 3. Incremement Age of all edges from s_1 \n",
      "## DEBUG: 4. Add error to neuron \n",
      "## DEBUG: 5. Move s1 and neighbors towards B \n",
      "## DEBUG: 6. reset s1 and s2 age \n",
      "## DEBUG: 7. remove old edges \n",
      "## DEBUG: 8. Insert new neuron \n",
      "## DEBUG: 9. Decrease system error \n",
      "## DEBUG: \n",
      "## DEBUG: \n",
      "## DEBUG: Attemping to plot... \n",
      "## DEBUG: 1. Pick input signal P(B) \n",
      "## DEBUG: 2. Find two nearest units \n",
      "## DEBUG: Two nearest points: min_dist_1: 2.7114845926900615 min_dist_2: 3.354152306877901 \n",
      "## DEBUG: 3. Incremement Age of all edges from s_1 \n",
      "## DEBUG: 4. Add error to neuron \n",
      "## DEBUG: 5. Move s1 and neighbors towards B \n",
      "## DEBUG: 6. reset s1 and s2 age \n",
      "## DEBUG: 7. remove old edges \n",
      "## DEBUG: 8. Insert new neuron \n",
      "## DEBUG: 9. Decrease system error \n",
      "## DEBUG: \n",
      "## DEBUG: \n",
      "## DEBUG: Attemping to plot... \n"
     ]
    },
    {
     "name": "stderr",
     "output_type": "stream",
     "text": [
      " 40%|████████████████████████████████████████████                                                                   | 397/1000 [00:45<01:18,  7.66it/s]"
     ]
    },
    {
     "name": "stdout",
     "output_type": "stream",
     "text": [
      "## DEBUG: 1. Pick input signal P(B) \n",
      "## DEBUG: 2. Find two nearest units \n",
      "## DEBUG: Two nearest points: min_dist_1: 0.2281551982616389 min_dist_2: 1.3397914885071887 \n",
      "## DEBUG: 3. Incremement Age of all edges from s_1 \n",
      "## DEBUG: 4. Add error to neuron \n",
      "## DEBUG: 5. Move s1 and neighbors towards B \n",
      "## DEBUG: 6. reset s1 and s2 age \n",
      "## DEBUG: 7. remove old edges \n",
      "## DEBUG: 8. Insert new neuron \n",
      "## DEBUG: 9. Decrease system error \n",
      "## DEBUG: \n",
      "## DEBUG: \n",
      "## DEBUG: Attemping to plot... \n",
      "## DEBUG: 1. Pick input signal P(B) \n",
      "## DEBUG: 2. Find two nearest units \n",
      "## DEBUG: Two nearest points: min_dist_1: 2.19523285039399 min_dist_2: 2.9722451733726114 \n",
      "## DEBUG: 3. Incremement Age of all edges from s_1 \n",
      "## DEBUG: 4. Add error to neuron \n",
      "## DEBUG: 5. Move s1 and neighbors towards B \n",
      "## DEBUG: 6. reset s1 and s2 age \n",
      "## DEBUG: 7. remove old edges \n",
      "## DEBUG: 8. Insert new neuron \n",
      "## DEBUG: 9. Decrease system error \n",
      "## DEBUG: \n",
      "## DEBUG: \n",
      "## DEBUG: Attemping to plot... \n"
     ]
    },
    {
     "name": "stderr",
     "output_type": "stream",
     "text": [
      " 40%|████████████████████████████████████████████▎                                                                  | 399/1000 [00:45<01:18,  7.70it/s]"
     ]
    },
    {
     "name": "stdout",
     "output_type": "stream",
     "text": [
      "## DEBUG: 1. Pick input signal P(B) \n",
      "## DEBUG: 2. Find two nearest units \n",
      "## DEBUG: Two nearest points: min_dist_1: 0.7813369535228483 min_dist_2: 1.0830549277502226 \n",
      "## DEBUG: 3. Incremement Age of all edges from s_1 \n",
      "## DEBUG: 4. Add error to neuron \n",
      "## DEBUG: 5. Move s1 and neighbors towards B \n",
      "## DEBUG: 6. reset s1 and s2 age \n",
      "## DEBUG: 7. remove old edges \n",
      "## DEBUG: 8. Insert new neuron \n",
      "## DEBUG: 9. Decrease system error \n",
      "## DEBUG: \n",
      "## DEBUG: \n",
      "## DEBUG: Attemping to plot... \n",
      "## DEBUG: 1. Pick input signal P(B) \n",
      "## DEBUG: 2. Find two nearest units \n",
      "## DEBUG: Two nearest points: min_dist_1: 2.449646158180849 min_dist_2: 2.802910375104688 \n",
      "## DEBUG: 3. Incremement Age of all edges from s_1 \n",
      "## DEBUG: 4. Add error to neuron \n",
      "## DEBUG: 5. Move s1 and neighbors towards B \n",
      "## DEBUG: 6. reset s1 and s2 age \n",
      "## DEBUG: 7. remove old edges \n",
      "## DEBUG: 8. Insert new neuron \n",
      "## DEBUG: 9. Decrease system error \n",
      "## DEBUG: \n",
      "## DEBUG: \n",
      "## DEBUG: Attemping to plot... \n"
     ]
    },
    {
     "name": "stderr",
     "output_type": "stream",
     "text": [
      " 40%|████████████████████████████████████████████▌                                                                  | 401/1000 [00:45<01:17,  7.71it/s]"
     ]
    },
    {
     "name": "stdout",
     "output_type": "stream",
     "text": [
      "## DEBUG: 1. Pick input signal P(B) \n",
      "## DEBUG: 2. Find two nearest units \n",
      "## DEBUG: Two nearest points: min_dist_1: 3.9249730612920053 min_dist_2: 4.180143529663927 \n",
      "## DEBUG: 3. Incremement Age of all edges from s_1 \n",
      "## DEBUG: 4. Add error to neuron \n",
      "## DEBUG: 5. Move s1 and neighbors towards B \n",
      "## DEBUG: 6. reset s1 and s2 age \n",
      "## DEBUG: 7. remove old edges \n",
      "## DEBUG: 8. Insert new neuron \n",
      "## DEBUG: 9. Decrease system error \n",
      "## DEBUG: \n",
      "## DEBUG: \n",
      "## DEBUG: Attemping to plot... \n",
      "## DEBUG: 1. Pick input signal P(B) \n",
      "## DEBUG: 2. Find two nearest units \n",
      "## DEBUG: Two nearest points: min_dist_1: 3.229417757897412 min_dist_2: 3.4849149380594877 \n",
      "## DEBUG: 3. Incremement Age of all edges from s_1 \n",
      "## DEBUG: 4. Add error to neuron \n",
      "## DEBUG: 5. Move s1 and neighbors towards B \n",
      "## DEBUG: 6. reset s1 and s2 age \n",
      "## DEBUG: 7. remove old edges \n",
      "## DEBUG: 8. Insert new neuron \n",
      "## DEBUG: 9. Decrease system error \n",
      "## DEBUG: \n",
      "## DEBUG: \n",
      "## DEBUG: Attemping to plot... \n"
     ]
    },
    {
     "name": "stderr",
     "output_type": "stream",
     "text": [
      " 40%|████████████████████████████████████████████▋                                                                  | 403/1000 [00:46<01:18,  7.64it/s]"
     ]
    },
    {
     "name": "stdout",
     "output_type": "stream",
     "text": [
      "## DEBUG: 1. Pick input signal P(B) \n",
      "## DEBUG: 2. Find two nearest units \n",
      "## DEBUG: Two nearest points: min_dist_1: 1.8465324811089818 min_dist_2: 2.0923492338670924 \n",
      "## DEBUG: 3. Incremement Age of all edges from s_1 \n",
      "## DEBUG: 4. Add error to neuron \n",
      "## DEBUG: 5. Move s1 and neighbors towards B \n",
      "## DEBUG: 6. reset s1 and s2 age \n",
      "## DEBUG: 7. remove old edges \n",
      "## DEBUG: 8. Insert new neuron \n",
      "## DEBUG: 9. Decrease system error \n",
      "## DEBUG: \n",
      "## DEBUG: \n",
      "## DEBUG: Attemping to plot... \n",
      "## DEBUG: 1. Pick input signal P(B) \n",
      "## DEBUG: 2. Find two nearest units \n",
      "## DEBUG: Two nearest points: min_dist_1: 0.8501673217085762 min_dist_2: 1.4017701908113955 \n",
      "## DEBUG: 3. Incremement Age of all edges from s_1 \n",
      "## DEBUG: 4. Add error to neuron \n",
      "## DEBUG: 5. Move s1 and neighbors towards B \n",
      "## DEBUG: 6. reset s1 and s2 age \n",
      "## DEBUG: 7. remove old edges \n",
      "## DEBUG: 8. Insert new neuron \n",
      "## DEBUG: 9. Decrease system error \n",
      "## DEBUG: \n",
      "## DEBUG: \n",
      "## DEBUG: Attemping to plot... \n"
     ]
    },
    {
     "name": "stderr",
     "output_type": "stream",
     "text": [
      " 40%|████████████████████████████████████████████▉                                                                  | 405/1000 [00:46<01:18,  7.62it/s]"
     ]
    },
    {
     "name": "stdout",
     "output_type": "stream",
     "text": [
      "## DEBUG: 1. Pick input signal P(B) \n",
      "## DEBUG: 2. Find two nearest units \n",
      "## DEBUG: Two nearest points: min_dist_1: 0.9649063362266043 min_dist_2: 2.6379807868778515 \n",
      "## DEBUG: 3. Incremement Age of all edges from s_1 \n",
      "## DEBUG: 4. Add error to neuron \n",
      "## DEBUG: 5. Move s1 and neighbors towards B \n",
      "## DEBUG: 6. reset s1 and s2 age \n",
      "## DEBUG: 7. remove old edges \n",
      "## DEBUG: 8. Insert new neuron \n",
      "## DEBUG: 9. Decrease system error \n",
      "## DEBUG: \n",
      "## DEBUG: \n",
      "## DEBUG: Attemping to plot... \n",
      "## DEBUG: 1. Pick input signal P(B) \n",
      "## DEBUG: 2. Find two nearest units \n",
      "## DEBUG: Two nearest points: min_dist_1: 0.877707760326701 min_dist_2: 1.8119533451055823 \n",
      "## DEBUG: 3. Incremement Age of all edges from s_1 \n",
      "## DEBUG: 4. Add error to neuron \n",
      "## DEBUG: 5. Move s1 and neighbors towards B \n",
      "## DEBUG: 6. reset s1 and s2 age \n",
      "## DEBUG: 7. remove old edges \n",
      "## DEBUG: 8. Insert new neuron \n",
      "## DEBUG: 9. Decrease system error \n",
      "## DEBUG: \n",
      "## DEBUG: \n",
      "## DEBUG: Attemping to plot... \n"
     ]
    },
    {
     "name": "stderr",
     "output_type": "stream",
     "text": [
      " 41%|█████████████████████████████████████████████▏                                                                 | 407/1000 [00:46<01:17,  7.64it/s]"
     ]
    },
    {
     "name": "stdout",
     "output_type": "stream",
     "text": [
      "## DEBUG: 1. Pick input signal P(B) \n",
      "## DEBUG: 2. Find two nearest units \n",
      "## DEBUG: Two nearest points: min_dist_1: 2.791309746317798 min_dist_2: 2.882052401421195 \n",
      "## DEBUG: 3. Incremement Age of all edges from s_1 \n",
      "## DEBUG: 4. Add error to neuron \n",
      "## DEBUG: 5. Move s1 and neighbors towards B \n",
      "## DEBUG: 6. reset s1 and s2 age \n",
      "## DEBUG: 7. remove old edges \n",
      "## DEBUG: 8. Insert new neuron \n",
      "## DEBUG: 9. Decrease system error \n",
      "## DEBUG: \n",
      "## DEBUG: \n",
      "## DEBUG: Attemping to plot... \n",
      "## DEBUG: 1. Pick input signal P(B) \n",
      "## DEBUG: 2. Find two nearest units \n",
      "## DEBUG: Two nearest points: min_dist_1: 1.6618792329980836 min_dist_2: 2.0902568846332255 \n",
      "## DEBUG: 3. Incremement Age of all edges from s_1 \n",
      "## DEBUG: 4. Add error to neuron \n",
      "## DEBUG: 5. Move s1 and neighbors towards B \n",
      "## DEBUG: 6. reset s1 and s2 age \n",
      "## DEBUG: 7. remove old edges \n",
      "## DEBUG: 8. Insert new neuron \n",
      "## DEBUG: 9. Decrease system error \n",
      "## DEBUG: \n",
      "## DEBUG: \n",
      "## DEBUG: Attemping to plot... \n"
     ]
    },
    {
     "name": "stderr",
     "output_type": "stream",
     "text": [
      " 41%|█████████████████████████████████████████████▍                                                                 | 409/1000 [00:46<01:17,  7.63it/s]"
     ]
    },
    {
     "name": "stdout",
     "output_type": "stream",
     "text": [
      "## DEBUG: 1. Pick input signal P(B) \n",
      "## DEBUG: 2. Find two nearest units \n",
      "## DEBUG: Two nearest points: min_dist_1: 1.9879333943990058 min_dist_2: 2.453789109364456 \n",
      "## DEBUG: 3. Incremement Age of all edges from s_1 \n",
      "## DEBUG: 4. Add error to neuron \n",
      "## DEBUG: 5. Move s1 and neighbors towards B \n",
      "## DEBUG: 6. reset s1 and s2 age \n",
      "## DEBUG: 7. remove old edges \n",
      "## DEBUG: 8. Insert new neuron \n",
      "## DEBUG: 9. Decrease system error \n",
      "## DEBUG: \n",
      "## DEBUG: \n",
      "## DEBUG: Attemping to plot... \n",
      "## DEBUG: 1. Pick input signal P(B) \n",
      "## DEBUG: 2. Find two nearest units \n",
      "## DEBUG: Two nearest points: min_dist_1: 2.199051847761247 min_dist_2: 2.4823261431968313 \n",
      "## DEBUG: 3. Incremement Age of all edges from s_1 \n",
      "## DEBUG: 4. Add error to neuron \n",
      "## DEBUG: 5. Move s1 and neighbors towards B \n",
      "## DEBUG: 6. reset s1 and s2 age \n",
      "## DEBUG: 7. remove old edges \n",
      "## DEBUG: 8. Insert new neuron \n",
      "## DEBUG: 9. Decrease system error \n",
      "## DEBUG: \n",
      "## DEBUG: \n",
      "## DEBUG: Attemping to plot... \n"
     ]
    },
    {
     "name": "stderr",
     "output_type": "stream",
     "text": [
      " 41%|█████████████████████████████████████████████▌                                                                 | 411/1000 [00:47<01:16,  7.65it/s]"
     ]
    },
    {
     "name": "stdout",
     "output_type": "stream",
     "text": [
      "## DEBUG: 1. Pick input signal P(B) \n",
      "## DEBUG: 2. Find two nearest units \n",
      "## DEBUG: Two nearest points: min_dist_1: 0.5693090558672498 min_dist_2: 2.0989242565825843 \n",
      "## DEBUG: 3. Incremement Age of all edges from s_1 \n",
      "## DEBUG: 4. Add error to neuron \n",
      "## DEBUG: 5. Move s1 and neighbors towards B \n",
      "## DEBUG: 6. reset s1 and s2 age \n",
      "## DEBUG: 7. remove old edges \n",
      "## DEBUG: 8. Insert new neuron \n",
      "## DEBUG: 9. Decrease system error \n",
      "## DEBUG: \n",
      "## DEBUG: \n",
      "## DEBUG: Attemping to plot... \n",
      "## DEBUG: 1. Pick input signal P(B) \n",
      "## DEBUG: 2. Find two nearest units \n",
      "## DEBUG: Two nearest points: min_dist_1: 1.0491386947157808 min_dist_2: 1.9027211457071465 \n",
      "## DEBUG: 3. Incremement Age of all edges from s_1 \n",
      "## DEBUG: 4. Add error to neuron \n",
      "## DEBUG: 5. Move s1 and neighbors towards B \n",
      "## DEBUG: 6. reset s1 and s2 age \n",
      "## DEBUG: 7. remove old edges \n",
      "## DEBUG: 8. Insert new neuron \n",
      "## DEBUG: 9. Decrease system error \n",
      "## DEBUG: \n",
      "## DEBUG: \n",
      "## DEBUG: Attemping to plot... \n"
     ]
    },
    {
     "name": "stderr",
     "output_type": "stream",
     "text": [
      " 41%|█████████████████████████████████████████████▊                                                                 | 413/1000 [00:47<01:16,  7.66it/s]"
     ]
    },
    {
     "name": "stdout",
     "output_type": "stream",
     "text": [
      "## DEBUG: 1. Pick input signal P(B) \n",
      "## DEBUG: 2. Find two nearest units \n",
      "## DEBUG: Two nearest points: min_dist_1: 0.29964835865212197 min_dist_2: 0.3276818659681652 \n",
      "## DEBUG: 3. Incremement Age of all edges from s_1 \n",
      "## DEBUG: 4. Add error to neuron \n",
      "## DEBUG: 5. Move s1 and neighbors towards B \n",
      "## DEBUG: 6. reset s1 and s2 age \n",
      "## DEBUG: 7. remove old edges \n",
      "## DEBUG: 8. Insert new neuron \n",
      "## DEBUG: 9. Decrease system error \n",
      "## DEBUG: \n",
      "## DEBUG: \n",
      "## DEBUG: Attemping to plot... \n",
      "## DEBUG: 1. Pick input signal P(B) \n",
      "## DEBUG: 2. Find two nearest units \n",
      "## DEBUG: Two nearest points: min_dist_1: 3.3996107604244656 min_dist_2: 3.9606803447854593 \n",
      "## DEBUG: 3. Incremement Age of all edges from s_1 \n",
      "## DEBUG: 4. Add error to neuron \n",
      "## DEBUG: 5. Move s1 and neighbors towards B \n",
      "## DEBUG: 6. reset s1 and s2 age \n",
      "## DEBUG: 7. remove old edges \n",
      "## DEBUG: 8. Insert new neuron \n",
      "## DEBUG: 9. Decrease system error \n",
      "## DEBUG: \n",
      "## DEBUG: \n",
      "## DEBUG: Attemping to plot... \n"
     ]
    },
    {
     "name": "stderr",
     "output_type": "stream",
     "text": [
      " 42%|██████████████████████████████████████████████                                                                 | 415/1000 [00:47<01:16,  7.69it/s]"
     ]
    },
    {
     "name": "stdout",
     "output_type": "stream",
     "text": [
      "## DEBUG: 1. Pick input signal P(B) \n",
      "## DEBUG: 2. Find two nearest units \n",
      "## DEBUG: Two nearest points: min_dist_1: 3.404367477469624 min_dist_2: 4.91543289919478 \n",
      "## DEBUG: 3. Incremement Age of all edges from s_1 \n",
      "## DEBUG: 4. Add error to neuron \n",
      "## DEBUG: 5. Move s1 and neighbors towards B \n",
      "## DEBUG: 6. reset s1 and s2 age \n",
      "## DEBUG: 7. remove old edges \n",
      "## DEBUG: 8. Insert new neuron \n",
      "## DEBUG: 9. Decrease system error \n",
      "## DEBUG: \n",
      "## DEBUG: \n",
      "## DEBUG: Attemping to plot... \n",
      "## DEBUG: 1. Pick input signal P(B) \n",
      "## DEBUG: 2. Find two nearest units \n",
      "## DEBUG: Two nearest points: min_dist_1: 0.9457471628409763 min_dist_2: 0.9459512173264615 \n",
      "## DEBUG: 3. Incremement Age of all edges from s_1 \n",
      "## DEBUG: 4. Add error to neuron \n",
      "## DEBUG: 5. Move s1 and neighbors towards B \n",
      "## DEBUG: 6. reset s1 and s2 age \n",
      "## DEBUG: 7. remove old edges \n",
      "## DEBUG: 8. Insert new neuron \n",
      "## DEBUG: 9. Decrease system error \n",
      "## DEBUG: \n",
      "## DEBUG: \n",
      "## DEBUG: Attemping to plot... \n"
     ]
    },
    {
     "name": "stderr",
     "output_type": "stream",
     "text": [
      " 42%|██████████████████████████████████████████████▎                                                                | 417/1000 [00:47<01:17,  7.52it/s]"
     ]
    },
    {
     "name": "stdout",
     "output_type": "stream",
     "text": [
      "## DEBUG: 1. Pick input signal P(B) \n",
      "## DEBUG: 2. Find two nearest units \n",
      "## DEBUG: Two nearest points: min_dist_1: 0.27248415525810704 min_dist_2: 0.6819324299733778 \n",
      "## DEBUG: 3. Incremement Age of all edges from s_1 \n",
      "## DEBUG: 4. Add error to neuron \n",
      "## DEBUG: 5. Move s1 and neighbors towards B \n",
      "## DEBUG: 6. reset s1 and s2 age \n",
      "## DEBUG: 7. remove old edges \n",
      "## DEBUG: 8. Insert new neuron \n",
      "## DEBUG: 9. Decrease system error \n",
      "## DEBUG: \n",
      "## DEBUG: \n",
      "## DEBUG: Attemping to plot... \n",
      "## DEBUG: 1. Pick input signal P(B) \n",
      "## DEBUG: 2. Find two nearest units \n",
      "## DEBUG: Two nearest points: min_dist_1: 0.9290955410695673 min_dist_2: 1.1807338548883244 \n",
      "## DEBUG: 3. Incremement Age of all edges from s_1 \n",
      "## DEBUG: 4. Add error to neuron \n",
      "## DEBUG: 5. Move s1 and neighbors towards B \n",
      "## DEBUG: 6. reset s1 and s2 age \n",
      "## DEBUG: 7. remove old edges \n",
      "## DEBUG: 8. Insert new neuron \n",
      "## DEBUG: 9. Decrease system error \n",
      "## DEBUG: \n",
      "## DEBUG: \n",
      "## DEBUG: Attemping to plot... \n"
     ]
    },
    {
     "name": "stderr",
     "output_type": "stream",
     "text": [
      " 42%|██████████████████████████████████████████████▌                                                                | 419/1000 [00:48<01:25,  6.82it/s]"
     ]
    },
    {
     "name": "stdout",
     "output_type": "stream",
     "text": [
      "## DEBUG: 1. Pick input signal P(B) \n",
      "## DEBUG: 2. Find two nearest units \n",
      "## DEBUG: Two nearest points: min_dist_1: 0.9818476443454255 min_dist_2: 1.045432064434291 \n",
      "## DEBUG: 3. Incremement Age of all edges from s_1 \n",
      "## DEBUG: 4. Add error to neuron \n",
      "## DEBUG: 5. Move s1 and neighbors towards B \n",
      "## DEBUG: 6. reset s1 and s2 age \n",
      "## DEBUG: 7. remove old edges \n",
      "## DEBUG: 8. Insert new neuron \n",
      "## DEBUG: 9. Decrease system error \n",
      "## DEBUG: \n",
      "## DEBUG: \n",
      "## DEBUG: Attemping to plot... \n",
      "## DEBUG: 1. Pick input signal P(B) \n",
      "## DEBUG: 2. Find two nearest units \n",
      "## DEBUG: Two nearest points: min_dist_1: 2.9603087207193464 min_dist_2: 3.4185346376781247 \n",
      "## DEBUG: 3. Incremement Age of all edges from s_1 \n",
      "## DEBUG: 4. Add error to neuron \n",
      "## DEBUG: 5. Move s1 and neighbors towards B \n",
      "## DEBUG: 6. reset s1 and s2 age \n",
      "## DEBUG: 7. remove old edges \n",
      "## DEBUG: 8. Insert new neuron \n",
      "## DEBUG: 9. Decrease system error \n",
      "## DEBUG: \n",
      "## DEBUG: \n",
      "## DEBUG: Attemping to plot... \n"
     ]
    },
    {
     "name": "stderr",
     "output_type": "stream",
     "text": [
      " 42%|██████████████████████████████████████████████▋                                                                | 421/1000 [00:48<01:23,  6.90it/s]"
     ]
    },
    {
     "name": "stdout",
     "output_type": "stream",
     "text": [
      "## DEBUG: 1. Pick input signal P(B) \n",
      "## DEBUG: 2. Find two nearest units \n",
      "## DEBUG: Two nearest points: min_dist_1: 3.5026112308201243 min_dist_2: 4.520856622994846 \n",
      "## DEBUG: 3. Incremement Age of all edges from s_1 \n",
      "## DEBUG: 4. Add error to neuron \n",
      "## DEBUG: 5. Move s1 and neighbors towards B \n",
      "## DEBUG: 6. reset s1 and s2 age \n",
      "## DEBUG: 7. remove old edges \n",
      "## DEBUG: 8. Insert new neuron \n",
      "## DEBUG: 9. Decrease system error \n",
      "## DEBUG: \n",
      "## DEBUG: \n",
      "## DEBUG: Attemping to plot... \n",
      "## DEBUG: 1. Pick input signal P(B) \n",
      "## DEBUG: 2. Find two nearest units \n",
      "## DEBUG: Two nearest points: min_dist_1: 0.7101916764345967 min_dist_2: 0.7925052113465911 \n",
      "## DEBUG: 3. Incremement Age of all edges from s_1 \n",
      "## DEBUG: 4. Add error to neuron \n",
      "## DEBUG: 5. Move s1 and neighbors towards B \n",
      "## DEBUG: 6. reset s1 and s2 age \n",
      "## DEBUG: 7. remove old edges \n",
      "## DEBUG: 8. Insert new neuron \n",
      "## DEBUG: 9. Decrease system error \n",
      "## DEBUG: \n",
      "## DEBUG: \n",
      "## DEBUG: Attemping to plot... \n"
     ]
    },
    {
     "name": "stderr",
     "output_type": "stream",
     "text": [
      " 42%|██████████████████████████████████████████████▉                                                                | 423/1000 [00:48<01:20,  7.20it/s]"
     ]
    },
    {
     "name": "stdout",
     "output_type": "stream",
     "text": [
      "## DEBUG: 1. Pick input signal P(B) \n",
      "## DEBUG: 2. Find two nearest units \n",
      "## DEBUG: Two nearest points: min_dist_1: 0.8105844659004646 min_dist_2: 1.4992799828491057 \n",
      "## DEBUG: 3. Incremement Age of all edges from s_1 \n",
      "## DEBUG: 4. Add error to neuron \n",
      "## DEBUG: 5. Move s1 and neighbors towards B \n",
      "## DEBUG: 6. reset s1 and s2 age \n",
      "## DEBUG: 7. remove old edges \n",
      "## DEBUG: 8. Insert new neuron \n",
      "## DEBUG: 9. Decrease system error \n",
      "## DEBUG: \n",
      "## DEBUG: \n",
      "## DEBUG: Attemping to plot... \n",
      "## DEBUG: 1. Pick input signal P(B) \n",
      "## DEBUG: 2. Find two nearest units \n",
      "## DEBUG: Two nearest points: min_dist_1: 2.7599976956797634 min_dist_2: 3.206774331070362 \n",
      "## DEBUG: 3. Incremement Age of all edges from s_1 \n",
      "## DEBUG: 4. Add error to neuron \n",
      "## DEBUG: 5. Move s1 and neighbors towards B \n",
      "## DEBUG: 6. reset s1 and s2 age \n",
      "## DEBUG: 7. remove old edges \n",
      "## DEBUG: 8. Insert new neuron \n",
      "## DEBUG: 9. Decrease system error \n",
      "## DEBUG: \n",
      "## DEBUG: \n",
      "## DEBUG: Attemping to plot... \n"
     ]
    },
    {
     "name": "stderr",
     "output_type": "stream",
     "text": [
      " 42%|███████████████████████████████████████████████▏                                                               | 425/1000 [00:49<01:19,  7.25it/s]"
     ]
    },
    {
     "name": "stdout",
     "output_type": "stream",
     "text": [
      "## DEBUG: 1. Pick input signal P(B) \n",
      "## DEBUG: 2. Find two nearest units \n",
      "## DEBUG: Two nearest points: min_dist_1: 2.483997926111787 min_dist_2: 3.203567556739291 \n",
      "## DEBUG: 3. Incremement Age of all edges from s_1 \n",
      "## DEBUG: 4. Add error to neuron \n",
      "## DEBUG: 5. Move s1 and neighbors towards B \n",
      "## DEBUG: 6. reset s1 and s2 age \n",
      "## DEBUG: 7. remove old edges \n",
      "## DEBUG: 8. Insert new neuron \n",
      "## DEBUG: 9. Decrease system error \n",
      "## DEBUG: \n",
      "## DEBUG: \n",
      "## DEBUG: Attemping to plot... \n",
      "## DEBUG: 1. Pick input signal P(B) \n",
      "## DEBUG: 2. Find two nearest units \n",
      "## DEBUG: Two nearest points: min_dist_1: 0.9755278529885136 min_dist_2: 1.1174494173878244 \n",
      "## DEBUG: 3. Incremement Age of all edges from s_1 \n",
      "## DEBUG: 4. Add error to neuron \n",
      "## DEBUG: 5. Move s1 and neighbors towards B \n",
      "## DEBUG: 6. reset s1 and s2 age \n",
      "## DEBUG: 7. remove old edges \n",
      "## DEBUG: 8. Insert new neuron \n",
      "## DEBUG: 9. Decrease system error \n",
      "## DEBUG: \n",
      "## DEBUG: \n",
      "## DEBUG: Attemping to plot... \n"
     ]
    },
    {
     "name": "stderr",
     "output_type": "stream",
     "text": [
      " 43%|███████████████████████████████████████████████▍                                                               | 427/1000 [00:49<01:18,  7.31it/s]"
     ]
    },
    {
     "name": "stdout",
     "output_type": "stream",
     "text": [
      "## DEBUG: 1. Pick input signal P(B) \n",
      "## DEBUG: 2. Find two nearest units \n",
      "## DEBUG: Two nearest points: min_dist_1: 1.0980586353230903 min_dist_2: 1.4184664140085548 \n",
      "## DEBUG: 3. Incremement Age of all edges from s_1 \n",
      "## DEBUG: 4. Add error to neuron \n",
      "## DEBUG: 5. Move s1 and neighbors towards B \n",
      "## DEBUG: 6. reset s1 and s2 age \n",
      "## DEBUG: 7. remove old edges \n",
      "## DEBUG: 8. Insert new neuron \n",
      "## DEBUG: 9. Decrease system error \n",
      "## DEBUG: \n",
      "## DEBUG: \n",
      "## DEBUG: Attemping to plot... \n",
      "## DEBUG: 1. Pick input signal P(B) \n",
      "## DEBUG: 2. Find two nearest units \n",
      "## DEBUG: Two nearest points: min_dist_1: 0.15451673626168086 min_dist_2: 0.36331873582028146 \n",
      "## DEBUG: 3. Incremement Age of all edges from s_1 \n",
      "## DEBUG: 4. Add error to neuron \n",
      "## DEBUG: 5. Move s1 and neighbors towards B \n",
      "## DEBUG: 6. reset s1 and s2 age \n",
      "## DEBUG: 7. remove old edges \n",
      "## DEBUG: 8. Insert new neuron \n",
      "## DEBUG: 9. Decrease system error \n",
      "## DEBUG: \n",
      "## DEBUG: \n",
      "## DEBUG: Attemping to plot... \n"
     ]
    },
    {
     "name": "stderr",
     "output_type": "stream",
     "text": [
      " 43%|███████████████████████████████████████████████▌                                                               | 429/1000 [00:49<01:21,  6.99it/s]"
     ]
    },
    {
     "name": "stdout",
     "output_type": "stream",
     "text": [
      "## DEBUG: 1. Pick input signal P(B) \n",
      "## DEBUG: 2. Find two nearest units \n",
      "## DEBUG: Two nearest points: min_dist_1: 1.788108716941467 min_dist_2: 2.1403714892031873 \n",
      "## DEBUG: 3. Incremement Age of all edges from s_1 \n",
      "## DEBUG: 4. Add error to neuron \n",
      "## DEBUG: 5. Move s1 and neighbors towards B \n",
      "## DEBUG: 6. reset s1 and s2 age \n",
      "## DEBUG: 7. remove old edges \n",
      "## DEBUG: 8. Insert new neuron \n",
      "## DEBUG: 9. Decrease system error \n",
      "## DEBUG: \n",
      "## DEBUG: \n",
      "## DEBUG: Attemping to plot... \n",
      "## DEBUG: 1. Pick input signal P(B) \n",
      "## DEBUG: 2. Find two nearest units \n",
      "## DEBUG: Two nearest points: min_dist_1: 2.1689934924281378 min_dist_2: 3.4422600337199176 \n",
      "## DEBUG: 3. Incremement Age of all edges from s_1 \n",
      "## DEBUG: 4. Add error to neuron \n",
      "## DEBUG: 5. Move s1 and neighbors towards B \n",
      "## DEBUG: 6. reset s1 and s2 age \n",
      "## DEBUG: 7. remove old edges \n",
      "## DEBUG: 8. Insert new neuron \n",
      "## DEBUG: 9. Decrease system error \n",
      "## DEBUG: \n",
      "## DEBUG: \n",
      "## DEBUG: Attemping to plot... \n"
     ]
    },
    {
     "name": "stderr",
     "output_type": "stream",
     "text": [
      " 43%|███████████████████████████████████████████████▊                                                               | 431/1000 [00:49<01:26,  6.55it/s]"
     ]
    },
    {
     "name": "stdout",
     "output_type": "stream",
     "text": [
      "## DEBUG: 1. Pick input signal P(B) \n",
      "## DEBUG: 2. Find two nearest units \n",
      "## DEBUG: Two nearest points: min_dist_1: 0.1355652900458902 min_dist_2: 0.9403986869755059 \n",
      "## DEBUG: 3. Incremement Age of all edges from s_1 \n",
      "## DEBUG: 4. Add error to neuron \n",
      "## DEBUG: 5. Move s1 and neighbors towards B \n",
      "## DEBUG: 6. reset s1 and s2 age \n",
      "## DEBUG: 7. remove old edges \n",
      "## DEBUG: 8. Insert new neuron \n",
      "## DEBUG: 9. Decrease system error \n",
      "## DEBUG: \n",
      "## DEBUG: \n",
      "## DEBUG: Attemping to plot... \n",
      "## DEBUG: 1. Pick input signal P(B) \n",
      "## DEBUG: 2. Find two nearest units \n",
      "## DEBUG: Two nearest points: min_dist_1: 2.4215988938762556 min_dist_2: 2.927971675980485 \n",
      "## DEBUG: 3. Incremement Age of all edges from s_1 \n",
      "## DEBUG: 4. Add error to neuron \n",
      "## DEBUG: 5. Move s1 and neighbors towards B \n",
      "## DEBUG: 6. reset s1 and s2 age \n",
      "## DEBUG: 7. remove old edges \n",
      "## DEBUG: 8. Insert new neuron \n",
      "## DEBUG: 9. Decrease system error \n",
      "## DEBUG: \n",
      "## DEBUG: \n",
      "## DEBUG: Attemping to plot... \n"
     ]
    },
    {
     "name": "stderr",
     "output_type": "stream",
     "text": [
      " 43%|████████████████████████████████████████████████                                                               | 433/1000 [00:50<01:38,  5.74it/s]"
     ]
    },
    {
     "name": "stdout",
     "output_type": "stream",
     "text": [
      "## DEBUG: 1. Pick input signal P(B) \n",
      "## DEBUG: 2. Find two nearest units \n",
      "## DEBUG: Two nearest points: min_dist_1: 1.2362154432704602 min_dist_2: 1.2561487477366244 \n",
      "## DEBUG: 3. Incremement Age of all edges from s_1 \n",
      "## DEBUG: 4. Add error to neuron \n",
      "## DEBUG: 5. Move s1 and neighbors towards B \n",
      "## DEBUG: 6. reset s1 and s2 age \n",
      "## DEBUG: 7. remove old edges \n",
      "## DEBUG: 8. Insert new neuron \n",
      "## DEBUG: 9. Decrease system error \n",
      "## DEBUG: \n",
      "## DEBUG: \n",
      "## DEBUG: Attemping to plot... \n",
      "## DEBUG: 1. Pick input signal P(B) \n",
      "## DEBUG: 2. Find two nearest units \n",
      "## DEBUG: Two nearest points: min_dist_1: 0.518024558696221 min_dist_2: 0.5913511627999135 \n",
      "## DEBUG: 3. Incremement Age of all edges from s_1 \n",
      "## DEBUG: 4. Add error to neuron \n",
      "## DEBUG: 5. Move s1 and neighbors towards B \n",
      "## DEBUG: 6. reset s1 and s2 age \n",
      "## DEBUG: 7. remove old edges \n",
      "## DEBUG: 8. Insert new neuron \n",
      "## DEBUG: 9. Decrease system error \n",
      "## DEBUG: \n",
      "## DEBUG: \n",
      "## DEBUG: Attemping to plot... \n"
     ]
    },
    {
     "name": "stderr",
     "output_type": "stream",
     "text": [
      " 44%|████████████████████████████████████████████████▎                                                              | 435/1000 [00:52<04:49,  1.95it/s]"
     ]
    },
    {
     "name": "stdout",
     "output_type": "stream",
     "text": [
      "## DEBUG: 1. Pick input signal P(B) \n",
      "## DEBUG: 2. Find two nearest units \n",
      "## DEBUG: Two nearest points: min_dist_1: 0.3536942076381467 min_dist_2: 0.7475771566314913 \n",
      "## DEBUG: 3. Incremement Age of all edges from s_1 \n",
      "## DEBUG: 4. Add error to neuron \n",
      "## DEBUG: 5. Move s1 and neighbors towards B \n",
      "## DEBUG: 6. reset s1 and s2 age \n",
      "## DEBUG: 7. remove old edges \n",
      "## DEBUG: 8. Insert new neuron \n",
      "## DEBUG: 9. Decrease system error \n",
      "## DEBUG: \n",
      "## DEBUG: \n",
      "## DEBUG: Attemping to plot... \n",
      "## DEBUG: 1. Pick input signal P(B) \n",
      "## DEBUG: 2. Find two nearest units \n",
      "## DEBUG: Two nearest points: min_dist_1: 2.4844771556311938 min_dist_2: 2.94522243398369 \n",
      "## DEBUG: 3. Incremement Age of all edges from s_1 \n",
      "## DEBUG: 4. Add error to neuron \n",
      "## DEBUG: 5. Move s1 and neighbors towards B \n",
      "## DEBUG: 6. reset s1 and s2 age \n",
      "## DEBUG: 7. remove old edges \n",
      "## DEBUG: 8. Insert new neuron \n",
      "## DEBUG: 9. Decrease system error \n",
      "## DEBUG: \n",
      "## DEBUG: \n",
      "## DEBUG: Attemping to plot... \n"
     ]
    },
    {
     "name": "stderr",
     "output_type": "stream",
     "text": [
      " 44%|████████████████████████████████████████████████▌                                                              | 437/1000 [00:52<03:00,  3.12it/s]"
     ]
    },
    {
     "name": "stdout",
     "output_type": "stream",
     "text": [
      "## DEBUG: 1. Pick input signal P(B) \n",
      "## DEBUG: 2. Find two nearest units \n",
      "## DEBUG: Two nearest points: min_dist_1: 0.7320300926076857 min_dist_2: 1.2684953513610817 \n",
      "## DEBUG: 3. Incremement Age of all edges from s_1 \n",
      "## DEBUG: 4. Add error to neuron \n",
      "## DEBUG: 5. Move s1 and neighbors towards B \n",
      "## DEBUG: 6. reset s1 and s2 age \n",
      "## DEBUG: 7. remove old edges \n",
      "## DEBUG: 8. Insert new neuron \n",
      "## DEBUG: 9. Decrease system error \n",
      "## DEBUG: \n",
      "## DEBUG: \n",
      "## DEBUG: Attemping to plot... \n",
      "## DEBUG: 1. Pick input signal P(B) \n",
      "## DEBUG: 2. Find two nearest units \n",
      "## DEBUG: Two nearest points: min_dist_1: 1.4791630066777304 min_dist_2: 1.814672474475118 \n",
      "## DEBUG: 3. Incremement Age of all edges from s_1 \n",
      "## DEBUG: 4. Add error to neuron \n",
      "## DEBUG: 5. Move s1 and neighbors towards B \n",
      "## DEBUG: 6. reset s1 and s2 age \n",
      "## DEBUG: 7. remove old edges \n",
      "## DEBUG: 8. Insert new neuron \n",
      "## DEBUG: 9. Decrease system error \n",
      "## DEBUG: \n",
      "## DEBUG: \n",
      "## DEBUG: Attemping to plot... \n"
     ]
    },
    {
     "name": "stderr",
     "output_type": "stream",
     "text": [
      " 44%|████████████████████████████████████████████████▋                                                              | 439/1000 [00:52<02:06,  4.43it/s]"
     ]
    },
    {
     "name": "stdout",
     "output_type": "stream",
     "text": [
      "## DEBUG: 1. Pick input signal P(B) \n",
      "## DEBUG: 2. Find two nearest units \n",
      "## DEBUG: Two nearest points: min_dist_1: 1.1508935568886804 min_dist_2: 1.465825282641785 \n",
      "## DEBUG: 3. Incremement Age of all edges from s_1 \n",
      "## DEBUG: 4. Add error to neuron \n",
      "## DEBUG: 5. Move s1 and neighbors towards B \n",
      "## DEBUG: 6. reset s1 and s2 age \n",
      "## DEBUG: 7. remove old edges \n",
      "## DEBUG: 8. Insert new neuron \n",
      "## DEBUG: 9. Decrease system error \n",
      "## DEBUG: \n",
      "## DEBUG: \n",
      "## DEBUG: Attemping to plot... \n",
      "## DEBUG: 1. Pick input signal P(B) \n",
      "## DEBUG: 2. Find two nearest units \n",
      "## DEBUG: Two nearest points: min_dist_1: 1.039686283133873 min_dist_2: 1.358189283471052 \n",
      "## DEBUG: 3. Incremement Age of all edges from s_1 \n",
      "## DEBUG: 4. Add error to neuron \n",
      "## DEBUG: 5. Move s1 and neighbors towards B \n",
      "## DEBUG: 6. reset s1 and s2 age \n",
      "## DEBUG: 7. remove old edges \n",
      "## DEBUG: 8. Insert new neuron \n",
      "## DEBUG: 9. Decrease system error \n",
      "## DEBUG: \n",
      "## DEBUG: \n",
      "## DEBUG: Attemping to plot... \n"
     ]
    },
    {
     "name": "stderr",
     "output_type": "stream",
     "text": [
      " 44%|████████████████████████████████████████████████▉                                                              | 441/1000 [00:53<01:41,  5.50it/s]"
     ]
    },
    {
     "name": "stdout",
     "output_type": "stream",
     "text": [
      "## DEBUG: 1. Pick input signal P(B) \n",
      "## DEBUG: 2. Find two nearest units \n",
      "## DEBUG: Two nearest points: min_dist_1: 0.08683947061368942 min_dist_2: 0.9998295815204999 \n",
      "## DEBUG: 3. Incremement Age of all edges from s_1 \n",
      "## DEBUG: 4. Add error to neuron \n",
      "## DEBUG: 5. Move s1 and neighbors towards B \n",
      "## DEBUG: 6. reset s1 and s2 age \n",
      "## DEBUG: 7. remove old edges \n",
      "## DEBUG: 8. Insert new neuron \n",
      "## DEBUG: 9. Decrease system error \n",
      "## DEBUG: \n",
      "## DEBUG: \n",
      "## DEBUG: Attemping to plot... \n",
      "## DEBUG: 1. Pick input signal P(B) \n",
      "## DEBUG: 2. Find two nearest units \n",
      "## DEBUG: Two nearest points: min_dist_1: 0.25063375854653824 min_dist_2: 0.3463851496219242 \n",
      "## DEBUG: 3. Incremement Age of all edges from s_1 \n",
      "## DEBUG: 4. Add error to neuron \n",
      "## DEBUG: 5. Move s1 and neighbors towards B \n",
      "## DEBUG: 6. reset s1 and s2 age \n",
      "## DEBUG: 7. remove old edges \n",
      "## DEBUG: 8. Insert new neuron \n",
      "## DEBUG: 9. Decrease system error \n",
      "## DEBUG: \n",
      "## DEBUG: \n",
      "## DEBUG: Attemping to plot... \n"
     ]
    },
    {
     "name": "stderr",
     "output_type": "stream",
     "text": [
      " 44%|█████████████████████████████████████████████████▏                                                             | 443/1000 [00:53<01:28,  6.30it/s]"
     ]
    },
    {
     "name": "stdout",
     "output_type": "stream",
     "text": [
      "## DEBUG: 1. Pick input signal P(B) \n",
      "## DEBUG: 2. Find two nearest units \n",
      "## DEBUG: Two nearest points: min_dist_1: 0.8502962730668823 min_dist_2: 1.013660280905711 \n",
      "## DEBUG: 3. Incremement Age of all edges from s_1 \n",
      "## DEBUG: 4. Add error to neuron \n",
      "## DEBUG: 5. Move s1 and neighbors towards B \n",
      "## DEBUG: 6. reset s1 and s2 age \n",
      "## DEBUG: 7. remove old edges \n",
      "## DEBUG: 8. Insert new neuron \n",
      "## DEBUG: 9. Decrease system error \n",
      "## DEBUG: \n",
      "## DEBUG: \n",
      "## DEBUG: Attemping to plot... \n",
      "## DEBUG: 1. Pick input signal P(B) \n",
      "## DEBUG: 2. Find two nearest units \n",
      "## DEBUG: Two nearest points: min_dist_1: 2.1977836373309514 min_dist_2: 2.913756749296861 \n",
      "## DEBUG: 3. Incremement Age of all edges from s_1 \n",
      "## DEBUG: 4. Add error to neuron \n",
      "## DEBUG: 5. Move s1 and neighbors towards B \n",
      "## DEBUG: 6. reset s1 and s2 age \n",
      "## DEBUG: 7. remove old edges \n",
      "## DEBUG: 8. Insert new neuron \n",
      "## DEBUG: 9. Decrease system error \n",
      "## DEBUG: \n",
      "## DEBUG: \n",
      "## DEBUG: Attemping to plot... \n"
     ]
    },
    {
     "name": "stderr",
     "output_type": "stream",
     "text": [
      " 44%|█████████████████████████████████████████████████▍                                                             | 445/1000 [00:53<01:21,  6.80it/s]"
     ]
    },
    {
     "name": "stdout",
     "output_type": "stream",
     "text": [
      "## DEBUG: 1. Pick input signal P(B) \n",
      "## DEBUG: 2. Find two nearest units \n",
      "## DEBUG: Two nearest points: min_dist_1: 0.6995407921813569 min_dist_2: 1.9174946122420577 \n",
      "## DEBUG: 3. Incremement Age of all edges from s_1 \n",
      "## DEBUG: 4. Add error to neuron \n",
      "## DEBUG: 5. Move s1 and neighbors towards B \n",
      "## DEBUG: 6. reset s1 and s2 age \n",
      "## DEBUG: 7. remove old edges \n",
      "## DEBUG: 8. Insert new neuron \n",
      "## DEBUG: 9. Decrease system error \n",
      "## DEBUG: \n",
      "## DEBUG: \n",
      "## DEBUG: Attemping to plot... \n",
      "## DEBUG: 1. Pick input signal P(B) \n",
      "## DEBUG: 2. Find two nearest units \n",
      "## DEBUG: Two nearest points: min_dist_1: 0.3869542368124374 min_dist_2: 1.3127884111795318 \n",
      "## DEBUG: 3. Incremement Age of all edges from s_1 \n",
      "## DEBUG: 4. Add error to neuron \n",
      "## DEBUG: 5. Move s1 and neighbors towards B \n",
      "## DEBUG: 6. reset s1 and s2 age \n",
      "## DEBUG: 7. remove old edges \n",
      "## DEBUG: 8. Insert new neuron \n",
      "## DEBUG: 9. Decrease system error \n",
      "## DEBUG: \n",
      "## DEBUG: \n",
      "## DEBUG: Attemping to plot... \n"
     ]
    },
    {
     "name": "stderr",
     "output_type": "stream",
     "text": [
      " 45%|█████████████████████████████████████████████████▌                                                             | 447/1000 [00:53<01:17,  7.10it/s]"
     ]
    },
    {
     "name": "stdout",
     "output_type": "stream",
     "text": [
      "## DEBUG: 1. Pick input signal P(B) \n",
      "## DEBUG: 2. Find two nearest units \n",
      "## DEBUG: Two nearest points: min_dist_1: 0.935717654820486 min_dist_2: 1.3568310941875807 \n",
      "## DEBUG: 3. Incremement Age of all edges from s_1 \n",
      "## DEBUG: 4. Add error to neuron \n",
      "## DEBUG: 5. Move s1 and neighbors towards B \n",
      "## DEBUG: 6. reset s1 and s2 age \n",
      "## DEBUG: 7. remove old edges \n",
      "## DEBUG: 8. Insert new neuron \n",
      "## DEBUG: 9. Decrease system error \n",
      "## DEBUG: \n",
      "## DEBUG: \n",
      "## DEBUG: Attemping to plot... \n",
      "## DEBUG: 1. Pick input signal P(B) \n",
      "## DEBUG: 2. Find two nearest units \n",
      "## DEBUG: Two nearest points: min_dist_1: 2.779418254890023 min_dist_2: 3.3672827338823748 \n",
      "## DEBUG: 3. Incremement Age of all edges from s_1 \n",
      "## DEBUG: 4. Add error to neuron \n",
      "## DEBUG: 5. Move s1 and neighbors towards B \n",
      "## DEBUG: 6. reset s1 and s2 age \n",
      "## DEBUG: 7. remove old edges \n",
      "## DEBUG: 8. Insert new neuron \n",
      "## DEBUG: 9. Decrease system error \n",
      "## DEBUG: \n",
      "## DEBUG: \n",
      "## DEBUG: Attemping to plot... \n"
     ]
    },
    {
     "name": "stderr",
     "output_type": "stream",
     "text": [
      " 45%|█████████████████████████████████████████████████▊                                                             | 449/1000 [00:54<01:16,  7.22it/s]"
     ]
    },
    {
     "name": "stdout",
     "output_type": "stream",
     "text": [
      "## DEBUG: 1. Pick input signal P(B) \n",
      "## DEBUG: 2. Find two nearest units \n",
      "## DEBUG: Two nearest points: min_dist_1: 0.5836441774722503 min_dist_2: 1.114007086636333 \n",
      "## DEBUG: 3. Incremement Age of all edges from s_1 \n",
      "## DEBUG: 4. Add error to neuron \n",
      "## DEBUG: 5. Move s1 and neighbors towards B \n",
      "## DEBUG: 6. reset s1 and s2 age \n",
      "## DEBUG: 7. remove old edges \n",
      "## DEBUG: 8. Insert new neuron \n",
      "## DEBUG: 9. Decrease system error \n",
      "## DEBUG: \n",
      "## DEBUG: \n",
      "## DEBUG: Attemping to plot... \n",
      "## DEBUG: 1. Pick input signal P(B) \n",
      "## DEBUG: 2. Find two nearest units \n",
      "## DEBUG: Two nearest points: min_dist_1: 0.6223932748454615 min_dist_2: 1.115161880636664 \n",
      "## DEBUG: 3. Incremement Age of all edges from s_1 \n",
      "## DEBUG: 4. Add error to neuron \n",
      "## DEBUG: 5. Move s1 and neighbors towards B \n",
      "## DEBUG: 6. reset s1 and s2 age \n",
      "## DEBUG: 7. remove old edges \n",
      "## DEBUG: 8. Insert new neuron \n",
      "## DEBUG: 9. Decrease system error \n",
      "## DEBUG: \n",
      "## DEBUG: \n",
      "## DEBUG: Attemping to plot... \n"
     ]
    },
    {
     "name": "stderr",
     "output_type": "stream",
     "text": [
      " 45%|██████████████████████████████████████████████████                                                             | 451/1000 [00:54<01:23,  6.61it/s]"
     ]
    },
    {
     "name": "stdout",
     "output_type": "stream",
     "text": [
      "## DEBUG: 1. Pick input signal P(B) \n",
      "## DEBUG: 2. Find two nearest units \n",
      "## DEBUG: Two nearest points: min_dist_1: 0.5220268181622084 min_dist_2: 0.8411515585060093 \n",
      "## DEBUG: 3. Incremement Age of all edges from s_1 \n",
      "## DEBUG: 4. Add error to neuron \n",
      "## DEBUG: 5. Move s1 and neighbors towards B \n",
      "## DEBUG: 6. reset s1 and s2 age \n",
      "## DEBUG: 7. remove old edges \n",
      "## DEBUG: 8. Insert new neuron \n",
      "## DEBUG: 9. Decrease system error \n",
      "## DEBUG: \n",
      "## DEBUG: \n",
      "## DEBUG: Attemping to plot... \n",
      "## DEBUG: 1. Pick input signal P(B) \n",
      "## DEBUG: 2. Find two nearest units \n",
      "## DEBUG: Two nearest points: min_dist_1: 2.812466740874642 min_dist_2: 3.1876382037739845 \n",
      "## DEBUG: 3. Incremement Age of all edges from s_1 \n",
      "## DEBUG: 4. Add error to neuron \n",
      "## DEBUG: 5. Move s1 and neighbors towards B \n",
      "## DEBUG: 6. reset s1 and s2 age \n",
      "## DEBUG: 7. remove old edges \n",
      "## DEBUG:"
     ]
    },
    {
     "name": "stderr",
     "output_type": "stream",
     "text": [
      "\r",
      " 45%|██████████████████████████████████████████████████▏                                                            | 452/1000 [00:54<01:20,  6.84it/s]"
     ]
    },
    {
     "name": "stdout",
     "output_type": "stream",
     "text": [
      " 8. Insert new neuron \n",
      "## DEBUG: 9. Decrease system error \n",
      "## DEBUG: \n",
      "## DEBUG: \n",
      "## DEBUG: Attemping to plot... \n",
      "## DEBUG: 1. Pick input signal P(B) \n",
      "## DEBUG: 2. Find two nearest units \n",
      "## DEBUG: Two nearest points: min_dist_1: 0.765266645760195 min_dist_2: 1.0126466206248044 \n",
      "## DEBUG: 3. Incremement Age of all edges from s_1 \n",
      "## DEBUG: 4. Add error to neuron \n",
      "## DEBUG: 5. Move s1 and neighbors towards B \n",
      "## DEBUG: 6. reset s1 and s2 age \n",
      "## DEBUG: 7. remove old edges \n",
      "## DEBUG: 8. Insert new neuron \n",
      "## DEBUG: 9. Decrease system error \n",
      "## DEBUG: \n",
      "## DEBUG: \n",
      "## DEBUG: Attemping to plot... \n"
     ]
    },
    {
     "name": "stderr",
     "output_type": "stream",
     "text": [
      " 45%|██████████████████████████████████████████████████▍                                                            | 454/1000 [00:54<01:17,  7.03it/s]"
     ]
    },
    {
     "name": "stdout",
     "output_type": "stream",
     "text": [
      "## DEBUG: 1. Pick input signal P(B) \n",
      "## DEBUG: 2. Find two nearest units \n",
      "## DEBUG: Two nearest points: min_dist_1: 2.1734905089393584 min_dist_2: 2.834660411402703 \n",
      "## DEBUG: 3. Incremement Age of all edges from s_1 \n",
      "## DEBUG: 4. Add error to neuron \n",
      "## DEBUG: 5. Move s1 and neighbors towards B \n",
      "## DEBUG: 6. reset s1 and s2 age \n",
      "## DEBUG: 7. remove old edges \n",
      "## DEBUG: 8. Insert new neuron \n",
      "## DEBUG: 9. Decrease system error \n",
      "## DEBUG: \n",
      "## DEBUG: \n",
      "## DEBUG: Attemping to plot... \n",
      "## DEBUG: 1. Pick input signal P(B) \n",
      "## DEBUG: 2. Find two nearest units \n",
      "## DEBUG: Two nearest points: min_dist_1: 1.5029190035332407 min_dist_2: 2.24006284985636 \n",
      "## DEBUG: 3. Incremement Age of all edges from s_1 \n",
      "## DEBUG: 4. Add error to neuron \n",
      "## DEBUG: 5. Move s1 and neighbors towards B \n",
      "## DEBUG: 6. reset s1 and s2 age \n",
      "## DEBUG: 7. remove old edges \n",
      "## DEBUG: 8. Insert new neuron \n",
      "## DEBUG: 9. Decrease system error \n",
      "## DEBUG: \n",
      "## DEBUG: \n",
      "## DEBUG: Attemping to plot... \n"
     ]
    },
    {
     "name": "stderr",
     "output_type": "stream",
     "text": [
      " 46%|██████████████████████████████████████████████████▌                                                            | 456/1000 [00:55<01:16,  7.07it/s]"
     ]
    },
    {
     "name": "stdout",
     "output_type": "stream",
     "text": [
      "## DEBUG: 1. Pick input signal P(B) \n",
      "## DEBUG: 2. Find two nearest units \n",
      "## DEBUG: Two nearest points: min_dist_1: 2.726712873270284 min_dist_2: 3.5219471507584093 \n",
      "## DEBUG: 3. Incremement Age of all edges from s_1 \n",
      "## DEBUG: 4. Add error to neuron \n",
      "## DEBUG: 5. Move s1 and neighbors towards B \n",
      "## DEBUG: 6. reset s1 and s2 age \n",
      "## DEBUG: 7. remove old edges \n",
      "## DEBUG: 8. Insert new neuron \n",
      "## DEBUG: 9. Decrease system error \n",
      "## DEBUG: \n",
      "## DEBUG: \n",
      "## DEBUG: Attemping to plot... \n",
      "## DEBUG: 1. Pick input signal P(B) \n",
      "## DEBUG: 2. Find two nearest units \n",
      "## DEBUG: Two nearest points: min_dist_1: 0.5634285082297797 min_dist_2: 1.7155520785601106 \n",
      "## DEBUG: 3. Incremement Age of all edges from s_1 \n",
      "## DEBUG: 4. Add error to neuron \n",
      "## DEBUG: 5. Move s1 and neighbors towards B \n",
      "## DEBUG: 6. reset s1 and s2 age \n",
      "## DEBUG: 7. remove old edges \n",
      "## DEBUG: 8. Insert new neuron \n",
      "## DEBUG: 9. Decrease system error \n",
      "## DEBUG: \n",
      "## DEBUG: \n",
      "## DEBUG: Attemping to plot... \n"
     ]
    },
    {
     "name": "stderr",
     "output_type": "stream",
     "text": [
      " 46%|██████████████████████████████████████████████████▊                                                            | 458/1000 [00:55<01:15,  7.20it/s]"
     ]
    },
    {
     "name": "stdout",
     "output_type": "stream",
     "text": [
      "## DEBUG: 1. Pick input signal P(B) \n",
      "## DEBUG: 2. Find two nearest units \n",
      "## DEBUG: Two nearest points: min_dist_1: 2.475639035741395 min_dist_2: 2.942966445097368 \n",
      "## DEBUG: 3. Incremement Age of all edges from s_1 \n",
      "## DEBUG: 4. Add error to neuron \n",
      "## DEBUG: 5. Move s1 and neighbors towards B \n",
      "## DEBUG: 6. reset s1 and s2 age \n",
      "## DEBUG: 7. remove old edges \n",
      "## DEBUG: 8. Insert new neuron \n",
      "## DEBUG: 9. Decrease system error \n",
      "## DEBUG: \n",
      "## DEBUG: \n",
      "## DEBUG: Attemping to plot... \n",
      "## DEBUG: 1. Pick input signal P(B) \n",
      "## DEBUG: 2. Find two nearest units \n",
      "## DEBUG: Two nearest points: min_dist_1: 0.839420443236462 min_dist_2: 1.041417801506948 \n",
      "## DEBUG: 3. Incremement Age of all edges from s_1 \n",
      "## DEBUG: 4. Add error to neuron \n",
      "## DEBUG: 5. Move s1 and neighbors towards B \n",
      "## DEBUG: 6. reset s1 and s2 age \n",
      "## DEBUG: 7. remove old edges \n",
      "## DEBUG: 8. Insert new neuron \n",
      "## DEBUG: 9. Decrease system error \n",
      "## DEBUG: \n",
      "## DEBUG: \n",
      "## DEBUG: Attemping to plot... \n"
     ]
    },
    {
     "name": "stderr",
     "output_type": "stream",
     "text": [
      " 46%|███████████████████████████████████████████████████                                                            | 460/1000 [00:55<01:14,  7.25it/s]"
     ]
    },
    {
     "name": "stdout",
     "output_type": "stream",
     "text": [
      "## DEBUG: 1. Pick input signal P(B) \n",
      "## DEBUG: 2. Find two nearest units \n",
      "## DEBUG: Two nearest points: min_dist_1: 1.0913010147835653 min_dist_2: 1.455624338468641 \n",
      "## DEBUG: 3. Incremement Age of all edges from s_1 \n",
      "## DEBUG: 4. Add error to neuron \n",
      "## DEBUG: 5. Move s1 and neighbors towards B \n",
      "## DEBUG: 6. reset s1 and s2 age \n",
      "## DEBUG: 7. remove old edges \n",
      "## DEBUG: 8. Insert new neuron \n",
      "## DEBUG: 9. Decrease system error \n",
      "## DEBUG: \n",
      "## DEBUG: \n",
      "## DEBUG: Attemping to plot... \n",
      "## DEBUG: 1. Pick input signal P(B) \n",
      "## DEBUG: 2. Find two nearest units \n",
      "## DEBUG: Two nearest points: min_dist_1: 1.1822638182444498 min_dist_2: 1.2796995487282874 \n",
      "## DEBUG: 3. Incremement Age of all edges from s_1 \n",
      "## DEBUG: 4. Add error to neuron \n",
      "## DEBUG: 5. Move s1 and neighbors towards B \n",
      "## DEBUG: 6. reset s1 and s2 age \n",
      "## DEBUG: 7. remove old edges \n",
      "## DEBUG: 8. Insert new neuron \n",
      "## DEBUG: 9. Decrease system error \n",
      "## DEBUG: \n",
      "## DEBUG: \n",
      "## DEBUG: Attemping to plot... \n"
     ]
    },
    {
     "name": "stderr",
     "output_type": "stream",
     "text": [
      " 46%|███████████████████████████████████████████████████▎                                                           | 462/1000 [00:56<01:14,  7.25it/s]"
     ]
    },
    {
     "name": "stdout",
     "output_type": "stream",
     "text": [
      "## DEBUG: 1. Pick input signal P(B) \n",
      "## DEBUG: 2. Find two nearest units \n",
      "## DEBUG: Two nearest points: min_dist_1: 0.8386286832583951 min_dist_2: 1.6162983041633965 \n",
      "## DEBUG: 3. Incremement Age of all edges from s_1 \n",
      "## DEBUG: 4. Add error to neuron \n",
      "## DEBUG: 5. Move s1 and neighbors towards B \n",
      "## DEBUG: 6. reset s1 and s2 age \n",
      "## DEBUG: 7. remove old edges \n",
      "## DEBUG: 8. Insert new neuron \n",
      "## DEBUG: 9. Decrease system error \n",
      "## DEBUG: \n",
      "## DEBUG: \n",
      "## DEBUG: Attemping to plot... \n",
      "## DEBUG: 1. Pick input signal P(B) \n",
      "## DEBUG: 2. Find two nearest units \n",
      "## DEBUG: Two nearest points: min_dist_1: 0.49244357644012954 min_dist_2: 0.9283245284268355 \n",
      "## DEBUG: 3. Incremement Age of all edges from s_1 \n",
      "## DEBUG: 4. Add error to neuron \n",
      "## DEBUG: 5. Move s1 and neighbors towards B \n",
      "## DEBUG: 6. reset s1 and s2 age \n",
      "## DEBUG: 7. remove old edges \n",
      "## DEBUG: 8. Insert new neuron \n",
      "## DEBUG: 9. Decrease system error \n",
      "## DEBUG: \n",
      "## DEBUG: \n",
      "## DEBUG: Attemping to plot... \n"
     ]
    },
    {
     "name": "stderr",
     "output_type": "stream",
     "text": [
      " 46%|███████████████████████████████████████████████████▌                                                           | 464/1000 [00:56<01:13,  7.25it/s]"
     ]
    },
    {
     "name": "stdout",
     "output_type": "stream",
     "text": [
      "## DEBUG: 1. Pick input signal P(B) \n",
      "## DEBUG: 2. Find two nearest units \n",
      "## DEBUG: Two nearest points: min_dist_1: 0.8438403207507595 min_dist_2: 1.3554742630933931 \n",
      "## DEBUG: 3. Incremement Age of all edges from s_1 \n",
      "## DEBUG: 4. Add error to neuron \n",
      "## DEBUG: 5. Move s1 and neighbors towards B \n",
      "## DEBUG: 6. reset s1 and s2 age \n",
      "## DEBUG: 7. remove old edges \n",
      "## DEBUG: 8. Insert new neuron \n",
      "## DEBUG: 9. Decrease system error \n",
      "## DEBUG: \n",
      "## DEBUG: \n",
      "## DEBUG: Attemping to plot... \n",
      "## DEBUG: 1. Pick input signal P(B) \n",
      "## DEBUG: 2. Find two nearest units \n",
      "## DEBUG: Two nearest points: min_dist_1: 0.48574416203859455 min_dist_2: 1.3318258231159832 \n",
      "## DEBUG: 3. Incremement Age of all edges from s_1 \n",
      "## DEBUG: 4. Add error to neuron \n",
      "## DEBUG: 5. Move s1 and neighbors towards B \n",
      "## DEBUG: 6. reset s1 and s2 age \n",
      "## DEBUG: 7. remove old edges \n",
      "## DEBUG: 8. Insert new neuron \n",
      "## DEBUG: 9. Decrease system error \n",
      "## DEBUG: \n",
      "## DEBUG: \n",
      "## DEBUG: Attemping to plot... \n"
     ]
    },
    {
     "name": "stderr",
     "output_type": "stream",
     "text": [
      " 47%|███████████████████████████████████████████████████▋                                                           | 466/1000 [00:56<01:14,  7.13it/s]"
     ]
    },
    {
     "name": "stdout",
     "output_type": "stream",
     "text": [
      "## DEBUG: 1. Pick input signal P(B) \n",
      "## DEBUG: 2. Find two nearest units \n",
      "## DEBUG: Two nearest points: min_dist_1: 0.1208311220496671 min_dist_2: 0.9381496791004542 \n",
      "## DEBUG: 3. Incremement Age of all edges from s_1 \n",
      "## DEBUG: 4. Add error to neuron \n",
      "## DEBUG: 5. Move s1 and neighbors towards B \n",
      "## DEBUG: 6. reset s1 and s2 age \n",
      "## DEBUG: 7. remove old edges \n",
      "## DEBUG: 8. Insert new neuron \n",
      "## DEBUG: 9. Decrease system error \n",
      "## DEBUG: \n",
      "## DEBUG: \n",
      "## DEBUG: Attemping to plot... \n",
      "## DEBUG: 1. Pick input signal P(B) \n",
      "## DEBUG: 2. Find two nearest units \n",
      "## DEBUG: Two nearest points: min_dist_1: 2.445698912517382 min_dist_2: 2.5121413333933784 \n",
      "## DEBUG: 3. Incremement Age of all edges from s_1 \n",
      "## DEBUG: 4. Add error to neuron \n",
      "## DEBUG: 5. Move s1 and neighbors towards B \n",
      "## DEBUG: 6. reset s1 and s2 age \n",
      "## DEBUG: 7. remove old edges \n",
      "## DEBUG: 8. Insert new neuron \n",
      "## DEBUG: 9. Decrease system error \n",
      "## DEBUG: \n",
      "## DEBUG: \n",
      "## DEBUG: Attemping to plot... \n"
     ]
    },
    {
     "name": "stderr",
     "output_type": "stream",
     "text": [
      " 47%|███████████████████████████████████████████████████▉                                                           | 468/1000 [00:56<01:13,  7.23it/s]"
     ]
    },
    {
     "name": "stdout",
     "output_type": "stream",
     "text": [
      "## DEBUG: 1. Pick input signal P(B) \n",
      "## DEBUG: 2. Find two nearest units \n",
      "## DEBUG: Two nearest points: min_dist_1: 0.5996378773191525 min_dist_2: 0.6131386473996678 \n",
      "## DEBUG: 3. Incremement Age of all edges from s_1 \n",
      "## DEBUG: 4. Add error to neuron \n",
      "## DEBUG: 5. Move s1 and neighbors towards B \n",
      "## DEBUG: 6. reset s1 and s2 age \n",
      "## DEBUG: 7. remove old edges \n",
      "## DEBUG: 8. Insert new neuron \n",
      "## DEBUG: 9. Decrease system error \n",
      "## DEBUG: \n",
      "## DEBUG: \n",
      "## DEBUG: Attemping to plot... \n",
      "## DEBUG: 1. Pick input signal P(B) \n",
      "## DEBUG: 2. Find two nearest units \n",
      "## DEBUG: Two nearest points: min_dist_1: 0.8367129360949452 min_dist_2: 0.9466223125523381 \n",
      "## DEBUG: 3. Incremement Age of all edges from s_1 \n",
      "## DEBUG: 4. Add error to neuron \n",
      "## DEBUG: 5. Move s1 and neighbors towards B \n",
      "## DEBUG: 6. reset s1 and s2 age \n",
      "## DEBUG: 7. remove old edges \n",
      "## DEBUG: 8. Insert new neuron \n",
      "## DEBUG: 9. Decrease system error \n",
      "## DEBUG: \n",
      "## DEBUG: \n",
      "## DEBUG: Attemping to plot... \n"
     ]
    },
    {
     "name": "stderr",
     "output_type": "stream",
     "text": [
      " 47%|████████████████████████████████████████████████████▏                                                          | 470/1000 [00:57<01:13,  7.24it/s]"
     ]
    },
    {
     "name": "stdout",
     "output_type": "stream",
     "text": [
      "## DEBUG: 1. Pick input signal P(B) \n",
      "## DEBUG: 2. Find two nearest units \n",
      "## DEBUG: Two nearest points: min_dist_1: 0.7281530636897999 min_dist_2: 1.42015953575373 \n",
      "## DEBUG: 3. Incremement Age of all edges from s_1 \n",
      "## DEBUG: 4. Add error to neuron \n",
      "## DEBUG: 5. Move s1 and neighbors towards B \n",
      "## DEBUG: 6. reset s1 and s2 age \n",
      "## DEBUG: 7. remove old edges \n",
      "## DEBUG: 8. Insert new neuron \n",
      "## DEBUG: 9. Decrease system error \n",
      "## DEBUG: \n",
      "## DEBUG: \n",
      "## DEBUG: Attemping to plot... \n",
      "## DEBUG: 1. Pick input signal P(B) \n",
      "## DEBUG: 2. Find two nearest units \n",
      "## DEBUG: Two nearest points: min_dist_1: 1.2883071518124711 min_dist_2: 1.3489875796654525 \n",
      "## DEBUG: 3. Incremement Age of all edges from s_1 \n",
      "## DEBUG: 4. Add error to neuron \n",
      "## DEBUG: 5. Move s1 and neighbors towards B \n",
      "## DEBUG: 6. reset s1 and s2 age \n",
      "## DEBUG: 7. remove old edges \n",
      "## DEBUG: 8. Insert new neuron \n",
      "## DEBUG: 9. Decrease system error \n",
      "## DEBUG: \n",
      "## DEBUG: \n",
      "## DEBUG: Attemping to plot... \n"
     ]
    },
    {
     "name": "stderr",
     "output_type": "stream",
     "text": [
      " 47%|████████████████████████████████████████████████████▍                                                          | 472/1000 [00:57<01:14,  7.13it/s]"
     ]
    },
    {
     "name": "stdout",
     "output_type": "stream",
     "text": [
      "## DEBUG: 1. Pick input signal P(B) \n",
      "## DEBUG: 2. Find two nearest units \n",
      "## DEBUG: Two nearest points: min_dist_1: 0.5790112948610349 min_dist_2: 1.2893917604207508 \n",
      "## DEBUG: 3. Incremement Age of all edges from s_1 \n",
      "## DEBUG: 4. Add error to neuron \n",
      "## DEBUG: 5. Move s1 and neighbors towards B \n",
      "## DEBUG: 6. reset s1 and s2 age \n",
      "## DEBUG: 7. remove old edges \n",
      "## DEBUG: 8. Insert new neuron \n",
      "## DEBUG: 9. Decrease system error \n",
      "## DEBUG: \n",
      "## DEBUG: \n",
      "## DEBUG: Attemping to plot... \n",
      "## DEBUG: 1. Pick input signal P(B) \n",
      "## DEBUG: 2. Find two nearest units \n",
      "## DEBUG: Two nearest points: min_dist_1: 0.6421402285056834 min_dist_2: 0.8526980146386515 \n",
      "## DEBUG: 3. Incremement Age of all edges from s_1 \n",
      "## DEBUG: 4. Add error to neuron \n",
      "## DEBUG: 5. Move s1 and neighbors towards B \n",
      "## DEBUG: 6. reset s1 and s2 age \n",
      "## DEBUG: 7. remove old edges \n",
      "## DEBUG: 8. Insert new neuron \n",
      "## DEBUG: 9. Decrease system error \n",
      "## DEBUG: \n",
      "## DEBUG: \n",
      "## DEBUG: Attemping to plot... \n"
     ]
    },
    {
     "name": "stderr",
     "output_type": "stream",
     "text": [
      " 47%|████████████████████████████████████████████████████▌                                                          | 474/1000 [00:57<01:13,  7.18it/s]"
     ]
    },
    {
     "name": "stdout",
     "output_type": "stream",
     "text": [
      "## DEBUG: 1. Pick input signal P(B) \n",
      "## DEBUG: 2. Find two nearest units \n",
      "## DEBUG: Two nearest points: min_dist_1: 0.6949327605509328 min_dist_2: 1.49237910652604 \n",
      "## DEBUG: 3. Incremement Age of all edges from s_1 \n",
      "## DEBUG: 4. Add error to neuron \n",
      "## DEBUG: 5. Move s1 and neighbors towards B \n",
      "## DEBUG: 6. reset s1 and s2 age \n",
      "## DEBUG: 7. remove old edges \n",
      "## DEBUG: 8. Insert new neuron \n",
      "## DEBUG: 9. Decrease system error \n",
      "## DEBUG: \n",
      "## DEBUG: \n",
      "## DEBUG: Attemping to plot... \n",
      "## DEBUG: 1. Pick input signal P(B) \n",
      "## DEBUG: 2. Find two nearest units \n",
      "## DEBUG: Two nearest points: min_dist_1: 1.5259584461993765 min_dist_2: 1.6953463564748792 \n",
      "## DEBUG: 3. Incremement Age of all edges from s_1 \n",
      "## DEBUG: 4. Add error to neuron \n",
      "## DEBUG: 5. Move s1 and neighbors towards B \n",
      "## DEBUG: 6. reset s1 and s2 age \n",
      "## DEBUG: 7. remove old edges \n",
      "## DEBUG: 8. Insert new neuron \n",
      "## DEBUG: 9. Decrease system error \n",
      "## DEBUG: \n",
      "## DEBUG: \n",
      "## DEBUG: Attemping to plot... \n"
     ]
    },
    {
     "name": "stderr",
     "output_type": "stream",
     "text": [
      " 48%|████████████████████████████████████████████████████▊                                                          | 476/1000 [00:58<01:13,  7.16it/s]"
     ]
    },
    {
     "name": "stdout",
     "output_type": "stream",
     "text": [
      "## DEBUG: 1. Pick input signal P(B) \n",
      "## DEBUG: 2. Find two nearest units \n",
      "## DEBUG: Two nearest points: min_dist_1: 1.9398660879241731 min_dist_2: 2.43691265870311 \n",
      "## DEBUG: 3. Incremement Age of all edges from s_1 \n",
      "## DEBUG: 4. Add error to neuron \n",
      "## DEBUG: 5. Move s1 and neighbors towards B \n",
      "## DEBUG: 6. reset s1 and s2 age \n",
      "## DEBUG: 7. remove old edges \n",
      "## DEBUG: 8. Insert new neuron \n",
      "## DEBUG: 9. Decrease system error \n",
      "## DEBUG: \n",
      "## DEBUG: \n",
      "## DEBUG: Attemping to plot... \n",
      "## DEBUG: 1. Pick input signal P(B) \n",
      "## DEBUG: 2. Find two nearest units \n",
      "## DEBUG: Two nearest points: min_dist_1: 1.838340205910241 min_dist_2: 1.8895189230644842 \n",
      "## DEBUG: 3. Incremement Age of all edges from s_1 \n",
      "## DEBUG: 4. Add error to neuron \n",
      "## DEBUG: 5. Move s1 and neighbors towards B \n",
      "## DEBUG: 6. reset s1 and s2 age \n",
      "## DEBUG: 7. remove old edges \n",
      "## DEBUG: 8. Insert new neuron \n",
      "## DEBUG: 9. Decrease system error \n",
      "## DEBUG: \n",
      "## DEBUG: \n",
      "## DEBUG: Attemping to plot... \n"
     ]
    },
    {
     "name": "stderr",
     "output_type": "stream",
     "text": [
      " 48%|█████████████████████████████████████████████████████                                                          | 478/1000 [00:58<01:12,  7.15it/s]"
     ]
    },
    {
     "name": "stdout",
     "output_type": "stream",
     "text": [
      "## DEBUG: 1. Pick input signal P(B) \n",
      "## DEBUG: 2. Find two nearest units \n",
      "## DEBUG: Two nearest points: min_dist_1: 0.9038983857267576 min_dist_2: 1.0192986545734193 \n",
      "## DEBUG: 3. Incremement Age of all edges from s_1 \n",
      "## DEBUG: 4. Add error to neuron \n",
      "## DEBUG: 5. Move s1 and neighbors towards B \n",
      "## DEBUG: 6. reset s1 and s2 age \n",
      "## DEBUG: 7. remove old edges \n",
      "## DEBUG: 8. Insert new neuron \n",
      "## DEBUG: 9. Decrease system error \n",
      "## DEBUG: \n",
      "## DEBUG: \n",
      "## DEBUG: Attemping to plot... \n",
      "## DEBUG: 1. Pick input signal P(B) \n",
      "## DEBUG: 2. Find two nearest units \n",
      "## DEBUG: Two nearest points: min_dist_1: 0.9723302787596988 min_dist_2: 1.8826545287520817 \n",
      "## DEBUG: 3. Incremement Age of all edges from s_1 \n",
      "## DEBUG: 4. Add error to neuron \n",
      "## DEBUG: 5. Move s1 and neighbors towards B \n",
      "## DEBUG: 6. reset s1 and s2 age \n",
      "## DEBUG: 7. remove old edges \n",
      "## DEBUG: 8. Insert new neuron \n",
      "## DEBUG: 9. Decrease system error \n",
      "## DEBUG: \n",
      "## DEBUG: \n",
      "## DEBUG: Attemping to plot... \n"
     ]
    },
    {
     "name": "stderr",
     "output_type": "stream",
     "text": [
      " 48%|█████████████████████████████████████████████████████▎                                                         | 480/1000 [00:58<01:14,  6.99it/s]"
     ]
    },
    {
     "name": "stdout",
     "output_type": "stream",
     "text": [
      "## DEBUG: 1. Pick input signal P(B) \n",
      "## DEBUG: 2. Find two nearest units \n",
      "## DEBUG: Two nearest points: min_dist_1: 2.490161170954371 min_dist_2: 2.51318834674347 \n",
      "## DEBUG: 3. Incremement Age of all edges from s_1 \n",
      "## DEBUG: 4. Add error to neuron \n",
      "## DEBUG: 5. Move s1 and neighbors towards B \n",
      "## DEBUG: 6. reset s1 and s2 age \n",
      "## DEBUG: 7. remove old edges \n",
      "## DEBUG: 8. Insert new neuron \n",
      "## DEBUG: 9. Decrease system error \n",
      "## DEBUG: \n",
      "## DEBUG: \n",
      "## DEBUG: Attemping to plot... \n",
      "## DEBUG: 1. Pick input signal P(B) \n",
      "## DEBUG: 2. Find two nearest units \n",
      "## DEBUG: Two nearest points: min_dist_1: 0.2756141410038792 min_dist_2: 0.3273541841021972 \n",
      "## DEBUG: 3. Incremement Age of all edges from s_1 \n",
      "## DEBUG: 4. Add error to neuron \n",
      "## DEBUG: 5. Move s1 and neighbors towards B \n",
      "## DEBUG: 6. reset s1 and s2 age \n",
      "## DEBUG: 7. remove old edges \n",
      "## DEBUG: 8. Insert new neuron \n",
      "## DEBUG: 9. Decrease system error \n",
      "## DEBUG: \n",
      "## DEBUG: \n",
      "## DEBUG: Attemping to plot... \n"
     ]
    },
    {
     "name": "stderr",
     "output_type": "stream",
     "text": [
      " 48%|█████████████████████████████████████████████████████▌                                                         | 482/1000 [00:58<01:16,  6.79it/s]"
     ]
    },
    {
     "name": "stdout",
     "output_type": "stream",
     "text": [
      "## DEBUG: 1. Pick input signal P(B) \n",
      "## DEBUG: 2. Find two nearest units \n",
      "## DEBUG: Two nearest points: min_dist_1: 0.3541492887961814 min_dist_2: 0.6788776944093335 \n",
      "## DEBUG: 3. Incremement Age of all edges from s_1 \n",
      "## DEBUG: 4. Add error to neuron \n",
      "## DEBUG: 5. Move s1 and neighbors towards B \n",
      "## DEBUG: 6. reset s1 and s2 age \n",
      "## DEBUG: 7. remove old edges \n",
      "## DEBUG: 8. Insert new neuron \n",
      "## DEBUG: 9. Decrease system error \n",
      "## DEBUG: \n",
      "## DEBUG: \n",
      "## DEBUG: Attemping to plot... \n",
      "## DEBUG: 1. Pick input signal P(B) \n",
      "## DEBUG: 2. Find two nearest units \n",
      "## DEBUG: Two nearest points: min_dist_1: 1.6545061853192162 min_dist_2: 1.8876294041414197 \n",
      "## DEBUG: 3. Incremement Age of all edges from s_1 \n",
      "## DEBUG: 4. Add error to neuron \n",
      "## DEBUG: 5. Move s1 and neighbors towards B \n",
      "## DEBUG: 6. reset s1 and s2 age \n",
      "## DEBUG: 7. remove old edges \n",
      "## DEBUG: 8. Insert new neuron \n",
      "## DEBUG: 9. Decrease system error \n",
      "## DEBUG: \n",
      "## DEBUG: \n",
      "## DEBUG: Attemping to plot... \n"
     ]
    },
    {
     "name": "stderr",
     "output_type": "stream",
     "text": [
      " 48%|█████████████████████████████████████████████████████▋                                                         | 484/1000 [00:59<01:16,  6.75it/s]"
     ]
    },
    {
     "name": "stdout",
     "output_type": "stream",
     "text": [
      "## DEBUG: 1. Pick input signal P(B) \n",
      "## DEBUG: 2. Find two nearest units \n",
      "## DEBUG: Two nearest points: min_dist_1: 0.19791194607096735 min_dist_2: 0.4023379999590461 \n",
      "## DEBUG: 3. Incremement Age of all edges from s_1 \n",
      "## DEBUG: 4. Add error to neuron \n",
      "## DEBUG: 5. Move s1 and neighbors towards B \n",
      "## DEBUG: 6. reset s1 and s2 age \n",
      "## DEBUG: 7. remove old edges \n",
      "## DEBUG: 8. Insert new neuron \n",
      "## DEBUG: 9. Decrease system error \n",
      "## DEBUG: \n",
      "## DEBUG: \n",
      "## DEBUG: Attemping to plot... \n",
      "## DEBUG: 1. Pick input signal P(B) \n",
      "## DEBUG: 2. Find two nearest units \n",
      "## DEBUG: Two nearest points: min_dist_1: 0.4158722797247617 min_dist_2: 0.9591516539113368 \n",
      "## DEBUG: 3. Incremement Age of all edges from s_1 \n",
      "## DEBUG: 4. Add error to neuron \n",
      "## DEBUG: 5. Move s1 and neighbors towards B \n",
      "## DEBUG: 6. reset s1 and s2 age \n",
      "## DEBUG: 7. remove old edges \n",
      "## DEBUG: 8. Insert new neuron \n",
      "## DEBUG: 9. Decrease system error \n",
      "## DEBUG: \n",
      "## DEBUG: \n",
      "## DEBUG: Attemping to plot... \n"
     ]
    },
    {
     "name": "stderr",
     "output_type": "stream",
     "text": [
      " 49%|█████████████████████████████████████████████████████▉                                                         | 486/1000 [00:59<01:14,  6.91it/s]"
     ]
    },
    {
     "name": "stdout",
     "output_type": "stream",
     "text": [
      "## DEBUG: 1. Pick input signal P(B) \n",
      "## DEBUG: 2. Find two nearest units \n",
      "## DEBUG: Two nearest points: min_dist_1: 0.9881270152122635 min_dist_2: 1.4545372394484568 \n",
      "## DEBUG: 3. Incremement Age of all edges from s_1 \n",
      "## DEBUG: 4. Add error to neuron \n",
      "## DEBUG: 5. Move s1 and neighbors towards B \n",
      "## DEBUG: 6. reset s1 and s2 age \n",
      "## DEBUG: 7. remove old edges \n",
      "## DEBUG: 8. Insert new neuron \n",
      "## DEBUG: 9. Decrease system error \n",
      "## DEBUG: \n",
      "## DEBUG: \n",
      "## DEBUG: Attemping to plot... \n",
      "## DEBUG: 1. Pick input signal P(B) \n",
      "## DEBUG: 2. Find two nearest units \n",
      "## DEBUG: Two nearest points: min_dist_1: 2.0304940374701728 min_dist_2: 2.0306887887553593 \n",
      "## DEBUG: 3. Incremement Age of all edges from s_1 \n",
      "## DEBUG: 4. Add error to neuron \n",
      "## DEBUG: 5. Move s1 and neighbors towards B \n",
      "## DEBUG: 6. reset s1 and s2 age \n",
      "## DEBUG: 7. remove old edges \n",
      "## DEBUG: 8. Insert new neuron \n",
      "## DEBUG: 9. Decrease system error \n",
      "## DEBUG: \n",
      "## DEBUG: \n",
      "## DEBUG: Attemping to plot... \n"
     ]
    },
    {
     "name": "stderr",
     "output_type": "stream",
     "text": [
      " 49%|██████████████████████████████████████████████████████▏                                                        | 488/1000 [00:59<01:15,  6.77it/s]"
     ]
    },
    {
     "name": "stdout",
     "output_type": "stream",
     "text": [
      "## DEBUG: 1. Pick input signal P(B) \n",
      "## DEBUG: 2. Find two nearest units \n",
      "## DEBUG: Two nearest points: min_dist_1: 0.7274862468052292 min_dist_2: 1.399406132200189 \n",
      "## DEBUG: 3. Incremement Age of all edges from s_1 \n",
      "## DEBUG: 4. Add error to neuron \n",
      "## DEBUG: 5. Move s1 and neighbors towards B \n",
      "## DEBUG: 6. reset s1 and s2 age \n",
      "## DEBUG: 7. remove old edges \n",
      "## DEBUG: 8. Insert new neuron \n",
      "## DEBUG: 9. Decrease system error \n",
      "## DEBUG: \n",
      "## DEBUG: \n",
      "## DEBUG: Attemping to plot... \n",
      "## DEBUG: 1. Pick input signal P(B) \n",
      "## DEBUG: 2. Find two nearest units \n",
      "## DEBUG: Two nearest points: min_dist_1: 0.5035202947320513 min_dist_2: 1.222314710648638 \n",
      "## DEBUG: 3. Incremement Age of all edges from s_1 \n",
      "## DEBUG: 4. Add error to neuron \n",
      "## DEBUG: 5. Move s1 and neighbors towards B \n",
      "## DEBUG: 6. reset s1 and s2 age \n",
      "## DEBUG: 7. remove old edges \n",
      "## DEBUG: 8. Insert new neuron \n",
      "## DEBUG: 9. Decrease system error \n",
      "## DEBUG: \n",
      "## DEBUG: \n",
      "## DEBUG: Attemping to plot... \n"
     ]
    },
    {
     "name": "stderr",
     "output_type": "stream",
     "text": [
      " 49%|██████████████████████████████████████████████████████▍                                                        | 490/1000 [01:00<01:13,  6.97it/s]"
     ]
    },
    {
     "name": "stdout",
     "output_type": "stream",
     "text": [
      "## DEBUG: 1. Pick input signal P(B) \n",
      "## DEBUG: 2. Find two nearest units \n",
      "## DEBUG: Two nearest points: min_dist_1: 1.007692166418815 min_dist_2: 1.112405342548798 \n",
      "## DEBUG: 3. Incremement Age of all edges from s_1 \n",
      "## DEBUG: 4. Add error to neuron \n",
      "## DEBUG: 5. Move s1 and neighbors towards B \n",
      "## DEBUG: 6. reset s1 and s2 age \n",
      "## DEBUG: 7. remove old edges \n",
      "## DEBUG: 8. Insert new neuron \n",
      "## DEBUG: 9. Decrease system error \n",
      "## DEBUG: \n",
      "## DEBUG: \n",
      "## DEBUG: Attemping to plot... \n",
      "## DEBUG: 1. Pick input signal P(B) \n",
      "## DEBUG: 2. Find two nearest units \n",
      "## DEBUG: Two nearest points: min_dist_1: 0.3951521035077863 min_dist_2: 1.4419040584848557 \n",
      "## DEBUG: 3. Incremement Age of all edges from s_1 \n",
      "## DEBUG: 4. Add error to neuron \n",
      "## DEBUG: 5. Move s1 and neighbors towards B \n",
      "## DEBUG: 6. reset s1 and s2 age \n",
      "## DEBUG: 7. remove old edges \n",
      "## DEBUG: 8. Insert new neuron \n",
      "## DEBUG: 9. Decrease system error \n",
      "## DEBUG: \n",
      "## DEBUG: \n",
      "## DEBUG: Attemping to plot... \n"
     ]
    },
    {
     "name": "stderr",
     "output_type": "stream",
     "text": [
      " 49%|██████████████████████████████████████████████████████▌                                                        | 492/1000 [01:00<01:13,  6.90it/s]"
     ]
    },
    {
     "name": "stdout",
     "output_type": "stream",
     "text": [
      "## DEBUG: 1. Pick input signal P(B) \n",
      "## DEBUG: 2. Find two nearest units \n",
      "## DEBUG: Two nearest points: min_dist_1: 1.1706106034550376 min_dist_2: 1.2141242164698869 \n",
      "## DEBUG: 3. Incremement Age of all edges from s_1 \n",
      "## DEBUG: 4. Add error to neuron \n",
      "## DEBUG: 5. Move s1 and neighbors towards B \n",
      "## DEBUG: 6. reset s1 and s2 age \n",
      "## DEBUG: 7. remove old edges \n",
      "## DEBUG: 8. Insert new neuron \n",
      "## DEBUG: 9. Decrease system error \n",
      "## DEBUG: \n",
      "## DEBUG: \n",
      "## DEBUG: Attemping to plot... \n",
      "## DEBUG: 1. Pick input signal P(B) \n",
      "## DEBUG: 2. Find two nearest units \n",
      "## DEBUG: Two nearest points: min_dist_1: 1.1898206689046167 min_dist_2: 1.6065821957209785 \n",
      "## DEBUG: 3. Incremement Age of all edges from s_1 \n",
      "## DEBUG: 4. Add error to neuron \n",
      "## DEBUG: 5. Move s1 and neighbors towards B \n",
      "## DEBUG: 6. reset s1 and s2 age \n",
      "## DEBUG: 7. remove old edges \n",
      "## DEBUG: 8. Insert new neuron \n",
      "## DEBUG: 9. Decrease system error \n",
      "## DEBUG: \n",
      "## DEBUG: \n",
      "## DEBUG: Attemping to plot... \n"
     ]
    },
    {
     "name": "stderr",
     "output_type": "stream",
     "text": [
      " 49%|██████████████████████████████████████████████████████▊                                                        | 494/1000 [01:00<01:20,  6.30it/s]"
     ]
    },
    {
     "name": "stdout",
     "output_type": "stream",
     "text": [
      "## DEBUG: 1. Pick input signal P(B) \n",
      "## DEBUG: 2. Find two nearest units \n",
      "## DEBUG: Two nearest points: min_dist_1: 1.7511587201855823 min_dist_2: 2.7215807649090786 \n",
      "## DEBUG: 3. Incremement Age of all edges from s_1 \n",
      "## DEBUG: 4. Add error to neuron \n",
      "## DEBUG: 5. Move s1 and neighbors towards B \n",
      "## DEBUG: 6. reset s1 and s2 age \n",
      "## DEBUG: 7. remove old edges \n",
      "## DEBUG: 8. Insert new neuron \n",
      "## DEBUG: 9. Decrease system error \n",
      "## DEBUG: \n",
      "## DEBUG: \n",
      "## DEBUG: Attemping to plot... \n",
      "## DEBUG: 1. Pick input signal P(B) \n",
      "## DEBUG: 2. Find two nearest units \n",
      "## DEBUG: Two nearest points: min_dist_1: 0.31611363175529944 min_dist_2: 1.2539223077813477 \n",
      "## DEBUG: 3. Incremement Age of all edges from s_1 \n",
      "## DEBUG: 4. Add error to neuron \n",
      "## DEBUG: 5. Move s1 and neighbors towards B \n",
      "## DEBUG: 6. reset s1 and s2 age \n",
      "## DEBUG: 7. remove old edges \n",
      "## DEBUG: 8. Insert new neuron \n",
      "## DEBUG: 9. Decrease system error \n",
      "## DEBUG: \n",
      "## DEBUG: \n",
      "## DEBUG: Attemping to plot... \n"
     ]
    },
    {
     "name": "stderr",
     "output_type": "stream",
     "text": [
      " 50%|███████████████████████████████████████████████████████                                                        | 496/1000 [01:01<01:24,  5.94it/s]"
     ]
    },
    {
     "name": "stdout",
     "output_type": "stream",
     "text": [
      "## DEBUG: 1. Pick input signal P(B) \n",
      "## DEBUG: 2. Find two nearest units \n",
      "## DEBUG: Two nearest points: min_dist_1: 2.201742168812214 min_dist_2: 2.548538715446035 \n",
      "## DEBUG: 3. Incremement Age of all edges from s_1 \n",
      "## DEBUG: 4. Add error to neuron \n",
      "## DEBUG: 5. Move s1 and neighbors towards B \n",
      "## DEBUG: 6. reset s1 and s2 age \n",
      "## DEBUG: 7. remove old edges \n",
      "## DEBUG: 8. Insert new neuron \n",
      "## DEBUG: 9. Decrease system error \n",
      "## DEBUG: \n",
      "## DEBUG: \n",
      "## DEBUG: Attemping to plot... \n"
     ]
    },
    {
     "name": "stderr",
     "output_type": "stream",
     "text": [
      "\r",
      " 50%|███████████████████████████████████████████████████████▏                                                       | 497/1000 [01:01<01:21,  6.20it/s]"
     ]
    },
    {
     "name": "stdout",
     "output_type": "stream",
     "text": [
      "## DEBUG: 1. Pick input signal P(B) \n",
      "## DEBUG: 2. Find two nearest units \n",
      "## DEBUG: Two nearest points: min_dist_1: 0.9403841971553811 min_dist_2: 1.13464318242406 \n",
      "## DEBUG: 3. Incremement Age of all edges from s_1 \n",
      "## DEBUG: 4. Add error to neuron \n",
      "## DEBUG: 5. Move s1 and neighbors towards B \n",
      "## DEBUG: 6. reset s1 and s2 age \n",
      "## DEBUG: 7. remove old edges \n",
      "## DEBUG: 8. Insert new neuron \n",
      "## DEBUG: 9. Decrease system error \n",
      "## DEBUG: \n",
      "## DEBUG: \n",
      "## DEBUG: Attemping to plot... \n",
      "## DEBUG: 1. Pick input signal P(B) \n",
      "## DEBUG: 2. Find two nearest units \n",
      "## DEBUG: Two nearest points: min_dist_1: 0.9570166957949968 min_dist_2: 1.6672470313206902 \n",
      "## DEBUG: 3. Incremement Age of all edges from s_1 \n",
      "## DEBUG: 4. Add error to neuron \n",
      "## DEBUG: 5. Move s1 and neighbors towards B \n",
      "## DEBUG: 6. reset s1 and s2 age \n",
      "## DEBUG: 7. remove old edges \n",
      "## DEBUG: 8. Insert new neuron \n",
      "## DEBUG: 9. Decrease system error \n",
      "## DEBUG: \n",
      "## DEBUG: \n",
      "## DEBUG: Attemping to plot... \n"
     ]
    },
    {
     "name": "stderr",
     "output_type": "stream",
     "text": [
      " 50%|███████████████████████████████████████████████████████▍                                                       | 499/1000 [01:03<05:01,  1.66it/s]"
     ]
    },
    {
     "name": "stdout",
     "output_type": "stream",
     "text": [
      "## DEBUG: 1. Pick input signal P(B) \n",
      "## DEBUG: 2. Find two nearest units \n",
      "## DEBUG: Two nearest points: min_dist_1: 0.8859319092192014 min_dist_2: 1.4838155012717478 \n",
      "## DEBUG: 3. Incremement Age of all edges from s_1 \n",
      "## DEBUG: 4. Add error to neuron \n",
      "## DEBUG: 5. Move s1 and neighbors towards B \n",
      "## DEBUG: 6. reset s1 and s2 age \n",
      "## DEBUG: 7. remove old edges \n",
      "## DEBUG: 8. Insert new neuron \n",
      "## DEBUG: 9. Decrease system error \n",
      "## DEBUG: \n",
      "## DEBUG: \n",
      "## DEBUG: Attemping to plot... \n",
      "## DEBUG: 1. Pick input signal P(B) \n",
      "## DEBUG: 2. Find two nearest units \n",
      "## DEBUG: Two nearest points: min_dist_1: 1.5907094206473316 min_dist_2: 1.619124648058161 \n",
      "## DEBUG: 3. Incremement Age of all edges from s_1 \n",
      "## DEBUG: 4. Add error to neuron \n",
      "## DEBUG: 5. Move s1 and neighbors towards B \n",
      "## DEBUG: 6. reset s1 and s2 age \n",
      "## DEBUG: 7. remove old edges \n",
      "## DEBUG: 8. Insert new neuron \n",
      "## DEBUG: 9. Decrease system error \n",
      "## DEBUG: \n",
      "## DEBUG: \n",
      "## DEBUG: Attemping to plot... \n"
     ]
    },
    {
     "name": "stderr",
     "output_type": "stream",
     "text": [
      " 50%|███████████████████████████████████████████████████████▌                                                       | 501/1000 [01:03<03:04,  2.71it/s]"
     ]
    },
    {
     "name": "stdout",
     "output_type": "stream",
     "text": [
      "## DEBUG: 1. Pick input signal P(B) \n",
      "## DEBUG: 2. Find two nearest units \n",
      "## DEBUG: Two nearest points: min_dist_1: 0.1556664037632233 min_dist_2: 0.894097473362365 \n",
      "## DEBUG: 3. Incremement Age of all edges from s_1 \n",
      "## DEBUG: 4. Add error to neuron \n",
      "## DEBUG: 5. Move s1 and neighbors towards B \n",
      "## DEBUG: 6. reset s1 and s2 age \n",
      "## DEBUG: 7. remove old edges \n",
      "## DEBUG: 8. Insert new neuron \n",
      "## DEBUG: 9. Decrease system error \n",
      "## DEBUG: \n",
      "## DEBUG: \n",
      "## DEBUG: Attemping to plot... \n",
      "## DEBUG: 1. Pick input signal P(B) \n",
      "## DEBUG: 2. Find two nearest units \n",
      "## DEBUG: Two nearest points: min_dist_1: 1.6140746667896515 min_dist_2: 2.6154559892780807 \n",
      "## DEBUG: 3. Incremement Age of all edges from s_1 \n",
      "## DEBUG: 4. Add error to neuron \n",
      "## DEBUG: 5. Move s1 and neighbors towards B \n",
      "## DEBUG: 6. reset s1 and s2 age \n",
      "## DEBUG: 7. remove old edges \n",
      "## DEBUG: 8. Insert new neuron \n",
      "## DEBUG: 9. Decrease system error \n",
      "## DEBUG: \n",
      "## DEBUG: \n",
      "## DEBUG: Attemping to plot... \n"
     ]
    },
    {
     "name": "stderr",
     "output_type": "stream",
     "text": [
      " 50%|███████████████████████████████████████████████████████▊                                                       | 503/1000 [01:04<02:06,  3.92it/s]"
     ]
    },
    {
     "name": "stdout",
     "output_type": "stream",
     "text": [
      "## DEBUG: 1. Pick input signal P(B) \n",
      "## DEBUG: 2. Find two nearest units \n",
      "## DEBUG: Two nearest points: min_dist_1: 2.01073236482964 min_dist_2: 2.068712362781459 \n",
      "## DEBUG: 3. Incremement Age of all edges from s_1 \n",
      "## DEBUG: 4. Add error to neuron \n",
      "## DEBUG: 5. Move s1 and neighbors towards B \n",
      "## DEBUG: 6. reset s1 and s2 age \n",
      "## DEBUG: 7. remove old edges \n",
      "## DEBUG: 8. Insert new neuron \n",
      "## DEBUG: 9. Decrease system error \n",
      "## DEBUG: \n",
      "## DEBUG: \n",
      "## DEBUG: Attemping to plot... \n",
      "## DEBUG: 1. Pick input signal P(B) \n",
      "## DEBUG: 2. Find two nearest units \n",
      "## DEBUG: Two nearest points: min_dist_1: 0.5809215649250649 min_dist_2: 1.1108272739120078 \n",
      "## DEBUG: 3. Incremement Age of all edges from s_1 \n",
      "## DEBUG: 4. Add error to neuron \n",
      "## DEBUG: 5. Move s1 and neighbors towards B \n",
      "## DEBUG: 6. reset s1 and s2 age \n",
      "## DEBUG: 7. remove old edges \n",
      "## DEBUG: 8. Insert new neuron \n",
      "## DEBUG: 9. Decrease system error \n",
      "## DEBUG: \n",
      "## DEBUG: \n",
      "## DEBUG: Attemping to plot... \n"
     ]
    },
    {
     "name": "stderr",
     "output_type": "stream",
     "text": [
      " 50%|████████████████████████████████████████████████████████                                                       | 505/1000 [01:04<01:38,  5.04it/s]"
     ]
    },
    {
     "name": "stdout",
     "output_type": "stream",
     "text": [
      "## DEBUG: 1. Pick input signal P(B) \n",
      "## DEBUG: 2. Find two nearest units \n",
      "## DEBUG: Two nearest points: min_dist_1: 0.680279824938955 min_dist_2: 0.7286719612388651 \n",
      "## DEBUG: 3. Incremement Age of all edges from s_1 \n",
      "## DEBUG: 4. Add error to neuron \n",
      "## DEBUG: 5. Move s1 and neighbors towards B \n",
      "## DEBUG: 6. reset s1 and s2 age \n",
      "## DEBUG: 7. remove old edges \n",
      "## DEBUG: 8. Insert new neuron \n",
      "## DEBUG: 9. Decrease system error \n",
      "## DEBUG: \n",
      "## DEBUG: \n",
      "## DEBUG: Attemping to plot... \n",
      "## DEBUG: 1. Pick input signal P(B) \n",
      "## DEBUG: 2. Find two nearest units \n",
      "## DEBUG: Two nearest points: min_dist_1: 1.4093357030651847 min_dist_2: 1.6175652142580077 \n",
      "## DEBUG: 3. Incremement Age of all edges from s_1 \n",
      "## DEBUG: 4. Add error to neuron \n",
      "## DEBUG: 5. Move s1 and neighbors towards B \n",
      "## DEBUG: 6. reset s1 and s2 age \n",
      "## DEBUG: 7. remove old edges \n",
      "## DEBUG: 8. Insert new neuron \n",
      "## DEBUG: 9. Decrease system error \n",
      "## DEBUG: \n",
      "## DEBUG: \n",
      "## DEBUG: Attemping to plot... \n"
     ]
    },
    {
     "name": "stderr",
     "output_type": "stream",
     "text": [
      " 51%|████████████████████████████████████████████████████████▎                                                      | 507/1000 [01:04<01:27,  5.63it/s]"
     ]
    },
    {
     "name": "stdout",
     "output_type": "stream",
     "text": [
      "## DEBUG: 1. Pick input signal P(B) \n",
      "## DEBUG: 2. Find two nearest units \n",
      "## DEBUG: Two nearest points: min_dist_1: 1.6477550610229261 min_dist_2: 1.8530386170672906 \n",
      "## DEBUG: 3. Incremement Age of all edges from s_1 \n",
      "## DEBUG: 4. Add error to neuron \n",
      "## DEBUG: 5. Move s1 and neighbors towards B \n",
      "## DEBUG: 6. reset s1 and s2 age \n",
      "## DEBUG: 7. remove old edges \n",
      "## DEBUG: 8. Insert new neuron \n",
      "## DEBUG: 9. Decrease system error \n",
      "## DEBUG: \n",
      "## DEBUG: \n",
      "## DEBUG: Attemping to plot... \n",
      "## DEBUG: 1. Pick input signal P(B) \n",
      "## DEBUG: 2. Find two nearest units \n",
      "## DEBUG: Two nearest points: min_dist_1: 2.7935242805784792 min_dist_2: 3.003400006019943 \n",
      "## DEBUG: 3. Incremement Age of all edges from s_1 \n",
      "## DEBUG: 4. Add error to neuron \n",
      "## DEBUG: 5. Move s1 and neighbors towards B \n",
      "## DEBUG: 6. reset s1 and s2 age \n",
      "## DEBUG: 7. remove old edges \n",
      "## DEBUG: 8. Insert new neuron \n",
      "## DEBUG: 9. Decrease system error \n",
      "## DEBUG: \n",
      "## DEBUG: \n",
      "## DEBUG: Attemping to plot... \n"
     ]
    },
    {
     "name": "stderr",
     "output_type": "stream",
     "text": [
      " 51%|████████████████████████████████████████████████████████▍                                                      | 509/1000 [01:05<01:18,  6.23it/s]"
     ]
    },
    {
     "name": "stdout",
     "output_type": "stream",
     "text": [
      "## DEBUG: 1. Pick input signal P(B) \n",
      "## DEBUG: 2. Find two nearest units \n",
      "## DEBUG: Two nearest points: min_dist_1: 0.9778286442031221 min_dist_2: 1.899219120258564 \n",
      "## DEBUG: 3. Incremement Age of all edges from s_1 \n",
      "## DEBUG: 4. Add error to neuron \n",
      "## DEBUG: 5. Move s1 and neighbors towards B \n",
      "## DEBUG: 6. reset s1 and s2 age \n",
      "## DEBUG: 7. remove old edges \n",
      "## DEBUG: 8. Insert new neuron \n",
      "## DEBUG: 9. Decrease system error \n",
      "## DEBUG: \n",
      "## DEBUG: \n",
      "## DEBUG: Attemping to plot... \n",
      "## DEBUG: 1. Pick input signal P(B) \n",
      "## DEBUG: 2. Find two nearest units \n",
      "## DEBUG: Two nearest points: min_dist_1: 2.5649518107626506 min_dist_2: 2.881770328385939 \n",
      "## DEBUG: 3. Incremement Age of all edges from s_1 \n",
      "## DEBUG: 4. Add error to neuron \n",
      "## DEBUG: 5. Move s1 and neighbors towards B \n",
      "## DEBUG: 6. reset s1 and s2 age \n",
      "## DEBUG: 7. remove old edges \n",
      "## DEBUG: 8. Insert new neuron \n",
      "## DEBUG: 9. Decrease system error \n",
      "## DEBUG: \n",
      "## DEBUG: \n",
      "## DEBUG: Attemping to plot... \n"
     ]
    },
    {
     "name": "stderr",
     "output_type": "stream",
     "text": [
      " 51%|████████████████████████████████████████████████████████▋                                                      | 511/1000 [01:05<01:14,  6.55it/s]"
     ]
    },
    {
     "name": "stdout",
     "output_type": "stream",
     "text": [
      "## DEBUG: 1. Pick input signal P(B) \n",
      "## DEBUG: 2. Find two nearest units \n",
      "## DEBUG: Two nearest points: min_dist_1: 0.878585814646001 min_dist_2: 1.068259557721073 \n",
      "## DEBUG: 3. Incremement Age of all edges from s_1 \n",
      "## DEBUG: 4. Add error to neuron \n",
      "## DEBUG: 5. Move s1 and neighbors towards B \n",
      "## DEBUG: 6. reset s1 and s2 age \n",
      "## DEBUG: 7. remove old edges \n",
      "## DEBUG: 8. Insert new neuron \n",
      "## DEBUG: 9. Decrease system error \n",
      "## DEBUG: \n",
      "## DEBUG: \n",
      "## DEBUG: Attemping to plot... \n",
      "## DEBUG: 1. Pick input signal P(B) \n",
      "## DEBUG: 2. Find two nearest units \n",
      "## DEBUG: Two nearest points: min_dist_1: 1.4776476652095663 min_dist_2: 1.4950976573283177 \n",
      "## DEBUG: 3. Incremement Age of all edges from s_1 \n",
      "## DEBUG: 4. Add error to neuron \n",
      "## DEBUG: 5. Move s1 and neighbors towards B \n",
      "## DEBUG: 6. reset s1 and s2 age \n",
      "## DEBUG: 7. remove old edges \n",
      "## DEBUG: 8. Insert new neuron \n",
      "## DEBUG: 9. Decrease system error \n",
      "## DEBUG: \n",
      "## DEBUG: \n",
      "## DEBUG: Attemping to plot... \n"
     ]
    },
    {
     "name": "stderr",
     "output_type": "stream",
     "text": [
      " 51%|████████████████████████████████████████████████████████▉                                                      | 513/1000 [01:05<01:12,  6.72it/s]"
     ]
    },
    {
     "name": "stdout",
     "output_type": "stream",
     "text": [
      "## DEBUG: 1. Pick input signal P(B) \n",
      "## DEBUG: 2. Find two nearest units \n",
      "## DEBUG: Two nearest points: min_dist_1: 0.39443321017255384 min_dist_2: 0.6479581433840979 \n",
      "## DEBUG: 3. Incremement Age of all edges from s_1 \n",
      "## DEBUG: 4. Add error to neuron \n",
      "## DEBUG: 5. Move s1 and neighbors towards B \n",
      "## DEBUG: 6. reset s1 and s2 age \n",
      "## DEBUG: 7. remove old edges \n",
      "## DEBUG: 8. Insert new neuron \n",
      "## DEBUG: 9. Decrease system error \n",
      "## DEBUG: \n",
      "## DEBUG: \n",
      "## DEBUG: Attemping to plot... \n",
      "## DEBUG: 1. Pick input signal P(B) \n",
      "## DEBUG: 2. Find two nearest units \n",
      "## DEBUG: Two nearest points: min_dist_1: 1.179252633300026 min_dist_2: 1.5412862251066244 \n",
      "## DEBUG: 3. Incremement Age of all edges from s_1 \n",
      "## DEBUG: 4. Add error to neuron \n",
      "## DEBUG: 5. Move s1 and neighbors towards B \n",
      "## DEBUG: 6. reset s1 and s2 age \n",
      "## DEBUG: 7. remove old edges \n",
      "## DEBUG: 8. Insert new neuron \n",
      "## DEBUG: 9. Decrease system error \n",
      "## DEBUG: \n",
      "## DEBUG: \n",
      "## DEBUG: Attemping to plot... \n"
     ]
    },
    {
     "name": "stderr",
     "output_type": "stream",
     "text": [
      " 52%|█████████████████████████████████████████████████████████▏                                                     | 515/1000 [01:05<01:11,  6.76it/s]"
     ]
    },
    {
     "name": "stdout",
     "output_type": "stream",
     "text": [
      "## DEBUG: 1. Pick input signal P(B) \n",
      "## DEBUG: 2. Find two nearest units \n",
      "## DEBUG: Two nearest points: min_dist_1: 1.874737668390231 min_dist_2: 2.261828453859017 \n",
      "## DEBUG: 3. Incremement Age of all edges from s_1 \n",
      "## DEBUG: 4. Add error to neuron \n",
      "## DEBUG: 5. Move s1 and neighbors towards B \n",
      "## DEBUG: 6. reset s1 and s2 age \n",
      "## DEBUG: 7. remove old edges \n",
      "## DEBUG: 8. Insert new neuron \n",
      "## DEBUG: 9. Decrease system error \n",
      "## DEBUG: \n",
      "## DEBUG: \n",
      "## DEBUG: Attemping to plot... \n",
      "## DEBUG: 1. Pick input signal P(B) \n",
      "## DEBUG: 2. Find two nearest units \n",
      "## DEBUG: Two nearest points: min_dist_1: 2.1233303069023703 min_dist_2: 2.487904667868463 \n",
      "## DEBUG: 3. Incremement Age of all edges from s_1 \n",
      "## DEBUG: 4. Add error to neuron \n",
      "## DEBUG: 5. Move s1 and neighbors towards B \n",
      "## DEBUG: 6. reset s1 and s2 age \n",
      "## DEBUG: 7. remove old edges \n",
      "## DEBUG: 8. Insert new neuron \n",
      "## DEBUG: 9. Decrease system error \n",
      "## DEBUG: \n",
      "## DEBUG: \n",
      "## DEBUG: Attemping to plot... \n"
     ]
    },
    {
     "name": "stderr",
     "output_type": "stream",
     "text": [
      " 52%|█████████████████████████████████████████████████████████▍                                                     | 517/1000 [01:06<01:11,  6.75it/s]"
     ]
    },
    {
     "name": "stdout",
     "output_type": "stream",
     "text": [
      "## DEBUG: 1. Pick input signal P(B) \n",
      "## DEBUG: 2. Find two nearest units \n",
      "## DEBUG: Two nearest points: min_dist_1: 0.8478475105280151 min_dist_2: 0.8577910187242649 \n",
      "## DEBUG: 3. Incremement Age of all edges from s_1 \n",
      "## DEBUG: 4. Add error to neuron \n",
      "## DEBUG: 5. Move s1 and neighbors towards B \n",
      "## DEBUG: 6. reset s1 and s2 age \n",
      "## DEBUG: 7. remove old edges \n",
      "## DEBUG: 8. Insert new neuron \n",
      "## DEBUG: 9. Decrease system error \n",
      "## DEBUG: \n",
      "## DEBUG: \n",
      "## DEBUG: Attemping to plot... \n",
      "## DEBUG: 1. Pick input signal P(B) \n",
      "## DEBUG: 2. Find two nearest units \n",
      "## DEBUG: Two nearest points: min_dist_1: 2.1005032226915143 min_dist_2: 2.52455376231447 \n",
      "## DEBUG: 3. Incremement Age of all edges from s_1 \n",
      "## DEBUG: 4. Add error to neuron \n",
      "## DEBUG: 5. Move s1 and neighbors towards B \n",
      "## DEBUG: 6. reset s1 and s2 age \n",
      "## DEBUG: 7. remove old edges \n",
      "## DEBUG: 8. Insert new neuron \n",
      "## DEBUG: 9. Decrease system error \n",
      "## DEBUG: \n",
      "## DEBUG: \n",
      "## DEBUG: Attemping to plot... \n"
     ]
    },
    {
     "name": "stderr",
     "output_type": "stream",
     "text": [
      " 52%|█████████████████████████████████████████████████████████▌                                                     | 519/1000 [01:06<01:11,  6.70it/s]"
     ]
    },
    {
     "name": "stdout",
     "output_type": "stream",
     "text": [
      "## DEBUG: 1. Pick input signal P(B) \n",
      "## DEBUG: 2. Find two nearest units \n",
      "## DEBUG: Two nearest points: min_dist_1: 1.883399254851534 min_dist_2: 2.7298200284399776 \n",
      "## DEBUG: 3. Incremement Age of all edges from s_1 \n",
      "## DEBUG: 4. Add error to neuron \n",
      "## DEBUG: 5. Move s1 and neighbors towards B \n",
      "## DEBUG: 6. reset s1 and s2 age \n",
      "## DEBUG: 7. remove old edges \n",
      "## DEBUG: 8. Insert new neuron \n",
      "## DEBUG: 9. Decrease system error \n",
      "## DEBUG: \n",
      "## DEBUG: \n",
      "## DEBUG: Attemping to plot... \n",
      "## DEBUG: 1. Pick input signal P(B) \n",
      "## DEBUG: 2. Find two nearest units \n",
      "## DEBUG: Two nearest points: min_dist_1: 2.044505587947033 min_dist_2: 2.0980269116668744 \n",
      "## DEBUG: 3. Incremement Age of all edges from s_1 \n",
      "## DEBUG: 4. Add error to neuron \n",
      "## DEBUG: 5. Move s1 and neighbors towards B \n",
      "## DEBUG: 6. reset s1 and s2 age \n",
      "## DEBUG: 7. remove old edges \n",
      "## DEBUG: 8. Insert new neuron \n",
      "## DEBUG: 9. Decrease system error \n",
      "## DEBUG: \n",
      "## DEBUG: \n",
      "## DEBUG: Attemping to plot... \n"
     ]
    },
    {
     "name": "stderr",
     "output_type": "stream",
     "text": [
      " 52%|█████████████████████████████████████████████████████████▊                                                     | 521/1000 [01:06<01:10,  6.77it/s]"
     ]
    },
    {
     "name": "stdout",
     "output_type": "stream",
     "text": [
      "## DEBUG: 1. Pick input signal P(B) \n",
      "## DEBUG: 2. Find two nearest units \n",
      "## DEBUG: Two nearest points: min_dist_1: 1.0671725641288259 min_dist_2: 1.603898847623817 \n",
      "## DEBUG: 3. Incremement Age of all edges from s_1 \n",
      "## DEBUG: 4. Add error to neuron \n",
      "## DEBUG: 5. Move s1 and neighbors towards B \n",
      "## DEBUG: 6. reset s1 and s2 age \n",
      "## DEBUG: 7. remove old edges \n",
      "## DEBUG: 8. Insert new neuron \n",
      "## DEBUG: 9. Decrease system error \n",
      "## DEBUG: \n",
      "## DEBUG: \n",
      "## DEBUG: Attemping to plot... \n",
      "## DEBUG: 1. Pick input signal P(B) \n",
      "## DEBUG: 2. Find two nearest units \n",
      "## DEBUG: Two nearest points: min_dist_1: 0.5181839318651988 min_dist_2: 1.062994036357148 \n",
      "## DEBUG: 3. Incremement Age of all edges from s_1 \n",
      "## DEBUG: 4. Add error to neuron \n",
      "## DEBUG: 5. Move s1 and neighbors towards B \n",
      "## DEBUG: 6. reset s1 and s2 age \n",
      "## DEBUG: 7. remove old edges \n",
      "## DEBUG: 8. Insert new neuron \n",
      "## DEBUG: 9. Decrease system error \n",
      "## DEBUG: \n",
      "## DEBUG: \n",
      "## DEBUG: Attemping to plot... \n"
     ]
    },
    {
     "name": "stderr",
     "output_type": "stream",
     "text": [
      " 52%|██████████████████████████████████████████████████████████                                                     | 523/1000 [01:07<01:10,  6.77it/s]"
     ]
    },
    {
     "name": "stdout",
     "output_type": "stream",
     "text": [
      "## DEBUG: 1. Pick input signal P(B) \n",
      "## DEBUG: 2. Find two nearest units \n",
      "## DEBUG: Two nearest points: min_dist_1: 0.655410690290868 min_dist_2: 1.5885852925366615 \n",
      "## DEBUG: 3. Incremement Age of all edges from s_1 \n",
      "## DEBUG: 4. Add error to neuron \n",
      "## DEBUG: 5. Move s1 and neighbors towards B \n",
      "## DEBUG: 6. reset s1 and s2 age \n",
      "## DEBUG: 7. remove old edges \n",
      "## DEBUG: 8. Insert new neuron \n",
      "## DEBUG: 9. Decrease system error \n",
      "## DEBUG: \n",
      "## DEBUG: \n",
      "## DEBUG: Attemping to plot... \n",
      "## DEBUG: 1. Pick input signal P(B) \n",
      "## DEBUG: 2. Find two nearest units \n",
      "## DEBUG: Two nearest points: min_dist_1: 2.420739746457174 min_dist_2: 2.9076615599955136 \n",
      "## DEBUG: 3. Incremement Age of all edges from s_1 \n",
      "## DEBUG: 4. Add error to neuron \n",
      "## DEBUG: 5. Move s1 and neighbors towards B \n",
      "## DEBUG: 6. reset s1 and s2 age \n",
      "## DEBUG: 7. remove old edges \n",
      "## DEBUG: 8. Insert new neuron \n",
      "## DEBUG: 9. Decrease system error \n",
      "## DEBUG: \n",
      "## DEBUG: \n",
      "## DEBUG: Attemping to plot... \n"
     ]
    },
    {
     "name": "stderr",
     "output_type": "stream",
     "text": [
      " 52%|██████████████████████████████████████████████████████████▎                                                    | 525/1000 [01:07<01:10,  6.71it/s]"
     ]
    },
    {
     "name": "stdout",
     "output_type": "stream",
     "text": [
      "## DEBUG: 1. Pick input signal P(B) \n",
      "## DEBUG: 2. Find two nearest units \n",
      "## DEBUG: Two nearest points: min_dist_1: 0.6334569675250741 min_dist_2: 1.3658985250772697 \n",
      "## DEBUG: 3. Incremement Age of all edges from s_1 \n",
      "## DEBUG: 4. Add error to neuron \n",
      "## DEBUG: 5. Move s1 and neighbors towards B \n",
      "## DEBUG: 6. reset s1 and s2 age \n",
      "## DEBUG: 7. remove old edges \n",
      "## DEBUG: 8. Insert new neuron \n",
      "## DEBUG: 9. Decrease system error \n",
      "## DEBUG: \n",
      "## DEBUG: \n",
      "## DEBUG: Attemping to plot... \n",
      "## DEBUG: 1. Pick input signal P(B) \n",
      "## DEBUG: 2. Find two nearest units \n",
      "## DEBUG: Two nearest points: min_dist_1: 1.6935795324706382 min_dist_2: 1.8382057968612284 \n",
      "## DEBUG: 3. Incremement Age of all edges from s_1 \n",
      "## DEBUG: 4. Add error to neuron \n",
      "## DEBUG: 5. Move s1 and neighbors towards B \n",
      "## DEBUG: 6. reset s1 and s2 age \n",
      "## DEBUG: 7. remove old edges \n",
      "## DEBUG: 8. Insert new neuron \n",
      "## DEBUG: 9. Decrease system error \n",
      "## DEBUG: \n",
      "## DEBUG: \n",
      "## DEBUG: Attemping to plot... \n"
     ]
    },
    {
     "name": "stderr",
     "output_type": "stream",
     "text": [
      " 53%|██████████████████████████████████████████████████████████▍                                                    | 527/1000 [01:07<01:09,  6.80it/s]"
     ]
    },
    {
     "name": "stdout",
     "output_type": "stream",
     "text": [
      "## DEBUG: 1. Pick input signal P(B) \n",
      "## DEBUG: 2. Find two nearest units \n",
      "## DEBUG: Two nearest points: min_dist_1: 0.8816003063397014 min_dist_2: 0.9161342395545837 \n",
      "## DEBUG: 3. Incremement Age of all edges from s_1 \n",
      "## DEBUG: 4. Add error to neuron \n",
      "## DEBUG: 5. Move s1 and neighbors towards B \n",
      "## DEBUG: 6. reset s1 and s2 age \n",
      "## DEBUG: 7. remove old edges \n",
      "## DEBUG: 8. Insert new neuron \n",
      "## DEBUG: 9. Decrease system error \n",
      "## DEBUG: \n",
      "## DEBUG: \n",
      "## DEBUG: Attemping to plot... \n",
      "## DEBUG: 1. Pick input signal P(B) \n",
      "## DEBUG: 2. Find two nearest units \n",
      "## DEBUG: Two nearest points: min_dist_1: 1.0552777753438327 min_dist_2: 1.2088391868397446 \n",
      "## DEBUG: 3. Incremement Age of all edges from s_1 \n",
      "## DEBUG: 4. Add error to neuron \n",
      "## DEBUG: 5. Move s1 and neighbors towards B \n",
      "## DEBUG: 6. reset s1 and s2 age \n",
      "## DEBUG: 7. remove old edges \n",
      "## DEBUG: 8. Insert new neuron \n",
      "## DEBUG: 9. Decrease system error \n",
      "## DEBUG: \n",
      "## DEBUG: \n",
      "## DEBUG: Attemping to plot... \n"
     ]
    },
    {
     "name": "stderr",
     "output_type": "stream",
     "text": [
      " 53%|██████████████████████████████████████████████████████████▋                                                    | 529/1000 [01:08<01:09,  6.82it/s]"
     ]
    },
    {
     "name": "stdout",
     "output_type": "stream",
     "text": [
      "## DEBUG: 1. Pick input signal P(B) \n",
      "## DEBUG: 2. Find two nearest units \n",
      "## DEBUG: Two nearest points: min_dist_1: 1.3120374634075684 min_dist_2: 1.803325474828023 \n",
      "## DEBUG: 3. Incremement Age of all edges from s_1 \n",
      "## DEBUG: 4. Add error to neuron \n",
      "## DEBUG: 5. Move s1 and neighbors towards B \n",
      "## DEBUG: 6. reset s1 and s2 age \n",
      "## DEBUG: 7. remove old edges \n",
      "## DEBUG: 8. Insert new neuron \n",
      "## DEBUG: 9. Decrease system error \n",
      "## DEBUG: \n",
      "## DEBUG: \n",
      "## DEBUG: Attemping to plot... \n",
      "## DEBUG: 1. Pick input signal P(B) \n",
      "## DEBUG: 2. Find two nearest units \n",
      "## DEBUG: Two nearest points: min_dist_1: 0.5793684487744343 min_dist_2: 0.9524250895607027 \n",
      "## DEBUG: 3. Incremement Age of all edges from s_1 \n",
      "## DEBUG: 4. Add error to neuron \n",
      "## DEBUG: 5. Move s1 and neighbors towards B \n",
      "## DEBUG: 6. reset s1 and s2 age \n",
      "## DEBUG: 7. remove old edges \n",
      "## DEBUG: 8. Insert new neuron \n",
      "## DEBUG: 9. Decrease system error \n",
      "## DEBUG: \n",
      "## DEBUG: \n",
      "## DEBUG: Attemping to plot... \n"
     ]
    },
    {
     "name": "stderr",
     "output_type": "stream",
     "text": [
      " 53%|██████████████████████████████████████████████████████████▉                                                    | 531/1000 [01:08<01:09,  6.77it/s]"
     ]
    },
    {
     "name": "stdout",
     "output_type": "stream",
     "text": [
      "## DEBUG: 1. Pick input signal P(B) \n",
      "## DEBUG: 2. Find two nearest units \n",
      "## DEBUG: Two nearest points: min_dist_1: 2.7900489934030093 min_dist_2: 2.859793826738549 \n",
      "## DEBUG: 3. Incremement Age of all edges from s_1 \n",
      "## DEBUG: 4. Add error to neuron \n",
      "## DEBUG: 5. Move s1 and neighbors towards B \n",
      "## DEBUG: 6. reset s1 and s2 age \n",
      "## DEBUG: 7. remove old edges \n",
      "## DEBUG: 8. Insert new neuron \n",
      "## DEBUG: 9. Decrease system error \n",
      "## DEBUG: \n",
      "## DEBUG: \n",
      "## DEBUG: Attemping to plot... \n",
      "## DEBUG: 1. Pick input signal P(B) \n",
      "## DEBUG: 2. Find two nearest units \n",
      "## DEBUG: Two nearest points: min_dist_1: 0.8939908946419165 min_dist_2: 0.9010665138619298 \n",
      "## DEBUG: 3. Incremement Age of all edges from s_1 \n",
      "## DEBUG: 4. Add error to neuron \n",
      "## DEBUG: 5. Move s1 and neighbors towards B \n",
      "## DEBUG: 6. reset s1 and s2 age \n",
      "## DEBUG: 7. remove old edges \n",
      "## DEBUG: 8. Insert new neuron \n",
      "## DEBUG: 9. Decrease system error \n",
      "## DEBUG: \n",
      "## DEBUG: \n",
      "## DEBUG: Attemping to plot... \n"
     ]
    },
    {
     "name": "stderr",
     "output_type": "stream",
     "text": [
      " 53%|███████████████████████████████████████████████████████████▏                                                   | 533/1000 [01:08<01:09,  6.74it/s]"
     ]
    },
    {
     "name": "stdout",
     "output_type": "stream",
     "text": [
      "## DEBUG: 1. Pick input signal P(B) \n",
      "## DEBUG: 2. Find two nearest units \n",
      "## DEBUG: Two nearest points: min_dist_1: 0.37915697948969 min_dist_2: 1.6078069519249716 \n",
      "## DEBUG: 3. Incremement Age of all edges from s_1 \n",
      "## DEBUG: 4. Add error to neuron \n",
      "## DEBUG: 5. Move s1 and neighbors towards B \n",
      "## DEBUG: 6. reset s1 and s2 age \n",
      "## DEBUG: 7. remove old edges \n",
      "## DEBUG: 8. Insert new neuron \n",
      "## DEBUG: 9. Decrease system error \n",
      "## DEBUG: \n",
      "## DEBUG: \n",
      "## DEBUG: Attemping to plot... \n",
      "## DEBUG: 1. Pick input signal P(B) \n",
      "## DEBUG: 2. Find two nearest units \n",
      "## DEBUG: Two nearest points: min_dist_1: 1.7205794931751277 min_dist_2: 1.7380879168521943 \n",
      "## DEBUG: 3. Incremement Age of all edges from s_1 \n",
      "## DEBUG: 4. Add error to neuron \n",
      "## DEBUG: 5. Move s1 and neighbors towards B \n",
      "## DEBUG: 6. reset s1 and s2 age \n",
      "## DEBUG: 7. remove old edges \n",
      "## DEBUG: 8. Insert new neuron \n",
      "## DEBUG: 9. Decrease system error \n",
      "## DEBUG: \n",
      "## DEBUG: \n",
      "## DEBUG: Attemping to plot... \n"
     ]
    },
    {
     "name": "stderr",
     "output_type": "stream",
     "text": [
      " 54%|███████████████████████████████████████████████████████████▍                                                   | 535/1000 [01:08<01:09,  6.74it/s]"
     ]
    },
    {
     "name": "stdout",
     "output_type": "stream",
     "text": [
      "## DEBUG: 1. Pick input signal P(B) \n",
      "## DEBUG: 2. Find two nearest units \n",
      "## DEBUG: Two nearest points: min_dist_1: 0.8452985864435487 min_dist_2: 1.085265390681787 \n",
      "## DEBUG: 3. Incremement Age of all edges from s_1 \n",
      "## DEBUG: 4. Add error to neuron \n",
      "## DEBUG: 5. Move s1 and neighbors towards B \n",
      "## DEBUG: 6. reset s1 and s2 age \n",
      "## DEBUG: 7. remove old edges \n",
      "## DEBUG: 8. Insert new neuron \n",
      "## DEBUG: 9. Decrease system error \n",
      "## DEBUG: \n",
      "## DEBUG: \n",
      "## DEBUG: Attemping to plot... \n",
      "## DEBUG: 1. Pick input signal P(B) \n",
      "## DEBUG: 2. Find two nearest units \n",
      "## DEBUG: Two nearest points: min_dist_1: 0.9136050732700464 min_dist_2: 0.9177088048884382 \n",
      "## DEBUG: 3. Incremement Age of all edges from s_1 \n",
      "## DEBUG: 4. Add error to neuron \n",
      "## DEBUG: 5. Move s1 and neighbors towards B \n",
      "## DEBUG: 6. reset s1 and s2 age \n",
      "## DEBUG: 7. remove old edges \n",
      "## DEBUG: 8. Insert new neuron \n",
      "## DEBUG: 9. Decrease system error \n",
      "## DEBUG: \n",
      "## DEBUG: \n",
      "## DEBUG: Attemping to plot... \n"
     ]
    },
    {
     "name": "stderr",
     "output_type": "stream",
     "text": [
      " 54%|███████████████████████████████████████████████████████████▌                                                   | 537/1000 [01:09<01:08,  6.75it/s]"
     ]
    },
    {
     "name": "stdout",
     "output_type": "stream",
     "text": [
      "## DEBUG: 1. Pick input signal P(B) \n",
      "## DEBUG: 2. Find two nearest units \n",
      "## DEBUG: Two nearest points: min_dist_1: 2.0609728526164166 min_dist_2: 2.096867327951486 \n",
      "## DEBUG: 3. Incremement Age of all edges from s_1 \n",
      "## DEBUG: 4. Add error to neuron \n",
      "## DEBUG: 5. Move s1 and neighbors towards B \n",
      "## DEBUG: 6. reset s1 and s2 age \n",
      "## DEBUG: 7. remove old edges \n",
      "## DEBUG: 8. Insert new neuron \n",
      "## DEBUG: 9. Decrease system error \n",
      "## DEBUG: \n",
      "## DEBUG: \n",
      "## DEBUG: Attemping to plot... \n",
      "## DEBUG: 1. Pick input signal P(B) \n",
      "## DEBUG: 2. Find two nearest units \n",
      "## DEBUG: Two nearest points: min_dist_1: 0.46636553867867825 min_dist_2: 1.0643403717672122 \n",
      "## DEBUG: 3. Incremement Age of all edges from s_1 \n",
      "## DEBUG: 4. Add error to neuron \n",
      "## DEBUG: 5. Move s1 and neighbors towards B \n",
      "## DEBUG: 6. reset s1 and s2 age \n",
      "## DEBUG: 7. remove old edges \n",
      "## DEBUG: 8. Insert new neuron \n",
      "## DEBUG: 9. Decrease system error \n",
      "## DEBUG: \n",
      "## DEBUG: \n",
      "## DEBUG: Attemping to plot... \n"
     ]
    },
    {
     "name": "stderr",
     "output_type": "stream",
     "text": [
      " 54%|███████████████████████████████████████████████████████████▊                                                   | 539/1000 [01:09<01:10,  6.58it/s]"
     ]
    },
    {
     "name": "stdout",
     "output_type": "stream",
     "text": [
      "## DEBUG: 1. Pick input signal P(B) \n",
      "## DEBUG: 2. Find two nearest units \n",
      "## DEBUG: Two nearest points: min_dist_1: 1.7938605418891507 min_dist_2: 2.424907852738173 \n",
      "## DEBUG: 3. Incremement Age of all edges from s_1 \n",
      "## DEBUG: 4. Add error to neuron \n",
      "## DEBUG: 5. Move s1 and neighbors towards B \n",
      "## DEBUG: 6. reset s1 and s2 age \n",
      "## DEBUG: 7. remove old edges \n",
      "## DEBUG: 8. Insert new neuron \n",
      "## DEBUG: 9. Decrease system error \n",
      "## DEBUG: \n",
      "## DEBUG: \n",
      "## DEBUG: Attemping to plot... \n",
      "## DEBUG: 1. Pick input signal P(B) \n",
      "## DEBUG: 2. Find two nearest units \n",
      "## DEBUG: Two nearest points: min_dist_1: 0.2742095493083893 min_dist_2: 1.034364034319673 \n",
      "## DEBUG: 3. Incremement Age of all edges from s_1 \n",
      "## DEBUG: 4. Add error to neuron \n",
      "## DEBUG: 5. Move s1 and neighbors towards B \n",
      "## DEBUG: 6. reset s1 and s2 age \n",
      "## DEBUG: 7. remove old edges \n",
      "## DEBUG: 8. Insert new neuron \n",
      "## DEBUG: 9. Decrease system error \n",
      "## DEBUG: \n",
      "## DEBUG: \n",
      "## DEBUG: Attemping to plot... \n"
     ]
    },
    {
     "name": "stderr",
     "output_type": "stream",
     "text": [
      " 54%|████████████████████████████████████████████████████████████                                                   | 541/1000 [01:09<01:12,  6.36it/s]"
     ]
    },
    {
     "name": "stdout",
     "output_type": "stream",
     "text": [
      "## DEBUG: 1. Pick input signal P(B) \n",
      "## DEBUG: 2. Find two nearest units \n",
      "## DEBUG: Two nearest points: min_dist_1: 1.539152986708066 min_dist_2: 2.254598007086656 \n",
      "## DEBUG: 3. Incremement Age of all edges from s_1 \n",
      "## DEBUG: 4. Add error to neuron \n",
      "## DEBUG: 5. Move s1 and neighbors towards B \n",
      "## DEBUG: 6. reset s1 and s2 age \n",
      "## DEBUG: 7. remove old edges \n",
      "## DEBUG: 8. Insert new neuron \n",
      "## DEBUG: 9. Decrease system error \n",
      "## DEBUG: \n",
      "## DEBUG: \n",
      "## DEBUG: Attemping to plot... \n",
      "## DEBUG: 1. Pick input signal P(B) \n",
      "## DEBUG: 2. Find two nearest units \n",
      "## DEBUG: Two nearest points: min_dist_1: 2.0373302005431695 min_dist_2: 2.1536538526549664 \n",
      "## DEBUG: 3. Incremement Age of all edges from s_1 \n",
      "## DEBUG: 4. Add error to neuron \n",
      "## DEBUG: 5. Move s1 and neighbors towards B \n",
      "## DEBUG: 6. reset s1 and s2 age \n",
      "## DEBUG: 7. remove old edges \n",
      "## DEBUG: 8. Insert new neuron \n",
      "## DEBUG: 9. Decrease system error \n",
      "## DEBUG: \n",
      "## DEBUG: \n",
      "## DEBUG: Attemping to plot... \n"
     ]
    },
    {
     "name": "stderr",
     "output_type": "stream",
     "text": [
      " 54%|████████████████████████████████████████████████████████████▎                                                  | 543/1000 [01:10<01:10,  6.47it/s]"
     ]
    },
    {
     "name": "stdout",
     "output_type": "stream",
     "text": [
      "## DEBUG: 1. Pick input signal P(B) \n",
      "## DEBUG: 2. Find two nearest units \n",
      "## DEBUG: Two nearest points: min_dist_1: 0.786697090344328 min_dist_2: 1.4163704210550563 \n",
      "## DEBUG: 3. Incremement Age of all edges from s_1 \n",
      "## DEBUG: 4. Add error to neuron \n",
      "## DEBUG: 5. Move s1 and neighbors towards B \n",
      "## DEBUG: 6. reset s1 and s2 age \n",
      "## DEBUG: 7. remove old edges \n",
      "## DEBUG: 8. Insert new neuron \n",
      "## DEBUG: 9. Decrease system error \n",
      "## DEBUG: \n",
      "## DEBUG: \n",
      "## DEBUG: Attemping to plot... \n",
      "## DEBUG: 1. Pick input signal P(B) \n",
      "## DEBUG: 2. Find two nearest units \n",
      "## DEBUG: Two nearest points: min_dist_1: 0.7072857889573166 min_dist_2: 0.9244601547057062 \n",
      "## DEBUG: 3. Incremement Age of all edges from s_1 \n",
      "## DEBUG: 4. Add error to neuron \n",
      "## DEBUG: 5. Move s1 and neighbors towards B \n",
      "## DEBUG: 6. reset s1 and s2 age \n",
      "## DEBUG: 7. remove old edges \n",
      "## DEBUG: 8. Insert new neuron \n",
      "## DEBUG: 9. Decrease system error \n",
      "## DEBUG: \n",
      "## DEBUG: \n",
      "## DEBUG: Attemping to plot... \n"
     ]
    },
    {
     "name": "stderr",
     "output_type": "stream",
     "text": [
      " 55%|████████████████████████████████████████████████████████████▍                                                  | 545/1000 [01:10<01:09,  6.59it/s]"
     ]
    },
    {
     "name": "stdout",
     "output_type": "stream",
     "text": [
      "## DEBUG: 1. Pick input signal P(B) \n",
      "## DEBUG: 2. Find two nearest units \n",
      "## DEBUG: Two nearest points: min_dist_1: 0.10457256983235116 min_dist_2: 0.40194281496952083 \n",
      "## DEBUG: 3. Incremement Age of all edges from s_1 \n",
      "## DEBUG: 4. Add error to neuron \n",
      "## DEBUG: 5. Move s1 and neighbors towards B \n",
      "## DEBUG: 6. reset s1 and s2 age \n",
      "## DEBUG: 7. remove old edges \n",
      "## DEBUG: 8. Insert new neuron \n",
      "## DEBUG: 9. Decrease system error \n",
      "## DEBUG: \n",
      "## DEBUG: \n",
      "## DEBUG: Attemping to plot... \n",
      "## DEBUG: 1. Pick input signal P(B) \n",
      "## DEBUG: 2. Find two nearest units \n",
      "## DEBUG: Two nearest points: min_dist_1: 2.7564508213699304 min_dist_2: 3.312514292473385 \n",
      "## DEBUG: 3. Incremement Age of all edges from s_1 \n",
      "## DEBUG: 4. Add error to neuron \n",
      "## DEBUG: 5. Move s1 and neighbors towards B \n",
      "## DEBUG: 6. reset s1 and s2 age \n",
      "## DEBUG: 7. remove old edges \n",
      "## DEBUG: 8. Insert new neuron \n",
      "## DEBUG: 9. Decrease system error \n",
      "## DEBUG: \n",
      "## DEBUG: \n",
      "## DEBUG: Attemping to plot... \n"
     ]
    },
    {
     "name": "stderr",
     "output_type": "stream",
     "text": [
      " 55%|████████████████████████████████████████████████████████████▋                                                  | 547/1000 [01:10<01:09,  6.56it/s]"
     ]
    },
    {
     "name": "stdout",
     "output_type": "stream",
     "text": [
      "## DEBUG: 1. Pick input signal P(B) \n",
      "## DEBUG: 2. Find two nearest units \n",
      "## DEBUG: Two nearest points: min_dist_1: 0.5431140287600706 min_dist_2: 0.709486104362499 \n",
      "## DEBUG: 3. Incremement Age of all edges from s_1 \n",
      "## DEBUG: 4. Add error to neuron \n",
      "## DEBUG: 5. Move s1 and neighbors towards B \n",
      "## DEBUG: 6. reset s1 and s2 age \n",
      "## DEBUG: 7. remove old edges \n",
      "## DEBUG: 8. Insert new neuron \n",
      "## DEBUG: 9. Decrease system error \n",
      "## DEBUG: \n",
      "## DEBUG: \n",
      "## DEBUG: Attemping to plot... \n",
      "## DEBUG: 1. Pick input signal P(B) \n",
      "## DEBUG: 2. Find two nearest units \n",
      "## DEBUG: Two nearest points: min_dist_1: 0.6634968400522424 min_dist_2: 1.3640321222641119 \n",
      "## DEBUG: 3. Incremement Age of all edges from s_1 \n",
      "## DEBUG: 4. Add error to neuron \n",
      "## DEBUG: 5. Move s1 and neighbors towards B \n",
      "## DEBUG: 6. reset s1 and s2 age \n",
      "## DEBUG: 7. remove old edges \n",
      "## DEBUG: 8. Insert new neuron \n",
      "## DEBUG: 9. Decrease system error \n",
      "## DEBUG: \n",
      "## DEBUG: \n",
      "## DEBUG: Attemping to plot... \n"
     ]
    },
    {
     "name": "stderr",
     "output_type": "stream",
     "text": [
      " 55%|████████████████████████████████████████████████████████████▉                                                  | 549/1000 [01:11<01:08,  6.58it/s]"
     ]
    },
    {
     "name": "stdout",
     "output_type": "stream",
     "text": [
      "## DEBUG: 1. Pick input signal P(B) \n",
      "## DEBUG: 2. Find two nearest units \n",
      "## DEBUG: Two nearest points: min_dist_1: 1.9551547312521385 min_dist_2: 2.099041033548122 \n",
      "## DEBUG: 3. Incremement Age of all edges from s_1 \n",
      "## DEBUG: 4. Add error to neuron \n",
      "## DEBUG: 5. Move s1 and neighbors towards B \n",
      "## DEBUG: 6. reset s1 and s2 age \n",
      "## DEBUG: 7. remove old edges \n",
      "## DEBUG: 8. Insert new neuron \n",
      "## DEBUG: 9. Decrease system error \n",
      "## DEBUG: \n",
      "## DEBUG: \n",
      "## DEBUG: Attemping to plot... \n",
      "## DEBUG: 1. Pick input signal P(B) \n",
      "## DEBUG: 2. Find two nearest units \n",
      "## DEBUG: Two nearest points: min_dist_1: 1.634394568386013 min_dist_2: 1.6430745623011807 \n",
      "## DEBUG: 3. Incremement Age of all edges from s_1 \n",
      "## DEBUG: 4. Add error to neuron \n",
      "## DEBUG: 5. Move s1 and neighbors towards B \n",
      "## DEBUG: 6. reset s1 and s2 age \n",
      "## DEBUG: 7. remove old edges \n",
      "## DEBUG: 8. Insert new neuron \n",
      "## DEBUG: 9. Decrease system error \n",
      "## DEBUG: \n",
      "## DEBUG: \n",
      "## DEBUG: Attemping to plot... \n"
     ]
    },
    {
     "name": "stderr",
     "output_type": "stream",
     "text": [
      " 55%|█████████████████████████████████████████████████████████████▏                                                 | 551/1000 [01:11<01:09,  6.50it/s]"
     ]
    },
    {
     "name": "stdout",
     "output_type": "stream",
     "text": [
      "## DEBUG: 1. Pick input signal P(B) \n",
      "## DEBUG: 2. Find two nearest units \n",
      "## DEBUG: Two nearest points: min_dist_1: 0.9594749315050842 min_dist_2: 1.6662038209915395 \n",
      "## DEBUG: 3. Incremement Age of all edges from s_1 \n",
      "## DEBUG: 4. Add error to neuron \n",
      "## DEBUG: 5. Move s1 and neighbors towards B \n",
      "## DEBUG: 6. reset s1 and s2 age \n",
      "## DEBUG: 7. remove old edges \n",
      "## DEBUG: 8. Insert new neuron \n",
      "## DEBUG: 9. Decrease system error \n",
      "## DEBUG: \n",
      "## DEBUG: \n",
      "## DEBUG: Attemping to plot... \n",
      "## DEBUG: 1. Pick input signal P(B) \n",
      "## DEBUG: 2. Find two nearest units \n",
      "## DEBUG: Two nearest points: min_dist_1: 1.3263883138379389 min_dist_2: 2.1268001066249687 \n",
      "## DEBUG: 3. Incremement Age of all edges from s_1 \n",
      "## DEBUG: 4. Add error to neuron \n",
      "## DEBUG: 5. Move s1 and neighbors towards B \n",
      "## DEBUG: 6. reset s1 and s2 age \n",
      "## DEBUG: 7. remove old edges \n",
      "## DEBUG: 8. Insert new neuron \n",
      "## DEBUG: 9. Decrease system error \n",
      "## DEBUG: \n",
      "## DEBUG: \n",
      "## DEBUG: Attemping to plot... \n"
     ]
    },
    {
     "name": "stderr",
     "output_type": "stream",
     "text": [
      " 55%|█████████████████████████████████████████████████████████████▍                                                 | 553/1000 [01:11<01:09,  6.47it/s]"
     ]
    },
    {
     "name": "stdout",
     "output_type": "stream",
     "text": [
      "## DEBUG: 1. Pick input signal P(B) \n",
      "## DEBUG: 2. Find two nearest units \n",
      "## DEBUG: Two nearest points: min_dist_1: 0.568887718035795 min_dist_2: 0.7272427643556192 \n",
      "## DEBUG: 3. Incremement Age of all edges from s_1 \n",
      "## DEBUG: 4. Add error to neuron \n",
      "## DEBUG: 5. Move s1 and neighbors towards B \n",
      "## DEBUG: 6. reset s1 and s2 age \n",
      "## DEBUG: 7. remove old edges \n",
      "## DEBUG: 8. Insert new neuron \n",
      "## DEBUG: 9. Decrease system error \n",
      "## DEBUG: \n",
      "## DEBUG: \n",
      "## DEBUG: Attemping to plot... \n",
      "## DEBUG: 1. Pick input signal P(B) \n",
      "## DEBUG: 2. Find two nearest units \n",
      "## DEBUG: Two nearest points: min_dist_1: 0.07996409317025328 min_dist_2: 1.3425223408649816 \n",
      "## DEBUG: 3. Incremement Age of all edges from s_1 \n",
      "## DEBUG: 4. Add error to neuron \n",
      "## DEBUG: 5. Move s1 and neighbors towards B \n",
      "## DEBUG: 6. reset s1 and s2 age \n",
      "## DEBUG: 7. remove old edges \n",
      "## DEBUG: 8. Insert new neuron \n",
      "## DEBUG: 9. Decrease system error \n",
      "## DEBUG: \n",
      "## DEBUG: \n",
      "## DEBUG: Attemping to plot... \n"
     ]
    },
    {
     "name": "stderr",
     "output_type": "stream",
     "text": [
      " 56%|█████████████████████████████████████████████████████████████▌                                                 | 555/1000 [01:12<01:08,  6.52it/s]"
     ]
    },
    {
     "name": "stdout",
     "output_type": "stream",
     "text": [
      "## DEBUG: 1. Pick input signal P(B) \n",
      "## DEBUG: 2. Find two nearest units \n",
      "## DEBUG: Two nearest points: min_dist_1: 0.9164245642204427 min_dist_2: 1.0622105139222122 \n",
      "## DEBUG: 3. Incremement Age of all edges from s_1 \n",
      "## DEBUG: 4. Add error to neuron \n",
      "## DEBUG: 5. Move s1 and neighbors towards B \n",
      "## DEBUG: 6. reset s1 and s2 age \n",
      "## DEBUG: 7. remove old edges \n",
      "## DEBUG: 8. Insert new neuron \n",
      "## DEBUG: 9. Decrease system error \n",
      "## DEBUG: \n",
      "## DEBUG: \n",
      "## DEBUG: Attemping to plot... \n",
      "## DEBUG: 1. Pick input signal P(B) \n",
      "## DEBUG: 2. Find two nearest units \n",
      "## DEBUG: Two nearest points: min_dist_1: 1.7516177729503632 min_dist_2: 2.6704256074950656 \n",
      "## DEBUG: 3. Incremement Age of all edges from s_1 \n",
      "## DEBUG: 4. Add error to neuron \n",
      "## DEBUG: 5. Move s1 and neighbors towards B \n",
      "## DEBUG: 6. reset s1 and s2 age \n",
      "## DEBUG: 7. remove old edges \n",
      "## DEBUG: 8. Insert new neuron \n",
      "## DEBUG: 9. Decrease system error \n",
      "## DEBUG: \n",
      "## DEBUG: \n",
      "## DEBUG: Attemping to plot... \n"
     ]
    },
    {
     "name": "stderr",
     "output_type": "stream",
     "text": [
      " 56%|█████████████████████████████████████████████████████████████▊                                                 | 557/1000 [01:12<01:07,  6.52it/s]"
     ]
    },
    {
     "name": "stdout",
     "output_type": "stream",
     "text": [
      "## DEBUG: 1. Pick input signal P(B) \n",
      "## DEBUG: 2. Find two nearest units \n",
      "## DEBUG: Two nearest points: min_dist_1: 1.2815503655830605 min_dist_2: 1.290692233416003 \n",
      "## DEBUG: 3. Incremement Age of all edges from s_1 \n",
      "## DEBUG: 4. Add error to neuron \n",
      "## DEBUG: 5. Move s1 and neighbors towards B \n",
      "## DEBUG: 6. reset s1 and s2 age \n",
      "## DEBUG: 7. remove old edges \n",
      "## DEBUG: 8. Insert new neuron \n",
      "## DEBUG: 9. Decrease system error \n",
      "## DEBUG: \n",
      "## DEBUG: \n",
      "## DEBUG: Attemping to plot... \n",
      "## DEBUG: 1. Pick input signal P(B) \n",
      "## DEBUG: 2. Find two nearest units \n",
      "## DEBUG: Two nearest points: min_dist_1: 1.9691667430084585 min_dist_2: 2.863572857107731 \n",
      "## DEBUG: 3. Incremement Age of all edges from s_1 \n",
      "## DEBUG: 4. Add error to neuron \n",
      "## DEBUG: 5. Move s1 and neighbors towards B \n",
      "## DEBUG: 6. reset s1 and s2 age \n",
      "## DEBUG: 7. remove old edges \n",
      "## DEBUG: 8. Insert new neuron \n",
      "## DEBUG: 9. Decrease system error \n",
      "## DEBUG: \n",
      "## DEBUG: \n",
      "## DEBUG: Attemping to plot... \n"
     ]
    },
    {
     "name": "stderr",
     "output_type": "stream",
     "text": [
      " 56%|██████████████████████████████████████████████████████████████                                                 | 559/1000 [01:12<01:09,  6.36it/s]"
     ]
    },
    {
     "name": "stdout",
     "output_type": "stream",
     "text": [
      "## DEBUG: 1. Pick input signal P(B) \n",
      "## DEBUG: 2. Find two nearest units \n",
      "## DEBUG: Two nearest points: min_dist_1: 1.23095955774725 min_dist_2: 1.4498000220740366 \n",
      "## DEBUG: 3. Incremement Age of all edges from s_1 \n",
      "## DEBUG: 4. Add error to neuron \n",
      "## DEBUG: 5. Move s1 and neighbors towards B \n",
      "## DEBUG: 6. reset s1 and s2 age \n",
      "## DEBUG: 7. remove old edges \n",
      "## DEBUG: 8. Insert new neuron \n",
      "## DEBUG: 9. Decrease system error \n",
      "## DEBUG: \n",
      "## DEBUG: \n",
      "## DEBUG: Attemping to plot... \n",
      "## DEBUG: 1. Pick input signal P(B) \n",
      "## DEBUG: 2. Find two nearest units \n",
      "## DEBUG: Two nearest points: min_dist_1: 0.5280652846950239 min_dist_2: 1.0514918465637557 \n",
      "## DEBUG: 3. Incremement Age of all edges from s_1 \n",
      "## DEBUG: 4. Add error to neuron \n",
      "## DEBUG: 5. Move s1 and neighbors towards B \n",
      "## DEBUG: 6. reset s1 and s2 age \n",
      "## DEBUG: 7. remove old edges \n",
      "## DEBUG: 8. Insert new neuron \n",
      "## DEBUG: 9. Decrease system error \n",
      "## DEBUG: \n",
      "## DEBUG: \n",
      "## DEBUG: Attemping to plot... \n"
     ]
    },
    {
     "name": "stderr",
     "output_type": "stream",
     "text": [
      " 56%|██████████████████████████████████████████████████████████████▎                                                | 561/1000 [01:12<01:07,  6.46it/s]"
     ]
    },
    {
     "name": "stdout",
     "output_type": "stream",
     "text": [
      "## DEBUG: 1. Pick input signal P(B) \n",
      "## DEBUG: 2. Find two nearest units \n",
      "## DEBUG: Two nearest points: min_dist_1: 1.5280834576799598 min_dist_2: 2.160831710871311 \n",
      "## DEBUG: 3. Incremement Age of all edges from s_1 \n",
      "## DEBUG: 4. Add error to neuron \n",
      "## DEBUG: 5. Move s1 and neighbors towards B \n",
      "## DEBUG: 6. reset s1 and s2 age \n",
      "## DEBUG: 7. remove old edges \n",
      "## DEBUG: 8. Insert new neuron \n",
      "## DEBUG: 9. Decrease system error \n",
      "## DEBUG: \n",
      "## DEBUG: \n",
      "## DEBUG: Attemping to plot... \n",
      "## DEBUG: 1. Pick input signal P(B) \n",
      "## DEBUG: 2. Find two nearest units \n",
      "## DEBUG: Two nearest points: min_dist_1: 0.9220665441420469 min_dist_2: 1.572455393341901 \n",
      "## DEBUG: 3. Incremement Age of all edges from s_1 \n",
      "## DEBUG: 4. Add error to neuron \n",
      "## DEBUG: 5. Move s1 and neighbors towards B \n",
      "## DEBUG: 6. reset s1 and s2 age \n",
      "## DEBUG: 7. remove old edges \n",
      "## DEBUG: 8. Insert new neuron \n",
      "## DEBUG: 9. Decrease system error \n",
      "## DEBUG: \n",
      "## DEBUG: \n",
      "## DEBUG: Attemping to plot... \n"
     ]
    },
    {
     "name": "stderr",
     "output_type": "stream",
     "text": [
      " 56%|██████████████████████████████████████████████████████████████▍                                                | 563/1000 [01:13<01:08,  6.42it/s]"
     ]
    },
    {
     "name": "stdout",
     "output_type": "stream",
     "text": [
      "## DEBUG: 1. Pick input signal P(B) \n",
      "## DEBUG: 2. Find two nearest units \n",
      "## DEBUG: Two nearest points: min_dist_1: 0.6840405173786489 min_dist_2: 1.8747028267703993 \n",
      "## DEBUG: 3. Incremement Age of all edges from s_1 \n",
      "## DEBUG: 4. Add error to neuron \n",
      "## DEBUG: 5. Move s1 and neighbors towards B \n",
      "## DEBUG: 6. reset s1 and s2 age \n",
      "## DEBUG: 7. remove old edges \n",
      "## DEBUG: 8. Insert new neuron \n",
      "## DEBUG: 9. Decrease system error \n",
      "## DEBUG: \n",
      "## DEBUG: \n",
      "## DEBUG: Attemping to plot... \n",
      "## DEBUG: 1. Pick input signal P(B) \n",
      "## DEBUG: 2. Find two nearest units \n",
      "## DEBUG: Two nearest points: min_dist_1: 1.5013263219866313 min_dist_2: 2.7146298081862295 \n",
      "## DEBUG: 3. Incremement Age of all edges from s_1 \n",
      "## DEBUG: 4. Add error to neuron \n",
      "## DEBUG: 5. Move s1 and neighbors towards B \n",
      "## DEBUG: 6. reset s1 and s2 age \n",
      "## DEBUG: 7. remove old edges \n",
      "## DEBUG: 8. Insert new neuron \n",
      "## DEBUG: 9. Decrease system error \n",
      "## DEBUG: \n",
      "## DEBUG: \n",
      "## DEBUG: Attemping to plot... \n"
     ]
    },
    {
     "name": "stderr",
     "output_type": "stream",
     "text": [
      " 56%|██████████████████████████████████████████████████████████████▋                                                | 565/1000 [01:13<01:08,  6.33it/s]"
     ]
    },
    {
     "name": "stdout",
     "output_type": "stream",
     "text": [
      "## DEBUG: 1. Pick input signal P(B) \n",
      "## DEBUG: 2. Find two nearest units \n",
      "## DEBUG: Two nearest points: min_dist_1: 1.037985231169301 min_dist_2: 1.0552853201539953 \n",
      "## DEBUG: 3. Incremement Age of all edges from s_1 \n",
      "## DEBUG: 4. Add error to neuron \n",
      "## DEBUG: 5. Move s1 and neighbors towards B \n",
      "## DEBUG: 6. reset s1 and s2 age \n",
      "## DEBUG: 7. remove old edges \n",
      "## DEBUG: 8. Insert new neuron \n",
      "## DEBUG: 9. Decrease system error \n",
      "## DEBUG: \n",
      "## DEBUG: \n",
      "## DEBUG: Attemping to plot... \n",
      "## DEBUG: 1. Pick input signal P(B) \n",
      "## DEBUG: 2. Find two nearest units \n",
      "## DEBUG: Two nearest points: min_dist_1: 0.192173481218002 min_dist_2: 0.42531694897039857 \n",
      "## DEBUG: 3. Incremement Age of all edges from s_1 \n",
      "## DEBUG: 4. Add error to neuron \n",
      "## DEBUG: 5. Move s1 and neighbors towards B \n",
      "## DEBUG: 6. reset s1 and s2 age \n",
      "## DEBUG: 7. remove old edges \n",
      "## DEBUG: 8. Insert new neuron \n",
      "## DEBUG: 9. Decrease system error \n",
      "## DEBUG: \n",
      "## DEBUG: \n",
      "## DEBUG: Attemping to plot... \n"
     ]
    },
    {
     "name": "stderr",
     "output_type": "stream",
     "text": [
      " 57%|██████████████████████████████████████████████████████████████▉                                                | 567/1000 [01:13<01:07,  6.40it/s]"
     ]
    },
    {
     "name": "stdout",
     "output_type": "stream",
     "text": [
      "## DEBUG: 1. Pick input signal P(B) \n",
      "## DEBUG: 2. Find two nearest units \n",
      "## DEBUG: Two nearest points: min_dist_1: 1.1373284697522494 min_dist_2: 1.9470443588322124 \n",
      "## DEBUG: 3. Incremement Age of all edges from s_1 \n",
      "## DEBUG: 4. Add error to neuron \n",
      "## DEBUG: 5. Move s1 and neighbors towards B \n",
      "## DEBUG: 6. reset s1 and s2 age \n",
      "## DEBUG: 7. remove old edges \n",
      "## DEBUG: 8. Insert new neuron \n",
      "## DEBUG: 9. Decrease system error \n",
      "## DEBUG: \n",
      "## DEBUG: \n",
      "## DEBUG: Attemping to plot... \n",
      "## DEBUG: 1. Pick input signal P(B) \n",
      "## DEBUG: 2. Find two nearest units \n",
      "## DEBUG: Two nearest points: min_dist_1: 0.48637801050311213 min_dist_2: 0.4910497128742944 \n",
      "## DEBUG: 3. Incremement Age of all edges from s_1 \n",
      "## DEBUG: 4. Add error to neuron \n",
      "## DEBUG: 5. Move s1 and neighbors towards B \n",
      "## DEBUG: 6. reset s1 and s2 age \n",
      "## DEBUG: 7. remove old edges \n",
      "## DEBUG: 8. Insert new neuron \n",
      "## DEBUG: 9. Decrease system error \n",
      "## DEBUG: \n",
      "## DEBUG: \n",
      "## DEBUG: Attemping to plot... \n"
     ]
    },
    {
     "name": "stderr",
     "output_type": "stream",
     "text": [
      "\r",
      " 57%|███████████████████████████████████████████████████████████████                                                | 568/1000 [01:14<01:07,  6.40it/s]"
     ]
    },
    {
     "name": "stdout",
     "output_type": "stream",
     "text": [
      "## DEBUG: 1. Pick input signal P(B) \n",
      "## DEBUG: 2. Find two nearest units \n",
      "## DEBUG: Two nearest points: min_dist_1: 0.2984920578502268 min_dist_2: 0.6457224788631568 \n",
      "## DEBUG: 3. Incremement Age of all edges from s_1 \n",
      "## DEBUG: 4. Add error to neuron \n",
      "## DEBUG: 5. Move s1 and neighbors towards B \n",
      "## DEBUG: 6. reset s1 and s2 age \n",
      "## DEBUG: 7. remove old edges \n",
      "## DEBUG: 8. Insert new neuron \n",
      "## DEBUG: 9. Decrease system error \n",
      "## DEBUG: \n",
      "## DEBUG: \n",
      "## DEBUG: Attemping to plot... \n"
     ]
    },
    {
     "name": "stderr",
     "output_type": "stream",
     "text": [
      " 57%|███████████████████████████████████████████████████████████████▎                                               | 570/1000 [01:17<05:21,  1.34it/s]"
     ]
    },
    {
     "name": "stdout",
     "output_type": "stream",
     "text": [
      "## DEBUG: 1. Pick input signal P(B) \n",
      "## DEBUG: 2. Find two nearest units \n",
      "## DEBUG: Two nearest points: min_dist_1: 3.2336883786121597 min_dist_2: 3.3307703794794583 \n",
      "## DEBUG: 3. Incremement Age of all edges from s_1 \n",
      "## DEBUG: 4. Add error to neuron \n",
      "## DEBUG: 5. Move s1 and neighbors towards B \n",
      "## DEBUG: 6. reset s1 and s2 age \n",
      "## DEBUG: 7. remove old edges \n",
      "## DEBUG: 8. Insert new neuron \n",
      "## DEBUG: 9. Decrease system error \n",
      "## DEBUG: \n",
      "## DEBUG: \n",
      "## DEBUG: Attemping to plot... \n",
      "## DEBUG: 1. Pick input signal P(B) \n",
      "## DEBUG: 2. Find two nearest units \n",
      "## DEBUG: Two nearest points: min_dist_1: 0.4990030769306347 min_dist_2: 1.2090310785030887 \n",
      "## DEBUG: 3. Incremement Age of all edges from s_1 \n",
      "## DEBUG: 4. Add error to neuron \n",
      "## DEBUG: 5. Move s1 and neighbors towards B \n",
      "## DEBUG: 6. reset s1 and s2 age \n",
      "## DEBUG: 7. remove old edges \n",
      "## DEBUG: 8. Insert new neuron \n",
      "## DEBUG: 9. Decrease system error \n",
      "## DEBUG: \n",
      "## DEBUG: \n",
      "## DEBUG: Attemping to plot... \n"
     ]
    },
    {
     "name": "stderr",
     "output_type": "stream",
     "text": [
      " 57%|███████████████████████████████████████████████████████████████▍                                               | 572/1000 [01:17<03:10,  2.25it/s]"
     ]
    },
    {
     "name": "stdout",
     "output_type": "stream",
     "text": [
      "## DEBUG: 1. Pick input signal P(B) \n",
      "## DEBUG: 2. Find two nearest units \n",
      "## DEBUG: Two nearest points: min_dist_1: 0.8073993905608301 min_dist_2: 1.1100270028016497 \n",
      "## DEBUG: 3. Incremement Age of all edges from s_1 \n",
      "## DEBUG: 4. Add error to neuron \n",
      "## DEBUG: 5. Move s1 and neighbors towards B \n",
      "## DEBUG: 6. reset s1 and s2 age \n",
      "## DEBUG: 7. remove old edges \n",
      "## DEBUG: 8. Insert new neuron \n",
      "## DEBUG: 9. Decrease system error \n",
      "## DEBUG: \n",
      "## DEBUG: \n",
      "## DEBUG: Attemping to plot... \n",
      "## DEBUG: 1. Pick input signal P(B) \n",
      "## DEBUG: 2. Find two nearest units \n",
      "## DEBUG: Two nearest points: min_dist_1: 2.2385855851334058 min_dist_2: 2.245519810207773 \n",
      "## DEBUG: 3. Incremement Age of all edges from s_1 \n",
      "## DEBUG: 4. Add error to neuron \n",
      "## DEBUG: 5. Move s1 and neighbors towards B \n",
      "## DEBUG: 6. reset s1 and s2 age \n",
      "## DEBUG: 7. remove old edges \n",
      "## DEBUG: 8. Insert new neuron \n",
      "## DEBUG: 9. Decrease system error \n",
      "## DEBUG: \n",
      "## DEBUG: \n",
      "## DEBUG: Attemping to plot... \n"
     ]
    },
    {
     "name": "stderr",
     "output_type": "stream",
     "text": [
      " 57%|███████████████████████████████████████████████████████████████▋                                               | 574/1000 [01:17<02:06,  3.37it/s]"
     ]
    },
    {
     "name": "stdout",
     "output_type": "stream",
     "text": [
      "## DEBUG: 1. Pick input signal P(B) \n",
      "## DEBUG: 2. Find two nearest units \n",
      "## DEBUG: Two nearest points: min_dist_1: 1.7719715871491213 min_dist_2: 2.310992781450329 \n",
      "## DEBUG: 3. Incremement Age of all edges from s_1 \n",
      "## DEBUG: 4. Add error to neuron \n",
      "## DEBUG: 5. Move s1 and neighbors towards B \n",
      "## DEBUG: 6. reset s1 and s2 age \n",
      "## DEBUG: 7. remove old edges \n",
      "## DEBUG: 8. Insert new neuron \n",
      "## DEBUG: 9. Decrease system error \n",
      "## DEBUG: \n",
      "## DEBUG: \n",
      "## DEBUG: Attemping to plot... \n",
      "## DEBUG: 1. Pick input signal P(B) \n",
      "## DEBUG: 2. Find two nearest units \n",
      "## DEBUG: Two nearest points: min_dist_1: 0.4812643784473562 min_dist_2: 0.95027778887933 \n",
      "## DEBUG: 3. Incremement Age of all edges from s_1 \n",
      "## DEBUG: 4. Add error to neuron \n",
      "## DEBUG: 5. Move s1 and neighbors towards B \n",
      "## DEBUG: 6. reset s1 and s2 age \n",
      "## DEBUG: 7. remove old edges \n",
      "## DEBUG: 8. Insert new neuron \n",
      "## DEBUG: 9. Decrease system error \n",
      "## DEBUG: \n",
      "## DEBUG: \n",
      "## DEBUG: Attemping to plot... \n"
     ]
    },
    {
     "name": "stderr",
     "output_type": "stream",
     "text": [
      " 58%|███████████████████████████████████████████████████████████████▉                                               | 576/1000 [01:18<01:35,  4.44it/s]"
     ]
    },
    {
     "name": "stdout",
     "output_type": "stream",
     "text": [
      "## DEBUG: 1. Pick input signal P(B) \n",
      "## DEBUG: 2. Find two nearest units \n",
      "## DEBUG: Two nearest points: min_dist_1: 0.5904955410947326 min_dist_2: 0.718340667427694 \n",
      "## DEBUG: 3. Incremement Age of all edges from s_1 \n",
      "## DEBUG: 4. Add error to neuron \n",
      "## DEBUG: 5. Move s1 and neighbors towards B \n",
      "## DEBUG: 6. reset s1 and s2 age \n",
      "## DEBUG: 7. remove old edges \n",
      "## DEBUG: 8. Insert new neuron \n",
      "## DEBUG: 9. Decrease system error \n",
      "## DEBUG: \n",
      "## DEBUG: \n",
      "## DEBUG: Attemping to plot... \n",
      "## DEBUG: 1. Pick input signal P(B) \n",
      "## DEBUG: 2. Find two nearest units \n",
      "## DEBUG: Two nearest points: min_dist_1: 0.6083559478710483 min_dist_2: 0.9746981005511387 \n",
      "## DEBUG: 3. Incremement Age of all edges from s_1 \n",
      "## DEBUG: 4. Add error to neuron \n",
      "## DEBUG: 5. Move s1 and neighbors towards B \n",
      "## DEBUG: 6. reset s1 and s2 age \n",
      "## DEBUG: 7. remove old edges \n",
      "## DEBUG: 8. Insert new neuron \n",
      "## DEBUG: 9. Decrease system error \n",
      "## DEBUG: \n",
      "## DEBUG: \n",
      "## DEBUG: Attemping to plot... \n"
     ]
    },
    {
     "name": "stderr",
     "output_type": "stream",
     "text": [
      " 58%|████████████████████████████████████████████████████████████████▏                                              | 578/1000 [01:18<01:20,  5.25it/s]"
     ]
    },
    {
     "name": "stdout",
     "output_type": "stream",
     "text": [
      "## DEBUG: 1. Pick input signal P(B) \n",
      "## DEBUG: 2. Find two nearest units \n",
      "## DEBUG: Two nearest points: min_dist_1: 0.5314459869852596 min_dist_2: 0.718340667427694 \n",
      "## DEBUG: 3. Incremement Age of all edges from s_1 \n",
      "## DEBUG: 4. Add error to neuron \n",
      "## DEBUG: 5. Move s1 and neighbors towards B \n",
      "## DEBUG: 6. reset s1 and s2 age \n",
      "## DEBUG: 7. remove old edges \n",
      "## DEBUG: 8. Insert new neuron \n",
      "## DEBUG: 9. Decrease system error \n",
      "## DEBUG: \n",
      "## DEBUG: \n",
      "## DEBUG: Attemping to plot... \n",
      "## DEBUG: 1. Pick input signal P(B) \n",
      "## DEBUG: 2. Find two nearest units \n",
      "## DEBUG: Two nearest points: min_dist_1: 0.19644056192506237 min_dist_2: 1.031305810767672 \n",
      "## DEBUG: 3. Incremement Age of all edges from s_1 \n",
      "## DEBUG: 4. Add error to neuron \n",
      "## DEBUG: 5. Move s1 and neighbors towards B \n",
      "## DEBUG: 6. reset s1 and s2 age \n",
      "## DEBUG: 7. remove old edges \n",
      "## DEBUG: 8. Insert new neuron \n",
      "## DEBUG: 9. Decrease system error \n",
      "## DEBUG: \n",
      "## DEBUG: \n",
      "## DEBUG: Attemping to plot... \n"
     ]
    },
    {
     "name": "stderr",
     "output_type": "stream",
     "text": [
      " 58%|████████████████████████████████████████████████████████████████▍                                              | 580/1000 [01:18<01:12,  5.77it/s]"
     ]
    },
    {
     "name": "stdout",
     "output_type": "stream",
     "text": [
      "## DEBUG: 1. Pick input signal P(B) \n",
      "## DEBUG: 2. Find two nearest units \n",
      "## DEBUG: Two nearest points: min_dist_1: 2.2721492727958648 min_dist_2: 2.634718520372082 \n",
      "## DEBUG: 3. Incremement Age of all edges from s_1 \n",
      "## DEBUG: 4. Add error to neuron \n",
      "## DEBUG: 5. Move s1 and neighbors towards B \n",
      "## DEBUG: 6. reset s1 and s2 age \n",
      "## DEBUG: 7. remove old edges \n",
      "## DEBUG: 8. Insert new neuron \n",
      "## DEBUG: 9. Decrease system error \n",
      "## DEBUG: \n",
      "## DEBUG: \n",
      "## DEBUG: Attemping to plot... \n",
      "## DEBUG: 1. Pick input signal P(B) \n",
      "## DEBUG: 2. Find two nearest units \n",
      "## DEBUG: Two nearest points: min_dist_1: 0.6158579135124413 min_dist_2: 1.052677252233012 \n",
      "## DEBUG: 3. Incremement Age of all edges from s_1 \n",
      "## DEBUG: 4. Add error to neuron \n",
      "## DEBUG: 5. Move s1 and neighbors towards B \n",
      "## DEBUG: 6. reset s1 and s2 age \n",
      "## DEBUG: 7. remove old edges \n",
      "## DEBUG: 8. Insert new neuron \n",
      "## DEBUG: 9. Decrease system error \n",
      "## DEBUG: \n",
      "## DEBUG: \n",
      "## DEBUG: Attemping to plot... \n"
     ]
    },
    {
     "name": "stderr",
     "output_type": "stream",
     "text": [
      " 58%|████████████████████████████████████████████████████████████████▌                                              | 582/1000 [01:19<01:10,  5.95it/s]"
     ]
    },
    {
     "name": "stdout",
     "output_type": "stream",
     "text": [
      "## DEBUG: 1. Pick input signal P(B) \n",
      "## DEBUG: 2. Find two nearest units \n",
      "## DEBUG: Two nearest points: min_dist_1: 1.786209546789253 min_dist_2: 1.9748761768182683 \n",
      "## DEBUG: 3. Incremement Age of all edges from s_1 \n",
      "## DEBUG: 4. Add error to neuron \n",
      "## DEBUG: 5. Move s1 and neighbors towards B \n",
      "## DEBUG: 6. reset s1 and s2 age \n",
      "## DEBUG: 7. remove old edges \n",
      "## DEBUG: 8. Insert new neuron \n",
      "## DEBUG: 9. Decrease system error \n",
      "## DEBUG: \n",
      "## DEBUG: \n",
      "## DEBUG: Attemping to plot... \n",
      "## DEBUG: 1. Pick input signal P(B) \n",
      "## DEBUG: 2. Find two nearest units \n",
      "## DEBUG: Two nearest points: min_dist_1: 0.5339862003942053 min_dist_2: 0.6143213800592422 \n",
      "## DEBUG: 3. Incremement Age of all edges from s_1 \n",
      "## DEBUG: 4. Add error to neuron \n",
      "## DEBUG: 5. Move s1 and neighbors towards B \n",
      "## DEBUG: 6. reset s1 and s2 age \n",
      "## DEBUG: 7. remove old edges \n",
      "## DEBUG: 8. Insert new neuron \n",
      "## DEBUG: 9. Decrease system error \n",
      "## DEBUG: \n",
      "## DEBUG: \n",
      "## DEBUG: Attemping to plot... \n"
     ]
    },
    {
     "name": "stderr",
     "output_type": "stream",
     "text": [
      " 58%|████████████████████████████████████████████████████████████████▊                                              | 584/1000 [01:19<01:07,  6.15it/s]"
     ]
    },
    {
     "name": "stdout",
     "output_type": "stream",
     "text": [
      "## DEBUG: 1. Pick input signal P(B) \n",
      "## DEBUG: 2. Find two nearest units \n",
      "## DEBUG: Two nearest points: min_dist_1: 1.9223856700424347 min_dist_2: 1.932869247282846 \n",
      "## DEBUG: 3. Incremement Age of all edges from s_1 \n",
      "## DEBUG: 4. Add error to neuron \n",
      "## DEBUG: 5. Move s1 and neighbors towards B \n",
      "## DEBUG: 6. reset s1 and s2 age \n",
      "## DEBUG: 7. remove old edges \n",
      "## DEBUG: 8. Insert new neuron \n",
      "## DEBUG: 9. Decrease system error \n",
      "## DEBUG: \n",
      "## DEBUG: \n",
      "## DEBUG: Attemping to plot... \n",
      "## DEBUG: 1. Pick input signal P(B) \n",
      "## DEBUG: 2. Find two nearest units \n",
      "## DEBUG: Two nearest points: min_dist_1: 2.2393852610828544 min_dist_2: 3.013420117470065 \n",
      "## DEBUG: 3. Incremement Age of all edges from s_1 \n",
      "## DEBUG: 4. Add error to neuron \n",
      "## DEBUG: 5. Move s1 and neighbors towards B \n",
      "## DEBUG: 6. reset s1 and s2 age \n",
      "## DEBUG: 7. remove old edges \n",
      "## DEBUG: 8. Insert new neuron \n",
      "## DEBUG: 9. Decrease system error \n",
      "## DEBUG: \n",
      "## DEBUG: \n",
      "## DEBUG: Attemping to plot... \n"
     ]
    },
    {
     "name": "stderr",
     "output_type": "stream",
     "text": [
      " 59%|█████████████████████████████████████████████████████████████████                                              | 586/1000 [01:19<01:07,  6.15it/s]"
     ]
    },
    {
     "name": "stdout",
     "output_type": "stream",
     "text": [
      "## DEBUG: 1. Pick input signal P(B) \n",
      "## DEBUG: 2. Find two nearest units \n",
      "## DEBUG: Two nearest points: min_dist_1: 1.2416277137850253 min_dist_2: 1.4555188607210832 \n",
      "## DEBUG: 3. Incremement Age of all edges from s_1 \n",
      "## DEBUG: 4. Add error to neuron \n",
      "## DEBUG: 5. Move s1 and neighbors towards B \n",
      "## DEBUG: 6. reset s1 and s2 age \n",
      "## DEBUG: 7. remove old edges \n",
      "## DEBUG: 8. Insert new neuron \n",
      "## DEBUG: 9. Decrease system error \n",
      "## DEBUG: \n",
      "## DEBUG: \n",
      "## DEBUG: Attemping to plot... \n",
      "## DEBUG: 1. Pick input signal P(B) \n",
      "## DEBUG: 2. Find two nearest units \n",
      "## DEBUG: Two nearest points: min_dist_1: 1.3250686344889742 min_dist_2: 1.8611006269890036 \n",
      "## DEBUG: 3. Incremement Age of all edges from s_1 \n",
      "## DEBUG: 4. Add error to neuron \n",
      "## DEBUG: 5. Move s1 and neighbors towards B \n",
      "## DEBUG: 6. reset s1 and s2 age \n",
      "## DEBUG: 7. remove old edges \n",
      "## DEBUG: 8. Insert new neuron \n",
      "## DEBUG: 9. Decrease system error \n",
      "## DEBUG: \n",
      "## DEBUG: \n",
      "## DEBUG: Attemping to plot... \n"
     ]
    },
    {
     "name": "stderr",
     "output_type": "stream",
     "text": [
      " 59%|█████████████████████████████████████████████████████████████████▎                                             | 588/1000 [01:20<01:06,  6.16it/s]"
     ]
    },
    {
     "name": "stdout",
     "output_type": "stream",
     "text": [
      "## DEBUG: 1. Pick input signal P(B) \n",
      "## DEBUG: 2. Find two nearest units \n",
      "## DEBUG: Two nearest points: min_dist_1: 1.2284607934645408 min_dist_2: 1.5378810341487397 \n",
      "## DEBUG: 3. Incremement Age of all edges from s_1 \n",
      "## DEBUG: 4. Add error to neuron \n",
      "## DEBUG: 5. Move s1 and neighbors towards B \n",
      "## DEBUG: 6. reset s1 and s2 age \n",
      "## DEBUG: 7. remove old edges \n",
      "## DEBUG: 8. Insert new neuron \n",
      "## DEBUG: 9. Decrease system error \n",
      "## DEBUG: \n",
      "## DEBUG: \n",
      "## DEBUG: Attemping to plot... \n",
      "## DEBUG: 1. Pick input signal P(B) \n",
      "## DEBUG: 2. Find two nearest units \n",
      "## DEBUG: Two nearest points: min_dist_1: 0.25674299412778157 min_dist_2: 0.5727938778930567 \n",
      "## DEBUG: 3. Incremement Age of all edges from s_1 \n",
      "## DEBUG: 4. Add error to neuron \n",
      "## DEBUG: 5. Move s1 and neighbors towards B \n",
      "## DEBUG: 6. reset s1 and s2 age \n",
      "## DEBUG: 7. remove old edges \n",
      "## DEBUG: 8. Insert new neuron \n",
      "## DEBUG: 9. Decrease system error \n",
      "## DEBUG: \n",
      "## DEBUG: \n",
      "## DEBUG: Attemping to plot... \n"
     ]
    },
    {
     "name": "stderr",
     "output_type": "stream",
     "text": [
      " 59%|█████████████████████████████████████████████████████████████████▍                                             | 590/1000 [01:20<01:06,  6.18it/s]"
     ]
    },
    {
     "name": "stdout",
     "output_type": "stream",
     "text": [
      "## DEBUG: 1. Pick input signal P(B) \n",
      "## DEBUG: 2. Find two nearest units \n",
      "## DEBUG: Two nearest points: min_dist_1: 0.6317412703527977 min_dist_2: 0.7442927150267931 \n",
      "## DEBUG: 3. Incremement Age of all edges from s_1 \n",
      "## DEBUG: 4. Add error to neuron \n",
      "## DEBUG: 5. Move s1 and neighbors towards B \n",
      "## DEBUG: 6. reset s1 and s2 age \n",
      "## DEBUG: 7. remove old edges \n",
      "## DEBUG: 8. Insert new neuron \n",
      "## DEBUG: 9. Decrease system error \n",
      "## DEBUG: \n",
      "## DEBUG: \n",
      "## DEBUG: Attemping to plot... \n",
      "## DEBUG: 1. Pick input signal P(B) \n",
      "## DEBUG: 2. Find two nearest units \n",
      "## DEBUG: Two nearest points: min_dist_1: 0.19561401651331048 min_dist_2: 1.696392310124999 \n",
      "## DEBUG: 3. Incremement Age of all edges from s_1 \n",
      "## DEBUG: 4. Add error to neuron \n",
      "## DEBUG: 5. Move s1 and neighbors towards B \n",
      "## DEBUG: 6. reset s1 and s2 age \n",
      "## DEBUG: 7. remove old edges \n",
      "## DEBUG: 8. Insert new neuron \n",
      "## DEBUG: 9. Decrease system error \n",
      "## DEBUG: \n",
      "## DEBUG: \n",
      "## DEBUG: Attemping to plot... \n"
     ]
    },
    {
     "name": "stderr",
     "output_type": "stream",
     "text": [
      " 59%|█████████████████████████████████████████████████████████████████▋                                             | 592/1000 [01:20<01:09,  5.84it/s]"
     ]
    },
    {
     "name": "stdout",
     "output_type": "stream",
     "text": [
      "## DEBUG: 1. Pick input signal P(B) \n",
      "## DEBUG: 2. Find two nearest units \n",
      "## DEBUG: Two nearest points: min_dist_1: 0.5165414488994127 min_dist_2: 0.8322470773047601 \n",
      "## DEBUG: 3. Incremement Age of all edges from s_1 \n",
      "## DEBUG: 4. Add error to neuron \n",
      "## DEBUG: 5. Move s1 and neighbors towards B \n",
      "## DEBUG: 6. reset s1 and s2 age \n",
      "## DEBUG: 7. remove old edges \n",
      "## DEBUG: 8. Insert new neuron \n",
      "## DEBUG: 9. Decrease system error \n",
      "## DEBUG: \n",
      "## DEBUG: \n",
      "## DEBUG: Attemping to plot... \n",
      "## DEBUG: 1. Pick input signal P(B) \n",
      "## DEBUG: 2. Find two nearest units \n",
      "## DEBUG: Two nearest points: min_dist_1: 2.081222471276979 min_dist_2: 2.7146435737039023 \n",
      "## DEBUG: 3. Incremement Age of all edges from s_1 \n",
      "## DEBUG: 4. Add error to neuron \n",
      "## DEBUG: 5. Move s1 and neighbors towards B \n",
      "## DEBUG: 6. reset s1 and s2 age \n",
      "## DEBUG: 7. remove old edges \n",
      "## DEBUG:"
     ]
    },
    {
     "name": "stderr",
     "output_type": "stream",
     "text": [
      "\r",
      " 59%|█████████████████████████████████████████████████████████████████▊                                             | 593/1000 [01:20<01:08,  5.98it/s]"
     ]
    },
    {
     "name": "stdout",
     "output_type": "stream",
     "text": [
      " 8. Insert new neuron \n",
      "## DEBUG: 9. Decrease system error \n",
      "## DEBUG: \n",
      "## DEBUG: \n",
      "## DEBUG: Attemping to plot... \n",
      "## DEBUG: 1. Pick input signal P(B) \n",
      "## DEBUG: 2. Find two nearest units \n",
      "## DEBUG: Two nearest points: min_dist_1: 1.026375009605695 min_dist_2: 1.4374764847837551 \n",
      "## DEBUG: 3. Incremement Age of all edges from s_1 \n",
      "## DEBUG: 4. Add error to neuron \n",
      "## DEBUG: 5. Move s1 and neighbors towards B \n",
      "## DEBUG: 6. reset s1 and s2 age \n",
      "## DEBUG: 7. remove old edges \n",
      "## DEBUG: 8. Insert new neuron \n",
      "## DEBUG: 9. Decrease system error \n",
      "## DEBUG: \n",
      "## DEBUG: \n",
      "## DEBUG: Attemping to plot... \n"
     ]
    },
    {
     "name": "stderr",
     "output_type": "stream",
     "text": [
      " 60%|██████████████████████████████████████████████████████████████████                                             | 595/1000 [01:21<01:05,  6.15it/s]"
     ]
    },
    {
     "name": "stdout",
     "output_type": "stream",
     "text": [
      "## DEBUG: 1. Pick input signal P(B) \n",
      "## DEBUG: 2. Find two nearest units \n",
      "## DEBUG: Two nearest points: min_dist_1: 3.2067303387201465 min_dist_2: 3.5125445002035036 \n",
      "## DEBUG: 3. Incremement Age of all edges from s_1 \n",
      "## DEBUG: 4. Add error to neuron \n",
      "## DEBUG: 5. Move s1 and neighbors towards B \n",
      "## DEBUG: 6. reset s1 and s2 age \n",
      "## DEBUG: 7. remove old edges \n",
      "## DEBUG: 8. Insert new neuron \n",
      "## DEBUG: 9. Decrease system error \n",
      "## DEBUG: \n",
      "## DEBUG: \n",
      "## DEBUG: Attemping to plot... \n",
      "## DEBUG: 1. Pick input signal P(B) \n",
      "## DEBUG: 2. Find two nearest units \n",
      "## DEBUG: Two nearest points: min_dist_1: 0.9532312358973267 min_dist_2: 1.1439589743082133 \n",
      "## DEBUG: 3. Incremement Age of all edges from s_1 \n",
      "## DEBUG: 4. Add error to neuron \n",
      "## DEBUG: 5. Move s1 and neighbors towards B \n",
      "## DEBUG: 6. reset s1 and s2 age \n",
      "## DEBUG: 7. remove old edges \n",
      "## DEBUG: 8. Insert new neuron \n",
      "## DEBUG: 9. Decrease system error \n",
      "## DEBUG: \n",
      "## DEBUG: \n",
      "## DEBUG: Attemping to plot... \n"
     ]
    },
    {
     "name": "stderr",
     "output_type": "stream",
     "text": [
      " 60%|██████████████████████████████████████████████████████████████████▎                                            | 597/1000 [01:21<01:05,  6.15it/s]"
     ]
    },
    {
     "name": "stdout",
     "output_type": "stream",
     "text": [
      "## DEBUG: 1. Pick input signal P(B) \n",
      "## DEBUG: 2. Find two nearest units \n",
      "## DEBUG: Two nearest points: min_dist_1: 0.8132087613404407 min_dist_2: 1.5430421685767761 \n",
      "## DEBUG: 3. Incremement Age of all edges from s_1 \n",
      "## DEBUG: 4. Add error to neuron \n",
      "## DEBUG: 5. Move s1 and neighbors towards B \n",
      "## DEBUG: 6. reset s1 and s2 age \n",
      "## DEBUG: 7. remove old edges \n",
      "## DEBUG: 8. Insert new neuron \n",
      "## DEBUG: 9. Decrease system error \n",
      "## DEBUG: \n",
      "## DEBUG: \n",
      "## DEBUG: Attemping to plot... \n",
      "## DEBUG: 1. Pick input signal P(B) \n",
      "## DEBUG: 2. Find two nearest units \n",
      "## DEBUG: Two nearest points: min_dist_1: 1.1840949049107476 min_dist_2: 1.8051677148421494 \n",
      "## DEBUG: 3. Incremement Age of all edges from s_1 \n",
      "## DEBUG: 4. Add error to neuron \n",
      "## DEBUG: 5. Move s1 and neighbors towards B \n",
      "## DEBUG: 6. reset s1 and s2 age \n",
      "## DEBUG: 7. remove old edges \n",
      "## DEBUG: 8. Insert new neuron \n",
      "## DEBUG: 9. Decrease system error \n",
      "## DEBUG: \n",
      "## DEBUG: \n",
      "## DEBUG: Attemping to plot... \n"
     ]
    },
    {
     "name": "stderr",
     "output_type": "stream",
     "text": [
      " 60%|██████████████████████████████████████████████████████████████████▍                                            | 599/1000 [01:21<01:05,  6.15it/s]"
     ]
    },
    {
     "name": "stdout",
     "output_type": "stream",
     "text": [
      "## DEBUG: 1. Pick input signal P(B) \n",
      "## DEBUG: 2. Find two nearest units \n",
      "## DEBUG: Two nearest points: min_dist_1: 0.8999677129337785 min_dist_2: 1.0187584317459508 \n",
      "## DEBUG: 3. Incremement Age of all edges from s_1 \n",
      "## DEBUG: 4. Add error to neuron \n",
      "## DEBUG: 5. Move s1 and neighbors towards B \n",
      "## DEBUG: 6. reset s1 and s2 age \n",
      "## DEBUG: 7. remove old edges \n",
      "## DEBUG: 8. Insert new neuron \n",
      "## DEBUG: 9. Decrease system error \n",
      "## DEBUG: \n",
      "## DEBUG: \n",
      "## DEBUG: Attemping to plot... \n",
      "## DEBUG: 1. Pick input signal P(B) \n",
      "## DEBUG: 2. Find two nearest units \n",
      "## DEBUG: Two nearest points: min_dist_1: 1.2428350580488705 min_dist_2: 2.676147680218662 \n",
      "## DEBUG: 3. Incremement Age of all edges from s_1 \n",
      "## DEBUG: 4. Add error to neuron \n",
      "## DEBUG: 5. Move s1 and neighbors towards B \n",
      "## DEBUG: 6. reset s1 and s2 age \n",
      "## DEBUG: 7. remove old edges \n",
      "## DEBUG: 8. Insert new neuron \n",
      "## DEBUG: 9. Decrease system error \n",
      "## DEBUG: \n",
      "## DEBUG: \n",
      "## DEBUG: Attemping to plot... \n"
     ]
    },
    {
     "name": "stderr",
     "output_type": "stream",
     "text": [
      " 60%|██████████████████████████████████████████████████████████████████▋                                            | 601/1000 [01:22<01:04,  6.20it/s]"
     ]
    },
    {
     "name": "stdout",
     "output_type": "stream",
     "text": [
      "## DEBUG: 1. Pick input signal P(B) \n",
      "## DEBUG: 2. Find two nearest units \n",
      "## DEBUG: Two nearest points: min_dist_1: 1.4971747332296292 min_dist_2: 2.44388876829985 \n",
      "## DEBUG: 3. Incremement Age of all edges from s_1 \n",
      "## DEBUG: 4. Add error to neuron \n",
      "## DEBUG: 5. Move s1 and neighbors towards B \n",
      "## DEBUG: 6. reset s1 and s2 age \n",
      "## DEBUG: 7. remove old edges \n",
      "## DEBUG: 8. Insert new neuron \n",
      "## DEBUG: 9. Decrease system error \n",
      "## DEBUG: \n",
      "## DEBUG: \n",
      "## DEBUG: Attemping to plot... \n",
      "## DEBUG: 1. Pick input signal P(B) \n",
      "## DEBUG: 2. Find two nearest units \n",
      "## DEBUG: Two nearest points: min_dist_1: 0.26679242162639594 min_dist_2: 0.6995599973175454 \n",
      "## DEBUG: 3. Incremement Age of all edges from s_1 \n",
      "## DEBUG: 4. Add error to neuron \n",
      "## DEBUG: 5. Move s1 and neighbors towards B \n",
      "## DEBUG: 6. reset s1 and s2 age \n",
      "## DEBUG: 7. remove old edges \n",
      "## DEBUG: 8. Insert new neuron \n",
      "## DEBUG: 9. Decrease system error \n",
      "## DEBUG: \n",
      "## DEBUG: \n",
      "## DEBUG: Attemping to plot... \n"
     ]
    },
    {
     "name": "stderr",
     "output_type": "stream",
     "text": [
      " 60%|██████████████████████████████████████████████████████████████████▉                                            | 603/1000 [01:22<01:03,  6.21it/s]"
     ]
    },
    {
     "name": "stdout",
     "output_type": "stream",
     "text": [
      "## DEBUG: 1. Pick input signal P(B) \n",
      "## DEBUG: 2. Find two nearest units \n",
      "## DEBUG: Two nearest points: min_dist_1: 0.22515330411918305 min_dist_2: 1.224950569052627 \n",
      "## DEBUG: 3. Incremement Age of all edges from s_1 \n",
      "## DEBUG: 4. Add error to neuron \n",
      "## DEBUG: 5. Move s1 and neighbors towards B \n",
      "## DEBUG: 6. reset s1 and s2 age \n",
      "## DEBUG: 7. remove old edges \n",
      "## DEBUG: 8. Insert new neuron \n",
      "## DEBUG: 9. Decrease system error \n",
      "## DEBUG: \n",
      "## DEBUG: \n",
      "## DEBUG: Attemping to plot... \n",
      "## DEBUG: 1. Pick input signal P(B) \n",
      "## DEBUG: 2. Find two nearest units \n",
      "## DEBUG: Two nearest points: min_dist_1: 1.3343401648282114 min_dist_2: 1.3435208954398172 \n",
      "## DEBUG: 3. Incremement Age of all edges from s_1 \n",
      "## DEBUG: 4. Add error to neuron \n",
      "## DEBUG: 5. Move s1 and neighbors towards B \n",
      "## DEBUG: 6. reset s1 and s2 age \n",
      "## DEBUG: 7. remove old edges \n",
      "## DEBUG: 8. Insert new neuron \n",
      "## DEBUG: 9. Decrease system error \n",
      "## DEBUG: \n",
      "## DEBUG: \n",
      "## DEBUG: Attemping to plot... \n"
     ]
    },
    {
     "name": "stderr",
     "output_type": "stream",
     "text": [
      " 60%|███████████████████████████████████████████████████████████████████▏                                           | 605/1000 [01:22<01:04,  6.16it/s]"
     ]
    },
    {
     "name": "stdout",
     "output_type": "stream",
     "text": [
      "## DEBUG: 1. Pick input signal P(B) \n",
      "## DEBUG: 2. Find two nearest units \n",
      "## DEBUG: Two nearest points: min_dist_1: 2.5022438601171886 min_dist_2: 3.121275463067594 \n",
      "## DEBUG: 3. Incremement Age of all edges from s_1 \n",
      "## DEBUG: 4. Add error to neuron \n",
      "## DEBUG: 5. Move s1 and neighbors towards B \n",
      "## DEBUG: 6. reset s1 and s2 age \n",
      "## DEBUG: 7. remove old edges \n",
      "## DEBUG: 8. Insert new neuron \n",
      "## DEBUG: 9. Decrease system error \n",
      "## DEBUG: \n",
      "## DEBUG: \n",
      "## DEBUG: Attemping to plot... \n",
      "## DEBUG: 1. Pick input signal P(B) \n",
      "## DEBUG: 2. Find two nearest units \n",
      "## DEBUG: Two nearest points: min_dist_1: 0.38749546039418226 min_dist_2: 1.247732918627881 \n",
      "## DEBUG: 3. Incremement Age of all edges from s_1 \n",
      "## DEBUG: 4. Add error to neuron \n",
      "## DEBUG: 5. Move s1 and neighbors towards B \n",
      "## DEBUG: 6. reset s1 and s2 age \n",
      "## DEBUG: 7. remove old edges \n",
      "## DEBUG: 8. Insert new neuron \n",
      "## DEBUG: 9. Decrease system error \n",
      "## DEBUG: \n",
      "## DEBUG: \n",
      "## DEBUG: Attemping to plot... \n"
     ]
    },
    {
     "name": "stderr",
     "output_type": "stream",
     "text": [
      " 61%|███████████████████████████████████████████████████████████████████▍                                           | 607/1000 [01:23<01:06,  5.91it/s]"
     ]
    },
    {
     "name": "stdout",
     "output_type": "stream",
     "text": [
      "## DEBUG: 1. Pick input signal P(B) \n",
      "## DEBUG: 2. Find two nearest units \n",
      "## DEBUG: Two nearest points: min_dist_1: 1.7486568459773166 min_dist_2: 2.076485722042867 \n",
      "## DEBUG: 3. Incremement Age of all edges from s_1 \n",
      "## DEBUG: 4. Add error to neuron \n",
      "## DEBUG: 5. Move s1 and neighbors towards B \n",
      "## DEBUG: 6. reset s1 and s2 age \n",
      "## DEBUG: 7. remove old edges \n",
      "## DEBUG: 8. Insert new neuron \n",
      "## DEBUG: 9. Decrease system error \n",
      "## DEBUG: \n",
      "## DEBUG: \n",
      "## DEBUG: Attemping to plot... \n",
      "## DEBUG: 1. Pick input signal P(B) \n",
      "## DEBUG: 2. Find two nearest units \n",
      "## DEBUG: Two nearest points: min_dist_1: 1.0332110874177638 min_dist_2: 2.359055678718373 \n",
      "## DEBUG: 3. Incremement Age of all edges from s_1 \n",
      "## DEBUG: 4. Add error to neuron \n",
      "## DEBUG: 5. Move s1 and neighbors towards B \n",
      "## DEBUG: 6. reset s1 and s2 age \n",
      "## DEBUG: 7. remove old edges \n",
      "## DEBUG: 8. Insert new neuron \n",
      "## DEBUG: 9. Decrease system error \n",
      "## DEBUG: \n",
      "## DEBUG: \n",
      "## DEBUG: Attemping to plot... \n"
     ]
    },
    {
     "name": "stderr",
     "output_type": "stream",
     "text": [
      " 61%|███████████████████████████████████████████████████████████████████▌                                           | 609/1000 [01:23<01:04,  6.03it/s]"
     ]
    },
    {
     "name": "stdout",
     "output_type": "stream",
     "text": [
      "## DEBUG: 1. Pick input signal P(B) \n",
      "## DEBUG: 2. Find two nearest units \n",
      "## DEBUG: Two nearest points: min_dist_1: 0.6921922269032977 min_dist_2: 2.030521838040209 \n",
      "## DEBUG: 3. Incremement Age of all edges from s_1 \n",
      "## DEBUG: 4. Add error to neuron \n",
      "## DEBUG: 5. Move s1 and neighbors towards B \n",
      "## DEBUG: 6. reset s1 and s2 age \n",
      "## DEBUG: 7. remove old edges \n",
      "## DEBUG: 8. Insert new neuron \n",
      "## DEBUG: 9. Decrease system error \n",
      "## DEBUG: \n",
      "## DEBUG: \n",
      "## DEBUG: Attemping to plot... \n",
      "## DEBUG: 1. Pick input signal P(B) \n",
      "## DEBUG: 2. Find two nearest units \n",
      "## DEBUG: Two nearest points: min_dist_1: 0.19485706686104085 min_dist_2: 0.26036205485459185 \n",
      "## DEBUG: 3. Incremement Age of all edges from s_1 \n",
      "## DEBUG: 4. Add error to neuron \n",
      "## DEBUG: 5. Move s1 and neighbors towards B \n",
      "## DEBUG: 6. reset s1 and s2 age \n",
      "## DEBUG: 7. remove old edges \n",
      "## DEBUG: 8. Insert new neuron \n",
      "## DEBUG: 9. Decrease system error \n",
      "## DEBUG: \n",
      "## DEBUG: \n",
      "## DEBUG: Attemping to plot... \n"
     ]
    },
    {
     "name": "stderr",
     "output_type": "stream",
     "text": [
      " 61%|███████████████████████████████████████████████████████████████████▊                                           | 611/1000 [01:23<01:04,  6.05it/s]"
     ]
    },
    {
     "name": "stdout",
     "output_type": "stream",
     "text": [
      "## DEBUG: 1. Pick input signal P(B) \n",
      "## DEBUG: 2. Find two nearest units \n",
      "## DEBUG: Two nearest points: min_dist_1: 1.0959812601987242 min_dist_2: 1.7993593872406612 \n",
      "## DEBUG: 3. Incremement Age of all edges from s_1 \n",
      "## DEBUG: 4. Add error to neuron \n",
      "## DEBUG: 5. Move s1 and neighbors towards B \n",
      "## DEBUG: 6. reset s1 and s2 age \n",
      "## DEBUG: 7. remove old edges \n",
      "## DEBUG: 8. Insert new neuron \n",
      "## DEBUG: 9. Decrease system error \n",
      "## DEBUG: \n",
      "## DEBUG: \n",
      "## DEBUG: Attemping to plot... \n",
      "## DEBUG: 1. Pick input signal P(B) \n",
      "## DEBUG: 2. Find two nearest units \n",
      "## DEBUG: Two nearest points: min_dist_1: 0.657414131821555 min_dist_2: 1.1676931640503805 \n",
      "## DEBUG: 3. Incremement Age of all edges from s_1 \n",
      "## DEBUG: 4. Add error to neuron \n",
      "## DEBUG: 5. Move s1 and neighbors towards B \n",
      "## DEBUG: 6. reset s1 and s2 age \n",
      "## DEBUG: 7. remove old edges \n",
      "## DEBUG: 8. Insert new neuron \n",
      "## DEBUG: 9. Decrease system error \n",
      "## DEBUG: \n",
      "## DEBUG: \n",
      "## DEBUG: Attemping to plot... \n"
     ]
    },
    {
     "name": "stderr",
     "output_type": "stream",
     "text": [
      " 61%|████████████████████████████████████████████████████████████████████                                           | 613/1000 [01:24<01:03,  6.14it/s]"
     ]
    },
    {
     "name": "stdout",
     "output_type": "stream",
     "text": [
      "## DEBUG: 1. Pick input signal P(B) \n",
      "## DEBUG: 2. Find two nearest units \n",
      "## DEBUG: Two nearest points: min_dist_1: 1.4288590786967186 min_dist_2: 1.7127253530373108 \n",
      "## DEBUG: 3. Incremement Age of all edges from s_1 \n",
      "## DEBUG: 4. Add error to neuron \n",
      "## DEBUG: 5. Move s1 and neighbors towards B \n",
      "## DEBUG: 6. reset s1 and s2 age \n",
      "## DEBUG: 7. remove old edges \n",
      "## DEBUG: 8. Insert new neuron \n",
      "## DEBUG: 9. Decrease system error \n",
      "## DEBUG: \n",
      "## DEBUG: \n",
      "## DEBUG: Attemping to plot... \n",
      "## DEBUG: 1. Pick input signal P(B) \n",
      "## DEBUG: 2. Find two nearest units \n",
      "## DEBUG: Two nearest points: min_dist_1: 0.7922155782314708 min_dist_2: 1.482331685770476 \n",
      "## DEBUG: 3. Incremement Age of all edges from s_1 \n",
      "## DEBUG: 4. Add error to neuron \n",
      "## DEBUG: 5. Move s1 and neighbors towards B \n",
      "## DEBUG: 6. reset s1 and s2 age \n",
      "## DEBUG: 7. remove old edges \n",
      "## DEBUG: 8. Insert new neuron \n",
      "## DEBUG: 9. Decrease system error \n",
      "## DEBUG: \n",
      "## DEBUG: \n",
      "## DEBUG: Attemping to plot... \n"
     ]
    },
    {
     "name": "stderr",
     "output_type": "stream",
     "text": [
      " 62%|████████████████████████████████████████████████████████████████████▎                                          | 615/1000 [01:24<01:03,  6.11it/s]"
     ]
    },
    {
     "name": "stdout",
     "output_type": "stream",
     "text": [
      "## DEBUG: 1. Pick input signal P(B) \n",
      "## DEBUG: 2. Find two nearest units \n",
      "## DEBUG: Two nearest points: min_dist_1: 1.8838734493741482 min_dist_2: 1.9587141982518665 \n",
      "## DEBUG: 3. Incremement Age of all edges from s_1 \n",
      "## DEBUG: 4. Add error to neuron \n",
      "## DEBUG: 5. Move s1 and neighbors towards B \n",
      "## DEBUG: 6. reset s1 and s2 age \n",
      "## DEBUG: 7. remove old edges \n",
      "## DEBUG: 8. Insert new neuron \n",
      "## DEBUG: 9. Decrease system error \n",
      "## DEBUG: \n",
      "## DEBUG: \n",
      "## DEBUG: Attemping to plot... \n",
      "## DEBUG: 1. Pick input signal P(B) \n",
      "## DEBUG: 2. Find two nearest units \n",
      "## DEBUG: Two nearest points: min_dist_1: 0.5413581089185393 min_dist_2: 1.8705342826148124 \n",
      "## DEBUG: 3. Incremement Age of all edges from s_1 \n",
      "## DEBUG: 4. Add error to neuron \n",
      "## DEBUG: 5. Move s1 and neighbors towards B \n",
      "## DEBUG: 6. reset s1 and s2 age \n",
      "## DEBUG: 7. remove old edges \n",
      "## DEBUG: 8. Insert new neuron \n",
      "## DEBUG: 9. Decrease system error \n",
      "## DEBUG: \n",
      "## DEBUG: \n",
      "## DEBUG: Attemping to plot... \n"
     ]
    },
    {
     "name": "stderr",
     "output_type": "stream",
     "text": [
      " 62%|████████████████████████████████████████████████████████████████████▍                                          | 617/1000 [01:24<01:02,  6.14it/s]"
     ]
    },
    {
     "name": "stdout",
     "output_type": "stream",
     "text": [
      "## DEBUG: 1. Pick input signal P(B) \n",
      "## DEBUG: 2. Find two nearest units \n",
      "## DEBUG: Two nearest points: min_dist_1: 1.3474572599066659 min_dist_2: 1.8944051466724623 \n",
      "## DEBUG: 3. Incremement Age of all edges from s_1 \n",
      "## DEBUG: 4. Add error to neuron \n",
      "## DEBUG: 5. Move s1 and neighbors towards B \n",
      "## DEBUG: 6. reset s1 and s2 age \n",
      "## DEBUG: 7. remove old edges \n",
      "## DEBUG: 8. Insert new neuron \n",
      "## DEBUG: 9. Decrease system error \n",
      "## DEBUG: \n",
      "## DEBUG: \n",
      "## DEBUG: Attemping to plot... \n",
      "## DEBUG: 1. Pick input signal P(B) \n",
      "## DEBUG: 2. Find two nearest units \n",
      "## DEBUG: Two nearest points: min_dist_1: 1.6512318553624596 min_dist_2: 2.214261112499198 \n",
      "## DEBUG: 3. Incremement Age of all edges from s_1 \n",
      "## DEBUG: 4. Add error to neuron \n",
      "## DEBUG: 5. Move s1 and neighbors towards B \n",
      "## DEBUG: 6. reset s1 and s2 age \n",
      "## DEBUG: 7. remove old edges \n",
      "## DEBUG: 8. Insert new neuron \n",
      "## DEBUG: 9. Decrease system error \n",
      "## DEBUG: \n",
      "## DEBUG: \n",
      "## DEBUG: Attemping to plot... \n"
     ]
    },
    {
     "name": "stderr",
     "output_type": "stream",
     "text": [
      " 62%|████████████████████████████████████████████████████████████████████▋                                          | 619/1000 [01:25<01:01,  6.16it/s]"
     ]
    },
    {
     "name": "stdout",
     "output_type": "stream",
     "text": [
      "## DEBUG: 1. Pick input signal P(B) \n",
      "## DEBUG: 2. Find two nearest units \n",
      "## DEBUG: Two nearest points: min_dist_1: 1.4955583723756092 min_dist_2: 2.1200941262670248 \n",
      "## DEBUG: 3. Incremement Age of all edges from s_1 \n",
      "## DEBUG: 4. Add error to neuron \n",
      "## DEBUG: 5. Move s1 and neighbors towards B \n",
      "## DEBUG: 6. reset s1 and s2 age \n",
      "## DEBUG: 7. remove old edges \n",
      "## DEBUG: 8. Insert new neuron \n",
      "## DEBUG: 9. Decrease system error \n",
      "## DEBUG: \n",
      "## DEBUG: \n",
      "## DEBUG: Attemping to plot... \n",
      "## DEBUG: 1. Pick input signal P(B) \n",
      "## DEBUG: 2. Find two nearest units \n",
      "## DEBUG: Two nearest points: min_dist_1: 1.786905447463749 min_dist_2: 1.8849754839435116 \n",
      "## DEBUG: 3. Incremement Age of all edges from s_1 \n",
      "## DEBUG: 4. Add error to neuron \n",
      "## DEBUG: 5. Move s1 and neighbors towards B \n",
      "## DEBUG: 6. reset s1 and s2 age \n",
      "## DEBUG: 7. remove old edges \n",
      "## DEBUG: 8. Insert new neuron \n",
      "## DEBUG: 9. Decrease system error \n",
      "## DEBUG: \n",
      "## DEBUG: \n",
      "## DEBUG: Attemping to plot... \n"
     ]
    },
    {
     "name": "stderr",
     "output_type": "stream",
     "text": [
      " 62%|████████████████████████████████████████████████████████████████████▉                                          | 621/1000 [01:25<01:01,  6.18it/s]"
     ]
    },
    {
     "name": "stdout",
     "output_type": "stream",
     "text": [
      "## DEBUG: 1. Pick input signal P(B) \n",
      "## DEBUG: 2. Find two nearest units \n",
      "## DEBUG: Two nearest points: min_dist_1: 1.68573934650787 min_dist_2: 2.0829286087827494 \n",
      "## DEBUG: 3. Incremement Age of all edges from s_1 \n",
      "## DEBUG: 4. Add error to neuron \n",
      "## DEBUG: 5. Move s1 and neighbors towards B \n",
      "## DEBUG: 6. reset s1 and s2 age \n",
      "## DEBUG: 7. remove old edges \n",
      "## DEBUG: 8. Insert new neuron \n",
      "## DEBUG: 9. Decrease system error \n",
      "## DEBUG: \n",
      "## DEBUG: \n",
      "## DEBUG: Attemping to plot... \n",
      "## DEBUG: 1. Pick input signal P(B) \n",
      "## DEBUG: 2. Find two nearest units \n",
      "## DEBUG: Two nearest points: min_dist_1: 1.1560697517051426 min_dist_2: 2.6029459347108777 \n",
      "## DEBUG: 3. Incremement Age of all edges from s_1 \n",
      "## DEBUG: 4. Add error to neuron \n",
      "## DEBUG: 5. Move s1 and neighbors towards B \n",
      "## DEBUG: 6. reset s1 and s2 age \n",
      "## DEBUG: 7. remove old edges \n",
      "## DEBUG: 8. Insert new neuron \n",
      "## DEBUG: 9. Decrease system error \n",
      "## DEBUG: \n",
      "## DEBUG: \n",
      "## DEBUG: Attemping to plot... \n"
     ]
    },
    {
     "name": "stderr",
     "output_type": "stream",
     "text": [
      " 62%|█████████████████████████████████████████████████████████████████████▏                                         | 623/1000 [01:25<01:01,  6.14it/s]"
     ]
    },
    {
     "name": "stdout",
     "output_type": "stream",
     "text": [
      "## DEBUG: 1. Pick input signal P(B) \n",
      "## DEBUG: 2. Find two nearest units \n",
      "## DEBUG: Two nearest points: min_dist_1: 0.5475203530839435 min_dist_2: 0.973723402450588 \n",
      "## DEBUG: 3. Incremement Age of all edges from s_1 \n",
      "## DEBUG: 4. Add error to neuron \n",
      "## DEBUG: 5. Move s1 and neighbors towards B \n",
      "## DEBUG: 6. reset s1 and s2 age \n",
      "## DEBUG: 7. remove old edges \n",
      "## DEBUG: 8. Insert new neuron \n",
      "## DEBUG: 9. Decrease system error \n",
      "## DEBUG: \n",
      "## DEBUG: \n",
      "## DEBUG: Attemping to plot... \n",
      "## DEBUG: 1. Pick input signal P(B) \n",
      "## DEBUG: 2. Find two nearest units \n",
      "## DEBUG: Two nearest points: min_dist_1: 0.3893799233880295 min_dist_2: 0.9226707031828099 \n",
      "## DEBUG: 3. Incremement Age of all edges from s_1 \n",
      "## DEBUG: 4. Add error to neuron \n",
      "## DEBUG: 5. Move s1 and neighbors towards B \n",
      "## DEBUG: 6. reset s1 and s2 age \n",
      "## DEBUG: 7. remove old edges \n",
      "## DEBUG: 8. Insert new neuron \n",
      "## DEBUG: 9. Decrease system error \n",
      "## DEBUG: \n",
      "## DEBUG: \n",
      "## DEBUG: Attemping to plot... \n"
     ]
    },
    {
     "name": "stderr",
     "output_type": "stream",
     "text": [
      " 62%|█████████████████████████████████████████████████████████████████████▍                                         | 625/1000 [01:26<01:00,  6.17it/s]"
     ]
    },
    {
     "name": "stdout",
     "output_type": "stream",
     "text": [
      "## DEBUG: 1. Pick input signal P(B) \n",
      "## DEBUG: 2. Find two nearest units \n",
      "## DEBUG: Two nearest points: min_dist_1: 0.22557038269188415 min_dist_2: 0.3460387644723023 \n",
      "## DEBUG: 3. Incremement Age of all edges from s_1 \n",
      "## DEBUG: 4. Add error to neuron \n",
      "## DEBUG: 5. Move s1 and neighbors towards B \n",
      "## DEBUG: 6. reset s1 and s2 age \n",
      "## DEBUG: 7. remove old edges \n",
      "## DEBUG: 8. Insert new neuron \n",
      "## DEBUG: 9. Decrease system error \n",
      "## DEBUG: \n",
      "## DEBUG: \n",
      "## DEBUG: Attemping to plot... \n",
      "## DEBUG: 1. Pick input signal P(B) \n",
      "## DEBUG: 2. Find two nearest units \n",
      "## DEBUG: Two nearest points: min_dist_1: 0.5621792032304818 min_dist_2: 1.101936052465577 \n",
      "## DEBUG: 3. Incremement Age of all edges from s_1 \n",
      "## DEBUG: 4. Add error to neuron \n",
      "## DEBUG: 5. Move s1 and neighbors towards B \n",
      "## DEBUG: 6. reset s1 and s2 age \n",
      "## DEBUG: 7. remove old edges \n",
      "## DEBUG: 8. Insert new neuron \n",
      "## DEBUG: 9. Decrease system error \n",
      "## DEBUG: \n",
      "## DEBUG: \n",
      "## DEBUG: Attemping to plot... \n"
     ]
    },
    {
     "name": "stderr",
     "output_type": "stream",
     "text": [
      " 63%|█████████████████████████████████████████████████████████████████████▌                                         | 627/1000 [01:26<01:00,  6.13it/s]"
     ]
    },
    {
     "name": "stdout",
     "output_type": "stream",
     "text": [
      "## DEBUG: 1. Pick input signal P(B) \n",
      "## DEBUG: 2. Find two nearest units \n",
      "## DEBUG: Two nearest points: min_dist_1: 0.5116336784143568 min_dist_2: 0.8697292602024815 \n",
      "## DEBUG: 3. Incremement Age of all edges from s_1 \n",
      "## DEBUG: 4. Add error to neuron \n",
      "## DEBUG: 5. Move s1 and neighbors towards B \n",
      "## DEBUG: 6. reset s1 and s2 age \n",
      "## DEBUG: 7. remove old edges \n",
      "## DEBUG: 8. Insert new neuron \n",
      "## DEBUG: 9. Decrease system error \n",
      "## DEBUG: \n",
      "## DEBUG: \n",
      "## DEBUG: Attemping to plot... \n",
      "## DEBUG: 1. Pick input signal P(B) \n",
      "## DEBUG: 2. Find two nearest units \n",
      "## DEBUG: Two nearest points: min_dist_1: 1.0883245202996996 min_dist_2: 1.3893629107530958 \n",
      "## DEBUG: 3. Incremement Age of all edges from s_1 \n",
      "## DEBUG: 4. Add error to neuron \n",
      "## DEBUG: 5. Move s1 and neighbors towards B \n",
      "## DEBUG: 6. reset s1 and s2 age \n",
      "## DEBUG: 7. remove old edges \n",
      "## DEBUG: 8. Insert new neuron \n",
      "## DEBUG: 9. Decrease system error \n",
      "## DEBUG: \n",
      "## DEBUG: \n",
      "## DEBUG: Attemping to plot... \n"
     ]
    },
    {
     "name": "stderr",
     "output_type": "stream",
     "text": [
      " 63%|█████████████████████████████████████████████████████████████████████▊                                         | 629/1000 [01:26<01:01,  5.99it/s]"
     ]
    },
    {
     "name": "stdout",
     "output_type": "stream",
     "text": [
      "## DEBUG: 1. Pick input signal P(B) \n",
      "## DEBUG: 2. Find two nearest units \n",
      "## DEBUG: Two nearest points: min_dist_1: 1.2527637323481449 min_dist_2: 1.6446334548613608 \n",
      "## DEBUG: 3. Incremement Age of all edges from s_1 \n",
      "## DEBUG: 4. Add error to neuron \n",
      "## DEBUG: 5. Move s1 and neighbors towards B \n",
      "## DEBUG: 6. reset s1 and s2 age \n",
      "## DEBUG: 7. remove old edges \n",
      "## DEBUG: 8. Insert new neuron \n",
      "## DEBUG: 9. Decrease system error \n",
      "## DEBUG: \n",
      "## DEBUG: \n",
      "## DEBUG: Attemping to plot... \n",
      "## DEBUG: 1. Pick input signal P(B) \n",
      "## DEBUG: 2. Find two nearest units \n",
      "## DEBUG: Two nearest points: min_dist_1: 1.9728854032507652 min_dist_2: 2.541989134710263 \n",
      "## DEBUG: 3. Incremement Age of all edges from s_1 \n",
      "## DEBUG: 4. Add error to neuron \n",
      "## DEBUG: 5. Move s1 and neighbors towards B \n",
      "## DEBUG: 6. reset s1 and s2 age \n",
      "## DEBUG: 7. remove old edges \n",
      "## DEBUG: 8. Insert new neuron \n",
      "## DEBUG: 9. Decrease system error \n",
      "## DEBUG: \n",
      "## DEBUG: \n",
      "## DEBUG: Attemping to plot... \n"
     ]
    },
    {
     "name": "stderr",
     "output_type": "stream",
     "text": [
      " 63%|██████████████████████████████████████████████████████████████████████                                         | 631/1000 [01:27<01:00,  6.07it/s]"
     ]
    },
    {
     "name": "stdout",
     "output_type": "stream",
     "text": [
      "## DEBUG: 1. Pick input signal P(B) \n",
      "## DEBUG: 2. Find two nearest units \n",
      "## DEBUG: Two nearest points: min_dist_1: 0.7318878852063969 min_dist_2: 1.5414991264081996 \n",
      "## DEBUG: 3. Incremement Age of all edges from s_1 \n",
      "## DEBUG: 4. Add error to neuron \n",
      "## DEBUG: 5. Move s1 and neighbors towards B \n",
      "## DEBUG: 6. reset s1 and s2 age \n",
      "## DEBUG: 7. remove old edges \n",
      "## DEBUG: 8. Insert new neuron \n",
      "## DEBUG: 9. Decrease system error \n",
      "## DEBUG: \n",
      "## DEBUG: \n",
      "## DEBUG: Attemping to plot... \n",
      "## DEBUG: 1. Pick input signal P(B) \n",
      "## DEBUG: 2. Find two nearest units \n",
      "## DEBUG: Two nearest points: min_dist_1: 2.0218197437380967 min_dist_2: 2.3752157564707974 \n",
      "## DEBUG: 3. Incremement Age of all edges from s_1 \n",
      "## DEBUG: 4. Add error to neuron \n",
      "## DEBUG: 5. Move s1 and neighbors towards B \n",
      "## DEBUG: 6. reset s1 and s2 age \n",
      "## DEBUG: 7. remove old edges \n",
      "## DEBUG: 8. Insert new neuron \n",
      "## DEBUG: 9. Decrease system error \n",
      "## DEBUG: \n",
      "## DEBUG: \n",
      "## DEBUG: Attemping to plot... \n"
     ]
    },
    {
     "name": "stderr",
     "output_type": "stream",
     "text": [
      " 63%|██████████████████████████████████████████████████████████████████████▎                                        | 633/1000 [01:27<01:00,  6.05it/s]"
     ]
    },
    {
     "name": "stdout",
     "output_type": "stream",
     "text": [
      "## DEBUG: 1. Pick input signal P(B) \n",
      "## DEBUG: 2. Find two nearest units \n",
      "## DEBUG: Two nearest points: min_dist_1: 0.8298598897278426 min_dist_2: 1.5899235237692966 \n",
      "## DEBUG: 3. Incremement Age of all edges from s_1 \n",
      "## DEBUG: 4. Add error to neuron \n",
      "## DEBUG: 5. Move s1 and neighbors towards B \n",
      "## DEBUG: 6. reset s1 and s2 age \n",
      "## DEBUG: 7. remove old edges \n",
      "## DEBUG: 8. Insert new neuron \n",
      "## DEBUG: 9. Decrease system error \n",
      "## DEBUG: \n",
      "## DEBUG: \n",
      "## DEBUG: Attemping to plot... \n",
      "## DEBUG: 1. Pick input signal P(B) \n",
      "## DEBUG: 2. Find two nearest units \n",
      "## DEBUG: Two nearest points: min_dist_1: 0.4309578003353078 min_dist_2: 0.6513624455038519 \n",
      "## DEBUG: 3. Incremement Age of all edges from s_1 \n",
      "## DEBUG: 4. Add error to neuron \n",
      "## DEBUG: 5. Move s1 and neighbors towards B \n",
      "## DEBUG: 6. reset s1 and s2 age \n",
      "## DEBUG: 7. remove old edges \n",
      "## DEBUG: 8. Insert new neuron \n",
      "## DEBUG: 9. Decrease system error \n",
      "## DEBUG: \n",
      "## DEBUG: \n",
      "## DEBUG: Attemping to plot... \n"
     ]
    },
    {
     "name": "stderr",
     "output_type": "stream",
     "text": [
      " 64%|██████████████████████████████████████████████████████████████████████▍                                        | 635/1000 [01:27<01:00,  6.02it/s]"
     ]
    },
    {
     "name": "stdout",
     "output_type": "stream",
     "text": [
      "## DEBUG: 1. Pick input signal P(B) \n",
      "## DEBUG: 2. Find two nearest units \n",
      "## DEBUG: Two nearest points: min_dist_1: 1.0308315534076407 min_dist_2: 1.1522640982688033 \n",
      "## DEBUG: 3. Incremement Age of all edges from s_1 \n",
      "## DEBUG: 4. Add error to neuron \n",
      "## DEBUG: 5. Move s1 and neighbors towards B \n",
      "## DEBUG: 6. reset s1 and s2 age \n",
      "## DEBUG: 7. remove old edges \n",
      "## DEBUG: 8. Insert new neuron \n",
      "## DEBUG: 9. Decrease system error \n",
      "## DEBUG: \n",
      "## DEBUG: \n",
      "## DEBUG: Attemping to plot... \n",
      "## DEBUG: 1. Pick input signal P(B) \n",
      "## DEBUG: 2. Find two nearest units \n",
      "## DEBUG: Two nearest points: min_dist_1: 0.4888026258840635 min_dist_2: 0.7098312722451758 \n",
      "## DEBUG: 3. Incremement Age of all edges from s_1 \n",
      "## DEBUG: 4. Add error to neuron \n",
      "## DEBUG: 5. Move s1 and neighbors towards B \n",
      "## DEBUG: 6. reset s1 and s2 age \n",
      "## DEBUG: 7. remove old edges \n",
      "## DEBUG: 8. Insert new neuron \n",
      "## DEBUG: 9. Decrease system error \n",
      "## DEBUG: \n",
      "## DEBUG: \n",
      "## DEBUG: Attemping to plot... \n"
     ]
    },
    {
     "name": "stderr",
     "output_type": "stream",
     "text": [
      " 64%|██████████████████████████████████████████████████████████████████████▋                                        | 637/1000 [01:28<01:00,  5.96it/s]"
     ]
    },
    {
     "name": "stdout",
     "output_type": "stream",
     "text": [
      "## DEBUG: 1. Pick input signal P(B) \n",
      "## DEBUG: 2. Find two nearest units \n",
      "## DEBUG: Two nearest points: min_dist_1: 1.1024258300375138 min_dist_2: 1.2547204187591758 \n",
      "## DEBUG: 3. Incremement Age of all edges from s_1 \n",
      "## DEBUG: 4. Add error to neuron \n",
      "## DEBUG: 5. Move s1 and neighbors towards B \n",
      "## DEBUG: 6. reset s1 and s2 age \n",
      "## DEBUG: 7. remove old edges \n",
      "## DEBUG: 8. Insert new neuron \n",
      "## DEBUG: 9. Decrease system error \n",
      "## DEBUG: \n",
      "## DEBUG: \n",
      "## DEBUG: Attemping to plot... \n",
      "## DEBUG: 1. Pick input signal P(B) \n",
      "## DEBUG: 2. Find two nearest units \n",
      "## DEBUG: Two nearest points: min_dist_1: 0.8082925855234018 min_dist_2: 1.1653580981530374 \n",
      "## DEBUG: 3. Incremement Age of all edges from s_1 \n",
      "## DEBUG: 4. Add error to neuron \n",
      "## DEBUG: 5. Move s1 and neighbors towards B \n",
      "## DEBUG: 6. reset s1 and s2 age \n",
      "## DEBUG: 7. remove old edges \n",
      "## DEBUG: 8. Insert new neuron \n",
      "## DEBUG: 9. Decrease system error \n",
      "## DEBUG: \n",
      "## DEBUG: \n",
      "## DEBUG: Attemping to plot... \n"
     ]
    },
    {
     "name": "stderr",
     "output_type": "stream",
     "text": [
      " 64%|██████████████████████████████████████████████████████████████████████▉                                        | 639/1000 [01:28<01:00,  6.01it/s]"
     ]
    },
    {
     "name": "stdout",
     "output_type": "stream",
     "text": [
      "## DEBUG: 1. Pick input signal P(B) \n",
      "## DEBUG: 2. Find two nearest units \n",
      "## DEBUG: Two nearest points: min_dist_1: 1.160880735368258 min_dist_2: 2.1481637585331166 \n",
      "## DEBUG: 3. Incremement Age of all edges from s_1 \n",
      "## DEBUG: 4. Add error to neuron \n",
      "## DEBUG: 5. Move s1 and neighbors towards B \n",
      "## DEBUG: 6. reset s1 and s2 age \n",
      "## DEBUG: 7. remove old edges \n",
      "## DEBUG: 8. Insert new neuron \n",
      "## DEBUG: 9. Decrease system error \n",
      "## DEBUG: \n",
      "## DEBUG: \n",
      "## DEBUG: Attemping to plot... \n",
      "## DEBUG: 1. Pick input signal P(B) \n",
      "## DEBUG: 2. Find two nearest units \n",
      "## DEBUG: Two nearest points: min_dist_1: 1.5383735337501991 min_dist_2: 1.6853924825743474 \n",
      "## DEBUG: 3. Incremement Age of all edges from s_1 \n",
      "## DEBUG: 4. Add error to neuron \n",
      "## DEBUG: 5. Move s1 and neighbors towards B \n",
      "## DEBUG: 6. reset s1 and s2 age \n",
      "## DEBUG: 7. remove old edges \n",
      "## DEBUG: 8. Insert new neuron \n",
      "## DEBUG: 9. Decrease system error \n",
      "## DEBUG: \n",
      "## DEBUG: \n",
      "## DEBUG: Attemping to plot... \n"
     ]
    },
    {
     "name": "stderr",
     "output_type": "stream",
     "text": [
      " 64%|███████████████████████████████████████████████████████████████████████▏                                       | 641/1000 [01:28<00:59,  6.00it/s]"
     ]
    },
    {
     "name": "stdout",
     "output_type": "stream",
     "text": [
      "## DEBUG: 1. Pick input signal P(B) \n",
      "## DEBUG: 2. Find two nearest units \n",
      "## DEBUG: Two nearest points: min_dist_1: 1.6750782508515691 min_dist_2: 1.8499975353742015 \n",
      "## DEBUG: 3. Incremement Age of all edges from s_1 \n",
      "## DEBUG: 4. Add error to neuron \n",
      "## DEBUG: 5. Move s1 and neighbors towards B \n",
      "## DEBUG: 6. reset s1 and s2 age \n",
      "## DEBUG: 7. remove old edges \n",
      "## DEBUG: 8. Insert new neuron \n",
      "## DEBUG: 9. Decrease system error \n",
      "## DEBUG: \n",
      "## DEBUG: \n",
      "## DEBUG: Attemping to plot... \n",
      "## DEBUG: 1. Pick input signal P(B) \n",
      "## DEBUG: 2. Find two nearest units \n",
      "## DEBUG: Two nearest points: min_dist_1: 0.46995677265423985 min_dist_2: 0.6226935824027716 \n",
      "## DEBUG: 3. Incremement Age of all edges from s_1 \n",
      "## DEBUG: 4. Add error to neuron \n",
      "## DEBUG: 5. Move s1 and neighbors towards B \n",
      "## DEBUG: 6. reset s1 and s2 age \n",
      "## DEBUG: 7. remove old edges \n",
      "## DEBUG: 8. Insert new neuron \n",
      "## DEBUG: 9. Decrease system error \n",
      "## DEBUG: \n",
      "## DEBUG: \n",
      "## DEBUG: Attemping to plot... \n"
     ]
    },
    {
     "name": "stderr",
     "output_type": "stream",
     "text": [
      " 64%|███████████████████████████████████████████████████████████████████████▎                                       | 643/1000 [01:29<00:58,  6.07it/s]"
     ]
    },
    {
     "name": "stdout",
     "output_type": "stream",
     "text": [
      "## DEBUG: 1. Pick input signal P(B) \n",
      "## DEBUG: 2. Find two nearest units \n",
      "## DEBUG: Two nearest points: min_dist_1: 0.43992236329565737 min_dist_2: 0.7091214409729304 \n",
      "## DEBUG: 3. Incremement Age of all edges from s_1 \n",
      "## DEBUG: 4. Add error to neuron \n",
      "## DEBUG: 5. Move s1 and neighbors towards B \n",
      "## DEBUG: 6. reset s1 and s2 age \n",
      "## DEBUG: 7. remove old edges \n",
      "## DEBUG: 8. Insert new neuron \n",
      "## DEBUG: 9. Decrease system error \n",
      "## DEBUG: \n",
      "## DEBUG: \n",
      "## DEBUG: Attemping to plot... \n",
      "## DEBUG: 1. Pick input signal P(B) \n",
      "## DEBUG: 2. Find two nearest units \n",
      "## DEBUG: Two nearest points: min_dist_1: 0.3902006869866127 min_dist_2: 0.9499982767184915 \n",
      "## DEBUG: 3. Incremement Age of all edges from s_1 \n",
      "## DEBUG: 4. Add error to neuron \n",
      "## DEBUG: 5. Move s1 and neighbors towards B \n",
      "## DEBUG: 6. reset s1 and s2 age \n",
      "## DEBUG: 7. remove old edges \n",
      "## DEBUG: 8. Insert new neuron \n",
      "## DEBUG: 9. Decrease system error \n",
      "## DEBUG: \n",
      "## DEBUG: \n",
      "## DEBUG: Attemping to plot... \n"
     ]
    },
    {
     "name": "stderr",
     "output_type": "stream",
     "text": [
      " 64%|███████████████████████████████████████████████████████████████████████▌                                       | 645/1000 [01:29<00:58,  6.03it/s]"
     ]
    },
    {
     "name": "stdout",
     "output_type": "stream",
     "text": [
      "## DEBUG: 1. Pick input signal P(B) \n",
      "## DEBUG: 2. Find two nearest units \n",
      "## DEBUG: Two nearest points: min_dist_1: 1.0368475820108884 min_dist_2: 1.2793831581521171 \n",
      "## DEBUG: 3. Incremement Age of all edges from s_1 \n",
      "## DEBUG: 4. Add error to neuron \n",
      "## DEBUG: 5. Move s1 and neighbors towards B \n",
      "## DEBUG: 6. reset s1 and s2 age \n",
      "## DEBUG: 7. remove old edges \n",
      "## DEBUG: 8. Insert new neuron \n",
      "## DEBUG: 9. Decrease system error \n",
      "## DEBUG: \n",
      "## DEBUG: \n",
      "## DEBUG: Attemping to plot... \n",
      "## DEBUG: 1. Pick input signal P(B) \n",
      "## DEBUG: 2. Find two nearest units \n",
      "## DEBUG: Two nearest points: min_dist_1: 1.612787649148541 min_dist_2: 1.6459898812611424 \n",
      "## DEBUG: 3. Incremement Age of all edges from s_1 \n",
      "## DEBUG: 4. Add error to neuron \n",
      "## DEBUG: 5. Move s1 and neighbors towards B \n",
      "## DEBUG: 6. reset s1 and s2 age \n",
      "## DEBUG: 7. remove old edges \n",
      "## DEBUG: 8. Insert new neuron \n",
      "## DEBUG: 9. Decrease system error \n",
      "## DEBUG: \n",
      "## DEBUG: \n",
      "## DEBUG: Attemping to plot... \n"
     ]
    },
    {
     "name": "stderr",
     "output_type": "stream",
     "text": [
      " 65%|███████████████████████████████████████████████████████████████████████▊                                       | 647/1000 [01:29<00:58,  6.08it/s]"
     ]
    },
    {
     "name": "stdout",
     "output_type": "stream",
     "text": [
      "## DEBUG: 1. Pick input signal P(B) \n",
      "## DEBUG: 2. Find two nearest units \n",
      "## DEBUG: Two nearest points: min_dist_1: 1.0039597122891384 min_dist_2: 1.7660883692005696 \n",
      "## DEBUG: 3. Incremement Age of all edges from s_1 \n",
      "## DEBUG: 4. Add error to neuron \n",
      "## DEBUG: 5. Move s1 and neighbors towards B \n",
      "## DEBUG: 6. reset s1 and s2 age \n",
      "## DEBUG: 7. remove old edges \n",
      "## DEBUG: 8. Insert new neuron \n",
      "## DEBUG: 9. Decrease system error \n",
      "## DEBUG: \n",
      "## DEBUG: \n",
      "## DEBUG: Attemping to plot... \n",
      "## DEBUG: 1. Pick input signal P(B) \n",
      "## DEBUG: 2. Find two nearest units \n",
      "## DEBUG: Two nearest points: min_dist_1: 0.25075721608649615 min_dist_2: 0.6212765339852515 \n",
      "## DEBUG: 3. Incremement Age of all edges from s_1 \n",
      "## DEBUG: 4. Add error to neuron \n",
      "## DEBUG: 5. Move s1 and neighbors towards B \n",
      "## DEBUG: 6. reset s1 and s2 age \n",
      "## DEBUG: 7. remove old edges \n",
      "## DEBUG: 8. Insert new neuron \n",
      "## DEBUG: 9. Decrease system error \n",
      "## DEBUG: \n",
      "## DEBUG: \n",
      "## DEBUG: Attemping to plot... \n"
     ]
    },
    {
     "name": "stderr",
     "output_type": "stream",
     "text": [
      "\r",
      " 65%|███████████████████████████████████████████████████████████████████████▉                                       | 648/1000 [01:29<00:57,  6.08it/s]"
     ]
    },
    {
     "name": "stdout",
     "output_type": "stream",
     "text": [
      "## DEBUG: 1. Pick input signal P(B) \n",
      "## DEBUG: 2. Find two nearest units \n",
      "## DEBUG: Two nearest points: min_dist_1: 0.6264257657329795 min_dist_2: 0.6560803524143133 \n",
      "## DEBUG: 3. Incremement Age of all edges from s_1 \n",
      "## DEBUG: 4. Add error to neuron \n",
      "## DEBUG: 5. Move s1 and neighbors towards B \n",
      "## DEBUG: 6. reset s1 and s2 age \n",
      "## DEBUG: 7. remove old edges \n",
      "## DEBUG: 8. Insert new neuron \n",
      "## DEBUG: 9. Decrease system error \n",
      "## DEBUG: \n",
      "## DEBUG: \n",
      "## DEBUG: Attemping to plot... \n"
     ]
    },
    {
     "name": "stderr",
     "output_type": "stream",
     "text": [
      " 65%|████████████████████████████████████████████████████████████████████████▏                                      | 650/1000 [01:33<05:08,  1.13it/s]"
     ]
    },
    {
     "name": "stdout",
     "output_type": "stream",
     "text": [
      "## DEBUG: 1. Pick input signal P(B) \n",
      "## DEBUG: 2. Find two nearest units \n",
      "## DEBUG: Two nearest points: min_dist_1: 0.3959301269660923 min_dist_2: 0.7084123195319578 \n",
      "## DEBUG: 3. Incremement Age of all edges from s_1 \n",
      "## DEBUG: 4. Add error to neuron \n",
      "## DEBUG: 5. Move s1 and neighbors towards B \n",
      "## DEBUG: 6. reset s1 and s2 age \n",
      "## DEBUG: 7. remove old edges \n",
      "## DEBUG: 8. Insert new neuron \n",
      "## DEBUG: 9. Decrease system error \n",
      "## DEBUG: \n",
      "## DEBUG: \n",
      "## DEBUG: Attemping to plot... \n",
      "## DEBUG: 1. Pick input signal P(B) \n",
      "## DEBUG: 2. Find two nearest units \n",
      "## DEBUG: Two nearest points: min_dist_1: 1.9676048340073038 min_dist_2: 2.5118766030738993 \n",
      "## DEBUG: 3. Incremement Age of all edges from s_1 \n",
      "## DEBUG: 4. Add error to neuron \n",
      "## DEBUG: 5. Move s1 and neighbors towards B \n",
      "## DEBUG: 6. reset s1 and s2 age \n",
      "## DEBUG: 7. remove old edges \n",
      "## DEBUG: 8. Insert new neuron \n",
      "## DEBUG: 9. Decrease system error \n",
      "## DEBUG: \n",
      "## DEBUG: \n",
      "## DEBUG: Attemping to plot... \n"
     ]
    },
    {
     "name": "stderr",
     "output_type": "stream",
     "text": [
      " 65%|████████████████████████████████████████████████████████████████████████▎                                      | 652/1000 [01:33<02:59,  1.94it/s]"
     ]
    },
    {
     "name": "stdout",
     "output_type": "stream",
     "text": [
      "## DEBUG: 1. Pick input signal P(B) \n",
      "## DEBUG: 2. Find two nearest units \n",
      "## DEBUG: Two nearest points: min_dist_1: 1.3704168172645685 min_dist_2: 1.3953940203350164 \n",
      "## DEBUG: 3. Incremement Age of all edges from s_1 \n",
      "## DEBUG: 4. Add error to neuron \n",
      "## DEBUG: 5. Move s1 and neighbors towards B \n",
      "## DEBUG: 6. reset s1 and s2 age \n",
      "## DEBUG: 7. remove old edges \n",
      "## DEBUG: 8. Insert new neuron \n",
      "## DEBUG: 9. Decrease system error \n",
      "## DEBUG: \n",
      "## DEBUG: \n",
      "## DEBUG: Attemping to plot... \n",
      "## DEBUG: 1. Pick input signal P(B) \n",
      "## DEBUG: 2. Find two nearest units \n",
      "## DEBUG: Two nearest points: min_dist_1: 1.3845361803751792 min_dist_2: 1.6837070900917728 \n",
      "## DEBUG: 3. Incremement Age of all edges from s_1 \n",
      "## DEBUG: 4. Add error to neuron \n",
      "## DEBUG: 5. Move s1 and neighbors towards B \n",
      "## DEBUG: 6. reset s1 and s2 age \n",
      "## DEBUG: 7. remove old edges \n",
      "## DEBUG: 8. Insert new neuron \n",
      "## DEBUG: 9. Decrease system error \n",
      "## DEBUG: \n",
      "## DEBUG: \n",
      "## DEBUG: Attemping to plot... \n"
     ]
    },
    {
     "name": "stderr",
     "output_type": "stream",
     "text": [
      " 65%|████████████████████████████████████████████████████████████████████████▌                                      | 654/1000 [01:34<01:56,  2.96it/s]"
     ]
    },
    {
     "name": "stdout",
     "output_type": "stream",
     "text": [
      "## DEBUG: 1. Pick input signal P(B) \n",
      "## DEBUG: 2. Find two nearest units \n",
      "## DEBUG: Two nearest points: min_dist_1: 0.9564218931635953 min_dist_2: 1.8350953015872433 \n",
      "## DEBUG: 3. Incremement Age of all edges from s_1 \n",
      "## DEBUG: 4. Add error to neuron \n",
      "## DEBUG: 5. Move s1 and neighbors towards B \n",
      "## DEBUG: 6. reset s1 and s2 age \n",
      "## DEBUG: 7. remove old edges \n",
      "## DEBUG: 8. Insert new neuron \n",
      "## DEBUG: 9. Decrease system error \n",
      "## DEBUG: \n",
      "## DEBUG: \n",
      "## DEBUG: Attemping to plot... \n",
      "## DEBUG: 1. Pick input signal P(B) \n",
      "## DEBUG: 2. Find two nearest units \n",
      "## DEBUG: Two nearest points: min_dist_1: 0.34324087045734153 min_dist_2: 0.6528214151032924 \n",
      "## DEBUG: 3. Incremement Age of all edges from s_1 \n",
      "## DEBUG: 4. Add error to neuron \n",
      "## DEBUG: 5. Move s1 and neighbors towards B \n",
      "## DEBUG: 6. reset s1 and s2 age \n",
      "## DEBUG: 7. remove old edges \n",
      "## DEBUG: 8. Insert new neuron \n",
      "## DEBUG: 9. Decrease system error \n",
      "## DEBUG: \n",
      "## DEBUG: \n",
      "## DEBUG: Attemping to plot... \n"
     ]
    },
    {
     "name": "stderr",
     "output_type": "stream",
     "text": [
      " 66%|████████████████████████████████████████████████████████████████████████▊                                      | 656/1000 [01:34<01:25,  4.01it/s]"
     ]
    },
    {
     "name": "stdout",
     "output_type": "stream",
     "text": [
      "## DEBUG: 1. Pick input signal P(B) \n",
      "## DEBUG: 2. Find two nearest units \n",
      "## DEBUG: Two nearest points: min_dist_1: 0.8568766211073229 min_dist_2: 0.8712260319297813 \n",
      "## DEBUG: 3. Incremement Age of all edges from s_1 \n",
      "## DEBUG: 4. Add error to neuron \n",
      "## DEBUG: 5. Move s1 and neighbors towards B \n",
      "## DEBUG: 6. reset s1 and s2 age \n",
      "## DEBUG: 7. remove old edges \n",
      "## DEBUG: 8. Insert new neuron \n",
      "## DEBUG: 9. Decrease system error \n",
      "## DEBUG: \n",
      "## DEBUG: \n",
      "## DEBUG: Attemping to plot... \n",
      "## DEBUG: 1. Pick input signal P(B) \n",
      "## DEBUG: 2. Find two nearest units \n",
      "## DEBUG: Two nearest points: min_dist_1: 1.9278319370343067 min_dist_2: 1.9881265534655108 \n",
      "## DEBUG: 3. Incremement Age of all edges from s_1 \n",
      "## DEBUG: 4. Add error to neuron \n",
      "## DEBUG: 5. Move s1 and neighbors towards B \n",
      "## DEBUG: 6. reset s1 and s2 age \n",
      "## DEBUG: 7. remove old edges \n",
      "## DEBUG: 8. Insert new neuron \n",
      "## DEBUG: 9. Decrease system error \n",
      "## DEBUG: \n",
      "## DEBUG: \n",
      "## DEBUG: Attemping to plot... \n"
     ]
    },
    {
     "name": "stderr",
     "output_type": "stream",
     "text": [
      " 66%|█████████████████████████████████████████████████████████████████████████                                      | 658/1000 [01:34<01:10,  4.84it/s]"
     ]
    },
    {
     "name": "stdout",
     "output_type": "stream",
     "text": [
      "## DEBUG: 1. Pick input signal P(B) \n",
      "## DEBUG: 2. Find two nearest units \n",
      "## DEBUG: Two nearest points: min_dist_1: 1.3353981795767085 min_dist_2: 1.8598507390872534 \n",
      "## DEBUG: 3. Incremement Age of all edges from s_1 \n",
      "## DEBUG: 4. Add error to neuron \n",
      "## DEBUG: 5. Move s1 and neighbors towards B \n",
      "## DEBUG: 6. reset s1 and s2 age \n",
      "## DEBUG: 7. remove old edges \n",
      "## DEBUG: 8. Insert new neuron \n",
      "## DEBUG: 9. Decrease system error \n",
      "## DEBUG: \n",
      "## DEBUG: \n",
      "## DEBUG: Attemping to plot... \n",
      "## DEBUG: 1. Pick input signal P(B) \n",
      "## DEBUG: 2. Find two nearest units \n",
      "## DEBUG: Two nearest points: min_dist_1: 0.6342684993049362 min_dist_2: 0.859885947608376 \n",
      "## DEBUG: 3. Incremement Age of all edges from s_1 \n",
      "## DEBUG: 4. Add error to neuron \n",
      "## DEBUG: 5. Move s1 and neighbors towards B \n",
      "## DEBUG: 6. reset s1 and s2 age \n",
      "## DEBUG: 7. remove old edges \n",
      "## DEBUG: 8. Insert new neuron \n",
      "## DEBUG: 9. Decrease system error \n",
      "## DEBUG: \n",
      "## DEBUG: \n",
      "## DEBUG: Attemping to plot... \n"
     ]
    },
    {
     "name": "stderr",
     "output_type": "stream",
     "text": [
      " 66%|█████████████████████████████████████████████████████████████████████████▎                                     | 660/1000 [01:35<01:04,  5.27it/s]"
     ]
    },
    {
     "name": "stdout",
     "output_type": "stream",
     "text": [
      "## DEBUG: 1. Pick input signal P(B) \n",
      "## DEBUG: 2. Find two nearest units \n",
      "## DEBUG: Two nearest points: min_dist_1: 0.554272122161198 min_dist_2: 1.055219099900976 \n",
      "## DEBUG: 3. Incremement Age of all edges from s_1 \n",
      "## DEBUG: 4. Add error to neuron \n",
      "## DEBUG: 5. Move s1 and neighbors towards B \n",
      "## DEBUG: 6. reset s1 and s2 age \n",
      "## DEBUG: 7. remove old edges \n",
      "## DEBUG: 8. Insert new neuron \n",
      "## DEBUG: 9. Decrease system error \n",
      "## DEBUG: \n",
      "## DEBUG: \n",
      "## DEBUG: Attemping to plot... \n",
      "## DEBUG: 1. Pick input signal P(B) \n",
      "## DEBUG: 2. Find two nearest units \n",
      "## DEBUG: Two nearest points: min_dist_1: 1.775596862925688 min_dist_2: 2.1575219176557914 \n",
      "## DEBUG: 3. Incremement Age of all edges from s_1 \n",
      "## DEBUG: 4. Add error to neuron \n",
      "## DEBUG: 5. Move s1 and neighbors towards B \n",
      "## DEBUG: 6. reset s1 and s2 age \n",
      "## DEBUG: 7. remove old edges \n",
      "## DEBUG: 8. Insert new neuron \n",
      "## DEBUG: 9. Decrease system error \n",
      "## DEBUG: \n",
      "## DEBUG: \n",
      "## DEBUG: Attemping to plot... \n"
     ]
    },
    {
     "name": "stderr",
     "output_type": "stream",
     "text": [
      " 66%|█████████████████████████████████████████████████████████████████████████▍                                     | 662/1000 [01:35<01:00,  5.55it/s]"
     ]
    },
    {
     "name": "stdout",
     "output_type": "stream",
     "text": [
      "## DEBUG: 1. Pick input signal P(B) \n",
      "## DEBUG: 2. Find two nearest units \n",
      "## DEBUG: Two nearest points: min_dist_1: 1.6963460099833811 min_dist_2: 1.9575808479227057 \n",
      "## DEBUG: 3. Incremement Age of all edges from s_1 \n",
      "## DEBUG: 4. Add error to neuron \n",
      "## DEBUG: 5. Move s1 and neighbors towards B \n",
      "## DEBUG: 6. reset s1 and s2 age \n",
      "## DEBUG: 7. remove old edges \n",
      "## DEBUG: 8. Insert new neuron \n",
      "## DEBUG: 9. Decrease system error \n",
      "## DEBUG: \n",
      "## DEBUG: \n",
      "## DEBUG: Attemping to plot... \n",
      "## DEBUG: 1. Pick input signal P(B) \n",
      "## DEBUG: 2. Find two nearest units \n",
      "## DEBUG: Two nearest points: min_dist_1: 1.2281471633459233 min_dist_2: 1.5446640373519593 \n",
      "## DEBUG: 3. Incremement Age of all edges from s_1 \n",
      "## DEBUG: 4. Add error to neuron \n",
      "## DEBUG: 5. Move s1 and neighbors towards B \n",
      "## DEBUG: 6. reset s1 and s2 age \n",
      "## DEBUG: 7. remove old edges \n",
      "## DEBUG: 8. Insert new neuron \n",
      "## DEBUG: 9. Decrease system error \n",
      "## DEBUG: \n",
      "## DEBUG: \n",
      "## DEBUG: Attemping to plot... \n"
     ]
    },
    {
     "name": "stderr",
     "output_type": "stream",
     "text": [
      " 66%|█████████████████████████████████████████████████████████████████████████▋                                     | 664/1000 [01:35<00:58,  5.70it/s]"
     ]
    },
    {
     "name": "stdout",
     "output_type": "stream",
     "text": [
      "## DEBUG: 1. Pick input signal P(B) \n",
      "## DEBUG: 2. Find two nearest units \n",
      "## DEBUG: Two nearest points: min_dist_1: 0.10007796003457405 min_dist_2: 1.6469925446561553 \n",
      "## DEBUG: 3. Incremement Age of all edges from s_1 \n",
      "## DEBUG: 4. Add error to neuron \n",
      "## DEBUG: 5. Move s1 and neighbors towards B \n",
      "## DEBUG: 6. reset s1 and s2 age \n",
      "## DEBUG: 7. remove old edges \n",
      "## DEBUG: 8. Insert new neuron \n",
      "## DEBUG: 9. Decrease system error \n",
      "## DEBUG: \n",
      "## DEBUG: \n",
      "## DEBUG: Attemping to plot... \n",
      "## DEBUG: 1. Pick input signal P(B) \n",
      "## DEBUG: 2. Find two nearest units \n",
      "## DEBUG: Two nearest points: min_dist_1: 0.7239822059055846 min_dist_2: 1.1088738080992695 \n",
      "## DEBUG: 3. Incremement Age of all edges from s_1 \n",
      "## DEBUG: 4. Add error to neuron \n",
      "## DEBUG: 5. Move s1 and neighbors towards B \n",
      "## DEBUG: 6. reset s1 and s2 age \n",
      "## DEBUG: 7. remove old edges \n",
      "## DEBUG: 8. Insert new neuron \n",
      "## DEBUG: 9. Decrease system error \n",
      "## DEBUG: \n",
      "## DEBUG: \n",
      "## DEBUG: Attemping to plot... \n"
     ]
    },
    {
     "name": "stderr",
     "output_type": "stream",
     "text": [
      " 67%|█████████████████████████████████████████████████████████████████████████▉                                     | 666/1000 [01:36<00:57,  5.79it/s]"
     ]
    },
    {
     "name": "stdout",
     "output_type": "stream",
     "text": [
      "## DEBUG: 1. Pick input signal P(B) \n",
      "## DEBUG: 2. Find two nearest units \n",
      "## DEBUG: Two nearest points: min_dist_1: 1.2018583616190375 min_dist_2: 1.8598507390872534 \n",
      "## DEBUG: 3. Incremement Age of all edges from s_1 \n",
      "## DEBUG: 4. Add error to neuron \n",
      "## DEBUG: 5. Move s1 and neighbors towards B \n",
      "## DEBUG: 6. reset s1 and s2 age \n",
      "## DEBUG: 7. remove old edges \n",
      "## DEBUG: 8. Insert new neuron \n",
      "## DEBUG: 9. Decrease system error \n",
      "## DEBUG: \n",
      "## DEBUG: \n",
      "## DEBUG: Attemping to plot... \n",
      "## DEBUG: 1. Pick input signal P(B) \n",
      "## DEBUG: 2. Find two nearest units \n",
      "## DEBUG: Two nearest points: min_dist_1: 0.4392198097753808 min_dist_2: 0.7367253007540949 \n",
      "## DEBUG: 3. Incremement Age of all edges from s_1 \n",
      "## DEBUG: 4. Add error to neuron \n",
      "## DEBUG: 5. Move s1 and neighbors towards B \n",
      "## DEBUG: 6. reset s1 and s2 age \n",
      "## DEBUG: 7. remove old edges \n",
      "## DEBUG: 8. Insert new neuron \n",
      "## DEBUG: 9. Decrease system error \n",
      "## DEBUG: \n",
      "## DEBUG: \n",
      "## DEBUG: Attemping to plot... \n"
     ]
    },
    {
     "name": "stderr",
     "output_type": "stream",
     "text": [
      " 67%|██████████████████████████████████████████████████████████████████████████▏                                    | 668/1000 [01:36<00:57,  5.82it/s]"
     ]
    },
    {
     "name": "stdout",
     "output_type": "stream",
     "text": [
      "## DEBUG: 1. Pick input signal P(B) \n",
      "## DEBUG: 2. Find two nearest units \n",
      "## DEBUG: Two nearest points: min_dist_1: 0.1753713601749367 min_dist_2: 0.26036205485459185 \n",
      "## DEBUG: 3. Incremement Age of all edges from s_1 \n",
      "## DEBUG: 4. Add error to neuron \n",
      "## DEBUG: 5. Move s1 and neighbors towards B \n",
      "## DEBUG: 6. reset s1 and s2 age \n",
      "## DEBUG: 7. remove old edges \n",
      "## DEBUG: 8. Insert new neuron \n",
      "## DEBUG: 9. Decrease system error \n",
      "## DEBUG: \n",
      "## DEBUG: \n",
      "## DEBUG: Attemping to plot... \n",
      "## DEBUG: 1. Pick input signal P(B) \n",
      "## DEBUG: 2. Find two nearest units \n",
      "## DEBUG: Two nearest points: min_dist_1: 1.3232378332886257 min_dist_2: 1.4651572613437278 \n",
      "## DEBUG: 3. Incremement Age of all edges from s_1 \n",
      "## DEBUG: 4. Add error to neuron \n",
      "## DEBUG: 5. Move s1 and neighbors towards B \n",
      "## DEBUG: 6. reset s1 and s2 age \n",
      "## DEBUG: 7. remove old edges \n",
      "## DEBUG: 8. Insert new neuron \n",
      "## DEBUG: 9. Decrease system error \n",
      "## DEBUG: \n",
      "## DEBUG: \n",
      "## DEBUG: Attemping to plot... \n"
     ]
    },
    {
     "name": "stderr",
     "output_type": "stream",
     "text": [
      " 67%|██████████████████████████████████████████████████████████████████████████▎                                    | 670/1000 [01:37<00:56,  5.82it/s]"
     ]
    },
    {
     "name": "stdout",
     "output_type": "stream",
     "text": [
      "## DEBUG: 1. Pick input signal P(B) \n",
      "## DEBUG: 2. Find two nearest units \n",
      "## DEBUG: Two nearest points: min_dist_1: 1.6391030300425102 min_dist_2: 1.7836413019271269 \n",
      "## DEBUG: 3. Incremement Age of all edges from s_1 \n",
      "## DEBUG: 4. Add error to neuron \n",
      "## DEBUG: 5. Move s1 and neighbors towards B \n",
      "## DEBUG: 6. reset s1 and s2 age \n",
      "## DEBUG: 7. remove old edges \n",
      "## DEBUG: 8. Insert new neuron \n",
      "## DEBUG: 9. Decrease system error \n",
      "## DEBUG: \n",
      "## DEBUG: \n",
      "## DEBUG: Attemping to plot... \n",
      "## DEBUG: 1. Pick input signal P(B) \n",
      "## DEBUG: 2. Find two nearest units \n",
      "## DEBUG: Two nearest points: min_dist_1: 0.760768727799194 min_dist_2: 1.0874674998296727 \n",
      "## DEBUG: 3. Incremement Age of all edges from s_1 \n",
      "## DEBUG: 4. Add error to neuron \n",
      "## DEBUG: 5. Move s1 and neighbors towards B \n",
      "## DEBUG: 6. reset s1 and s2 age \n",
      "## DEBUG: 7. remove old edges \n",
      "## DEBUG: 8. Insert new neuron \n",
      "## DEBUG: 9. Decrease system error \n",
      "## DEBUG: \n",
      "## DEBUG: \n",
      "## DEBUG: Attemping to plot... \n"
     ]
    },
    {
     "name": "stderr",
     "output_type": "stream",
     "text": [
      " 67%|██████████████████████████████████████████████████████████████████████████▌                                    | 672/1000 [01:37<00:59,  5.50it/s]"
     ]
    },
    {
     "name": "stdout",
     "output_type": "stream",
     "text": [
      "## DEBUG: 1. Pick input signal P(B) \n",
      "## DEBUG: 2. Find two nearest units \n",
      "## DEBUG: Two nearest points: min_dist_1: 0.17964257555887597 min_dist_2: 0.6936861518008709 \n",
      "## DEBUG: 3. Incremement Age of all edges from s_1 \n",
      "## DEBUG: 4. Add error to neuron \n",
      "## DEBUG: 5. Move s1 and neighbors towards B \n",
      "## DEBUG: 6. reset s1 and s2 age \n",
      "## DEBUG: 7. remove old edges \n",
      "## DEBUG: 8. Insert new neuron \n",
      "## DEBUG: 9. Decrease system error \n",
      "## DEBUG: \n",
      "## DEBUG: \n",
      "## DEBUG: Attemping to plot... \n"
     ]
    },
    {
     "name": "stderr",
     "output_type": "stream",
     "text": [
      "\r",
      " 67%|██████████████████████████████████████████████████████████████████████████▋                                    | 673/1000 [01:37<00:58,  5.57it/s]"
     ]
    },
    {
     "name": "stdout",
     "output_type": "stream",
     "text": [
      "## DEBUG: 1. Pick input signal P(B) \n",
      "## DEBUG: 2. Find two nearest units \n",
      "## DEBUG: Two nearest points: min_dist_1: 0.9501938410984978 min_dist_2: 2.4225582496923583 \n",
      "## DEBUG: 3. Incremement Age of all edges from s_1 \n",
      "## DEBUG: 4. Add error to neuron \n",
      "## DEBUG: 5. Move s1 and neighbors towards B \n",
      "## DEBUG: 6. reset s1 and s2 age \n",
      "## DEBUG: 7. remove old edges \n",
      "## DEBUG: 8. Insert new neuron \n",
      "## DEBUG: 9. Decrease system error \n",
      "## DEBUG: \n",
      "## DEBUG: \n",
      "## DEBUG: Attemping to plot... \n",
      "## DEBUG: 1. Pick input signal P(B) \n",
      "## DEBUG: 2. Find two nearest units \n",
      "## DEBUG: Two nearest points: min_dist_1: 0.4161592710103535 min_dist_2: 1.0752290339688573 \n",
      "## DEBUG: 3. Incremement Age of all edges from s_1 \n",
      "## DEBUG: 4. Add error to neuron \n",
      "## DEBUG: 5. Move s1 and neighbors towards B \n",
      "## DEBUG: 6. reset s1 and s2 age \n",
      "## DEBUG: 7. remove old edges \n",
      "## DEBUG: 8. Insert new neuron \n",
      "## DEBUG: 9. Decrease system error \n",
      "## DEBUG: \n",
      "## DEBUG: \n",
      "## DEBUG: Attemping to plot... \n"
     ]
    },
    {
     "name": "stderr",
     "output_type": "stream",
     "text": [
      " 68%|██████████████████████████████████████████████████████████████████████████▉                                    | 675/1000 [01:37<00:56,  5.74it/s]"
     ]
    },
    {
     "name": "stdout",
     "output_type": "stream",
     "text": [
      "## DEBUG: 1. Pick input signal P(B) \n",
      "## DEBUG: 2. Find two nearest units \n",
      "## DEBUG: Two nearest points: min_dist_1: 0.6773003417586905 min_dist_2: 0.8521096441073363 \n",
      "## DEBUG: 3. Incremement Age of all edges from s_1 \n",
      "## DEBUG: 4. Add error to neuron \n",
      "## DEBUG: 5. Move s1 and neighbors towards B \n",
      "## DEBUG: 6. reset s1 and s2 age \n",
      "## DEBUG: 7. remove old edges \n",
      "## DEBUG: 8. Insert new neuron \n",
      "## DEBUG: 9. Decrease system error \n",
      "## DEBUG: \n",
      "## DEBUG: \n",
      "## DEBUG: Attemping to plot... \n",
      "## DEBUG: 1. Pick input signal P(B) \n",
      "## DEBUG: 2. Find two nearest units \n",
      "## DEBUG: Two nearest points: min_dist_1: 1.3570178517600633 min_dist_2: 2.303823826874518 \n",
      "## DEBUG: 3. Incremement Age of all edges from s_1 \n",
      "## DEBUG: 4. Add error to neuron \n",
      "## DEBUG: 5. Move s1 and neighbors towards B \n",
      "## DEBUG: 6. reset s1 and s2 age \n",
      "## DEBUG: 7. remove old edges \n",
      "## DEBUG: 8. Insert new neuron \n",
      "## DEBUG: 9. Decrease system error \n",
      "## DEBUG: \n",
      "## DEBUG: \n",
      "## DEBUG: Attemping to plot... \n"
     ]
    },
    {
     "name": "stderr",
     "output_type": "stream",
     "text": [
      " 68%|███████████████████████████████████████████████████████████████████████████▏                                   | 677/1000 [01:38<00:55,  5.80it/s]"
     ]
    },
    {
     "name": "stdout",
     "output_type": "stream",
     "text": [
      "## DEBUG: 1. Pick input signal P(B) \n",
      "## DEBUG: 2. Find two nearest units \n",
      "## DEBUG: Two nearest points: min_dist_1: 0.15783422415744378 min_dist_2: 0.2601016927997368 \n",
      "## DEBUG: 3. Incremement Age of all edges from s_1 \n",
      "## DEBUG: 4. Add error to neuron \n",
      "## DEBUG: 5. Move s1 and neighbors towards B \n",
      "## DEBUG: 6. reset s1 and s2 age \n",
      "## DEBUG: 7. remove old edges \n",
      "## DEBUG: 8. Insert new neuron \n",
      "## DEBUG: 9. Decrease system error \n",
      "## DEBUG: \n",
      "## DEBUG: \n",
      "## DEBUG: Attemping to plot... \n",
      "## DEBUG: 1. Pick input signal P(B) \n",
      "## DEBUG: 2. Find two nearest units \n",
      "## DEBUG: Two nearest points: min_dist_1: 1.0390488412834888 min_dist_2: 1.7221054546652854 \n",
      "## DEBUG: 3. Incremement Age of all edges from s_1 \n",
      "## DEBUG: 4. Add error to neuron \n",
      "## DEBUG: 5. Move s1 and neighbors towards B \n",
      "## DEBUG: 6. reset s1 and s2 age \n",
      "## DEBUG: 7. remove old edges \n",
      "## DEBUG: 8. Insert new neuron \n",
      "## DEBUG: 9. Decrease system error \n",
      "## DEBUG: \n",
      "## DEBUG: \n",
      "## DEBUG: Attemping to plot... \n"
     ]
    },
    {
     "name": "stderr",
     "output_type": "stream",
     "text": [
      " 68%|███████████████████████████████████████████████████████████████████████████▎                                   | 679/1000 [01:38<00:54,  5.88it/s]"
     ]
    },
    {
     "name": "stdout",
     "output_type": "stream",
     "text": [
      "## DEBUG: 1. Pick input signal P(B) \n",
      "## DEBUG: 2. Find two nearest units \n",
      "## DEBUG: Two nearest points: min_dist_1: 0.5164016460654117 min_dist_2: 1.0487002178958065 \n",
      "## DEBUG: 3. Incremement Age of all edges from s_1 \n",
      "## DEBUG: 4. Add error to neuron \n",
      "## DEBUG: 5. Move s1 and neighbors towards B \n",
      "## DEBUG: 6. reset s1 and s2 age \n",
      "## DEBUG: 7. remove old edges \n",
      "## DEBUG: 8. Insert new neuron \n",
      "## DEBUG: 9. Decrease system error \n",
      "## DEBUG: \n",
      "## DEBUG: \n",
      "## DEBUG: Attemping to plot... \n",
      "## DEBUG: 1. Pick input signal P(B) \n",
      "## DEBUG: 2. Find two nearest units \n",
      "## DEBUG: Two nearest points: min_dist_1: 1.070382678719025 min_dist_2: 1.211196430602062 \n",
      "## DEBUG: 3. Incremement Age of all edges from s_1 \n",
      "## DEBUG: 4. Add error to neuron \n",
      "## DEBUG: 5. Move s1 and neighbors towards B \n",
      "## DEBUG: 6. reset s1 and s2 age \n",
      "## DEBUG: 7. remove old edges \n",
      "## DEBUG: 8. Insert new neuron \n",
      "## DEBUG: 9. Decrease system error \n",
      "## DEBUG: \n",
      "## DEBUG: \n",
      "## DEBUG: Attemping to plot... \n"
     ]
    },
    {
     "name": "stderr",
     "output_type": "stream",
     "text": [
      " 68%|███████████████████████████████████████████████████████████████████████████▌                                   | 681/1000 [01:38<00:54,  5.88it/s]"
     ]
    },
    {
     "name": "stdout",
     "output_type": "stream",
     "text": [
      "## DEBUG: 1. Pick input signal P(B) \n",
      "## DEBUG: 2. Find two nearest units \n",
      "## DEBUG: Two nearest points: min_dist_1: 0.8016101629117661 min_dist_2: 0.9276004702875226 \n",
      "## DEBUG: 3. Incremement Age of all edges from s_1 \n",
      "## DEBUG: 4. Add error to neuron \n",
      "## DEBUG: 5. Move s1 and neighbors towards B \n",
      "## DEBUG: 6. reset s1 and s2 age \n",
      "## DEBUG: 7. remove old edges \n",
      "## DEBUG: 8. Insert new neuron \n",
      "## DEBUG: 9. Decrease system error \n",
      "## DEBUG: \n",
      "## DEBUG: \n",
      "## DEBUG: Attemping to plot... \n",
      "## DEBUG: 1. Pick input signal P(B) \n",
      "## DEBUG: 2. Find two nearest units \n",
      "## DEBUG: Two nearest points: min_dist_1: 0.5966419588431955 min_dist_2: 0.8679416097422844 \n",
      "## DEBUG: 3. Incremement Age of all edges from s_1 \n",
      "## DEBUG: 4. Add error to neuron \n",
      "## DEBUG: 5. Move s1 and neighbors towards B \n",
      "## DEBUG: 6. reset s1 and s2 age \n",
      "## DEBUG: 7. remove old edges \n",
      "## DEBUG: 8. Insert new neuron \n",
      "## DEBUG: 9. Decrease system error \n",
      "## DEBUG: \n",
      "## DEBUG: \n",
      "## DEBUG: Attemping to plot... \n"
     ]
    },
    {
     "name": "stderr",
     "output_type": "stream",
     "text": [
      " 68%|███████████████████████████████████████████████████████████████████████████▊                                   | 683/1000 [01:39<00:56,  5.58it/s]"
     ]
    },
    {
     "name": "stdout",
     "output_type": "stream",
     "text": [
      "## DEBUG: 1. Pick input signal P(B) \n",
      "## DEBUG: 2. Find two nearest units \n",
      "## DEBUG: Two nearest points: min_dist_1: 0.04433634116521453 min_dist_2: 0.9724925891458257 \n",
      "## DEBUG: 3. Incremement Age of all edges from s_1 \n",
      "## DEBUG: 4. Add error to neuron \n",
      "## DEBUG: 5. Move s1 and neighbors towards B \n",
      "## DEBUG: 6. reset s1 and s2 age \n",
      "## DEBUG: 7. remove old edges \n",
      "## DEBUG: 8. Insert new neuron \n",
      "## DEBUG: 9. Decrease system error \n",
      "## DEBUG: \n",
      "## DEBUG: \n",
      "## DEBUG: Attemping to plot... \n",
      "## DEBUG: 1. Pick input signal P(B) \n",
      "## DEBUG: 2. Find two nearest units \n",
      "## DEBUG: Two nearest points: min_dist_1: 0.3258959504431035 min_dist_2: 1.3304244853334237 \n",
      "## DEBUG: 3. Incremement Age of all edges from s_1 \n",
      "## DEBUG: 4. Add error to neuron \n",
      "## DEBUG: 5. Move s1 and neighbors towards B \n",
      "## DEBUG: 6. reset s1 and s2 age \n",
      "## DEBUG: 7. remove old edges \n",
      "## DEBUG: 8. Insert new neuron \n",
      "## DEBUG: 9. Decrease system error \n",
      "## DEBUG: \n",
      "## DEBUG: \n",
      "## DEBUG: Attemping to plot... \n"
     ]
    },
    {
     "name": "stderr",
     "output_type": "stream",
     "text": [
      " 68%|████████████████████████████████████████████████████████████████████████████                                   | 685/1000 [01:39<00:55,  5.72it/s]"
     ]
    },
    {
     "name": "stdout",
     "output_type": "stream",
     "text": [
      "## DEBUG: 1. Pick input signal P(B) \n",
      "## DEBUG: 2. Find two nearest units \n",
      "## DEBUG: Two nearest points: min_dist_1: 1.1550304291911546 min_dist_2: 1.4515088842336865 \n",
      "## DEBUG: 3. Incremement Age of all edges from s_1 \n",
      "## DEBUG: 4. Add error to neuron \n",
      "## DEBUG: 5. Move s1 and neighbors towards B \n",
      "## DEBUG: 6. reset s1 and s2 age \n",
      "## DEBUG: 7. remove old edges \n",
      "## DEBUG: 8. Insert new neuron \n",
      "## DEBUG: 9. Decrease system error \n",
      "## DEBUG: \n",
      "## DEBUG: \n",
      "## DEBUG: Attemping to plot... \n",
      "## DEBUG: 1. Pick input signal P(B) \n",
      "## DEBUG: 2. Find two nearest units \n",
      "## DEBUG: Two nearest points: min_dist_1: 0.9946927426403421 min_dist_2: 1.175046316366997 \n",
      "## DEBUG: 3. Incremement Age of all edges from s_1 \n",
      "## DEBUG: 4. Add error to neuron \n",
      "## DEBUG: 5. Move s1 and neighbors towards B \n",
      "## DEBUG: 6. reset s1 and s2 age \n",
      "## DEBUG: 7. remove old edges \n",
      "## DEBUG: 8. Insert new neuron \n",
      "## DEBUG: 9. Decrease system error \n",
      "## DEBUG: \n",
      "## DEBUG: \n",
      "## DEBUG: Attemping to plot... \n"
     ]
    },
    {
     "name": "stderr",
     "output_type": "stream",
     "text": [
      " 69%|████████████████████████████████████████████████████████████████████████████▎                                  | 687/1000 [01:39<00:54,  5.75it/s]"
     ]
    },
    {
     "name": "stdout",
     "output_type": "stream",
     "text": [
      "## DEBUG: 1. Pick input signal P(B) \n",
      "## DEBUG: 2. Find two nearest units \n",
      "## DEBUG: Two nearest points: min_dist_1: 1.31238875426813 min_dist_2: 1.486347450446464 \n",
      "## DEBUG: 3. Incremement Age of all edges from s_1 \n",
      "## DEBUG: 4. Add error to neuron \n",
      "## DEBUG: 5. Move s1 and neighbors towards B \n",
      "## DEBUG: 6. reset s1 and s2 age \n",
      "## DEBUG: 7. remove old edges \n",
      "## DEBUG: 8. Insert new neuron \n",
      "## DEBUG: 9. Decrease system error \n",
      "## DEBUG: \n",
      "## DEBUG: \n",
      "## DEBUG: Attemping to plot... \n",
      "## DEBUG: 1. Pick input signal P(B) \n",
      "## DEBUG: 2. Find two nearest units \n",
      "## DEBUG: Two nearest points: min_dist_1: 0.5387079345501992 min_dist_2: 1.245860161951998 \n",
      "## DEBUG: 3. Incremement Age of all edges from s_1 \n",
      "## DEBUG: 4. Add error to neuron \n",
      "## DEBUG: 5. Move s1 and neighbors towards B \n",
      "## DEBUG: 6. reset s1 and s2 age \n",
      "## DEBUG: 7. remove old edges \n",
      "## DEBUG: 8. Insert new neuron \n",
      "## DEBUG: 9. Decrease system error \n",
      "## DEBUG: \n",
      "## DEBUG: \n",
      "## DEBUG: Attemping to plot... \n"
     ]
    },
    {
     "name": "stderr",
     "output_type": "stream",
     "text": [
      " 69%|████████████████████████████████████████████████████████████████████████████▍                                  | 689/1000 [01:40<00:54,  5.75it/s]"
     ]
    },
    {
     "name": "stdout",
     "output_type": "stream",
     "text": [
      "## DEBUG: 1. Pick input signal P(B) \n",
      "## DEBUG: 2. Find two nearest units \n",
      "## DEBUG: Two nearest points: min_dist_1: 0.9410479500019158 min_dist_2: 1.3688385313613618 \n",
      "## DEBUG: 3. Incremement Age of all edges from s_1 \n",
      "## DEBUG: 4. Add error to neuron \n",
      "## DEBUG: 5. Move s1 and neighbors towards B \n",
      "## DEBUG: 6. reset s1 and s2 age \n",
      "## DEBUG: 7. remove old edges \n",
      "## DEBUG: 8. Insert new neuron \n",
      "## DEBUG: 9. Decrease system error \n",
      "## DEBUG: \n",
      "## DEBUG: \n",
      "## DEBUG: Attemping to plot... \n",
      "## DEBUG: 1. Pick input signal P(B) \n",
      "## DEBUG: 2. Find two nearest units \n",
      "## DEBUG: Two nearest points: min_dist_1: 0.9686888031023766 min_dist_2: 2.5407794242905974 \n",
      "## DEBUG: 3. Incremement Age of all edges from s_1 \n",
      "## DEBUG: 4. Add error to neuron \n",
      "## DEBUG: 5. Move s1 and neighbors towards B \n",
      "## DEBUG: 6. reset s1 and s2 age \n",
      "## DEBUG: 7. remove old edges \n",
      "## DEBUG: 8. Insert new neuron \n",
      "## DEBUG: 9. Decrease system error \n",
      "## DEBUG: \n",
      "## DEBUG: \n",
      "## DEBUG: Attemping to plot... \n"
     ]
    },
    {
     "name": "stderr",
     "output_type": "stream",
     "text": [
      " 69%|████████████████████████████████████████████████████████████████████████████▋                                  | 691/1000 [01:40<00:53,  5.78it/s]"
     ]
    },
    {
     "name": "stdout",
     "output_type": "stream",
     "text": [
      "## DEBUG: 1. Pick input signal P(B) \n",
      "## DEBUG: 2. Find two nearest units \n",
      "## DEBUG: Two nearest points: min_dist_1: 0.7610915256975296 min_dist_2: 0.8287476725748945 \n",
      "## DEBUG: 3. Incremement Age of all edges from s_1 \n",
      "## DEBUG: 4. Add error to neuron \n",
      "## DEBUG: 5. Move s1 and neighbors towards B \n",
      "## DEBUG: 6. reset s1 and s2 age \n",
      "## DEBUG: 7. remove old edges \n",
      "## DEBUG: 8. Insert new neuron \n",
      "## DEBUG: 9. Decrease system error \n",
      "## DEBUG: \n",
      "## DEBUG: \n",
      "## DEBUG: Attemping to plot... \n",
      "## DEBUG: 1. Pick input signal P(B) \n",
      "## DEBUG: 2. Find two nearest units \n",
      "## DEBUG: Two nearest points: min_dist_1: 2.0496446820004146 min_dist_2: 2.6928335068454574 \n",
      "## DEBUG: 3. Incremement Age of all edges from s_1 \n",
      "## DEBUG: 4. Add error to neuron \n",
      "## DEBUG: 5. Move s1 and neighbors towards B \n",
      "## DEBUG: 6. reset s1 and s2 age \n",
      "## DEBUG: 7. remove old edges \n",
      "## DEBUG: 8. Insert new neuron \n",
      "## DEBUG: 9. Decrease system error \n",
      "## DEBUG: \n",
      "## DEBUG: \n",
      "## DEBUG: Attemping to plot... \n"
     ]
    },
    {
     "name": "stderr",
     "output_type": "stream",
     "text": [
      " 69%|████████████████████████████████████████████████████████████████████████████▉                                  | 693/1000 [01:41<00:53,  5.76it/s]"
     ]
    },
    {
     "name": "stdout",
     "output_type": "stream",
     "text": [
      "## DEBUG: 1. Pick input signal P(B) \n",
      "## DEBUG: 2. Find two nearest units \n",
      "## DEBUG: Two nearest points: min_dist_1: 0.7243263524619828 min_dist_2: 0.9785080362819841 \n",
      "## DEBUG: 3. Incremement Age of all edges from s_1 \n",
      "## DEBUG: 4. Add error to neuron \n",
      "## DEBUG: 5. Move s1 and neighbors towards B \n",
      "## DEBUG: 6. reset s1 and s2 age \n",
      "## DEBUG: 7. remove old edges \n",
      "## DEBUG: 8. Insert new neuron \n",
      "## DEBUG: 9. Decrease system error \n",
      "## DEBUG: \n",
      "## DEBUG: \n",
      "## DEBUG: Attemping to plot... \n",
      "## DEBUG: 1. Pick input signal P(B) \n",
      "## DEBUG: 2. Find two nearest units \n",
      "## DEBUG: Two nearest points: min_dist_1: 0.14212799714781757 min_dist_2: 0.3279709117492823 \n",
      "## DEBUG: 3. Incremement Age of all edges from s_1 \n",
      "## DEBUG: 4. Add error to neuron \n",
      "## DEBUG: 5. Move s1 and neighbors towards B \n",
      "## DEBUG: 6. reset s1 and s2 age \n",
      "## DEBUG: 7. remove old edges \n",
      "## DEBUG: 8. Insert new neuron \n",
      "## DEBUG: 9. Decrease system error \n",
      "## DEBUG: \n",
      "## DEBUG: \n",
      "## DEBUG: Attemping to plot... \n"
     ]
    },
    {
     "name": "stderr",
     "output_type": "stream",
     "text": [
      " 70%|█████████████████████████████████████████████████████████████████████████████▏                                 | 695/1000 [01:41<00:52,  5.76it/s]"
     ]
    },
    {
     "name": "stdout",
     "output_type": "stream",
     "text": [
      "## DEBUG: 1. Pick input signal P(B) \n",
      "## DEBUG: 2. Find two nearest units \n",
      "## DEBUG: Two nearest points: min_dist_1: 0.6927900074648458 min_dist_2: 1.1973246651719738 \n",
      "## DEBUG: 3. Incremement Age of all edges from s_1 \n",
      "## DEBUG: 4. Add error to neuron \n",
      "## DEBUG: 5. Move s1 and neighbors towards B \n",
      "## DEBUG: 6. reset s1 and s2 age \n",
      "## DEBUG: 7. remove old edges \n",
      "## DEBUG: 8. Insert new neuron \n",
      "## DEBUG: 9. Decrease system error \n",
      "## DEBUG: \n",
      "## DEBUG: \n",
      "## DEBUG: Attemping to plot... \n",
      "## DEBUG: 1. Pick input signal P(B) \n",
      "## DEBUG: 2. Find two nearest units \n",
      "## DEBUG: Two nearest points: min_dist_1: 0.18752403840251508 min_dist_2: 0.9334851349970065 \n",
      "## DEBUG: 3. Incremement Age of all edges from s_1 \n",
      "## DEBUG: 4. Add error to neuron \n",
      "## DEBUG: 5. Move s1 and neighbors towards B \n",
      "## DEBUG: 6. reset s1 and s2 age \n",
      "## DEBUG: 7. remove old edges \n",
      "## DEBUG: 8. Insert new neuron \n",
      "## DEBUG: 9. Decrease system error \n",
      "## DEBUG: \n",
      "## DEBUG: \n",
      "## DEBUG: Attemping to plot... \n"
     ]
    },
    {
     "name": "stderr",
     "output_type": "stream",
     "text": [
      " 70%|█████████████████████████████████████████████████████████████████████████████▎                                 | 697/1000 [01:41<00:52,  5.76it/s]"
     ]
    },
    {
     "name": "stdout",
     "output_type": "stream",
     "text": [
      "## DEBUG: 1. Pick input signal P(B) \n",
      "## DEBUG: 2. Find two nearest units \n",
      "## DEBUG: Two nearest points: min_dist_1: 0.39578477584951643 min_dist_2: 0.6502017664547651 \n",
      "## DEBUG: 3. Incremement Age of all edges from s_1 \n",
      "## DEBUG: 4. Add error to neuron \n",
      "## DEBUG: 5. Move s1 and neighbors towards B \n",
      "## DEBUG: 6. reset s1 and s2 age \n",
      "## DEBUG: 7. remove old edges \n",
      "## DEBUG: 8. Insert new neuron \n",
      "## DEBUG: 9. Decrease system error \n",
      "## DEBUG: \n",
      "## DEBUG: \n",
      "## DEBUG: Attemping to plot... \n",
      "## DEBUG: 1. Pick input signal P(B) \n",
      "## DEBUG: 2. Find two nearest units \n",
      "## DEBUG: Two nearest points: min_dist_1: 0.4794473565211487 min_dist_2: 0.6421875628524228 \n",
      "## DEBUG: 3. Incremement Age of all edges from s_1 \n",
      "## DEBUG: 4. Add error to neuron \n",
      "## DEBUG: 5. Move s1 and neighbors towards B \n",
      "## DEBUG: 6. reset s1 and s2 age \n",
      "## DEBUG: 7. remove old edges \n",
      "## DEBUG: 8. Insert new neuron \n",
      "## DEBUG: 9. Decrease system error \n",
      "## DEBUG: \n",
      "## DEBUG: \n",
      "## DEBUG: Attemping to plot... \n"
     ]
    },
    {
     "name": "stderr",
     "output_type": "stream",
     "text": [
      " 70%|█████████████████████████████████████████████████████████████████████████████▌                                 | 699/1000 [01:42<00:52,  5.78it/s]"
     ]
    },
    {
     "name": "stdout",
     "output_type": "stream",
     "text": [
      "## DEBUG: 1. Pick input signal P(B) \n",
      "## DEBUG: 2. Find two nearest units \n",
      "## DEBUG: Two nearest points: min_dist_1: 0.6638181234349709 min_dist_2: 1.0228582264660553 \n",
      "## DEBUG: 3. Incremement Age of all edges from s_1 \n",
      "## DEBUG: 4. Add error to neuron \n",
      "## DEBUG: 5. Move s1 and neighbors towards B \n",
      "## DEBUG: 6. reset s1 and s2 age \n",
      "## DEBUG: 7. remove old edges \n",
      "## DEBUG: 8. Insert new neuron \n",
      "## DEBUG: 9. Decrease system error \n",
      "## DEBUG: \n",
      "## DEBUG: \n",
      "## DEBUG: Attemping to plot... \n",
      "## DEBUG: 1. Pick input signal P(B) \n",
      "## DEBUG: 2. Find two nearest units \n",
      "## DEBUG: Two nearest points: min_dist_1: 1.4861086698262136 min_dist_2: 1.8402235658696255 \n",
      "## DEBUG: 3. Incremement Age of all edges from s_1 \n",
      "## DEBUG: 4. Add error to neuron \n",
      "## DEBUG: 5. Move s1 and neighbors towards B \n",
      "## DEBUG: 6. reset s1 and s2 age \n",
      "## DEBUG: 7. remove old edges \n",
      "## DEBUG: 8. Insert new neuron \n",
      "## DEBUG: 9. Decrease system error \n",
      "## DEBUG: \n",
      "## DEBUG: \n",
      "## DEBUG: Attemping to plot... \n"
     ]
    },
    {
     "name": "stderr",
     "output_type": "stream",
     "text": [
      " 70%|█████████████████████████████████████████████████████████████████████████████▊                                 | 701/1000 [01:42<00:53,  5.55it/s]"
     ]
    },
    {
     "name": "stdout",
     "output_type": "stream",
     "text": [
      "## DEBUG: 1. Pick input signal P(B) \n",
      "## DEBUG: 2. Find two nearest units \n",
      "## DEBUG: Two nearest points: min_dist_1: 0.5369777629588757 min_dist_2: 0.8670736681325423 \n",
      "## DEBUG: 3. Incremement Age of all edges from s_1 \n",
      "## DEBUG: 4. Add error to neuron \n",
      "## DEBUG: 5. Move s1 and neighbors towards B \n",
      "## DEBUG: 6. reset s1 and s2 age \n",
      "## DEBUG: 7. remove old edges \n",
      "## DEBUG: 8. Insert new neuron \n",
      "## DEBUG: 9. Decrease system error \n",
      "## DEBUG: \n",
      "## DEBUG: \n",
      "## DEBUG: Attemping to plot... \n"
     ]
    },
    {
     "name": "stderr",
     "output_type": "stream",
     "text": [
      "\r",
      " 70%|█████████████████████████████████████████████████████████████████████████████▉                                 | 702/1000 [01:42<00:53,  5.60it/s]"
     ]
    },
    {
     "name": "stdout",
     "output_type": "stream",
     "text": [
      "## DEBUG: 1. Pick input signal P(B) \n",
      "## DEBUG: 2. Find two nearest units \n",
      "## DEBUG: Two nearest points: min_dist_1: 0.9344246364711629 min_dist_2: 1.0542300348338414 \n",
      "## DEBUG: 3. Incremement Age of all edges from s_1 \n",
      "## DEBUG: 4. Add error to neuron \n",
      "## DEBUG: 5. Move s1 and neighbors towards B \n",
      "## DEBUG: 6. reset s1 and s2 age \n",
      "## DEBUG: 7. remove old edges \n",
      "## DEBUG: 8. Insert new neuron \n",
      "## DEBUG: 9. Decrease system error \n",
      "## DEBUG: \n",
      "## DEBUG: \n",
      "## DEBUG: Attemping to plot... \n",
      "## DEBUG: 1. Pick input signal P(B) \n",
      "## DEBUG: 2. Find two nearest units \n",
      "## DEBUG: Two nearest points: min_dist_1: 0.4082328289643397 min_dist_2: 0.4907364996973528 \n",
      "## DEBUG: 3. Incremement Age of all edges from s_1 \n",
      "## DEBUG: 4. Add error to neuron \n",
      "## DEBUG: 5. Move s1 and neighbors towards B \n",
      "## DEBUG: 6. reset s1 and s2 age \n",
      "## DEBUG: 7. remove old edges \n",
      "## DEBUG: 8. Insert new neuron \n",
      "## DEBUG: 9. Decrease system error \n",
      "## DEBUG: \n",
      "## DEBUG: \n",
      "## DEBUG: Attemping to plot... \n"
     ]
    },
    {
     "name": "stderr",
     "output_type": "stream",
     "text": [
      " 70%|██████████████████████████████████████████████████████████████████████████████▏                                | 704/1000 [01:42<00:52,  5.69it/s]"
     ]
    },
    {
     "name": "stdout",
     "output_type": "stream",
     "text": [
      "## DEBUG: 1. Pick input signal P(B) \n",
      "## DEBUG: 2. Find two nearest units \n",
      "## DEBUG: Two nearest points: min_dist_1: 0.38583119268630245 min_dist_2: 0.5980258965157493 \n",
      "## DEBUG: 3. Incremement Age of all edges from s_1 \n",
      "## DEBUG: 4. Add error to neuron \n",
      "## DEBUG: 5. Move s1 and neighbors towards B \n",
      "## DEBUG: 6. reset s1 and s2 age \n",
      "## DEBUG: 7. remove old edges \n",
      "## DEBUG: 8. Insert new neuron \n",
      "## DEBUG: 9. Decrease system error \n",
      "## DEBUG: \n",
      "## DEBUG: \n",
      "## DEBUG: Attemping to plot... \n",
      "## DEBUG: 1. Pick input signal P(B) \n",
      "## DEBUG: 2. Find two nearest units \n",
      "## DEBUG: Two nearest points: min_dist_1: 0.3875388833671554 min_dist_2: 0.6252630210988547 \n",
      "## DEBUG: 3. Incremement Age of all edges from s_1 \n",
      "## DEBUG: 4. Add error to neuron \n",
      "## DEBUG: 5. Move s1 and neighbors towards B \n",
      "## DEBUG: 6. reset s1 and s2 age \n",
      "## DEBUG: 7. remove old edges \n",
      "## DEBUG: 8. Insert new neuron \n",
      "## DEBUG: 9. Decrease system error \n",
      "## DEBUG: \n",
      "## DEBUG: \n",
      "## DEBUG: Attemping to plot... \n"
     ]
    },
    {
     "name": "stderr",
     "output_type": "stream",
     "text": [
      " 71%|██████████████████████████████████████████████████████████████████████████████▎                                | 706/1000 [01:43<00:51,  5.69it/s]"
     ]
    },
    {
     "name": "stdout",
     "output_type": "stream",
     "text": [
      "## DEBUG: 1. Pick input signal P(B) \n",
      "## DEBUG: 2. Find two nearest units \n",
      "## DEBUG: Two nearest points: min_dist_1: 1.1172380915393691 min_dist_2: 1.2064150358263934 \n",
      "## DEBUG: 3. Incremement Age of all edges from s_1 \n",
      "## DEBUG: 4. Add error to neuron \n",
      "## DEBUG: 5. Move s1 and neighbors towards B \n",
      "## DEBUG: 6. reset s1 and s2 age \n",
      "## DEBUG: 7. remove old edges \n",
      "## DEBUG: 8. Insert new neuron \n",
      "## DEBUG: 9. Decrease system error \n",
      "## DEBUG: \n",
      "## DEBUG: \n",
      "## DEBUG: Attemping to plot... \n"
     ]
    },
    {
     "name": "stderr",
     "output_type": "stream",
     "text": [
      "\r",
      " 71%|██████████████████████████████████████████████████████████████████████████████▍                                | 707/1000 [01:43<00:51,  5.66it/s]"
     ]
    },
    {
     "name": "stdout",
     "output_type": "stream",
     "text": [
      "## DEBUG: 1. Pick input signal P(B) \n",
      "## DEBUG: 2. Find two nearest units \n",
      "## DEBUG: Two nearest points: min_dist_1: 1.5420569179156758 min_dist_2: 1.7218963393884588 \n",
      "## DEBUG: 3. Incremement Age of all edges from s_1 \n",
      "## DEBUG: 4. Add error to neuron \n",
      "## DEBUG: 5. Move s1 and neighbors towards B \n",
      "## DEBUG: 6. reset s1 and s2 age \n",
      "## DEBUG: 7. remove old edges \n",
      "## DEBUG: 8. Insert new neuron \n",
      "## DEBUG: 9. Decrease system error \n",
      "## DEBUG: \n",
      "## DEBUG: \n",
      "## DEBUG: Attemping to plot... \n",
      "## DEBUG: 1. Pick input signal P(B) \n",
      "## DEBUG: 2. Find two nearest units \n",
      "## DEBUG: Two nearest points: min_dist_1: 0.16385857844108725 min_dist_2: 0.42314933996058257 \n",
      "## DEBUG: 3. Incremement Age of all edges from s_1 \n",
      "## DEBUG: 4. Add error to neuron \n",
      "## DEBUG: 5. Move s1 and neighbors towards B \n",
      "## DEBUG: 6. reset s1 and s2 age \n",
      "## DEBUG: 7. remove old edges \n",
      "## DEBUG: 8. Insert new neuron \n",
      "## DEBUG: 9. Decrease system error \n",
      "## DEBUG: \n",
      "## DEBUG: \n",
      "## DEBUG: Attemping to plot... \n"
     ]
    },
    {
     "name": "stderr",
     "output_type": "stream",
     "text": [
      " 71%|██████████████████████████████████████████████████████████████████████████████▋                                | 709/1000 [01:43<00:51,  5.67it/s]"
     ]
    },
    {
     "name": "stdout",
     "output_type": "stream",
     "text": [
      "## DEBUG: 1. Pick input signal P(B) \n",
      "## DEBUG: 2. Find two nearest units \n",
      "## DEBUG: Two nearest points: min_dist_1: 1.5254353234404825 min_dist_2: 2.2326437296542694 \n",
      "## DEBUG: 3. Incremement Age of all edges from s_1 \n",
      "## DEBUG: 4. Add error to neuron \n",
      "## DEBUG: 5. Move s1 and neighbors towards B \n",
      "## DEBUG: 6. reset s1 and s2 age \n",
      "## DEBUG: 7. remove old edges \n",
      "## DEBUG: 8. Insert new neuron \n",
      "## DEBUG: 9. Decrease system error \n",
      "## DEBUG: \n",
      "## DEBUG: \n",
      "## DEBUG: Attemping to plot... \n",
      "## DEBUG: 1. Pick input signal P(B) \n",
      "## DEBUG: 2. Find two nearest units \n",
      "## DEBUG: Two nearest points: min_dist_1: 2.1408178096168515 min_dist_2: 2.6805374605914816 \n",
      "## DEBUG: 3. Incremement Age of all edges from s_1 \n",
      "## DEBUG: 4. Add error to neuron \n",
      "## DEBUG: 5. Move s1 and neighbors towards B \n",
      "## DEBUG: 6. reset s1 and s2 age \n",
      "## DEBUG: 7. remove old edges \n",
      "## DEBUG: 8. Insert new neuron \n",
      "## DEBUG: 9. Decrease system error \n",
      "## DEBUG: \n",
      "## DEBUG: \n",
      "## DEBUG: Attemping to plot... \n"
     ]
    },
    {
     "name": "stderr",
     "output_type": "stream",
     "text": [
      " 71%|██████████████████████████████████████████████████████████████████████████████▉                                | 711/1000 [01:44<00:51,  5.63it/s]"
     ]
    },
    {
     "name": "stdout",
     "output_type": "stream",
     "text": [
      "## DEBUG: 1. Pick input signal P(B) \n",
      "## DEBUG: 2. Find two nearest units \n",
      "## DEBUG: Two nearest points: min_dist_1: 0.8494642781464901 min_dist_2: 0.8809035905273687 \n",
      "## DEBUG: 3. Incremement Age of all edges from s_1 \n",
      "## DEBUG: 4. Add error to neuron \n",
      "## DEBUG: 5. Move s1 and neighbors towards B \n",
      "## DEBUG: 6. reset s1 and s2 age \n",
      "## DEBUG: 7. remove old edges \n",
      "## DEBUG: 8. Insert new neuron \n",
      "## DEBUG: 9. Decrease system error \n",
      "## DEBUG: \n",
      "## DEBUG: \n",
      "## DEBUG: Attemping to plot... \n",
      "## DEBUG: 1. Pick input signal P(B) \n",
      "## DEBUG: 2. Find two nearest units \n",
      "## DEBUG:"
     ]
    },
    {
     "name": "stderr",
     "output_type": "stream",
     "text": [
      "\r",
      " 71%|███████████████████████████████████████████████████████████████████████████████                                | 712/1000 [01:44<00:51,  5.63it/s]"
     ]
    },
    {
     "name": "stdout",
     "output_type": "stream",
     "text": [
      " Two nearest points: min_dist_1: 0.2165993389391156 min_dist_2: 0.43912278701135316 \n",
      "## DEBUG: 3. Incremement Age of all edges from s_1 \n",
      "## DEBUG: 4. Add error to neuron \n",
      "## DEBUG: 5. Move s1 and neighbors towards B \n",
      "## DEBUG: 6. reset s1 and s2 age \n",
      "## DEBUG: 7. remove old edges \n",
      "## DEBUG: 8. Insert new neuron \n",
      "## DEBUG: 9. Decrease system error \n",
      "## DEBUG: \n",
      "## DEBUG: \n",
      "## DEBUG: Attemping to plot... \n",
      "## DEBUG: 1. Pick input signal P(B) \n",
      "## DEBUG: 2. Find two nearest units \n",
      "## DEBUG: Two nearest points: min_dist_1: 0.6171104196975381 min_dist_2: 1.597163489077878 \n",
      "## DEBUG: 3. Incremement Age of all edges from s_1 \n",
      "## DEBUG: 4. Add error to neuron \n",
      "## DEBUG: 5. Move s1 and neighbors towards B \n",
      "## DEBUG: 6. reset s1 and s2 age \n",
      "## DEBUG: 7. remove old edges \n",
      "## DEBUG: 8. Insert new neuron \n",
      "## DEBUG: 9. Decrease system error \n",
      "## DEBUG: \n",
      "## DEBUG: \n",
      "## DEBUG: Attemping to plot... \n"
     ]
    },
    {
     "name": "stderr",
     "output_type": "stream",
     "text": [
      " 71%|███████████████████████████████████████████████████████████████████████████████▎                               | 714/1000 [01:44<00:50,  5.65it/s]"
     ]
    },
    {
     "name": "stdout",
     "output_type": "stream",
     "text": [
      "## DEBUG: 1. Pick input signal P(B) \n",
      "## DEBUG: 2. Find two nearest units \n",
      "## DEBUG: Two nearest points: min_dist_1: 0.831451225952382 min_dist_2: 0.9383028139258022 \n",
      "## DEBUG: 3. Incremement Age of all edges from s_1 \n",
      "## DEBUG: 4. Add error to neuron \n",
      "## DEBUG: 5. Move s1 and neighbors towards B \n",
      "## DEBUG: 6. reset s1 and s2 age \n",
      "## DEBUG: 7. remove old edges \n",
      "## DEBUG: 8. Insert new neuron \n",
      "## DEBUG: 9. Decrease system error \n",
      "## DEBUG: \n",
      "## DEBUG: \n",
      "## DEBUG: Attemping to plot... \n",
      "## DEBUG: 1. Pick input signal P(B) \n",
      "## DEBUG: 2. Find two nearest units \n",
      "## DEBUG: Two nearest points: min_dist_1: 1.0006364659558094 min_dist_2: 1.2401985321595042 \n",
      "## DEBUG: 3. Incremement Age of all edges from s_1 \n",
      "## DEBUG: 4. Add error to neuron \n",
      "## DEBUG: 5. Move s1 and neighbors towards B \n",
      "## DEBUG: 6. reset s1 and s2 age \n",
      "## DEBUG: 7. remove old edges \n",
      "## DEBUG: 8. Insert new neuron \n",
      "## DEBUG: 9. Decrease system error \n",
      "## DEBUG: \n",
      "## DEBUG: \n",
      "## DEBUG: Attemping to plot... \n"
     ]
    },
    {
     "name": "stderr",
     "output_type": "stream",
     "text": [
      " 72%|███████████████████████████████████████████████████████████████████████████████▍                               | 716/1000 [01:45<00:50,  5.67it/s]"
     ]
    },
    {
     "name": "stdout",
     "output_type": "stream",
     "text": [
      "## DEBUG: 1. Pick input signal P(B) \n",
      "## DEBUG: 2. Find two nearest units \n",
      "## DEBUG: Two nearest points: min_dist_1: 0.5012082126394003 min_dist_2: 1.0562291975544364 \n",
      "## DEBUG: 3. Incremement Age of all edges from s_1 \n",
      "## DEBUG: 4. Add error to neuron \n",
      "## DEBUG: 5. Move s1 and neighbors towards B \n",
      "## DEBUG: 6. reset s1 and s2 age \n",
      "## DEBUG: 7. remove old edges \n",
      "## DEBUG: 8. Insert new neuron \n",
      "## DEBUG: 9. Decrease system error \n",
      "## DEBUG: \n",
      "## DEBUG: \n",
      "## DEBUG: Attemping to plot... \n",
      "## DEBUG: 1. Pick input signal P(B) \n",
      "## DEBUG: 2. Find two nearest units \n",
      "## DEBUG: Two nearest points: min_dist_1: 1.6000220591379126 min_dist_2: 1.7893436164188923 \n",
      "## DEBUG: 3. Incremement Age of all edges from s_1 \n",
      "## DEBUG: 4. Add error to neuron \n",
      "## DEBUG: 5. Move s1 and neighbors towards B \n",
      "## DEBUG: 6. reset s1 and s2 age \n",
      "## DEBUG: 7. remove old edges \n",
      "## DEBUG: 8. Insert new neuron \n",
      "## DEBUG: 9. Decrease system error \n",
      "## DEBUG: \n",
      "## DEBUG: \n",
      "## DEBUG: Attemping to plot... \n"
     ]
    },
    {
     "name": "stderr",
     "output_type": "stream",
     "text": [
      " 72%|███████████████████████████████████████████████████████████████████████████████▋                               | 718/1000 [01:45<00:49,  5.65it/s]"
     ]
    },
    {
     "name": "stdout",
     "output_type": "stream",
     "text": [
      "## DEBUG: 1. Pick input signal P(B) \n",
      "## DEBUG: 2. Find two nearest units \n",
      "## DEBUG: Two nearest points: min_dist_1: 0.6492829631348779 min_dist_2: 0.7475143728101649 \n",
      "## DEBUG: 3. Incremement Age of all edges from s_1 \n",
      "## DEBUG: 4. Add error to neuron \n",
      "## DEBUG: 5. Move s1 and neighbors towards B \n",
      "## DEBUG: 6. reset s1 and s2 age \n",
      "## DEBUG: 7. remove old edges \n",
      "## DEBUG: 8. Insert new neuron \n",
      "## DEBUG: 9. Decrease system error \n",
      "## DEBUG: \n",
      "## DEBUG: \n",
      "## DEBUG: Attemping to plot... \n"
     ]
    },
    {
     "name": "stderr",
     "output_type": "stream",
     "text": [
      "\r",
      " 72%|███████████████████████████████████████████████████████████████████████████████▊                               | 719/1000 [01:45<00:49,  5.64it/s]"
     ]
    },
    {
     "name": "stdout",
     "output_type": "stream",
     "text": [
      "## DEBUG: 1. Pick input signal P(B) \n",
      "## DEBUG: 2. Find two nearest units \n",
      "## DEBUG: Two nearest points: min_dist_1: 0.8083130173960122 min_dist_2: 0.8142946092259201 \n",
      "## DEBUG: 3. Incremement Age of all edges from s_1 \n",
      "## DEBUG: 4. Add error to neuron \n",
      "## DEBUG: 5. Move s1 and neighbors towards B \n",
      "## DEBUG: 6. reset s1 and s2 age \n",
      "## DEBUG: 7. remove old edges \n",
      "## DEBUG: 8. Insert new neuron \n",
      "## DEBUG: 9. Decrease system error \n",
      "## DEBUG: \n",
      "## DEBUG: \n",
      "## DEBUG: Attemping to plot... \n",
      "## DEBUG: 1. Pick input signal P(B) \n",
      "## DEBUG: 2. Find two nearest units \n",
      "## DEBUG: Two nearest points: min_dist_1: 0.42269494876558006 min_dist_2: 0.6195458985745325 \n",
      "## DEBUG: 3. Incremement Age of all edges from s_1 \n",
      "## DEBUG: 4. Add error to neuron \n",
      "## DEBUG: 5. Move s1 and neighbors towards B \n",
      "## DEBUG: 6. reset s1 and s2 age \n",
      "## DEBUG: 7. remove old edges \n",
      "## DEBUG: 8. Insert new neuron \n",
      "## DEBUG: 9. Decrease system error \n",
      "## DEBUG: \n",
      "## DEBUG: \n",
      "## DEBUG: Attemping to plot... \n"
     ]
    },
    {
     "name": "stderr",
     "output_type": "stream",
     "text": [
      " 72%|████████████████████████████████████████████████████████████████████████████████                               | 721/1000 [01:45<00:50,  5.57it/s]"
     ]
    },
    {
     "name": "stdout",
     "output_type": "stream",
     "text": [
      "## DEBUG: 1. Pick input signal P(B) \n",
      "## DEBUG: 2. Find two nearest units \n",
      "## DEBUG: Two nearest points: min_dist_1: 0.3386862642631954 min_dist_2: 0.5987293745861448 \n",
      "## DEBUG: 3. Incremement Age of all edges from s_1 \n",
      "## DEBUG: 4. Add error to neuron \n",
      "## DEBUG: 5. Move s1 and neighbors towards B \n",
      "## DEBUG: 6. reset s1 and s2 age \n",
      "## DEBUG: 7. remove old edges \n",
      "## DEBUG: 8. Insert new neuron \n",
      "## DEBUG: 9. Decrease system error \n",
      "## DEBUG: \n",
      "## DEBUG: \n",
      "## DEBUG: Attemping to plot... \n",
      "## DEBUG: 1. Pick input signal P(B) \n",
      "## DEBUG: 2. Find two nearest units \n",
      "## DEBUG: Two nearest points: min_dist_1: 0.2818706537572515 min_dist_2: 0.35224332435058875 \n",
      "## DEBUG: 3. Incremement Age of all edges from s_1 \n",
      "## DEBUG: 4. Add error to neuron \n",
      "## DEBUG: 5. Move s1 and neighbors towards B \n",
      "## DEBUG: 6. reset s1 and s2 age \n",
      "## DEBUG: 7. remove old edges \n",
      "## DEBUG: 8. Insert new neuron \n",
      "## DEBUG: 9. Decrease system error \n",
      "## DEBUG: \n",
      "## DEBUG: \n",
      "## DEBUG: Attemping to plot... \n"
     ]
    },
    {
     "name": "stderr",
     "output_type": "stream",
     "text": [
      " 72%|████████████████████████████████████████████████████████████████████████████████▎                              | 723/1000 [01:46<00:49,  5.59it/s]"
     ]
    },
    {
     "name": "stdout",
     "output_type": "stream",
     "text": [
      "## DEBUG: 1. Pick input signal P(B) \n",
      "## DEBUG: 2. Find two nearest units \n",
      "## DEBUG: Two nearest points: min_dist_1: 0.2536835883815269 min_dist_2: 0.3518910810262383 \n",
      "## DEBUG: 3. Incremement Age of all edges from s_1 \n",
      "## DEBUG: 4. Add error to neuron \n",
      "## DEBUG: 5. Move s1 and neighbors towards B \n",
      "## DEBUG: 6. reset s1 and s2 age \n",
      "## DEBUG: 7. remove old edges \n",
      "## DEBUG: 8. Insert new neuron \n",
      "## DEBUG: 9. Decrease system error \n",
      "## DEBUG: \n",
      "## DEBUG: \n",
      "## DEBUG: Attemping to plot... \n",
      "## DEBUG: 1. Pick input signal P(B) \n",
      "## DEBUG: 2. Find two nearest units \n",
      "## DEBUG: Two nearest points: min_dist_1: 0.14747272059697775 min_dist_2: 0.422726190620622 \n",
      "## DEBUG: 3. Incremement Age of all edges from s_1 \n",
      "## DEBUG: 4. Add error to neuron \n",
      "## DEBUG: 5. Move s1 and neighbors towards B \n",
      "## DEBUG: 6. reset s1 and s2 age \n",
      "## DEBUG: 7. remove old edges \n",
      "## DEBUG: 8. Insert new neuron \n",
      "## DEBUG: 9. Decrease system error \n",
      "## DEBUG: \n",
      "## DEBUG: \n",
      "## DEBUG: Attemping to plot... \n"
     ]
    },
    {
     "name": "stderr",
     "output_type": "stream",
     "text": [
      " 72%|████████████████████████████████████████████████████████████████████████████████▍                              | 725/1000 [01:46<00:49,  5.57it/s]"
     ]
    },
    {
     "name": "stdout",
     "output_type": "stream",
     "text": [
      "## DEBUG: 1. Pick input signal P(B) \n",
      "## DEBUG: 2. Find two nearest units \n",
      "## DEBUG: Two nearest points: min_dist_1: 0.49276831777554925 min_dist_2: 0.9727496790481379 \n",
      "## DEBUG: 3. Incremement Age of all edges from s_1 \n",
      "## DEBUG: 4. Add error to neuron \n",
      "## DEBUG: 5. Move s1 and neighbors towards B \n",
      "## DEBUG: 6. reset s1 and s2 age \n",
      "## DEBUG: 7. remove old edges \n",
      "## DEBUG: 8. Insert new neuron \n",
      "## DEBUG: 9. Decrease system error \n",
      "## DEBUG: \n",
      "## DEBUG: \n",
      "## DEBUG: Attemping to plot... \n",
      "## DEBUG: 1. Pick input signal P(B) \n",
      "## DEBUG: 2. Find two nearest units \n",
      "## DEBUG: Two nearest points: min_dist_1: 0.3674095460679055 min_dist_2: 0.4902457631976552 \n",
      "## DEBUG: 3. Incremement Age of all edges from s_1 \n",
      "## DEBUG: 4. Add error to neuron \n",
      "## DEBUG: 5. Move s1 and neighbors towards B \n",
      "## DEBUG: 6. reset s1 and s2 age \n",
      "## DEBUG: 7. remove old edges \n",
      "## DEBUG:"
     ]
    },
    {
     "name": "stderr",
     "output_type": "stream",
     "text": [
      "\r",
      " 73%|████████████████████████████████████████████████████████████████████████████████▌                              | 726/1000 [01:46<00:48,  5.59it/s]"
     ]
    },
    {
     "name": "stdout",
     "output_type": "stream",
     "text": [
      " 8. Insert new neuron \n",
      "## DEBUG: 9. Decrease system error \n",
      "## DEBUG: \n",
      "## DEBUG: \n",
      "## DEBUG: Attemping to plot... \n",
      "## DEBUG: 1. Pick input signal P(B) \n",
      "## DEBUG: 2. Find two nearest units \n",
      "## DEBUG: Two nearest points: min_dist_1: 0.8372129253286215 min_dist_2: 0.8635478412698497 \n",
      "## DEBUG: 3. Incremement Age of all edges from s_1 \n",
      "## DEBUG: 4. Add error to neuron \n",
      "## DEBUG: 5. Move s1 and neighbors towards B \n",
      "## DEBUG: 6. reset s1 and s2 age \n",
      "## DEBUG: 7. remove old edges \n",
      "## DEBUG: 8. Insert new neuron \n",
      "## DEBUG: 9. Decrease system error \n",
      "## DEBUG: \n",
      "## DEBUG: \n",
      "## DEBUG: Attemping to plot... \n"
     ]
    },
    {
     "name": "stderr",
     "output_type": "stream",
     "text": [
      " 73%|████████████████████████████████████████████████████████████████████████████████▊                              | 728/1000 [01:47<00:49,  5.55it/s]"
     ]
    },
    {
     "name": "stdout",
     "output_type": "stream",
     "text": [
      "## DEBUG: 1. Pick input signal P(B) \n",
      "## DEBUG: 2. Find two nearest units \n",
      "## DEBUG: Two nearest points: min_dist_1: 0.3743249804422549 min_dist_2: 0.40573441390309095 \n",
      "## DEBUG: 3. Incremement Age of all edges from s_1 \n",
      "## DEBUG: 4. Add error to neuron \n",
      "## DEBUG: 5. Move s1 and neighbors towards B \n",
      "## DEBUG: 6. reset s1 and s2 age \n",
      "## DEBUG: 7. remove old edges \n",
      "## DEBUG: 8. Insert new neuron \n",
      "## DEBUG: 9. Decrease system error \n",
      "## DEBUG: \n",
      "## DEBUG: \n",
      "## DEBUG: Attemping to plot... \n",
      "## DEBUG: 1. Pick input signal P(B) \n",
      "## DEBUG: 2. Find two nearest units \n",
      "## DEBUG: Two nearest points: min_dist_1: 2.3927509060895282 min_dist_2: 2.5565155182129926 \n",
      "## DEBUG: 3. Incremement Age of all edges from s_1 \n",
      "## DEBUG: 4. Add error to neuron \n",
      "## DEBUG: 5. Move s1 and neighbors towards B \n",
      "## DEBUG: 6. reset s1 and s2 age \n",
      "## DEBUG: 7. remove old edges \n",
      "## DEBUG: 8. Insert new neuron \n",
      "## DEBUG: 9. Decrease system error \n",
      "## DEBUG: \n",
      "## DEBUG: \n",
      "## DEBUG: Attemping to plot... \n"
     ]
    },
    {
     "name": "stderr",
     "output_type": "stream",
     "text": [
      " 73%|█████████████████████████████████████████████████████████████████████████████████                              | 730/1000 [01:47<00:50,  5.38it/s]"
     ]
    },
    {
     "name": "stdout",
     "output_type": "stream",
     "text": [
      "## DEBUG: 1. Pick input signal P(B) \n",
      "## DEBUG: 2. Find two nearest units \n",
      "## DEBUG: Two nearest points: min_dist_1: 0.2355039199428911 min_dist_2: 0.867677458338212 \n",
      "## DEBUG: 3. Incremement Age of all edges from s_1 \n",
      "## DEBUG: 4. Add error to neuron \n",
      "## DEBUG: 5. Move s1 and neighbors towards B \n",
      "## DEBUG: 6. reset s1 and s2 age \n",
      "## DEBUG: 7. remove old edges \n",
      "## DEBUG: 8. Insert new neuron \n",
      "## DEBUG: 9. Decrease system error \n",
      "## DEBUG: \n",
      "## DEBUG: \n",
      "## DEBUG: Attemping to plot... \n",
      "## DEBUG: 1. Pick input signal P(B) \n",
      "## DEBUG: 2. Find two nearest units \n",
      "## DEBUG: Two nearest points: min_dist_1: 0.5951586143237261 min_dist_2: 0.6520752073615332 \n",
      "## DEBUG: 3. Incremement Age of all edges from s_1 \n",
      "## DEBUG: 4. Add error to neuron \n",
      "## DEBUG: 5. Move s1 and neighbors towards B \n",
      "## DEBUG: 6. reset s1 and s2 age \n",
      "## DEBUG: 7. remove old edges \n",
      "## DEBUG: 8. Insert new neuron \n",
      "## DEBUG: 9. Decrease system error \n",
      "## DEBUG: \n",
      "## DEBUG: \n",
      "## DEBUG: Attemping to plot... \n"
     ]
    },
    {
     "name": "stderr",
     "output_type": "stream",
     "text": [
      " 73%|█████████████████████████████████████████████████████████████████████████████████▎                             | 732/1000 [01:47<00:49,  5.47it/s]"
     ]
    },
    {
     "name": "stdout",
     "output_type": "stream",
     "text": [
      "## DEBUG: 1. Pick input signal P(B) \n",
      "## DEBUG: 2. Find two nearest units \n",
      "## DEBUG: Two nearest points: min_dist_1: 1.2884366484419767 min_dist_2: 1.666353202635049 \n",
      "## DEBUG: 3. Incremement Age of all edges from s_1 \n",
      "## DEBUG: 4. Add error to neuron \n",
      "## DEBUG: 5. Move s1 and neighbors towards B \n",
      "## DEBUG: 6. reset s1 and s2 age \n",
      "## DEBUG: 7. remove old edges \n",
      "## DEBUG: 8. Insert new neuron \n",
      "## DEBUG: 9. Decrease system error \n",
      "## DEBUG: \n",
      "## DEBUG: \n",
      "## DEBUG: Attemping to plot... \n",
      "## DEBUG: 1. Pick input signal P(B) \n",
      "## DEBUG: 2. Find two nearest units \n",
      "## DEBUG: Two nearest points: min_dist_1: 0.6338467424927428 min_dist_2: 0.742805482678552 \n",
      "## DEBUG: 3. Incremement Age of all edges from s_1 \n",
      "## DEBUG: 4. Add error to neuron \n",
      "## DEBUG: 5. Move s1 and neighbors towards B \n",
      "## DEBUG: 6. reset s1 and s2 age \n",
      "## DEBUG: 7. remove old edges \n",
      "## DEBUG: 8. Insert new neuron \n",
      "## DEBUG: 9. Decrease system error \n",
      "## DEBUG: \n",
      "## DEBUG: \n",
      "## DEBUG: Attemping to plot... \n"
     ]
    },
    {
     "name": "stderr",
     "output_type": "stream",
     "text": [
      " 73%|█████████████████████████████████████████████████████████████████████████████████▍                             | 734/1000 [01:48<00:48,  5.51it/s]"
     ]
    },
    {
     "name": "stdout",
     "output_type": "stream",
     "text": [
      "## DEBUG: 1. Pick input signal P(B) \n",
      "## DEBUG: 2. Find two nearest units \n",
      "## DEBUG: Two nearest points: min_dist_1: 0.26939030527355684 min_dist_2: 0.6450767563842942 \n",
      "## DEBUG: 3. Incremement Age of all edges from s_1 \n",
      "## DEBUG: 4. Add error to neuron \n",
      "## DEBUG: 5. Move s1 and neighbors towards B \n",
      "## DEBUG: 6. reset s1 and s2 age \n",
      "## DEBUG: 7. remove old edges \n",
      "## DEBUG: 8. Insert new neuron \n",
      "## DEBUG: 9. Decrease system error \n",
      "## DEBUG: \n",
      "## DEBUG: \n",
      "## DEBUG: Attemping to plot... \n"
     ]
    },
    {
     "name": "stderr",
     "output_type": "stream",
     "text": [
      "\r",
      " 74%|█████████████████████████████████████████████████████████████████████████████████▌                             | 735/1000 [01:48<00:48,  5.51it/s]"
     ]
    },
    {
     "name": "stdout",
     "output_type": "stream",
     "text": [
      "## DEBUG: 1. Pick input signal P(B) \n",
      "## DEBUG: 2. Find two nearest units \n",
      "## DEBUG: Two nearest points: min_dist_1: 1.387851226124108 min_dist_2: 1.722609302540334 \n",
      "## DEBUG: 3. Incremement Age of all edges from s_1 \n",
      "## DEBUG: 4. Add error to neuron \n",
      "## DEBUG: 5. Move s1 and neighbors towards B \n",
      "## DEBUG: 6. reset s1 and s2 age \n",
      "## DEBUG: 7. remove old edges \n",
      "## DEBUG: 8. Insert new neuron \n",
      "## DEBUG: 9. Decrease system error \n",
      "## DEBUG: \n",
      "## DEBUG: \n",
      "## DEBUG: Attemping to plot... \n",
      "## DEBUG: 1. Pick input signal P(B) \n",
      "## DEBUG: 2. Find two nearest units \n",
      "## DEBUG: Two nearest points: min_dist_1: 0.18149548346613686 min_dist_2: 0.8233079142378164 \n",
      "## DEBUG: 3. Incremement Age of all edges from s_1 \n",
      "## DEBUG: 4. Add error to neuron \n",
      "## DEBUG: 5. Move s1 and neighbors towards B \n",
      "## DEBUG: 6. reset s1 and s2 age \n",
      "## DEBUG: 7. remove old edges \n",
      "## DEBUG: 8. Insert new neuron \n",
      "## DEBUG: 9. Decrease system error \n",
      "## DEBUG: \n",
      "## DEBUG: \n",
      "## DEBUG: Attemping to plot... \n"
     ]
    },
    {
     "name": "stderr",
     "output_type": "stream",
     "text": [
      " 74%|█████████████████████████████████████████████████████████████████████████████████▊                             | 737/1000 [01:48<00:47,  5.52it/s]"
     ]
    },
    {
     "name": "stdout",
     "output_type": "stream",
     "text": [
      "## DEBUG: 1. Pick input signal P(B) \n",
      "## DEBUG: 2. Find two nearest units \n",
      "## DEBUG: Two nearest points: min_dist_1: 1.2999493616329707 min_dist_2: 1.5662519787238014 \n",
      "## DEBUG: 3. Incremement Age of all edges from s_1 \n",
      "## DEBUG: 4. Add error to neuron \n",
      "## DEBUG: 5. Move s1 and neighbors towards B \n",
      "## DEBUG: 6. reset s1 and s2 age \n",
      "## DEBUG: 7. remove old edges \n",
      "## DEBUG: 8. Insert new neuron \n",
      "## DEBUG: 9. Decrease system error \n",
      "## DEBUG: \n",
      "## DEBUG: \n",
      "## DEBUG: Attemping to plot... \n",
      "## DEBUG: 1. Pick input signal P(B) \n",
      "## DEBUG: 2. Find two nearest units \n"
     ]
    },
    {
     "name": "stderr",
     "output_type": "stream",
     "text": [
      "\r",
      " 74%|█████████████████████████████████████████████████████████████████████████████████▉                             | 738/1000 [01:49<00:47,  5.47it/s]"
     ]
    },
    {
     "name": "stdout",
     "output_type": "stream",
     "text": [
      "## DEBUG: Two nearest points: min_dist_1: 1.8078857198014557 min_dist_2: 1.9603295072382958 \n",
      "## DEBUG: 3. Incremement Age of all edges from s_1 \n",
      "## DEBUG: 4. Add error to neuron \n",
      "## DEBUG: 5. Move s1 and neighbors towards B \n",
      "## DEBUG: 6. reset s1 and s2 age \n",
      "## DEBUG: 7. remove old edges \n",
      "## DEBUG: 8. Insert new neuron \n",
      "## DEBUG: 9. Decrease system error \n",
      "## DEBUG: \n",
      "## DEBUG: \n",
      "## DEBUG: Attemping to plot... \n",
      "## DEBUG: 1. Pick input signal P(B) \n",
      "## DEBUG: 2. Find two nearest units \n",
      "## DEBUG: Two nearest points: min_dist_1: 0.26857271919722936 min_dist_2: 0.9464548693508966 \n",
      "## DEBUG: 3. Incremement Age of all edges from s_1 \n",
      "## DEBUG: 4. Add error to neuron \n",
      "## DEBUG: 5. Move s1 and neighbors towards B \n",
      "## DEBUG: 6. reset s1 and s2 age \n",
      "## DEBUG: 7. remove old edges \n",
      "## DEBUG: 8. Insert new neuron \n",
      "## DEBUG: 9. Decrease system error \n",
      "## DEBUG: \n",
      "## DEBUG: \n",
      "## DEBUG: Attemping to plot... \n"
     ]
    },
    {
     "name": "stderr",
     "output_type": "stream",
     "text": [
      " 74%|██████████████████████████████████████████████████████████████████████████████████▏                            | 740/1000 [01:53<04:44,  1.10s/it]"
     ]
    },
    {
     "name": "stdout",
     "output_type": "stream",
     "text": [
      "## DEBUG: 1. Pick input signal P(B) \n",
      "## DEBUG: 2. Find two nearest units \n",
      "## DEBUG: Two nearest points: min_dist_1: 0.5313033847460028 min_dist_2: 0.9291686178855401 \n",
      "## DEBUG: 3. Incremement Age of all edges from s_1 \n",
      "## DEBUG: 4. Add error to neuron \n",
      "## DEBUG: 5. Move s1 and neighbors towards B \n",
      "## DEBUG: 6. reset s1 and s2 age \n",
      "## DEBUG: 7. remove old edges \n",
      "## DEBUG: 8. Insert new neuron \n",
      "## DEBUG: 9. Decrease system error \n",
      "## DEBUG: \n",
      "## DEBUG: \n",
      "## DEBUG: Attemping to plot... \n"
     ]
    },
    {
     "name": "stderr",
     "output_type": "stream",
     "text": [
      "\r",
      " 74%|██████████████████████████████████████████████████████████████████████████████████▎                            | 741/1000 [01:53<03:33,  1.22it/s]"
     ]
    },
    {
     "name": "stdout",
     "output_type": "stream",
     "text": [
      "## DEBUG: 1. Pick input signal P(B) \n",
      "## DEBUG: 2. Find two nearest units \n",
      "## DEBUG: Two nearest points: min_dist_1: 0.3952978287978418 min_dist_2: 0.7359885754533408 \n",
      "## DEBUG: 3. Incremement Age of all edges from s_1 \n",
      "## DEBUG: 4. Add error to neuron \n",
      "## DEBUG: 5. Move s1 and neighbors towards B \n",
      "## DEBUG: 6. reset s1 and s2 age \n",
      "## DEBUG: 7. remove old edges \n",
      "## DEBUG: 8. Insert new neuron \n",
      "## DEBUG: 9. Decrease system error \n",
      "## DEBUG: \n",
      "## DEBUG: \n",
      "## DEBUG: Attemping to plot... \n",
      "## DEBUG: 1. Pick input signal P(B) \n",
      "## DEBUG: 2. Find two nearest units \n",
      "## DEBUG: Two nearest points: min_dist_1: 1.2890653486428907 min_dist_2: 1.7587734799220687 \n",
      "## DEBUG: 3. Incremement Age of all edges from s_1 \n",
      "## DEBUG: 4. Add error to neuron \n",
      "## DEBUG: 5. Move s1 and neighbors towards B \n",
      "## DEBUG: 6. reset s1 and s2 age \n",
      "## DEBUG: 7. remove old edges \n",
      "## DEBUG: 8. Insert new neuron \n",
      "## DEBUG: 9. Decrease system error \n",
      "## DEBUG: \n",
      "## DEBUG: \n",
      "## DEBUG: Attemping to plot... \n"
     ]
    },
    {
     "name": "stderr",
     "output_type": "stream",
     "text": [
      " 74%|██████████████████████████████████████████████████████████████████████████████████▍                            | 743/1000 [01:54<02:07,  2.01it/s]"
     ]
    },
    {
     "name": "stdout",
     "output_type": "stream",
     "text": [
      "## DEBUG: 1. Pick input signal P(B) \n",
      "## DEBUG: 2. Find two nearest units \n",
      "## DEBUG: Two nearest points: min_dist_1: 0.8425717740537031 min_dist_2: 1.3387344176672094 \n",
      "## DEBUG: 3. Incremement Age of all edges from s_1 \n",
      "## DEBUG: 4. Add error to neuron \n",
      "## DEBUG: 5. Move s1 and neighbors towards B \n",
      "## DEBUG: 6. reset s1 and s2 age \n",
      "## DEBUG: 7. remove old edges \n",
      "## DEBUG: 8. Insert new neuron \n",
      "## DEBUG: 9. Decrease system error \n",
      "## DEBUG: \n",
      "## DEBUG: \n",
      "## DEBUG: Attemping to plot... \n",
      "## DEBUG: 1. Pick input signal P(B) \n",
      "## DEBUG: 2. Find two nearest units \n",
      "## DEBUG: Two nearest points: min_dist_1: 0.48673461051320854 min_dist_2: 0.8662065944644093 \n",
      "## DEBUG: 3. Incremement Age of all edges from s_1 \n",
      "## DEBUG: 4. Add error to neuron \n",
      "## DEBUG: 5. Move s1 and neighbors towards B \n",
      "## DEBUG: 6. reset s1 and s2 age \n",
      "## DEBUG: 7. remove old edges \n",
      "## DEBUG: 8. Insert new neuron \n",
      "## DEBUG: 9. Decrease system error \n",
      "## DEBUG: \n",
      "## DEBUG: \n",
      "## DEBUG: Attemping to plot... \n"
     ]
    },
    {
     "name": "stderr",
     "output_type": "stream",
     "text": [
      " 74%|██████████████████████████████████████████████████████████████████████████████████▋                            | 745/1000 [01:54<01:26,  2.96it/s]"
     ]
    },
    {
     "name": "stdout",
     "output_type": "stream",
     "text": [
      "## DEBUG: 1. Pick input signal P(B) \n",
      "## DEBUG: 2. Find two nearest units \n",
      "## DEBUG: Two nearest points: min_dist_1: 2.8188348016618137 min_dist_2: 2.985465327389357 \n",
      "## DEBUG: 3. Incremement Age of all edges from s_1 \n",
      "## DEBUG: 4. Add error to neuron \n",
      "## DEBUG: 5. Move s1 and neighbors towards B \n",
      "## DEBUG: 6. reset s1 and s2 age \n",
      "## DEBUG: 7. remove old edges \n",
      "## DEBUG: 8. Insert new neuron \n",
      "## DEBUG: 9. Decrease system error \n",
      "## DEBUG: \n",
      "## DEBUG: \n",
      "## DEBUG: Attemping to plot... \n"
     ]
    },
    {
     "name": "stderr",
     "output_type": "stream",
     "text": [
      "\r",
      " 75%|██████████████████████████████████████████████████████████████████████████████████▊                            | 746/1000 [01:54<01:14,  3.43it/s]"
     ]
    },
    {
     "name": "stdout",
     "output_type": "stream",
     "text": [
      "## DEBUG: 1. Pick input signal P(B) \n",
      "## DEBUG: 2. Find two nearest units \n",
      "## DEBUG: Two nearest points: min_dist_1: 0.533589514429847 min_dist_2: 1.0052556523426268 \n",
      "## DEBUG: 3. Incremement Age of all edges from s_1 \n",
      "## DEBUG: 4. Add error to neuron \n",
      "## DEBUG: 5. Move s1 and neighbors towards B \n",
      "## DEBUG: 6. reset s1 and s2 age \n",
      "## DEBUG: 7. remove old edges \n",
      "## DEBUG: 8. Insert new neuron \n",
      "## DEBUG: 9. Decrease system error \n",
      "## DEBUG: \n",
      "## DEBUG: \n",
      "## DEBUG: Attemping to plot... \n",
      "## DEBUG: 1. Pick input signal P(B) \n",
      "## DEBUG: 2. Find two nearest units \n",
      "## DEBUG: Two nearest points: min_dist_1: 1.114512580939298 min_dist_2: 1.5415390894307137 \n",
      "## DEBUG: 3. Incremement Age of all edges from s_1 \n",
      "## DEBUG: 4. Add error to neuron \n",
      "## DEBUG: 5. Move s1 and neighbors towards B \n",
      "## DEBUG: 6. reset s1 and s2 age \n",
      "## DEBUG: 7. remove old edges \n",
      "## DEBUG: 8. Insert new neuron \n",
      "## DEBUG: 9. Decrease system error \n",
      "## DEBUG: \n",
      "## DEBUG: \n",
      "## DEBUG: Attemping to plot... \n"
     ]
    },
    {
     "name": "stderr",
     "output_type": "stream",
     "text": [
      " 75%|███████████████████████████████████████████████████████████████████████████████████                            | 748/1000 [01:55<00:59,  4.21it/s]"
     ]
    },
    {
     "name": "stdout",
     "output_type": "stream",
     "text": [
      "## DEBUG: 1. Pick input signal P(B) \n",
      "## DEBUG: 2. Find two nearest units \n",
      "## DEBUG: Two nearest points: min_dist_1: 0.3754079500130216 min_dist_2: 1.0766781453365037 \n",
      "## DEBUG: 3. Incremement Age of all edges from s_1 \n",
      "## DEBUG: 4. Add error to neuron \n",
      "## DEBUG: 5. Move s1 and neighbors towards B \n",
      "## DEBUG: 6. reset s1 and s2 age \n",
      "## DEBUG: 7. remove old edges \n",
      "## DEBUG: 8. Insert new neuron \n",
      "## DEBUG: 9. Decrease system error \n",
      "## DEBUG: \n",
      "## DEBUG: \n",
      "## DEBUG: Attemping to plot... \n"
     ]
    },
    {
     "name": "stderr",
     "output_type": "stream",
     "text": [
      "\r",
      " 75%|███████████████████████████████████████████████████████████████████████████████████▏                           | 749/1000 [01:55<00:55,  4.52it/s]"
     ]
    },
    {
     "name": "stdout",
     "output_type": "stream",
     "text": [
      "## DEBUG: 1. Pick input signal P(B) \n",
      "## DEBUG: 2. Find two nearest units \n",
      "## DEBUG: Two nearest points: min_dist_1: 0.8744028695044824 min_dist_2: 2.539308376150928 \n",
      "## DEBUG: 3. Incremement Age of all edges from s_1 \n",
      "## DEBUG: 4. Add error to neuron \n",
      "## DEBUG: 5. Move s1 and neighbors towards B \n",
      "## DEBUG: 6. reset s1 and s2 age \n",
      "## DEBUG: 7. remove old edges \n",
      "## DEBUG: 8. Insert new neuron \n",
      "## DEBUG: 9. Decrease system error \n",
      "## DEBUG: \n",
      "## DEBUG: \n",
      "## DEBUG: Attemping to plot... \n",
      "## DEBUG: 1. Pick input signal P(B) \n",
      "## DEBUG: 2. Find two nearest units \n",
      "## DEBUG: Two nearest points: min_dist_1: 1.0685335713176727 min_dist_2: 1.0822987883667716 \n",
      "## DEBUG: 3. Incremement Age of all edges from s_1 \n",
      "## DEBUG: 4. Add error to neuron \n",
      "## DEBUG: 5. Move s1 and neighbors towards B \n",
      "## DEBUG: 6. reset s1 and s2 age \n",
      "## DEBUG: 7. remove old edges \n",
      "## DEBUG: 8. Insert new neuron \n",
      "## DEBUG: 9. Decrease system error \n",
      "## DEBUG: \n",
      "## DEBUG: \n",
      "## DEBUG: Attemping to plot... \n"
     ]
    },
    {
     "name": "stderr",
     "output_type": "stream",
     "text": [
      " 75%|███████████████████████████████████████████████████████████████████████████████████▎                           | 751/1000 [01:55<00:50,  4.96it/s]"
     ]
    },
    {
     "name": "stdout",
     "output_type": "stream",
     "text": [
      "## DEBUG: 1. Pick input signal P(B) \n",
      "## DEBUG: 2. Find two nearest units \n",
      "## DEBUG: Two nearest points: min_dist_1: 1.3981572315480875 min_dist_2: 1.84735711359426 \n",
      "## DEBUG: 3. Incremement Age of all edges from s_1 \n",
      "## DEBUG: 4. Add error to neuron \n",
      "## DEBUG: 5. Move s1 and neighbors towards B \n",
      "## DEBUG: 6. reset s1 and s2 age \n",
      "## DEBUG: 7. remove old edges \n",
      "## DEBUG: 8. Insert new neuron \n",
      "## DEBUG: 9. Decrease system error \n",
      "## DEBUG: \n",
      "## DEBUG: \n",
      "## DEBUG: Attemping to plot... \n",
      "## DEBUG: 1. Pick input signal P(B) \n",
      "## DEBUG: 2. Find two nearest units \n",
      "## DEBUG: Two nearest points: min_dist_1: 0.8112740036665799 min_dist_2: 1.2309332983286347 \n",
      "## DEBUG: 3. Incremement Age of all edges from s_1 \n",
      "## DEBUG: 4. Add error to neuron \n",
      "## DEBUG: 5. Move s1 and neighbors towards B \n",
      "## DEBUG: 6. reset s1 and s2 age \n",
      "## DEBUG: 7. remove old edges \n",
      "## DEBUG: 8. Insert new neuron \n",
      "## DEBUG: 9. Decrease system error \n",
      "## DEBUG: \n",
      "## DEBUG: \n",
      "## DEBUG: Attemping to plot... \n"
     ]
    },
    {
     "name": "stderr",
     "output_type": "stream",
     "text": [
      " 75%|███████████████████████████████████████████████████████████████████████████████████▌                           | 753/1000 [01:56<00:47,  5.16it/s]"
     ]
    },
    {
     "name": "stdout",
     "output_type": "stream",
     "text": [
      "## DEBUG: 1. Pick input signal P(B) \n",
      "## DEBUG: 2. Find two nearest units \n",
      "## DEBUG: Two nearest points: min_dist_1: 0.025866389468210606 min_dist_2: 1.0069007075950702 \n",
      "## DEBUG: 3. Incremement Age of all edges from s_1 \n",
      "## DEBUG: 4. Add error to neuron \n",
      "## DEBUG: 5. Move s1 and neighbors towards B \n",
      "## DEBUG: 6. reset s1 and s2 age \n",
      "## DEBUG: 7. remove old edges \n",
      "## DEBUG: 8. Insert new neuron \n",
      "## DEBUG: 9. Decrease system error \n",
      "## DEBUG: \n",
      "## DEBUG: \n",
      "## DEBUG: Attemping to plot... \n"
     ]
    },
    {
     "name": "stderr",
     "output_type": "stream",
     "text": [
      "\r",
      " 75%|███████████████████████████████████████████████████████████████████████████████████▋                           | 754/1000 [01:56<00:47,  5.19it/s]"
     ]
    },
    {
     "name": "stdout",
     "output_type": "stream",
     "text": [
      "## DEBUG: 1. Pick input signal P(B) \n",
      "## DEBUG: 2. Find two nearest units \n",
      "## DEBUG: Two nearest points: min_dist_1: 0.3725646306892866 min_dist_2: 0.9476609032841783 \n",
      "## DEBUG: 3. Incremement Age of all edges from s_1 \n",
      "## DEBUG: 4. Add error to neuron \n",
      "## DEBUG: 5. Move s1 and neighbors towards B \n",
      "## DEBUG: 6. reset s1 and s2 age \n",
      "## DEBUG: 7. remove old edges \n",
      "## DEBUG: 8. Insert new neuron \n",
      "## DEBUG: 9. Decrease system error \n",
      "## DEBUG: \n",
      "## DEBUG: \n",
      "## DEBUG: Attemping to plot... \n"
     ]
    },
    {
     "name": "stderr",
     "output_type": "stream",
     "text": [
      "\r",
      " 76%|███████████████████████████████████████████████████████████████████████████████████▊                           | 755/1000 [01:56<00:47,  5.21it/s]"
     ]
    },
    {
     "name": "stdout",
     "output_type": "stream",
     "text": [
      "## DEBUG: 1. Pick input signal P(B) \n",
      "## DEBUG: 2. Find two nearest units \n",
      "## DEBUG: Two nearest points: min_dist_1: 1.0403400508446672 min_dist_2: 1.3468272908706105 \n",
      "## DEBUG: 3. Incremement Age of all edges from s_1 \n",
      "## DEBUG: 4. Add error to neuron \n",
      "## DEBUG: 5. Move s1 and neighbors towards B \n",
      "## DEBUG: 6. reset s1 and s2 age \n",
      "## DEBUG: 7. remove old edges \n",
      "## DEBUG: 8. Insert new neuron \n",
      "## DEBUG: 9. Decrease system error \n",
      "## DEBUG: \n",
      "## DEBUG: \n",
      "## DEBUG: Attemping to plot... \n",
      "## DEBUG: 1. Pick input signal P(B) \n",
      "## DEBUG: 2. Find two nearest units \n",
      "## DEBUG: Two nearest points: min_dist_1: 0.576486825450725 min_dist_2: 0.8590260616607677 \n",
      "## DEBUG: 3. Incremement Age of all edges from s_1 \n",
      "## DEBUG: 4. Add error to neuron \n",
      "## DEBUG: 5. Move s1 and neighbors towards B \n",
      "## DEBUG: 6. reset s1 and s2 age \n",
      "## DEBUG: 7. remove old edges \n",
      "## DEBUG: 8. Insert new neuron \n",
      "## DEBUG: 9. Decrease system error \n",
      "## DEBUG: \n",
      "## DEBUG: \n",
      "## DEBUG: Attemping to plot... \n"
     ]
    },
    {
     "name": "stderr",
     "output_type": "stream",
     "text": [
      " 76%|████████████████████████████████████████████████████████████████████████████████████                           | 757/1000 [01:56<00:45,  5.29it/s]"
     ]
    },
    {
     "name": "stdout",
     "output_type": "stream",
     "text": [
      "## DEBUG: 1. Pick input signal P(B) \n",
      "## DEBUG: 2. Find two nearest units \n",
      "## DEBUG: Two nearest points: min_dist_1: 0.5704620682434679 min_dist_2: 0.742805482678552 \n",
      "## DEBUG: 3. Incremement Age of all edges from s_1 \n",
      "## DEBUG: 4. Add error to neuron \n",
      "## DEBUG: 5. Move s1 and neighbors towards B \n",
      "## DEBUG: 6. reset s1 and s2 age \n",
      "## DEBUG: 7. remove old edges \n",
      "## DEBUG: 8. Insert new neuron \n",
      "## DEBUG: 9. Decrease system error \n",
      "## DEBUG: \n",
      "## DEBUG: \n",
      "## DEBUG: Attemping to plot... \n"
     ]
    },
    {
     "name": "stderr",
     "output_type": "stream",
     "text": [
      "\r",
      " 76%|████████████████████████████████████████████████████████████████████████████████████▏                          | 758/1000 [01:57<00:45,  5.31it/s]"
     ]
    },
    {
     "name": "stdout",
     "output_type": "stream",
     "text": [
      "## DEBUG: 1. Pick input signal P(B) \n",
      "## DEBUG: 2. Find two nearest units \n",
      "## DEBUG: Two nearest points: min_dist_1: 0.6106375237769521 min_dist_2: 0.7096945101776588 \n",
      "## DEBUG: 3. Incremement Age of all edges from s_1 \n",
      "## DEBUG: 4. Add error to neuron \n",
      "## DEBUG: 5. Move s1 and neighbors towards B \n",
      "## DEBUG: 6. reset s1 and s2 age \n",
      "## DEBUG: 7. remove old edges \n",
      "## DEBUG: 8. Insert new neuron \n",
      "## DEBUG: 9. Decrease system error \n",
      "## DEBUG: \n",
      "## DEBUG: \n",
      "## DEBUG: Attemping to plot... \n",
      "## DEBUG: 1. Pick input signal P(B) \n",
      "## DEBUG: 2. Find two nearest units \n",
      "## DEBUG: Two nearest points: min_dist_1: 0.47918175668480234 min_dist_2: 1.2908170244984514 \n",
      "## DEBUG: 3. Incremement Age of all edges from s_1 \n",
      "## DEBUG: 4. Add error to neuron \n",
      "## DEBUG: 5. Move s1 and neighbors towards B \n",
      "## DEBUG: 6. reset s1 and s2 age \n",
      "## DEBUG: 7. remove old edges \n",
      "## DEBUG: 8. Insert new neuron \n",
      "## DEBUG: 9. Decrease system error \n",
      "## DEBUG: \n",
      "## DEBUG: \n",
      "## DEBUG: Attemping to plot... \n"
     ]
    },
    {
     "name": "stderr",
     "output_type": "stream",
     "text": [
      " 76%|████████████████████████████████████████████████████████████████████████████████████▎                          | 760/1000 [01:57<00:44,  5.37it/s]"
     ]
    },
    {
     "name": "stdout",
     "output_type": "stream",
     "text": [
      "## DEBUG: 1. Pick input signal P(B) \n",
      "## DEBUG: 2. Find two nearest units \n",
      "## DEBUG: Two nearest points: min_dist_1: 0.25231109127487195 min_dist_2: 0.5440037043634942 \n",
      "## DEBUG: 3. Incremement Age of all edges from s_1 \n",
      "## DEBUG: 4. Add error to neuron \n",
      "## DEBUG: 5. Move s1 and neighbors towards B \n",
      "## DEBUG: 6. reset s1 and s2 age \n",
      "## DEBUG: 7. remove old edges \n",
      "## DEBUG: 8. Insert new neuron \n",
      "## DEBUG: 9. Decrease system error \n",
      "## DEBUG: \n",
      "## DEBUG: \n",
      "## DEBUG: Attemping to plot... \n",
      "## DEBUG: 1. Pick input signal P(B) \n",
      "## DEBUG: 2. Find two nearest units \n",
      "## DEBUG: Two nearest points: min_dist_1: 0.24748901746061355 min_dist_2: 0.5624052103008932 \n",
      "## DEBUG: 3. Incremement Age of all edges from s_1 \n",
      "## DEBUG: 4. Add error to neuron \n",
      "## DEBUG: 5. Move s1 and neighbors towards B \n",
      "## DEBUG: 6. reset s1 and s2 age \n",
      "## DEBUG: 7. remove old edges \n",
      "## DEBUG:"
     ]
    },
    {
     "name": "stderr",
     "output_type": "stream",
     "text": [
      "\r",
      " 76%|████████████████████████████████████████████████████████████████████████████████████▍                          | 761/1000 [01:57<00:44,  5.38it/s]"
     ]
    },
    {
     "name": "stdout",
     "output_type": "stream",
     "text": [
      " 8. Insert new neuron \n",
      "## DEBUG: 9. Decrease system error \n",
      "## DEBUG: \n",
      "## DEBUG: \n",
      "## DEBUG: Attemping to plot... \n",
      "## DEBUG: 1. Pick input signal P(B) \n",
      "## DEBUG: 2. Find two nearest units \n",
      "## DEBUG: Two nearest points: min_dist_1: 0.1462801341225886 min_dist_2: 0.6171876334991718 \n",
      "## DEBUG: 3. Incremement Age of all edges from s_1 \n",
      "## DEBUG: 4. Add error to neuron \n",
      "## DEBUG: 5. Move s1 and neighbors towards B \n",
      "## DEBUG: 6. reset s1 and s2 age \n",
      "## DEBUG: 7. remove old edges \n",
      "## DEBUG:"
     ]
    },
    {
     "name": "stderr",
     "output_type": "stream",
     "text": [
      "\r",
      " 76%|████████████████████████████████████████████████████████████████████████████████████▌                          | 762/1000 [01:57<00:44,  5.38it/s]"
     ]
    },
    {
     "name": "stdout",
     "output_type": "stream",
     "text": [
      " 8. Insert new neuron \n",
      "## DEBUG: 9. Decrease system error \n",
      "## DEBUG: \n",
      "## DEBUG: \n",
      "## DEBUG: Attemping to plot... \n",
      "## DEBUG: 1. Pick input signal P(B) \n",
      "## DEBUG: 2. Find two nearest units \n",
      "## DEBUG: Two nearest points: min_dist_1: 1.00667629317692 min_dist_2: 1.031144495645682 \n",
      "## DEBUG: 3. Incremement Age of all edges from s_1 \n",
      "## DEBUG: 4. Add error to neuron \n",
      "## DEBUG: 5. Move s1 and neighbors towards B \n",
      "## DEBUG: 6. reset s1 and s2 age \n",
      "## DEBUG: 7. remove old edges \n",
      "## DEBUG: 8. Insert new neuron \n",
      "## DEBUG: 9. Decrease system error \n",
      "## DEBUG: \n",
      "## DEBUG: \n",
      "## DEBUG: Attemping to plot... \n"
     ]
    },
    {
     "name": "stderr",
     "output_type": "stream",
     "text": [
      " 76%|████████████████████████████████████████████████████████████████████████████████████▊                          | 764/1000 [01:58<00:43,  5.37it/s]"
     ]
    },
    {
     "name": "stdout",
     "output_type": "stream",
     "text": [
      "## DEBUG: 1. Pick input signal P(B) \n",
      "## DEBUG: 2. Find two nearest units \n",
      "## DEBUG: Two nearest points: min_dist_1: 1.069696548478694 min_dist_2: 1.2885088835125096 \n",
      "## DEBUG: 3. Incremement Age of all edges from s_1 \n",
      "## DEBUG: 4. Add error to neuron \n",
      "## DEBUG: 5. Move s1 and neighbors towards B \n",
      "## DEBUG: 6. reset s1 and s2 age \n",
      "## DEBUG: 7. remove old edges \n",
      "## DEBUG: 8. Insert new neuron \n",
      "## DEBUG: 9. Decrease system error \n",
      "## DEBUG: \n",
      "## DEBUG: \n",
      "## DEBUG: Attemping to plot... \n"
     ]
    },
    {
     "name": "stderr",
     "output_type": "stream",
     "text": [
      "\r",
      " 76%|████████████████████████████████████████████████████████████████████████████████████▉                          | 765/1000 [01:58<00:44,  5.31it/s]"
     ]
    },
    {
     "name": "stdout",
     "output_type": "stream",
     "text": [
      "## DEBUG: 1. Pick input signal P(B) \n",
      "## DEBUG: 2. Find two nearest units \n",
      "## DEBUG: Two nearest points: min_dist_1: 0.10448145110906126 min_dist_2: 0.2163154515483095 \n",
      "## DEBUG: 3. Incremement Age of all edges from s_1 \n",
      "## DEBUG: 4. Add error to neuron \n",
      "## DEBUG: 5. Move s1 and neighbors towards B \n",
      "## DEBUG: 6. reset s1 and s2 age \n",
      "## DEBUG: 7. remove old edges \n",
      "## DEBUG: 8. Insert new neuron \n",
      "## DEBUG: 9. Decrease system error \n",
      "## DEBUG: \n",
      "## DEBUG: \n",
      "## DEBUG: Attemping to plot... \n",
      "## DEBUG: 1. Pick input signal P(B) \n",
      "## DEBUG: 2. Find two nearest units \n",
      "## DEBUG: Two nearest points: min_dist_1: 2.3859969887541532 min_dist_2: 2.4289915477282045 \n",
      "## DEBUG: 3. Incremement Age of all edges from s_1 \n",
      "## DEBUG: 4. Add error to neuron \n",
      "## DEBUG: 5. Move s1 and neighbors towards B \n",
      "## DEBUG: 6. reset s1 and s2 age \n",
      "## DEBUG: 7. remove old edges \n",
      "## DEBUG: 8. Insert new neuron \n",
      "## DEBUG: 9. Decrease system error \n",
      "## DEBUG: \n",
      "## DEBUG: \n",
      "## DEBUG: Attemping to plot... \n"
     ]
    },
    {
     "name": "stderr",
     "output_type": "stream",
     "text": [
      " 77%|█████████████████████████████████████████████████████████████████████████████████████▏                         | 767/1000 [01:58<00:44,  5.19it/s]"
     ]
    },
    {
     "name": "stdout",
     "output_type": "stream",
     "text": [
      "## DEBUG: 1. Pick input signal P(B) \n",
      "## DEBUG: 2. Find two nearest units \n",
      "## DEBUG: Two nearest points: min_dist_1: 0.3545925041676715 min_dist_2: 0.9272662636851144 \n",
      "## DEBUG: 3. Incremement Age of all edges from s_1 \n",
      "## DEBUG: 4. Add error to neuron \n",
      "## DEBUG: 5. Move s1 and neighbors towards B \n",
      "## DEBUG: 6. reset s1 and s2 age \n",
      "## DEBUG: 7. remove old edges \n",
      "## DEBUG: 8. Insert new neuron \n",
      "## DEBUG: 9. Decrease system error \n",
      "## DEBUG: \n",
      "## DEBUG: \n",
      "## DEBUG: Attemping to plot... \n"
     ]
    },
    {
     "name": "stderr",
     "output_type": "stream",
     "text": [
      "\r",
      " 77%|█████████████████████████████████████████████████████████████████████████████████████▏                         | 768/1000 [01:59<00:44,  5.24it/s]"
     ]
    },
    {
     "name": "stdout",
     "output_type": "stream",
     "text": [
      "## DEBUG: 1. Pick input signal P(B) \n",
      "## DEBUG: 2. Find two nearest units \n",
      "## DEBUG: Two nearest points: min_dist_1: 0.32542781484125755 min_dist_2: 0.5408360115962242 \n",
      "## DEBUG: 3. Incremement Age of all edges from s_1 \n",
      "## DEBUG: 4. Add error to neuron \n",
      "## DEBUG: 5. Move s1 and neighbors towards B \n",
      "## DEBUG: 6. reset s1 and s2 age \n",
      "## DEBUG: 7. remove old edges \n",
      "## DEBUG: 8. Insert new neuron \n",
      "## DEBUG: 9. Decrease system error \n",
      "## DEBUG: \n",
      "## DEBUG: \n",
      "## DEBUG: Attemping to plot... \n"
     ]
    },
    {
     "name": "stderr",
     "output_type": "stream",
     "text": [
      "\r",
      " 77%|█████████████████████████████████████████████████████████████████████████████████████▎                         | 769/1000 [01:59<00:43,  5.26it/s]"
     ]
    },
    {
     "name": "stdout",
     "output_type": "stream",
     "text": [
      "## DEBUG: 1. Pick input signal P(B) \n",
      "## DEBUG: 2. Find two nearest units \n",
      "## DEBUG: Two nearest points: min_dist_1: 0.3582743629429931 min_dist_2: 0.6802408717579749 \n",
      "## DEBUG: 3. Incremement Age of all edges from s_1 \n",
      "## DEBUG: 4. Add error to neuron \n",
      "## DEBUG: 5. Move s1 and neighbors towards B \n",
      "## DEBUG: 6. reset s1 and s2 age \n",
      "## DEBUG: 7. remove old edges \n",
      "## DEBUG: 8. Insert new neuron \n",
      "## DEBUG: 9. Decrease system error \n",
      "## DEBUG: \n",
      "## DEBUG: \n",
      "## DEBUG: Attemping to plot... \n",
      "## DEBUG: 1. Pick input signal P(B) \n",
      "## DEBUG: 2. Find two nearest units \n",
      "## DEBUG: Two nearest points: min_dist_1: 0.7795788929936599 min_dist_2: 0.7982778491476334 \n",
      "## DEBUG: 3. Incremement Age of all edges from s_1 \n",
      "## DEBUG: 4. Add error to neuron \n",
      "## DEBUG: 5. Move s1 and neighbors towards B \n",
      "## DEBUG: 6. reset s1 and s2 age \n",
      "## DEBUG: 7. remove old edges \n",
      "## DEBUG: 8. Insert new neuron \n",
      "## DEBUG: 9. Decrease system error \n",
      "## DEBUG: \n",
      "## DEBUG: \n",
      "## DEBUG: Attemping to plot... \n"
     ]
    },
    {
     "name": "stderr",
     "output_type": "stream",
     "text": [
      " 77%|█████████████████████████████████████████████████████████████████████████████████████▌                         | 771/1000 [01:59<00:43,  5.28it/s]"
     ]
    },
    {
     "name": "stdout",
     "output_type": "stream",
     "text": [
      "## DEBUG: 1. Pick input signal P(B) \n",
      "## DEBUG: 2. Find two nearest units \n",
      "## DEBUG: Two nearest points: min_dist_1: 0.6104869429209916 min_dist_2: 2.4188500164088045 \n",
      "## DEBUG: 3. Incremement Age of all edges from s_1 \n",
      "## DEBUG: 4. Add error to neuron \n",
      "## DEBUG: 5. Move s1 and neighbors towards B \n",
      "## DEBUG: 6. reset s1 and s2 age \n",
      "## DEBUG: 7. remove old edges \n",
      "## DEBUG: 8. Insert new neuron \n",
      "## DEBUG: 9. Decrease system error \n",
      "## DEBUG: \n",
      "## DEBUG: \n",
      "## DEBUG: Attemping to plot... \n"
     ]
    },
    {
     "name": "stderr",
     "output_type": "stream",
     "text": [
      "\r",
      " 77%|█████████████████████████████████████████████████████████████████████████████████████▋                         | 772/1000 [01:59<00:43,  5.28it/s]"
     ]
    },
    {
     "name": "stdout",
     "output_type": "stream",
     "text": [
      "## DEBUG: 1. Pick input signal P(B) \n",
      "## DEBUG: 2. Find two nearest units \n",
      "## DEBUG: Two nearest points: min_dist_1: 1.7665745362973562 min_dist_2: 1.7708622462733885 \n",
      "## DEBUG: 3. Incremement Age of all edges from s_1 \n",
      "## DEBUG: 4. Add error to neuron \n",
      "## DEBUG: 5. Move s1 and neighbors towards B \n",
      "## DEBUG: 6. reset s1 and s2 age \n",
      "## DEBUG: 7. remove old edges \n",
      "## DEBUG: 8. Insert new neuron \n",
      "## DEBUG: 9. Decrease system error \n",
      "## DEBUG: \n",
      "## DEBUG: \n",
      "## DEBUG: Attemping to plot... \n",
      "## DEBUG: 1. Pick input signal P(B) \n",
      "## DEBUG: 2. Find two nearest units \n",
      "## DEBUG: Two nearest points: min_dist_1: 1.8239506684866835 min_dist_2: 1.974735447237824 \n",
      "## DEBUG: 3. Incremement Age of all edges from s_1 \n",
      "## DEBUG: 4. Add error to neuron \n",
      "## DEBUG: 5. Move s1 and neighbors towards B \n",
      "## DEBUG: 6. reset s1 and s2 age \n",
      "## DEBUG: 7. remove old edges \n",
      "## DEBUG: 8. Insert new neuron \n",
      "## DEBUG: 9. Decrease system error \n",
      "## DEBUG: \n",
      "## DEBUG: \n",
      "## DEBUG: Attemping to plot... \n"
     ]
    },
    {
     "name": "stderr",
     "output_type": "stream",
     "text": [
      " 77%|█████████████████████████████████████████████████████████████████████████████████████▉                         | 774/1000 [02:00<00:43,  5.21it/s]"
     ]
    },
    {
     "name": "stdout",
     "output_type": "stream",
     "text": [
      "## DEBUG: 1. Pick input signal P(B) \n",
      "## DEBUG: 2. Find two nearest units \n",
      "## DEBUG: Two nearest points: min_dist_1: 1.377013748608631 min_dist_2: 1.4891152245367738 \n",
      "## DEBUG: 3. Incremement Age of all edges from s_1 \n",
      "## DEBUG: 4. Add error to neuron \n",
      "## DEBUG: 5. Move s1 and neighbors towards B \n",
      "## DEBUG: 6. reset s1 and s2 age \n",
      "## DEBUG: 7. remove old edges \n",
      "## DEBUG: 8. Insert new neuron \n",
      "## DEBUG: 9. Decrease system error \n",
      "## DEBUG: \n",
      "## DEBUG: \n",
      "## DEBUG: Attemping to plot... \n"
     ]
    },
    {
     "name": "stderr",
     "output_type": "stream",
     "text": [
      "\r",
      " 78%|██████████████████████████████████████████████████████████████████████████████████████                         | 775/1000 [02:00<00:43,  5.20it/s]"
     ]
    },
    {
     "name": "stdout",
     "output_type": "stream",
     "text": [
      "## DEBUG: 1. Pick input signal P(B) \n",
      "## DEBUG: 2. Find two nearest units \n",
      "## DEBUG: Two nearest points: min_dist_1: 0.9819985297409954 min_dist_2: 1.152438282032318 \n",
      "## DEBUG: 3. Incremement Age of all edges from s_1 \n",
      "## DEBUG: 4. Add error to neuron \n",
      "## DEBUG: 5. Move s1 and neighbors towards B \n",
      "## DEBUG: 6. reset s1 and s2 age \n",
      "## DEBUG: 7. remove old edges \n",
      "## DEBUG: 8. Insert new neuron \n",
      "## DEBUG: 9. Decrease system error \n",
      "## DEBUG: \n",
      "## DEBUG: \n",
      "## DEBUG: Attemping to plot... \n",
      "## DEBUG: 1. Pick input signal P(B) \n",
      "## DEBUG: 2. Find two nearest units \n",
      "## DEBUG: Two nearest points: min_dist_1: 0.721449146620589 min_dist_2: 0.9266728698172343 \n",
      "## DEBUG: 3. Incremement Age of all edges from s_1 \n",
      "## DEBUG: 4. Add error to neuron \n",
      "## DEBUG: 5. Move s1 and neighbors towards B \n",
      "## DEBUG: 6. reset s1 and s2 age \n",
      "## DEBUG: 7. remove old edges \n",
      "## DEBUG:"
     ]
    },
    {
     "name": "stderr",
     "output_type": "stream",
     "text": [
      "\r",
      " 78%|██████████████████████████████████████████████████████████████████████████████████████▏                        | 776/1000 [02:00<00:43,  5.20it/s]"
     ]
    },
    {
     "name": "stdout",
     "output_type": "stream",
     "text": [
      " 8. Insert new neuron \n",
      "## DEBUG: 9. Decrease system error \n",
      "## DEBUG: \n",
      "## DEBUG: \n",
      "## DEBUG: Attemping to plot... \n"
     ]
    },
    {
     "name": "stderr",
     "output_type": "stream",
     "text": [
      "\r",
      " 78%|██████████████████████████████████████████████████████████████████████████████████████▏                        | 777/1000 [02:00<00:43,  5.13it/s]"
     ]
    },
    {
     "name": "stdout",
     "output_type": "stream",
     "text": [
      "## DEBUG: 1. Pick input signal P(B) \n",
      "## DEBUG: 2. Find two nearest units \n",
      "## DEBUG: Two nearest points: min_dist_1: 1.0030613228453689 min_dist_2: 1.5399975503412833 \n",
      "## DEBUG: 3. Incremement Age of all edges from s_1 \n",
      "## DEBUG: 4. Add error to neuron \n",
      "## DEBUG: 5. Move s1 and neighbors towards B \n",
      "## DEBUG: 6. reset s1 and s2 age \n",
      "## DEBUG: 7. remove old edges \n",
      "## DEBUG: 8. Insert new neuron \n",
      "## DEBUG: 9. Decrease system error \n",
      "## DEBUG: \n",
      "## DEBUG: \n",
      "## DEBUG: Attemping to plot... \n",
      "## DEBUG: 1. Pick input signal P(B) \n",
      "## DEBUG: 2. Find two nearest units \n",
      "## DEBUG: Two nearest points: min_dist_1: 1.488165182350349 min_dist_2: 1.6030936657751151 \n",
      "## DEBUG: 3. Incremement Age of all edges from s_1 \n",
      "## DEBUG: 4. Add error to neuron \n",
      "## DEBUG: 5. Move s1 and neighbors towards B \n",
      "## DEBUG: 6. reset s1 and s2 age \n",
      "## DEBUG: 7. remove old edges \n",
      "## DEBUG:"
     ]
    },
    {
     "name": "stderr",
     "output_type": "stream",
     "text": [
      "\r",
      " 78%|██████████████████████████████████████████████████████████████████████████████████████▎                        | 778/1000 [02:00<00:42,  5.18it/s]"
     ]
    },
    {
     "name": "stdout",
     "output_type": "stream",
     "text": [
      " 8. Insert new neuron \n",
      "## DEBUG: 9. Decrease system error \n",
      "## DEBUG: \n",
      "## DEBUG: \n",
      "## DEBUG: Attemping to plot... \n",
      "## DEBUG: 1. Pick input signal P(B) \n",
      "## DEBUG: 2. Find two nearest units \n",
      "## DEBUG: Two nearest points: min_dist_1: 0.07753524712004282 min_dist_2: 0.25885292695515877 \n",
      "## DEBUG: 3. Incremement Age of all edges from s_1 \n",
      "## DEBUG: 4. Add error to neuron \n",
      "## DEBUG: 5. Move s1 and neighbors towards B \n",
      "## DEBUG: 6. reset s1 and s2 age \n",
      "## DEBUG: 7. remove old edges \n",
      "## DEBUG: 8. Insert new neuron \n",
      "## DEBUG: 9. Decrease system error \n",
      "## DEBUG: \n",
      "## DEBUG: \n",
      "## DEBUG: Attemping to plot... \n"
     ]
    },
    {
     "name": "stderr",
     "output_type": "stream",
     "text": [
      " 78%|██████████████████████████████████████████████████████████████████████████████████████▌                        | 780/1000 [02:01<00:43,  5.10it/s]"
     ]
    },
    {
     "name": "stdout",
     "output_type": "stream",
     "text": [
      "## DEBUG: 1. Pick input signal P(B) \n",
      "## DEBUG: 2. Find two nearest units \n",
      "## DEBUG: Two nearest points: min_dist_1: 1.698600822187675 min_dist_2: 2.761824051570741 \n",
      "## DEBUG: 3. Incremement Age of all edges from s_1 \n",
      "## DEBUG: 4. Add error to neuron \n",
      "## DEBUG: 5. Move s1 and neighbors towards B \n",
      "## DEBUG: 6. reset s1 and s2 age \n",
      "## DEBUG: 7. remove old edges \n",
      "## DEBUG: 8. Insert new neuron \n",
      "## DEBUG: 9. Decrease system error \n",
      "## DEBUG: \n",
      "## DEBUG: \n",
      "## DEBUG: Attemping to plot... \n"
     ]
    },
    {
     "name": "stderr",
     "output_type": "stream",
     "text": [
      "\r",
      " 78%|██████████████████████████████████████████████████████████████████████████████████████▋                        | 781/1000 [02:01<00:42,  5.14it/s]"
     ]
    },
    {
     "name": "stdout",
     "output_type": "stream",
     "text": [
      "## DEBUG: 1. Pick input signal P(B) \n",
      "## DEBUG: 2. Find two nearest units \n",
      "## DEBUG: Two nearest points: min_dist_1: 1.1889020273570723 min_dist_2: 1.4493522662477878 \n",
      "## DEBUG: 3. Incremement Age of all edges from s_1 \n",
      "## DEBUG: 4. Add error to neuron \n",
      "## DEBUG: 5. Move s1 and neighbors towards B \n",
      "## DEBUG: 6. reset s1 and s2 age \n",
      "## DEBUG: 7. remove old edges \n",
      "## DEBUG: 8. Insert new neuron \n",
      "## DEBUG: 9. Decrease system error \n",
      "## DEBUG: \n",
      "## DEBUG: \n",
      "## DEBUG: Attemping to plot... \n"
     ]
    },
    {
     "name": "stderr",
     "output_type": "stream",
     "text": [
      "\r",
      " 78%|██████████████████████████████████████████████████████████████████████████████████████▊                        | 782/1000 [02:01<00:42,  5.16it/s]"
     ]
    },
    {
     "name": "stdout",
     "output_type": "stream",
     "text": [
      "## DEBUG: 1. Pick input signal P(B) \n",
      "## DEBUG: 2. Find two nearest units \n",
      "## DEBUG: Two nearest points: min_dist_1: 0.8266348358096332 min_dist_2: 1.2805546731739983 \n",
      "## DEBUG: 3. Incremement Age of all edges from s_1 \n",
      "## DEBUG: 4. Add error to neuron \n",
      "## DEBUG: 5. Move s1 and neighbors towards B \n",
      "## DEBUG: 6. reset s1 and s2 age \n",
      "## DEBUG: 7. remove old edges \n",
      "## DEBUG: 8. Insert new neuron \n",
      "## DEBUG: 9. Decrease system error \n",
      "## DEBUG: \n",
      "## DEBUG: \n",
      "## DEBUG: Attemping to plot... \n",
      "## DEBUG: 1. Pick input signal P(B) \n",
      "## DEBUG: 2. Find two nearest units \n",
      "## DEBUG: Two nearest points: min_dist_1: 0.7614374749144809 min_dist_2: 1.3373956832495415 \n",
      "## DEBUG: 3. Incremement Age of all edges from s_1 \n",
      "## DEBUG: 4. Add error to neuron \n",
      "## DEBUG: 5. Move s1 and neighbors towards B \n",
      "## DEBUG: 6. reset s1 and s2 age \n",
      "## DEBUG: 7. remove old edges \n",
      "## DEBUG:"
     ]
    },
    {
     "name": "stderr",
     "output_type": "stream",
     "text": [
      "\r",
      " 78%|██████████████████████████████████████████████████████████████████████████████████████▉                        | 783/1000 [02:01<00:42,  5.16it/s]"
     ]
    },
    {
     "name": "stdout",
     "output_type": "stream",
     "text": [
      " 8. Insert new neuron \n",
      "## DEBUG: 9. Decrease system error \n",
      "## DEBUG: \n",
      "## DEBUG: \n",
      "## DEBUG: Attemping to plot... \n",
      "## DEBUG: 1. Pick input signal P(B) \n",
      "## DEBUG: 2. Find two nearest units \n",
      "## DEBUG: Two nearest points: min_dist_1: 0.6311256855884552 min_dist_2: 1.709374465681296 \n",
      "## DEBUG: 3. Incremement Age of all edges from s_1 \n",
      "## DEBUG: 4. Add error to neuron \n",
      "## DEBUG: 5. Move s1 and neighbors towards B \n",
      "## DEBUG: 6. reset s1 and s2 age \n",
      "## DEBUG: 7. remove old edges \n",
      "## DEBUG: 8. Insert new neuron \n",
      "## DEBUG: 9. Decrease system error \n",
      "## DEBUG: \n",
      "## DEBUG: \n",
      "## DEBUG: Attemping to plot... \n"
     ]
    },
    {
     "name": "stderr",
     "output_type": "stream",
     "text": [
      "\r",
      " 78%|███████████████████████████████████████████████████████████████████████████████████████                        | 784/1000 [02:02<00:41,  5.21it/s]"
     ]
    },
    {
     "name": "stdout",
     "output_type": "stream",
     "text": [
      "## DEBUG: 1. Pick input signal P(B) \n",
      "## DEBUG: 2. Find two nearest units \n",
      "## DEBUG: Two nearest points: min_dist_1: 1.330106325389422 min_dist_2: 1.6088893839526468 \n",
      "## DEBUG: 3. Incremement Age of all edges from s_1 \n",
      "## DEBUG: 4. Add error to neuron \n",
      "## DEBUG: 5. Move s1 and neighbors towards B \n",
      "## DEBUG: 6. reset s1 and s2 age \n",
      "## DEBUG: 7. remove old edges \n",
      "## DEBUG: 8. Insert new neuron \n",
      "## DEBUG: 9. Decrease system error \n",
      "## DEBUG: \n",
      "## DEBUG: \n",
      "## DEBUG: Attemping to plot... \n"
     ]
    },
    {
     "name": "stderr",
     "output_type": "stream",
     "text": [
      "\r",
      " 78%|███████████████████████████████████████████████████████████████████████████████████████▏                       | 785/1000 [02:02<00:42,  5.04it/s]"
     ]
    },
    {
     "name": "stdout",
     "output_type": "stream",
     "text": [
      "## DEBUG: 1. Pick input signal P(B) \n",
      "## DEBUG: 2. Find two nearest units \n",
      "## DEBUG: Two nearest points: min_dist_1: 1.613633941271475 min_dist_2: 1.8492562591513766 \n",
      "## DEBUG: 3. Incremement Age of all edges from s_1 \n",
      "## DEBUG: 4. Add error to neuron \n",
      "## DEBUG: 5. Move s1 and neighbors towards B \n",
      "## DEBUG: 6. reset s1 and s2 age \n",
      "## DEBUG: 7. remove old edges \n",
      "## DEBUG: 8. Insert new neuron \n",
      "## DEBUG: 9. Decrease system error \n",
      "## DEBUG: \n",
      "## DEBUG: \n",
      "## DEBUG: Attemping to plot... \n"
     ]
    },
    {
     "name": "stderr",
     "output_type": "stream",
     "text": [
      " 79%|███████████████████████████████████████████████████████████████████████████████████████▎                       | 787/1000 [02:02<00:41,  5.09it/s]"
     ]
    },
    {
     "name": "stdout",
     "output_type": "stream",
     "text": [
      "## DEBUG: 1. Pick input signal P(B) \n",
      "## DEBUG: 2. Find two nearest units \n",
      "## DEBUG: Two nearest points: min_dist_1: 0.17807007531730087 min_dist_2: 0.960987254722185 \n",
      "## DEBUG: 3. Incremement Age of all edges from s_1 \n",
      "## DEBUG: 4. Add error to neuron \n",
      "## DEBUG: 5. Move s1 and neighbors towards B \n",
      "## DEBUG: 6. reset s1 and s2 age \n",
      "## DEBUG: 7. remove old edges \n",
      "## DEBUG: 8. Insert new neuron \n",
      "## DEBUG: 9. Decrease system error \n",
      "## DEBUG: \n",
      "## DEBUG: \n",
      "## DEBUG: Attemping to plot... \n",
      "## DEBUG: 1. Pick input signal P(B) \n",
      "## DEBUG: 2. Find two nearest units \n",
      "## DEBUG: Two nearest points: min_dist_1: 1.5493749799275063 min_dist_2: 1.8748215700934905 \n",
      "## DEBUG: 3. Incremement Age of all edges from s_1 \n",
      "## DEBUG: 4. Add error to neuron \n",
      "## DEBUG: 5. Move s1 and neighbors towards B \n",
      "## DEBUG: 6. reset s1 and s2 age \n",
      "## DEBUG: 7. remove old edges \n",
      "## DEBUG:"
     ]
    },
    {
     "name": "stderr",
     "output_type": "stream",
     "text": [
      "\r",
      " 79%|███████████████████████████████████████████████████████████████████████████████████████▍                       | 788/1000 [02:02<00:41,  5.08it/s]"
     ]
    },
    {
     "name": "stdout",
     "output_type": "stream",
     "text": [
      " 8. Insert new neuron \n",
      "## DEBUG: 9. Decrease system error \n",
      "## DEBUG: \n",
      "## DEBUG: \n",
      "## DEBUG: Attemping to plot... \n"
     ]
    },
    {
     "name": "stderr",
     "output_type": "stream",
     "text": [
      "\r",
      " 79%|███████████████████████████████████████████████████████████████████████████████████████▌                       | 789/1000 [02:03<00:41,  5.14it/s]"
     ]
    },
    {
     "name": "stdout",
     "output_type": "stream",
     "text": [
      "## DEBUG: 1. Pick input signal P(B) \n",
      "## DEBUG: 2. Find two nearest units \n",
      "## DEBUG: Two nearest points: min_dist_1: 0.3075835190870875 min_dist_2: 0.9839744957207597 \n",
      "## DEBUG: 3. Incremement Age of all edges from s_1 \n",
      "## DEBUG: 4. Add error to neuron \n",
      "## DEBUG: 5. Move s1 and neighbors towards B \n",
      "## DEBUG: 6. reset s1 and s2 age \n",
      "## DEBUG: 7. remove old edges \n",
      "## DEBUG: 8. Insert new neuron \n",
      "## DEBUG: 9. Decrease system error \n",
      "## DEBUG: \n",
      "## DEBUG: \n",
      "## DEBUG: Attemping to plot... \n"
     ]
    },
    {
     "name": "stderr",
     "output_type": "stream",
     "text": [
      "\r",
      " 79%|███████████████████████████████████████████████████████████████████████████████████████▋                       | 790/1000 [02:03<00:40,  5.14it/s]"
     ]
    },
    {
     "name": "stdout",
     "output_type": "stream",
     "text": [
      "## DEBUG: 1. Pick input signal P(B) \n",
      "## DEBUG: 2. Find two nearest units \n",
      "## DEBUG: Two nearest points: min_dist_1: 0.5917360876975718 min_dist_2: 0.7514038872691742 \n",
      "## DEBUG: 3. Incremement Age of all edges from s_1 \n",
      "## DEBUG: 4. Add error to neuron \n",
      "## DEBUG: 5. Move s1 and neighbors towards B \n",
      "## DEBUG: 6. reset s1 and s2 age \n",
      "## DEBUG: 7. remove old edges \n",
      "## DEBUG: 8. Insert new neuron \n",
      "## DEBUG: 9. Decrease system error \n",
      "## DEBUG: \n",
      "## DEBUG: \n",
      "## DEBUG: Attemping to plot... \n"
     ]
    },
    {
     "name": "stderr",
     "output_type": "stream",
     "text": [
      "\r",
      " 79%|███████████████████████████████████████████████████████████████████████████████████████▊                       | 791/1000 [02:03<00:40,  5.12it/s]"
     ]
    },
    {
     "name": "stdout",
     "output_type": "stream",
     "text": [
      "## DEBUG: 1. Pick input signal P(B) \n",
      "## DEBUG: 2. Find two nearest units \n",
      "## DEBUG: Two nearest points: min_dist_1: 0.08587385526571263 min_dist_2: 0.7337505486196826 \n",
      "## DEBUG: 3. Incremement Age of all edges from s_1 \n",
      "## DEBUG: 4. Add error to neuron \n",
      "## DEBUG: 5. Move s1 and neighbors towards B \n",
      "## DEBUG: 6. reset s1 and s2 age \n",
      "## DEBUG: 7. remove old edges \n",
      "## DEBUG: 8. Insert new neuron \n",
      "## DEBUG: 9. Decrease system error \n",
      "## DEBUG: \n",
      "## DEBUG: \n",
      "## DEBUG: Attemping to plot... \n",
      "## DEBUG: 1. Pick input signal P(B) \n",
      "## DEBUG: 2. Find two nearest units \n",
      "## DEBUG: Two nearest points: min_dist_1: 0.21545390787626237 min_dist_2: 0.801226038326246 \n",
      "## DEBUG: 3. Incremement Age of all edges from s_1 \n",
      "## DEBUG: 4. Add error to neuron \n",
      "## DEBUG: 5. Move s1 and neighbors towards B \n",
      "## DEBUG: 6. reset s1 and s2 age \n",
      "## DEBUG: 7. remove old edges \n",
      "## DEBUG: 8. Insert new neuron \n",
      "## DEBUG: 9. Decrease system error \n",
      "## DEBUG: \n",
      "## DEBUG: \n",
      "## DEBUG: Attemping to plot... \n"
     ]
    },
    {
     "name": "stderr",
     "output_type": "stream",
     "text": [
      " 79%|████████████████████████████████████████████████████████████████████████████████████████                       | 793/1000 [02:03<00:41,  5.03it/s]"
     ]
    },
    {
     "name": "stdout",
     "output_type": "stream",
     "text": [
      "## DEBUG: 1. Pick input signal P(B) \n",
      "## DEBUG: 2. Find two nearest units \n",
      "## DEBUG: Two nearest points: min_dist_1: 0.64295673200731 min_dist_2: 0.7268497417270392 \n",
      "## DEBUG: 3. Incremement Age of all edges from s_1 \n",
      "## DEBUG: 4. Add error to neuron \n",
      "## DEBUG: 5. Move s1 and neighbors towards B \n",
      "## DEBUG: 6. reset s1 and s2 age \n",
      "## DEBUG: 7. remove old edges \n",
      "## DEBUG: 8. Insert new neuron \n",
      "## DEBUG: 9. Decrease system error \n",
      "## DEBUG: \n",
      "## DEBUG: \n",
      "## DEBUG: Attemping to plot... \n",
      "## DEBUG: 1. Pick input signal P(B) \n",
      "## DEBUG: 2. Find two nearest units \n",
      "## DEBUG: Two nearest points: min_dist_1: 0.9027551905608314 min_dist_2: 1.5384575527909414 \n",
      "## DEBUG: 3. Incremement Age of all edges from s_1 \n",
      "## DEBUG: 4. Add error to neuron \n",
      "## DEBUG: 5. Move s1 and neighbors towards B \n",
      "## DEBUG: 6. reset s1 and s2 age \n",
      "## DEBUG: 7. remove old edges \n",
      "## DEBUG: 8. Insert new neuron \n",
      "## DEBUG: 9. Decrease system error \n",
      "## DEBUG: \n",
      "## DEBUG: \n",
      "## DEBUG: Attemping to plot... \n"
     ]
    },
    {
     "name": "stderr",
     "output_type": "stream",
     "text": [
      " 80%|████████████████████████████████████████████████████████████████████████████████████████▏                      | 795/1000 [02:04<00:40,  5.10it/s]"
     ]
    },
    {
     "name": "stdout",
     "output_type": "stream",
     "text": [
      "## DEBUG: 1. Pick input signal P(B) \n",
      "## DEBUG: 2. Find two nearest units \n",
      "## DEBUG: Two nearest points: min_dist_1: 2.0026658676115674 min_dist_2: 2.282282461431804 \n",
      "## DEBUG: 3. Incremement Age of all edges from s_1 \n",
      "## DEBUG: 4. Add error to neuron \n",
      "## DEBUG: 5. Move s1 and neighbors towards B \n",
      "## DEBUG: 6. reset s1 and s2 age \n",
      "## DEBUG: 7. remove old edges \n",
      "## DEBUG: 8. Insert new neuron \n",
      "## DEBUG: 9. Decrease system error \n",
      "## DEBUG: \n",
      "## DEBUG: \n",
      "## DEBUG: Attemping to plot... \n",
      "## DEBUG: 1. Pick input signal P(B) \n",
      "## DEBUG: 2. Find two nearest units \n",
      "## DEBUG: Two nearest points: min_dist_1: 0.4399581068289535 min_dist_2: 0.9504077364084084 \n",
      "## DEBUG: 3. Incremement Age of all edges from s_1 \n",
      "## DEBUG: 4. Add error to neuron \n",
      "## DEBUG: 5. Move s1 and neighbors towards B \n",
      "## DEBUG: 6. reset s1 and s2 age \n",
      "## DEBUG: 7. remove old edges \n",
      "## DEBUG: 8. Insert new neuron \n"
     ]
    },
    {
     "name": "stderr",
     "output_type": "stream",
     "text": [
      "\r",
      " 80%|████████████████████████████████████████████████████████████████████████████████████████▎                      | 796/1000 [02:04<00:39,  5.13it/s]"
     ]
    },
    {
     "name": "stdout",
     "output_type": "stream",
     "text": [
      "## DEBUG: 9. Decrease system error \n",
      "## DEBUG: \n",
      "## DEBUG: \n",
      "## DEBUG: Attemping to plot... \n",
      "## DEBUG: 1. Pick input signal P(B) \n",
      "## DEBUG: 2. Find two nearest units \n",
      "## DEBUG: Two nearest points: min_dist_1: 0.8720874539078369 min_dist_2: 1.3234485027133593 \n",
      "## DEBUG: 3. Incremement Age of all edges from s_1 \n",
      "## DEBUG: 4. Add error to neuron \n",
      "## DEBUG: 5. Move s1 and neighbors towards B \n",
      "## DEBUG: 6. reset s1 and s2 age \n",
      "## DEBUG: 7. remove old edges \n",
      "## DEBUG:"
     ]
    },
    {
     "name": "stderr",
     "output_type": "stream",
     "text": [
      "\r",
      " 80%|████████████████████████████████████████████████████████████████████████████████████████▍                      | 797/1000 [02:04<00:39,  5.16it/s]"
     ]
    },
    {
     "name": "stdout",
     "output_type": "stream",
     "text": [
      " 8. Insert new neuron \n",
      "## DEBUG: 9. Decrease system error \n",
      "## DEBUG: \n",
      "## DEBUG: \n",
      "## DEBUG: Attemping to plot... \n",
      "## DEBUG: 1. Pick input signal P(B) \n",
      "## DEBUG: 2. Find two nearest units \n",
      "## DEBUG: Two nearest points: min_dist_1: 0.22274011571455157 min_dist_2: 0.5624052103008932 \n",
      "## DEBUG: 3. Incremement Age of all edges from s_1 \n",
      "## DEBUG: 4. Add error to neuron \n",
      "## DEBUG: 5. Move s1 and neighbors towards B \n",
      "## DEBUG: 6. reset s1 and s2 age \n",
      "## DEBUG: 7. remove old edges \n",
      "## DEBUG: 8. Insert new neuron \n",
      "## DEBUG: 9. Decrease system error \n",
      "## DEBUG: \n",
      "## DEBUG: \n",
      "## DEBUG: Attemping to plot... \n"
     ]
    },
    {
     "name": "stderr",
     "output_type": "stream",
     "text": [
      " 80%|████████████████████████████████████████████████████████████████████████████████████████▋                      | 799/1000 [02:05<00:39,  5.13it/s]"
     ]
    },
    {
     "name": "stdout",
     "output_type": "stream",
     "text": [
      "## DEBUG: 1. Pick input signal P(B) \n",
      "## DEBUG: 2. Find two nearest units \n",
      "## DEBUG: Two nearest points: min_dist_1: 1.3240128749291968 min_dist_2: 1.695235178085088 \n",
      "## DEBUG: 3. Incremement Age of all edges from s_1 \n",
      "## DEBUG: 4. Add error to neuron \n",
      "## DEBUG: 5. Move s1 and neighbors towards B \n",
      "## DEBUG: 6. reset s1 and s2 age \n",
      "## DEBUG: 7. remove old edges \n",
      "## DEBUG: 8. Insert new neuron \n",
      "## DEBUG: 9. Decrease system error \n",
      "## DEBUG: \n",
      "## DEBUG: \n",
      "## DEBUG: Attemping to plot... \n"
     ]
    },
    {
     "name": "stderr",
     "output_type": "stream",
     "text": [
      "\r",
      " 80%|████████████████████████████████████████████████████████████████████████████████████████▊                      | 800/1000 [02:05<00:38,  5.13it/s]"
     ]
    },
    {
     "name": "stdout",
     "output_type": "stream",
     "text": [
      "## DEBUG: 1. Pick input signal P(B) \n",
      "## DEBUG: 2. Find two nearest units \n",
      "## DEBUG: Two nearest points: min_dist_1: 0.7845820180860902 min_dist_2: 1.1724603534112252 \n",
      "## DEBUG: 3. Incremement Age of all edges from s_1 \n",
      "## DEBUG: 4. Add error to neuron \n",
      "## DEBUG: 5. Move s1 and neighbors towards B \n",
      "## DEBUG: 6. reset s1 and s2 age \n",
      "## DEBUG: 7. remove old edges \n",
      "## DEBUG: 8. Insert new neuron \n",
      "## DEBUG: 9. Decrease system error \n",
      "## DEBUG: \n",
      "## DEBUG: \n",
      "## DEBUG: Attemping to plot... \n",
      "## DEBUG: 1. Pick input signal P(B) \n",
      "## DEBUG: 2. Find two nearest units \n",
      "## DEBUG: Two nearest points: min_dist_1: 0.549573771399257 min_dist_2: 0.7089848156674814 \n",
      "## DEBUG: 3. Incremement Age of all edges from s_1 \n",
      "## DEBUG: 4. Add error to neuron \n",
      "## DEBUG: 5. Move s1 and neighbors towards B \n",
      "## DEBUG: 6. reset s1 and s2 age \n",
      "## DEBUG: 7. remove old edges \n",
      "## DEBUG: 8. Insert new neuron \n"
     ]
    },
    {
     "name": "stderr",
     "output_type": "stream",
     "text": [
      "\r",
      " 80%|████████████████████████████████████████████████████████████████████████████████████████▉                      | 801/1000 [02:05<00:38,  5.16it/s]"
     ]
    },
    {
     "name": "stdout",
     "output_type": "stream",
     "text": [
      "## DEBUG: 9. Decrease system error \n",
      "## DEBUG: \n",
      "## DEBUG: \n",
      "## DEBUG: Attemping to plot... \n",
      "## DEBUG: 1. Pick input signal P(B) \n",
      "## DEBUG: 2. Find two nearest units \n",
      "## DEBUG: Two nearest points: min_dist_1: 0.12443215890067559 min_dist_2: 0.32764294083753376 \n",
      "## DEBUG: 3. Incremement Age of all edges from s_1 \n",
      "## DEBUG: 4. Add error to neuron \n",
      "## DEBUG: 5. Move s1 and neighbors towards B \n",
      "## DEBUG: 6. reset s1 and s2 age \n",
      "## DEBUG: 7. remove old edges \n",
      "## DEBUG: 8. Insert new neuron \n",
      "## DEBUG: 9. Decrease system error \n",
      "## DEBUG: \n",
      "## DEBUG: \n",
      "## DEBUG: Attemping to plot... \n"
     ]
    },
    {
     "name": "stderr",
     "output_type": "stream",
     "text": [
      " 80%|█████████████████████████████████████████████████████████████████████████████████████████▏                     | 803/1000 [02:05<00:38,  5.18it/s]"
     ]
    },
    {
     "name": "stdout",
     "output_type": "stream",
     "text": [
      "## DEBUG: 1. Pick input signal P(B) \n",
      "## DEBUG: 2. Find two nearest units \n",
      "## DEBUG: Two nearest points: min_dist_1: 2.011621889301872 min_dist_2: 2.176765938723323 \n",
      "## DEBUG: 3. Incremement Age of all edges from s_1 \n",
      "## DEBUG: 4. Add error to neuron \n",
      "## DEBUG: 5. Move s1 and neighbors towards B \n",
      "## DEBUG: 6. reset s1 and s2 age \n",
      "## DEBUG: 7. remove old edges \n",
      "## DEBUG: 8. Insert new neuron \n",
      "## DEBUG: 9. Decrease system error \n",
      "## DEBUG: \n",
      "## DEBUG: \n",
      "## DEBUG: Attemping to plot... \n"
     ]
    },
    {
     "name": "stderr",
     "output_type": "stream",
     "text": [
      "\r",
      " 80%|█████████████████████████████████████████████████████████████████████████████████████████▏                     | 804/1000 [02:06<00:37,  5.18it/s]"
     ]
    },
    {
     "name": "stdout",
     "output_type": "stream",
     "text": [
      "## DEBUG: 1. Pick input signal P(B) \n",
      "## DEBUG: 2. Find two nearest units \n",
      "## DEBUG: Two nearest points: min_dist_1: 1.4642078736061617 min_dist_2: 1.6691294067092188 \n",
      "## DEBUG: 3. Incremement Age of all edges from s_1 \n",
      "## DEBUG: 4. Add error to neuron \n",
      "## DEBUG: 5. Move s1 and neighbors towards B \n",
      "## DEBUG: 6. reset s1 and s2 age \n",
      "## DEBUG: 7. remove old edges \n",
      "## DEBUG: 8. Insert new neuron \n",
      "## DEBUG: 9. Decrease system error \n",
      "## DEBUG: \n",
      "## DEBUG: \n",
      "## DEBUG: Attemping to plot... \n",
      "## DEBUG: 1. Pick input signal P(B) \n",
      "## DEBUG: 2. Find two nearest units \n",
      "## DEBUG: Two nearest points: min_dist_1: 0.34786581074015877 min_dist_2: 0.5974278706192329 \n",
      "## DEBUG: 3. Incremement Age of all edges from s_1 \n",
      "## DEBUG: 4. Add error to neuron \n",
      "## DEBUG: 5. Move s1 and neighbors towards B \n",
      "## DEBUG: 6. reset s1 and s2 age \n",
      "## DEBUG: 7. remove old edges \n",
      "## DEBUG: 8. Insert new neuron \n",
      "## DEBUG: 9. Decrease system error \n",
      "## DEBUG: \n",
      "## DEBUG: \n",
      "## DEBUG: Attemping to plot... \n"
     ]
    },
    {
     "name": "stderr",
     "output_type": "stream",
     "text": [
      " 81%|█████████████████████████████████████████████████████████████████████████████████████████▍                     | 806/1000 [02:06<00:37,  5.16it/s]"
     ]
    },
    {
     "name": "stdout",
     "output_type": "stream",
     "text": [
      "## DEBUG: 1. Pick input signal P(B) \n",
      "## DEBUG: 2. Find two nearest units \n",
      "## DEBUG: Two nearest points: min_dist_1: 1.6986287578637465 min_dist_2: 1.8919841190514133 \n",
      "## DEBUG: 3. Incremement Age of all edges from s_1 \n",
      "## DEBUG: 4. Add error to neuron \n",
      "## DEBUG: 5. Move s1 and neighbors towards B \n",
      "## DEBUG: 6. reset s1 and s2 age \n",
      "## DEBUG: 7. remove old edges \n",
      "## DEBUG: 8. Insert new neuron \n",
      "## DEBUG: 9. Decrease system error \n",
      "## DEBUG: \n",
      "## DEBUG: \n",
      "## DEBUG: Attemping to plot... \n"
     ]
    },
    {
     "name": "stderr",
     "output_type": "stream",
     "text": [
      "\r",
      " 81%|█████████████████████████████████████████████████████████████████████████████████████████▌                     | 807/1000 [02:06<00:37,  5.11it/s]"
     ]
    },
    {
     "name": "stdout",
     "output_type": "stream",
     "text": [
      "## DEBUG: 1. Pick input signal P(B) \n",
      "## DEBUG: 2. Find two nearest units \n",
      "## DEBUG: Two nearest points: min_dist_1: 0.7318698817574452 min_dist_2: 1.2292697446489662 \n",
      "## DEBUG: 3. Incremement Age of all edges from s_1 \n",
      "## DEBUG: 4. Add error to neuron \n",
      "## DEBUG: 5. Move s1 and neighbors towards B \n",
      "## DEBUG: 6. reset s1 and s2 age \n",
      "## DEBUG: 7. remove old edges \n",
      "## DEBUG: 8. Insert new neuron \n",
      "## DEBUG: 9. Decrease system error \n",
      "## DEBUG: \n",
      "## DEBUG: \n",
      "## DEBUG: Attemping to plot... \n"
     ]
    },
    {
     "name": "stderr",
     "output_type": "stream",
     "text": [
      "\r",
      " 81%|█████████████████████████████████████████████████████████████████████████████████████████▋                     | 808/1000 [02:06<00:38,  5.05it/s]"
     ]
    },
    {
     "name": "stdout",
     "output_type": "stream",
     "text": [
      "## DEBUG: 1. Pick input signal P(B) \n",
      "## DEBUG: 2. Find two nearest units \n",
      "## DEBUG: Two nearest points: min_dist_1: 0.15849088429001912 min_dist_2: 0.9653176982362186 \n",
      "## DEBUG: 3. Incremement Age of all edges from s_1 \n",
      "## DEBUG: 4. Add error to neuron \n",
      "## DEBUG: 5. Move s1 and neighbors towards B \n",
      "## DEBUG: 6. reset s1 and s2 age \n",
      "## DEBUG: 7. remove old edges \n",
      "## DEBUG: 8. Insert new neuron \n",
      "## DEBUG: 9. Decrease system error \n",
      "## DEBUG: \n",
      "## DEBUG: \n",
      "## DEBUG: Attemping to plot... \n"
     ]
    },
    {
     "name": "stderr",
     "output_type": "stream",
     "text": [
      "\r",
      " 81%|█████████████████████████████████████████████████████████████████████████████████████████▊                     | 809/1000 [02:07<00:37,  5.06it/s]"
     ]
    },
    {
     "name": "stdout",
     "output_type": "stream",
     "text": [
      "## DEBUG: 1. Pick input signal P(B) \n",
      "## DEBUG: 2. Find two nearest units \n",
      "## DEBUG: Two nearest points: min_dist_1: 0.05961065763553335 min_dist_2: 0.2900878007666197 \n",
      "## DEBUG: 3. Incremement Age of all edges from s_1 \n",
      "## DEBUG: 4. Add error to neuron \n",
      "## DEBUG: 5. Move s1 and neighbors towards B \n",
      "## DEBUG: 6. reset s1 and s2 age \n",
      "## DEBUG: 7. remove old edges \n",
      "## DEBUG: 8. Insert new neuron \n",
      "## DEBUG: 9. Decrease system error \n",
      "## DEBUG: \n",
      "## DEBUG: \n",
      "## DEBUG: Attemping to plot... \n"
     ]
    },
    {
     "name": "stderr",
     "output_type": "stream",
     "text": [
      "\r",
      " 81%|█████████████████████████████████████████████████████████████████████████████████████████▉                     | 810/1000 [02:07<00:37,  5.04it/s]"
     ]
    },
    {
     "name": "stdout",
     "output_type": "stream",
     "text": [
      "## DEBUG: 1. Pick input signal P(B) \n",
      "## DEBUG: 2. Find two nearest units \n",
      "## DEBUG: Two nearest points: min_dist_1: 0.22293290318744438 min_dist_2: 0.2640261262998605 \n",
      "## DEBUG: 3. Incremement Age of all edges from s_1 \n",
      "## DEBUG: 4. Add error to neuron \n",
      "## DEBUG: 5. Move s1 and neighbors towards B \n",
      "## DEBUG: 6. reset s1 and s2 age \n",
      "## DEBUG: 7. remove old edges \n",
      "## DEBUG: 8. Insert new neuron \n",
      "## DEBUG: 9. Decrease system error \n",
      "## DEBUG: \n",
      "## DEBUG: \n",
      "## DEBUG: Attemping to plot... \n",
      "## DEBUG: 1. Pick input signal P(B) \n",
      "## DEBUG: 2. Find two nearest units \n",
      "## DEBUG: Two nearest points: min_dist_1: 0.3213082090445188 min_dist_2: 0.413829837249925 \n",
      "## DEBUG: 3. Incremement Age of all edges from s_1 \n",
      "## DEBUG: 4. Add error to neuron \n",
      "## DEBUG: 5. Move s1 and neighbors towards B \n",
      "## DEBUG: 6. reset s1 and s2 age \n",
      "## DEBUG: 7. remove old edges \n",
      "## DEBUG: 8. Insert new neuron \n"
     ]
    },
    {
     "name": "stderr",
     "output_type": "stream",
     "text": [
      "\r",
      " 81%|██████████████████████████████████████████████████████████████████████████████████████████                     | 811/1000 [02:07<00:37,  5.06it/s]"
     ]
    },
    {
     "name": "stdout",
     "output_type": "stream",
     "text": [
      "## DEBUG: 9. Decrease system error \n",
      "## DEBUG: \n",
      "## DEBUG: \n",
      "## DEBUG: Attemping to plot... \n",
      "## DEBUG: 1. Pick input signal P(B) \n",
      "## DEBUG: 2. Find two nearest units \n",
      "## DEBUG: Two nearest points: min_dist_1: 0.7848787085170531 min_dist_2: 1.3221250542106462 \n",
      "## DEBUG: 3. Incremement Age of all edges from s_1 \n",
      "## DEBUG: 4. Add error to neuron \n",
      "## DEBUG: 5. Move s1 and neighbors towards B \n",
      "## DEBUG: 6. reset s1 and s2 age \n",
      "## DEBUG: 7. remove old edges \n",
      "## DEBUG: 8. Insert new neuron \n",
      "## DEBUG: 9. Decrease system error \n",
      "## DEBUG: \n",
      "## DEBUG: \n",
      "## DEBUG: Attemping to plot... \n"
     ]
    },
    {
     "name": "stderr",
     "output_type": "stream",
     "text": [
      " 81%|██████████████████████████████████████████████████████████████████████████████████████████▏                    | 813/1000 [02:07<00:36,  5.06it/s]"
     ]
    },
    {
     "name": "stdout",
     "output_type": "stream",
     "text": [
      "## DEBUG: 1. Pick input signal P(B) \n",
      "## DEBUG: 2. Find two nearest units \n",
      "## DEBUG: Two nearest points: min_dist_1: 0.9958078375825521 min_dist_2: 1.446761609129199 \n",
      "## DEBUG: 3. Incremement Age of all edges from s_1 \n",
      "## DEBUG: 4. Add error to neuron \n",
      "## DEBUG: 5. Move s1 and neighbors towards B \n",
      "## DEBUG: 6. reset s1 and s2 age \n",
      "## DEBUG: 7. remove old edges \n",
      "## DEBUG: 8. Insert new neuron \n",
      "## DEBUG: 9. Decrease system error \n",
      "## DEBUG: \n",
      "## DEBUG: \n",
      "## DEBUG: Attemping to plot... \n"
     ]
    },
    {
     "name": "stderr",
     "output_type": "stream",
     "text": [
      "\r",
      " 81%|██████████████████████████████████████████████████████████████████████████████████████████▎                    | 814/1000 [02:07<00:36,  5.04it/s]"
     ]
    },
    {
     "name": "stdout",
     "output_type": "stream",
     "text": [
      "## DEBUG: 1. Pick input signal P(B) \n",
      "## DEBUG: 2. Find two nearest units \n",
      "## DEBUG: Two nearest points: min_dist_1: 0.721562481337368 min_dist_2: 0.9318226401309209 \n",
      "## DEBUG: 3. Incremement Age of all edges from s_1 \n",
      "## DEBUG: 4. Add error to neuron \n",
      "## DEBUG: 5. Move s1 and neighbors towards B \n",
      "## DEBUG: 6. reset s1 and s2 age \n",
      "## DEBUG: 7. remove old edges \n",
      "## DEBUG: 8. Insert new neuron \n",
      "## DEBUG: 9. Decrease system error \n",
      "## DEBUG: \n",
      "## DEBUG: \n",
      "## DEBUG: Attemping to plot... \n"
     ]
    },
    {
     "name": "stderr",
     "output_type": "stream",
     "text": [
      "\r",
      " 82%|██████████████████████████████████████████████████████████████████████████████████████████▍                    | 815/1000 [02:08<00:36,  5.02it/s]"
     ]
    },
    {
     "name": "stdout",
     "output_type": "stream",
     "text": [
      "## DEBUG: 1. Pick input signal P(B) \n",
      "## DEBUG: 2. Find two nearest units \n",
      "## DEBUG: Two nearest points: min_dist_1: 0.5555737132869771 min_dist_2: 1.1325369858566348 \n",
      "## DEBUG: 3. Incremement Age of all edges from s_1 \n",
      "## DEBUG: 4. Add error to neuron \n",
      "## DEBUG: 5. Move s1 and neighbors towards B \n",
      "## DEBUG: 6. reset s1 and s2 age \n",
      "## DEBUG: 7. remove old edges \n",
      "## DEBUG: 8. Insert new neuron \n",
      "## DEBUG: 9. Decrease system error \n",
      "## DEBUG: \n",
      "## DEBUG: \n",
      "## DEBUG: Attemping to plot... \n"
     ]
    },
    {
     "name": "stderr",
     "output_type": "stream",
     "text": [
      "\r",
      " 82%|██████████████████████████████████████████████████████████████████████████████████████████▌                    | 816/1000 [02:08<00:36,  5.02it/s]"
     ]
    },
    {
     "name": "stdout",
     "output_type": "stream",
     "text": [
      "## DEBUG: 1. Pick input signal P(B) \n",
      "## DEBUG: 2. Find two nearest units \n",
      "## DEBUG: Two nearest points: min_dist_1: 1.2557406541159413 min_dist_2: 1.5287658820773724 \n",
      "## DEBUG: 3. Incremement Age of all edges from s_1 \n",
      "## DEBUG: 4. Add error to neuron \n",
      "## DEBUG: 5. Move s1 and neighbors towards B \n",
      "## DEBUG: 6. reset s1 and s2 age \n",
      "## DEBUG: 7. remove old edges \n",
      "## DEBUG: 8. Insert new neuron \n",
      "## DEBUG: 9. Decrease system error \n",
      "## DEBUG: \n",
      "## DEBUG: \n",
      "## DEBUG: Attemping to plot... \n"
     ]
    },
    {
     "name": "stderr",
     "output_type": "stream",
     "text": [
      "\r",
      " 82%|██████████████████████████████████████████████████████████████████████████████████████████▋                    | 817/1000 [02:08<00:36,  5.04it/s]"
     ]
    },
    {
     "name": "stdout",
     "output_type": "stream",
     "text": [
      "## DEBUG: 1. Pick input signal P(B) \n",
      "## DEBUG: 2. Find two nearest units \n",
      "## DEBUG: Two nearest points: min_dist_1: 1.8178988587281015 min_dist_2: 1.9850763955751751 \n",
      "## DEBUG: 3. Incremement Age of all edges from s_1 \n",
      "## DEBUG: 4. Add error to neuron \n",
      "## DEBUG: 5. Move s1 and neighbors towards B \n",
      "## DEBUG: 6. reset s1 and s2 age \n",
      "## DEBUG: 7. remove old edges \n",
      "## DEBUG: 8. Insert new neuron \n",
      "## DEBUG: 9. Decrease system error \n",
      "## DEBUG: \n",
      "## DEBUG: \n",
      "## DEBUG: Attemping to plot... \n",
      "## DEBUG: 1. Pick input signal P(B) \n",
      "## DEBUG: 2. Find two nearest units \n",
      "## DEBUG: Two nearest points: min_dist_1: 1.1301665887043475 min_dist_2: 1.214176519580078 \n",
      "## DEBUG: 3. Incremement Age of all edges from s_1 \n",
      "## DEBUG: 4. Add error to neuron \n",
      "## DEBUG: 5. Move s1 and neighbors towards B \n",
      "## DEBUG: 6. reset s1 and s2 age \n",
      "## DEBUG: 7. remove old edges \n",
      "## DEBUG: 8. Insert new neuron \n",
      "## DEBUG: 9. Decrease system error \n",
      "## DEBUG: \n",
      "## DEBUG: \n",
      "## DEBUG: Attemping to plot... \n"
     ]
    },
    {
     "name": "stderr",
     "output_type": "stream",
     "text": [
      " 82%|██████████████████████████████████████████████████████████████████████████████████████████▉                    | 819/1000 [02:09<00:37,  4.87it/s]"
     ]
    },
    {
     "name": "stdout",
     "output_type": "stream",
     "text": [
      "## DEBUG: 1. Pick input signal P(B) \n",
      "## DEBUG: 2. Find two nearest units \n",
      "## DEBUG: Two nearest points: min_dist_1: 0.5325624789278145 min_dist_2: 0.7506524833819054 \n",
      "## DEBUG: 3. Incremement Age of all edges from s_1 \n",
      "## DEBUG: 4. Add error to neuron \n",
      "## DEBUG: 5. Move s1 and neighbors towards B \n",
      "## DEBUG: 6. reset s1 and s2 age \n",
      "## DEBUG: 7. remove old edges \n",
      "## DEBUG: 8. Insert new neuron \n",
      "## DEBUG: 9. Decrease system error \n",
      "## DEBUG: \n",
      "## DEBUG: \n",
      "## DEBUG: Attemping to plot... \n"
     ]
    },
    {
     "name": "stderr",
     "output_type": "stream",
     "text": [
      "\r",
      " 82%|███████████████████████████████████████████████████████████████████████████████████████████                    | 820/1000 [02:09<00:36,  4.93it/s]"
     ]
    },
    {
     "name": "stdout",
     "output_type": "stream",
     "text": [
      "## DEBUG: 1. Pick input signal P(B) \n",
      "## DEBUG: 2. Find two nearest units \n",
      "## DEBUG: Two nearest points: min_dist_1: 0.4802273908780558 min_dist_2: 0.8426653158064246 \n",
      "## DEBUG: 3. Incremement Age of all edges from s_1 \n",
      "## DEBUG: 4. Add error to neuron \n",
      "## DEBUG: 5. Move s1 and neighbors towards B \n",
      "## DEBUG: 6. reset s1 and s2 age \n",
      "## DEBUG: 7. remove old edges \n",
      "## DEBUG: 8. Insert new neuron \n",
      "## DEBUG: 9. Decrease system error \n",
      "## DEBUG: \n",
      "## DEBUG: \n",
      "## DEBUG: Attemping to plot... \n",
      "## DEBUG: 1. Pick input signal P(B) \n",
      "## DEBUG: 2. Find two nearest units \n",
      "## DEBUG: Two nearest points: min_dist_1: 0.7586141927565266 min_dist_2: 0.9455992830637183 \n",
      "## DEBUG: 3. Incremement Age of all edges from s_1 \n",
      "## DEBUG: 4. Add error to neuron \n",
      "## DEBUG: 5. Move s1 and neighbors towards B \n",
      "## DEBUG: 6. reset s1 and s2 age \n",
      "## DEBUG: 7. remove old edges \n",
      "## DEBUG: 8. Insert new neuron \n"
     ]
    },
    {
     "name": "stderr",
     "output_type": "stream",
     "text": [
      "\r",
      " 82%|███████████████████████████████████████████████████████████████████████████████████████████▏                   | 821/1000 [02:09<00:36,  4.91it/s]"
     ]
    },
    {
     "name": "stdout",
     "output_type": "stream",
     "text": [
      "## DEBUG: 9. Decrease system error \n",
      "## DEBUG: \n",
      "## DEBUG: \n",
      "## DEBUG: Attemping to plot... \n"
     ]
    },
    {
     "name": "stderr",
     "output_type": "stream",
     "text": [
      "\r",
      " 82%|███████████████████████████████████████████████████████████████████████████████████████████▏                   | 822/1000 [02:09<00:36,  4.94it/s]"
     ]
    },
    {
     "name": "stdout",
     "output_type": "stream",
     "text": [
      "## DEBUG: 1. Pick input signal P(B) \n",
      "## DEBUG: 2. Find two nearest units \n",
      "## DEBUG: Two nearest points: min_dist_1: 0.10246602944337757 min_dist_2: 0.25270307835818767 \n",
      "## DEBUG: 3. Incremement Age of all edges from s_1 \n",
      "## DEBUG: 4. Add error to neuron \n",
      "## DEBUG: 5. Move s1 and neighbors towards B \n",
      "## DEBUG: 6. reset s1 and s2 age \n",
      "## DEBUG: 7. remove old edges \n",
      "## DEBUG: 8. Insert new neuron \n",
      "## DEBUG: 9. Decrease system error \n",
      "## DEBUG: \n",
      "## DEBUG: \n",
      "## DEBUG: Attemping to plot... \n",
      "## DEBUG: 1. Pick input signal P(B) \n",
      "## DEBUG: 2. Find two nearest units \n",
      "## DEBUG: Two nearest points: min_dist_1: 0.9263311169651134 min_dist_2: 1.1088057120179309 \n",
      "## DEBUG: 3. Incremement Age of all edges from s_1 \n",
      "## DEBUG: 4. Add error to neuron \n",
      "## DEBUG: 5. Move s1 and neighbors towards B \n",
      "## DEBUG: 6. reset s1 and s2 age \n",
      "## DEBUG: 7. remove old edges \n",
      "## DEBUG:"
     ]
    },
    {
     "name": "stderr",
     "output_type": "stream",
     "text": [
      "\r",
      " 82%|███████████████████████████████████████████████████████████████████████████████████████████▎                   | 823/1000 [02:09<00:35,  4.94it/s]"
     ]
    },
    {
     "name": "stdout",
     "output_type": "stream",
     "text": [
      " 8. Insert new neuron \n",
      "## DEBUG: 9. Decrease system error \n",
      "## DEBUG: \n",
      "## DEBUG: \n",
      "## DEBUG: Attemping to plot... \n"
     ]
    },
    {
     "name": "stderr",
     "output_type": "stream",
     "text": [
      "\r",
      " 82%|███████████████████████████████████████████████████████████████████████████████████████████▍                   | 824/1000 [02:10<00:35,  4.96it/s]"
     ]
    },
    {
     "name": "stdout",
     "output_type": "stream",
     "text": [
      "## DEBUG: 1. Pick input signal P(B) \n",
      "## DEBUG: 2. Find two nearest units \n",
      "## DEBUG: Two nearest points: min_dist_1: 0.283122058843419 min_dist_2: 0.7113307296303589 \n",
      "## DEBUG: 3. Incremement Age of all edges from s_1 \n",
      "## DEBUG: 4. Add error to neuron \n",
      "## DEBUG: 5. Move s1 and neighbors towards B \n",
      "## DEBUG: 6. reset s1 and s2 age \n",
      "## DEBUG: 7. remove old edges \n",
      "## DEBUG: 8. Insert new neuron \n",
      "## DEBUG: 9. Decrease system error \n",
      "## DEBUG: \n",
      "## DEBUG: \n",
      "## DEBUG: Attemping to plot... \n"
     ]
    },
    {
     "name": "stderr",
     "output_type": "stream",
     "text": [
      "\r",
      " 82%|███████████████████████████████████████████████████████████████████████████████████████████▌                   | 825/1000 [02:10<00:35,  4.97it/s]"
     ]
    },
    {
     "name": "stdout",
     "output_type": "stream",
     "text": [
      "## DEBUG: 1. Pick input signal P(B) \n",
      "## DEBUG: 2. Find two nearest units \n",
      "## DEBUG: Two nearest points: min_dist_1: 0.20650360833330028 min_dist_2: 0.7254633511755231 \n",
      "## DEBUG: 3. Incremement Age of all edges from s_1 \n",
      "## DEBUG: 4. Add error to neuron \n",
      "## DEBUG: 5. Move s1 and neighbors towards B \n",
      "## DEBUG: 6. reset s1 and s2 age \n",
      "## DEBUG: 7. remove old edges \n",
      "## DEBUG: 8. Insert new neuron \n",
      "## DEBUG: 9. Decrease system error \n",
      "## DEBUG: \n",
      "## DEBUG: \n",
      "## DEBUG: Attemping to plot... \n"
     ]
    },
    {
     "name": "stderr",
     "output_type": "stream",
     "text": [
      "\r",
      " 83%|███████████████████████████████████████████████████████████████████████████████████████████▋                   | 826/1000 [02:10<00:34,  4.98it/s]"
     ]
    },
    {
     "name": "stdout",
     "output_type": "stream",
     "text": [
      "## DEBUG: 1. Pick input signal P(B) \n",
      "## DEBUG: 2. Find two nearest units \n",
      "## DEBUG: Two nearest points: min_dist_1: 0.5149620625621083 min_dist_2: 0.5570603669579371 \n",
      "## DEBUG: 3. Incremement Age of all edges from s_1 \n",
      "## DEBUG: 4. Add error to neuron \n",
      "## DEBUG: 5. Move s1 and neighbors towards B \n",
      "## DEBUG: 6. reset s1 and s2 age \n",
      "## DEBUG: 7. remove old edges \n",
      "## DEBUG: 8. Insert new neuron \n",
      "## DEBUG: 9. Decrease system error \n",
      "## DEBUG: \n",
      "## DEBUG: \n",
      "## DEBUG: Attemping to plot... \n"
     ]
    },
    {
     "name": "stderr",
     "output_type": "stream",
     "text": [
      "\r",
      " 83%|███████████████████████████████████████████████████████████████████████████████████████████▊                   | 827/1000 [02:10<00:34,  5.02it/s]"
     ]
    },
    {
     "name": "stdout",
     "output_type": "stream",
     "text": [
      "## DEBUG: 1. Pick input signal P(B) \n",
      "## DEBUG: 2. Find two nearest units \n",
      "## DEBUG: Two nearest points: min_dist_1: 0.47984912834613414 min_dist_2: 0.6193989453366923 \n",
      "## DEBUG: 3. Incremement Age of all edges from s_1 \n",
      "## DEBUG: 4. Add error to neuron \n",
      "## DEBUG: 5. Move s1 and neighbors towards B \n",
      "## DEBUG: 6. reset s1 and s2 age \n",
      "## DEBUG: 7. remove old edges \n",
      "## DEBUG: 8. Insert new neuron \n",
      "## DEBUG: 9. Decrease system error \n",
      "## DEBUG: \n",
      "## DEBUG: \n",
      "## DEBUG: Attemping to plot... \n",
      "## DEBUG: 1. Pick input signal P(B) \n",
      "## DEBUG: 2. Find two nearest units \n",
      "## DEBUG: Two nearest points: min_dist_1: 0.4021558022804333 min_dist_2: 0.766036404584224 \n",
      "## DEBUG: 3. Incremement Age of all edges from s_1 \n",
      "## DEBUG: 4. Add error to neuron \n",
      "## DEBUG: 5. Move s1 and neighbors towards B \n",
      "## DEBUG: 6. reset s1 and s2 age \n",
      "## DEBUG: 7. remove old edges \n",
      "## DEBUG:"
     ]
    },
    {
     "name": "stderr",
     "output_type": "stream",
     "text": [
      "\r",
      " 83%|███████████████████████████████████████████████████████████████████████████████████████████▉                   | 828/1000 [02:10<00:34,  5.04it/s]"
     ]
    },
    {
     "name": "stdout",
     "output_type": "stream",
     "text": [
      " 8. Insert new neuron \n",
      "## DEBUG: 9. Decrease system error \n",
      "## DEBUG: \n",
      "## DEBUG: \n",
      "## DEBUG: Attemping to plot... \n",
      "## DEBUG: 1. Pick input signal P(B) \n",
      "## DEBUG: 2. Find two nearest units \n",
      "## DEBUG: Two nearest points: min_dist_1: 0.6651844796320822 min_dist_2: 1.3112650928189276 \n",
      "## DEBUG: 3. Incremement Age of all edges from s_1 \n",
      "## DEBUG: 4. Add error to neuron \n",
      "## DEBUG: 5. Move s1 and neighbors towards B \n",
      "## DEBUG: 6. reset s1 and s2 age \n",
      "## DEBUG: 7. remove old edges \n",
      "## DEBUG: 8. Insert new neuron \n",
      "## DEBUG: 9. Decrease system error \n",
      "## DEBUG: \n",
      "## DEBUG: \n",
      "## DEBUG: Attemping to plot... \n"
     ]
    },
    {
     "name": "stderr",
     "output_type": "stream",
     "text": [
      " 83%|████████████████████████████████████████████████████████████████████████████████████████████▏                  | 830/1000 [02:11<00:33,  5.03it/s]"
     ]
    },
    {
     "name": "stdout",
     "output_type": "stream",
     "text": [
      "## DEBUG: 1. Pick input signal P(B) \n",
      "## DEBUG: 2. Find two nearest units \n",
      "## DEBUG: Two nearest points: min_dist_1: 1.4955805917758647 min_dist_2: 1.5690607254376663 \n",
      "## DEBUG: 3. Incremement Age of all edges from s_1 \n",
      "## DEBUG: 4. Add error to neuron \n",
      "## DEBUG: 5. Move s1 and neighbors towards B \n",
      "## DEBUG: 6. reset s1 and s2 age \n",
      "## DEBUG: 7. remove old edges \n",
      "## DEBUG: 8. Insert new neuron \n",
      "## DEBUG: 9. Decrease system error \n",
      "## DEBUG: \n",
      "## DEBUG: \n",
      "## DEBUG: Attemping to plot... \n"
     ]
    },
    {
     "name": "stderr",
     "output_type": "stream",
     "text": [
      "\r",
      " 83%|████████████████████████████████████████████████████████████████████████████████████████████▏                  | 831/1000 [02:11<00:33,  5.01it/s]"
     ]
    },
    {
     "name": "stdout",
     "output_type": "stream",
     "text": [
      "## DEBUG: 1. Pick input signal P(B) \n",
      "## DEBUG: 2. Find two nearest units \n",
      "## DEBUG: Two nearest points: min_dist_1: 0.8341469306603788 min_dist_2: 0.9614096493596206 \n",
      "## DEBUG: 3. Incremement Age of all edges from s_1 \n",
      "## DEBUG: 4. Add error to neuron \n",
      "## DEBUG: 5. Move s1 and neighbors towards B \n",
      "## DEBUG: 6. reset s1 and s2 age \n",
      "## DEBUG: 7. remove old edges \n",
      "## DEBUG: 8. Insert new neuron \n",
      "## DEBUG: 9. Decrease system error \n",
      "## DEBUG: \n",
      "## DEBUG: \n",
      "## DEBUG: Attemping to plot... \n"
     ]
    },
    {
     "name": "stderr",
     "output_type": "stream",
     "text": [
      "\r",
      " 83%|████████████████████████████████████████████████████████████████████████████████████████████▎                  | 832/1000 [02:11<00:33,  5.01it/s]"
     ]
    },
    {
     "name": "stdout",
     "output_type": "stream",
     "text": [
      "## DEBUG: 1. Pick input signal P(B) \n",
      "## DEBUG: 2. Find two nearest units \n",
      "## DEBUG: Two nearest points: min_dist_1: 0.2270799821473849 min_dist_2: 0.5434597006591314 \n",
      "## DEBUG: 3. Incremement Age of all edges from s_1 \n",
      "## DEBUG: 4. Add error to neuron \n",
      "## DEBUG: 5. Move s1 and neighbors towards B \n",
      "## DEBUG: 6. reset s1 and s2 age \n",
      "## DEBUG: 7. remove old edges \n",
      "## DEBUG: 8. Insert new neuron \n",
      "## DEBUG: 9. Decrease system error \n",
      "## DEBUG: \n",
      "## DEBUG: \n",
      "## DEBUG: Attemping to plot... \n"
     ]
    },
    {
     "name": "stderr",
     "output_type": "stream",
     "text": [
      "\r",
      " 83%|████████████████████████████████████████████████████████████████████████████████████████████▍                  | 833/1000 [02:11<00:33,  4.97it/s]"
     ]
    },
    {
     "name": "stdout",
     "output_type": "stream",
     "text": [
      "## DEBUG: 1. Pick input signal P(B) \n",
      "## DEBUG: 2. Find two nearest units \n",
      "## DEBUG: Two nearest points: min_dist_1: 0.39809708482198497 min_dist_2: 1.1076552950886918 \n",
      "## DEBUG: 3. Incremement Age of all edges from s_1 \n",
      "## DEBUG: 4. Add error to neuron \n",
      "## DEBUG: 5. Move s1 and neighbors towards B \n",
      "## DEBUG: 6. reset s1 and s2 age \n",
      "## DEBUG: 7. remove old edges \n",
      "## DEBUG: 8. Insert new neuron \n",
      "## DEBUG: 9. Decrease system error \n",
      "## DEBUG: \n",
      "## DEBUG: \n",
      "## DEBUG: Attemping to plot... \n"
     ]
    },
    {
     "name": "stderr",
     "output_type": "stream",
     "text": [
      "\r",
      " 83%|████████████████████████████████████████████████████████████████████████████████████████████▌                  | 834/1000 [02:12<00:33,  4.96it/s]"
     ]
    },
    {
     "name": "stdout",
     "output_type": "stream",
     "text": [
      "## DEBUG: 1. Pick input signal P(B) \n",
      "## DEBUG: 2. Find two nearest units \n",
      "## DEBUG: Two nearest points: min_dist_1: 2.6146798837497207 min_dist_2: 2.8888876157395424 \n",
      "## DEBUG: 3. Incremement Age of all edges from s_1 \n",
      "## DEBUG: 4. Add error to neuron \n",
      "## DEBUG: 5. Move s1 and neighbors towards B \n",
      "## DEBUG: 6. reset s1 and s2 age \n",
      "## DEBUG: 7. remove old edges \n",
      "## DEBUG: 8. Insert new neuron \n",
      "## DEBUG: 9. Decrease system error \n",
      "## DEBUG: \n",
      "## DEBUG: \n",
      "## DEBUG: Attemping to plot... \n",
      "## DEBUG: 1. Pick input signal P(B) \n",
      "## DEBUG: 2. Find two nearest units \n",
      "## DEBUG: Two nearest points: min_dist_1: 0.7063908376653478 min_dist_2: 1.320802929156436 \n",
      "## DEBUG: 3. Incremement Age of all edges from s_1 \n",
      "## DEBUG: 4. Add error to neuron \n",
      "## DEBUG: 5. Move s1 and neighbors towards B \n",
      "## DEBUG: 6. reset s1 and s2 age \n",
      "## DEBUG: 7. remove old edges \n",
      "## DEBUG: 8. Insert new neuron \n",
      "## DEBUG: 9. Decrease system error \n",
      "## DEBUG: \n",
      "## DEBUG: \n",
      "## DEBUG: Attemping to plot... \n"
     ]
    },
    {
     "name": "stderr",
     "output_type": "stream",
     "text": [
      " 84%|████████████████████████████████████████████████████████████████████████████████████████████▊                  | 836/1000 [02:12<00:33,  4.91it/s]"
     ]
    },
    {
     "name": "stdout",
     "output_type": "stream",
     "text": [
      "## DEBUG: 1. Pick input signal P(B) \n",
      "## DEBUG: 2. Find two nearest units \n",
      "## DEBUG: Two nearest points: min_dist_1: 1.8528973737231234 min_dist_2: 2.1667442877478345 \n",
      "## DEBUG: 3. Incremement Age of all edges from s_1 \n",
      "## DEBUG: 4. Add error to neuron \n",
      "## DEBUG: 5. Move s1 and neighbors towards B \n",
      "## DEBUG: 6. reset s1 and s2 age \n",
      "## DEBUG: 7. remove old edges \n",
      "## DEBUG: 8. Insert new neuron \n",
      "## DEBUG: 9. Decrease system error \n",
      "## DEBUG: \n",
      "## DEBUG: \n",
      "## DEBUG: Attemping to plot... \n",
      "## DEBUG: 1. Pick input signal P(B) \n",
      "## DEBUG: 2. Find two nearest units \n",
      "## DEBUG: Two nearest points: min_dist_1: 0.30693511271868784 min_dist_2: 0.5732752009644106 \n",
      "## DEBUG: 3. Incremement Age of all edges from s_1 \n",
      "## DEBUG: 4. Add error to neuron \n",
      "## DEBUG: 5. Move s1 and neighbors towards B \n",
      "## DEBUG: 6. reset s1 and s2 age \n",
      "## DEBUG: 7. remove old edges \n",
      "## DEBUG: 8. Insert new neuron \n",
      "## DEBUG: 9. Decrease system error \n",
      "## DEBUG: \n",
      "## DEBUG: \n",
      "## DEBUG: Attemping to plot... \n"
     ]
    },
    {
     "name": "stderr",
     "output_type": "stream",
     "text": [
      " 84%|█████████████████████████████████████████████████████████████████████████████████████████████                  | 838/1000 [02:18<03:45,  1.39s/it]"
     ]
    },
    {
     "name": "stdout",
     "output_type": "stream",
     "text": [
      "## DEBUG: 1. Pick input signal P(B) \n",
      "## DEBUG: 2. Find two nearest units \n",
      "## DEBUG: Two nearest points: min_dist_1: 1.2406207832735519 min_dist_2: 1.487626109312236 \n",
      "## DEBUG: 3. Incremement Age of all edges from s_1 \n",
      "## DEBUG: 4. Add error to neuron \n",
      "## DEBUG: 5. Move s1 and neighbors towards B \n",
      "## DEBUG: 6. reset s1 and s2 age \n",
      "## DEBUG: 7. remove old edges \n",
      "## DEBUG: 8. Insert new neuron \n",
      "## DEBUG: 9. Decrease system error \n",
      "## DEBUG: \n",
      "## DEBUG: \n",
      "## DEBUG: Attemping to plot... \n"
     ]
    },
    {
     "name": "stderr",
     "output_type": "stream",
     "text": [
      "\r",
      " 84%|█████████████████████████████████████████████████████████████████████████████████████████████▏                 | 839/1000 [02:18<02:46,  1.04s/it]"
     ]
    },
    {
     "name": "stdout",
     "output_type": "stream",
     "text": [
      "## DEBUG: 1. Pick input signal P(B) \n",
      "## DEBUG: 2. Find two nearest units \n",
      "## DEBUG: Two nearest points: min_dist_1: 0.2256242651267693 min_dist_2: 0.4245208438904075 \n",
      "## DEBUG: 3. Incremement Age of all edges from s_1 \n",
      "## DEBUG: 4. Add error to neuron \n",
      "## DEBUG: 5. Move s1 and neighbors towards B \n",
      "## DEBUG: 6. reset s1 and s2 age \n",
      "## DEBUG: 7. remove old edges \n",
      "## DEBUG: 8. Insert new neuron \n",
      "## DEBUG: 9. Decrease system error \n",
      "## DEBUG: \n",
      "## DEBUG: \n",
      "## DEBUG: Attemping to plot... \n",
      "## DEBUG: 1. Pick input signal P(B) \n",
      "## DEBUG: 2. Find two nearest units \n",
      "## DEBUG: Two nearest points: min_dist_1: 2.1476837926376957 min_dist_2: 2.339835487228734 \n",
      "## DEBUG: 3. Incremement Age of all edges from s_1 \n",
      "## DEBUG: 4. Add error to neuron \n",
      "## DEBUG: 5. Move s1 and neighbors towards B \n",
      "## DEBUG: 6. reset s1 and s2 age \n",
      "## DEBUG: 7. remove old edges \n",
      "## DEBUG: 8. Insert new neuron \n",
      "## DEBUG: 9. Decrease system error \n",
      "## DEBUG: \n",
      "## DEBUG: \n",
      "## DEBUG: Attemping to plot... \n"
     ]
    },
    {
     "name": "stderr",
     "output_type": "stream",
     "text": [
      " 84%|█████████████████████████████████████████████████████████████████████████████████████████████▎                 | 841/1000 [02:19<01:37,  1.64it/s]"
     ]
    },
    {
     "name": "stdout",
     "output_type": "stream",
     "text": [
      "## DEBUG: 1. Pick input signal P(B) \n",
      "## DEBUG: 2. Find two nearest units \n",
      "## DEBUG: Two nearest points: min_dist_1: 2.341519757970166 min_dist_2: 2.529757028913367 \n",
      "## DEBUG: 3. Incremement Age of all edges from s_1 \n",
      "## DEBUG: 4. Add error to neuron \n",
      "## DEBUG: 5. Move s1 and neighbors towards B \n",
      "## DEBUG: 6. reset s1 and s2 age \n",
      "## DEBUG: 7. remove old edges \n",
      "## DEBUG: 8. Insert new neuron \n",
      "## DEBUG: 9. Decrease system error \n",
      "## DEBUG: \n",
      "## DEBUG: \n",
      "## DEBUG: Attemping to plot... \n"
     ]
    },
    {
     "name": "stderr",
     "output_type": "stream",
     "text": [
      "\r",
      " 84%|█████████████████████████████████████████████████████████████████████████████████████████████▍                 | 842/1000 [02:19<01:17,  2.04it/s]"
     ]
    },
    {
     "name": "stdout",
     "output_type": "stream",
     "text": [
      "## DEBUG: 1. Pick input signal P(B) \n",
      "## DEBUG: 2. Find two nearest units \n",
      "## DEBUG: Two nearest points: min_dist_1: 0.309461956008868 min_dist_2: 0.3332221646654959 \n",
      "## DEBUG: 3. Incremement Age of all edges from s_1 \n",
      "## DEBUG: 4. Add error to neuron \n",
      "## DEBUG: 5. Move s1 and neighbors towards B \n",
      "## DEBUG: 6. reset s1 and s2 age \n",
      "## DEBUG: 7. remove old edges \n",
      "## DEBUG: 8. Insert new neuron \n",
      "## DEBUG: 9. Decrease system error \n",
      "## DEBUG: \n",
      "## DEBUG: \n",
      "## DEBUG: Attemping to plot... \n"
     ]
    },
    {
     "name": "stderr",
     "output_type": "stream",
     "text": [
      "\r",
      " 84%|█████████████████████████████████████████████████████████████████████████████████████████████▌                 | 843/1000 [02:19<01:03,  2.49it/s]"
     ]
    },
    {
     "name": "stdout",
     "output_type": "stream",
     "text": [
      "## DEBUG: 1. Pick input signal P(B) \n",
      "## DEBUG: 2. Find two nearest units \n",
      "## DEBUG: Two nearest points: min_dist_1: 0.37712706235910654 min_dist_2: 0.5239706816257776 \n",
      "## DEBUG: 3. Incremement Age of all edges from s_1 \n",
      "## DEBUG: 4. Add error to neuron \n",
      "## DEBUG: 5. Move s1 and neighbors towards B \n",
      "## DEBUG: 6. reset s1 and s2 age \n",
      "## DEBUG: 7. remove old edges \n",
      "## DEBUG: 8. Insert new neuron \n",
      "## DEBUG: 9. Decrease system error \n",
      "## DEBUG: \n",
      "## DEBUG: \n",
      "## DEBUG: Attemping to plot... \n",
      "## DEBUG: 1. Pick input signal P(B) \n",
      "## DEBUG: 2. Find two nearest units \n",
      "## DEBUG: Two nearest points: min_dist_1: 0.18700453256475577 min_dist_2: 0.8100949404554605 \n",
      "## DEBUG: 3. Incremement Age of all edges from s_1 \n",
      "## DEBUG: 4. Add error to neuron \n",
      "## DEBUG: 5. Move s1 and neighbors towards B \n",
      "## DEBUG: 6. reset s1 and s2 age \n",
      "## DEBUG: 7. remove old edges \n",
      "## DEBUG: 8. Insert new neuron \n",
      "## DEBUG: 9. Decrease system error \n",
      "## DEBUG: \n",
      "## DEBUG: \n",
      "## DEBUG: Attemping to plot... \n"
     ]
    },
    {
     "name": "stderr",
     "output_type": "stream",
     "text": [
      "\r",
      " 84%|█████████████████████████████████████████████████████████████████████████████████████████████▋                 | 844/1000 [02:19<00:53,  2.92it/s]"
     ]
    },
    {
     "name": "stdout",
     "output_type": "stream",
     "text": [
      "## DEBUG: 1. Pick input signal P(B) \n",
      "## DEBUG: 2. Find two nearest units \n",
      "## DEBUG: Two nearest points: min_dist_1: 0.39910161309805164 min_dist_2: 1.0590721254859603 \n",
      "## DEBUG: 3. Incremement Age of all edges from s_1 \n",
      "## DEBUG: 4. Add error to neuron \n",
      "## DEBUG: 5. Move s1 and neighbors towards B \n",
      "## DEBUG: 6. reset s1 and s2 age \n",
      "## DEBUG: 7. remove old edges \n",
      "## DEBUG: 8. Insert new neuron \n",
      "## DEBUG: 9. Decrease system error \n",
      "## DEBUG: \n",
      "## DEBUG: \n",
      "## DEBUG: Attemping to plot... \n"
     ]
    },
    {
     "name": "stderr",
     "output_type": "stream",
     "text": [
      " 85%|█████████████████████████████████████████████████████████████████████████████████████████████▉                 | 846/1000 [02:20<00:42,  3.66it/s]"
     ]
    },
    {
     "name": "stdout",
     "output_type": "stream",
     "text": [
      "## DEBUG: 1. Pick input signal P(B) \n",
      "## DEBUG: 2. Find two nearest units \n",
      "## DEBUG: Two nearest points: min_dist_1: 1.2395416577880078 min_dist_2: 1.7633477343636752 \n",
      "## DEBUG: 3. Incremement Age of all edges from s_1 \n",
      "## DEBUG: 4. Add error to neuron \n",
      "## DEBUG: 5. Move s1 and neighbors towards B \n",
      "## DEBUG: 6. reset s1 and s2 age \n",
      "## DEBUG: 7. remove old edges \n",
      "## DEBUG: 8. Insert new neuron \n",
      "## DEBUG: 9. Decrease system error \n",
      "## DEBUG: \n",
      "## DEBUG: \n",
      "## DEBUG: Attemping to plot... \n"
     ]
    },
    {
     "name": "stderr",
     "output_type": "stream",
     "text": [
      "\r",
      " 85%|██████████████████████████████████████████████████████████████████████████████████████████████                 | 847/1000 [02:20<00:38,  3.94it/s]"
     ]
    },
    {
     "name": "stdout",
     "output_type": "stream",
     "text": [
      "## DEBUG: 1. Pick input signal P(B) \n",
      "## DEBUG: 2. Find two nearest units \n",
      "## DEBUG: Two nearest points: min_dist_1: 0.8837986767668959 min_dist_2: 1.152438282032318 \n",
      "## DEBUG: 3. Incremement Age of all edges from s_1 \n",
      "## DEBUG: 4. Add error to neuron \n",
      "## DEBUG: 5. Move s1 and neighbors towards B \n",
      "## DEBUG: 6. reset s1 and s2 age \n",
      "## DEBUG: 7. remove old edges \n",
      "## DEBUG: 8. Insert new neuron \n",
      "## DEBUG: 9. Decrease system error \n",
      "## DEBUG: \n",
      "## DEBUG: \n",
      "## DEBUG: Attemping to plot... \n"
     ]
    },
    {
     "name": "stderr",
     "output_type": "stream",
     "text": [
      "\r",
      " 85%|██████████████████████████████████████████████████████████████████████████████████████████████▏                | 848/1000 [02:20<00:36,  4.18it/s]"
     ]
    },
    {
     "name": "stdout",
     "output_type": "stream",
     "text": [
      "## DEBUG: 1. Pick input signal P(B) \n",
      "## DEBUG: 2. Find two nearest units \n",
      "## DEBUG: Two nearest points: min_dist_1: 1.6361089728552916 min_dist_2: 1.7999737280262529 \n",
      "## DEBUG: 3. Incremement Age of all edges from s_1 \n",
      "## DEBUG: 4. Add error to neuron \n",
      "## DEBUG: 5. Move s1 and neighbors towards B \n",
      "## DEBUG: 6. reset s1 and s2 age \n",
      "## DEBUG: 7. remove old edges \n",
      "## DEBUG: 8. Insert new neuron \n",
      "## DEBUG: 9. Decrease system error \n",
      "## DEBUG: \n",
      "## DEBUG: \n",
      "## DEBUG: Attemping to plot... \n"
     ]
    },
    {
     "name": "stderr",
     "output_type": "stream",
     "text": [
      "\r",
      " 85%|██████████████████████████████████████████████████████████████████████████████████████████████▏                | 849/1000 [02:20<00:34,  4.39it/s]"
     ]
    },
    {
     "name": "stdout",
     "output_type": "stream",
     "text": [
      "## DEBUG: 1. Pick input signal P(B) \n",
      "## DEBUG: 2. Find two nearest units \n",
      "## DEBUG: Two nearest points: min_dist_1: 0.6551138897058603 min_dist_2: 0.9808238653196124 \n",
      "## DEBUG: 3. Incremement Age of all edges from s_1 \n",
      "## DEBUG: 4. Add error to neuron \n",
      "## DEBUG: 5. Move s1 and neighbors towards B \n",
      "## DEBUG: 6. reset s1 and s2 age \n",
      "## DEBUG: 7. remove old edges \n",
      "## DEBUG: 8. Insert new neuron \n",
      "## DEBUG: 9. Decrease system error \n",
      "## DEBUG: \n",
      "## DEBUG: \n",
      "## DEBUG: Attemping to plot... \n"
     ]
    },
    {
     "name": "stderr",
     "output_type": "stream",
     "text": [
      "\r",
      " 85%|██████████████████████████████████████████████████████████████████████████████████████████████▎                | 850/1000 [02:20<00:33,  4.53it/s]"
     ]
    },
    {
     "name": "stdout",
     "output_type": "stream",
     "text": [
      "## DEBUG: 1. Pick input signal P(B) \n",
      "## DEBUG: 2. Find two nearest units \n",
      "## DEBUG: Two nearest points: min_dist_1: 0.8163493580567303 min_dist_2: 0.851163852101709 \n",
      "## DEBUG: 3. Incremement Age of all edges from s_1 \n",
      "## DEBUG: 4. Add error to neuron \n",
      "## DEBUG: 5. Move s1 and neighbors towards B \n",
      "## DEBUG: 6. reset s1 and s2 age \n",
      "## DEBUG: 7. remove old edges \n",
      "## DEBUG: 8. Insert new neuron \n",
      "## DEBUG: 9. Decrease system error \n",
      "## DEBUG: \n",
      "## DEBUG: \n",
      "## DEBUG: Attemping to plot... \n",
      "## DEBUG: 1. Pick input signal P(B) \n",
      "## DEBUG: 2. Find two nearest units \n",
      "## DEBUG: Two nearest points: min_dist_1: 0.3450606260845027 min_dist_2: 1.4594054545663353 \n",
      "## DEBUG: 3. Incremement Age of all edges from s_1 \n",
      "## DEBUG: 4. Add error to neuron \n",
      "## DEBUG: 5. Move s1 and neighbors towards B \n",
      "## DEBUG: 6. reset s1 and s2 age \n",
      "## DEBUG: 7. remove old edges \n",
      "## DEBUG: 8. Insert new neuron \n",
      "## DEBUG: 9. Decrease system error \n",
      "## DEBUG: \n",
      "## DEBUG: \n",
      "## DEBUG: Attemping to plot... \n"
     ]
    },
    {
     "name": "stderr",
     "output_type": "stream",
     "text": [
      "\r",
      " 85%|██████████████████████████████████████████████████████████████████████████████████████████████▍                | 851/1000 [02:21<00:32,  4.61it/s]"
     ]
    },
    {
     "name": "stdout",
     "output_type": "stream",
     "text": [
      "## DEBUG: 1. Pick input signal P(B) \n",
      "## DEBUG: 2. Find two nearest units \n",
      "## DEBUG: Two nearest points: min_dist_1: 0.5161387622775365 min_dist_2: 1.2985543086441003 \n",
      "## DEBUG: 3. Incremement Age of all edges from s_1 \n",
      "## DEBUG: 4. Add error to neuron \n",
      "## DEBUG: 5. Move s1 and neighbors towards B \n",
      "## DEBUG: 6. reset s1 and s2 age \n",
      "## DEBUG: 7. remove old edges \n",
      "## DEBUG: 8. Insert new neuron \n",
      "## DEBUG: 9. Decrease system error \n",
      "## DEBUG: \n",
      "## DEBUG: \n",
      "## DEBUG: Attemping to plot... \n"
     ]
    },
    {
     "name": "stderr",
     "output_type": "stream",
     "text": [
      " 85%|██████████████████████████████████████████████████████████████████████████████████████████████▋                | 853/1000 [02:21<00:31,  4.74it/s]"
     ]
    },
    {
     "name": "stdout",
     "output_type": "stream",
     "text": [
      "## DEBUG: 1. Pick input signal P(B) \n",
      "## DEBUG: 2. Find two nearest units \n",
      "## DEBUG: Two nearest points: min_dist_1: 0.29551586149218056 min_dist_2: 1.076348696269069 \n",
      "## DEBUG: 3. Incremement Age of all edges from s_1 \n",
      "## DEBUG: 4. Add error to neuron \n",
      "## DEBUG: 5. Move s1 and neighbors towards B \n",
      "## DEBUG: 6. reset s1 and s2 age \n",
      "## DEBUG: 7. remove old edges \n",
      "## DEBUG: 8. Insert new neuron \n",
      "## DEBUG: 9. Decrease system error \n",
      "## DEBUG: \n",
      "## DEBUG: \n",
      "## DEBUG: Attemping to plot... \n"
     ]
    },
    {
     "name": "stderr",
     "output_type": "stream",
     "text": [
      "\r",
      " 85%|██████████████████████████████████████████████████████████████████████████████████████████████▊                | 854/1000 [02:21<00:30,  4.80it/s]"
     ]
    },
    {
     "name": "stdout",
     "output_type": "stream",
     "text": [
      "## DEBUG: 1. Pick input signal P(B) \n",
      "## DEBUG: 2. Find two nearest units \n",
      "## DEBUG: Two nearest points: min_dist_1: 1.0744797924489642 min_dist_2: 1.3065753094293375 \n",
      "## DEBUG: 3. Incremement Age of all edges from s_1 \n",
      "## DEBUG: 4. Add error to neuron \n",
      "## DEBUG: 5. Move s1 and neighbors towards B \n",
      "## DEBUG: 6. reset s1 and s2 age \n",
      "## DEBUG: 7. remove old edges \n",
      "## DEBUG: 8. Insert new neuron \n",
      "## DEBUG: 9. Decrease system error \n",
      "## DEBUG: \n",
      "## DEBUG: \n",
      "## DEBUG: Attemping to plot... \n",
      "## DEBUG: 1. Pick input signal P(B) \n",
      "## DEBUG: 2. Find two nearest units \n",
      "## DEBUG:"
     ]
    },
    {
     "name": "stderr",
     "output_type": "stream",
     "text": [
      "\r",
      " 86%|██████████████████████████████████████████████████████████████████████████████████████████████▉                | 855/1000 [02:21<00:29,  4.84it/s]"
     ]
    },
    {
     "name": "stdout",
     "output_type": "stream",
     "text": [
      " Two nearest points: min_dist_1: 0.9955966356097652 min_dist_2: 1.4419826351582374 \n",
      "## DEBUG: 3. Incremement Age of all edges from s_1 \n",
      "## DEBUG: 4. Add error to neuron \n",
      "## DEBUG: 5. Move s1 and neighbors towards B \n",
      "## DEBUG: 6. reset s1 and s2 age \n",
      "## DEBUG: 7. remove old edges \n",
      "## DEBUG: 8. Insert new neuron \n",
      "## DEBUG: 9. Decrease system error \n",
      "## DEBUG: \n",
      "## DEBUG: \n",
      "## DEBUG: Attemping to plot... \n",
      "## DEBUG: 1. Pick input signal P(B) \n",
      "## DEBUG: 2. Find two nearest units \n",
      "## DEBUG: Two nearest points: min_dist_1: 0.4474836052045819 min_dist_2: 0.7941572307620562 \n",
      "## DEBUG: 3. Incremement Age of all edges from s_1 \n",
      "## DEBUG: 4. Add error to neuron \n",
      "## DEBUG: 5. Move s1 and neighbors towards B \n",
      "## DEBUG: 6. reset s1 and s2 age \n",
      "## DEBUG: 7. remove old edges \n",
      "## DEBUG: 8. Insert new neuron \n",
      "## DEBUG: 9. Decrease system error \n",
      "## DEBUG: \n",
      "## DEBUG: \n",
      "## DEBUG: Attemping to plot... \n"
     ]
    },
    {
     "name": "stderr",
     "output_type": "stream",
     "text": [
      "\r",
      " 86%|███████████████████████████████████████████████████████████████████████████████████████████████                | 856/1000 [02:22<00:31,  4.53it/s]"
     ]
    },
    {
     "name": "stdout",
     "output_type": "stream",
     "text": [
      "## DEBUG: 1. Pick input signal P(B) \n",
      "## DEBUG: 2. Find two nearest units \n",
      "## DEBUG: Two nearest points: min_dist_1: 0.6578532856039905 min_dist_2: 0.9069815554784231 \n",
      "## DEBUG: 3. Incremement Age of all edges from s_1 \n",
      "## DEBUG: 4. Add error to neuron \n",
      "## DEBUG: 5. Move s1 and neighbors towards B \n",
      "## DEBUG: 6. reset s1 and s2 age \n",
      "## DEBUG: 7. remove old edges \n",
      "## DEBUG: 8. Insert new neuron \n",
      "## DEBUG: 9. Decrease system error \n",
      "## DEBUG: \n",
      "## DEBUG: \n",
      "## DEBUG: Attemping to plot... \n"
     ]
    },
    {
     "name": "stderr",
     "output_type": "stream",
     "text": [
      " 86%|███████████████████████████████████████████████████████████████████████████████████████████████▏               | 858/1000 [02:22<00:30,  4.61it/s]"
     ]
    },
    {
     "name": "stdout",
     "output_type": "stream",
     "text": [
      "## DEBUG: 1. Pick input signal P(B) \n",
      "## DEBUG: 2. Find two nearest units \n",
      "## DEBUG: Two nearest points: min_dist_1: 1.079221189346955 min_dist_2: 1.4211237248130515 \n",
      "## DEBUG: 3. Incremement Age of all edges from s_1 \n",
      "## DEBUG: 4. Add error to neuron \n",
      "## DEBUG: 5. Move s1 and neighbors towards B \n",
      "## DEBUG: 6. reset s1 and s2 age \n",
      "## DEBUG: 7. remove old edges \n",
      "## DEBUG: 8. Insert new neuron \n",
      "## DEBUG: 9. Decrease system error \n",
      "## DEBUG: \n",
      "## DEBUG: \n",
      "## DEBUG: Attemping to plot... \n",
      "## DEBUG: 1. Pick input signal P(B) \n",
      "## DEBUG: 2. Find two nearest units \n",
      "## DEBUG: Two nearest points: min_dist_1: 0.43516558688446544 min_dist_2: 0.9362288436319971 \n",
      "## DEBUG: 3. Incremement Age of all edges from s_1 \n",
      "## DEBUG: 4. Add error to neuron \n",
      "## DEBUG: 5. Move s1 and neighbors towards B \n",
      "## DEBUG: 6. reset s1 and s2 age \n",
      "## DEBUG: 7. remove old edges \n",
      "## DEBUG:"
     ]
    },
    {
     "name": "stderr",
     "output_type": "stream",
     "text": [
      "\r",
      " 86%|███████████████████████████████████████████████████████████████████████████████████████████████▎               | 859/1000 [02:22<00:30,  4.61it/s]"
     ]
    },
    {
     "name": "stdout",
     "output_type": "stream",
     "text": [
      " 8. Insert new neuron \n",
      "## DEBUG: 9. Decrease system error \n",
      "## DEBUG: \n",
      "## DEBUG: \n",
      "## DEBUG: Attemping to plot... \n"
     ]
    },
    {
     "name": "stderr",
     "output_type": "stream",
     "text": [
      "\r",
      " 86%|███████████████████████████████████████████████████████████████████████████████████████████████▍               | 860/1000 [02:23<00:30,  4.66it/s]"
     ]
    },
    {
     "name": "stdout",
     "output_type": "stream",
     "text": [
      "## DEBUG: 1. Pick input signal P(B) \n",
      "## DEBUG: 2. Find two nearest units \n",
      "## DEBUG: Two nearest points: min_dist_1: 0.1939085170886366 min_dist_2: 0.8004248122879196 \n",
      "## DEBUG: 3. Incremement Age of all edges from s_1 \n",
      "## DEBUG: 4. Add error to neuron \n",
      "## DEBUG: 5. Move s1 and neighbors towards B \n",
      "## DEBUG: 6. reset s1 and s2 age \n",
      "## DEBUG: 7. remove old edges \n",
      "## DEBUG: 8. Insert new neuron \n",
      "## DEBUG: 9. Decrease system error \n",
      "## DEBUG: \n",
      "## DEBUG: \n",
      "## DEBUG: Attemping to plot... \n"
     ]
    },
    {
     "name": "stderr",
     "output_type": "stream",
     "text": [
      "\r",
      " 86%|███████████████████████████████████████████████████████████████████████████████████████████████▌               | 861/1000 [02:23<00:29,  4.73it/s]"
     ]
    },
    {
     "name": "stdout",
     "output_type": "stream",
     "text": [
      "## DEBUG: 1. Pick input signal P(B) \n",
      "## DEBUG: 2. Find two nearest units \n",
      "## DEBUG: Two nearest points: min_dist_1: 0.20437198393264652 min_dist_2: 0.5429162409584721 \n",
      "## DEBUG: 3. Incremement Age of all edges from s_1 \n",
      "## DEBUG: 4. Add error to neuron \n",
      "## DEBUG: 5. Move s1 and neighbors towards B \n",
      "## DEBUG: 6. reset s1 and s2 age \n",
      "## DEBUG: 7. remove old edges \n",
      "## DEBUG: 8. Insert new neuron \n",
      "## DEBUG: 9. Decrease system error \n",
      "## DEBUG: \n",
      "## DEBUG: \n",
      "## DEBUG: Attemping to plot... \n"
     ]
    },
    {
     "name": "stderr",
     "output_type": "stream",
     "text": [
      "\r",
      " 86%|███████████████████████████████████████████████████████████████████████████████████████████████▋               | 862/1000 [02:23<00:28,  4.77it/s]"
     ]
    },
    {
     "name": "stdout",
     "output_type": "stream",
     "text": [
      "## DEBUG: 1. Pick input signal P(B) \n",
      "## DEBUG: 2. Find two nearest units \n",
      "## DEBUG: Two nearest points: min_dist_1: 1.0445415765702404 min_dist_2: 1.077529550511292 \n",
      "## DEBUG: 3. Incremement Age of all edges from s_1 \n",
      "## DEBUG: 4. Add error to neuron \n",
      "## DEBUG: 5. Move s1 and neighbors towards B \n",
      "## DEBUG: 6. reset s1 and s2 age \n",
      "## DEBUG: 7. remove old edges \n",
      "## DEBUG: 8. Insert new neuron \n",
      "## DEBUG: 9. Decrease system error \n",
      "## DEBUG: \n",
      "## DEBUG: \n",
      "## DEBUG: Attemping to plot... \n",
      "## DEBUG: 1. Pick input signal P(B) \n",
      "## DEBUG: 2. Find two nearest units \n",
      "## DEBUG: Two nearest points: min_dist_1: 0.19749739940744393 min_dist_2: 1.0206417283114109 \n",
      "## DEBUG: 3. Incremement Age of all edges from s_1 \n",
      "## DEBUG: 4. Add error to neuron \n",
      "## DEBUG: 5. Move s1 and neighbors towards B \n",
      "## DEBUG: 6. reset s1 and s2 age \n",
      "## DEBUG: 7. remove old edges \n",
      "## DEBUG: 8. Insert new neuron \n",
      "## DEBUG: 9. Decrease system error \n",
      "## DEBUG: \n",
      "## DEBUG: \n",
      "## DEBUG: Attemping to plot... \n"
     ]
    },
    {
     "name": "stderr",
     "output_type": "stream",
     "text": [
      " 86%|███████████████████████████████████████████████████████████████████████████████████████████████▉               | 864/1000 [02:23<00:28,  4.81it/s]"
     ]
    },
    {
     "name": "stdout",
     "output_type": "stream",
     "text": [
      "## DEBUG: 1. Pick input signal P(B) \n",
      "## DEBUG: 2. Find two nearest units \n",
      "## DEBUG: Two nearest points: min_dist_1: 0.5680131170296095 min_dist_2: 1.7076650912156148 \n",
      "## DEBUG: 3. Incremement Age of all edges from s_1 \n",
      "## DEBUG: 4. Add error to neuron \n",
      "## DEBUG: 5. Move s1 and neighbors towards B \n",
      "## DEBUG: 6. reset s1 and s2 age \n",
      "## DEBUG: 7. remove old edges \n",
      "## DEBUG: 8. Insert new neuron \n",
      "## DEBUG: 9. Decrease system error \n",
      "## DEBUG: \n",
      "## DEBUG: \n",
      "## DEBUG: Attemping to plot... \n"
     ]
    },
    {
     "name": "stderr",
     "output_type": "stream",
     "text": [
      "\r",
      " 86%|████████████████████████████████████████████████████████████████████████████████████████████████               | 865/1000 [02:24<00:28,  4.81it/s]"
     ]
    },
    {
     "name": "stdout",
     "output_type": "stream",
     "text": [
      "## DEBUG: 1. Pick input signal P(B) \n",
      "## DEBUG: 2. Find two nearest units \n",
      "## DEBUG: Two nearest points: min_dist_1: 0.7438729710485553 min_dist_2: 0.9303589705956389 \n",
      "## DEBUG: 3. Incremement Age of all edges from s_1 \n",
      "## DEBUG: 4. Add error to neuron \n",
      "## DEBUG: 5. Move s1 and neighbors towards B \n",
      "## DEBUG: 6. reset s1 and s2 age \n",
      "## DEBUG: 7. remove old edges \n",
      "## DEBUG: 8. Insert new neuron \n",
      "## DEBUG: 9. Decrease system error \n",
      "## DEBUG: \n",
      "## DEBUG: \n",
      "## DEBUG: Attemping to plot... \n"
     ]
    },
    {
     "name": "stderr",
     "output_type": "stream",
     "text": [
      "\r",
      " 87%|████████████████████████████████████████████████████████████████████████████████████████████████▏              | 866/1000 [02:24<00:27,  4.82it/s]"
     ]
    },
    {
     "name": "stdout",
     "output_type": "stream",
     "text": [
      "## DEBUG: 1. Pick input signal P(B) \n",
      "## DEBUG: 2. Find two nearest units \n",
      "## DEBUG: Two nearest points: min_dist_1: 0.3911410553202523 min_dist_2: 0.7361905332429312 \n",
      "## DEBUG: 3. Incremement Age of all edges from s_1 \n",
      "## DEBUG: 4. Add error to neuron \n",
      "## DEBUG: 5. Move s1 and neighbors towards B \n",
      "## DEBUG: 6. reset s1 and s2 age \n",
      "## DEBUG: 7. remove old edges \n",
      "## DEBUG: 8. Insert new neuron \n",
      "## DEBUG: 9. Decrease system error \n",
      "## DEBUG: \n",
      "## DEBUG: \n",
      "## DEBUG: Attemping to plot... \n",
      "## DEBUG: 1. Pick input signal P(B) \n",
      "## DEBUG: 2. Find two nearest units \n",
      "## DEBUG: Two nearest points: min_dist_1: 0.9270947615557092 min_dist_2: 1.3045120146705398 \n",
      "## DEBUG: 3. Incremement Age of all edges from s_1 \n",
      "## DEBUG: 4. Add error to neuron \n",
      "## DEBUG: 5. Move s1 and neighbors towards B \n",
      "## DEBUG: 6. reset s1 and s2 age \n",
      "## DEBUG: 7. remove old edges \n",
      "## DEBUG: 8. Insert new neuron \n",
      "## DEBUG: 9. Decrease system error \n",
      "## DEBUG: \n",
      "## DEBUG: \n",
      "## DEBUG: Attemping to plot... \n"
     ]
    },
    {
     "name": "stderr",
     "output_type": "stream",
     "text": [
      " 87%|████████████████████████████████████████████████████████████████████████████████████████████████▎              | 868/1000 [02:24<00:27,  4.83it/s]"
     ]
    },
    {
     "name": "stdout",
     "output_type": "stream",
     "text": [
      "## DEBUG: 1. Pick input signal P(B) \n",
      "## DEBUG: 2. Find two nearest units \n",
      "## DEBUG: Two nearest points: min_dist_1: 0.3422091456819022 min_dist_2: 0.7547304844222922 \n",
      "## DEBUG: 3. Incremement Age of all edges from s_1 \n",
      "## DEBUG: 4. Add error to neuron \n",
      "## DEBUG: 5. Move s1 and neighbors towards B \n",
      "## DEBUG: 6. reset s1 and s2 age \n",
      "## DEBUG: 7. remove old edges \n",
      "## DEBUG: 8. Insert new neuron \n",
      "## DEBUG: 9. Decrease system error \n",
      "## DEBUG: \n",
      "## DEBUG: \n",
      "## DEBUG: Attemping to plot... \n",
      "## DEBUG: 1. Pick input signal P(B) \n",
      "## DEBUG: 2. Find two nearest units \n",
      "## DEBUG: Two nearest points: min_dist_1: 0.5625740803440479 min_dist_2: 0.8055554424780704 \n",
      "## DEBUG: 3. Incremement Age of all edges from s_1 \n",
      "## DEBUG: 4. Add error to neuron \n",
      "## DEBUG: 5. Move s1 and neighbors towards B \n",
      "## DEBUG: 6. reset s1 and s2 age \n",
      "## DEBUG: 7. remove old edges \n",
      "## DEBUG: 8. Insert new neuron \n",
      "## DEBUG: 9. Decrease system error \n",
      "## DEBUG: \n",
      "## DEBUG: \n",
      "## DEBUG: Attemping to plot... \n"
     ]
    },
    {
     "name": "stderr",
     "output_type": "stream",
     "text": [
      " 87%|████████████████████████████████████████████████████████████████████████████████████████████████▌              | 870/1000 [02:25<00:27,  4.81it/s]"
     ]
    },
    {
     "name": "stdout",
     "output_type": "stream",
     "text": [
      "## DEBUG: 1. Pick input signal P(B) \n",
      "## DEBUG: 2. Find two nearest units \n",
      "## DEBUG: Two nearest points: min_dist_1: 2.97439136213934 min_dist_2: 3.024461310141307 \n",
      "## DEBUG: 3. Incremement Age of all edges from s_1 \n",
      "## DEBUG: 4. Add error to neuron \n",
      "## DEBUG: 5. Move s1 and neighbors towards B \n",
      "## DEBUG: 6. reset s1 and s2 age \n",
      "## DEBUG: 7. remove old edges \n",
      "## DEBUG: 8. Insert new neuron \n",
      "## DEBUG: 9. Decrease system error \n",
      "## DEBUG: \n",
      "## DEBUG: \n",
      "## DEBUG: Attemping to plot... \n",
      "## DEBUG: 1. Pick input signal P(B) \n",
      "## DEBUG: 2. Find two nearest units \n",
      "## DEBUG: Two nearest points: min_dist_1: 0.35840572353455635 min_dist_2: 0.6484055553111072 \n",
      "## DEBUG: 3. Incremement Age of all edges from s_1 \n",
      "## DEBUG: 4. Add error to neuron \n",
      "## DEBUG: 5. Move s1 and neighbors towards B \n",
      "## DEBUG: 6. reset s1 and s2 age \n",
      "## DEBUG: 7. remove old edges \n",
      "## DEBUG: 8. Insert new neuron \n",
      "## DEBUG: 9. Decrease system error \n",
      "## DEBUG: \n",
      "## DEBUG: \n",
      "## DEBUG: Attemping to plot... \n"
     ]
    },
    {
     "name": "stderr",
     "output_type": "stream",
     "text": [
      " 87%|████████████████████████████████████████████████████████████████████████████████████████████████▊              | 872/1000 [02:25<00:26,  4.78it/s]"
     ]
    },
    {
     "name": "stdout",
     "output_type": "stream",
     "text": [
      "## DEBUG: 1. Pick input signal P(B) \n",
      "## DEBUG: 2. Find two nearest units \n",
      "## DEBUG: Two nearest points: min_dist_1: 0.9495162867257162 min_dist_2: 1.2891672959017972 \n",
      "## DEBUG: 3. Incremement Age of all edges from s_1 \n",
      "## DEBUG: 4. Add error to neuron \n",
      "## DEBUG: 5. Move s1 and neighbors towards B \n",
      "## DEBUG: 6. reset s1 and s2 age \n",
      "## DEBUG: 7. remove old edges \n",
      "## DEBUG: 8. Insert new neuron \n",
      "## DEBUG: 9. Decrease system error \n",
      "## DEBUG: \n",
      "## DEBUG: \n",
      "## DEBUG: Attemping to plot... \n",
      "## DEBUG: 1. Pick input signal P(B) \n",
      "## DEBUG: 2. Find two nearest units \n",
      "## DEBUG: Two nearest points: min_dist_1: 3.2555355640647514 min_dist_2: 4.183106674497419 \n",
      "## DEBUG: 3. Incremement Age of all edges from s_1 \n",
      "## DEBUG: 4. Add error to neuron \n",
      "## DEBUG: 5. Move s1 and neighbors towards B \n",
      "## DEBUG: 6. reset s1 and s2 age \n",
      "## DEBUG: 7. remove old edges \n",
      "## DEBUG: 8. Insert new neuron \n",
      "## DEBUG: 9. Decrease system error \n",
      "## DEBUG: \n",
      "## DEBUG: \n",
      "## DEBUG: Attemping to plot... \n"
     ]
    },
    {
     "name": "stderr",
     "output_type": "stream",
     "text": [
      "\r",
      " 87%|████████████████████████████████████████████████████████████████████████████████████████████████▉              | 873/1000 [02:25<00:26,  4.81it/s]"
     ]
    },
    {
     "name": "stdout",
     "output_type": "stream",
     "text": [
      "## DEBUG: 1. Pick input signal P(B) \n",
      "## DEBUG: 2. Find two nearest units \n",
      "## DEBUG: Two nearest points: min_dist_1: 0.5859059175630894 min_dist_2: 0.5992390537429635 \n",
      "## DEBUG: 3. Incremement Age of all edges from s_1 \n",
      "## DEBUG: 4. Add error to neuron \n",
      "## DEBUG: 5. Move s1 and neighbors towards B \n",
      "## DEBUG: 6. reset s1 and s2 age \n",
      "## DEBUG: 7. remove old edges \n",
      "## DEBUG: 8. Insert new neuron \n",
      "## DEBUG: 9. Decrease system error \n",
      "## DEBUG: \n",
      "## DEBUG: \n",
      "## DEBUG: Attemping to plot... \n"
     ]
    },
    {
     "name": "stderr",
     "output_type": "stream",
     "text": [
      " 88%|█████████████████████████████████████████████████████████████████████████████████████████████████▏             | 875/1000 [02:26<00:25,  4.82it/s]"
     ]
    },
    {
     "name": "stdout",
     "output_type": "stream",
     "text": [
      "## DEBUG: 1. Pick input signal P(B) \n",
      "## DEBUG: 2. Find two nearest units \n",
      "## DEBUG: Two nearest points: min_dist_1: 1.116558704946196 min_dist_2: 1.486138483202923 \n",
      "## DEBUG: 3. Incremement Age of all edges from s_1 \n",
      "## DEBUG: 4. Add error to neuron \n",
      "## DEBUG: 5. Move s1 and neighbors towards B \n",
      "## DEBUG: 6. reset s1 and s2 age \n",
      "## DEBUG: 7. remove old edges \n",
      "## DEBUG: 8. Insert new neuron \n",
      "## DEBUG: 9. Decrease system error \n",
      "## DEBUG: \n",
      "## DEBUG: \n",
      "## DEBUG: Attemping to plot... \n",
      "## DEBUG: 1. Pick input signal P(B) \n",
      "## DEBUG: 2. Find two nearest units \n",
      "## DEBUG: Two nearest points: min_dist_1: 0.5519945598737845 min_dist_2: 0.7618728945463586 \n",
      "## DEBUG: 3. Incremement Age of all edges from s_1 \n",
      "## DEBUG: 4. Add error to neuron \n",
      "## DEBUG: 5. Move s1 and neighbors towards B \n",
      "## DEBUG: 6. reset s1 and s2 age \n",
      "## DEBUG: 7. remove old edges \n",
      "## DEBUG: 8. Insert new neuron \n",
      "## DEBUG: 9. Decrease system error \n",
      "## DEBUG: \n",
      "## DEBUG: \n",
      "## DEBUG: Attemping to plot... \n"
     ]
    },
    {
     "name": "stderr",
     "output_type": "stream",
     "text": [
      " 88%|█████████████████████████████████████████████████████████████████████████████████████████████████▎             | 877/1000 [02:26<00:25,  4.78it/s]"
     ]
    },
    {
     "name": "stdout",
     "output_type": "stream",
     "text": [
      "## DEBUG: 1. Pick input signal P(B) \n",
      "## DEBUG: 2. Find two nearest units \n",
      "## DEBUG: Two nearest points: min_dist_1: 0.46102846959826366 min_dist_2: 0.7252741423860966 \n",
      "## DEBUG: 3. Incremement Age of all edges from s_1 \n",
      "## DEBUG: 4. Add error to neuron \n",
      "## DEBUG: 5. Move s1 and neighbors towards B \n",
      "## DEBUG: 6. reset s1 and s2 age \n",
      "## DEBUG: 7. remove old edges \n",
      "## DEBUG: 8. Insert new neuron \n",
      "## DEBUG: 9. Decrease system error \n",
      "## DEBUG: \n",
      "## DEBUG: \n",
      "## DEBUG: Attemping to plot... \n"
     ]
    },
    {
     "name": "stderr",
     "output_type": "stream",
     "text": [
      "\r",
      " 88%|█████████████████████████████████████████████████████████████████████████████████████████████████▍             | 878/1000 [02:26<00:25,  4.81it/s]"
     ]
    },
    {
     "name": "stdout",
     "output_type": "stream",
     "text": [
      "## DEBUG: 1. Pick input signal P(B) \n",
      "## DEBUG: 2. Find two nearest units \n",
      "## DEBUG: Two nearest points: min_dist_1: 0.17774765946669913 min_dist_2: 1.0196210865830997 \n",
      "## DEBUG: 3. Incremement Age of all edges from s_1 \n",
      "## DEBUG: 4. Add error to neuron \n",
      "## DEBUG: 5. Move s1 and neighbors towards B \n",
      "## DEBUG: 6. reset s1 and s2 age \n",
      "## DEBUG: 7. remove old edges \n",
      "## DEBUG: 8. Insert new neuron \n",
      "## DEBUG: 9. Decrease system error \n",
      "## DEBUG: \n",
      "## DEBUG: \n",
      "## DEBUG: Attemping to plot... \n"
     ]
    },
    {
     "name": "stderr",
     "output_type": "stream",
     "text": [
      "\r",
      " 88%|█████████████████████████████████████████████████████████████████████████████████████████████████▌             | 879/1000 [02:27<00:25,  4.77it/s]"
     ]
    },
    {
     "name": "stdout",
     "output_type": "stream",
     "text": [
      "## DEBUG: 1. Pick input signal P(B) \n",
      "## DEBUG: 2. Find two nearest units \n",
      "## DEBUG: Two nearest points: min_dist_1: 1.105752596927182 min_dist_2: 1.5415683647815417 \n",
      "## DEBUG: 3. Incremement Age of all edges from s_1 \n",
      "## DEBUG: 4. Add error to neuron \n",
      "## DEBUG: 5. Move s1 and neighbors towards B \n",
      "## DEBUG: 6. reset s1 and s2 age \n",
      "## DEBUG: 7. remove old edges \n",
      "## DEBUG: 8. Insert new neuron \n",
      "## DEBUG: 9. Decrease system error \n",
      "## DEBUG: \n",
      "## DEBUG: \n",
      "## DEBUG: Attemping to plot... \n",
      "## DEBUG: 1. Pick input signal P(B) \n",
      "## DEBUG: 2. Find two nearest units \n",
      "## DEBUG: Two nearest points: min_dist_1: 1.0142158790859042 min_dist_2: 1.2212786602530874 \n",
      "## DEBUG: 3. Incremement Age of all edges from s_1 \n",
      "## DEBUG: 4. Add error to neuron \n",
      "## DEBUG: 5. Move s1 and neighbors towards B \n",
      "## DEBUG: 6. reset s1 and s2 age \n",
      "## DEBUG: 7. remove old edges \n",
      "## DEBUG: 8. Insert new neuron \n",
      "## DEBUG: 9. Decrease system error \n",
      "## DEBUG: \n",
      "## DEBUG: \n",
      "## DEBUG: Attemping to plot... \n"
     ]
    },
    {
     "name": "stderr",
     "output_type": "stream",
     "text": [
      "\r",
      " 88%|█████████████████████████████████████████████████████████████████████████████████████████████████▋             | 880/1000 [02:27<00:26,  4.59it/s]"
     ]
    },
    {
     "name": "stdout",
     "output_type": "stream",
     "text": [
      "## DEBUG: 1. Pick input signal P(B) \n",
      "## DEBUG: 2. Find two nearest units \n",
      "## DEBUG: Two nearest points: min_dist_1: 2.7020803682637022 min_dist_2: 3.1867799888809665 \n",
      "## DEBUG: 3. Incremement Age of all edges from s_1 \n",
      "## DEBUG: 4. Add error to neuron \n",
      "## DEBUG: 5. Move s1 and neighbors towards B \n",
      "## DEBUG: 6. reset s1 and s2 age \n",
      "## DEBUG: 7. remove old edges \n",
      "## DEBUG: 8. Insert new neuron \n",
      "## DEBUG: 9. Decrease system error \n",
      "## DEBUG: \n",
      "## DEBUG: \n",
      "## DEBUG: Attemping to plot... \n"
     ]
    },
    {
     "name": "stderr",
     "output_type": "stream",
     "text": [
      "\r",
      " 88%|█████████████████████████████████████████████████████████████████████████████████████████████████▊             | 881/1000 [02:27<00:25,  4.64it/s]"
     ]
    },
    {
     "name": "stdout",
     "output_type": "stream",
     "text": [
      "## DEBUG: 1. Pick input signal P(B) \n",
      "## DEBUG: 2. Find two nearest units \n",
      "## DEBUG: Two nearest points: min_dist_1: 0.3668413374646461 min_dist_2: 0.9050421466294739 \n",
      "## DEBUG: 3. Incremement Age of all edges from s_1 \n",
      "## DEBUG: 4. Add error to neuron \n",
      "## DEBUG: 5. Move s1 and neighbors towards B \n",
      "## DEBUG: 6. reset s1 and s2 age \n",
      "## DEBUG: 7. remove old edges \n",
      "## DEBUG: 8. Insert new neuron \n",
      "## DEBUG: 9. Decrease system error \n",
      "## DEBUG: \n",
      "## DEBUG: \n",
      "## DEBUG: Attemping to plot... \n"
     ]
    },
    {
     "name": "stderr",
     "output_type": "stream",
     "text": [
      "\r",
      " 88%|█████████████████████████████████████████████████████████████████████████████████████████████████▉             | 882/1000 [02:27<00:25,  4.69it/s]"
     ]
    },
    {
     "name": "stdout",
     "output_type": "stream",
     "text": [
      "## DEBUG: 1. Pick input signal P(B) \n",
      "## DEBUG: 2. Find two nearest units \n",
      "## DEBUG: Two nearest points: min_dist_1: 1.8026917390395247 min_dist_2: 1.9937561601502756 \n",
      "## DEBUG: 3. Incremement Age of all edges from s_1 \n",
      "## DEBUG: 4. Add error to neuron \n",
      "## DEBUG: 5. Move s1 and neighbors towards B \n",
      "## DEBUG: 6. reset s1 and s2 age \n",
      "## DEBUG: 7. remove old edges \n",
      "## DEBUG: 8. Insert new neuron \n",
      "## DEBUG: 9. Decrease system error \n",
      "## DEBUG: \n",
      "## DEBUG: \n",
      "## DEBUG: Attemping to plot... \n"
     ]
    },
    {
     "name": "stderr",
     "output_type": "stream",
     "text": [
      "\r",
      " 88%|██████████████████████████████████████████████████████████████████████████████████████████████████             | 883/1000 [02:27<00:24,  4.72it/s]"
     ]
    },
    {
     "name": "stdout",
     "output_type": "stream",
     "text": [
      "## DEBUG: 1. Pick input signal P(B) \n",
      "## DEBUG: 2. Find two nearest units \n",
      "## DEBUG: Two nearest points: min_dist_1: 0.9719686103998482 min_dist_2: 1.0743113898614194 \n",
      "## DEBUG: 3. Incremement Age of all edges from s_1 \n",
      "## DEBUG: 4. Add error to neuron \n",
      "## DEBUG: 5. Move s1 and neighbors towards B \n",
      "## DEBUG: 6. reset s1 and s2 age \n",
      "## DEBUG: 7. remove old edges \n",
      "## DEBUG: 8. Insert new neuron \n",
      "## DEBUG: 9. Decrease system error \n",
      "## DEBUG: \n",
      "## DEBUG: \n",
      "## DEBUG: Attemping to plot... \n"
     ]
    },
    {
     "name": "stderr",
     "output_type": "stream",
     "text": [
      "\r",
      " 88%|██████████████████████████████████████████████████████████████████████████████████████████████████             | 884/1000 [02:28<00:24,  4.70it/s]"
     ]
    },
    {
     "name": "stdout",
     "output_type": "stream",
     "text": [
      "## DEBUG: 1. Pick input signal P(B) \n",
      "## DEBUG: 2. Find two nearest units \n",
      "## DEBUG: Two nearest points: min_dist_1: 1.4724980755697619 min_dist_2: 1.6327226569104487 \n",
      "## DEBUG: 3. Incremement Age of all edges from s_1 \n",
      "## DEBUG: 4. Add error to neuron \n",
      "## DEBUG: 5. Move s1 and neighbors towards B \n",
      "## DEBUG: 6. reset s1 and s2 age \n",
      "## DEBUG: 7. remove old edges \n",
      "## DEBUG: 8. Insert new neuron \n",
      "## DEBUG: 9. Decrease system error \n",
      "## DEBUG: \n",
      "## DEBUG: \n",
      "## DEBUG: Attemping to plot... \n"
     ]
    },
    {
     "name": "stderr",
     "output_type": "stream",
     "text": [
      "\r",
      " 88%|██████████████████████████████████████████████████████████████████████████████████████████████████▏            | 885/1000 [02:28<00:24,  4.68it/s]"
     ]
    },
    {
     "name": "stdout",
     "output_type": "stream",
     "text": [
      "## DEBUG: 1. Pick input signal P(B) \n",
      "## DEBUG: 2. Find two nearest units \n",
      "## DEBUG: Two nearest points: min_dist_1: 1.332930408342229 min_dist_2: 1.537730813283688 \n",
      "## DEBUG: 3. Incremement Age of all edges from s_1 \n",
      "## DEBUG: 4. Add error to neuron \n",
      "## DEBUG: 5. Move s1 and neighbors towards B \n",
      "## DEBUG: 6. reset s1 and s2 age \n",
      "## DEBUG: 7. remove old edges \n",
      "## DEBUG: 8. Insert new neuron \n",
      "## DEBUG: 9. Decrease system error \n",
      "## DEBUG: \n",
      "## DEBUG: \n",
      "## DEBUG: Attemping to plot... \n"
     ]
    },
    {
     "name": "stderr",
     "output_type": "stream",
     "text": [
      "\r",
      " 89%|██████████████████████████████████████████████████████████████████████████████████████████████████▎            | 886/1000 [02:28<00:24,  4.66it/s]"
     ]
    },
    {
     "name": "stdout",
     "output_type": "stream",
     "text": [
      "## DEBUG: 1. Pick input signal P(B) \n",
      "## DEBUG: 2. Find two nearest units \n",
      "## DEBUG: Two nearest points: min_dist_1: 0.2096291964752073 min_dist_2: 0.3914578437828111 \n",
      "## DEBUG: 3. Incremement Age of all edges from s_1 \n",
      "## DEBUG: 4. Add error to neuron \n",
      "## DEBUG: 5. Move s1 and neighbors towards B \n",
      "## DEBUG: 6. reset s1 and s2 age \n",
      "## DEBUG: 7. remove old edges \n",
      "## DEBUG: 8. Insert new neuron \n",
      "## DEBUG: 9. Decrease system error \n",
      "## DEBUG: \n",
      "## DEBUG: \n",
      "## DEBUG: Attemping to plot... \n"
     ]
    },
    {
     "name": "stderr",
     "output_type": "stream",
     "text": [
      " 89%|██████████████████████████████████████████████████████████████████████████████████████████████████▌            | 888/1000 [02:28<00:23,  4.72it/s]"
     ]
    },
    {
     "name": "stdout",
     "output_type": "stream",
     "text": [
      "## DEBUG: 1. Pick input signal P(B) \n",
      "## DEBUG: 2. Find two nearest units \n",
      "## DEBUG: Two nearest points: min_dist_1: 1.706963425797289 min_dist_2: 1.8498578514368704 \n",
      "## DEBUG: 3. Incremement Age of all edges from s_1 \n",
      "## DEBUG: 4. Add error to neuron \n",
      "## DEBUG: 5. Move s1 and neighbors towards B \n",
      "## DEBUG: 6. reset s1 and s2 age \n",
      "## DEBUG: 7. remove old edges \n",
      "## DEBUG: 8. Insert new neuron \n",
      "## DEBUG: 9. Decrease system error \n",
      "## DEBUG: \n",
      "## DEBUG: \n",
      "## DEBUG: Attemping to plot... \n",
      "## DEBUG: 1. Pick input signal P(B) \n",
      "## DEBUG: 2. Find two nearest units \n",
      "## DEBUG: Two nearest points: min_dist_1: 0.597436311091473 min_dist_2: 1.0237689267603387 \n",
      "## DEBUG: 3. Incremement Age of all edges from s_1 \n",
      "## DEBUG: 4. Add error to neuron \n",
      "## DEBUG: 5. Move s1 and neighbors towards B \n",
      "## DEBUG: 6. reset s1 and s2 age \n",
      "## DEBUG: 7. remove old edges \n",
      "## DEBUG: 8. Insert new neuron \n",
      "## DEBUG: 9. Decrease system error \n",
      "## DEBUG: \n",
      "## DEBUG: \n",
      "## DEBUG: Attemping to plot... \n"
     ]
    },
    {
     "name": "stderr",
     "output_type": "stream",
     "text": [
      "\r",
      " 89%|██████████████████████████████████████████████████████████████████████████████████████████████████▋            | 889/1000 [02:29<00:23,  4.71it/s]"
     ]
    },
    {
     "name": "stdout",
     "output_type": "stream",
     "text": [
      "## DEBUG: 1. Pick input signal P(B) \n",
      "## DEBUG: 2. Find two nearest units \n",
      "## DEBUG: Two nearest points: min_dist_1: 0.21215939708195375 min_dist_2: 0.8668097808798741 \n",
      "## DEBUG: 3. Incremement Age of all edges from s_1 \n",
      "## DEBUG: 4. Add error to neuron \n",
      "## DEBUG: 5. Move s1 and neighbors towards B \n",
      "## DEBUG: 6. reset s1 and s2 age \n",
      "## DEBUG: 7. remove old edges \n",
      "## DEBUG: 8. Insert new neuron \n",
      "## DEBUG: 9. Decrease system error \n",
      "## DEBUG: \n",
      "## DEBUG: \n",
      "## DEBUG: Attemping to plot... \n"
     ]
    },
    {
     "name": "stderr",
     "output_type": "stream",
     "text": [
      " 89%|██████████████████████████████████████████████████████████████████████████████████████████████████▉            | 891/1000 [02:29<00:22,  4.77it/s]"
     ]
    },
    {
     "name": "stdout",
     "output_type": "stream",
     "text": [
      "## DEBUG: 1. Pick input signal P(B) \n",
      "## DEBUG: 2. Find two nearest units \n",
      "## DEBUG: Two nearest points: min_dist_1: 0.13456627572517021 min_dist_2: 0.42375653613962 \n",
      "## DEBUG: 3. Incremement Age of all edges from s_1 \n",
      "## DEBUG: 4. Add error to neuron \n",
      "## DEBUG: 5. Move s1 and neighbors towards B \n",
      "## DEBUG: 6. reset s1 and s2 age \n",
      "## DEBUG: 7. remove old edges \n",
      "## DEBUG: 8. Insert new neuron \n",
      "## DEBUG: 9. Decrease system error \n",
      "## DEBUG: \n",
      "## DEBUG: \n",
      "## DEBUG: Attemping to plot... \n"
     ]
    },
    {
     "name": "stderr",
     "output_type": "stream",
     "text": [
      "\r",
      " 89%|███████████████████████████████████████████████████████████████████████████████████████████████████            | 892/1000 [02:29<00:22,  4.78it/s]"
     ]
    },
    {
     "name": "stdout",
     "output_type": "stream",
     "text": [
      "## DEBUG: 1. Pick input signal P(B) \n",
      "## DEBUG: 2. Find two nearest units \n",
      "## DEBUG: Two nearest points: min_dist_1: 0.40841375447462264 min_dist_2: 0.6769099004912861 \n",
      "## DEBUG: 3. Incremement Age of all edges from s_1 \n",
      "## DEBUG: 4. Add error to neuron \n",
      "## DEBUG: 5. Move s1 and neighbors towards B \n",
      "## DEBUG: 6. reset s1 and s2 age \n",
      "## DEBUG: 7. remove old edges \n",
      "## DEBUG: 8. Insert new neuron \n",
      "## DEBUG: 9. Decrease system error \n",
      "## DEBUG: \n",
      "## DEBUG: \n",
      "## DEBUG: Attemping to plot... \n",
      "## DEBUG: 1. Pick input signal P(B) \n",
      "## DEBUG: 2. Find two nearest units \n",
      "## DEBUG: Two nearest points: min_dist_1: 0.6497816355964798 min_dist_2: 1.0860813979970274 \n",
      "## DEBUG: 3. Incremement Age of all edges from s_1 \n",
      "## DEBUG: 4. Add error to neuron \n",
      "## DEBUG: 5. Move s1 and neighbors towards B \n",
      "## DEBUG: 6. reset s1 and s2 age \n",
      "## DEBUG: 7. remove old edges \n",
      "## DEBUG: 8. Insert new neuron \n",
      "## DEBUG: 9. Decrease system error \n",
      "## DEBUG: \n",
      "## DEBUG: \n",
      "## DEBUG: Attemping to plot... \n"
     ]
    },
    {
     "name": "stderr",
     "output_type": "stream",
     "text": [
      " 89%|███████████████████████████████████████████████████████████████████████████████████████████████████▏           | 894/1000 [02:30<00:22,  4.78it/s]"
     ]
    },
    {
     "name": "stdout",
     "output_type": "stream",
     "text": [
      "## DEBUG: 1. Pick input signal P(B) \n",
      "## DEBUG: 2. Find two nearest units \n",
      "## DEBUG: Two nearest points: min_dist_1: 1.646836671632409 min_dist_2: 1.6654055634401672 \n",
      "## DEBUG: 3. Incremement Age of all edges from s_1 \n",
      "## DEBUG: 4. Add error to neuron \n",
      "## DEBUG: 5. Move s1 and neighbors towards B \n",
      "## DEBUG: 6. reset s1 and s2 age \n",
      "## DEBUG: 7. remove old edges \n",
      "## DEBUG: 8. Insert new neuron \n",
      "## DEBUG: 9. Decrease system error \n",
      "## DEBUG: \n",
      "## DEBUG: \n",
      "## DEBUG: Attemping to plot... \n",
      "## DEBUG: 1. Pick input signal P(B) \n",
      "## DEBUG: 2. Find two nearest units \n",
      "## DEBUG: Two nearest points: min_dist_1: 0.7210807159989665 min_dist_2: 0.7697208981144418 \n",
      "## DEBUG: 3. Incremement Age of all edges from s_1 \n",
      "## DEBUG: 4. Add error to neuron \n",
      "## DEBUG: 5. Move s1 and neighbors towards B \n",
      "## DEBUG: 6. reset s1 and s2 age \n",
      "## DEBUG: 7. remove old edges \n",
      "## DEBUG: 8. Insert new neuron \n",
      "## DEBUG: 9. Decrease system error \n",
      "## DEBUG: \n",
      "## DEBUG: \n",
      "## DEBUG: Attemping to plot... \n"
     ]
    },
    {
     "name": "stderr",
     "output_type": "stream",
     "text": [
      " 90%|███████████████████████████████████████████████████████████████████████████████████████████████████▍           | 896/1000 [02:30<00:21,  4.78it/s]"
     ]
    },
    {
     "name": "stdout",
     "output_type": "stream",
     "text": [
      "## DEBUG: 1. Pick input signal P(B) \n",
      "## DEBUG: 2. Find two nearest units \n",
      "## DEBUG: Two nearest points: min_dist_1: 1.3923840816179947 min_dist_2: 1.6914045137881923 \n",
      "## DEBUG: 3. Incremement Age of all edges from s_1 \n",
      "## DEBUG: 4. Add error to neuron \n",
      "## DEBUG: 5. Move s1 and neighbors towards B \n",
      "## DEBUG: 6. reset s1 and s2 age \n",
      "## DEBUG: 7. remove old edges \n",
      "## DEBUG: 8. Insert new neuron \n",
      "## DEBUG: 9. Decrease system error \n",
      "## DEBUG: \n",
      "## DEBUG: \n",
      "## DEBUG: Attemping to plot... \n",
      "## DEBUG: 1. Pick input signal P(B) \n",
      "## DEBUG: 2. Find two nearest units \n",
      "## DEBUG: Two nearest points: min_dist_1: 0.3710001768924279 min_dist_2: 0.9304459702395218 \n",
      "## DEBUG: 3. Incremement Age of all edges from s_1 \n",
      "## DEBUG: 4. Add error to neuron \n",
      "## DEBUG: 5. Move s1 and neighbors towards B \n",
      "## DEBUG: 6. reset s1 and s2 age \n",
      "## DEBUG: 7. remove old edges \n",
      "## DEBUG: 8. Insert new neuron \n",
      "## DEBUG: 9. Decrease system error \n",
      "## DEBUG: \n",
      "## DEBUG: \n",
      "## DEBUG: Attemping to plot... \n"
     ]
    },
    {
     "name": "stderr",
     "output_type": "stream",
     "text": [
      " 90%|███████████████████████████████████████████████████████████████████████████████████████████████████▋           | 898/1000 [02:31<00:21,  4.76it/s]"
     ]
    },
    {
     "name": "stdout",
     "output_type": "stream",
     "text": [
      "## DEBUG: 1. Pick input signal P(B) \n",
      "## DEBUG: 2. Find two nearest units \n",
      "## DEBUG: Two nearest points: min_dist_1: 0.3339001592031855 min_dist_2: 0.929515524269282 \n",
      "## DEBUG: 3. Incremement Age of all edges from s_1 \n",
      "## DEBUG: 4. Add error to neuron \n",
      "## DEBUG: 5. Move s1 and neighbors towards B \n",
      "## DEBUG: 6. reset s1 and s2 age \n",
      "## DEBUG: 7. remove old edges \n",
      "## DEBUG: 8. Insert new neuron \n",
      "## DEBUG: 9. Decrease system error \n",
      "## DEBUG: \n",
      "## DEBUG: \n",
      "## DEBUG: Attemping to plot... \n",
      "## DEBUG: 1. Pick input signal P(B) \n",
      "## DEBUG: 2. Find two nearest units \n",
      "## DEBUG: Two nearest points: min_dist_1: 0.1683040793082805 min_dist_2: 0.8100949404554605 \n",
      "## DEBUG: 3. Incremement Age of all edges from s_1 \n",
      "## DEBUG: 4. Add error to neuron \n",
      "## DEBUG: 5. Move s1 and neighbors towards B \n",
      "## DEBUG: 6. reset s1 and s2 age \n",
      "## DEBUG: 7. remove old edges \n",
      "## DEBUG: 8. Insert new neuron \n",
      "## DEBUG: 9. Decrease system error \n",
      "## DEBUG: \n",
      "## DEBUG: \n",
      "## DEBUG: Attemping to plot... \n"
     ]
    },
    {
     "name": "stderr",
     "output_type": "stream",
     "text": [
      "\r",
      " 90%|███████████████████████████████████████████████████████████████████████████████████████████████████▊           | 899/1000 [02:31<00:21,  4.74it/s]"
     ]
    },
    {
     "name": "stdout",
     "output_type": "stream",
     "text": [
      "## DEBUG: 1. Pick input signal P(B) \n",
      "## DEBUG: 2. Find two nearest units \n",
      "## DEBUG: Two nearest points: min_dist_1: 0.8536508120185151 min_dist_2: 1.3085001170866923 \n",
      "## DEBUG: 3. Incremement Age of all edges from s_1 \n",
      "## DEBUG: 4. Add error to neuron \n",
      "## DEBUG: 5. Move s1 and neighbors towards B \n",
      "## DEBUG: 6. reset s1 and s2 age \n",
      "## DEBUG: 7. remove old edges \n",
      "## DEBUG: 8. Insert new neuron \n",
      "## DEBUG: 9. Decrease system error \n",
      "## DEBUG: \n",
      "## DEBUG: \n",
      "## DEBUG: Attemping to plot... \n"
     ]
    },
    {
     "name": "stderr",
     "output_type": "stream",
     "text": [
      "\r",
      " 90%|███████████████████████████████████████████████████████████████████████████████████████████████████▉           | 900/1000 [02:31<00:21,  4.75it/s]"
     ]
    },
    {
     "name": "stdout",
     "output_type": "stream",
     "text": [
      "## DEBUG: 1. Pick input signal P(B) \n",
      "## DEBUG: 2. Find two nearest units \n",
      "## DEBUG: Two nearest points: min_dist_1: 0.2001986258111432 min_dist_2: 0.5618428050905917 \n",
      "## DEBUG: 3. Incremement Age of all edges from s_1 \n",
      "## DEBUG: 4. Add error to neuron \n",
      "## DEBUG: 5. Move s1 and neighbors towards B \n",
      "## DEBUG: 6. reset s1 and s2 age \n",
      "## DEBUG: 7. remove old edges \n",
      "## DEBUG: 8. Insert new neuron \n",
      "## DEBUG: 9. Decrease system error \n",
      "## DEBUG: \n",
      "## DEBUG: \n",
      "## DEBUG: Attemping to plot... \n"
     ]
    },
    {
     "name": "stderr",
     "output_type": "stream",
     "text": [
      " 90%|████████████████████████████████████████████████████████████████████████████████████████████████████           | 902/1000 [02:31<00:20,  4.73it/s]"
     ]
    },
    {
     "name": "stdout",
     "output_type": "stream",
     "text": [
      "## DEBUG: 1. Pick input signal P(B) \n",
      "## DEBUG: 2. Find two nearest units \n",
      "## DEBUG: Two nearest points: min_dist_1: 0.22087648350896852 min_dist_2: 0.22502221324333788 \n",
      "## DEBUG: 3. Incremement Age of all edges from s_1 \n",
      "## DEBUG: 4. Add error to neuron \n",
      "## DEBUG: 5. Move s1 and neighbors towards B \n",
      "## DEBUG: 6. reset s1 and s2 age \n",
      "## DEBUG: 7. remove old edges \n",
      "## DEBUG: 8. Insert new neuron \n",
      "## DEBUG: 9. Decrease system error \n",
      "## DEBUG: \n",
      "## DEBUG: \n",
      "## DEBUG: Attemping to plot... \n"
     ]
    },
    {
     "name": "stderr",
     "output_type": "stream",
     "text": [
      "\r",
      " 90%|████████████████████████████████████████████████████████████████████████████████████████████████████▏          | 903/1000 [02:32<00:20,  4.72it/s]"
     ]
    },
    {
     "name": "stdout",
     "output_type": "stream",
     "text": [
      "## DEBUG: 1. Pick input signal P(B) \n",
      "## DEBUG: 2. Find two nearest units \n",
      "## DEBUG: Two nearest points: min_dist_1: 0.1485555711790333 min_dist_2: 0.9291908017436998 \n",
      "## DEBUG: 3. Incremement Age of all edges from s_1 \n",
      "## DEBUG: 4. Add error to neuron \n",
      "## DEBUG: 5. Move s1 and neighbors towards B \n",
      "## DEBUG: 6. reset s1 and s2 age \n",
      "## DEBUG: 7. remove old edges \n",
      "## DEBUG: 8. Insert new neuron \n",
      "## DEBUG: 9. Decrease system error \n",
      "## DEBUG: \n",
      "## DEBUG: \n",
      "## DEBUG: Attemping to plot... \n",
      "## DEBUG: 1. Pick input signal P(B) \n",
      "## DEBUG: 2. Find two nearest units \n",
      "## DEBUG: Two nearest points: min_dist_1: 0.43023209129634715 min_dist_2: 0.5441525505624472 \n",
      "## DEBUG: 3. Incremement Age of all edges from s_1 \n",
      "## DEBUG: 4. Add error to neuron \n",
      "## DEBUG: 5. Move s1 and neighbors towards B \n",
      "## DEBUG: 6. reset s1 and s2 age \n",
      "## DEBUG: 7. remove old edges \n",
      "## DEBUG: 8. Insert new neuron \n",
      "## DEBUG: 9. Decrease system error \n",
      "## DEBUG: \n",
      "## DEBUG: \n",
      "## DEBUG: Attemping to plot... \n"
     ]
    },
    {
     "name": "stderr",
     "output_type": "stream",
     "text": [
      "\r",
      " 90%|████████████████████████████████████████████████████████████████████████████████████████████████████▎          | 904/1000 [02:32<00:21,  4.53it/s]"
     ]
    },
    {
     "name": "stdout",
     "output_type": "stream",
     "text": [
      "## DEBUG: 1. Pick input signal P(B) \n",
      "## DEBUG: 2. Find two nearest units \n",
      "## DEBUG: Two nearest points: min_dist_1: 1.0065187593641245 min_dist_2: 1.109604095559627 \n",
      "## DEBUG: 3. Incremement Age of all edges from s_1 \n",
      "## DEBUG: 4. Add error to neuron \n",
      "## DEBUG: 5. Move s1 and neighbors towards B \n",
      "## DEBUG: 6. reset s1 and s2 age \n",
      "## DEBUG: 7. remove old edges \n",
      "## DEBUG: 8. Insert new neuron \n",
      "## DEBUG: 9. Decrease system error \n",
      "## DEBUG: \n",
      "## DEBUG: \n",
      "## DEBUG: Attemping to plot... \n"
     ]
    },
    {
     "name": "stderr",
     "output_type": "stream",
     "text": [
      "\r",
      " 90%|████████████████████████████████████████████████████████████████████████████████████████████████████▍          | 905/1000 [02:32<00:20,  4.57it/s]"
     ]
    },
    {
     "name": "stdout",
     "output_type": "stream",
     "text": [
      "## DEBUG: 1. Pick input signal P(B) \n",
      "## DEBUG: 2. Find two nearest units \n",
      "## DEBUG: Two nearest points: min_dist_1: 0.3860590226534538 min_dist_2: 0.665397931691275 \n",
      "## DEBUG: 3. Incremement Age of all edges from s_1 \n",
      "## DEBUG: 4. Add error to neuron \n",
      "## DEBUG: 5. Move s1 and neighbors towards B \n",
      "## DEBUG: 6. reset s1 and s2 age \n",
      "## DEBUG: 7. remove old edges \n",
      "## DEBUG: 8. Insert new neuron \n",
      "## DEBUG: 9. Decrease system error \n",
      "## DEBUG: \n",
      "## DEBUG: \n",
      "## DEBUG: Attemping to plot... \n"
     ]
    },
    {
     "name": "stderr",
     "output_type": "stream",
     "text": [
      "\r",
      " 91%|████████████████████████████████████████████████████████████████████████████████████████████████████▌          | 906/1000 [02:32<00:20,  4.55it/s]"
     ]
    },
    {
     "name": "stdout",
     "output_type": "stream",
     "text": [
      "## DEBUG: 1. Pick input signal P(B) \n",
      "## DEBUG: 2. Find two nearest units \n",
      "## DEBUG: Two nearest points: min_dist_1: 0.12110964815265253 min_dist_2: 0.4233327796034803 \n",
      "## DEBUG: 3. Incremement Age of all edges from s_1 \n",
      "## DEBUG: 4. Add error to neuron \n",
      "## DEBUG: 5. Move s1 and neighbors towards B \n",
      "## DEBUG: 6. reset s1 and s2 age \n",
      "## DEBUG: 7. remove old edges \n",
      "## DEBUG: 8. Insert new neuron \n",
      "## DEBUG: 9. Decrease system error \n",
      "## DEBUG: \n",
      "## DEBUG: \n",
      "## DEBUG: Attemping to plot... \n"
     ]
    },
    {
     "name": "stderr",
     "output_type": "stream",
     "text": [
      "\r",
      " 91%|████████████████████████████████████████████████████████████████████████████████████████████████████▋          | 907/1000 [02:33<00:20,  4.62it/s]"
     ]
    },
    {
     "name": "stdout",
     "output_type": "stream",
     "text": [
      "## DEBUG: 1. Pick input signal P(B) \n",
      "## DEBUG: 2. Find two nearest units \n",
      "## DEBUG: Two nearest points: min_dist_1: 1.0502395357745835 min_dist_2: 1.6597901697669075 \n",
      "## DEBUG: 3. Incremement Age of all edges from s_1 \n",
      "## DEBUG: 4. Add error to neuron \n",
      "## DEBUG: 5. Move s1 and neighbors towards B \n",
      "## DEBUG: 6. reset s1 and s2 age \n",
      "## DEBUG: 7. remove old edges \n",
      "## DEBUG: 8. Insert new neuron \n",
      "## DEBUG: 9. Decrease system error \n",
      "## DEBUG: \n",
      "## DEBUG: \n",
      "## DEBUG: Attemping to plot... \n"
     ]
    },
    {
     "name": "stderr",
     "output_type": "stream",
     "text": [
      " 91%|████████████████████████████████████████████████████████████████████████████████████████████████████▉          | 909/1000 [02:33<00:19,  4.69it/s]"
     ]
    },
    {
     "name": "stdout",
     "output_type": "stream",
     "text": [
      "## DEBUG: 1. Pick input signal P(B) \n",
      "## DEBUG: 2. Find two nearest units \n",
      "## DEBUG: Two nearest points: min_dist_1: 0.5661234994156118 min_dist_2: 1.024327900668257 \n",
      "## DEBUG: 3. Incremement Age of all edges from s_1 \n",
      "## DEBUG: 4. Add error to neuron \n",
      "## DEBUG: 5. Move s1 and neighbors towards B \n",
      "## DEBUG: 6. reset s1 and s2 age \n",
      "## DEBUG: 7. remove old edges \n",
      "## DEBUG: 8. Insert new neuron \n",
      "## DEBUG: 9. Decrease system error \n",
      "## DEBUG: \n",
      "## DEBUG: \n",
      "## DEBUG: Attemping to plot... \n"
     ]
    },
    {
     "name": "stderr",
     "output_type": "stream",
     "text": [
      "\r",
      " 91%|█████████████████████████████████████████████████████████████████████████████████████████████████████          | 910/1000 [02:33<00:19,  4.70it/s]"
     ]
    },
    {
     "name": "stdout",
     "output_type": "stream",
     "text": [
      "## DEBUG: 1. Pick input signal P(B) \n",
      "## DEBUG: 2. Find two nearest units \n",
      "## DEBUG: Two nearest points: min_dist_1: 0.6290301370050126 min_dist_2: 0.9132663818885077 \n",
      "## DEBUG: 3. Incremement Age of all edges from s_1 \n",
      "## DEBUG: 4. Add error to neuron \n",
      "## DEBUG: 5. Move s1 and neighbors towards B \n",
      "## DEBUG: 6. reset s1 and s2 age \n",
      "## DEBUG: 7. remove old edges \n",
      "## DEBUG: 8. Insert new neuron \n",
      "## DEBUG: 9. Decrease system error \n",
      "## DEBUG: \n",
      "## DEBUG: \n",
      "## DEBUG: Attemping to plot... \n"
     ]
    },
    {
     "name": "stderr",
     "output_type": "stream",
     "text": [
      "\r",
      " 91%|█████████████████████████████████████████████████████████████████████████████████████████████████████          | 911/1000 [02:33<00:18,  4.72it/s]"
     ]
    },
    {
     "name": "stdout",
     "output_type": "stream",
     "text": [
      "## DEBUG: 1. Pick input signal P(B) \n",
      "## DEBUG: 2. Find two nearest units \n",
      "## DEBUG: Two nearest points: min_dist_1: 0.4655583647582634 min_dist_2: 0.7872481263066811 \n",
      "## DEBUG: 3. Incremement Age of all edges from s_1 \n",
      "## DEBUG: 4. Add error to neuron \n",
      "## DEBUG: 5. Move s1 and neighbors towards B \n",
      "## DEBUG: 6. reset s1 and s2 age \n",
      "## DEBUG: 7. remove old edges \n",
      "## DEBUG: 8. Insert new neuron \n",
      "## DEBUG: 9. Decrease system error \n",
      "## DEBUG: \n",
      "## DEBUG: \n",
      "## DEBUG: Attemping to plot... \n"
     ]
    },
    {
     "name": "stderr",
     "output_type": "stream",
     "text": [
      "\r",
      " 91%|█████████████████████████████████████████████████████████████████████████████████████████████████████▏         | 912/1000 [02:34<00:18,  4.69it/s]"
     ]
    },
    {
     "name": "stdout",
     "output_type": "stream",
     "text": [
      "## DEBUG: 1. Pick input signal P(B) \n",
      "## DEBUG: 2. Find two nearest units \n",
      "## DEBUG: Two nearest points: min_dist_1: 0.6606646336434262 min_dist_2: 0.7507645798745259 \n",
      "## DEBUG: 3. Incremement Age of all edges from s_1 \n",
      "## DEBUG: 4. Add error to neuron \n",
      "## DEBUG: 5. Move s1 and neighbors towards B \n",
      "## DEBUG: 6. reset s1 and s2 age \n",
      "## DEBUG: 7. remove old edges \n",
      "## DEBUG: 8. Insert new neuron \n",
      "## DEBUG: 9. Decrease system error \n",
      "## DEBUG: \n",
      "## DEBUG: \n",
      "## DEBUG: Attemping to plot... \n"
     ]
    },
    {
     "name": "stderr",
     "output_type": "stream",
     "text": [
      "\r",
      " 91%|█████████████████████████████████████████████████████████████████████████████████████████████████████▎         | 913/1000 [02:34<00:18,  4.70it/s]"
     ]
    },
    {
     "name": "stdout",
     "output_type": "stream",
     "text": [
      "## DEBUG: 1. Pick input signal P(B) \n",
      "## DEBUG: 2. Find two nearest units \n",
      "## DEBUG: Two nearest points: min_dist_1: 1.0447641144165392 min_dist_2: 1.5559052111341565 \n",
      "## DEBUG: 3. Incremement Age of all edges from s_1 \n",
      "## DEBUG: 4. Add error to neuron \n",
      "## DEBUG: 5. Move s1 and neighbors towards B \n",
      "## DEBUG: 6. reset s1 and s2 age \n",
      "## DEBUG: 7. remove old edges \n",
      "## DEBUG: 8. Insert new neuron \n",
      "## DEBUG: 9. Decrease system error \n",
      "## DEBUG: \n",
      "## DEBUG: \n",
      "## DEBUG: Attemping to plot... \n",
      "## DEBUG: 1. Pick input signal P(B) \n",
      "## DEBUG: 2. Find two nearest units \n",
      "## DEBUG: Two nearest points: min_dist_1: 0.6138608972742963 min_dist_2: 0.7507300214944492 \n",
      "## DEBUG: 3. Incremement Age of all edges from s_1 \n",
      "## DEBUG: 4. Add error to neuron \n",
      "## DEBUG: 5. Move s1 and neighbors towards B \n",
      "## DEBUG: 6. reset s1 and s2 age \n",
      "## DEBUG: 7. remove old edges \n",
      "## DEBUG: 8. Insert new neuron \n",
      "## DEBUG: 9. Decrease system error \n",
      "## DEBUG: \n",
      "## DEBUG: \n",
      "## DEBUG: Attemping to plot... \n"
     ]
    },
    {
     "name": "stderr",
     "output_type": "stream",
     "text": [
      " 92%|█████████████████████████████████████████████████████████████████████████████████████████████████████▌         | 915/1000 [02:34<00:18,  4.71it/s]"
     ]
    },
    {
     "name": "stdout",
     "output_type": "stream",
     "text": [
      "## DEBUG: 1. Pick input signal P(B) \n",
      "## DEBUG: 2. Find two nearest units \n",
      "## DEBUG: Two nearest points: min_dist_1: 0.2627479716447138 min_dist_2: 0.3659519090914896 \n",
      "## DEBUG: 3. Incremement Age of all edges from s_1 \n",
      "## DEBUG: 4. Add error to neuron \n",
      "## DEBUG: 5. Move s1 and neighbors towards B \n",
      "## DEBUG: 6. reset s1 and s2 age \n",
      "## DEBUG: 7. remove old edges \n",
      "## DEBUG: 8. Insert new neuron \n",
      "## DEBUG: 9. Decrease system error \n",
      "## DEBUG: \n",
      "## DEBUG: \n",
      "## DEBUG: Attemping to plot... \n"
     ]
    },
    {
     "name": "stderr",
     "output_type": "stream",
     "text": [
      "\r",
      " 92%|█████████████████████████████████████████████████████████████████████████████████████████████████████▋         | 916/1000 [02:34<00:17,  4.70it/s]"
     ]
    },
    {
     "name": "stdout",
     "output_type": "stream",
     "text": [
      "## DEBUG: 1. Pick input signal P(B) \n",
      "## DEBUG: 2. Find two nearest units \n",
      "## DEBUG: Two nearest points: min_dist_1: 0.24171544727750638 min_dist_2: 0.9455084144815457 \n",
      "## DEBUG: 3. Incremement Age of all edges from s_1 \n",
      "## DEBUG: 4. Add error to neuron \n",
      "## DEBUG: 5. Move s1 and neighbors towards B \n",
      "## DEBUG: 6. reset s1 and s2 age \n",
      "## DEBUG: 7. remove old edges \n",
      "## DEBUG: 8. Insert new neuron \n",
      "## DEBUG: 9. Decrease system error \n",
      "## DEBUG: \n",
      "## DEBUG: \n",
      "## DEBUG: Attemping to plot... \n",
      "## DEBUG: 1. Pick input signal P(B) \n",
      "## DEBUG: 2. Find two nearest units \n",
      "## DEBUG: Two nearest points: min_dist_1: 1.0810671735673203 min_dist_2: 1.370963235217466 \n",
      "## DEBUG: 3. Incremement Age of all edges from s_1 \n",
      "## DEBUG: 4. Add error to neuron \n",
      "## DEBUG: 5. Move s1 and neighbors towards B \n",
      "## DEBUG: 6. reset s1 and s2 age \n",
      "## DEBUG: 7. remove old edges \n",
      "## DEBUG: 8. Insert new neuron \n",
      "## DEBUG: 9. Decrease system error \n",
      "## DEBUG: \n",
      "## DEBUG: \n",
      "## DEBUG: Attemping to plot... \n"
     ]
    },
    {
     "name": "stderr",
     "output_type": "stream",
     "text": [
      " 92%|█████████████████████████████████████████████████████████████████████████████████████████████████████▉         | 918/1000 [02:35<00:17,  4.68it/s]"
     ]
    },
    {
     "name": "stdout",
     "output_type": "stream",
     "text": [
      "## DEBUG: 1. Pick input signal P(B) \n",
      "## DEBUG: 2. Find two nearest units \n",
      "## DEBUG: Two nearest points: min_dist_1: 1.1917650808023132 min_dist_2: 1.2944165843153608 \n",
      "## DEBUG: 3. Incremement Age of all edges from s_1 \n",
      "## DEBUG: 4. Add error to neuron \n",
      "## DEBUG: 5. Move s1 and neighbors towards B \n",
      "## DEBUG: 6. reset s1 and s2 age \n",
      "## DEBUG: 7. remove old edges \n",
      "## DEBUG: 8. Insert new neuron \n",
      "## DEBUG: 9. Decrease system error \n",
      "## DEBUG: \n",
      "## DEBUG: \n",
      "## DEBUG: Attemping to plot... \n",
      "## DEBUG: 1. Pick input signal P(B) \n",
      "## DEBUG: 2. Find two nearest units \n",
      "## DEBUG: Two nearest points: min_dist_1: 1.1233466178628966 min_dist_2: 1.1613595340515965 \n",
      "## DEBUG: 3. Incremement Age of all edges from s_1 \n",
      "## DEBUG: 4. Add error to neuron \n",
      "## DEBUG: 5. Move s1 and neighbors towards B \n",
      "## DEBUG: 6. reset s1 and s2 age \n",
      "## DEBUG: 7. remove old edges \n",
      "## DEBUG: 8. Insert new neuron \n",
      "## DEBUG: 9. Decrease system error \n",
      "## DEBUG: \n",
      "## DEBUG: \n",
      "## DEBUG: Attemping to plot... \n"
     ]
    },
    {
     "name": "stderr",
     "output_type": "stream",
     "text": [
      " 92%|██████████████████████████████████████████████████████████████████████████████████████████████████████         | 920/1000 [02:35<00:17,  4.70it/s]"
     ]
    },
    {
     "name": "stdout",
     "output_type": "stream",
     "text": [
      "## DEBUG: 1. Pick input signal P(B) \n",
      "## DEBUG: 2. Find two nearest units \n",
      "## DEBUG: Two nearest points: min_dist_1: 1.0301515699063954 min_dist_2: 1.3947360179707753 \n",
      "## DEBUG: 3. Incremement Age of all edges from s_1 \n",
      "## DEBUG: 4. Add error to neuron \n",
      "## DEBUG: 5. Move s1 and neighbors towards B \n",
      "## DEBUG: 6. reset s1 and s2 age \n",
      "## DEBUG: 7. remove old edges \n",
      "## DEBUG: 8. Insert new neuron \n",
      "## DEBUG: 9. Decrease system error \n",
      "## DEBUG: \n",
      "## DEBUG: \n",
      "## DEBUG: Attemping to plot... \n",
      "## DEBUG: 1. Pick input signal P(B) \n",
      "## DEBUG: 2. Find two nearest units \n",
      "## DEBUG: Two nearest points: min_dist_1: 0.9865288919294519 min_dist_2: 1.2299493617528336 \n",
      "## DEBUG: 3. Incremement Age of all edges from s_1 \n",
      "## DEBUG: 4. Add error to neuron \n",
      "## DEBUG: 5. Move s1 and neighbors towards B \n",
      "## DEBUG: 6. reset s1 and s2 age \n",
      "## DEBUG: 7. remove old edges \n",
      "## DEBUG: 8. Insert new neuron \n",
      "## DEBUG: 9. Decrease system error \n",
      "## DEBUG: \n",
      "## DEBUG: \n",
      "## DEBUG: Attemping to plot... \n"
     ]
    },
    {
     "name": "stderr",
     "output_type": "stream",
     "text": [
      "\r",
      " 92%|██████████████████████████████████████████████████████████████████████████████████████████████████████▏        | 921/1000 [02:35<00:16,  4.70it/s]"
     ]
    },
    {
     "name": "stdout",
     "output_type": "stream",
     "text": [
      "## DEBUG: 1. Pick input signal P(B) \n",
      "## DEBUG: 2. Find two nearest units \n",
      "## DEBUG: Two nearest points: min_dist_1: 0.7791529301304627 min_dist_2: 1.30218425849638 \n",
      "## DEBUG: 3. Incremement Age of all edges from s_1 \n",
      "## DEBUG: 4. Add error to neuron \n",
      "## DEBUG: 5. Move s1 and neighbors towards B \n",
      "## DEBUG: 6. reset s1 and s2 age \n",
      "## DEBUG: 7. remove old edges \n",
      "## DEBUG: 8. Insert new neuron \n",
      "## DEBUG: 9. Decrease system error \n",
      "## DEBUG: \n",
      "## DEBUG: \n",
      "## DEBUG: Attemping to plot... \n"
     ]
    },
    {
     "name": "stderr",
     "output_type": "stream",
     "text": [
      "\r",
      " 92%|██████████████████████████████████████████████████████████████████████████████████████████████████████▎        | 922/1000 [02:36<00:17,  4.56it/s]"
     ]
    },
    {
     "name": "stdout",
     "output_type": "stream",
     "text": [
      "## DEBUG: 1. Pick input signal P(B) \n",
      "## DEBUG: 2. Find two nearest units \n",
      "## DEBUG: Two nearest points: min_dist_1: 0.3301572037181813 min_dist_2: 0.9050421466294739 \n",
      "## DEBUG: 3. Incremement Age of all edges from s_1 \n",
      "## DEBUG: 4. Add error to neuron \n",
      "## DEBUG: 5. Move s1 and neighbors towards B \n",
      "## DEBUG: 6. reset s1 and s2 age \n",
      "## DEBUG: 7. remove old edges \n",
      "## DEBUG: 8. Insert new neuron \n",
      "## DEBUG: 9. Decrease system error \n",
      "## DEBUG: \n",
      "## DEBUG: \n",
      "## DEBUG: Attemping to plot... \n"
     ]
    },
    {
     "name": "stderr",
     "output_type": "stream",
     "text": [
      "\r",
      " 92%|██████████████████████████████████████████████████████████████████████████████████████████████████████▍        | 923/1000 [02:36<00:16,  4.56it/s]"
     ]
    },
    {
     "name": "stdout",
     "output_type": "stream",
     "text": [
      "## DEBUG: 1. Pick input signal P(B) \n",
      "## DEBUG: 2. Find two nearest units \n",
      "## DEBUG: Two nearest points: min_dist_1: 0.3171295380788841 min_dist_2: 0.5428252250237942 \n",
      "## DEBUG: 3. Incremement Age of all edges from s_1 \n",
      "## DEBUG: 4. Add error to neuron \n",
      "## DEBUG: 5. Move s1 and neighbors towards B \n",
      "## DEBUG: 6. reset s1 and s2 age \n",
      "## DEBUG: 7. remove old edges \n",
      "## DEBUG: 8. Insert new neuron \n",
      "## DEBUG: 9. Decrease system error \n",
      "## DEBUG: \n",
      "## DEBUG: \n",
      "## DEBUG: Attemping to plot... \n"
     ]
    },
    {
     "name": "stderr",
     "output_type": "stream",
     "text": [
      "\r",
      " 92%|██████████████████████████████████████████████████████████████████████████████████████████████████████▌        | 924/1000 [02:36<00:16,  4.59it/s]"
     ]
    },
    {
     "name": "stdout",
     "output_type": "stream",
     "text": [
      "## DEBUG: 1. Pick input signal P(B) \n",
      "## DEBUG: 2. Find two nearest units \n",
      "## DEBUG: Two nearest points: min_dist_1: 1.1824407219531636 min_dist_2: 1.2074635475615862 \n",
      "## DEBUG: 3. Incremement Age of all edges from s_1 \n",
      "## DEBUG: 4. Add error to neuron \n",
      "## DEBUG: 5. Move s1 and neighbors towards B \n",
      "## DEBUG: 6. reset s1 and s2 age \n",
      "## DEBUG: 7. remove old edges \n",
      "## DEBUG: 8. Insert new neuron \n",
      "## DEBUG: 9. Decrease system error \n",
      "## DEBUG: \n",
      "## DEBUG: \n",
      "## DEBUG: Attemping to plot... \n"
     ]
    },
    {
     "name": "stderr",
     "output_type": "stream",
     "text": [
      "\r",
      " 92%|██████████████████████████████████████████████████████████████████████████████████████████████████████▋        | 925/1000 [02:36<00:16,  4.61it/s]"
     ]
    },
    {
     "name": "stdout",
     "output_type": "stream",
     "text": [
      "## DEBUG: 1. Pick input signal P(B) \n",
      "## DEBUG: 2. Find two nearest units \n",
      "## DEBUG: Two nearest points: min_dist_1: 0.4627878025540565 min_dist_2: 0.8539402842585246 \n",
      "## DEBUG: 3. Incremement Age of all edges from s_1 \n",
      "## DEBUG: 4. Add error to neuron \n",
      "## DEBUG: 5. Move s1 and neighbors towards B \n",
      "## DEBUG: 6. reset s1 and s2 age \n",
      "## DEBUG: 7. remove old edges \n",
      "## DEBUG: 8. Insert new neuron \n",
      "## DEBUG: 9. Decrease system error \n",
      "## DEBUG: \n",
      "## DEBUG: \n",
      "## DEBUG: Attemping to plot... \n"
     ]
    },
    {
     "name": "stderr",
     "output_type": "stream",
     "text": [
      "\r",
      " 93%|██████████████████████████████████████████████████████████████████████████████████████████████████████▊        | 926/1000 [02:37<00:16,  4.58it/s]"
     ]
    },
    {
     "name": "stdout",
     "output_type": "stream",
     "text": [
      "## DEBUG: 1. Pick input signal P(B) \n",
      "## DEBUG: 2. Find two nearest units \n",
      "## DEBUG: Two nearest points: min_dist_1: 0.6382914530798058 min_dist_2: 0.6618392073593256 \n",
      "## DEBUG: 3. Incremement Age of all edges from s_1 \n",
      "## DEBUG: 4. Add error to neuron \n",
      "## DEBUG: 5. Move s1 and neighbors towards B \n",
      "## DEBUG: 6. reset s1 and s2 age \n",
      "## DEBUG: 7. remove old edges \n",
      "## DEBUG: 8. Insert new neuron \n",
      "## DEBUG: 9. Decrease system error \n",
      "## DEBUG: \n",
      "## DEBUG: \n",
      "## DEBUG: Attemping to plot... \n"
     ]
    },
    {
     "name": "stderr",
     "output_type": "stream",
     "text": [
      "\r",
      " 93%|██████████████████████████████████████████████████████████████████████████████████████████████████████▉        | 927/1000 [02:37<00:15,  4.58it/s]"
     ]
    },
    {
     "name": "stdout",
     "output_type": "stream",
     "text": [
      "## DEBUG: 1. Pick input signal P(B) \n",
      "## DEBUG: 2. Find two nearest units \n",
      "## DEBUG: Two nearest points: min_dist_1: 1.4700209385018064 min_dist_2: 1.9299285082859832 \n",
      "## DEBUG: 3. Incremement Age of all edges from s_1 \n",
      "## DEBUG: 4. Add error to neuron \n",
      "## DEBUG: 5. Move s1 and neighbors towards B \n",
      "## DEBUG: 6. reset s1 and s2 age \n",
      "## DEBUG: 7. remove old edges \n",
      "## DEBUG: 8. Insert new neuron \n",
      "## DEBUG: 9. Decrease system error \n",
      "## DEBUG: \n",
      "## DEBUG: \n",
      "## DEBUG: Attemping to plot... \n"
     ]
    },
    {
     "name": "stderr",
     "output_type": "stream",
     "text": [
      "\r",
      " 93%|███████████████████████████████████████████████████████████████████████████████████████████████████████        | 928/1000 [02:37<00:16,  4.41it/s]"
     ]
    },
    {
     "name": "stdout",
     "output_type": "stream",
     "text": [
      "## DEBUG: 1. Pick input signal P(B) \n",
      "## DEBUG: 2. Find two nearest units \n",
      "## DEBUG: Two nearest points: min_dist_1: 0.3196111312232 min_dist_2: 0.3512901534601642 \n",
      "## DEBUG: 3. Incremement Age of all edges from s_1 \n",
      "## DEBUG: 4. Add error to neuron \n",
      "## DEBUG: 5. Move s1 and neighbors towards B \n",
      "## DEBUG: 6. reset s1 and s2 age \n",
      "## DEBUG: 7. remove old edges \n",
      "## DEBUG: 8. Insert new neuron \n",
      "## DEBUG: 9. Decrease system error \n",
      "## DEBUG: \n",
      "## DEBUG: \n",
      "## DEBUG: Attemping to plot... \n"
     ]
    },
    {
     "name": "stderr",
     "output_type": "stream",
     "text": [
      " 93%|███████████████████████████████████████████████████████████████████████████████████████████████████████▏       | 930/1000 [02:37<00:15,  4.52it/s]"
     ]
    },
    {
     "name": "stdout",
     "output_type": "stream",
     "text": [
      "## DEBUG: 1. Pick input signal P(B) \n",
      "## DEBUG: 2. Find two nearest units \n",
      "## DEBUG: Two nearest points: min_dist_1: 0.3546656184310971 min_dist_2: 0.7147376494567863 \n",
      "## DEBUG: 3. Incremement Age of all edges from s_1 \n",
      "## DEBUG: 4. Add error to neuron \n",
      "## DEBUG: 5. Move s1 and neighbors towards B \n",
      "## DEBUG: 6. reset s1 and s2 age \n",
      "## DEBUG: 7. remove old edges \n",
      "## DEBUG: 8. Insert new neuron \n",
      "## DEBUG: 9. Decrease system error \n",
      "## DEBUG: \n",
      "## DEBUG: \n",
      "## DEBUG: Attemping to plot... \n",
      "## DEBUG: 1. Pick input signal P(B) \n",
      "## DEBUG: 2. Find two nearest units \n",
      "## DEBUG: Two nearest points: min_dist_1: 1.5756360027444047 min_dist_2: 1.8046249675732795 \n",
      "## DEBUG: 3. Incremement Age of all edges from s_1 \n",
      "## DEBUG: 4. Add error to neuron \n",
      "## DEBUG: 5. Move s1 and neighbors towards B \n",
      "## DEBUG: 6. reset s1 and s2 age \n",
      "## DEBUG: 7. remove old edges \n",
      "## DEBUG: 8. Insert new neuron \n",
      "## DEBUG: 9. Decrease system error \n",
      "## DEBUG: \n",
      "## DEBUG: \n",
      "## DEBUG: Attemping to plot... \n"
     ]
    },
    {
     "name": "stderr",
     "output_type": "stream",
     "text": [
      "\r",
      " 93%|███████████████████████████████████████████████████████████████████████████████████████████████████████▎       | 931/1000 [02:38<00:15,  4.54it/s]"
     ]
    },
    {
     "name": "stdout",
     "output_type": "stream",
     "text": [
      "## DEBUG: 1. Pick input signal P(B) \n",
      "## DEBUG: 2. Find two nearest units \n",
      "## DEBUG: Two nearest points: min_dist_1: 0.6391781743025451 min_dist_2: 1.3194821262272793 \n",
      "## DEBUG: 3. Incremement Age of all edges from s_1 \n",
      "## DEBUG: 4. Add error to neuron \n",
      "## DEBUG: 5. Move s1 and neighbors towards B \n",
      "## DEBUG: 6. reset s1 and s2 age \n",
      "## DEBUG: 7. remove old edges \n",
      "## DEBUG: 8. Insert new neuron \n",
      "## DEBUG: 9. Decrease system error \n",
      "## DEBUG: \n",
      "## DEBUG: \n",
      "## DEBUG: Attemping to plot... \n"
     ]
    },
    {
     "name": "stderr",
     "output_type": "stream",
     "text": [
      "\r",
      " 93%|███████████████████████████████████████████████████████████████████████████████████████████████████████▍       | 932/1000 [02:38<00:14,  4.56it/s]"
     ]
    },
    {
     "name": "stdout",
     "output_type": "stream",
     "text": [
      "## DEBUG: 1. Pick input signal P(B) \n",
      "## DEBUG: 2. Find two nearest units \n",
      "## DEBUG: Two nearest points: min_dist_1: 1.6735349791696754 min_dist_2: 1.835626667234871 \n",
      "## DEBUG: 3. Incremement Age of all edges from s_1 \n",
      "## DEBUG: 4. Add error to neuron \n",
      "## DEBUG: 5. Move s1 and neighbors towards B \n",
      "## DEBUG: 6. reset s1 and s2 age \n",
      "## DEBUG: 7. remove old edges \n",
      "## DEBUG: 8. Insert new neuron \n",
      "## DEBUG: 9. Decrease system error \n",
      "## DEBUG: \n",
      "## DEBUG: \n",
      "## DEBUG: Attemping to plot... \n"
     ]
    },
    {
     "name": "stderr",
     "output_type": "stream",
     "text": [
      "\r",
      " 93%|███████████████████████████████████████████████████████████████████████████████████████████████████████▌       | 933/1000 [02:38<00:14,  4.57it/s]"
     ]
    },
    {
     "name": "stdout",
     "output_type": "stream",
     "text": [
      "## DEBUG: 1. Pick input signal P(B) \n",
      "## DEBUG: 2. Find two nearest units \n",
      "## DEBUG: Two nearest points: min_dist_1: 1.1205349553103958 min_dist_2: 1.191611587436277 \n",
      "## DEBUG: 3. Incremement Age of all edges from s_1 \n",
      "## DEBUG: 4. Add error to neuron \n",
      "## DEBUG: 5. Move s1 and neighbors towards B \n",
      "## DEBUG: 6. reset s1 and s2 age \n",
      "## DEBUG: 7. remove old edges \n",
      "## DEBUG: 8. Insert new neuron \n",
      "## DEBUG: 9. Decrease system error \n",
      "## DEBUG: \n",
      "## DEBUG: \n",
      "## DEBUG: Attemping to plot... \n"
     ]
    },
    {
     "name": "stderr",
     "output_type": "stream",
     "text": [
      "\r",
      " 93%|███████████████████████████████████████████████████████████████████████████████████████████████████████▋       | 934/1000 [02:38<00:14,  4.48it/s]"
     ]
    },
    {
     "name": "stdout",
     "output_type": "stream",
     "text": [
      "## DEBUG: 1. Pick input signal P(B) \n",
      "## DEBUG: 2. Find two nearest units \n",
      "## DEBUG: Two nearest points: min_dist_1: 0.1801787632300288 min_dist_2: 0.5612809622855002 \n",
      "## DEBUG: 3. Incremement Age of all edges from s_1 \n",
      "## DEBUG: 4. Add error to neuron \n",
      "## DEBUG: 5. Move s1 and neighbors towards B \n",
      "## DEBUG: 6. reset s1 and s2 age \n",
      "## DEBUG: 7. remove old edges \n",
      "## DEBUG: 8. Insert new neuron \n",
      "## DEBUG: 9. Decrease system error \n",
      "## DEBUG: \n",
      "## DEBUG: \n",
      "## DEBUG: Attemping to plot... \n"
     ]
    },
    {
     "name": "stderr",
     "output_type": "stream",
     "text": [
      "\r",
      " 94%|███████████████████████████████████████████████████████████████████████████████████████████████████████▊       | 935/1000 [02:39<00:14,  4.47it/s]"
     ]
    },
    {
     "name": "stdout",
     "output_type": "stream",
     "text": [
      "## DEBUG: 1. Pick input signal P(B) \n",
      "## DEBUG: 2. Find two nearest units \n",
      "## DEBUG: Two nearest points: min_dist_1: 0.15997289352002897 min_dist_2: 1.0186014654965172 \n",
      "## DEBUG: 3. Incremement Age of all edges from s_1 \n",
      "## DEBUG: 4. Add error to neuron \n",
      "## DEBUG: 5. Move s1 and neighbors towards B \n",
      "## DEBUG: 6. reset s1 and s2 age \n",
      "## DEBUG: 7. remove old edges \n",
      "## DEBUG: 8. Insert new neuron \n",
      "## DEBUG: 9. Decrease system error \n",
      "## DEBUG: \n",
      "## DEBUG: \n",
      "## DEBUG: Attemping to plot... \n"
     ]
    },
    {
     "name": "stderr",
     "output_type": "stream",
     "text": [
      "\r",
      " 94%|███████████████████████████████████████████████████████████████████████████████████████████████████████▉       | 936/1000 [02:39<00:14,  4.49it/s]"
     ]
    },
    {
     "name": "stdout",
     "output_type": "stream",
     "text": [
      "## DEBUG: 1. Pick input signal P(B) \n",
      "## DEBUG: 2. Find two nearest units \n",
      "## DEBUG: Two nearest points: min_dist_1: 0.28301261847191006 min_dist_2: 0.443287557263019 \n",
      "## DEBUG: 3. Incremement Age of all edges from s_1 \n",
      "## DEBUG: 4. Add error to neuron \n",
      "## DEBUG: 5. Move s1 and neighbors towards B \n",
      "## DEBUG: 6. reset s1 and s2 age \n",
      "## DEBUG: 7. remove old edges \n",
      "## DEBUG: 8. Insert new neuron \n",
      "## DEBUG: 9. Decrease system error \n",
      "## DEBUG: \n",
      "## DEBUG: \n",
      "## DEBUG: Attemping to plot... \n"
     ]
    },
    {
     "name": "stderr",
     "output_type": "stream",
     "text": [
      "\r",
      " 94%|████████████████████████████████████████████████████████████████████████████████████████████████████████       | 937/1000 [02:39<00:13,  4.52it/s]"
     ]
    },
    {
     "name": "stdout",
     "output_type": "stream",
     "text": [
      "## DEBUG: 1. Pick input signal P(B) \n",
      "## DEBUG: 2. Find two nearest units \n",
      "## DEBUG: Two nearest points: min_dist_1: 0.8685109909835063 min_dist_2: 1.0017709293406023 \n",
      "## DEBUG: 3. Incremement Age of all edges from s_1 \n",
      "## DEBUG: 4. Add error to neuron \n",
      "## DEBUG: 5. Move s1 and neighbors towards B \n",
      "## DEBUG: 6. reset s1 and s2 age \n",
      "## DEBUG: 7. remove old edges \n",
      "## DEBUG: 8. Insert new neuron \n",
      "## DEBUG: 9. Decrease system error \n",
      "## DEBUG: \n",
      "## DEBUG: \n",
      "## DEBUG: Attemping to plot... \n"
     ]
    },
    {
     "name": "stderr",
     "output_type": "stream",
     "text": [
      "\r",
      " 94%|████████████████████████████████████████████████████████████████████████████████████████████████████████       | 938/1000 [02:39<00:13,  4.54it/s]"
     ]
    },
    {
     "name": "stdout",
     "output_type": "stream",
     "text": [
      "## DEBUG: 1. Pick input signal P(B) \n",
      "## DEBUG: 2. Find two nearest units \n",
      "## DEBUG: Two nearest points: min_dist_1: 1.5438486751440141 min_dist_2: 1.5688716826568692 \n",
      "## DEBUG: 3. Incremement Age of all edges from s_1 \n",
      "## DEBUG: 4. Add error to neuron \n",
      "## DEBUG: 5. Move s1 and neighbors towards B \n",
      "## DEBUG: 6. reset s1 and s2 age \n",
      "## DEBUG: 7. remove old edges \n",
      "## DEBUG: 8. Insert new neuron \n",
      "## DEBUG: 9. Decrease system error \n",
      "## DEBUG: \n",
      "## DEBUG: \n",
      "## DEBUG: Attemping to plot... \n"
     ]
    },
    {
     "name": "stderr",
     "output_type": "stream",
     "text": [
      "\r",
      " 94%|████████████████████████████████████████████████████████████████████████████████████████████████████████▏      | 939/1000 [02:39<00:13,  4.55it/s]"
     ]
    },
    {
     "name": "stdout",
     "output_type": "stream",
     "text": [
      "## DEBUG: 1. Pick input signal P(B) \n",
      "## DEBUG: 2. Find two nearest units \n",
      "## DEBUG: Two nearest points: min_dist_1: 0.10899868333738809 min_dist_2: 0.4229094468238768 \n",
      "## DEBUG: 3. Incremement Age of all edges from s_1 \n",
      "## DEBUG: 4. Add error to neuron \n",
      "## DEBUG: 5. Move s1 and neighbors towards B \n",
      "## DEBUG: 6. reset s1 and s2 age \n",
      "## DEBUG: 7. remove old edges \n",
      "## DEBUG: 8. Insert new neuron \n",
      "## DEBUG: 9. Decrease system error \n",
      "## DEBUG: \n",
      "## DEBUG: \n",
      "## DEBUG: Attemping to plot... \n"
     ]
    },
    {
     "name": "stderr",
     "output_type": "stream",
     "text": [
      "\r",
      " 94%|████████████████████████████████████████████████████████████████████████████████████████████████████████▎      | 940/1000 [02:40<00:13,  4.56it/s]"
     ]
    },
    {
     "name": "stdout",
     "output_type": "stream",
     "text": [
      "## DEBUG: 1. Pick input signal P(B) \n",
      "## DEBUG: 2. Find two nearest units \n",
      "## DEBUG: Two nearest points: min_dist_1: 0.5366979526341725 min_dist_2: 1.3042148291529803 \n",
      "## DEBUG: 3. Incremement Age of all edges from s_1 \n",
      "## DEBUG: 4. Add error to neuron \n",
      "## DEBUG: 5. Move s1 and neighbors towards B \n",
      "## DEBUG: 6. reset s1 and s2 age \n",
      "## DEBUG: 7. remove old edges \n",
      "## DEBUG: 8. Insert new neuron \n",
      "## DEBUG: 9. Decrease system error \n",
      "## DEBUG: \n",
      "## DEBUG: \n",
      "## DEBUG: Attemping to plot... \n"
     ]
    },
    {
     "name": "stderr",
     "output_type": "stream",
     "text": [
      "\r",
      " 94%|████████████████████████████████████████████████████████████████████████████████████████████████████████▍      | 941/1000 [02:40<00:12,  4.54it/s]"
     ]
    },
    {
     "name": "stdout",
     "output_type": "stream",
     "text": [
      "## DEBUG: 1. Pick input signal P(B) \n",
      "## DEBUG: 2. Find two nearest units \n",
      "## DEBUG: Two nearest points: min_dist_1: 0.1420508017416988 min_dist_2: 0.25984159110693694 \n",
      "## DEBUG: 3. Incremement Age of all edges from s_1 \n",
      "## DEBUG: 4. Add error to neuron \n",
      "## DEBUG: 5. Move s1 and neighbors towards B \n",
      "## DEBUG: 6. reset s1 and s2 age \n",
      "## DEBUG: 7. remove old edges \n",
      "## DEBUG: 8. Insert new neuron \n",
      "## DEBUG: 9. Decrease system error \n",
      "## DEBUG: \n",
      "## DEBUG: \n",
      "## DEBUG: Attemping to plot... \n"
     ]
    },
    {
     "name": "stderr",
     "output_type": "stream",
     "text": [
      " 94%|████████████████████████████████████████████████████████████████████████████████████████████████████████▋      | 943/1000 [02:40<00:12,  4.55it/s]"
     ]
    },
    {
     "name": "stdout",
     "output_type": "stream",
     "text": [
      "## DEBUG: 1. Pick input signal P(B) \n",
      "## DEBUG: 2. Find two nearest units \n",
      "## DEBUG: Two nearest points: min_dist_1: 0.3926314865282332 min_dist_2: 0.9699165544788317 \n",
      "## DEBUG: 3. Incremement Age of all edges from s_1 \n",
      "## DEBUG: 4. Add error to neuron \n",
      "## DEBUG: 5. Move s1 and neighbors towards B \n",
      "## DEBUG: 6. reset s1 and s2 age \n",
      "## DEBUG: 7. remove old edges \n",
      "## DEBUG: 8. Insert new neuron \n",
      "## DEBUG: 9. Decrease system error \n",
      "## DEBUG: \n",
      "## DEBUG: \n",
      "## DEBUG: Attemping to plot... \n",
      "## DEBUG: 1. Pick input signal P(B) \n",
      "## DEBUG: 2. Find two nearest units \n",
      "## DEBUG: Two nearest points: min_dist_1: 0.0922001738141419 min_dist_2: 0.3421387523119321 \n",
      "## DEBUG: 3. Incremement Age of all edges from s_1 \n",
      "## DEBUG: 4. Add error to neuron \n",
      "## DEBUG: 5. Move s1 and neighbors towards B \n",
      "## DEBUG: 6. reset s1 and s2 age \n",
      "## DEBUG: 7. remove old edges \n",
      "## DEBUG: 8. Insert new neuron \n",
      "## DEBUG: 9. Decrease system error \n",
      "## DEBUG: \n",
      "## DEBUG: \n",
      "## DEBUG: Attemping to plot... \n"
     ]
    },
    {
     "name": "stderr",
     "output_type": "stream",
     "text": [
      "\r",
      " 94%|████████████████████████████████████████████████████████████████████████████████████████████████████████▊      | 944/1000 [02:41<00:12,  4.52it/s]"
     ]
    },
    {
     "name": "stdout",
     "output_type": "stream",
     "text": [
      "## DEBUG: 1. Pick input signal P(B) \n",
      "## DEBUG: 2. Find two nearest units \n",
      "## DEBUG: Two nearest points: min_dist_1: 0.36757237902716083 min_dist_2: 0.6780838773893699 \n",
      "## DEBUG: 3. Incremement Age of all edges from s_1 \n",
      "## DEBUG: 4. Add error to neuron \n",
      "## DEBUG: 5. Move s1 and neighbors towards B \n",
      "## DEBUG: 6. reset s1 and s2 age \n",
      "## DEBUG: 7. remove old edges \n",
      "## DEBUG: 8. Insert new neuron \n",
      "## DEBUG: 9. Decrease system error \n",
      "## DEBUG: \n",
      "## DEBUG: \n",
      "## DEBUG: Attemping to plot... \n"
     ]
    },
    {
     "name": "stderr",
     "output_type": "stream",
     "text": [
      "\r",
      " 94%|████████████████████████████████████████████████████████████████████████████████████████████████████████▉      | 945/1000 [02:41<00:12,  4.52it/s]"
     ]
    },
    {
     "name": "stdout",
     "output_type": "stream",
     "text": [
      "## DEBUG: 1. Pick input signal P(B) \n",
      "## DEBUG: 2. Find two nearest units \n",
      "## DEBUG: Two nearest points: min_dist_1: 1.0725885727220814 min_dist_2: 1.1931884614126678 \n",
      "## DEBUG: 3. Incremement Age of all edges from s_1 \n",
      "## DEBUG: 4. Add error to neuron \n",
      "## DEBUG: 5. Move s1 and neighbors towards B \n",
      "## DEBUG: 6. reset s1 and s2 age \n",
      "## DEBUG: 7. remove old edges \n",
      "## DEBUG: 8. Insert new neuron \n",
      "## DEBUG: 9. Decrease system error \n",
      "## DEBUG: \n",
      "## DEBUG: \n",
      "## DEBUG: Attemping to plot... \n"
     ]
    },
    {
     "name": "stderr",
     "output_type": "stream",
     "text": [
      "\r",
      " 95%|█████████████████████████████████████████████████████████████████████████████████████████████████████████      | 946/1000 [02:41<00:11,  4.53it/s]"
     ]
    },
    {
     "name": "stdout",
     "output_type": "stream",
     "text": [
      "## DEBUG: 1. Pick input signal P(B) \n",
      "## DEBUG: 2. Find two nearest units \n",
      "## DEBUG: Two nearest points: min_dist_1: 1.6125953644840527 min_dist_2: 1.7916289171413207 \n",
      "## DEBUG: 3. Incremement Age of all edges from s_1 \n",
      "## DEBUG: 4. Add error to neuron \n",
      "## DEBUG: 5. Move s1 and neighbors towards B \n",
      "## DEBUG: 6. reset s1 and s2 age \n",
      "## DEBUG: 7. remove old edges \n",
      "## DEBUG: 8. Insert new neuron \n",
      "## DEBUG: 9. Decrease system error \n",
      "## DEBUG: \n",
      "## DEBUG: \n",
      "## DEBUG: Attemping to plot... \n"
     ]
    },
    {
     "name": "stderr",
     "output_type": "stream",
     "text": [
      "\r",
      " 95%|█████████████████████████████████████████████████████████████████████████████████████████████████████████      | 947/1000 [02:41<00:11,  4.52it/s]"
     ]
    },
    {
     "name": "stdout",
     "output_type": "stream",
     "text": [
      "## DEBUG: 1. Pick input signal P(B) \n",
      "## DEBUG: 2. Find two nearest units \n",
      "## DEBUG: Two nearest points: min_dist_1: 0.8650916588535574 min_dist_2: 1.1247089057921031 \n",
      "## DEBUG: 3. Incremement Age of all edges from s_1 \n",
      "## DEBUG: 4. Add error to neuron \n",
      "## DEBUG: 5. Move s1 and neighbors towards B \n",
      "## DEBUG: 6. reset s1 and s2 age \n",
      "## DEBUG: 7. remove old edges \n",
      "## DEBUG: 8. Insert new neuron \n",
      "## DEBUG: 9. Decrease system error \n",
      "## DEBUG: \n",
      "## DEBUG: \n",
      "## DEBUG: Attemping to plot... \n"
     ]
    },
    {
     "name": "stderr",
     "output_type": "stream",
     "text": [
      "\r",
      " 95%|█████████████████████████████████████████████████████████████████████████████████████████████████████████▏     | 948/1000 [02:48<01:59,  2.29s/it]"
     ]
    },
    {
     "name": "stdout",
     "output_type": "stream",
     "text": [
      "## DEBUG: 1. Pick input signal P(B) \n",
      "## DEBUG: 2. Find two nearest units \n",
      "## DEBUG: Two nearest points: min_dist_1: 0.11649832907865179 min_dist_2: 0.4477897491212731 \n",
      "## DEBUG: 3. Incremement Age of all edges from s_1 \n",
      "## DEBUG: 4. Add error to neuron \n",
      "## DEBUG: 5. Move s1 and neighbors towards B \n",
      "## DEBUG: 6. reset s1 and s2 age \n",
      "## DEBUG: 7. remove old edges \n",
      "## DEBUG: 8. Insert new neuron \n",
      "## DEBUG: 9. Decrease system error \n",
      "## DEBUG: \n",
      "## DEBUG: \n",
      "## DEBUG: Attemping to plot... \n"
     ]
    },
    {
     "name": "stderr",
     "output_type": "stream",
     "text": [
      "\r",
      " 95%|█████████████████████████████████████████████████████████████████████████████████████████████████████████▎     | 949/1000 [02:49<01:25,  1.67s/it]"
     ]
    },
    {
     "name": "stdout",
     "output_type": "stream",
     "text": [
      "## DEBUG: 1. Pick input signal P(B) \n",
      "## DEBUG: 2. Find two nearest units \n",
      "## DEBUG: Two nearest points: min_dist_1: 0.62264777650904 min_dist_2: 0.9284128406461 \n",
      "## DEBUG: 3. Incremement Age of all edges from s_1 \n",
      "## DEBUG: 4. Add error to neuron \n",
      "## DEBUG: 5. Move s1 and neighbors towards B \n",
      "## DEBUG: 6. reset s1 and s2 age \n",
      "## DEBUG: 7. remove old edges \n",
      "## DEBUG: 8. Insert new neuron \n",
      "## DEBUG: 9. Decrease system error \n",
      "## DEBUG: \n",
      "## DEBUG: \n",
      "## DEBUG: Attemping to plot... \n"
     ]
    },
    {
     "name": "stderr",
     "output_type": "stream",
     "text": [
      "\r",
      " 95%|█████████████████████████████████████████████████████████████████████████████████████████████████████████▍     | 950/1000 [02:49<01:01,  1.24s/it]"
     ]
    },
    {
     "name": "stdout",
     "output_type": "stream",
     "text": [
      "## DEBUG: 1. Pick input signal P(B) \n",
      "## DEBUG: 2. Find two nearest units \n",
      "## DEBUG: Two nearest points: min_dist_1: 0.23278875030197727 min_dist_2: 0.4253912191829911 \n",
      "## DEBUG: 3. Incremement Age of all edges from s_1 \n",
      "## DEBUG: 4. Add error to neuron \n",
      "## DEBUG: 5. Move s1 and neighbors towards B \n",
      "## DEBUG: 6. reset s1 and s2 age \n",
      "## DEBUG: 7. remove old edges \n",
      "## DEBUG: 8. Insert new neuron \n",
      "## DEBUG: 9. Decrease system error \n",
      "## DEBUG: \n",
      "## DEBUG: \n",
      "## DEBUG: Attemping to plot... \n"
     ]
    },
    {
     "name": "stderr",
     "output_type": "stream",
     "text": [
      " 95%|█████████████████████████████████████████████████████████████████████████████████████████████████████████▋     | 952/1000 [02:49<00:34,  1.39it/s]"
     ]
    },
    {
     "name": "stdout",
     "output_type": "stream",
     "text": [
      "## DEBUG: 1. Pick input signal P(B) \n",
      "## DEBUG: 2. Find two nearest units \n",
      "## DEBUG: Two nearest points: min_dist_1: 1.0120667123594447 min_dist_2: 1.8627955419229782 \n",
      "## DEBUG: 3. Incremement Age of all edges from s_1 \n",
      "## DEBUG: 4. Add error to neuron \n",
      "## DEBUG: 5. Move s1 and neighbors towards B \n",
      "## DEBUG: 6. reset s1 and s2 age \n",
      "## DEBUG: 7. remove old edges \n",
      "## DEBUG: 8. Insert new neuron \n",
      "## DEBUG: 9. Decrease system error \n",
      "## DEBUG: \n",
      "## DEBUG: \n",
      "## DEBUG: Attemping to plot... \n"
     ]
    },
    {
     "name": "stderr",
     "output_type": "stream",
     "text": [
      "\r",
      " 95%|█████████████████████████████████████████████████████████████████████████████████████████████████████████▊     | 953/1000 [02:49<00:26,  1.75it/s]"
     ]
    },
    {
     "name": "stdout",
     "output_type": "stream",
     "text": [
      "## DEBUG: 1. Pick input signal P(B) \n",
      "## DEBUG: 2. Find two nearest units \n",
      "## DEBUG: Two nearest points: min_dist_1: 0.28686124928331713 min_dist_2: 0.5724319602695336 \n",
      "## DEBUG: 3. Incremement Age of all edges from s_1 \n",
      "## DEBUG: 4. Add error to neuron \n",
      "## DEBUG: 5. Move s1 and neighbors towards B \n",
      "## DEBUG: 6. reset s1 and s2 age \n",
      "## DEBUG: 7. remove old edges \n",
      "## DEBUG: 8. Insert new neuron \n",
      "## DEBUG: 9. Decrease system error \n",
      "## DEBUG: \n",
      "## DEBUG: \n",
      "## DEBUG: Attemping to plot... \n",
      "## DEBUG: 1. Pick input signal P(B) \n",
      "## DEBUG: 2. Find two nearest units \n",
      "## DEBUG: Two nearest points: min_dist_1: 0.0980988150036491 min_dist_2: 0.4224865373770531 \n",
      "## DEBUG: 3. Incremement Age of all edges from s_1 \n",
      "## DEBUG: 4. Add error to neuron \n",
      "## DEBUG: 5. Move s1 and neighbors towards B \n",
      "## DEBUG: 6. reset s1 and s2 age \n",
      "## DEBUG: 7. remove old edges \n",
      "## DEBUG: 8. Insert new neuron \n",
      "## DEBUG: 9. Decrease system error \n",
      "## DEBUG: \n",
      "## DEBUG: \n",
      "## DEBUG: Attemping to plot... \n"
     ]
    },
    {
     "name": "stderr",
     "output_type": "stream",
     "text": [
      "\r",
      " 95%|█████████████████████████████████████████████████████████████████████████████████████████████████████████▉     | 954/1000 [02:50<00:21,  2.15it/s]"
     ]
    },
    {
     "name": "stdout",
     "output_type": "stream",
     "text": [
      "## DEBUG: 1. Pick input signal P(B) \n",
      "## DEBUG: 2. Find two nearest units \n",
      "## DEBUG: Two nearest points: min_dist_1: 0.24999410400002298 min_dist_2: 0.8646719218874597 \n",
      "## DEBUG: 3. Incremement Age of all edges from s_1 \n",
      "## DEBUG: 4. Add error to neuron \n",
      "## DEBUG: 5. Move s1 and neighbors towards B \n",
      "## DEBUG: 6. reset s1 and s2 age \n",
      "## DEBUG: 7. remove old edges \n",
      "## DEBUG: 8. Insert new neuron \n",
      "## DEBUG: 9. Decrease system error \n",
      "## DEBUG: \n",
      "## DEBUG: \n",
      "## DEBUG: Attemping to plot... \n"
     ]
    },
    {
     "name": "stderr",
     "output_type": "stream",
     "text": [
      "\r",
      " 96%|██████████████████████████████████████████████████████████████████████████████████████████████████████████     | 955/1000 [02:50<00:17,  2.55it/s]"
     ]
    },
    {
     "name": "stdout",
     "output_type": "stream",
     "text": [
      "## DEBUG: 1. Pick input signal P(B) \n",
      "## DEBUG: 2. Find two nearest units \n",
      "## DEBUG: Two nearest points: min_dist_1: 0.5644327580933223 min_dist_2: 0.6560803524143133 \n",
      "## DEBUG: 3. Incremement Age of all edges from s_1 \n",
      "## DEBUG: 4. Add error to neuron \n",
      "## DEBUG: 5. Move s1 and neighbors towards B \n",
      "## DEBUG: 6. reset s1 and s2 age \n",
      "## DEBUG: 7. remove old edges \n",
      "## DEBUG: 8. Insert new neuron \n",
      "## DEBUG: 9. Decrease system error \n",
      "## DEBUG: \n",
      "## DEBUG: \n",
      "## DEBUG: Attemping to plot... \n"
     ]
    },
    {
     "name": "stderr",
     "output_type": "stream",
     "text": [
      "\r",
      " 96%|██████████████████████████████████████████████████████████████████████████████████████████████████████████     | 956/1000 [02:50<00:14,  2.93it/s]"
     ]
    },
    {
     "name": "stdout",
     "output_type": "stream",
     "text": [
      "## DEBUG: 1. Pick input signal P(B) \n",
      "## DEBUG: 2. Find two nearest units \n",
      "## DEBUG: Two nearest points: min_dist_1: 0.6681038955549208 min_dist_2: 0.9763212137741366 \n",
      "## DEBUG: 3. Incremement Age of all edges from s_1 \n",
      "## DEBUG: 4. Add error to neuron \n",
      "## DEBUG: 5. Move s1 and neighbors towards B \n",
      "## DEBUG: 6. reset s1 and s2 age \n",
      "## DEBUG: 7. remove old edges \n",
      "## DEBUG: 8. Insert new neuron \n",
      "## DEBUG: 9. Decrease system error \n",
      "## DEBUG: \n",
      "## DEBUG: \n",
      "## DEBUG: Attemping to plot... \n"
     ]
    },
    {
     "name": "stderr",
     "output_type": "stream",
     "text": [
      "\r",
      " 96%|██████████████████████████████████████████████████████████████████████████████████████████████████████████▏    | 957/1000 [02:50<00:13,  3.29it/s]"
     ]
    },
    {
     "name": "stdout",
     "output_type": "stream",
     "text": [
      "## DEBUG: 1. Pick input signal P(B) \n",
      "## DEBUG: 2. Find two nearest units \n",
      "## DEBUG: Two nearest points: min_dist_1: 1.8094116879006603 min_dist_2: 2.016694232655801 \n",
      "## DEBUG: 3. Incremement Age of all edges from s_1 \n",
      "## DEBUG: 4. Add error to neuron \n",
      "## DEBUG: 5. Move s1 and neighbors towards B \n",
      "## DEBUG: 6. reset s1 and s2 age \n",
      "## DEBUG: 7. remove old edges \n",
      "## DEBUG: 8. Insert new neuron \n",
      "## DEBUG: 9. Decrease system error \n",
      "## DEBUG: \n",
      "## DEBUG: \n",
      "## DEBUG: Attemping to plot... \n"
     ]
    },
    {
     "name": "stderr",
     "output_type": "stream",
     "text": [
      "\r",
      " 96%|██████████████████████████████████████████████████████████████████████████████████████████████████████████▎    | 958/1000 [02:51<00:11,  3.59it/s]"
     ]
    },
    {
     "name": "stdout",
     "output_type": "stream",
     "text": [
      "## DEBUG: 1. Pick input signal P(B) \n",
      "## DEBUG: 2. Find two nearest units \n",
      "## DEBUG: Two nearest points: min_dist_1: 0.46684610553011735 min_dist_2: 0.7822150379312741 \n",
      "## DEBUG: 3. Incremement Age of all edges from s_1 \n",
      "## DEBUG: 4. Add error to neuron \n",
      "## DEBUG: 5. Move s1 and neighbors towards B \n",
      "## DEBUG: 6. reset s1 and s2 age \n",
      "## DEBUG: 7. remove old edges \n",
      "## DEBUG: 8. Insert new neuron \n",
      "## DEBUG: 9. Decrease system error \n",
      "## DEBUG: \n",
      "## DEBUG: \n",
      "## DEBUG: Attemping to plot... \n"
     ]
    },
    {
     "name": "stderr",
     "output_type": "stream",
     "text": [
      "\r",
      " 96%|██████████████████████████████████████████████████████████████████████████████████████████████████████████▍    | 959/1000 [02:51<00:10,  3.81it/s]"
     ]
    },
    {
     "name": "stdout",
     "output_type": "stream",
     "text": [
      "## DEBUG: 1. Pick input signal P(B) \n",
      "## DEBUG: 2. Find two nearest units \n",
      "## DEBUG: Two nearest points: min_dist_1: 0.9299710384729034 min_dist_2: 1.3933412819528044 \n",
      "## DEBUG: 3. Incremement Age of all edges from s_1 \n",
      "## DEBUG: 4. Add error to neuron \n",
      "## DEBUG: 5. Move s1 and neighbors towards B \n",
      "## DEBUG: 6. reset s1 and s2 age \n",
      "## DEBUG: 7. remove old edges \n",
      "## DEBUG: 8. Insert new neuron \n",
      "## DEBUG: 9. Decrease system error \n",
      "## DEBUG: \n",
      "## DEBUG: \n",
      "## DEBUG: Attemping to plot... \n"
     ]
    },
    {
     "name": "stderr",
     "output_type": "stream",
     "text": [
      "\r",
      " 96%|██████████████████████████████████████████████████████████████████████████████████████████████████████████▌    | 960/1000 [02:51<00:10,  3.98it/s]"
     ]
    },
    {
     "name": "stdout",
     "output_type": "stream",
     "text": [
      "## DEBUG: 1. Pick input signal P(B) \n",
      "## DEBUG: 2. Find two nearest units \n",
      "## DEBUG: Two nearest points: min_dist_1: 0.32627229894978405 min_dist_2: 0.8977656286615477 \n",
      "## DEBUG: 3. Incremement Age of all edges from s_1 \n",
      "## DEBUG: 4. Add error to neuron \n",
      "## DEBUG: 5. Move s1 and neighbors towards B \n",
      "## DEBUG: 6. reset s1 and s2 age \n",
      "## DEBUG: 7. remove old edges \n",
      "## DEBUG: 8. Insert new neuron \n",
      "## DEBUG: 9. Decrease system error \n",
      "## DEBUG: \n",
      "## DEBUG: \n",
      "## DEBUG: Attemping to plot... \n"
     ]
    },
    {
     "name": "stderr",
     "output_type": "stream",
     "text": [
      "\r",
      " 96%|██████████████████████████████████████████████████████████████████████████████████████████████████████████▋    | 961/1000 [02:51<00:09,  4.12it/s]"
     ]
    },
    {
     "name": "stdout",
     "output_type": "stream",
     "text": [
      "## DEBUG: 1. Pick input signal P(B) \n",
      "## DEBUG: 2. Find two nearest units \n",
      "## DEBUG: Two nearest points: min_dist_1: 0.49461639425933157 min_dist_2: 0.7082758308518142 \n",
      "## DEBUG: 3. Incremement Age of all edges from s_1 \n",
      "## DEBUG: 4. Add error to neuron \n",
      "## DEBUG: 5. Move s1 and neighbors towards B \n",
      "## DEBUG: 6. reset s1 and s2 age \n",
      "## DEBUG: 7. remove old edges \n",
      "## DEBUG: 8. Insert new neuron \n",
      "## DEBUG: 9. Decrease system error \n",
      "## DEBUG: \n",
      "## DEBUG: \n",
      "## DEBUG: Attemping to plot... \n"
     ]
    },
    {
     "name": "stderr",
     "output_type": "stream",
     "text": [
      "\r",
      " 96%|██████████████████████████████████████████████████████████████████████████████████████████████████████████▊    | 962/1000 [02:51<00:08,  4.23it/s]"
     ]
    },
    {
     "name": "stdout",
     "output_type": "stream",
     "text": [
      "## DEBUG: 1. Pick input signal P(B) \n",
      "## DEBUG: 2. Find two nearest units \n",
      "## DEBUG: Two nearest points: min_dist_1: 0.20864603711797725 min_dist_2: 0.969075317153715 \n",
      "## DEBUG: 3. Incremement Age of all edges from s_1 \n",
      "## DEBUG: 4. Add error to neuron \n",
      "## DEBUG: 5. Move s1 and neighbors towards B \n",
      "## DEBUG: 6. reset s1 and s2 age \n",
      "## DEBUG: 7. remove old edges \n",
      "## DEBUG: 8. Insert new neuron \n",
      "## DEBUG: 9. Decrease system error \n",
      "## DEBUG: \n",
      "## DEBUG: \n",
      "## DEBUG: Attemping to plot... \n"
     ]
    },
    {
     "name": "stderr",
     "output_type": "stream",
     "text": [
      "\r",
      " 96%|██████████████████████████████████████████████████████████████████████████████████████████████████████████▉    | 963/1000 [02:52<00:08,  4.29it/s]"
     ]
    },
    {
     "name": "stdout",
     "output_type": "stream",
     "text": [
      "## DEBUG: 1. Pick input signal P(B) \n",
      "## DEBUG: 2. Find two nearest units \n",
      "## DEBUG: Two nearest points: min_dist_1: 0.7439713522286698 min_dist_2: 1.2837134508127637 \n",
      "## DEBUG: 3. Incremement Age of all edges from s_1 \n",
      "## DEBUG: 4. Add error to neuron \n",
      "## DEBUG: 5. Move s1 and neighbors towards B \n",
      "## DEBUG: 6. reset s1 and s2 age \n",
      "## DEBUG: 7. remove old edges \n",
      "## DEBUG: 8. Insert new neuron \n",
      "## DEBUG: 9. Decrease system error \n",
      "## DEBUG: \n",
      "## DEBUG: \n",
      "## DEBUG: Attemping to plot... \n"
     ]
    },
    {
     "name": "stderr",
     "output_type": "stream",
     "text": [
      "\r",
      " 96%|███████████████████████████████████████████████████████████████████████████████████████████████████████████    | 964/1000 [02:52<00:08,  4.34it/s]"
     ]
    },
    {
     "name": "stdout",
     "output_type": "stream",
     "text": [
      "## DEBUG: 1. Pick input signal P(B) \n",
      "## DEBUG: 2. Find two nearest units \n",
      "## DEBUG: Two nearest points: min_dist_1: 0.35750876414676797 min_dist_2: 0.7352525868778875 \n",
      "## DEBUG: 3. Incremement Age of all edges from s_1 \n",
      "## DEBUG: 4. Add error to neuron \n",
      "## DEBUG: 5. Move s1 and neighbors towards B \n",
      "## DEBUG: 6. reset s1 and s2 age \n",
      "## DEBUG: 7. remove old edges \n",
      "## DEBUG: 8. Insert new neuron \n",
      "## DEBUG: 9. Decrease system error \n",
      "## DEBUG: \n",
      "## DEBUG: \n",
      "## DEBUG: Attemping to plot... \n"
     ]
    },
    {
     "name": "stderr",
     "output_type": "stream",
     "text": [
      "\r",
      " 96%|███████████████████████████████████████████████████████████████████████████████████████████████████████████    | 965/1000 [02:52<00:07,  4.39it/s]"
     ]
    },
    {
     "name": "stdout",
     "output_type": "stream",
     "text": [
      "## DEBUG: 1. Pick input signal P(B) \n",
      "## DEBUG: 2. Find two nearest units \n",
      "## DEBUG: Two nearest points: min_dist_1: 0.5848034720368321 min_dist_2: 1.0860971046682262 \n",
      "## DEBUG: 3. Incremement Age of all edges from s_1 \n",
      "## DEBUG: 4. Add error to neuron \n",
      "## DEBUG: 5. Move s1 and neighbors towards B \n",
      "## DEBUG: 6. reset s1 and s2 age \n",
      "## DEBUG: 7. remove old edges \n",
      "## DEBUG: 8. Insert new neuron \n",
      "## DEBUG: 9. Decrease system error \n",
      "## DEBUG: \n",
      "## DEBUG: \n",
      "## DEBUG: Attemping to plot... \n"
     ]
    },
    {
     "name": "stderr",
     "output_type": "stream",
     "text": [
      " 97%|███████████████████████████████████████████████████████████████████████████████████████████████████████████▎   | 967/1000 [02:53<00:07,  4.43it/s]"
     ]
    },
    {
     "name": "stdout",
     "output_type": "stream",
     "text": [
      "## DEBUG: 1. Pick input signal P(B) \n",
      "## DEBUG: 2. Find two nearest units \n",
      "## DEBUG: Two nearest points: min_dist_1: 0.8587082170523016 min_dist_2: 0.878532368950416 \n",
      "## DEBUG: 3. Incremement Age of all edges from s_1 \n",
      "## DEBUG: 4. Add error to neuron \n",
      "## DEBUG: 5. Move s1 and neighbors towards B \n",
      "## DEBUG: 6. reset s1 and s2 age \n",
      "## DEBUG: 7. remove old edges \n",
      "## DEBUG: 8. Insert new neuron \n",
      "## DEBUG: 9. Decrease system error \n",
      "## DEBUG: \n",
      "## DEBUG: \n",
      "## DEBUG: Attemping to plot... \n",
      "## DEBUG: 1. Pick input signal P(B) \n",
      "## DEBUG: 2. Find two nearest units \n",
      "## DEBUG: Two nearest points: min_dist_1: 0.4940951626121885 min_dist_2: 0.560863662468523 \n",
      "## DEBUG: 3. Incremement Age of all edges from s_1 \n",
      "## DEBUG: 4. Add error to neuron \n",
      "## DEBUG: 5. Move s1 and neighbors towards B \n",
      "## DEBUG: 6. reset s1 and s2 age \n",
      "## DEBUG: 7. remove old edges \n",
      "## DEBUG: 8. Insert new neuron \n",
      "## DEBUG: 9. Decrease system error \n",
      "## DEBUG: \n",
      "## DEBUG: \n",
      "## DEBUG: Attemping to plot... \n"
     ]
    },
    {
     "name": "stderr",
     "output_type": "stream",
     "text": [
      "\r",
      " 97%|███████████████████████████████████████████████████████████████████████████████████████████████████████████▍   | 968/1000 [02:53<00:07,  4.43it/s]"
     ]
    },
    {
     "name": "stdout",
     "output_type": "stream",
     "text": [
      "## DEBUG: 1. Pick input signal P(B) \n",
      "## DEBUG: 2. Find two nearest units \n",
      "## DEBUG: Two nearest points: min_dist_1: 0.20450454817701566 min_dist_2: 0.390671935883885 \n",
      "## DEBUG: 3. Incremement Age of all edges from s_1 \n",
      "## DEBUG: 4. Add error to neuron \n",
      "## DEBUG: 5. Move s1 and neighbors towards B \n",
      "## DEBUG: 6. reset s1 and s2 age \n",
      "## DEBUG: 7. remove old edges \n",
      "## DEBUG: 8. Insert new neuron \n",
      "## DEBUG: 9. Decrease system error \n",
      "## DEBUG: \n",
      "## DEBUG: \n",
      "## DEBUG: Attemping to plot... \n"
     ]
    },
    {
     "name": "stderr",
     "output_type": "stream",
     "text": [
      "\r",
      " 97%|███████████████████████████████████████████████████████████████████████████████████████████████████████████▌   | 969/1000 [02:53<00:06,  4.44it/s]"
     ]
    },
    {
     "name": "stdout",
     "output_type": "stream",
     "text": [
      "## DEBUG: 1. Pick input signal P(B) \n",
      "## DEBUG: 2. Find two nearest units \n",
      "## DEBUG: Two nearest points: min_dist_1: 0.4992483136506208 min_dist_2: 1.1317519627121075 \n",
      "## DEBUG: 3. Incremement Age of all edges from s_1 \n",
      "## DEBUG: 4. Add error to neuron \n",
      "## DEBUG: 5. Move s1 and neighbors towards B \n",
      "## DEBUG: 6. reset s1 and s2 age \n",
      "## DEBUG: 7. remove old edges \n",
      "## DEBUG: 8. Insert new neuron \n",
      "## DEBUG: 9. Decrease system error \n",
      "## DEBUG: \n",
      "## DEBUG: \n",
      "## DEBUG: Attemping to plot... \n"
     ]
    },
    {
     "name": "stderr",
     "output_type": "stream",
     "text": [
      "\r",
      " 97%|███████████████████████████████████████████████████████████████████████████████████████████████████████████▋   | 970/1000 [02:53<00:06,  4.45it/s]"
     ]
    },
    {
     "name": "stdout",
     "output_type": "stream",
     "text": [
      "## DEBUG: 1. Pick input signal P(B) \n",
      "## DEBUG: 2. Find two nearest units \n",
      "## DEBUG: Two nearest points: min_dist_1: 0.7711889589965905 min_dist_2: 0.8717785399488156 \n",
      "## DEBUG: 3. Incremement Age of all edges from s_1 \n",
      "## DEBUG: 4. Add error to neuron \n",
      "## DEBUG: 5. Move s1 and neighbors towards B \n",
      "## DEBUG: 6. reset s1 and s2 age \n",
      "## DEBUG: 7. remove old edges \n",
      "## DEBUG: 8. Insert new neuron \n",
      "## DEBUG: 9. Decrease system error \n",
      "## DEBUG: \n",
      "## DEBUG: \n",
      "## DEBUG: Attemping to plot... \n"
     ]
    },
    {
     "name": "stderr",
     "output_type": "stream",
     "text": [
      "\r",
      " 97%|███████████████████████████████████████████████████████████████████████████████████████████████████████████▊   | 971/1000 [02:53<00:06,  4.39it/s]"
     ]
    },
    {
     "name": "stdout",
     "output_type": "stream",
     "text": [
      "## DEBUG: 1. Pick input signal P(B) \n",
      "## DEBUG: 2. Find two nearest units \n",
      "## DEBUG: Two nearest points: min_dist_1: 0.23510273405298057 min_dist_2: 0.7901551043695331 \n",
      "## DEBUG: 3. Incremement Age of all edges from s_1 \n",
      "## DEBUG: 4. Add error to neuron \n",
      "## DEBUG: 5. Move s1 and neighbors towards B \n",
      "## DEBUG: 6. reset s1 and s2 age \n",
      "## DEBUG: 7. remove old edges \n",
      "## DEBUG: 8. Insert new neuron \n",
      "## DEBUG: 9. Decrease system error \n",
      "## DEBUG: \n",
      "## DEBUG: \n",
      "## DEBUG: Attemping to plot... \n"
     ]
    },
    {
     "name": "stderr",
     "output_type": "stream",
     "text": [
      "\r",
      " 97%|███████████████████████████████████████████████████████████████████████████████████████████████████████████▉   | 972/1000 [02:54<00:06,  4.39it/s]"
     ]
    },
    {
     "name": "stdout",
     "output_type": "stream",
     "text": [
      "## DEBUG: 1. Pick input signal P(B) \n",
      "## DEBUG: 2. Find two nearest units \n",
      "## DEBUG: Two nearest points: min_dist_1: 1.3608717604578302 min_dist_2: 1.4133038162632379 \n",
      "## DEBUG: 3. Incremement Age of all edges from s_1 \n",
      "## DEBUG: 4. Add error to neuron \n",
      "## DEBUG: 5. Move s1 and neighbors towards B \n",
      "## DEBUG: 6. reset s1 and s2 age \n",
      "## DEBUG: 7. remove old edges \n",
      "## DEBUG: 8. Insert new neuron \n",
      "## DEBUG: 9. Decrease system error \n",
      "## DEBUG: \n",
      "## DEBUG: \n",
      "## DEBUG: Attemping to plot... \n"
     ]
    },
    {
     "name": "stderr",
     "output_type": "stream",
     "text": [
      "\r",
      " 97%|████████████████████████████████████████████████████████████████████████████████████████████████████████████   | 973/1000 [02:54<00:06,  4.41it/s]"
     ]
    },
    {
     "name": "stdout",
     "output_type": "stream",
     "text": [
      "## DEBUG: 1. Pick input signal P(B) \n",
      "## DEBUG: 2. Find two nearest units \n",
      "## DEBUG: Two nearest points: min_dist_1: 0.8267815092389034 min_dist_2: 1.1420054223872838 \n",
      "## DEBUG: 3. Incremement Age of all edges from s_1 \n",
      "## DEBUG: 4. Add error to neuron \n",
      "## DEBUG: 5. Move s1 and neighbors towards B \n",
      "## DEBUG: 6. reset s1 and s2 age \n",
      "## DEBUG: 7. remove old edges \n",
      "## DEBUG: 8. Insert new neuron \n",
      "## DEBUG: 9. Decrease system error \n",
      "## DEBUG: \n",
      "## DEBUG: \n",
      "## DEBUG: Attemping to plot... \n"
     ]
    },
    {
     "name": "stderr",
     "output_type": "stream",
     "text": [
      "\r",
      " 97%|████████████████████████████████████████████████████████████████████████████████████████████████████████████   | 974/1000 [02:54<00:05,  4.43it/s]"
     ]
    },
    {
     "name": "stdout",
     "output_type": "stream",
     "text": [
      "## DEBUG: 1. Pick input signal P(B) \n",
      "## DEBUG: 2. Find two nearest units \n",
      "## DEBUG: Two nearest points: min_dist_1: 0.7785824929682014 min_dist_2: 1.1235841968863116 \n",
      "## DEBUG: 3. Incremement Age of all edges from s_1 \n",
      "## DEBUG: 4. Add error to neuron \n",
      "## DEBUG: 5. Move s1 and neighbors towards B \n",
      "## DEBUG: 6. reset s1 and s2 age \n",
      "## DEBUG: 7. remove old edges \n",
      "## DEBUG: 8. Insert new neuron \n",
      "## DEBUG: 9. Decrease system error \n",
      "## DEBUG: \n",
      "## DEBUG: \n",
      "## DEBUG: Attemping to plot... \n"
     ]
    },
    {
     "name": "stderr",
     "output_type": "stream",
     "text": [
      "\r",
      " 98%|████████████████████████████████████████████████████████████████████████████████████████████████████████████▏  | 975/1000 [02:54<00:05,  4.45it/s]"
     ]
    },
    {
     "name": "stdout",
     "output_type": "stream",
     "text": [
      "## DEBUG: 1. Pick input signal P(B) \n",
      "## DEBUG: 2. Find two nearest units \n",
      "## DEBUG: Two nearest points: min_dist_1: 0.6563138654127224 min_dist_2: 0.7681896116681475 \n",
      "## DEBUG: 3. Incremement Age of all edges from s_1 \n",
      "## DEBUG: 4. Add error to neuron \n",
      "## DEBUG: 5. Move s1 and neighbors towards B \n",
      "## DEBUG: 6. reset s1 and s2 age \n",
      "## DEBUG: 7. remove old edges \n",
      "## DEBUG: 8. Insert new neuron \n",
      "## DEBUG: 9. Decrease system error \n",
      "## DEBUG: \n",
      "## DEBUG: \n",
      "## DEBUG: Attemping to plot... \n"
     ]
    },
    {
     "name": "stderr",
     "output_type": "stream",
     "text": [
      "\r",
      " 98%|████████████████████████████████████████████████████████████████████████████████████████████████████████████▎  | 976/1000 [02:55<00:05,  4.46it/s]"
     ]
    },
    {
     "name": "stdout",
     "output_type": "stream",
     "text": [
      "## DEBUG: 1. Pick input signal P(B) \n",
      "## DEBUG: 2. Find two nearest units \n",
      "## DEBUG: Two nearest points: min_dist_1: 0.3924662849676146 min_dist_2: 0.7469648774190386 \n",
      "## DEBUG: 3. Incremement Age of all edges from s_1 \n",
      "## DEBUG: 4. Add error to neuron \n",
      "## DEBUG: 5. Move s1 and neighbors towards B \n",
      "## DEBUG: 6. reset s1 and s2 age \n",
      "## DEBUG: 7. remove old edges \n",
      "## DEBUG: 8. Insert new neuron \n",
      "## DEBUG: 9. Decrease system error \n",
      "## DEBUG: \n",
      "## DEBUG: \n",
      "## DEBUG: Attemping to plot... \n"
     ]
    },
    {
     "name": "stderr",
     "output_type": "stream",
     "text": [
      "\r",
      " 98%|████████████████████████████████████████████████████████████████████████████████████████████████████████████▍  | 977/1000 [02:55<00:05,  4.46it/s]"
     ]
    },
    {
     "name": "stdout",
     "output_type": "stream",
     "text": [
      "## DEBUG: 1. Pick input signal P(B) \n",
      "## DEBUG: 2. Find two nearest units \n",
      "## DEBUG: Two nearest points: min_dist_1: 1.143376350116107 min_dist_2: 1.159752469578882 \n",
      "## DEBUG: 3. Incremement Age of all edges from s_1 \n",
      "## DEBUG: 4. Add error to neuron \n",
      "## DEBUG: 5. Move s1 and neighbors towards B \n",
      "## DEBUG: 6. reset s1 and s2 age \n",
      "## DEBUG: 7. remove old edges \n",
      "## DEBUG: 8. Insert new neuron \n",
      "## DEBUG: 9. Decrease system error \n",
      "## DEBUG: \n",
      "## DEBUG: \n",
      "## DEBUG: Attemping to plot... \n"
     ]
    },
    {
     "name": "stderr",
     "output_type": "stream",
     "text": [
      "\r",
      " 98%|████████████████████████████████████████████████████████████████████████████████████████████████████████████▌  | 978/1000 [02:55<00:04,  4.46it/s]"
     ]
    },
    {
     "name": "stdout",
     "output_type": "stream",
     "text": [
      "## DEBUG: 1. Pick input signal P(B) \n",
      "## DEBUG: 2. Find two nearest units \n",
      "## DEBUG: Two nearest points: min_dist_1: 0.9503965861198449 min_dist_2: 1.2865356659255405 \n",
      "## DEBUG: 3. Incremement Age of all edges from s_1 \n",
      "## DEBUG: 4. Add error to neuron \n",
      "## DEBUG: 5. Move s1 and neighbors towards B \n",
      "## DEBUG: 6. reset s1 and s2 age \n",
      "## DEBUG: 7. remove old edges \n",
      "## DEBUG: 8. Insert new neuron \n",
      "## DEBUG: 9. Decrease system error \n",
      "## DEBUG: \n",
      "## DEBUG: \n",
      "## DEBUG: Attemping to plot... \n"
     ]
    },
    {
     "name": "stderr",
     "output_type": "stream",
     "text": [
      "\r",
      " 98%|████████████████████████████████████████████████████████████████████████████████████████████████████████████▋  | 979/1000 [02:55<00:04,  4.46it/s]"
     ]
    },
    {
     "name": "stdout",
     "output_type": "stream",
     "text": [
      "## DEBUG: 1. Pick input signal P(B) \n",
      "## DEBUG: 2. Find two nearest units \n",
      "## DEBUG: Two nearest points: min_dist_1: 0.3897726198370647 min_dist_2: 0.6795258122780622 \n",
      "## DEBUG: 3. Incremement Age of all edges from s_1 \n",
      "## DEBUG: 4. Add error to neuron \n",
      "## DEBUG: 5. Move s1 and neighbors towards B \n",
      "## DEBUG: 6. reset s1 and s2 age \n",
      "## DEBUG: 7. remove old edges \n",
      "## DEBUG: 8. Insert new neuron \n",
      "## DEBUG: 9. Decrease system error \n",
      "## DEBUG: \n",
      "## DEBUG: \n",
      "## DEBUG: Attemping to plot... \n"
     ]
    },
    {
     "name": "stderr",
     "output_type": "stream",
     "text": [
      "\r",
      " 98%|████████████████████████████████████████████████████████████████████████████████████████████████████████████▊  | 980/1000 [02:56<00:04,  4.45it/s]"
     ]
    },
    {
     "name": "stdout",
     "output_type": "stream",
     "text": [
      "## DEBUG: 1. Pick input signal P(B) \n",
      "## DEBUG: 2. Find two nearest units \n",
      "## DEBUG: Two nearest points: min_dist_1: 0.9125507232850731 min_dist_2: 1.408689306784887 \n",
      "## DEBUG: 3. Incremement Age of all edges from s_1 \n",
      "## DEBUG: 4. Add error to neuron \n",
      "## DEBUG: 5. Move s1 and neighbors towards B \n",
      "## DEBUG: 6. reset s1 and s2 age \n",
      "## DEBUG: 7. remove old edges \n",
      "## DEBUG: 8. Insert new neuron \n",
      "## DEBUG: 9. Decrease system error \n",
      "## DEBUG: \n",
      "## DEBUG: \n",
      "## DEBUG: Attemping to plot... \n"
     ]
    },
    {
     "name": "stderr",
     "output_type": "stream",
     "text": [
      "\r",
      " 98%|████████████████████████████████████████████████████████████████████████████████████████████████████████████▉  | 981/1000 [02:56<00:04,  4.46it/s]"
     ]
    },
    {
     "name": "stdout",
     "output_type": "stream",
     "text": [
      "## DEBUG: 1. Pick input signal P(B) \n",
      "## DEBUG: 2. Find two nearest units \n",
      "## DEBUG: Two nearest points: min_dist_1: 0.5533835792565545 min_dist_2: 0.7039791182010203 \n",
      "## DEBUG: 3. Incremement Age of all edges from s_1 \n",
      "## DEBUG: 4. Add error to neuron \n",
      "## DEBUG: 5. Move s1 and neighbors towards B \n",
      "## DEBUG: 6. reset s1 and s2 age \n",
      "## DEBUG: 7. remove old edges \n",
      "## DEBUG: 8. Insert new neuron \n",
      "## DEBUG: 9. Decrease system error \n",
      "## DEBUG: \n",
      "## DEBUG: \n",
      "## DEBUG: Attemping to plot... \n"
     ]
    },
    {
     "name": "stderr",
     "output_type": "stream",
     "text": [
      "\r",
      " 98%|█████████████████████████████████████████████████████████████████████████████████████████████████████████████  | 982/1000 [02:56<00:04,  4.41it/s]"
     ]
    },
    {
     "name": "stdout",
     "output_type": "stream",
     "text": [
      "## DEBUG: 1. Pick input signal P(B) \n",
      "## DEBUG: 2. Find two nearest units \n",
      "## DEBUG: Two nearest points: min_dist_1: 0.22503721664585782 min_dist_2: 0.8605263292449751 \n",
      "## DEBUG: 3. Incremement Age of all edges from s_1 \n",
      "## DEBUG: 4. Add error to neuron \n",
      "## DEBUG: 5. Move s1 and neighbors towards B \n",
      "## DEBUG: 6. reset s1 and s2 age \n",
      "## DEBUG: 7. remove old edges \n",
      "## DEBUG: 8. Insert new neuron \n",
      "## DEBUG: 9. Decrease system error \n",
      "## DEBUG: \n",
      "## DEBUG: \n",
      "## DEBUG: Attemping to plot... \n"
     ]
    },
    {
     "name": "stderr",
     "output_type": "stream",
     "text": [
      "\r",
      " 98%|█████████████████████████████████████████████████████████████████████████████████████████████████████████████  | 983/1000 [02:56<00:03,  4.43it/s]"
     ]
    },
    {
     "name": "stdout",
     "output_type": "stream",
     "text": [
      "## DEBUG: 1. Pick input signal P(B) \n",
      "## DEBUG: 2. Find two nearest units \n",
      "## DEBUG: Two nearest points: min_dist_1: 0.2758013082148058 min_dist_2: 0.8621121567352699 \n",
      "## DEBUG: 3. Incremement Age of all edges from s_1 \n",
      "## DEBUG: 4. Add error to neuron \n",
      "## DEBUG: 5. Move s1 and neighbors towards B \n",
      "## DEBUG: 6. reset s1 and s2 age \n",
      "## DEBUG: 7. remove old edges \n",
      "## DEBUG: 8. Insert new neuron \n",
      "## DEBUG: 9. Decrease system error \n",
      "## DEBUG: \n",
      "## DEBUG: \n",
      "## DEBUG: Attemping to plot... \n"
     ]
    },
    {
     "name": "stderr",
     "output_type": "stream",
     "text": [
      "\r",
      " 98%|█████████████████████████████████████████████████████████████████████████████████████████████████████████████▏ | 984/1000 [02:56<00:03,  4.44it/s]"
     ]
    },
    {
     "name": "stdout",
     "output_type": "stream",
     "text": [
      "## DEBUG: 1. Pick input signal P(B) \n",
      "## DEBUG: 2. Find two nearest units \n",
      "## DEBUG: Two nearest points: min_dist_1: 1.9692921607934661 min_dist_2: 1.987198545114401 \n",
      "## DEBUG: 3. Incremement Age of all edges from s_1 \n",
      "## DEBUG: 4. Add error to neuron \n",
      "## DEBUG: 5. Move s1 and neighbors towards B \n",
      "## DEBUG: 6. reset s1 and s2 age \n",
      "## DEBUG: 7. remove old edges \n",
      "## DEBUG: 8. Insert new neuron \n",
      "## DEBUG: 9. Decrease system error \n",
      "## DEBUG: \n",
      "## DEBUG: \n",
      "## DEBUG: Attemping to plot... \n"
     ]
    },
    {
     "name": "stderr",
     "output_type": "stream",
     "text": [
      "\r",
      " 98%|█████████████████████████████████████████████████████████████████████████████████████████████████████████████▎ | 985/1000 [02:57<00:03,  4.46it/s]"
     ]
    },
    {
     "name": "stdout",
     "output_type": "stream",
     "text": [
      "## DEBUG: 1. Pick input signal P(B) \n",
      "## DEBUG: 2. Find two nearest units \n",
      "## DEBUG: Two nearest points: min_dist_1: 0.6818690061424354 min_dist_2: 1.4574335130698532 \n",
      "## DEBUG: 3. Incremement Age of all edges from s_1 \n",
      "## DEBUG: 4. Add error to neuron \n",
      "## DEBUG: 5. Move s1 and neighbors towards B \n",
      "## DEBUG: 6. reset s1 and s2 age \n",
      "## DEBUG: 7. remove old edges \n",
      "## DEBUG: 8. Insert new neuron \n",
      "## DEBUG: 9. Decrease system error \n",
      "## DEBUG: \n",
      "## DEBUG: \n",
      "## DEBUG: Attemping to plot... \n"
     ]
    },
    {
     "name": "stderr",
     "output_type": "stream",
     "text": [
      "\r",
      " 99%|█████████████████████████████████████████████████████████████████████████████████████████████████████████████▍ | 986/1000 [02:57<00:03,  4.43it/s]"
     ]
    },
    {
     "name": "stdout",
     "output_type": "stream",
     "text": [
      "## DEBUG: 1. Pick input signal P(B) \n",
      "## DEBUG: 2. Find two nearest units \n",
      "## DEBUG: Two nearest points: min_dist_1: 0.8290357060579185 min_dist_2: 0.8746227231512053 \n",
      "## DEBUG: 3. Incremement Age of all edges from s_1 \n",
      "## DEBUG: 4. Add error to neuron \n",
      "## DEBUG: 5. Move s1 and neighbors towards B \n",
      "## DEBUG: 6. reset s1 and s2 age \n",
      "## DEBUG: 7. remove old edges \n",
      "## DEBUG: 8. Insert new neuron \n",
      "## DEBUG: 9. Decrease system error \n",
      "## DEBUG: \n",
      "## DEBUG: \n",
      "## DEBUG: Attemping to plot... \n"
     ]
    },
    {
     "name": "stderr",
     "output_type": "stream",
     "text": [
      "\r",
      " 99%|█████████████████████████████████████████████████████████████████████████████████████████████████████████████▌ | 987/1000 [02:57<00:02,  4.43it/s]"
     ]
    },
    {
     "name": "stdout",
     "output_type": "stream",
     "text": [
      "## DEBUG: 1. Pick input signal P(B) \n",
      "## DEBUG: 2. Find two nearest units \n",
      "## DEBUG: Two nearest points: min_dist_1: 1.5766027593406602 min_dist_2: 1.584705969317966 \n",
      "## DEBUG: 3. Incremement Age of all edges from s_1 \n",
      "## DEBUG: 4. Add error to neuron \n",
      "## DEBUG: 5. Move s1 and neighbors towards B \n",
      "## DEBUG: 6. reset s1 and s2 age \n",
      "## DEBUG: 7. remove old edges \n",
      "## DEBUG: 8. Insert new neuron \n",
      "## DEBUG: 9. Decrease system error \n",
      "## DEBUG: \n",
      "## DEBUG: \n",
      "## DEBUG: Attemping to plot... \n"
     ]
    },
    {
     "name": "stderr",
     "output_type": "stream",
     "text": [
      "\r",
      " 99%|█████████████████████████████████████████████████████████████████████████████████████████████████████████████▋ | 988/1000 [02:57<00:02,  4.43it/s]"
     ]
    },
    {
     "name": "stdout",
     "output_type": "stream",
     "text": [
      "## DEBUG: 1. Pick input signal P(B) \n",
      "## DEBUG: 2. Find two nearest units \n",
      "## DEBUG: Two nearest points: min_dist_1: 0.18778143340617917 min_dist_2: 0.9681062418365616 \n",
      "## DEBUG: 3. Incremement Age of all edges from s_1 \n",
      "## DEBUG: 4. Add error to neuron \n",
      "## DEBUG: 5. Move s1 and neighbors towards B \n",
      "## DEBUG: 6. reset s1 and s2 age \n",
      "## DEBUG: 7. remove old edges \n",
      "## DEBUG: 8. Insert new neuron \n",
      "## DEBUG: 9. Decrease system error \n",
      "## DEBUG: \n",
      "## DEBUG: \n",
      "## DEBUG: Attemping to plot... \n"
     ]
    },
    {
     "name": "stderr",
     "output_type": "stream",
     "text": [
      " 99%|█████████████████████████████████████████████████████████████████████████████████████████████████████████████▉ | 990/1000 [02:58<00:02,  4.42it/s]"
     ]
    },
    {
     "name": "stdout",
     "output_type": "stream",
     "text": [
      "## DEBUG: 1. Pick input signal P(B) \n",
      "## DEBUG: 2. Find two nearest units \n",
      "## DEBUG: Two nearest points: min_dist_1: 0.4240534250222795 min_dist_2: 0.6621627191008719 \n",
      "## DEBUG: 3. Incremement Age of all edges from s_1 \n",
      "## DEBUG: 4. Add error to neuron \n",
      "## DEBUG: 5. Move s1 and neighbors towards B \n",
      "## DEBUG: 6. reset s1 and s2 age \n",
      "## DEBUG: 7. remove old edges \n",
      "## DEBUG: 8. Insert new neuron \n",
      "## DEBUG: 9. Decrease system error \n",
      "## DEBUG: \n",
      "## DEBUG: \n",
      "## DEBUG: Attemping to plot... \n",
      "## DEBUG: 1. Pick input signal P(B) \n",
      "## DEBUG: 2. Find two nearest units \n",
      "## DEBUG: Two nearest points: min_dist_1: 2.581241055572972 min_dist_2: 2.7767275008452907 \n",
      "## DEBUG: 3. Incremement Age of all edges from s_1 \n",
      "## DEBUG: 4. Add error to neuron \n",
      "## DEBUG: 5. Move s1 and neighbors towards B \n",
      "## DEBUG: 6. reset s1 and s2 age \n",
      "## DEBUG: 7. remove old edges \n",
      "## DEBUG: 8. Insert new neuron \n",
      "## DEBUG: 9. Decrease system error \n",
      "## DEBUG: \n",
      "## DEBUG: \n",
      "## DEBUG: Attemping to plot... \n"
     ]
    },
    {
     "name": "stderr",
     "output_type": "stream",
     "text": [
      "\r",
      " 99%|██████████████████████████████████████████████████████████████████████████████████████████████████████████████ | 991/1000 [02:58<00:02,  4.36it/s]"
     ]
    },
    {
     "name": "stdout",
     "output_type": "stream",
     "text": [
      "## DEBUG: 1. Pick input signal P(B) \n",
      "## DEBUG: 2. Find two nearest units \n",
      "## DEBUG: Two nearest points: min_dist_1: 0.18285968510760375 min_dist_2: 0.4934936347867329 \n",
      "## DEBUG: 3. Incremement Age of all edges from s_1 \n",
      "## DEBUG: 4. Add error to neuron \n",
      "## DEBUG: 5. Move s1 and neighbors towards B \n",
      "## DEBUG: 6. reset s1 and s2 age \n",
      "## DEBUG: 7. remove old edges \n",
      "## DEBUG: 8. Insert new neuron \n",
      "## DEBUG: 9. Decrease system error \n",
      "## DEBUG: \n",
      "## DEBUG: \n",
      "## DEBUG: Attemping to plot... \n"
     ]
    },
    {
     "name": "stderr",
     "output_type": "stream",
     "text": [
      "\r",
      " 99%|██████████████████████████████████████████████████████████████████████████████████████████████████████████████ | 992/1000 [02:58<00:01,  4.36it/s]"
     ]
    },
    {
     "name": "stdout",
     "output_type": "stream",
     "text": [
      "## DEBUG: 1. Pick input signal P(B) \n",
      "## DEBUG: 2. Find two nearest units \n",
      "## DEBUG: Two nearest points: min_dist_1: 0.745411645835145 min_dist_2: 1.6727714973054588 \n",
      "## DEBUG: 3. Incremement Age of all edges from s_1 \n",
      "## DEBUG: 4. Add error to neuron \n",
      "## DEBUG: 5. Move s1 and neighbors towards B \n",
      "## DEBUG: 6. reset s1 and s2 age \n",
      "## DEBUG: 7. remove old edges \n",
      "## DEBUG: 8. Insert new neuron \n",
      "## DEBUG: 9. Decrease system error \n",
      "## DEBUG: \n",
      "## DEBUG: \n",
      "## DEBUG: Attemping to plot... \n"
     ]
    },
    {
     "name": "stderr",
     "output_type": "stream",
     "text": [
      "\r",
      " 99%|██████████████████████████████████████████████████████████████████████████████████████████████████████████████▏| 993/1000 [02:58<00:01,  4.36it/s]"
     ]
    },
    {
     "name": "stdout",
     "output_type": "stream",
     "text": [
      "## DEBUG: 1. Pick input signal P(B) \n",
      "## DEBUG: 2. Find two nearest units \n",
      "## DEBUG: Two nearest points: min_dist_1: 1.2166285087595219 min_dist_2: 1.4966685345428725 \n",
      "## DEBUG: 3. Incremement Age of all edges from s_1 \n",
      "## DEBUG: 4. Add error to neuron \n",
      "## DEBUG: 5. Move s1 and neighbors towards B \n",
      "## DEBUG: 6. reset s1 and s2 age \n",
      "## DEBUG: 7. remove old edges \n",
      "## DEBUG: 8. Insert new neuron \n",
      "## DEBUG: 9. Decrease system error \n",
      "## DEBUG: \n",
      "## DEBUG: \n",
      "## DEBUG: Attemping to plot... \n"
     ]
    },
    {
     "name": "stderr",
     "output_type": "stream",
     "text": [
      "\r",
      " 99%|██████████████████████████████████████████████████████████████████████████████████████████████████████████████▎| 994/1000 [02:59<00:01,  4.24it/s]"
     ]
    },
    {
     "name": "stdout",
     "output_type": "stream",
     "text": [
      "## DEBUG: 1. Pick input signal P(B) \n",
      "## DEBUG: 2. Find two nearest units \n",
      "## DEBUG: Two nearest points: min_dist_1: 0.2913883015810629 min_dist_2: 1.225315524813333 \n",
      "## DEBUG: 3. Incremement Age of all edges from s_1 \n",
      "## DEBUG: 4. Add error to neuron \n",
      "## DEBUG: 5. Move s1 and neighbors towards B \n",
      "## DEBUG: 6. reset s1 and s2 age \n",
      "## DEBUG: 7. remove old edges \n",
      "## DEBUG: 8. Insert new neuron \n",
      "## DEBUG: 9. Decrease system error \n",
      "## DEBUG: \n",
      "## DEBUG: \n",
      "## DEBUG: Attemping to plot... \n"
     ]
    },
    {
     "name": "stderr",
     "output_type": "stream",
     "text": [
      "\r",
      "100%|██████████████████████████████████████████████████████████████████████████████████████████████████████████████▍| 995/1000 [02:59<00:01,  4.28it/s]"
     ]
    },
    {
     "name": "stdout",
     "output_type": "stream",
     "text": [
      "## DEBUG: 1. Pick input signal P(B) \n",
      "## DEBUG: 2. Find two nearest units \n",
      "## DEBUG: Two nearest points: min_dist_1: 0.23367283457139212 min_dist_2: 0.45004815913607527 \n",
      "## DEBUG: 3. Incremement Age of all edges from s_1 \n",
      "## DEBUG: 4. Add error to neuron \n",
      "## DEBUG: 5. Move s1 and neighbors towards B \n",
      "## DEBUG: 6. reset s1 and s2 age \n",
      "## DEBUG: 7. remove old edges \n",
      "## DEBUG: 8. Insert new neuron \n",
      "## DEBUG: 9. Decrease system error \n",
      "## DEBUG: \n",
      "## DEBUG: \n",
      "## DEBUG: Attemping to plot... \n"
     ]
    },
    {
     "name": "stderr",
     "output_type": "stream",
     "text": [
      "\r",
      "100%|██████████████████████████████████████████████████████████████████████████████████████████████████████████████▌| 996/1000 [02:59<00:00,  4.31it/s]"
     ]
    },
    {
     "name": "stdout",
     "output_type": "stream",
     "text": [
      "## DEBUG: 1. Pick input signal P(B) \n",
      "## DEBUG: 2. Find two nearest units \n",
      "## DEBUG: Two nearest points: min_dist_1: 0.10969664396066664 min_dist_2: 0.7157180307816384 \n",
      "## DEBUG: 3. Incremement Age of all edges from s_1 \n",
      "## DEBUG: 4. Add error to neuron \n",
      "## DEBUG: 5. Move s1 and neighbors towards B \n",
      "## DEBUG: 6. reset s1 and s2 age \n",
      "## DEBUG: 7. remove old edges \n",
      "## DEBUG: 8. Insert new neuron \n",
      "## DEBUG: 9. Decrease system error \n",
      "## DEBUG: \n",
      "## DEBUG: \n",
      "## DEBUG: Attemping to plot... \n"
     ]
    },
    {
     "name": "stderr",
     "output_type": "stream",
     "text": [
      "\r",
      "100%|██████████████████████████████████████████████████████████████████████████████████████████████████████████████▋| 997/1000 [02:59<00:00,  4.34it/s]"
     ]
    },
    {
     "name": "stdout",
     "output_type": "stream",
     "text": [
      "## DEBUG: 1. Pick input signal P(B) \n",
      "## DEBUG: 2. Find two nearest units \n",
      "## DEBUG: Two nearest points: min_dist_1: 0.22357757136318118 min_dist_2: 0.36091949819621794 \n",
      "## DEBUG: 3. Incremement Age of all edges from s_1 \n",
      "## DEBUG: 4. Add error to neuron \n",
      "## DEBUG: 5. Move s1 and neighbors towards B \n",
      "## DEBUG: 6. reset s1 and s2 age \n",
      "## DEBUG: 7. remove old edges \n",
      "## DEBUG: 8. Insert new neuron \n",
      "## DEBUG: 9. Decrease system error \n",
      "## DEBUG: \n",
      "## DEBUG: \n",
      "## DEBUG: Attemping to plot... \n"
     ]
    },
    {
     "name": "stderr",
     "output_type": "stream",
     "text": [
      "\r",
      "100%|██████████████████████████████████████████████████████████████████████████████████████████████████████████████▊| 998/1000 [03:00<00:00,  4.18it/s]"
     ]
    },
    {
     "name": "stdout",
     "output_type": "stream",
     "text": [
      "## DEBUG: 1. Pick input signal P(B) \n",
      "## DEBUG: 2. Find two nearest units \n",
      "## DEBUG: Two nearest points: min_dist_1: 1.6577538087052335 min_dist_2: 1.7174619912184854 \n",
      "## DEBUG: 3. Incremement Age of all edges from s_1 \n",
      "## DEBUG: 4. Add error to neuron \n",
      "## DEBUG: 5. Move s1 and neighbors towards B \n",
      "## DEBUG: 6. reset s1 and s2 age \n",
      "## DEBUG: 7. remove old edges \n",
      "## DEBUG: 8. Insert new neuron \n",
      "## DEBUG: 9. Decrease system error \n",
      "## DEBUG: \n",
      "## DEBUG: \n",
      "## DEBUG: Attemping to plot... \n"
     ]
    },
    {
     "name": "stderr",
     "output_type": "stream",
     "text": [
      "\r",
      "100%|██████████████████████████████████████████████████████████████████████████████████████████████████████████████▉| 999/1000 [03:00<00:00,  4.22it/s]"
     ]
    },
    {
     "name": "stdout",
     "output_type": "stream",
     "text": [
      "## DEBUG: 1. Pick input signal P(B) \n",
      "## DEBUG: 2. Find two nearest units \n",
      "## DEBUG: Two nearest points: min_dist_1: 0.3191990565879871 min_dist_2: 0.7140229118073295 \n",
      "## DEBUG: 3. Incremement Age of all edges from s_1 \n",
      "## DEBUG: 4. Add error to neuron \n",
      "## DEBUG: 5. Move s1 and neighbors towards B \n",
      "## DEBUG: 6. reset s1 and s2 age \n",
      "## DEBUG: 7. remove old edges \n",
      "## DEBUG: 8. Insert new neuron \n",
      "## DEBUG: 9. Decrease system error \n",
      "## DEBUG: \n",
      "## DEBUG: \n",
      "## DEBUG: Attemping to plot... \n"
     ]
    },
    {
     "name": "stderr",
     "output_type": "stream",
     "text": [
      "100%|██████████████████████████████████████████████████████████████████████████████████████████████████████████████| 1000/1000 [03:00<00:00,  5.54it/s]\n"
     ]
    }
   ],
   "source": [
    "gng_model.train(data,\n",
    "                epochs=1000, \n",
    "                learning_b=.1, \n",
    "                learning_n=.001, \n",
    "                age_max=5, \n",
    "                gamma=5,\n",
    "                error_alpha=.1,\n",
    "                error_d=.9)"
   ]
  },
  {
   "cell_type": "code",
   "execution_count": 98,
   "metadata": {},
   "outputs": [
    {
     "data": {
      "text/plain": [
       "array([4, 4, 2, 6, 1])"
      ]
     },
     "execution_count": 98,
     "metadata": {},
     "output_type": "execute_result"
    }
   ],
   "source": [
    "a = np.array([0,1,2,3,4,5,6,7,4,9])\n",
    "ind = [8,4,2,6,1]\n",
    "a[ind]"
   ]
  },
  {
   "cell_type": "code",
   "execution_count": null,
   "metadata": {},
   "outputs": [],
   "source": []
  }
 ],
 "metadata": {
  "kernelspec": {
   "display_name": "Python 3",
   "language": "python",
   "name": "python3"
  },
  "language_info": {
   "codemirror_mode": {
    "name": "ipython",
    "version": 3
   },
   "file_extension": ".py",
   "mimetype": "text/x-python",
   "name": "python",
   "nbconvert_exporter": "python",
   "pygments_lexer": "ipython3",
   "version": "3.7.9"
  }
 },
 "nbformat": 4,
 "nbformat_minor": 2
}
