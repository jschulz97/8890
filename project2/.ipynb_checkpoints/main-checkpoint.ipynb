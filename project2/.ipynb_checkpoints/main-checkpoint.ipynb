{
 "cells": [
  {
   "cell_type": "code",
   "execution_count": 1,
   "metadata": {},
   "outputs": [],
   "source": [
    "from importlib import reload\n",
    "import numpy as np\n",
    "import pickle\n",
    "import matplotlib\n",
    "import matplotlib.pyplot as plt\n",
    "from matplotlib import cm\n",
    "import sys\n",
    "import os\n",
    "import random\n",
    "from tqdm import tqdm\n",
    "import copy"
   ]
  },
  {
   "cell_type": "code",
   "execution_count": 2,
   "metadata": {},
   "outputs": [],
   "source": [
    "import time\n",
    "import torch\n",
    "from torchvision import models, transforms\n",
    "from autoencoder import Autoencoder as AE"
   ]
  },
  {
   "cell_type": "code",
   "execution_count": 3,
   "metadata": {},
   "outputs": [],
   "source": [
    "import gng"
   ]
  },
  {
   "cell_type": "code",
   "execution_count": 4,
   "metadata": {},
   "outputs": [],
   "source": [
    "import data_utils\n",
    "reload(data_utils)\n",
    "\n",
    "data_ranges = [\n",
    "    [ [-14.0, -2.0], [6.0, 16.0] ],\n",
    "    [ [2.0, 15.0],   [-8.0, 6.0] ],\n",
    "    [ [-12.0, -4.0], [-14.0, -6.0] ]\n",
    "]\n",
    "data, labels = data_utils.generate_data(data_ranges, length=100)"
   ]
  },
  {
   "cell_type": "code",
   "execution_count": 5,
   "metadata": {
    "scrolled": true
   },
   "outputs": [
    {
     "data": {
      "image/png": "[encoded data removed]",
      "text/plain": [
       "<Figure size 432x288 with 1 Axes>"
      ]
     },
     "metadata": {
      "needs_background": "light"
     },
     "output_type": "display_data"
    }
   ],
   "source": [
    "data_sep, uniq_labels = data_utils.split_data(data, labels)\n",
    "data_utils.plt_graph_sep_data(data_sep)"
   ]
  },
  {
   "cell_type": "code",
   "execution_count": 5,
   "metadata": {},
   "outputs": [
    {
     "name": "stderr",
     "output_type": "stream",
     "text": [
      "100%|███████████████████████████████████████████████████████████████████████████████████████████████████████████████| 300/300 [00:00<00:00, 476.13it/s]\n",
      "100%|██████████████████████████████████████████████████████████████████████████████████████████████████████████████| 1000/1000 [02:50<00:00,  5.87it/s]\n"
     ]
    }
   ],
   "source": [
    "reload(gng)\n",
    "gng_model = gng.GNG()\n",
    "neurons, error = gng_model.train(data,\n",
    "                epochs=1000, \n",
    "                learning_b=.5, \n",
    "                learning_n=.01, \n",
    "                age_max=4, \n",
    "                gamma=5,\n",
    "                error_alpha=.1,\n",
    "                error_d=.98)"
   ]
  },
  {
   "cell_type": "code",
   "execution_count": 6,
   "metadata": {},
   "outputs": [
    {
     "data": {
      "image/png": "[encoded data removed]",
      "text/plain": [
       "<Figure size 432x288 with 1 Axes>"
      ]
     },
     "metadata": {
      "needs_background": "light"
     },
     "output_type": "display_data"
    }
   ],
   "source": [
    "# far data\n",
    "far_data_ranges = [\n",
    "    [ [-140.0, -120.0], [140.0, 160.0] ],\n",
    "    [ [40.0, 60.0],   [-8.0, 12.0] ],\n",
    "    [ [-100.0, -80.0], [-90.0, -60.0] ]\n",
    "]\n",
    "far_data, far_labels = data_utils.generate_data(far_data_ranges, length=100)\n",
    "far_data_sep, far_uniq_labels = data_utils.split_data(far_data, far_labels)\n",
    "data_utils.plt_graph_sep_data(far_data_sep)"
   ]
  },
  {
   "cell_type": "code",
   "execution_count": 7,
   "metadata": {},
   "outputs": [
    {
     "name": "stderr",
     "output_type": "stream",
     "text": [
      "100%|███████████████████████████████████████████████████████████████████████████████████████████████████████████████| 300/300 [00:00<00:00, 473.95it/s]\n",
      "100%|██████████████████████████████████████████████████████████████████████████████████████████████████████████████| 1000/1000 [02:50<00:00,  5.86it/s]\n"
     ]
    }
   ],
   "source": [
    "reload(gng)\n",
    "gng_model = gng.GNG()\n",
    "neurons, error = gng_model.train(far_data,\n",
    "                epochs=1000, \n",
    "                learning_b=.5, \n",
    "                learning_n=.01, \n",
    "                age_max=4, \n",
    "                gamma=5,\n",
    "                error_alpha=.1,\n",
    "                error_d=.98)"
   ]
  },
  {
   "cell_type": "markdown",
   "metadata": {},
   "source": [
    "# Paint data"
   ]
  },
  {
   "cell_type": "code",
   "execution_count": 5,
   "metadata": {},
   "outputs": [],
   "source": [
    "from PIL import Image"
   ]
  },
  {
   "cell_type": "code",
   "execution_count": 6,
   "metadata": {},
   "outputs": [],
   "source": [
    "paint_class_1 = Image.open('data/paint_dataset_class1.png')\n",
    "paint_class_1 = np.array(paint_class_1)\n",
    "paint_class_2 = Image.open('data/paint_dataset_class2.png')\n",
    "paint_class_2 = np.array(paint_class_2)"
   ]
  },
  {
   "cell_type": "code",
   "execution_count": 7,
   "metadata": {},
   "outputs": [],
   "source": [
    "class_1 = []\n",
    "for j,row in enumerate(paint_class_1):\n",
    "    for i,col in enumerate(row):\n",
    "        if(not np.array_equal(col, [255, 255, 255, 255])):\n",
    "            class_1.append(np.array([i,-j]))\n",
    "class_1 = np.array(class_1)"
   ]
  },
  {
   "cell_type": "code",
   "execution_count": 8,
   "metadata": {},
   "outputs": [],
   "source": [
    "class_2 = []\n",
    "for j,row in enumerate(paint_class_2):\n",
    "    for i,col in enumerate(row):\n",
    "        if(not np.array_equal(col, [255, 255, 255, 255])):\n",
    "            class_2.append(np.array([i,-j]))\n",
    "class_2 = np.array(class_2)"
   ]
  },
  {
   "cell_type": "code",
   "execution_count": 11,
   "metadata": {},
   "outputs": [
    {
     "data": {
      "image/png": "[encoded data removed]",
      "text/plain": [
       "<Figure size 432x288 with 1 Axes>"
      ]
     },
     "metadata": {
      "needs_background": "light"
     },
     "output_type": "display_data"
    }
   ],
   "source": [
    "data_utils.plt_graph_sep_data([class_1, class_2])"
   ]
  },
  {
   "cell_type": "code",
   "execution_count": 12,
   "metadata": {
    "scrolled": false
   },
   "outputs": [
    {
     "name": "stderr",
     "output_type": "stream",
     "text": [
      "  5%|█████▉                                                                                                         | 112/2090 [00:01<00:25, 77.70it/s]\n"
     ]
    },
    {
     "ename": "KeyboardInterrupt",
     "evalue": "",
     "output_type": "error",
     "traceback": [
      "\u001b[1;31m---------------------------------------------------------------------------\u001b[0m",
      "\u001b[1;31mKeyboardInterrupt\u001b[0m                         Traceback (most recent call last)",
      "\u001b[1;32m<ipython-input-12-4c70eab2c9c8>\u001b[0m in \u001b[0;36m<module>\u001b[1;34m()\u001b[0m\n\u001b[0;32m      9\u001b[0m                 \u001b[0merror_alpha\u001b[0m\u001b[1;33m=\u001b[0m\u001b[1;36m.1\u001b[0m\u001b[1;33m,\u001b[0m\u001b[1;33m\u001b[0m\u001b[1;33m\u001b[0m\u001b[0m\n\u001b[0;32m     10\u001b[0m                 \u001b[0merror_d\u001b[0m\u001b[1;33m=\u001b[0m\u001b[1;36m.98\u001b[0m\u001b[1;33m,\u001b[0m\u001b[1;33m\u001b[0m\u001b[1;33m\u001b[0m\u001b[0m\n\u001b[1;32m---> 11\u001b[1;33m                 error_target=100)\n\u001b[0m",
      "\u001b[1;32mZ:\\storage\\Code\\8890\\project2\\gng.py\u001b[0m in \u001b[0;36mtrain\u001b[1;34m(self, train_data, epochs, learning_b, learning_n, age_max, gamma, error_alpha, error_d, error_target)\u001b[0m\n\u001b[0;32m     85\u001b[0m         \u001b[1;32mfor\u001b[0m \u001b[0mx1\u001b[0m \u001b[1;32min\u001b[0m \u001b[0mtqdm\u001b[0m\u001b[1;33m(\u001b[0m\u001b[0mtrain_data\u001b[0m\u001b[1;33m)\u001b[0m\u001b[1;33m:\u001b[0m\u001b[1;33m\u001b[0m\u001b[1;33m\u001b[0m\u001b[0m\n\u001b[0;32m     86\u001b[0m             \u001b[1;32mfor\u001b[0m \u001b[0mx2\u001b[0m \u001b[1;32min\u001b[0m \u001b[0mtrain_data\u001b[0m\u001b[1;33m:\u001b[0m\u001b[1;33m\u001b[0m\u001b[1;33m\u001b[0m\u001b[0m\n\u001b[1;32m---> 87\u001b[1;33m                 \u001b[0mdist\u001b[0m \u001b[1;33m=\u001b[0m \u001b[0mnp\u001b[0m\u001b[1;33m.\u001b[0m\u001b[0mabs\u001b[0m\u001b[1;33m(\u001b[0m\u001b[0mnp\u001b[0m\u001b[1;33m.\u001b[0m\u001b[0mlinalg\u001b[0m\u001b[1;33m.\u001b[0m\u001b[0mnorm\u001b[0m\u001b[1;33m(\u001b[0m\u001b[0mx1\u001b[0m\u001b[1;33m-\u001b[0m\u001b[0mx2\u001b[0m\u001b[1;33m)\u001b[0m\u001b[1;33m)\u001b[0m\u001b[1;33m\u001b[0m\u001b[1;33m\u001b[0m\u001b[0m\n\u001b[0m\u001b[0;32m     88\u001b[0m                 \u001b[1;32mif\u001b[0m\u001b[1;33m(\u001b[0m\u001b[0mdist\u001b[0m \u001b[1;33m>\u001b[0m \u001b[0mmax_dist\u001b[0m\u001b[1;33m)\u001b[0m\u001b[1;33m:\u001b[0m\u001b[1;33m\u001b[0m\u001b[1;33m\u001b[0m\u001b[0m\n\u001b[0;32m     89\u001b[0m                     \u001b[0mmax_dist\u001b[0m \u001b[1;33m=\u001b[0m \u001b[0mdist\u001b[0m\u001b[1;33m\u001b[0m\u001b[1;33m\u001b[0m\u001b[0m\n",
      "\u001b[1;32m<__array_function__ internals>\u001b[0m in \u001b[0;36mnorm\u001b[1;34m(*args, **kwargs)\u001b[0m\n",
      "\u001b[1;32mC:\\Users\\jschu\\miniconda3\\envs\\torch\\lib\\site-packages\\numpy\\linalg\\linalg.py\u001b[0m in \u001b[0;36mnorm\u001b[1;34m(x, ord, axis, keepdims)\u001b[0m\n\u001b[0;32m   2528\u001b[0m                 \u001b[0msqnorm\u001b[0m \u001b[1;33m=\u001b[0m \u001b[0mdot\u001b[0m\u001b[1;33m(\u001b[0m\u001b[0mx\u001b[0m\u001b[1;33m.\u001b[0m\u001b[0mreal\u001b[0m\u001b[1;33m,\u001b[0m \u001b[0mx\u001b[0m\u001b[1;33m.\u001b[0m\u001b[0mreal\u001b[0m\u001b[1;33m)\u001b[0m \u001b[1;33m+\u001b[0m \u001b[0mdot\u001b[0m\u001b[1;33m(\u001b[0m\u001b[0mx\u001b[0m\u001b[1;33m.\u001b[0m\u001b[0mimag\u001b[0m\u001b[1;33m,\u001b[0m \u001b[0mx\u001b[0m\u001b[1;33m.\u001b[0m\u001b[0mimag\u001b[0m\u001b[1;33m)\u001b[0m\u001b[1;33m\u001b[0m\u001b[1;33m\u001b[0m\u001b[0m\n\u001b[0;32m   2529\u001b[0m             \u001b[1;32melse\u001b[0m\u001b[1;33m:\u001b[0m\u001b[1;33m\u001b[0m\u001b[1;33m\u001b[0m\u001b[0m\n\u001b[1;32m-> 2530\u001b[1;33m                 \u001b[0msqnorm\u001b[0m \u001b[1;33m=\u001b[0m \u001b[0mdot\u001b[0m\u001b[1;33m(\u001b[0m\u001b[0mx\u001b[0m\u001b[1;33m,\u001b[0m \u001b[0mx\u001b[0m\u001b[1;33m)\u001b[0m\u001b[1;33m\u001b[0m\u001b[1;33m\u001b[0m\u001b[0m\n\u001b[0m\u001b[0;32m   2531\u001b[0m             \u001b[0mret\u001b[0m \u001b[1;33m=\u001b[0m \u001b[0msqrt\u001b[0m\u001b[1;33m(\u001b[0m\u001b[0msqnorm\u001b[0m\u001b[1;33m)\u001b[0m\u001b[1;33m\u001b[0m\u001b[1;33m\u001b[0m\u001b[0m\n\u001b[0;32m   2532\u001b[0m             \u001b[1;32mif\u001b[0m \u001b[0mkeepdims\u001b[0m\u001b[1;33m:\u001b[0m\u001b[1;33m\u001b[0m\u001b[1;33m\u001b[0m\u001b[0m\n",
      "\u001b[1;32m<__array_function__ internals>\u001b[0m in \u001b[0;36mdot\u001b[1;34m(*args, **kwargs)\u001b[0m\n",
      "\u001b[1;31mKeyboardInterrupt\u001b[0m: "
     ]
    }
   ],
   "source": [
    "reload(gng)\n",
    "gng_model = gng.GNG()\n",
    "neurons, error = gng_model.train(class_1,\n",
    "                epochs=1500, \n",
    "                learning_b=.5, \n",
    "                learning_n=.01, \n",
    "                age_max=4, \n",
    "                gamma=5,\n",
    "                error_alpha=.1,\n",
    "                error_d=.98,\n",
    "                error_target=100)"
   ]
  },
  {
   "cell_type": "code",
   "execution_count": null,
   "metadata": {
    "scrolled": false
   },
   "outputs": [],
   "source": [
    "fig, ax = plt.subplots()\n",
    "ax.plot(error)\n",
    "plt.show()"
   ]
  },
  {
   "cell_type": "markdown",
   "metadata": {},
   "source": [
    "# Data utils"
   ]
  },
  {
   "cell_type": "code",
   "execution_count": 9,
   "metadata": {},
   "outputs": [],
   "source": [
    "def split_data(data, labels):\n",
    "    data_sep = []\n",
    "    uniq_labels = list(set(sorted(labels)))\n",
    "    for cl in uniq_labels:\n",
    "        data_class = np.zeros((1,2))\n",
    "        for i,lab in enumerate(labels):\n",
    "            if(cl == lab):\n",
    "                data_class = np.append(data_class, [data[i]], axis=0)\n",
    "        data_class = data_class[1:]\n",
    "        data_sep.append(data_class)\n",
    "    return data_sep, uniq_labels\n",
    "\n",
    "# graph separated data w/ plt\n",
    "def plt_graph_sep_data(data):\n",
    "    fig, ax = plt.subplots()\n",
    "    for cl in data:\n",
    "        ax.scatter(cl[:,0], cl[:,1])\n",
    "    plt.show()\n",
    "\n",
    "def classify(pred, labels):\n",
    "    if(type(pred) == np.ndarray):\n",
    "        typ = -np.inf\n",
    "        cls = 0\n",
    "        for i,p in enumerate(pred):\n",
    "            if(p > typ):\n",
    "                typ = p\n",
    "                cls = i\n",
    "        return cls\n",
    "        \n",
    "    else:\n",
    "        uniqs = list(set(sorted(labels)))\n",
    "        min_d = np.inf\n",
    "        min_i = 0\n",
    "        for i,l in enumerate(uniqs):\n",
    "            dis = abs(pred - l)\n",
    "            if(dis < min_d):\n",
    "                min_d = dis\n",
    "                min_i = i\n",
    "        return uniqs[min_i]\n",
    "    \n",
    "def test_model(model, data, labels):\n",
    "    # new_data = np.array([*data[0:2], *data[100:102], *data[200:202]])\n",
    "    # print(new_data.shape)\n",
    "    truepos = 0\n",
    "    preds = []\n",
    "    print('Obtaining Predictions...')\n",
    "    for d, l in tqdm(zip(data, labels)):\n",
    "        pred = model.forward(d)\n",
    "#         print(pred)\n",
    "        pred = classify(pred,labels)\n",
    "        preds.append(pred)\n",
    "        if(pred == l):\n",
    "            truepos += 1\n",
    "\n",
    "    accuracy = truepos / len(data)\n",
    "    print('Accuracy:', round(accuracy,2))\n",
    "    \n",
    "    data_sep, uniq_labels = split_data(data, preds)\n",
    "#     data_sep.append(centers)\n",
    "    plt_graph_sep_data(data_sep)\n",
    "    \n",
    "    return preds"
   ]
  },
  {
   "cell_type": "code",
   "execution_count": 10,
   "metadata": {},
   "outputs": [],
   "source": [
    "def grid_search(data, model, step=(.5,.5)):\n",
    "    # generate data\n",
    "    x = np.arange(min(data[:,0]), max(data[:,0]), step[0])\n",
    "    y = np.arange(min(data[:,1]), max(data[:,1]), step[1])\n",
    "\n",
    "    # grid_xy = np.zeros((len(x), len(x)))\n",
    "    xy_data  = []\n",
    "    xy_preds = []\n",
    "    z_preds  = np.zeros((len(x), len(y)))\n",
    "    z_data   = np.zeros((len(x), len(y)))\n",
    "    for i in tqdm(range(len(x))):\n",
    "        for j in range(len(y)):\n",
    "            pred = model.forward([x[i], y[j]])\n",
    "            z    = copy.deepcopy(pred)\n",
    "            pred = classify(pred,labels)\n",
    "            xy_data.append([x[i], y[j]])\n",
    "            xy_preds.append(pred)\n",
    "            z_preds[i,j] = pred\n",
    "            z_data[i,j]  = z\n",
    "    \n",
    "    # predict on grid\n",
    "    xy_sep, xy_uniq_labels = split_data(xy_data, xy_preds)\n",
    "    plt_graph_sep_data(xy_sep)\n",
    "    \n",
    "    # Plot surface - raw predictions\n",
    "    fig = plt.figure()\n",
    "    ax = fig.add_subplot(111, projection='3d')\n",
    "    xy_data, xy_preds, z_data = np.array(xy_data), np.array(xy_preds), np.array(z_data)\n",
    "    Y, X = np.meshgrid(y, x)\n",
    "    ax.plot_surface(X, Y, z_data, cmap=cm.coolwarm)\n",
    "    plt.show()"
   ]
  },
  {
   "cell_type": "markdown",
   "metadata": {},
   "source": [
    "# Raw KNN"
   ]
  },
  {
   "cell_type": "code",
   "execution_count": 11,
   "metadata": {},
   "outputs": [],
   "source": [
    "combined_x = []\n",
    "combined_y = []\n",
    "for i, cls in enumerate([class_1, class_2]):\n",
    "    for d in cls:\n",
    "        combined_x.append(d)\n",
    "        combined_y.append(i)\n",
    "combined_x = np.array(combined_x)\n",
    "combined_y = np.array(combined_y)"
   ]
  },
  {
   "cell_type": "code",
   "execution_count": 21,
   "metadata": {
    "scrolled": true
   },
   "outputs": [
    {
     "name": "stderr",
     "output_type": "stream",
     "text": [
      "6it [00:00, 29.68it/s]"
     ]
    },
    {
     "name": "stdout",
     "output_type": "stream",
     "text": [
      "Obtaining Predictions...\n"
     ]
    },
    {
     "name": "stderr",
     "output_type": "stream",
     "text": [
      "5276it [03:01, 29.12it/s]\n"
     ]
    },
    {
     "name": "stdout",
     "output_type": "stream",
     "text": [
      "Accuracy: 1.0\n"
     ]
    },
    {
     "data": {
      "image/png": "[encoded data removed]",
      "text/plain": [
       "<Figure size 432x288 with 1 Axes>"
      ]
     },
     "metadata": {
      "needs_background": "light"
     },
     "output_type": "display_data"
    },
    {
     "name": "stdout",
     "output_type": "stream",
     "text": [
      "Length training set: 5276\n",
      "Time to test: 181.3095953464508\n",
      "Time to complete: 181.3095953464508\n"
     ]
    }
   ],
   "source": [
    "import knn\n",
    "reload(knn)\n",
    "\n",
    "t0 = time.time()\n",
    "\n",
    "\n",
    "knn_model = knn.KNN(5, combined_x, combined_y)\n",
    "\n",
    "t1 = time.time()\n",
    "preds = test_model(knn_model, combined_x, combined_y)\n",
    "\n",
    "# rewrite test_model for no centers, no display\n",
    "# need full test both on combined_x, with accuracy numberss\n",
    "\n",
    "\n",
    "t2 = time.time()\n",
    "print('Length training set:',len(combined_x))\n",
    "print('Time to test:', t2-t1)\n",
    "print('Time to complete:', t2-t0)"
   ]
  },
  {
   "cell_type": "code",
   "execution_count": 18,
   "metadata": {
    "scrolled": true
   },
   "outputs": [
    {
     "data": {
      "text/plain": [
       "5276"
      ]
     },
     "execution_count": 18,
     "metadata": {},
     "output_type": "execute_result"
    }
   ],
   "source": [
    "# preds = test_model(rbnetwork, combined_x, combined_y)\n",
    "len(combined_x)"
   ]
  },
  {
   "cell_type": "code",
   "execution_count": 33,
   "metadata": {},
   "outputs": [
    {
     "name": "stderr",
     "output_type": "stream",
     "text": [
      "100%|██████████████████████████████████████████████████████████████████████████████████████████████████████████████████| 72/72 [02:25<00:00,  2.03s/it]\n"
     ]
    },
    {
     "data": {
      "image/png": "[encoded data removed]",
      "text/plain": [
       "<Figure size 432x288 with 1 Axes>"
      ]
     },
     "metadata": {
      "needs_background": "light"
     },
     "output_type": "display_data"
    },
    {
     "data": {
      "image/png": "[encoded data removed]",
      "text/plain": [
       "<Figure size 432x288 with 1 Axes>"
      ]
     },
     "metadata": {
      "needs_background": "light"
     },
     "output_type": "display_data"
    }
   ],
   "source": [
    "grid_search(combined_x, knn_model, step=(5, 5))"
   ]
  },
  {
   "cell_type": "markdown",
   "metadata": {},
   "source": [
    "# GNG to KNN"
   ]
  },
  {
   "cell_type": "code",
   "execution_count": 24,
   "metadata": {},
   "outputs": [
    {
     "name": "stderr",
     "output_type": "stream",
     "text": [
      "100%|██████████████████████████████████████████████████████████████████████████████████████████████████████████████| 2090/2090 [00:27<00:00, 77.01it/s]\n",
      " 25%|███████████████████████████▌                                                                                   | 372/1500 [00:52<02:40,  7.03it/s]\n",
      "  0%|▏                                                                                                                | 6/3186 [00:00<01:02, 50.54it/s]"
     ]
    },
    {
     "name": "stdout",
     "output_type": "stream",
     "text": [
      "Error target met!\n"
     ]
    },
    {
     "name": "stderr",
     "output_type": "stream",
     "text": [
      "100%|██████████████████████████████████████████████████████████████████████████████████████████████████████████████| 3186/3186 [01:02<00:00, 50.84it/s]\n",
      " 30%|█████████████████████████████████▏                                                                             | 448/1500 [00:57<02:15,  7.75it/s]\n",
      "112it [00:00, 561.26it/s]"
     ]
    },
    {
     "name": "stdout",
     "output_type": "stream",
     "text": [
      "Error target met!\n",
      "Obtaining Predictions...\n"
     ]
    },
    {
     "name": "stderr",
     "output_type": "stream",
     "text": [
      "5276it [00:09, 565.89it/s]\n"
     ]
    },
    {
     "name": "stdout",
     "output_type": "stream",
     "text": [
      "Accuracy: 0.97\n"
     ]
    },
    {
     "data": {
      "image/png": "[encoded data removed]",
      "text/plain": [
       "<Figure size 432x288 with 1 Axes>"
      ]
     },
     "metadata": {
      "needs_background": "light"
     },
     "output_type": "display_data"
    },
    {
     "name": "stdout",
     "output_type": "stream",
     "text": [
      "Length training set: 167\n",
      "Time to test: 9.464557886123657\n",
      "Time to complete: 209.9520833492279\n"
     ]
    }
   ],
   "source": [
    "import knn\n",
    "reload(knn)\n",
    "reload(gng)\n",
    "\n",
    "t0 = time.time()\n",
    "\n",
    "\n",
    "gng_model_1 = gng.GNG()\n",
    "neurons_1, error_1 = gng_model_1.train(class_1,\n",
    "                epochs=1500, \n",
    "                learning_b=.5, \n",
    "                learning_n=.01, \n",
    "                age_max=4, \n",
    "                gamma=5,\n",
    "                error_alpha=.1,\n",
    "                error_d=.98,\n",
    "                error_target=125)\n",
    "\n",
    "gng_model_2 = gng.GNG()\n",
    "neurons_2, error_2 = gng_model_2.train(class_2,\n",
    "                epochs=1500, \n",
    "                learning_b=.5, \n",
    "                learning_n=.01, \n",
    "                age_max=4, \n",
    "                gamma=5,\n",
    "                error_alpha=.1,\n",
    "                error_d=.98,\n",
    "                error_target=125)\n",
    "\n",
    "\n",
    "gng_combined_x = []\n",
    "gng_combined_y = []\n",
    "for i, cls in enumerate([neurons_1, neurons_2]):\n",
    "    for d in cls:\n",
    "        gng_combined_x.append(d)\n",
    "        gng_combined_y.append(i)\n",
    "gng_combined_x = np.array(gng_combined_x)\n",
    "gng_combined_y = np.array(gng_combined_y)\n",
    "\n",
    "\n",
    "knn_model = knn.KNN(5, gng_combined_x, gng_combined_y)\n",
    "\n",
    "t1 = time.time()\n",
    "\n",
    "preds = test_model(knn_model, combined_x, combined_y)\n",
    "\n",
    "t2 = time.time()\n",
    "print('Length training set:',len(gng_combined_x))\n",
    "print('Time to test:', t2-t1)\n",
    "print('Time to complete:', t2-t0)"
   ]
  },
  {
   "cell_type": "code",
   "execution_count": 20,
   "metadata": {},
   "outputs": [
    {
     "name": "stderr",
     "output_type": "stream",
     "text": [
      "31it [00:00, 306.65it/s]"
     ]
    },
    {
     "name": "stdout",
     "output_type": "stream",
     "text": [
      "Obtaining Predictions...\n"
     ]
    },
    {
     "name": "stderr",
     "output_type": "stream",
     "text": [
      "5276it [00:17, 305.28it/s]\n"
     ]
    },
    {
     "name": "stdout",
     "output_type": "stream",
     "text": [
      "Accuracy: 0.99\n"
     ]
    },
    {
     "data": {
      "image/png": "[encoded data removed]",
      "text/plain": [
       "<Figure size 432x288 with 1 Axes>"
      ]
     },
     "metadata": {
      "needs_background": "light"
     },
     "output_type": "display_data"
    },
    {
     "name": "stdout",
     "output_type": "stream",
     "text": [
      "Length training set: 403\n",
      "Time to complete: 17.401376247406006\n"
     ]
    }
   ],
   "source": [
    "import knn\n",
    "reload(knn)\n",
    "reload(gng)\n",
    "\n",
    "t0 = time.time()\n",
    "\n",
    "knn_model = knn.KNN(5, gng_combined_x, gng_combined_y)\n",
    "preds = test_model(knn_model, combined_x, combined_y)\n",
    "\n",
    "t1 = time.time()\n",
    "print('Length training set:',len(gng_combined_x))\n",
    "print('Time to complete:', t1-t0)"
   ]
  },
  {
   "cell_type": "markdown",
   "metadata": {},
   "source": [
    "# Image Data"
   ]
  },
  {
   "cell_type": "code",
   "execution_count": 11,
   "metadata": {},
   "outputs": [],
   "source": [
    "device = 'cuda:0'\n",
    "# Load ResNet50\n",
    "torch_trans = transforms.Compose([\n",
    "    transforms.Resize((224, 224)),\n",
    "    transforms.ToTensor(),\n",
    "    transforms.Normalize( [0.485, 0.456, 0.406],\n",
    "                          [0.229, 0.224, 0.225] ) \n",
    "])\n",
    "resnet50_model = models.resnet50(pretrained=True)\n",
    "resnet50_model = torch.nn.Sequential(   *list(resnet50_model.children())[:-2], \n",
    "                                        torch.nn.MaxPool2d((7,7)) )\n",
    "# resnet50_model = torch.nn.Sequential( *list(resnet50_model.children())[:-2] )\n",
    "\n",
    "resnet50_model = resnet50_model.to(device)\n",
    "resnet50_model.eval()\n",
    "\n",
    "\n",
    "# Load Autoencoder\n",
    "autoencoder = AE(2048, 128, device, model='./models/model_128_copy.pt')\n",
    "\n",
    "autoencoder = autoencoder.to(device)"
   ]
  },
  {
   "cell_type": "markdown",
   "metadata": {},
   "source": [
    "## Training data"
   ]
  },
  {
   "cell_type": "code",
   "execution_count": 12,
   "metadata": {},
   "outputs": [
    {
     "name": "stderr",
     "output_type": "stream",
     "text": [
      "C:\\Users\\jschu\\miniconda3\\envs\\torch\\lib\\site-packages\\ipykernel_launcher.py:23: UserWarning: To copy construct from a tensor, it is recommended to use sourceTensor.clone().detach() or sourceTensor.clone().detach().requires_grad_(True), rather than torch.tensor(sourceTensor).\n"
     ]
    }
   ],
   "source": [
    "dirs_init   = []\n",
    "dirs_stream = []\n",
    "\n",
    "# separate data dirs \n",
    "root = 'data/image_train/'\n",
    "for i, d in enumerate(os.listdir(root)):\n",
    "    dirs_init.append(os.path.join(root,d))\n",
    "\n",
    "root = 'data/image_test/'\n",
    "for i, d in enumerate(os.listdir(root)):\n",
    "    dirs_stream.append(os.path.join(root,d))\n",
    "\n",
    "init_images = []\n",
    "init_labels = []\n",
    "\n",
    "# For first 'num_init_dirs' in chipped image directory\n",
    "# Get all chips\n",
    "for d in dirs_init:\n",
    "    for sub in os.listdir(d):\n",
    "        img   = Image.open(os.path.join(d, sub))\n",
    "        label = sub.split('_')[0]\n",
    "        # debug(label)\n",
    "        new_img = torch.tensor(torch_trans(img).reshape(3,224,224)).numpy()\n",
    "        init_images.append(copy.deepcopy(new_img))\n",
    "        init_labels.append(label)"
   ]
  },
  {
   "cell_type": "code",
   "execution_count": 13,
   "metadata": {},
   "outputs": [],
   "source": [
    "# Run through resnet to get features (2048x7x7) (max pooled: 2048)\n",
    "features = []\n",
    "for img in init_images:\n",
    "    feat = torch.squeeze(resnet50_model(torch.tensor(img).unsqueeze(0).to(device)).cpu()).detach().numpy()\n",
    "\n",
    "    # Manual maxpooling\n",
    "    if(False):\n",
    "        vect = []\n",
    "        for grid in feat:\n",
    "            vect.append(np.max(grid))\n",
    "\n",
    "        features.append( np.array(vect) )\n",
    "    \n",
    "    else:\n",
    "        features.append(feat)\n",
    "\n",
    "# Reduce features with autoencoder (1x128)\n",
    "reduced_init = []\n",
    "for img in features:\n",
    "    # reshape, put on gpu\n",
    "    img = torch.tensor(img).reshape((1, 2048)).to(device)\n",
    "    # run through ae\n",
    "    img = autoencoder.forward( img )\n",
    "    # detach to cpu, convert to numpy array\n",
    "    img = img.cpu().detach().squeeze(0).numpy()\n",
    "    # Append to data\n",
    "    reduced_init.append( copy.deepcopy(img) )\n",
    "reduced_init = np.array(reduced_init)"
   ]
  },
  {
   "cell_type": "markdown",
   "metadata": {},
   "source": [
    "## Testing Data"
   ]
  },
  {
   "cell_type": "code",
   "execution_count": 14,
   "metadata": {},
   "outputs": [
    {
     "name": "stderr",
     "output_type": "stream",
     "text": [
      "C:\\Users\\jschu\\miniconda3\\envs\\torch\\lib\\site-packages\\ipykernel_launcher.py:11: UserWarning: To copy construct from a tensor, it is recommended to use sourceTensor.clone().detach() or sourceTensor.clone().detach().requires_grad_(True), rather than torch.tensor(sourceTensor).\n",
      "  # This is added back by InteractiveShellApp.init_path()\n"
     ]
    }
   ],
   "source": [
    "test_images = []\n",
    "test_labels = []\n",
    "# For first 'num_init_dirs' in chipped image directory\n",
    "# Get all chips\n",
    "for d in dirs_stream:\n",
    "    for sub in os.listdir(d):\n",
    "        img   = Image.open(os.path.join(d, sub))\n",
    "        label = sub.split('_')[0]\n",
    "        # debug(label)\n",
    "        if(label == 'human' or label == 'car'):\n",
    "            new_img = torch.tensor(torch_trans(img).reshape(3,224,224)).numpy()\n",
    "            test_images.append(copy.deepcopy(new_img))\n",
    "            test_labels.append(label)"
   ]
  },
  {
   "cell_type": "code",
   "execution_count": 15,
   "metadata": {},
   "outputs": [],
   "source": [
    "# Run through resnet to get features (2048x7x7) (max pooled: 2048)\n",
    "test_features = []\n",
    "for img in test_images:\n",
    "    feat = torch.squeeze(resnet50_model(torch.tensor(img).unsqueeze(0).to(device)).cpu()).detach().numpy()\n",
    "\n",
    "    # Manual maxpooling\n",
    "    if(False):\n",
    "        vect = []\n",
    "        for grid in feat:\n",
    "            vect.append(np.max(grid))\n",
    "\n",
    "        test_features.append( np.array(vect) )\n",
    "    \n",
    "    else:\n",
    "        test_features.append(feat)\n",
    "\n",
    "# Reduce features with autoencoder (1x128)\n",
    "reduced_test = []\n",
    "for img in test_features:\n",
    "    # reshape, put on gpu\n",
    "    img = torch.tensor(img).reshape((1, 2048)).to(device)\n",
    "    # run through ae\n",
    "    img = autoencoder.forward( img )\n",
    "    # detach to cpu, convert to numpy array\n",
    "    img = img.cpu().detach().squeeze(0).numpy()\n",
    "    # Append to data\n",
    "    reduced_test.append( copy.deepcopy(img) )\n",
    "reduced_test = np.array(reduced_test)"
   ]
  },
  {
   "cell_type": "code",
   "execution_count": 16,
   "metadata": {},
   "outputs": [],
   "source": [
    "# text labels to num\n",
    "uniqs = list(set(sorted(init_labels)))\n",
    "init_labels_num = []\n",
    "for lab in init_labels:\n",
    "    init_labels_num.append(uniqs.index(lab))\n",
    "    \n",
    "uniqs = list(set(sorted(test_labels)))\n",
    "test_labels_num = []\n",
    "for lab in test_labels:\n",
    "    test_labels_num.append(uniqs.index(lab))"
   ]
  },
  {
   "cell_type": "code",
   "execution_count": 17,
   "metadata": {},
   "outputs": [],
   "source": [
    "def test_md_model(model, data, labels):\n",
    "    truepos = 0\n",
    "    preds = []\n",
    "    print('Obtaining Predictions...')\n",
    "    for d, l in tqdm(zip(data, labels)):\n",
    "        pred = model.forward(d)\n",
    "#         print(pred, l)\n",
    "        pred = classify(pred,labels)\n",
    "        preds.append(pred)\n",
    "        if(pred == l):\n",
    "            truepos += 1\n",
    "\n",
    "    accuracy = truepos / len(data)\n",
    "    print('Accuracy:', round(accuracy,2))\n",
    "    \n",
    "    return preds"
   ]
  },
  {
   "cell_type": "markdown",
   "metadata": {},
   "source": [
    "## KNN raw"
   ]
  },
  {
   "cell_type": "code",
   "execution_count": 19,
   "metadata": {
    "scrolled": false
   },
   "outputs": [
    {
     "name": "stderr",
     "output_type": "stream",
     "text": [
      "116it [00:00, 1587.55it/s]"
     ]
    },
    {
     "name": "stdout",
     "output_type": "stream",
     "text": [
      "Obtaining Predictions...\n",
      "Accuracy: 0.98\n"
     ]
    },
    {
     "name": "stderr",
     "output_type": "stream",
     "text": [
      "\n"
     ]
    }
   ],
   "source": [
    "# raw: features\n",
    "# reduced: reduced_init\n",
    "# labels: init_labels\n",
    "# num labels: init_labels_num\n",
    "\n",
    "# raw: test_features\n",
    "# reduced: reduced_test\n",
    "# labels: test_labels\n",
    "# num labels: test_labels_num\n",
    "import knn\n",
    "\n",
    "knn_model = knn.KNN(5, features, init_labels_num)\n",
    "preds = test_md_model(knn_model, test_features, test_labels_num)\n"
   ]
  },
  {
   "cell_type": "code",
   "execution_count": 20,
   "metadata": {},
   "outputs": [
    {
     "name": "stderr",
     "output_type": "stream",
     "text": [
      "116it [00:00, 1704.28it/s]"
     ]
    },
    {
     "name": "stdout",
     "output_type": "stream",
     "text": [
      "Obtaining Predictions...\n",
      "Accuracy: 0.97\n"
     ]
    },
    {
     "name": "stderr",
     "output_type": "stream",
     "text": [
      "\n"
     ]
    }
   ],
   "source": [
    "knn_model = knn.KNN(5, reduced_init, init_labels_num)\n",
    "preds = test_md_model(knn_model, reduced_test, test_labels_num)"
   ]
  },
  {
   "cell_type": "markdown",
   "metadata": {},
   "source": [
    "## KNN w/ GNG"
   ]
  },
  {
   "cell_type": "code",
   "execution_count": 75,
   "metadata": {
    "scrolled": true
   },
   "outputs": [
    {
     "name": "stderr",
     "output_type": "stream",
     "text": [
      "100%|████████████████████████████████████████████████████████████████████████████████████████████████████████████████| 50/50 [00:00<00:00, 2629.20it/s]\n",
      " 28%|██████████████████████████████▋                                                                                | 415/1500 [00:06<00:16, 64.31it/s]\n",
      "100%|████████████████████████████████████████████████████████████████████████████████████████████████████████████████| 50/50 [00:00<00:00, 3009.47it/s]\n",
      "  1%|▊                                                                                                              | 11/1500 [00:00<00:14, 105.67it/s]"
     ]
    },
    {
     "name": "stdout",
     "output_type": "stream",
     "text": [
      "Error target met!\n"
     ]
    },
    {
     "name": "stderr",
     "output_type": "stream",
     "text": [
      " 28%|███████████████████████████████▎                                                                               | 423/1500 [00:06<00:15, 69.95it/s]\n",
      "116it [00:00, 864.89it/s]"
     ]
    },
    {
     "name": "stdout",
     "output_type": "stream",
     "text": [
      "Error target met!\n",
      "Obtaining Predictions...\n",
      "Accuracy: 0.98\n"
     ]
    },
    {
     "name": "stderr",
     "output_type": "stream",
     "text": [
      "\n"
     ]
    }
   ],
   "source": [
    "# raw\n",
    "reload(gng)\n",
    "\n",
    "gng_model_0 = gng.GNG()\n",
    "neurons_0, error_0 = gng_model_0.train(\n",
    "    [img for img,label in zip(features, init_labels_num) if label == 0],\n",
    "                epochs=1500, \n",
    "                learning_b=.5, \n",
    "                learning_n=.01, \n",
    "                age_max=4, \n",
    "                gamma=5,\n",
    "                error_alpha=.1,\n",
    "                error_d=.98,\n",
    "                error_target=35)\n",
    "\n",
    "gng_model_1 = gng.GNG()\n",
    "neurons_1, error_1 = gng_model_1.train(\n",
    "    [img for img,label in zip(features, init_labels_num) if label == 1],\n",
    "                epochs=1500, \n",
    "                learning_b=.5, \n",
    "                learning_n=.01, \n",
    "                age_max=4, \n",
    "                gamma=5,\n",
    "                error_alpha=.1,\n",
    "                error_d=.98,\n",
    "                error_target= 35)\n",
    "\n",
    "gng_combined_x = []\n",
    "gng_combined_y = []\n",
    "for i, cls in enumerate([neurons_0, neurons_1]):\n",
    "    for d in cls:\n",
    "        gng_combined_x.append(d)\n",
    "        gng_combined_y.append(i)\n",
    "gng_combined_x = np.array(gng_combined_x)\n",
    "gng_combined_y = np.array(gng_combined_y)\n",
    "\n",
    "knn_model = knn.KNN(5, gng_combined_x, gng_combined_y)\n",
    "preds = test_md_model(knn_model, test_features, test_labels_num)"
   ]
  },
  {
   "cell_type": "code",
   "execution_count": 77,
   "metadata": {},
   "outputs": [
    {
     "data": {
      "text/plain": [
       "100"
      ]
     },
     "execution_count": 77,
     "metadata": {},
     "output_type": "execute_result"
    }
   ],
   "source": [
    "len(features)"
   ]
  },
  {
   "cell_type": "code",
   "execution_count": 74,
   "metadata": {},
   "outputs": [
    {
     "name": "stderr",
     "output_type": "stream",
     "text": [
      "100%|████████████████████████████████████████████████████████████████████████████████████████████████████████████████| 50/50 [00:00<00:00, 2938.55it/s]\n",
      "  0%|                                                                                                                         | 0/1500 [00:00<?, ?it/s]\n",
      "100%|████████████████████████████████████████████████████████████████████████████████████████████████████████████████| 50/50 [00:00<00:00, 2775.41it/s]\n",
      "  0%|                                                                                                                         | 0/1500 [00:00<?, ?it/s]\n",
      "116it [00:00, 23183.99it/s]"
     ]
    },
    {
     "name": "stdout",
     "output_type": "stream",
     "text": [
      "Error target met!\n",
      "Error target met!\n",
      "Obtaining Predictions...\n",
      "Accuracy: 0.54\n"
     ]
    },
    {
     "name": "stderr",
     "output_type": "stream",
     "text": [
      "\n"
     ]
    }
   ],
   "source": [
    "# reduced\n",
    "reload(gng)\n",
    "\n",
    "gng_model_0 = gng.GNG()\n",
    "neurons_0, error_0 = gng_model_0.train(\n",
    "    [img for img,label in zip(reduced_init, init_labels_num) if label == 0],\n",
    "                epochs=1500, \n",
    "                learning_b=.5, \n",
    "                learning_n=.01, \n",
    "                age_max=4, \n",
    "                gamma=5,\n",
    "                error_alpha=.1,\n",
    "                error_d=.98,\n",
    "                error_target=35)\n",
    "\n",
    "gng_model_1 = gng.GNG()\n",
    "neurons_1, error_1 = gng_model_1.train(\n",
    "    [img for img,label in zip(reduced_init, init_labels_num) if label == 1],\n",
    "                epochs=1500, \n",
    "                learning_b=.5, \n",
    "                learning_n=.01, \n",
    "                age_max=4, \n",
    "                gamma=5,\n",
    "                error_alpha=.1,\n",
    "                error_d=.98,\n",
    "                error_target=35)\n",
    "\n",
    "gng_combined_x = []\n",
    "gng_combined_y = []\n",
    "for i, cls in enumerate([neurons_0, neurons_1]):\n",
    "    for d in cls:\n",
    "        gng_combined_x.append(d)\n",
    "        gng_combined_y.append(i)\n",
    "gng_combined_x = np.array(gng_combined_x)\n",
    "gng_combined_y = np.array(gng_combined_y)\n",
    "\n",
    "knn_model = knn.KNN(5, gng_combined_x, gng_combined_y)\n",
    "preds = test_md_model(knn_model, reduced_test, test_labels_num)"
   ]
  },
  {
   "cell_type": "markdown",
   "metadata": {},
   "source": [
    "## With Benches"
   ]
  },
  {
   "cell_type": "code",
   "execution_count": 21,
   "metadata": {},
   "outputs": [
    {
     "name": "stderr",
     "output_type": "stream",
     "text": [
      "C:\\Users\\jschu\\miniconda3\\envs\\torch\\lib\\site-packages\\ipykernel_launcher.py:11: UserWarning: To copy construct from a tensor, it is recommended to use sourceTensor.clone().detach() or sourceTensor.clone().detach().requires_grad_(True), rather than torch.tensor(sourceTensor).\n",
      "  # This is added back by InteractiveShellApp.init_path()\n"
     ]
    }
   ],
   "source": [
    "exp3_images = []\n",
    "exp3_labels = []\n",
    "# For first 'num_init_dirs' in chipped image directory\n",
    "# Get all chips\n",
    "for d in dirs_stream:\n",
    "    for sub in os.listdir(d):\n",
    "        img   = Image.open(os.path.join(d, sub))\n",
    "        label = sub.split('_')[0]\n",
    "        # debug(label)\n",
    "        if(label == 'human' or label == 'car' or label == 'bench'):\n",
    "            new_img = torch.tensor(torch_trans(img).reshape(3,224,224)).numpy()\n",
    "            exp3_images.append(copy.deepcopy(new_img))\n",
    "            exp3_labels.append(label)"
   ]
  },
  {
   "cell_type": "code",
   "execution_count": 22,
   "metadata": {},
   "outputs": [],
   "source": [
    "# Run through resnet to get features (2048x7x7) (max pooled: 2048)\n",
    "exp3_features = []\n",
    "for img in exp3_images:\n",
    "    feat = torch.squeeze(resnet50_model(torch.tensor(img).unsqueeze(0).to(device)).cpu()).detach().numpy()\n",
    "\n",
    "    # Manual maxpooling\n",
    "    if(False):\n",
    "        vect = []\n",
    "        for grid in feat:\n",
    "            vect.append(np.max(grid))\n",
    "\n",
    "        exp3_features.append( np.array(vect) )\n",
    "    \n",
    "    else:\n",
    "        exp3_features.append(feat)\n",
    "\n",
    "# Reduce features with autoencoder (1x128)\n",
    "exp3_reduced = []\n",
    "for img in exp3_features:\n",
    "    # reshape, put on gpu\n",
    "    img = torch.tensor(img).reshape((1, 2048)).to(device)\n",
    "    # run through ae\n",
    "    img = autoencoder.forward( img )\n",
    "    # detach to cpu, convert to numpy array\n",
    "    img = img.cpu().detach().squeeze(0).numpy()\n",
    "    # Append to data\n",
    "    exp3_reduced.append( copy.deepcopy(img) )\n",
    "exp3_reduced = np.array(exp3_reduced)\n"
   ]
  },
  {
   "cell_type": "code",
   "execution_count": 23,
   "metadata": {},
   "outputs": [
    {
     "data": {
      "text/plain": [
       "{'human': 63, 'car': 53, 'bench': 54}"
      ]
     },
     "execution_count": 23,
     "metadata": {},
     "output_type": "execute_result"
    }
   ],
   "source": [
    "count = {'human':0,'car':0,'bench':0}\n",
    "for lab in exp3_labels:\n",
    "    count[lab] += 1\n",
    "count"
   ]
  },
  {
   "cell_type": "code",
   "execution_count": 24,
   "metadata": {},
   "outputs": [],
   "source": [
    "uniqs = list(set(sorted(exp3_labels)))\n",
    "exp3_labels_num = []\n",
    "for lab in exp3_labels:\n",
    "    exp3_labels_num.append(uniqs.index(lab))"
   ]
  },
  {
   "cell_type": "code",
   "execution_count": 25,
   "metadata": {},
   "outputs": [],
   "source": [
    "training_num = 30\n",
    "exp3_training_x = []\n",
    "exp3_training_x_reduced = []\n",
    "exp3_training_y = []\n",
    "exp3_testing_x  = []\n",
    "exp3_testing_x_reduced  = []\n",
    "exp3_testing_y  = []\n",
    "\n",
    "for x,xred,y in zip(exp3_features, exp3_reduced, exp3_labels_num):\n",
    "    if(len([lab for lab in exp3_training_y if lab == y]) < training_num):\n",
    "        exp3_training_x.append(x)\n",
    "        exp3_training_x_reduced.append(xred)\n",
    "        exp3_training_y.append(y)\n",
    "    else:\n",
    "        exp3_testing_x.append(x)\n",
    "        exp3_testing_x_reduced.append(xred)\n",
    "        exp3_testing_y.append(y)"
   ]
  },
  {
   "cell_type": "code",
   "execution_count": 26,
   "metadata": {},
   "outputs": [
    {
     "name": "stderr",
     "output_type": "stream",
     "text": [
      "80it [00:00, 1567.20it/s]"
     ]
    },
    {
     "name": "stdout",
     "output_type": "stream",
     "text": [
      "Obtaining Predictions...\n",
      "Accuracy: 0.94\n"
     ]
    },
    {
     "name": "stderr",
     "output_type": "stream",
     "text": [
      "\n"
     ]
    }
   ],
   "source": [
    "# raw raw\n",
    "knn_model = knn.KNN(5, exp3_training_x, exp3_training_y)\n",
    "preds = test_md_model(knn_model, exp3_testing_x, exp3_testing_y)"
   ]
  },
  {
   "cell_type": "code",
   "execution_count": 27,
   "metadata": {},
   "outputs": [
    {
     "name": "stderr",
     "output_type": "stream",
     "text": [
      "80it [00:00, 1816.54it/s]"
     ]
    },
    {
     "name": "stdout",
     "output_type": "stream",
     "text": [
      "Obtaining Predictions...\n",
      "Accuracy: 0.9\n"
     ]
    },
    {
     "name": "stderr",
     "output_type": "stream",
     "text": [
      "\n"
     ]
    }
   ],
   "source": [
    "# raw reduced\n",
    "knn_model = knn.KNN(5, exp3_training_x_reduced, exp3_training_y)\n",
    "preds = test_md_model(knn_model, exp3_testing_x_reduced, exp3_testing_y)"
   ]
  },
  {
   "cell_type": "code",
   "execution_count": 46,
   "metadata": {
    "scrolled": true
   },
   "outputs": [
    {
     "name": "stderr",
     "output_type": "stream",
     "text": [
      "100%|████████████████████████████████████████████████████████████████████████████████████████████████████████████████| 30/30 [00:00<00:00, 4995.00it/s]\n",
      " 53%|██████████████████████████████████████████████████████████▌                                                    | 791/1500 [00:16<00:14, 49.02it/s]\n",
      "100%|████████████████████████████████████████████████████████████████████████████████████████████████████████████████| 30/30 [00:00<00:00, 4282.52it/s]\n",
      "  1%|▊                                                                                                              | 11/1500 [00:00<00:14, 102.83it/s]"
     ]
    },
    {
     "name": "stdout",
     "output_type": "stream",
     "text": [
      "Error target met!\n"
     ]
    },
    {
     "name": "stderr",
     "output_type": "stream",
     "text": [
      " 54%|███████████████████████████████████████████████████████████▌                                                   | 805/1500 [00:14<00:12, 55.41it/s]\n",
      "100%|████████████████████████████████████████████████████████████████████████████████████████████████████████████████| 30/30 [00:00<00:00, 3747.03it/s]\n",
      "  1%|▊                                                                                                              | 11/1500 [00:00<00:14, 101.76it/s]"
     ]
    },
    {
     "name": "stdout",
     "output_type": "stream",
     "text": [
      "Error target met!\n"
     ]
    },
    {
     "name": "stderr",
     "output_type": "stream",
     "text": [
      " 52%|█████████████████████████████████████████████████████████▎                                                     | 775/1500 [00:14<00:13, 52.86it/s]\n",
      "33it [00:00, 323.23it/s]"
     ]
    },
    {
     "name": "stdout",
     "output_type": "stream",
     "text": [
      "Error target met!\n",
      "Obtaining Predictions...\n"
     ]
    },
    {
     "name": "stderr",
     "output_type": "stream",
     "text": [
      "80it [00:00, 315.90it/s]"
     ]
    },
    {
     "name": "stdout",
     "output_type": "stream",
     "text": [
      "Accuracy: 1.0\n",
      "Time to complete: 45.60992360115051\n",
      "length neurons: 478\n"
     ]
    },
    {
     "name": "stderr",
     "output_type": "stream",
     "text": [
      "\n"
     ]
    }
   ],
   "source": [
    "# gng raw\n",
    "reload(gng)\n",
    "\n",
    "t0 = time.time()\n",
    "\n",
    "gng_model_0 = gng.GNG()\n",
    "neurons_0, error_0 = gng_model_0.train(\n",
    "    [img for img,label in zip(exp3_training_x, exp3_training_y) if label == 0],\n",
    "                epochs=1500, \n",
    "                learning_b=.5, \n",
    "                learning_n=.01, \n",
    "                age_max=4, \n",
    "                gamma=5,\n",
    "                error_alpha=.1,\n",
    "                error_d=.98,\n",
    "                error_target=.00001)\n",
    "\n",
    "gng_model_1 = gng.GNG()\n",
    "neurons_1, error_1 = gng_model_1.train(\n",
    "    [img for img,label in zip(exp3_training_x, exp3_training_y) if label == 1],\n",
    "                epochs=1500, \n",
    "                learning_b=.5, \n",
    "                learning_n=.01, \n",
    "                age_max=4, \n",
    "                gamma=5,\n",
    "                error_alpha=.1,\n",
    "                error_d=.98,\n",
    "                error_target=.00001)\n",
    "\n",
    "gng_model_2 = gng.GNG()\n",
    "neurons_2, error_2 = gng_model_2.train(\n",
    "    [img for img,label in zip(exp3_training_x, exp3_training_y) if label == 2],\n",
    "                epochs=1500, \n",
    "                learning_b=.5, \n",
    "                learning_n=.01, \n",
    "                age_max=4, \n",
    "                gamma=5,\n",
    "                error_alpha=.1,\n",
    "                error_d=.98,\n",
    "                error_target=.00001)\n",
    "\n",
    "gng_combined_x = []\n",
    "gng_combined_y = []\n",
    "for i, cls in enumerate([neurons_0, neurons_1, neurons_2]):\n",
    "    for d in cls:\n",
    "        gng_combined_x.append(d)\n",
    "        gng_combined_y.append(i)\n",
    "gng_combined_x = np.array(gng_combined_x)\n",
    "gng_combined_y = np.array(gng_combined_y)\n",
    "\n",
    "knn_model = knn.KNN(5, gng_combined_x, gng_combined_y)\n",
    "preds = test_md_model(knn_model, exp3_testing_x, exp3_testing_y)\n",
    "\n",
    "t1 = time.time()\n",
    "print('Time to complete:', t1-t0)\n",
    "print('length neurons:',len(gng_combined_x))"
   ]
  },
  {
   "cell_type": "code",
   "execution_count": 47,
   "metadata": {},
   "outputs": [
    {
     "name": "stderr",
     "output_type": "stream",
     "text": [
      "100%|████████████████████████████████████████████████████████████████████████████████████████████████████████████████| 30/30 [00:00<00:00, 4995.40it/s]\n",
      " 40%|████████████████████████████████████████████                                                                   | 595/1500 [00:11<00:17, 50.70it/s]\n",
      "100%|████████████████████████████████████████████████████████████████████████████████████████████████████████████████| 30/30 [00:00<00:00, 4996.39it/s]\n",
      "  1%|▊                                                                                                              | 11/1500 [00:00<00:14, 102.74it/s]"
     ]
    },
    {
     "name": "stdout",
     "output_type": "stream",
     "text": [
      "Error target met!\n"
     ]
    },
    {
     "name": "stderr",
     "output_type": "stream",
     "text": [
      " 40%|████████████████████████████████████████████▏                                                                  | 597/1500 [00:09<00:15, 60.19it/s]\n",
      "100%|████████████████████████████████████████████████████████████████████████████████████████████████████████████████| 30/30 [00:00<00:00, 4281.65it/s]\n",
      "  1%|▊                                                                                                              | 11/1500 [00:00<00:14, 100.57it/s]"
     ]
    },
    {
     "name": "stdout",
     "output_type": "stream",
     "text": [
      "Error target met!\n"
     ]
    },
    {
     "name": "stderr",
     "output_type": "stream",
     "text": [
      " 39%|███████████████████████████████████████████▎                                                                   | 585/1500 [00:09<00:15, 58.77it/s]\n",
      "80it [00:00, 436.73it/s]"
     ]
    },
    {
     "name": "stdout",
     "output_type": "stream",
     "text": [
      "Error target met!\n",
      "Obtaining Predictions...\n",
      "Accuracy: 0.94\n",
      "Time to complete: 31.82339310646057\n",
      "length neurons: 361\n"
     ]
    },
    {
     "name": "stderr",
     "output_type": "stream",
     "text": [
      "\n"
     ]
    }
   ],
   "source": [
    "# gng reduced\n",
    "reload(gng)\n",
    "\n",
    "t0 = time.time()\n",
    "\n",
    "gng_model_0 = gng.GNG()\n",
    "neurons_0, error_0 = gng_model_0.train(\n",
    "    [img for img,label in zip(exp3_training_x_reduced, exp3_training_y) if label == 0],\n",
    "                epochs=1500, \n",
    "                learning_b=.5, \n",
    "                learning_n=.01, \n",
    "                age_max=4, \n",
    "                gamma=5,\n",
    "                error_alpha=.1,\n",
    "                error_d=.98,\n",
    "                error_target=.00001)\n",
    "\n",
    "gng_model_1 = gng.GNG()\n",
    "neurons_1, error_1 = gng_model_1.train(\n",
    "    [img for img,label in zip(exp3_training_x_reduced, exp3_training_y) if label == 1],\n",
    "                epochs=1500, \n",
    "                learning_b=.5, \n",
    "                learning_n=.01, \n",
    "                age_max=4, \n",
    "                gamma=5,\n",
    "                error_alpha=.1,\n",
    "                error_d=.98,\n",
    "                error_target=.00001)\n",
    "\n",
    "gng_model_2 = gng.GNG()\n",
    "neurons_2, error_2 = gng_model_2.train(\n",
    "    [img for img,label in zip(exp3_training_x_reduced, exp3_training_y) if label == 2],\n",
    "                epochs=1500, \n",
    "                learning_b=.5, \n",
    "                learning_n=.01, \n",
    "                age_max=4, \n",
    "                gamma=5,\n",
    "                error_alpha=.1,\n",
    "                error_d=.98,\n",
    "                error_target=.00001)\n",
    "\n",
    "gng_combined_x = []\n",
    "gng_combined_y = []\n",
    "for i, cls in enumerate([neurons_0, neurons_1, neurons_2]):\n",
    "    for d in cls:\n",
    "        gng_combined_x.append(d)\n",
    "        gng_combined_y.append(i)\n",
    "gng_combined_x = np.array(gng_combined_x)\n",
    "gng_combined_y = np.array(gng_combined_y)\n",
    "\n",
    "knn_model = knn.KNN(5, gng_combined_x, gng_combined_y)\n",
    "preds = test_md_model(knn_model, exp3_testing_x_reduced, exp3_testing_y)\n",
    "\n",
    "t1 = time.time()\n",
    "print('Time to complete:', t1-t0)\n",
    "print('length neurons:',len(gng_combined_x))"
   ]
  },
  {
   "cell_type": "code",
   "execution_count": null,
   "metadata": {},
   "outputs": [],
   "source": []
  }
 ],
 "metadata": {
  "kernelspec": {
   "display_name": "Python 3",
   "language": "python",
   "name": "python3"
  },
  "language_info": {
   "codemirror_mode": {
    "name": "ipython",
    "version": 3
   },
   "file_extension": ".py",
   "mimetype": "text/x-python",
   "name": "python",
   "nbconvert_exporter": "python",
   "pygments_lexer": "ipython3",
   "version": "3.7.9"
  }
 },
 "nbformat": 4,
 "nbformat_minor": 2
}
