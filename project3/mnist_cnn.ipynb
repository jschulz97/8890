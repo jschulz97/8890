{
 "cells": [
  {
   "cell_type": "code",
   "execution_count": 11,
   "metadata": {},
   "outputs": [],
   "source": [
    "import torch\n",
    "from torch import nn\n",
    "import torchvision\n",
    "import torchvision.transforms as transforms\n",
    "import matplotlib.pyplot as plt\n",
    "import numpy as np\n",
    "import torchvision.models as models"
   ]
  },
  {
   "cell_type": "code",
   "execution_count": 16,
   "metadata": {},
   "outputs": [],
   "source": [
    "# Device configuration\n",
    "device = torch.device('cuda:0' if torch.cuda.is_available() else 'cpu')\n",
    "\n",
    "\n",
    "\n",
    "batch_size = 50\n",
    "# Hyper parameters\n",
    "num_epochs = 4\n",
    "num_classes = 10"
   ]
  },
  {
   "cell_type": "code",
   "execution_count": 13,
   "metadata": {},
   "outputs": [],
   "source": [
    "train_dataset = torchvision.datasets.MNIST(root='data',\n",
    "                                           train=True, \n",
    "                                           transform=transforms.ToTensor())\n",
    "\n",
    "test_dataset = torchvision.datasets.MNIST(root='data',\n",
    "                                          train=False, \n",
    "                                          transform=transforms.ToTensor())\n",
    "\n",
    "# Data loader\n",
    "train_loader = torch.utils.data.DataLoader(dataset=train_dataset,\n",
    "                                           batch_size=batch_size, \n",
    "                                           shuffle=True)\n",
    "\n",
    "test_loader = torch.utils.data.DataLoader(dataset=test_dataset,\n",
    "                                          batch_size=batch_size, \n",
    "                                          shuffle=False)"
   ]
  },
  {
   "cell_type": "code",
   "execution_count": 24,
   "metadata": {},
   "outputs": [
    {
     "name": "stdout",
     "output_type": "stream",
     "text": [
      "Epoch [1/4], Step [100/1200], Loss: 0.3148\n",
      "Epoch [1/4], Step [200/1200], Loss: 0.2144\n",
      "Epoch [1/4], Step [300/1200], Loss: 0.1339\n",
      "Epoch [1/4], Step [400/1200], Loss: 0.3035\n",
      "Epoch [1/4], Step [500/1200], Loss: 0.1997\n",
      "Epoch [1/4], Step [600/1200], Loss: 0.1801\n",
      "Epoch [1/4], Step [700/1200], Loss: 0.3041\n",
      "Epoch [1/4], Step [800/1200], Loss: 0.4560\n",
      "Epoch [1/4], Step [900/1200], Loss: 0.4571\n",
      "Epoch [1/4], Step [1000/1200], Loss: 0.1497\n",
      "Epoch [1/4], Step [1100/1200], Loss: 0.1456\n",
      "Epoch [1/4], Step [1200/1200], Loss: 0.2124\n",
      "Epoch [2/4], Step [100/1200], Loss: 0.0563\n",
      "Epoch [2/4], Step [200/1200], Loss: 0.1345\n",
      "Epoch [2/4], Step [300/1200], Loss: 0.2947\n",
      "Epoch [2/4], Step [400/1200], Loss: 0.1125\n",
      "Epoch [2/4], Step [500/1200], Loss: 0.0056\n",
      "Epoch [2/4], Step [600/1200], Loss: 0.0110\n",
      "Epoch [2/4], Step [700/1200], Loss: 0.0572\n",
      "Epoch [2/4], Step [800/1200], Loss: 0.1451\n",
      "Epoch [2/4], Step [900/1200], Loss: 0.1219\n",
      "Epoch [2/4], Step [1000/1200], Loss: 0.1343\n",
      "Epoch [2/4], Step [1100/1200], Loss: 0.1888\n",
      "Epoch [2/4], Step [1200/1200], Loss: 0.0074\n",
      "Epoch [3/4], Step [100/1200], Loss: 0.0226\n",
      "Epoch [3/4], Step [200/1200], Loss: 0.0186\n",
      "Epoch [3/4], Step [300/1200], Loss: 0.1776\n",
      "Epoch [3/4], Step [400/1200], Loss: 0.3344\n",
      "Epoch [3/4], Step [500/1200], Loss: 0.1485\n",
      "Epoch [3/4], Step [600/1200], Loss: 0.0341\n",
      "Epoch [3/4], Step [700/1200], Loss: 0.0556\n",
      "Epoch [3/4], Step [800/1200], Loss: 0.0050\n",
      "Epoch [3/4], Step [900/1200], Loss: 0.1389\n",
      "Epoch [3/4], Step [1000/1200], Loss: 0.0187\n",
      "Epoch [3/4], Step [1100/1200], Loss: 0.1855\n",
      "Epoch [3/4], Step [1200/1200], Loss: 0.0631\n",
      "Epoch [4/4], Step [100/1200], Loss: 0.0266\n",
      "Epoch [4/4], Step [200/1200], Loss: 0.0421\n",
      "Epoch [4/4], Step [300/1200], Loss: 0.7216\n",
      "Epoch [4/4], Step [400/1200], Loss: 0.0067\n",
      "Epoch [4/4], Step [500/1200], Loss: 0.1119\n",
      "Epoch [4/4], Step [600/1200], Loss: 0.1157\n",
      "Epoch [4/4], Step [700/1200], Loss: 0.0015\n",
      "Epoch [4/4], Step [800/1200], Loss: 0.1215\n",
      "Epoch [4/4], Step [900/1200], Loss: 0.0547\n",
      "Epoch [4/4], Step [1000/1200], Loss: 0.0091\n",
      "Epoch [4/4], Step [1100/1200], Loss: 0.0467\n",
      "Epoch [4/4], Step [1200/1200], Loss: 0.2550\n"
     ]
    }
   ],
   "source": [
    "resnet50 = models.resnet50()\n",
    "\n",
    "# Loss and optimizer\n",
    "criterion = nn.CrossEntropyLoss()\n",
    "optimizer = torch.optim.Adam(resnet50.parameters(), lr=.001)\n",
    "\n",
    "resnet50 = resnet50.to(device)\n",
    "\n",
    "# Train the model\n",
    "total_step = len(train_loader)\n",
    "for epoch in range(num_epochs):\n",
    "    for i, (images, labels) in enumerate(train_loader):\n",
    "        new_images = np.zeros((50,3,28,28))\n",
    "        new_images[:,0:] = images \n",
    "        \n",
    "        new_images = torch.FloatTensor(new_images).to(device)\n",
    "        labels = labels.to(device)\n",
    "        \n",
    "        \n",
    "        \n",
    "        # Forward pass\n",
    "        outputs = resnet50(new_images)\n",
    "        loss = criterion(outputs, labels)\n",
    "        \n",
    "        # Backward and optimize\n",
    "        optimizer.zero_grad()\n",
    "        loss.backward()\n",
    "        optimizer.step()\n",
    "        \n",
    "        if (i+1) % 100 == 0:\n",
    "            print ('Epoch [{}/{}], Step [{}/{}], Loss: {:.4f}' \n",
    "                   .format(epoch+1, num_epochs, i+1, total_step, loss.item()))"
   ]
  },
  {
   "cell_type": "code",
   "execution_count": 26,
   "metadata": {},
   "outputs": [
    {
     "name": "stdout",
     "output_type": "stream",
     "text": [
      "Test Accuracy of the model on the 10000 test images: 98.49 %\n"
     ]
    }
   ],
   "source": [
    "# Test the model\n",
    "resnet50.eval()  # eval mode (batchnorm uses moving mean/variance instead of mini-batch mean/variance)\n",
    "with torch.no_grad():\n",
    "    correct = 0\n",
    "    total = 0\n",
    "    for images, labels in test_loader:\n",
    "        new_images = np.zeros((50,3,28,28))\n",
    "        new_images[:,0:] = images \n",
    "        \n",
    "        new_images = torch.FloatTensor(new_images).to(device)\n",
    "        labels = labels.to(device)\n",
    "        \n",
    "        outputs = resnet50(new_images.squeeze())\n",
    "        _, predicted = torch.max(outputs.data, 1)\n",
    "        total += labels.size(0)\n",
    "        correct += (predicted == labels).sum().item()\n",
    "\n",
    "    print('Test Accuracy of the model on the 10000 test images: {} %'.format(100 * correct / total))"
   ]
  },
  {
   "cell_type": "code",
   "execution_count": null,
   "metadata": {},
   "outputs": [],
   "source": []
  }
 ],
 "metadata": {
  "kernelspec": {
   "display_name": "Python 3",
   "language": "python",
   "name": "python3"
  },
  "language_info": {
   "codemirror_mode": {
    "name": "ipython",
    "version": 3
   },
   "file_extension": ".py",
   "mimetype": "text/x-python",
   "name": "python",
   "nbconvert_exporter": "python",
   "pygments_lexer": "ipython3",
   "version": "3.7.9"
  }
 },
 "nbformat": 4,
 "nbformat_minor": 4
}
