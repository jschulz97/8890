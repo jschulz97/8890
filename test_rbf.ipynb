{
 "metadata": {
  "language_info": {
   "codemirror_mode": {
    "name": "ipython",
    "version": 3
   },
   "file_extension": ".py",
   "mimetype": "text/x-python",
   "name": "python",
   "nbconvert_exporter": "python",
   "pygments_lexer": "ipython3",
   "version": "3.7.9-final"
  },
  "orig_nbformat": 2,
  "kernelspec": {
   "name": "python3",
   "display_name": "Python 3",
   "language": "python"
  }
 },
 "nbformat": 4,
 "nbformat_minor": 2,
 "cells": [
  {
   "cell_type": "code",
   "execution_count": null,
   "metadata": {},
   "outputs": [],
   "source": [
    "import numpy as np\n",
    "import pickle\n",
    "import matplotlib\n",
    "import matplotlib.pyplot as plt\n",
    "import sys\n",
    "import os\n",
    "import random\n",
    "from importlib import reload\n",
    "from tqdm import tqdm\n",
    "import copy"
   ]
  },
  {
   "source": [
    "# Generate Data"
   ],
   "cell_type": "markdown",
   "metadata": {}
  },
  {
   "cell_type": "code",
   "execution_count": null,
   "metadata": {},
   "outputs": [],
   "source": [
    "# make data - using uniform dist and ranges\n",
    "def generate_data(data_ranges, length, epsilon=0.0):\n",
    "    # get max dims\n",
    "    dims_x = [np.inf, -np.inf]\n",
    "    dims_y = [np.inf, -np.inf]\n",
    "    for clus in data_ranges:\n",
    "        if(clus[0][0] < dims_x[0]):\n",
    "            dims_x[0] = clus[0][0]\n",
    "        if(clus[0][1] > dims_x[1]):\n",
    "            dims_x[1] = clus[0][1]\n",
    "        if(clus[1][0] < dims_y[0]):\n",
    "            dims_y[0] = clus[1][0]\n",
    "        if(clus[1][1] > dims_y[1]):\n",
    "            dims_y[1] = clus[1][1]\n",
    "\n",
    "    # generate\n",
    "    data = np.zeros((1,2))\n",
    "    labels = []\n",
    "    for i,clus in enumerate(data_ranges):\n",
    "        for j in range(length):\n",
    "            if(np.random.rand() >= epsilon):\n",
    "                data = np.append(data, [[\n",
    "                    np.random.uniform(clus[0][0], clus[0][1]),\n",
    "                    np.random.uniform(clus[1][0], clus[1][1]),\n",
    "                ]], axis=0)\n",
    "                labels.append(i)\n",
    "            else:\n",
    "                data = np.append(data, [[\n",
    "                    np.random.uniform(dims_x[0], dims_x[1]),\n",
    "                    np.random.uniform(dims_y[0], dims_y[1])\n",
    "                ]], axis=0)\n",
    "                labels.append(9)\n",
    "\n",
    "    data = data[1:]\n",
    "\n",
    "    return data, labels"
   ]
  },
  {
   "cell_type": "code",
   "execution_count": null,
   "metadata": {},
   "outputs": [],
   "source": [
    "# Split data for display - plt\n",
    "def split_data(data, labels):\n",
    "    data_sep = []\n",
    "    uniq_labels = list(set(sorted(labels)))\n",
    "    for cl in uniq_labels:\n",
    "        data_class = np.zeros((1,2))\n",
    "        for i,lab in enumerate(labels):\n",
    "            if(cl == lab):\n",
    "                data_class = np.append(data_class, [data[i]], axis=0)\n",
    "        data_class = data_class[1:]\n",
    "        data_sep.append(data_class)\n",
    "    return data_sep, uniq_labels"
   ]
  },
  {
   "cell_type": "code",
   "execution_count": null,
   "metadata": {},
   "outputs": [],
   "source": [
    "# graph separated data w/ plt\n",
    "def plt_graph_sep_data(data):\n",
    "    fig, ax = plt.subplots()\n",
    "    for cl in data:\n",
    "        ax.scatter(cl[:,0], cl[:,1])\n",
    "    plt.show()"
   ]
  },
  {
   "cell_type": "code",
   "execution_count": null,
   "metadata": {},
   "outputs": [],
   "source": [
    "def expand_labels(labels):\n",
    "    uniqs = list(set(sorted(labels)))\n",
    "    expanded = []\n",
    "    for lab in labels:\n",
    "        new_exp = [0] * len(uniqs)\n",
    "        new_exp[uniqs.index(lab)] = 1\n",
    "        expanded.append(new_exp)\n",
    "    return expanded"
   ]
  },
  {
   "cell_type": "code",
   "execution_count": null,
   "metadata": {},
   "outputs": [],
   "source": [
    "data_ranges = [\n",
    "    [ [-14.0, -2.0], [6.0, 16.0] ],\n",
    "    [ [2.0, 15.0],   [-8.0, 6.0] ],\n",
    "    [ [-12.0, -4.0], [-14.0, -6.0] ]\n",
    "]\n",
    "data, labels = generate_data(data_ranges, length=100)"
   ]
  },
  {
   "source": [
    "# Train RBN"
   ],
   "cell_type": "markdown",
   "metadata": {}
  },
  {
   "cell_type": "code",
   "execution_count": null,
   "metadata": {},
   "outputs": [],
   "source": [
    "labels_expand = expand_labels(labels)"
   ]
  },
  {
   "cell_type": "code",
   "execution_count": null,
   "metadata": {
    "tags": []
   },
   "outputs": [],
   "source": [
    "import rbn\n",
    "reload(rbn)\n",
    "\n",
    "rbnetwork = rbn.RBN(k=50, outputs=1)\n",
    "error, centers = rbnetwork.train(data, labels, alpha=50e-1, epochs=600, batch_size=100, error_target=.00005)\n",
    "\n",
    "# rbnetwork = rbn.RBN(k=50, outputs=3)\n",
    "# error = rbnetwork.train(data, labels_expand, alpha=1e-1, epochs=500, batch_size=100, error_target=1e-2)"
   ]
  },
  {
   "cell_type": "code",
   "execution_count": null,
   "metadata": {},
   "outputs": [],
   "source": [
    "fig, ax = plt.subplots()\n",
    "ax.plot(error)"
   ]
  },
  {
   "source": [
    "# Test RBN (resub)"
   ],
   "cell_type": "markdown",
   "metadata": {}
  },
  {
   "cell_type": "code",
   "execution_count": null,
   "metadata": {},
   "outputs": [],
   "source": [
    "# new_data = np.array([*data[0:2], *data[100:102], *data[200:202]])\n",
    "# print(new_data.shape)\n",
    "truepos = 0\n",
    "preds = []\n",
    "for d, l in zip(data, labels):\n",
    "    pred = rbnetwork.forward(d)\n",
    "    pred = round(pred[0][0])\n",
    "    preds.append(pred)\n",
    "    if(pred == l):\n",
    "        truepos += 1\n",
    "\n",
    "accuracy = truepos / len(data)\n",
    "print('Accuracy:', round(accuracy,2))"
   ]
  },
  {
   "cell_type": "code",
   "execution_count": null,
   "metadata": {},
   "outputs": [],
   "source": [
    "data_sep, uniq_labels = split_data(data, preds)\n",
    "data_sep.append(centers)\n",
    "plt_graph_sep_data(data_sep)"
   ]
  },
  {
   "source": [
    "# Test kmeans"
   ],
   "cell_type": "markdown",
   "metadata": {}
  },
  {
   "cell_type": "code",
   "execution_count": null,
   "metadata": {},
   "outputs": [],
   "source": [
    "import kmeans\n",
    "reload(kmeans)\n",
    "\n",
    "km = kmeans.KMeans(k=100)\n",
    "centers = km(data, eta=.1, error_target=.001)\n",
    "\n",
    "fig, ax = plt.subplots()\n",
    "ax.scatter(data[:,0], data[:,1])\n",
    "for cen in centers:\n",
    "    ax.scatter(*cen)"
   ]
  },
  {
   "cell_type": "code",
   "execution_count": null,
   "metadata": {},
   "outputs": [],
   "source": []
  }
 ]
}