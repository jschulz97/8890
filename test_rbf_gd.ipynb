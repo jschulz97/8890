{
 "cells": [
  {
   "cell_type": "code",
   "execution_count": 1,
   "metadata": {},
   "outputs": [],
   "source": [
    "import numpy as np\n",
    "import pickle\n",
    "import matplotlib\n",
    "import matplotlib.pyplot as plt\n",
    "from matplotlib import cm\n",
    "import sys\n",
    "import os\n",
    "import random\n",
    "from importlib import reload\n",
    "from tqdm import tqdm\n",
    "import copy"
   ]
  },
  {
   "cell_type": "markdown",
   "metadata": {},
   "source": [
    "# Generate Data"
   ]
  },
  {
   "cell_type": "code",
   "execution_count": 2,
   "metadata": {},
   "outputs": [],
   "source": [
    "# make data - using uniform dist and ranges\n",
    "def generate_data(data_ranges, length, epsilon=0.0):\n",
    "    # get max dims\n",
    "    dims_x = [np.inf, -np.inf]\n",
    "    dims_y = [np.inf, -np.inf]\n",
    "    for clus in data_ranges:\n",
    "        if(clus[0][0] < dims_x[0]):\n",
    "            dims_x[0] = clus[0][0]\n",
    "        if(clus[0][1] > dims_x[1]):\n",
    "            dims_x[1] = clus[0][1]\n",
    "        if(clus[1][0] < dims_y[0]):\n",
    "            dims_y[0] = clus[1][0]\n",
    "        if(clus[1][1] > dims_y[1]):\n",
    "            dims_y[1] = clus[1][1]\n",
    "\n",
    "    # generate\n",
    "    data = np.zeros((1,2))\n",
    "    labels = []\n",
    "    for i,clus in enumerate(data_ranges):\n",
    "        for j in range(length):\n",
    "            if(np.random.rand() >= epsilon):\n",
    "                data = np.append(data, [[\n",
    "                    np.random.uniform(clus[0][0], clus[0][1]),\n",
    "                    np.random.uniform(clus[1][0], clus[1][1]),\n",
    "                ]], axis=0)\n",
    "                labels.append(i)\n",
    "            else:\n",
    "                data = np.append(data, [[\n",
    "                    np.random.uniform(dims_x[0], dims_x[1]),\n",
    "                    np.random.uniform(dims_y[0], dims_y[1])\n",
    "                ]], axis=0)\n",
    "                labels.append(9)\n",
    "\n",
    "    data = data[1:]\n",
    "\n",
    "    return data, labels"
   ]
  },
  {
   "cell_type": "code",
   "execution_count": 3,
   "metadata": {},
   "outputs": [],
   "source": [
    "# Split data for display - plt\n",
    "def split_data(data, labels):\n",
    "    data_sep = []\n",
    "    uniq_labels = list(set(sorted(labels)))\n",
    "    for cl in uniq_labels:\n",
    "        data_class = np.zeros((1,2))\n",
    "        for i,lab in enumerate(labels):\n",
    "            if(cl == lab):\n",
    "                data_class = np.append(data_class, [data[i]], axis=0)\n",
    "        data_class = data_class[1:]\n",
    "        data_sep.append(data_class)\n",
    "    return data_sep, uniq_labels"
   ]
  },
  {
   "cell_type": "code",
   "execution_count": 4,
   "metadata": {},
   "outputs": [],
   "source": [
    "# graph separated data w/ plt\n",
    "def plt_graph_sep_data(data):\n",
    "    fig, ax = plt.subplots()\n",
    "    for cl in data:\n",
    "        ax.scatter(cl[:,0], cl[:,1])\n",
    "    plt.show()"
   ]
  },
  {
   "cell_type": "code",
   "execution_count": 5,
   "metadata": {},
   "outputs": [],
   "source": [
    "def expand_labels(labels):\n",
    "    uniqs = list(set(sorted(labels)))\n",
    "    expanded = []\n",
    "    for lab in labels:\n",
    "        new_exp = [0] * len(uniqs)\n",
    "        new_exp[uniqs.index(lab)] = 1\n",
    "        expanded.append(new_exp)\n",
    "    return expanded"
   ]
  },
  {
   "cell_type": "code",
   "execution_count": 6,
   "metadata": {},
   "outputs": [],
   "source": [
    "data_ranges = [\n",
    "    [ [-14.0, -2.0], [6.0, 16.0] ],\n",
    "    [ [2.0, 15.0],   [-8.0, 6.0] ],\n",
    "    [ [-12.0, -4.0], [-14.0, -6.0] ]\n",
    "]\n",
    "data, labels = generate_data(data_ranges, length=500)"
   ]
  },
  {
   "cell_type": "markdown",
   "metadata": {},
   "source": [
    "# Train RBN (Gradient Descent)"
   ]
  },
  {
   "cell_type": "code",
   "execution_count": 7,
   "metadata": {},
   "outputs": [],
   "source": [
    "labels_expand = expand_labels(labels)"
   ]
  },
  {
   "cell_type": "code",
   "execution_count": 8,
   "metadata": {
    "tags": []
   },
   "outputs": [
    {
     "data": {
      "image/png": "[encoded data removed]",
      "text/plain": [
       "<Figure size 432x288 with 1 Axes>"
      ]
     },
     "metadata": {
      "needs_background": "light"
     },
     "output_type": "display_data"
    },
    {
     "name": "stderr",
     "output_type": "stream",
     "text": [
      "  0%|                                                                                          | 0/500 [00:00<?, ?it/s]\n"
     ]
    },
    {
     "ename": "TypeError",
     "evalue": "backward() got multiple values for argument 'alpha'",
     "output_type": "error",
     "traceback": [
      "\u001b[1;31m---------------------------------------------------------------------------\u001b[0m",
      "\u001b[1;31mTypeError\u001b[0m                                 Traceback (most recent call last)",
      "\u001b[1;32m<ipython-input-8-be90adb8bd8f>\u001b[0m in \u001b[0;36m<module>\u001b[1;34m()\u001b[0m\n\u001b[0;32m     10\u001b[0m     \u001b[0mbatch_size\u001b[0m\u001b[1;33m=\u001b[0m\u001b[1;36m200\u001b[0m\u001b[1;33m,\u001b[0m\u001b[1;33m\u001b[0m\u001b[1;33m\u001b[0m\u001b[0m\n\u001b[0;32m     11\u001b[0m     \u001b[0mdw_target\u001b[0m\u001b[1;33m=\u001b[0m\u001b[1;36m.001\u001b[0m\u001b[1;33m,\u001b[0m\u001b[1;33m\u001b[0m\u001b[1;33m\u001b[0m\u001b[0m\n\u001b[1;32m---> 12\u001b[1;33m     \u001b[0msave_config\u001b[0m\u001b[1;33m=\u001b[0m\u001b[1;32mTrue\u001b[0m\u001b[1;33m\u001b[0m\u001b[1;33m\u001b[0m\u001b[0m\n\u001b[0m\u001b[0;32m     13\u001b[0m )\n\u001b[0;32m     14\u001b[0m \u001b[1;33m\u001b[0m\u001b[0m\n",
      "\u001b[1;32mZ:\\storage\\Code\\8890\\rbn_gd.py\u001b[0m in \u001b[0;36mtrain\u001b[1;34m(self, data, labels, alpha, epochs, batch_size, dw_target, save_config)\u001b[0m\n\u001b[0;32m    207\u001b[0m \u001b[1;33m\u001b[0m\u001b[0m\n\u001b[0;32m    208\u001b[0m                 \u001b[1;31m# backward\u001b[0m\u001b[1;33m\u001b[0m\u001b[1;33m\u001b[0m\u001b[1;33m\u001b[0m\u001b[0m\n\u001b[1;32m--> 209\u001b[1;33m                 \u001b[0merror\u001b[0m \u001b[1;33m=\u001b[0m \u001b[0mself\u001b[0m\u001b[1;33m.\u001b[0m\u001b[0mbackward\u001b[0m\u001b[1;33m(\u001b[0m\u001b[0mx\u001b[0m\u001b[1;33m,\u001b[0m \u001b[0moutput\u001b[0m\u001b[1;33m,\u001b[0m \u001b[0my\u001b[0m\u001b[1;33m,\u001b[0m \u001b[0mcov\u001b[0m\u001b[1;33m,\u001b[0m \u001b[0malpha\u001b[0m\u001b[1;33m=\u001b[0m\u001b[0malpha\u001b[0m\u001b[1;33m)\u001b[0m\u001b[1;33m\u001b[0m\u001b[1;33m\u001b[0m\u001b[0m\n\u001b[0m\u001b[0;32m    210\u001b[0m                 \u001b[0mbatch_error\u001b[0m\u001b[1;33m.\u001b[0m\u001b[0mappend\u001b[0m\u001b[1;33m(\u001b[0m \u001b[0merror\u001b[0m \u001b[1;33m)\u001b[0m\u001b[1;33m\u001b[0m\u001b[1;33m\u001b[0m\u001b[0m\n\u001b[0;32m    211\u001b[0m \u001b[1;33m\u001b[0m\u001b[0m\n",
      "\u001b[1;31mTypeError\u001b[0m: backward() got multiple values for argument 'alpha'"
     ]
    }
   ],
   "source": [
    "import rbn_gd\n",
    "reload(rbn_gd)\n",
    "\n",
    "rbnetwork = rbn_gd.RBN(k=100, outputs=1)\n",
    "error, centers = rbnetwork.train(\n",
    "    data, \n",
    "    labels, \n",
    "    alpha=1e-2, \n",
    "    epochs=500, \n",
    "    batch_size=200, \n",
    "    dw_target=.001,\n",
    "    save_config=True\n",
    ")\n",
    "\n",
    "# rbnetwork = rbn.RBN(k=50, outputs=3)\n",
    "# error = rbnetwork.train(data, labels_expand, alpha=1e-1, epochs=500, batch_size=100, error_target=1e-2)"
   ]
  },
  {
   "cell_type": "code",
   "execution_count": null,
   "metadata": {},
   "outputs": [],
   "source": [
    "fig, ax = plt.subplots()\n",
    "ax.plot(error)"
   ]
  },
  {
   "cell_type": "markdown",
   "metadata": {},
   "source": [
    "# Test RBN (resub)"
   ]
  },
  {
   "cell_type": "code",
   "execution_count": null,
   "metadata": {},
   "outputs": [],
   "source": [
    "def classify(pred, labels):\n",
    "    uniqs = list(set(sorted(labels)))\n",
    "    min_d = np.inf\n",
    "    min_i = 0\n",
    "    for i,l in enumerate(uniqs):\n",
    "        dis = abs(pred - l)\n",
    "        if(dis < min_d):\n",
    "            min_d = dis\n",
    "            min_i = i\n",
    "    return uniqs[min_i]"
   ]
  },
  {
   "cell_type": "code",
   "execution_count": null,
   "metadata": {},
   "outputs": [],
   "source": [
    "def test_model(model, data, labels, centers):\n",
    "    # new_data = np.array([*data[0:2], *data[100:102], *data[200:202]])\n",
    "    # print(new_data.shape)\n",
    "    truepos = 0\n",
    "    preds = []\n",
    "    for d, l in zip(data, labels):\n",
    "        pred = model.forward(d)\n",
    "        pred = classify(pred,labels)\n",
    "        preds.append(pred)\n",
    "        if(pred == l):\n",
    "            truepos += 1\n",
    "\n",
    "    accuracy = truepos / len(data)\n",
    "    print('Accuracy:', round(accuracy,2))\n",
    "    \n",
    "    data_sep, uniq_labels = split_data(data, preds)\n",
    "    data_sep.append(centers)\n",
    "    plt_graph_sep_data(data_sep)"
   ]
  },
  {
   "cell_type": "markdown",
   "metadata": {},
   "source": [
    "# Grid search to map space"
   ]
  },
  {
   "cell_type": "code",
   "execution_count": null,
   "metadata": {},
   "outputs": [],
   "source": [
    "def grid_search(data, model, step=.5):\n",
    "    # generate data\n",
    "    x = np.arange(min(data[:,0])-4, max(data[:,0]), step)\n",
    "    y = np.arange(min(data[:,1]), max(data[:,1]), step)\n",
    "\n",
    "    # grid_xy = np.zeros((len(x), len(x)))\n",
    "    xy_data  = []\n",
    "    xy_preds = []\n",
    "    z_data   = np.zeros((len(x), len(y)))\n",
    "    for i in tqdm(range(len(x))):\n",
    "        for j in range(len(y)):\n",
    "            pred = model.forward([x[i], y[j]])\n",
    "            z    = copy.deepcopy(pred)\n",
    "            pred = classify(pred,labels)\n",
    "            xy_data.append([x[i], y[j]])\n",
    "            xy_preds.append(pred)\n",
    "            z_data[i,j] = z\n",
    "    \n",
    "    # predict on grid\n",
    "    xy_sep, xy_uniq_labels = split_data(xy_data, xy_preds)\n",
    "    plt_graph_sep_data(xy_sep)\n",
    "    \n",
    "    # Plot surface - raw predictions\n",
    "    fig = plt.figure()\n",
    "    ax = fig.add_subplot(111, projection='3d')\n",
    "    xy_data, xy_preds, z_data = np.array(xy_data), np.array(xy_preds), np.array(z_data)\n",
    "    Y, X = np.meshgrid(y, x)\n",
    "    ax.plot_surface(X, Y, z_data, cmap=cm.coolwarm)\n",
    "    plt.show()"
   ]
  },
  {
   "cell_type": "markdown",
   "metadata": {},
   "source": [
    "# Test kmeans"
   ]
  },
  {
   "cell_type": "code",
   "execution_count": null,
   "metadata": {},
   "outputs": [],
   "source": [
    "import kmeans\n",
    "reload(kmeans)\n",
    "\n",
    "km = kmeans.KMeans(k=100)\n",
    "centers = km(data, eta=.1, error_target=.001)\n",
    "\n",
    "fig, ax = plt.subplots()\n",
    "ax.scatter(data[:,0], data[:,1])\n",
    "for cen in centers:\n",
    "    ax.scatter(*cen)"
   ]
  },
  {
   "cell_type": "code",
   "execution_count": null,
   "metadata": {},
   "outputs": [],
   "source": []
  }
 ],
 "metadata": {
  "kernelspec": {
   "display_name": "Python 3",
   "language": "python",
   "name": "python3"
  },
  "language_info": {
   "codemirror_mode": {
    "name": "ipython",
    "version": 3
   },
   "file_extension": ".py",
   "mimetype": "text/x-python",
   "name": "python",
   "nbconvert_exporter": "python",
   "pygments_lexer": "ipython3",
   "version": "3.7.9"
  }
 },
 "nbformat": 4,
 "nbformat_minor": 2
}
