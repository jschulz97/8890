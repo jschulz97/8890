{
 "cells": [
  {
   "cell_type": "code",
   "execution_count": 36,
   "metadata": {},
   "outputs": [],
   "source": [
    "import pandas as pd"
   ]
  },
  {
   "cell_type": "code",
   "execution_count": 37,
   "metadata": {},
   "outputs": [],
   "source": [
    "master_df = pd.DataFrame()\n",
    "master_dict = dict()"
   ]
  },
  {
   "cell_type": "code",
   "execution_count": 38,
   "metadata": {},
   "outputs": [],
   "source": [
    "for i in range(1,71): \n",
    "    df = pd.read_csv('data/diabetes/data-'+str(i).zfill(2), sep='\\t', header=None)\n",
    "    for i,row in df.iterrows():\n",
    "        try:\n",
    "            master_dict[row[2]].append(row[3])\n",
    "        except:\n",
    "            master_dict[row[2]] = [row[3]]"
   ]
  },
  {
   "cell_type": "code",
   "execution_count": 39,
   "metadata": {},
   "outputs": [
    {
     "name": "stdout",
     "output_type": "stream",
     "text": [
      "58 3518\n",
      "33 9518\n",
      "34 3830\n",
      "62 3160\n",
      "48 1883\n",
      "65 331\n",
      "60 2771\n",
      "35 1053\n",
      "56 119\n",
      "64 904\n",
      "61 66\n",
      "67 326\n",
      "63 219\n",
      "57 990\n",
      "72 94\n",
      "68 34\n",
      "69 68\n",
      "59 20\n",
      "71 98\n",
      "70 139\n",
      "66 154\n",
      "4 1\n",
      "36 1\n",
      "0 33\n"
     ]
    }
   ],
   "source": [
    "for cls in master_dict.keys():\n",
    "    print(cls,len(master_dict[cls]))"
   ]
  },
  {
   "cell_type": "code",
   "execution_count": 19,
   "metadata": {},
   "outputs": [
    {
     "data": {
      "text/plain": [
       "58"
      ]
     },
     "execution_count": 19,
     "metadata": {},
     "output_type": "execute_result"
    }
   ],
   "source": [
    "df = pd.read_csv('data/diabetes/data-01', sep='\\t', header=None)\n",
    "df.head(5)\n",
    "df[2][0]"
   ]
  },
  {
   "cell_type": "code",
   "execution_count": 40,
   "metadata": {},
   "outputs": [],
   "source": [
    "import pickle"
   ]
  },
  {
   "cell_type": "code",
   "execution_count": 43,
   "metadata": {},
   "outputs": [],
   "source": [
    "with open('data/diabetes.pkl', 'wb') as file:\n",
    "    pickle.dump(master_dict, file)"
   ]
  },
  {
   "cell_type": "code",
   "execution_count": 44,
   "metadata": {},
   "outputs": [],
   "source": [
    "with open('data/diabetes.pkl', 'rb') as file:\n",
    "    test_dict = pickle.load(file)"
   ]
  },
  {
   "cell_type": "code",
   "execution_count": null,
   "metadata": {},
   "outputs": [],
   "source": []
  }
 ],
 "metadata": {
  "kernelspec": {
   "display_name": "Python 3",
   "language": "python",
   "name": "python3"
  },
  "language_info": {
   "codemirror_mode": {
    "name": "ipython",
    "version": 3
   },
   "file_extension": ".py",
   "mimetype": "text/x-python",
   "name": "python",
   "nbconvert_exporter": "python",
   "pygments_lexer": "ipython3",
   "version": "3.7.9"
  }
 },
 "nbformat": 4,
 "nbformat_minor": 4
}
